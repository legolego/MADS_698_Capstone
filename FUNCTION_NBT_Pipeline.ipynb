{
 "cells": [
  {
   "cell_type": "markdown",
   "source": "# Next Big Thing Pipeline (via a function)",
   "metadata": {
    "tags": [],
    "cell_id": "57bfd70c-7bc7-4623-9958-9718e9420ef0",
    "deepnote_cell_type": "markdown",
    "deepnote_cell_height": 82
   }
  },
  {
   "cell_type": "markdown",
   "source": "### Imports",
   "metadata": {
    "cell_id": "a92118b43a104aab8442bd34b39aec59",
    "tags": [],
    "deepnote_cell_type": "markdown",
    "deepnote_cell_height": 62
   }
  },
  {
   "cell_type": "code",
   "metadata": {
    "cell_id": "ed9760c0ccbf43f08ff67318d1bb3254",
    "tags": [],
    "deepnote_cell_type": "code",
    "deepnote_cell_height": 408
   },
   "source": "# Standard Python Library Imports\nimport importlib\nimport import_ipynb\nfrom datetime import date, timedelta\n\n# Imports from Next Big Thing Jupyter Notebooks\n#Find Category\nimport Step1_Find_Category_From_Thing as fcat\n\n#Find subreddits\nimport Step2_Find_Subreddits as fsub\n\n#Find influencers\nimport Step3_Find_Influencers as finf\n\n#Find relevant influencer posts\nimport Step4_Find_Influencer_Relevant_Posts as fposts\n\n#Create CRF model to find new terms in unseen Reddit posts\nimport Step5_CRF_Find_New_Terms as crfnt",
   "execution_count": null,
   "outputs": []
  },
  {
   "cell_type": "markdown",
   "source": "### Next Big Thing Function",
   "metadata": {
    "cell_id": "b39cf7b871cb48738d9ba68bd6d3601a",
    "tags": [],
    "deepnote_cell_type": "markdown",
    "deepnote_cell_height": 62
   }
  },
  {
   "cell_type": "code",
   "metadata": {
    "tags": [],
    "deepnote_to_be_reexecuted": false,
    "source_hash": "f7c69418",
    "execution_start": 1650197759625,
    "execution_millis": 136,
    "cell_id": "00002-a3a05051-eb0a-446a-9113-0cfd7a2cb423",
    "deepnote_cell_type": "code",
    "deepnote_cell_height": 1017
   },
   "source": "def find_next_big_thing(term, mvp_flag, num_subreddits=10, min_subreddit_subscribers=20000, \n                        num_submissions=50, num_influencers=5, min_occur=2, max_com=0, \n                        load_subm=False, equal_sub=True, per_author_limit=500, post_limit=10000,\n                        num_days=30):\n    ''' This function finds entities found in Reddit posts (submissions and comments) that are \n        in the same category as the term entered and have been mentioned recently.\n\n    Inputs:\n    mvp_flag - Minimum viable product flag, if true it uses an existing pickle file of results,\n                otherwise it runs the term through the full process\n    num_subreddits - Number of subreddits we will return for the analysis, default is 10\n    min_subreddit_subscribers - Size limit on a subreddit for inclusion in analysis, default is\n                                20000 \n    num_submissions - number of submissions retrieved for each subreddit, default is 50\n    num_influencers - number of influencers returned as a ranked list - use equal sub to adjust oveall or \n                      per subreddit, default is 5\n    min_occur - minimum number of times a redditor must appear in ranking list, default is 2\n    max_com  - maximum comment request limit (32 per request) for a submission (0 retrieves all), default is 0\n    load_subm - loads pickle file if available for posts versus retrieving through api, default is False\n    equal_sub - if true, changes function to return an num_influencers from each subreddit, default is True \n    per_author_limit - Maximum number of comments to be returned for one user, default is 500\n    post_limit - Maximum number of comments/submissions to return from this process, default \n                 is 10000\n    num_days - Number of recent days for finding relevant posts, default is 30\n\n    Output:\n    nbt_df - Dataframe containing entities, which are the resultant siblings of the term, \n             with counts based on CRF matches, exact CRF matches, and Whitelist matches\n    '''\n\n    #Set up dates for Reddit API\n    start_date = (date.today() - timedelta(days=num_days + 1)).strftime(\"%m/%d/%Y\") #Posts dated after this date will be included\n    end_date = (date.today() + timedelta(days=1)).strftime(\"%m/%d/%Y\")  #Posts dated before this date will be included\n    \n    #Get category data\n    nlp_cat_phrase, wiki_cats, best_wiki_cats, wiki_term = fcat.get_category_from_search_term(term)\n\n    #Get subreddits\n    subreddits_list = fsub.get_subreddits(wiki_term, nlp_cat_phrase, best_wiki_cats, num_subreddits, min_subreddit_subscribers, mvp_flag)\n\n    #Get influencers\n    listInfluencers = finf.get_influencers(subreddits_list, num_submissions, num_influencers, min_occur, mvp_flag, load_subm, wiki_term, max_com, equal_sub)\n\n    #Get relevant posts\n    relevant_posts = fposts.get_relevant_posts(wiki_term, listInfluencers, subreddits_list, start_date, end_date, best_wiki_cats, per_author_limit, post_limit, mvp_flag)\n\n    #Create White List\n    fcat.make_white_list_cat_content_files(wiki_cats, wiki_term, mvp_flag)\n\n    #Find and rank top results\n    nbt_df = crfnt.calculate_final_results_for_wiki_term(wiki_term, mvp_flag)\n\n    return nbt_df",
   "outputs": [],
   "execution_count": null
  },
  {
   "cell_type": "markdown",
   "source": "### Call Next Big Thing Function \nOur MVP (Minimum Viable Product) mode uses pre-created pickle files for selected topics that have already been run through the full pipeline to quickly generate a result for viewing.\n\nMVP files are available for: \n- Squid Game\n- cronut\n- Settlers of Catan\n- dogecoin\n- Beastie Boys\n- Elon Musk\n- Birkin Bag\n- Apple Iphone\n- PS5\n- oxycontin\n\nEach time a term is run through where mvp_flag is set to False, it will then be available to run in MVP mode\n",
   "metadata": {
    "tags": [],
    "cell_id": "00009-8be15a09-b7da-401d-8fa7-5cd8889919ed",
    "deepnote_cell_type": "markdown",
    "deepnote_cell_height": 460.53125
   }
  },
  {
   "cell_type": "code",
   "metadata": {
    "tags": [],
    "deepnote_to_be_reexecuted": false,
    "source_hash": "4853811d",
    "execution_start": 1650197811936,
    "execution_millis": 135,
    "cell_id": "00010-ea0855a9-ae53-4333-a294-36d2c7ccb09a",
    "deepnote_cell_type": "code",
    "deepnote_cell_height": 225
   },
   "source": "#Run 10 mvp items through using pre-generated files\n\nmvp_terms = ['Squid Game', 'cronut', 'Settlers of Catan', 'dogecoin', 'Beastie Boys',\n                    'Elon Musk', 'Birkin Bag', 'Apple IPhone', 'PS5', 'oxycontin' ]\n\nfor term in mvp_terms:\n    nbt_df = find_next_big_thing('Squid Game', mvp_flag=True)\n    print(nbt_df.head(10))\n",
   "outputs": [],
   "execution_count": null
  },
  {
   "cell_type": "code",
   "metadata": {
    "cell_id": "8550521b7fdf4bffbac430996740c25b",
    "tags": [],
    "owner_user_id": "d1c3db5a-4505-48be-99b3-4a4061f5f711",
    "deepnote_cell_type": "code",
    "deepnote_cell_height": 66
   },
   "source": "",
   "execution_count": null,
   "outputs": []
  },
  {
   "cell_type": "markdown",
   "source": "<a style='text-decoration:none;line-height:16px;display:flex;color:#5B5B62;padding:10px;justify-content:end;' href='https://deepnote.com?utm_source=created-in-deepnote-cell&projectId=90b052a7-f47d-474e-888f-9345355cfd9a' target=\"_blank\">\n<img alt='Created in deepnote.com' style='display:inline;max-height:16px;margin:0px;margin-right:7.5px;' src='data:image/svg+xml;base64,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' > </img>\nCreated in <span style='font-weight:600;margin-left:4px;'>Deepnote</span></a>",
   "metadata": {
    "tags": [],
    "created_in_deepnote_cell": true,
    "deepnote_cell_type": "markdown"
   }
  }
 ],
 "nbformat": 4,
 "nbformat_minor": 2,
 "metadata": {
  "orig_nbformat": 2,
  "deepnote": {
   "is_reactive": false
  },
  "deepnote_notebook_id": "f05b9bcc-7f13-478b-b527-756664c130c8",
  "deepnote_execution_queue": []
 }
}