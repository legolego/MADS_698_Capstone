{
 "cells": [
  {
   "cell_type": "markdown",
   "source": "# Next Big Thing Pipeline",
   "metadata": {
    "cell_id": "eb3b292a83db4f90843058825cfc377d",
    "tags": [],
    "deepnote_cell_type": "markdown",
    "deepnote_cell_height": 82
   }
  },
  {
   "cell_type": "markdown",
   "source": "### Standard Python Library Imports",
   "metadata": {
    "cell_id": "5429e725070c459090c8c9eff75a02b7",
    "tags": [],
    "deepnote_cell_type": "markdown",
    "deepnote_cell_height": 62
   }
  },
  {
   "cell_type": "code",
   "metadata": {
    "tags": [],
    "cell_id": "f535c45e-d1ff-4462-94e5-c524db3faec2",
    "deepnote_to_be_reexecuted": false,
    "source_hash": "f7c69418",
    "execution_start": 1650216596428,
    "execution_millis": 152,
    "deepnote_cell_type": "code",
    "deepnote_cell_height": 171
   },
   "source": "import importlib\nimportlib.reload\n\nimport import_ipynb\n\nfrom datetime import date, timedelta",
   "outputs": [],
   "execution_count": null
  },
  {
   "cell_type": "markdown",
   "source": "### Imports from Next Big Thing Jupyter Notebooks",
   "metadata": {
    "cell_id": "c5835ee8598d4b8ab06b94caf0a59071",
    "tags": [],
    "deepnote_cell_type": "markdown",
    "deepnote_cell_height": 62
   }
  },
  {
   "cell_type": "code",
   "metadata": {
    "cell_id": "0379bb1ab5ac46bfbca6494e9afd5af3",
    "tags": [],
    "deepnote_to_be_reexecuted": false,
    "source_hash": "f5a7882b",
    "execution_start": 1650197759767,
    "execution_millis": 35466,
    "deepnote_cell_type": "code",
    "deepnote_cell_height": 2474.375
   },
   "source": "#Find Category\nimport Step1_Find_Category_From_Thing as fcat\n\n#importlib.reload(fcat)",
   "outputs": [
    {
     "name": "stdout",
     "text": "importing Jupyter notebook from Step1_Find_Category_From_Thing.ipynb\n",
     "output_type": "stream"
    },
    {
     "data": {
      "text/plain": "Downloading https://raw.githubusercontent.com/stanfordnlp/stanza-resources/main/resources_1.3.0.json:   0%|   …",
      "application/vnd.jupyter.widget-view+json": {
       "version_major": 2,
       "version_minor": 0,
       "model_id": "b97038a27df040baab924ba049d4ae49"
      }
     },
     "metadata": {},
     "output_type": "display_data"
    },
    {
     "name": "stderr",
     "text": "2022-04-17 12:16:03 INFO: Downloading default packages for language: en (English)...\n",
     "output_type": "stream"
    },
    {
     "data": {
      "text/plain": "Downloading https://huggingface.co/stanfordnlp/stanza-en/resolve/v1.3.0/models/default.zip:   0%|          | 0…",
      "application/vnd.jupyter.widget-view+json": {
       "version_major": 2,
       "version_minor": 0,
       "model_id": "c98a925990474caa8874bc471d90f9ab"
      }
     },
     "metadata": {},
     "output_type": "display_data"
    },
    {
     "name": "stderr",
     "text": "2022-04-17 12:16:11 INFO: Finished downloading models and saved to /root/stanza_resources.\nInstalling /root/venv/lib/python3.7/site-packages/widgetsnbextension/static -> jupyter-js-widgets\nMaking directory: /usr/local/share/jupyter/nbextensions/jupyter-js-widgets/\nCopying: /root/venv/lib/python3.7/site-packages/widgetsnbextension/static/extension.js -> /usr/local/share/jupyter/nbextensions/jupyter-js-widgets/extension.js\nCopying: /root/venv/lib/python3.7/site-packages/widgetsnbextension/static/extension.js.map -> /usr/local/share/jupyter/nbextensions/jupyter-js-widgets/extension.js.map\n- Validating: \u001b[32mOK\u001b[0m\n\n    To initialize this nbextension in the browser every time the notebook (or other app) loads:\n    \n          jupyter nbextension enable widgetsnbextension --py\n    \nEnabling notebook extension jupyter-js-widgets/extension...\nPaths used for configuration of notebook: \n    \t/deepnote-config/jupyter/nbconfig/notebook.json\nPaths used for configuration of notebook: \n    \t\n      - Validating: \u001b[32mOK\u001b[0m\nPaths used for configuration of notebook: \n    \t/deepnote-config/jupyter/nbconfig/notebook.json\n2022-04-17 12:16:14 INFO: Loading these models for language: en (English):\n========================\n| Processor | Package  |\n------------------------\n| tokenize  | combined |\n| pos       | combined |\n| lemma     | combined |\n| depparse  | combined |\n========================\n\n2022-04-17 12:16:14 INFO: Use device: cpu\n2022-04-17 12:16:14 INFO: Loading: tokenize\n2022-04-17 12:16:14 INFO: Loading: pos\n2022-04-17 12:16:14 INFO: Loading: lemma\n2022-04-17 12:16:14 INFO: Loading: depparse\n2022-04-17 12:16:15 INFO: Done loading processors!\n",
     "output_type": "stream"
    },
    {
     "data": {
      "text/plain": "Downloading:   0%|          | 0.00/1.18k [00:00<?, ?B/s]",
      "application/vnd.jupyter.widget-view+json": {
       "version_major": 2,
       "version_minor": 0,
       "model_id": "5c80c981e71b41a78d1b9409e79fc25e"
      }
     },
     "metadata": {},
     "output_type": "display_data"
    },
    {
     "data": {
      "text/plain": "Downloading:   0%|          | 0.00/190 [00:00<?, ?B/s]",
      "application/vnd.jupyter.widget-view+json": {
       "version_major": 2,
       "version_minor": 0,
       "model_id": "8808b62eb3aa4781883c25473a7c491f"
      }
     },
     "metadata": {},
     "output_type": "display_data"
    },
    {
     "data": {
      "text/plain": "Downloading:   0%|          | 0.00/10.2k [00:00<?, ?B/s]",
      "application/vnd.jupyter.widget-view+json": {
       "version_major": 2,
       "version_minor": 0,
       "model_id": "6d4fee30821a4b8b82d57d2dbddb73bd"
      }
     },
     "metadata": {},
     "output_type": "display_data"
    },
    {
     "data": {
      "text/plain": "Downloading:   0%|          | 0.00/612 [00:00<?, ?B/s]",
      "application/vnd.jupyter.widget-view+json": {
       "version_major": 2,
       "version_minor": 0,
       "model_id": "2bf8f8699f814bb9951af4069806f6fc"
      }
     },
     "metadata": {},
     "output_type": "display_data"
    },
    {
     "data": {
      "text/plain": "Downloading:   0%|          | 0.00/116 [00:00<?, ?B/s]",
      "application/vnd.jupyter.widget-view+json": {
       "version_major": 2,
       "version_minor": 0,
       "model_id": "c694e24cc8a843d4a9fd149baaaf29e5"
      }
     },
     "metadata": {},
     "output_type": "display_data"
    },
    {
     "data": {
      "text/plain": "Downloading:   0%|          | 0.00/39.3k [00:00<?, ?B/s]",
      "application/vnd.jupyter.widget-view+json": {
       "version_major": 2,
       "version_minor": 0,
       "model_id": "143022bf96824fd8af8a8e6a4001f253"
      }
     },
     "metadata": {},
     "output_type": "display_data"
    },
    {
     "data": {
      "text/plain": "Downloading:   0%|          | 0.00/349 [00:00<?, ?B/s]",
      "application/vnd.jupyter.widget-view+json": {
       "version_major": 2,
       "version_minor": 0,
       "model_id": "ea61d8886347448c9649c8c31f16bb2f"
      }
     },
     "metadata": {},
     "output_type": "display_data"
    },
    {
     "data": {
      "text/plain": "Downloading:   0%|          | 0.00/90.9M [00:00<?, ?B/s]",
      "application/vnd.jupyter.widget-view+json": {
       "version_major": 2,
       "version_minor": 0,
       "model_id": "47e7f13d2ab14e86a81b6d9d589231c3"
      }
     },
     "metadata": {},
     "output_type": "display_data"
    },
    {
     "data": {
      "text/plain": "Downloading:   0%|          | 0.00/53.0 [00:00<?, ?B/s]",
      "application/vnd.jupyter.widget-view+json": {
       "version_major": 2,
       "version_minor": 0,
       "model_id": "86b67820dca646fcae9609cf7ef64754"
      }
     },
     "metadata": {},
     "output_type": "display_data"
    },
    {
     "data": {
      "text/plain": "Downloading:   0%|          | 0.00/112 [00:00<?, ?B/s]",
      "application/vnd.jupyter.widget-view+json": {
       "version_major": 2,
       "version_minor": 0,
       "model_id": "f7852bbe28c34893929ffc862012e91c"
      }
     },
     "metadata": {},
     "output_type": "display_data"
    },
    {
     "data": {
      "text/plain": "Downloading:   0%|          | 0.00/466k [00:00<?, ?B/s]",
      "application/vnd.jupyter.widget-view+json": {
       "version_major": 2,
       "version_minor": 0,
       "model_id": "2d8eb7ad28f94757b8b47b9797787af9"
      }
     },
     "metadata": {},
     "output_type": "display_data"
    },
    {
     "data": {
      "text/plain": "Downloading:   0%|          | 0.00/350 [00:00<?, ?B/s]",
      "application/vnd.jupyter.widget-view+json": {
       "version_major": 2,
       "version_minor": 0,
       "model_id": "58615b93d2dc4587aeb80f8336180293"
      }
     },
     "metadata": {},
     "output_type": "display_data"
    },
    {
     "data": {
      "text/plain": "Downloading:   0%|          | 0.00/13.2k [00:00<?, ?B/s]",
      "application/vnd.jupyter.widget-view+json": {
       "version_major": 2,
       "version_minor": 0,
       "model_id": "6c58e65ef9f54c448f27ff912529e8d3"
      }
     },
     "metadata": {},
     "output_type": "display_data"
    },
    {
     "data": {
      "text/plain": "Downloading:   0%|          | 0.00/232k [00:00<?, ?B/s]",
      "application/vnd.jupyter.widget-view+json": {
       "version_major": 2,
       "version_minor": 0,
       "model_id": "e0c5f3d37e464baa8f0531c3c282a267"
      }
     },
     "metadata": {},
     "output_type": "display_data"
    },
    {
     "name": "stdout",
     "text": "first_wiki_term: GameStop short squeeze\nfound 1995 in category: Category:Board games introduced in 1995\n2022\n2021\n2020\n5 exists!\n2019\n8 exists!\n2018\n6 exists!\nfirst_wiki_term: Squid Game\nnlp phrase: ['Korean', 'drama', 'television', 'series']\nwiki_cats: ['Category:2021 South Korean television series debuts', 'Category:Battle royale', 'Category:Criticism of capitalism', 'Category:Death games in fiction', 'Category:Korean-language Netflix original programming', 'Category:South Korean action television series', 'Category:South Korean horror fiction television series', 'Category:South Korean thriller television series', 'Category:Squid Game', 'Category:Television series impacted by the COVID-19 pandemic', 'Category:Television series set on fictional islands', 'Category:Television shows about death games', 'Category:Television shows set in Seoul']\n\nRemove wiki-cats too close to actual term(first term)\n['Squid Game', 'Category:2021 South Korean television series debuts', 'Category:Battle royale', 'Category:Criticism of capitalism', 'Category:Death games in fiction', 'Category:Korean-language Netflix original programming', 'Category:South Korean action television series', 'Category:South Korean horror fiction television series', 'Category:South Korean thriller television series', 'Category:Squid Game', 'Category:Television series impacted by the COVID-19 pandemic', 'Category:Television series set on fictional islands', 'Category:Television shows about death games', 'Category:Television shows set in Seoul']\n[ 1.          0.13306913  0.29734474 -0.00926726  0.28311908  0.20554653\n  0.23401542  0.16387379  0.15864381  0.89878356  0.1073044   0.19731182\n  0.26085496  0.18763691]\n[8]\nafter rem: ['Category:2021 South Korean television series debuts', 'Category:Battle royale', 'Category:Criticism of capitalism', 'Category:Death games in fiction', 'Category:Korean-language Netflix original programming', 'Category:South Korean action television series', 'Category:South Korean horror fiction television series', 'Category:South Korean thriller television series', 'Category:Television series impacted by the COVID-19 pandemic', 'Category:Television series set on fictional islands', 'Category:Television shows about death games', 'Category:Television shows set in Seoul']\nKeep wiki-cats not too far to found category(first term)\n['Korean drama television series', 'Category:2021 South Korean television series debuts', 'Category:Battle royale', 'Category:Criticism of capitalism', 'Category:Death games in fiction', 'Category:Korean-language Netflix original programming', 'Category:South Korean action television series', 'Category:South Korean horror fiction television series', 'Category:South Korean thriller television series', 'Category:Television series impacted by the COVID-19 pandemic', 'Category:Television series set on fictional islands', 'Category:Television shows about death games', 'Category:Television shows set in Seoul']\n[1.0000005  0.7944901  0.15392083 0.06365414 0.21105582 0.6015061\n 0.87840974 0.7400809  0.86285573 0.31945732 0.4481245  0.43091518\n 0.7427125 ]\nkeep idx: [ 0  5  6  7 11]\npre-last-filt: ['Category:2021 South Korean television series debuts', 'Category:Battle royale', 'Category:Criticism of capitalism', 'Category:Death games in fiction', 'Category:Korean-language Netflix original programming', 'Category:South Korean action television series', 'Category:South Korean horror fiction television series', 'Category:South Korean thriller television series', 'Category:Television series impacted by the COVID-19 pandemic', 'Category:Television series set on fictional islands', 'Category:Television shows about death games', 'Category:Television shows set in Seoul']\npost-last-filt: ['Category:2021 South Korean television series debuts', 'Category:South Korean action television series', 'Category:South Korean horror fiction television series', 'Category:South Korean thriller television series', 'Category:Television shows set in Seoul']\n**** Category:2021 South Korean television series debuts\nfound 2021 in category: Category:2021 South Korean television series debuts\n2022\n75 exists!\n2021\n116 exists!\n2020\n123 exists!\n2019\n144 exists!\n2018\n154 exists!\n**** Category:South Korean action television series\n**** Category:South Korean horror fiction television series\n**** Category:South Korean thriller television series\n**** Category:Television shows set in Seoul\nmvp! wikipedia cat content already exists.\nCategory:South Korean action television series\nCategory:2020 South Korean television series debuts\nCategory:2019 South Korean television series debuts\nCategory:Television shows set in Seoul\nCategory:2022 South Korean television series debuts\nCategory:2018 South Korean television series debuts\nCategory:South Korean thriller television series\nCategory:2021 South Korean television series debuts\nCategory:South Korean horror fiction television series\n93 Category:South Korean action television series ['The Spies Who Loved Me', 'Flowers of the Prison', \"You're All Surrounded\", 'Bring It On, Ghost', 'Road No. 1', 'Look Back in Anger TV series', 'Lovers of Haeundae', 'Bridal Mask', 'The King 2 Hearts', 'The Return of Iljimae', 'Asphalt Man', 'Local Hero TV series', 'Yong-pal', 'Protect the Boss', 'Friend, Our Legend', 'Rookie Cops', 'Iris TV series', 'Healer TV series', 'The Blade and Petal', 'The Man in the Mask', 'Sweet Spy', \"Dota: Dragon's Blood\", 'Jumong TV series', 'Immortal Admiral Yi Sun-sin', 'Three Days TV series', 'Bodyguard South Korean TV series', 'Jirisan TV series', 'Lobbyist TV series', 'Iris II: New Generation', 'Player TV series', 'Gunman in Joseon', 'Insider South Korean TV series', 'Vagabond TV series', 'East of Eden TV series', 'All In TV series', 'Damo TV series', 'Man to Man TV series', 'The Three Musketeers South Korean TV series', 'White Nights 3.98', 'The K2', 'The Guardians South Korean TV series', 'The Fugitive of Joseon', 'Cain and Abel South Korean TV series', 'Athena: Goddess of War', 'Time Between Dog and Wolf', 'Sketch TV series', 'Trio TV series', 'Legend of the Patriots', 'Forbidden Love 2004 TV series', 'Spy 2015 TV series', 'Moorim School: Saga of the Brave', 'Tracer TV series', 'Special Labor Inspector', 'Air City', 'Rugal TV series', '7th Grade Civil Servant', 'Good Casting', 'The Fugitive: Plan B', 'Gyebaek TV series', 'A Man Called God', 'The Slingshot', 'The Veil South Korean TV series', 'Two Weeks TV series', 'City Hunter TV series', 'Naked Fireman', 'Swallow the Sun TV series', 'Poseidon TV series', 'A Love to Kill', 'Hong Gil-dong TV series', 'Untouchable South Korean TV series', 'Triangle 2014 TV series', 'The Kingdom of the Winds', 'The Duo', 'Eyes of Dawn', 'Mad Dog TV series', 'Birthday Letter', 'Inspector Koo', 'Again My Life', 'Tazza TV series', 'Giant TV series', 'Team Bulldog: Off-Duty Investigation', 'The Slave Hunters', 'The Chaser TV series', 'Warrior Baek Dong-soo', 'Strongest Chil Woo', 'Seoul 1945', 'Last TV series', 'Iljimae', 'Inspiring Generation', 'Taxi Driver South Korean TV series', 'Korean Peninsula TV series', 'God of War TV series', 'Spy Myung-wol']\nCounter({'TV': 42, 'series': 42, 'The': 16, 'of': 11, 'Korean': 9, 'South': 8, 'the': 7, 'Man': 5, 'in': 3, 'and': 3, 'Spy': 3, 'All': 2, 'Mask': 2, 'Iljimae': 2, 'Legend': 2, 'Iris': 2, 'Three': 2, 'Generation': 2, 'Joseon': 2, 'to': 2, 'War': 2, 'Dog': 2, 'Love': 2, 'Inspector': 2, 'City': 2, 'A': 2, 'God': 2, 'Spies': 1, 'Who': 1, 'Loved': 1, 'Me': 1, 'Flowers': 1, 'Prison': 1, \"You're\": 1, 'Surrounded': 1, 'Bring': 1, 'It': 1, 'On,': 1, 'Ghost': 1, 'Road': 1, 'No.': 1, '1': 1, 'Look': 1, 'Back': 1, 'Anger': 1, 'Lovers': 1, 'Haeundae': 1, 'Bridal': 1, 'King': 1, '2': 1, 'Hearts': 1, 'Return': 1, 'Asphalt': 1, 'Local': 1, 'Hero': 1, 'Yong-pal': 1, 'Protect': 1, 'Boss': 1, 'Friend,': 1, 'Our': 1, 'Rookie': 1, 'Cops': 1, 'Healer': 1, 'Blade': 1, 'Petal': 1, 'Sweet': 1, 'Dota:': 1, \"Dragon's\": 1, 'Blood': 1, 'Jumong': 1, 'Immortal': 1, 'Admiral': 1, 'Yi': 1, 'Sun-sin': 1, 'Days': 1, 'Bodyguard': 1, 'Jirisan': 1, 'Lobbyist': 1, 'II:': 1, 'New': 1, 'Player': 1, 'Gunman': 1, 'Insider': 1, 'Vagabond': 1, 'East': 1, 'Eden': 1, 'In': 1, 'Damo': 1, 'Musketeers': 1, 'White': 1, 'Nights': 1, '3.98': 1, 'K2': 1, 'Guardians': 1, 'Fugitive': 1, 'Cain': 1, 'Abel': 1, 'Athena:': 1, 'Goddess': 1, 'Time': 1, 'Between': 1, 'Wolf': 1, 'Sketch': 1, 'Trio': 1, 'Patriots': 1, 'Forbidden': 1, '2004': 1, '2015': 1, 'Moorim': 1, 'School:': 1, 'Saga': 1, 'Brave': 1, 'Tracer': 1, 'Special': 1, 'Labor': 1, 'Air': 1, 'Rugal': 1, '7th': 1, 'Grade': 1, 'Civil': 1, 'Servant': 1, 'Good': 1, 'Casting': 1, 'Fugitive:': 1, 'Plan': 1, 'B': 1, 'Gyebaek': 1, 'Called': 1, 'Slingshot': 1, 'Veil': 1, 'Two': 1, 'Weeks': 1, 'Hunter': 1, 'Naked': 1, 'Fireman': 1, 'Swallow': 1, 'Sun': 1, 'Poseidon': 1, 'Kill': 1, 'Hong': 1, 'Gil-dong': 1, 'Untouchable': 1, 'Triangle': 1, '2014': 1, 'Kingdom': 1, 'Winds': 1, 'Duo': 1, 'Eyes': 1, 'Dawn': 1, 'Mad': 1, 'Birthday': 1, 'Letter': 1, 'Koo': 1, 'Again': 1, 'My': 1, 'Life': 1, 'Tazza': 1, 'Giant': 1, 'Team': 1, 'Bulldog:': 1, 'Off-Duty': 1, 'Investigation': 1, 'Slave': 1, 'Hunters': 1, 'Chaser': 1, 'Warrior': 1, 'Baek': 1, 'Dong-soo': 1, 'Strongest': 1, 'Chil': 1, 'Woo': 1, 'Seoul': 1, '1945': 1, 'Last': 1, 'Inspiring': 1, 'Taxi': 1, 'Driver': 1, 'Peninsula': 1, 'Myung-wol': 1})\nremove: ['TV', 'series']\n123 Category:2020 South Korean television series debuts ['The Spies Who Loved Me', 'Man in a Veil', 'Sweet Munchies', \"Don't be the First One!\", 'Hi Bye, Mama!', 'Delayed Justice', 'Brilliant Heritage', 'Forest TV series', 'Travelling Market', 'Love of 7.7 Billion', 'How to Buy a Friend', 'Search South Korean TV series', 'My Dangerous Wife', 'Road to Kingdom', 'Memorials TV series', 'Hush TV series', 'Extracurricular TV series', 'K-Trot in Town', 'Run South Korean TV series', 'The Uncanny Counter', 'Flower of Evil South Korean TV series', 'Mr. Queen', 'Touch South Korean TV series', '365: Repeat the Year', 'Learn Way', 'Hello Dracula', 'SF8', 'Private Lives TV series', 'Once Again South Korean TV series', 'Birthcare Center', 'No Matter What TV series', 'Men Are Men', 'My Holo Love', 'Money Game TV series', 'When I Was the Most Beautiful', 'Good Girl TV series', 'Run On TV series', 'Lie After Lie', 'XX web series', 'A Piece of Your Mind', 'Soul Mechanic', 'Top 10 Student', 'Romantic Call Centre', 'Handsome Tigers', 'Mom Has an Affair', 'The Dreamer TV series', 'I-Land', 'Awaken TV series', 'Welcome TV series', 'All That Cube', 'Start-Up South Korean TV series', 'The Cursed TV series', 'Sixth Sense TV series', \"Please Don't Date Him\", 'Memorist', 'Do Do Sol Sol La La Sol', '20th Century Hit Song', 'Eccentric! Chef Moon', 'Alice South Korean TV series', 'Sweet Home TV series', 'The Good Detective', 'Itaewon Class', 'Tell Me What You Saw', '18 Again', 'Oh! My Part, You', 'Twogether TV program', 'Zombie Detective', 'The House Detox', 'My Unfamiliar Family', 'Train TV series', 'Homemade Love Story', 'Was It Love?', 'Kingmaker: The Change of Destiny', 'Find Me in Your Memory', 'Rugal TV series', 'More Than Friends TV series', 'Tale of the Nine Tailed', 'The Game: Towards Zero', 'Chip In', 'Good Casting', \"Baby Shark's Big Show!\", 'Record of Youth', 'Dr. Romantic', 'Miss Back', 'When My Love Blooms', 'Friday Joy Package', 'True Beauty South Korean TV series', 'Hyena TV series', 'When the Weather Is Fine TV series', 'Cheat on Me If You Can', 'Dinner Mate', 'Fatal Promise', 'Hospital Playlist', 'Graceful Friends', 'Phoenix 2020', 'The School Nurse Files', 'Oh My Baby', 'Wannabe Ryan', 'Kairos TV series', 'Come Drive In', 'On & Off TV series', 'Get Revenge', 'Mystic Pop-up Bar', 'Never Ending Neverland', 'The Penthouse: War in Life', 'Do You Like Brahms?', 'Royal Secret Agent', 'Team Bulldog: Off-Duty Investigation', 'Gamsung Camping', \"It's Okay to Not Be Okay\", 'Mr. Trot', 'Missing: The Other Side', 'Born Again TV series', 'Nobody Knows TV series', 'The World of the Married', 'The King: Eternal Monarch', 'Kkondae Intern', 'Live On TV series', 'We Got Divorced', 'Hometown Flex', 'House on Wheels', 'Backstreet Rookie', 'Idol on Quiz']\nCounter({'TV': 34, 'series': 34, 'The': 13, 'South': 8, 'Korean': 8, 'of': 7, 'the': 6, 'My': 6, 'Me': 4, 'in': 4, 'Love': 4, 'You': 4, 'to': 3, 'Again': 3, 'When': 3, 'Good': 3, 'On': 3, 'Do': 3, 'Sol': 3, 'on': 3, 'a': 2, 'Sweet': 2, \"Don't\": 2, 'Run': 2, 'Mr.': 2, 'What': 2, 'Men': 2, 'Was': 2, 'Lie': 2, 'Your': 2, 'Romantic': 2, 'La': 2, 'Detective': 2, 'House': 2, 'Friends': 2, 'In': 2, 'Baby': 2, 'Okay': 2, 'Spies': 1, 'Who': 1, 'Loved': 1, 'Man': 1, 'Veil': 1, 'Munchies': 1, 'be': 1, 'First': 1, 'One!': 1, 'Hi': 1, 'Bye,': 1, 'Mama!': 1, 'Delayed': 1, 'Justice': 1, 'Brilliant': 1, 'Heritage': 1, 'Forest': 1, 'Travelling': 1, 'Market': 1, '7.7': 1, 'Billion': 1, 'How': 1, 'Buy': 1, 'Friend': 1, 'Search': 1, 'Dangerous': 1, 'Wife': 1, 'Road': 1, 'Kingdom': 1, 'Memorials': 1, 'Hush': 1, 'Extracurricular': 1, 'K-Trot': 1, 'Town': 1, 'Uncanny': 1, 'Counter': 1, 'Flower': 1, 'Evil': 1, 'Queen': 1, 'Touch': 1, '365:': 1, 'Repeat': 1, 'Year': 1, 'Learn': 1, 'Way': 1, 'Hello': 1, 'Dracula': 1, 'SF8': 1, 'Private': 1, 'Lives': 1, 'Once': 1, 'Birthcare': 1, 'Center': 1, 'No': 1, 'Matter': 1, 'Are': 1, 'Holo': 1, 'Money': 1, 'Game': 1, 'I': 1, 'Most': 1, 'Beautiful': 1, 'Girl': 1, 'After': 1, 'XX': 1, 'web': 1, 'A': 1, 'Piece': 1, 'Mind': 1, 'Soul': 1, 'Mechanic': 1, 'Top': 1, '10': 1, 'Student': 1, 'Call': 1, 'Centre': 1, 'Handsome': 1, 'Tigers': 1, 'Mom': 1, 'Has': 1, 'an': 1, 'Affair': 1, 'Dreamer': 1, 'I-Land': 1, 'Awaken': 1, 'Welcome': 1, 'All': 1, 'That': 1, 'Cube': 1, 'Start-Up': 1, 'Cursed': 1, 'Sixth': 1, 'Sense': 1, 'Please': 1, 'Date': 1, 'Him': 1, 'Memorist': 1, '20th': 1, 'Century': 1, 'Hit': 1, 'Song': 1, 'Eccentric!': 1, 'Chef': 1, 'Moon': 1, 'Alice': 1, 'Home': 1, 'Itaewon': 1, 'Class': 1, 'Tell': 1, 'Saw': 1, '18': 1, 'Oh!': 1, 'Part,': 1, 'Twogether': 1, 'program': 1, 'Zombie': 1, 'Detox': 1, 'Unfamiliar': 1, 'Family': 1, 'Train': 1, 'Homemade': 1, 'Story': 1, 'It': 1, 'Love?': 1, 'Kingmaker:': 1, 'Change': 1, 'Destiny': 1, 'Find': 1, 'Memory': 1, 'Rugal': 1, 'More': 1, 'Than': 1, 'Tale': 1, 'Nine': 1, 'Tailed': 1, 'Game:': 1, 'Towards': 1, 'Zero': 1, 'Chip': 1, 'Casting': 1, \"Shark's\": 1, 'Big': 1, 'Show!': 1, 'Record': 1, 'Youth': 1, 'Dr.': 1, 'Miss': 1, 'Back': 1, 'Blooms': 1, 'Friday': 1, 'Joy': 1, 'Package': 1, 'True': 1, 'Beauty': 1, 'Hyena': 1, 'Weather': 1, 'Is': 1, 'Fine': 1, 'Cheat': 1, 'If': 1, 'Can': 1, 'Dinner': 1, 'Mate': 1, 'Fatal': 1, 'Promise': 1, 'Hospital': 1, 'Playlist': 1, 'Graceful': 1, 'Phoenix': 1, '2020': 1, 'School': 1, 'Nurse': 1, 'Files': 1, 'Oh': 1, 'Wannabe': 1, 'Ryan': 1, 'Kairos': 1, 'Come': 1, 'Drive': 1, '&': 1, 'Off': 1, 'Get': 1, 'Revenge': 1, 'Mystic': 1, 'Pop-up': 1, 'Bar': 1, 'Never': 1, 'Ending': 1, 'Neverland': 1, 'Penthouse:': 1, 'War': 1, 'Life': 1, 'Like': 1, 'Brahms?': 1, 'Royal': 1, 'Secret': 1, 'Agent': 1, 'Team': 1, 'Bulldog:': 1, 'Off-Duty': 1, 'Investigation': 1, 'Gamsung': 1, 'Camping': 1, \"It's\": 1, 'Not': 1, 'Be': 1, 'Trot': 1, 'Missing:': 1, 'Other': 1, 'Side': 1, 'Born': 1, 'Nobody': 1, 'Knows': 1, 'World': 1, 'Married': 1, 'King:': 1, 'Eternal': 1, 'Monarch': 1, 'Kkondae': 1, 'Intern': 1, 'Live': 1, 'We': 1, 'Got': 1, 'Divorced': 1, 'Hometown': 1, 'Flex': 1, 'Wheels': 1, 'Backstreet': 1, 'Rookie': 1, 'Idol': 1, 'Quiz': 1})\nremove: ['TV', 'series']\n144 Category:2019 South Korean television series debuts ['Chief of Staff TV series', 'Diary of a Prosecutor', 'We K-Pop', 'Flower Crew: Joseon Marriage Agency', 'Love in Sadness', 'One Spring Night', 'Secret Boutique', 'Beautiful World TV series', 'Welcome 2 Life', 'Haechi TV series', 'Hon-Life: Satisfaction Project', 'Laborhood on Hire', 'Want a Taste?', 'Doctor Detective', \"Trio's Childcare Challenge\", 'Doctor Prisoner', 'Delicious Rendezvous', 'The Light in Your Eyes TV series', 'Little Forest TV series', 'Rookie Historian Goo Hae-ryung', 'The Banker TV series', 'Chocolate South Korean TV series', 'Graceful Family', 'Show! Audio Jockey', 'Designated Survivor: 60 Days', 'Why Did You Come to my House', 'Boss in the Mirror', 'The Fiery Priest', 'He Is Psychometric', 'Arthdal Chronicles', 'Doctor John TV series', 'Romance Is a Bonus Book', 'The Hit South Korean TV series', 'Korean Hostel in Spain', 'Be Melodramatic', 'Legal High South Korean TV series', 'The Running Mates: Human Rights', 'Studio Vibes', \"My Sibling's Lovers: Family Is Watching\", 'Abyss TV series', 'Melting Me Softly', 'Unasked Family', 'Perfume South Korean TV series', 'Best Chicken', 'The Secret Life of My Secretary', 'Vagabond TV series', 'Superband TV program', 'My First First Love', 'Analog Trip', 'Trap TV series', 'Tell Me TV series', 'Trans-Siberian Pathfinders', 'Watcher TV series', 'Hangout with Yoo', \"Angel's Last Mission: Love\", 'The Wind Blows TV series', 'Psychopath Diary', 'Left-Handed Wife', 'Studio Music Hall', 'Super Hearer', 'Level Up South Korean TV series', 'The Crowned Clown', 'Queendom TV series', 'The Night of Hate Comments', 'Queen: Love and War', 'Love Alarm', 'TMI News', 'Black Dog: Being A Teacher', 'My Country: The New Age', 'Confession South Korean TV series', 'Spring Turns to Spring', 'Class of Lies', 'The Tale of Nokdu', 'Gracious Revenge', 'Hotel del Luna', 'Special Labor Inspector', 'Home for Summer', 'Loss Time Life', 'Player 7', \"Stars' Top Recipe at Fun-Staurant\", 'Rewind South Korean TV series', 'Crash Landing on You', 'Babel TV series', 'Miss Lee', 'Mother of Mine TV series', 'A Place in the Sun South Korean TV series', 'Liver or Die', 'My Absolute Boyfriend', 'Kim Is a Genius', 'Joseon Survival Period', 'Prison Life of Fools', 'Hell Is Other People', 'Wook Talk', 'I Wanna Hear Your Song', 'The Ranksters', 'At Eighteen', 'Welcome to Waikiki 2', 'Funding Together', 'Extraordinary You', 'Miss Trot', 'Love with Flaws', 'Partners for Justice', 'Pegasus Market', 'Touch Your Heart', 'Coffee Friends', 'Possessed TV series', 'Justice South Korean TV series', 'High School Style Icon', 'Naturally TV series', 'Woman of 9.9 Billion', 'Big Issue TV series', 'Blessing of the Sea', 'Nokdu Flower', 'Different Dreams', 'Five Cranky Brothers', 'V-1 TV series', 'Birthday Letter', 'My Lawyer, Mr. Jo 2: Crime and Punishment', 'Traveler South Korean TV series', 'Catch the Ghost', 'Her Private Life TV series', 'The Golden Garden', 'Wednesday Music Playlist', 'When the Devil Calls Your Name', 'The Lies Within', 'VIP South Korean TV series', 'Kingdom South Korean TV series', 'Persona TV series', 'Leverage South Korean TV series', 'Never Twice', 'Item TV series', 'Search: WWW', 'Save Me 2', 'Beautiful Love, Wonderful Life', 'When the Camellia Blooms', 'Kill It', 'Produce X 101', 'Hot Stove League TV series', 'The Great Show', \"Paik's Mysterious Kitchen\", 'My Fellow Citizens!', 'Six-Party Talks TV series', 'Matching Survival 1+1', 'Urban Cops']\nCounter({'TV': 39, 'series': 38, 'The': 15, 'Korean': 14, 'South': 13, 'of': 10, 'My': 7, 'Love': 6, 'Life': 6, 'the': 6, 'in': 5, 'Is': 5, 'a': 4, 'Your': 4, 'Spring': 3, '2': 3, 'Doctor': 3, 'Family': 3, 'You': 3, 'to': 3, 'Me': 3, 'Diary': 2, 'Flower': 2, 'Joseon': 2, 'Night': 2, 'Secret': 2, 'Beautiful': 2, 'Welcome': 2, 'on': 2, 'High': 2, 'Studio': 2, 'First': 2, 'with': 2, 'Music': 2, 'and': 2, 'A': 2, 'Lies': 2, 'Nokdu': 2, 'for': 2, 'Miss': 2, 'Survival': 2, 'Justice': 2, 'When': 2, 'Chief': 1, 'Staff': 1, 'Prosecutor': 1, 'We': 1, 'K-Pop': 1, 'Crew:': 1, 'Marriage': 1, 'Agency': 1, 'Sadness': 1, 'One': 1, 'Boutique': 1, 'World': 1, 'Haechi': 1, 'Hon-Life:': 1, 'Satisfaction': 1, 'Project': 1, 'Laborhood': 1, 'Hire': 1, 'Want': 1, 'Taste?': 1, 'Detective': 1, \"Trio's\": 1, 'Childcare': 1, 'Challenge': 1, 'Prisoner': 1, 'Delicious': 1, 'Rendezvous': 1, 'Light': 1, 'Eyes': 1, 'Little': 1, 'Forest': 1, 'Rookie': 1, 'Historian': 1, 'Goo': 1, 'Hae-ryung': 1, 'Banker': 1, 'Chocolate': 1, 'Graceful': 1, 'Show!': 1, 'Audio': 1, 'Jockey': 1, 'Designated': 1, 'Survivor:': 1, '60': 1, 'Days': 1, 'Why': 1, 'Did': 1, 'Come': 1, 'my': 1, 'House': 1, 'Boss': 1, 'Mirror': 1, 'Fiery': 1, 'Priest': 1, 'He': 1, 'Psychometric': 1, 'Arthdal': 1, 'Chronicles': 1, 'John': 1, 'Romance': 1, 'Bonus': 1, 'Book': 1, 'Hit': 1, 'Hostel': 1, 'Spain': 1, 'Be': 1, 'Melodramatic': 1, 'Legal': 1, 'Running': 1, 'Mates:': 1, 'Human': 1, 'Rights': 1, 'Vibes': 1, \"Sibling's\": 1, 'Lovers:': 1, 'Watching': 1, 'Abyss': 1, 'Melting': 1, 'Softly': 1, 'Unasked': 1, 'Perfume': 1, 'Best': 1, 'Chicken': 1, 'Secretary': 1, 'Vagabond': 1, 'Superband': 1, 'program': 1, 'Analog': 1, 'Trip': 1, 'Trap': 1, 'Tell': 1, 'Trans-Siberian': 1, 'Pathfinders': 1, 'Watcher': 1, 'Hangout': 1, 'Yoo': 1, \"Angel's\": 1, 'Last': 1, 'Mission:': 1, 'Wind': 1, 'Blows': 1, 'Psychopath': 1, 'Left-Handed': 1, 'Wife': 1, 'Hall': 1, 'Super': 1, 'Hearer': 1, 'Level': 1, 'Up': 1, 'Crowned': 1, 'Clown': 1, 'Queendom': 1, 'Hate': 1, 'Comments': 1, 'Queen:': 1, 'War': 1, 'Alarm': 1, 'TMI': 1, 'News': 1, 'Black': 1, 'Dog:': 1, 'Being': 1, 'Teacher': 1, 'Country:': 1, 'New': 1, 'Age': 1, 'Confession': 1, 'Turns': 1, 'Class': 1, 'Tale': 1, 'Gracious': 1, 'Revenge': 1, 'Hotel': 1, 'del': 1, 'Luna': 1, 'Special': 1, 'Labor': 1, 'Inspector': 1, 'Home': 1, 'Summer': 1, 'Loss': 1, 'Time': 1, 'Player': 1, '7': 1, \"Stars'\": 1, 'Top': 1, 'Recipe': 1, 'at': 1, 'Fun-Staurant': 1, 'Rewind': 1, 'Crash': 1, 'Landing': 1, 'Babel': 1, 'Lee': 1, 'Mother': 1, 'Mine': 1, 'Place': 1, 'Sun': 1, 'Liver': 1, 'or': 1, 'Die': 1, 'Absolute': 1, 'Boyfriend': 1, 'Kim': 1, 'Genius': 1, 'Period': 1, 'Prison': 1, 'Fools': 1, 'Hell': 1, 'Other': 1, 'People': 1, 'Wook': 1, 'Talk': 1, 'I': 1, 'Wanna': 1, 'Hear': 1, 'Song': 1, 'Ranksters': 1, 'At': 1, 'Eighteen': 1, 'Waikiki': 1, 'Funding': 1, 'Together': 1, 'Extraordinary': 1, 'Trot': 1, 'Flaws': 1, 'Partners': 1, 'Pegasus': 1, 'Market': 1, 'Touch': 1, 'Heart': 1, 'Coffee': 1, 'Friends': 1, 'Possessed': 1, 'School': 1, 'Style': 1, 'Icon': 1, 'Naturally': 1, 'Woman': 1, '9.9': 1, 'Billion': 1, 'Big': 1, 'Issue': 1, 'Blessing': 1, 'Sea': 1, 'Different': 1, 'Dreams': 1, 'Five': 1, 'Cranky': 1, 'Brothers': 1, 'V-1': 1, 'Birthday': 1, 'Letter': 1, 'Lawyer,': 1, 'Mr.': 1, 'Jo': 1, '2:': 1, 'Crime': 1, 'Punishment': 1, 'Traveler': 1, 'Catch': 1, 'Ghost': 1, 'Her': 1, 'Private': 1, 'Golden': 1, 'Garden': 1, 'Wednesday': 1, 'Playlist': 1, 'Devil': 1, 'Calls': 1, 'Name': 1, 'Within': 1, 'VIP': 1, 'Kingdom': 1, 'Persona': 1, 'Leverage': 1, 'Never': 1, 'Twice': 1, 'Item': 1, 'Search:': 1, 'WWW': 1, 'Save': 1, 'Love,': 1, 'Wonderful': 1, 'Camellia': 1, 'Blooms': 1, 'Kill': 1, 'It': 1, 'Produce': 1, 'X': 1, '101': 1, 'Hot': 1, 'Stove': 1, 'League': 1, 'Great': 1, 'Show': 1, \"Paik's\": 1, 'Mysterious': 1, 'Kitchen': 1, 'Fellow': 1, 'Citizens!': 1, 'Six-Party': 1, 'Talks': 1, 'Matching': 1, '1+1': 1, 'Urban': 1, 'Cops': 1})\nremove: ['TV', 'series']\n26 Category:Television shows set in Seoul ['The End of the World TV series', 'Sense8', 'The Producers TV series', 'Hotel del Luna', 'Dramaworld', 'Oh My Ghost South Korean TV series', 'Only You 2005 TV series', 'D-Day TV series', 'Reply 1988', 'Stranger TV series', 'Snowdrop South Korean TV series', 'Madame Antoine: The Love Therapist', 'Reply 1994', 'Guardian: The Lonely and Great God', 'Living Among the Rich', 'Sky Castle', 'Graceful Family', 'What Happens to My Family?', 'The Vampire Detective', 'Extracurricular TV series', 'Encounter South Korean TV series', 'True Beauty South Korean TV series', 'Drinking Solo', 'Itaewon Class', 'Hospital Playlist', 'My Korean Jagiya']\nCounter({'TV': 10, 'series': 10, 'The': 5, 'Korean': 5, 'South': 4, 'My': 3, 'the': 2, 'Reply': 2, 'End': 1, 'of': 1, 'World': 1, 'Sense8': 1, 'Producers': 1, 'Hotel': 1, 'del': 1, 'Luna': 1, 'Dramaworld': 1, 'Oh': 1, 'Ghost': 1, 'Only': 1, 'You': 1, '2005': 1, 'D-Day': 1, '1988': 1, 'Stranger': 1, 'Snowdrop': 1, 'Madame': 1, 'Antoine:': 1, 'Love': 1, 'Therapist': 1, '1994': 1, 'Guardian:': 1, 'Lonely': 1, 'and': 1, 'Great': 1, 'God': 1, 'Living': 1, 'Among': 1, 'Rich': 1, 'Sky': 1, 'Castle': 1, 'Graceful': 1, 'Family': 1, 'What': 1, 'Happens': 1, 'to': 1, 'Family?': 1, 'Vampire': 1, 'Detective': 1, 'Extracurricular': 1, 'Encounter': 1, 'True': 1, 'Beauty': 1, 'Drinking': 1, 'Solo': 1, 'Itaewon': 1, 'Class': 1, 'Hospital': 1, 'Playlist': 1, 'Jagiya': 1})\nremove: ['TV', 'series']\n75 Category:2022 South Korean television series debuts ['Little Women 2022 TV series', 'Woori the Virgin', 'Ghost Doctor', 'Love All Play TV series', 'Love According to the Law', 'Sponsor TV series', 'The Police Station Next to the Fire Station', 'Soul Marriage', 'Twenty-Five Twenty-One', 'Somebody TV series', 'Juvenile Justice', 'Monstrous TV series', 'Remarriage & Desires', 'The Sound of Magic', 'The Witch Is Alive', 'Money Heist: Korea – Joint Economic Area', 'Our Blues', 'Tracer TV series', 'Anna South Korean TV series', 'Youth TV series', 'Tomorrow South Korean TV series', 'Again My Life', 'Insider South Korean TV series', \"It's Beautiful Now\", 'Kill Heel', 'A Model Family', 'Blind South Korean TV series', 'Circle House', 'Mental Coach Je Gal-gil', 'Moving South Korean TV series', 'From Now on, Showtime!', 'The King of Pigs TV series', 'My Liberation Notes', 'The Secret House TV series', 'Soundtrack 1', 'Why Her', 'Fly High Butterfly', 'Through the Darkness TV series', 'Joseon Psychiatrist Yoo Se-poong', 'Bloody Heart', 'Bravo, My Life 2022 TV series', 'Trolley TV series', \"Jinx's Lover\", 'Rookie Cops', 'Thirty-Nine', 'Shooting Stars South Korean TV series', 'True Sword Battle', 'Forecasting Love and Weather', 'The Accidental Narco', 'Cleaning Up South Korean TV series', 'Adamas TV series', 'Eve South Korean TV series', 'Golden Mask TV series', 'Golden Spoon TV series', 'Link: Eat, Love, Kill', 'Glitch South Korean TV series', 'Bloody Romance South Korean TV series', 'Doctor Lawyer', 'Grid South Korean TV series', 'Big Mouse', 'Island South Korean TV series', 'Military Prosecutor Doberman', 'Minamdang', 'Semantic Error TV series', 'A Superior Day', 'The Youngest Son of a Conglomerate', 'All of Us Are Dead', 'Business Proposal', 'Dear. M', \"Green Mothers' Club\", \"The Killer's Shopping List\", 'Crazy Love 2022 TV series', \"Dr. Park's Clinic\", 'The Origin – A, B, Or What?', 'Black Knight South Korean TV series']\nCounter({'TV': 30, 'series': 30, 'South': 13, 'Korean': 13, 'The': 9, 'the': 4, 'Love': 4, 'of': 4, '2022': 3, 'My': 3, 'Doctor': 2, 'All': 2, 'to': 2, 'Station': 2, '–': 2, 'Life': 2, 'Now': 2, 'Kill': 2, 'A': 2, 'House': 2, 'Bloody': 2, 'Golden': 2, 'Little': 1, 'Women': 1, 'Woori': 1, 'Virgin': 1, 'Ghost': 1, 'Play': 1, 'According': 1, 'Law': 1, 'Sponsor': 1, 'Police': 1, 'Next': 1, 'Fire': 1, 'Soul': 1, 'Marriage': 1, 'Twenty-Five': 1, 'Twenty-One': 1, 'Somebody': 1, 'Juvenile': 1, 'Justice': 1, 'Monstrous': 1, 'Remarriage': 1, '&': 1, 'Desires': 1, 'Sound': 1, 'Magic': 1, 'Witch': 1, 'Is': 1, 'Alive': 1, 'Money': 1, 'Heist:': 1, 'Korea': 1, 'Joint': 1, 'Economic': 1, 'Area': 1, 'Our': 1, 'Blues': 1, 'Tracer': 1, 'Anna': 1, 'Youth': 1, 'Tomorrow': 1, 'Again': 1, 'Insider': 1, \"It's\": 1, 'Beautiful': 1, 'Heel': 1, 'Model': 1, 'Family': 1, 'Blind': 1, 'Circle': 1, 'Mental': 1, 'Coach': 1, 'Je': 1, 'Gal-gil': 1, 'Moving': 1, 'From': 1, 'on,': 1, 'Showtime!': 1, 'King': 1, 'Pigs': 1, 'Liberation': 1, 'Notes': 1, 'Secret': 1, 'Soundtrack': 1, '1': 1, 'Why': 1, 'Her': 1, 'Fly': 1, 'High': 1, 'Butterfly': 1, 'Through': 1, 'Darkness': 1, 'Joseon': 1, 'Psychiatrist': 1, 'Yoo': 1, 'Se-poong': 1, 'Heart': 1, 'Bravo,': 1, 'Trolley': 1, \"Jinx's\": 1, 'Lover': 1, 'Rookie': 1, 'Cops': 1, 'Thirty-Nine': 1, 'Shooting': 1, 'Stars': 1, 'True': 1, 'Sword': 1, 'Battle': 1, 'Forecasting': 1, 'and': 1, 'Weather': 1, 'Accidental': 1, 'Narco': 1, 'Cleaning': 1, 'Up': 1, 'Adamas': 1, 'Eve': 1, 'Mask': 1, 'Spoon': 1, 'Link:': 1, 'Eat,': 1, 'Love,': 1, 'Glitch': 1, 'Romance': 1, 'Lawyer': 1, 'Grid': 1, 'Big': 1, 'Mouse': 1, 'Island': 1, 'Military': 1, 'Prosecutor': 1, 'Doberman': 1, 'Minamdang': 1, 'Semantic': 1, 'Error': 1, 'Superior': 1, 'Day': 1, 'Youngest': 1, 'Son': 1, 'a': 1, 'Conglomerate': 1, 'Us': 1, 'Are': 1, 'Dead': 1, 'Business': 1, 'Proposal': 1, 'Dear.': 1, 'M': 1, 'Green': 1, \"Mothers'\": 1, 'Club': 1, \"Killer's\": 1, 'Shopping': 1, 'List': 1, 'Crazy': 1, 'Dr.': 1, \"Park's\": 1, 'Clinic': 1, 'Origin': 1, 'A,': 1, 'B,': 1, 'Or': 1, 'What?': 1, 'Black': 1, 'Knight': 1})\nremove: ['TV', 'series']\n153 Category:2018 South Korean television series debuts ['Exit South Korean TV series', 'The Time TV series', 'Secrets and Lies South Korean TV series', 'Lovely Horribly', 'My Only One TV series', 'My Secret Terrius', \"It's My Life South Korean TV series\", 'Priest TV series', 'Live South Korean TV series', 'Sea Police', 'Under Nineteen', 'Not the Same Person You Used to Know', 'Lawless Lawyer', '100 Days My Prince', 'Just Dance South Korean TV series', \"Grandma's Restaurant in Samcheong-dong\", 'Cross TV series', 'DoReMi Market', 'Love to the End', '1 Percent of Friendship', 'Misty TV series', \"Super Junior's Super TV\", 'Those Who Cross the Line', 'Encounter South Korean TV series', 'Goodbye to Goodbye', 'South Korean Foreigners', 'Idol Room', 'Matrimonial Chaos', 'The Ghost Detective', 'Less Than Evil', 'Gangnam Beauty', 'Pajama Friends', 'Mr. Sunshine South Korean TV series', \"What's Wrong with Secretary Kim\", 'Mother South Korean TV series', 'My Mister', 'Alien Mom, Alien Dad', 'Life on Mars South Korean TV series', 'Brain-fficial', 'Children of Nobody', 'Should We Kiss First?', 'Player TV series', 'Welcome to Waikiki', 'Taste of Love South Korean TV series', 'Radio Romance TV series', 'Reckless but Happy', '4 Wheeled Restaurant', 'Gangnam Scandal', 'Tale of Fairy', 'Blackpink House', 'Come and Hug Me', 'I Am the Mother Too', 'Ms. Ma, Nemesis', 'Where Are You Going, DdaengChul', 'Twelve Nights', 'Hold Me Tight TV series', 'My Healing Love', 'The Miracle We Met', 'Grand Prince TV series', 'The Call South Korean TV series', 'Omniscient Interfering View', 'A Poem a Day', 'The Smile Has Left Your Eyes TV series', 'Treehouse Detectives', 'You Drive Me Crazy TV series', \"Lady Cha Dal-rae's Lover\", 'Short TV series', 'Clean with Passion for Now', 'Devilish Charm', 'Mistress TV series', 'Dunia: Into a New World', 'Bad Papa', 'Your Honor South Korean TV series', 'Secret Mother', 'Wok of Love', 'Where Stars Land', 'Sketch TV series', 'Room No. 9', 'Problem Child in House', 'Familiar Wife', 'Hide and Seek TV series', 'The Hymn of Death', 'Sweet Revenge 2', 'Through the Waves', 'Ms. Hammurabi', 'The Undateables South Korean TV series', 'Life South Korean TV series', 'About Time TV series', 'My First Love TV series', \"Let's Eat 3\", 'Evergreen TV series', 'Still 17', 'Weekend Playlist', 'The Rich Son', \"Baek Jong-won's Alley Restaurant\", \"It's Dangerous Beyond the Blankets\", 'Vocal Play', 'Dae Jang Geum Is Watching', 'Are You Human?', 'One Night Sleepover Trip', 'Sunny Again Tomorrow', 'To. Jenny', 'Children of a Lesser God TV series', \"Everyone's Kitchen\", 'Marry Me Now', 'Great Escape South Korean TV series', 'The Guest TV series', 'Fates & Furies TV series', 'Coffee, Do Me a Favor', 'Switch South Korean TV series', 'Feel Good to Die', 'The Beauty Inside TV series', 'Village Survival, the Eight', 'Top Star U-back', 'Risky Romance', 'Produce 48', 'Partners for Justice', 'Return TV series', 'We Will Channel You', 'Tempted TV series', 'Yogobara', 'Memories of the Alhambra', 'Love Alert', 'Real Life Men and Women', 'Something in the Rain', 'Suits South Korean TV series', 'Real Man 300', 'My Contracted Husband, Mr. Oh', 'The Last Empress TV series', 'Where on Earth??', 'Begin A Game', 'YG Future Strategy Office', 'Let Me Introduce Her', 'A Pledge to God', 'Busted!', 'Sky Castle', 'Rich Man TV series', 'Nice Witch', 'A Battle of One Voice: 300', 'Talkmon', \"Witch's Love\", 'The Third Charm', 'My Strange Hero', 'Master in the House', 'Cool Kids TV series', 'You Quiz on the Block', 'Heart Surgeons', 'Top Management TV series', 'Yeonnam-dong 539', 'Unexpected Q', 'Mysterious Personal Shopper', 'Queen of Mystery 2', 'Your House Helper']\nCounter({'TV': 46, 'series': 45, 'South': 18, 'Korean': 18, 'The': 12, 'the': 11, 'of': 10, 'My': 9, 'Love': 7, 'You': 6, 'to': 6, 'Me': 6, 'and': 4, 'Life': 4, 'in': 4, 'House': 4, 'A': 4, 'a': 4, 'One': 3, 'Restaurant': 3, 'Mother': 3, 'on': 3, 'We': 3, 'Where': 3, 'Your': 3, 'Time': 2, 'Secret': 2, \"It's\": 2, 'Prince': 2, 'Cross': 2, 'Super': 2, 'Goodbye': 2, 'Room': 2, 'Gangnam': 2, 'Beauty': 2, 'Mr.': 2, 'with': 2, 'Alien': 2, 'Children': 2, 'Romance': 2, 'Ms.': 2, 'Are': 2, 'for': 2, 'Now': 2, 'Charm': 2, '2': 2, 'Rich': 2, 'God': 2, 'Top': 2, 'Real': 2, 'Man': 2, '300': 2, 'Exit': 1, 'Secrets': 1, 'Lies': 1, 'Lovely': 1, 'Horribly': 1, 'Only': 1, 'Terrius': 1, 'Priest': 1, 'Live': 1, 'Sea': 1, 'Police': 1, 'Under': 1, 'Nineteen': 1, 'Not': 1, 'Same': 1, 'Person': 1, 'Used': 1, 'Know': 1, 'Lawless': 1, 'Lawyer': 1, '100': 1, 'Days': 1, 'Just': 1, 'Dance': 1, \"Grandma's\": 1, 'Samcheong-dong': 1, 'DoReMi': 1, 'Market': 1, 'End': 1, '1': 1, 'Percent': 1, 'Friendship': 1, 'Misty': 1, \"Junior's\": 1, 'Those': 1, 'Who': 1, 'Line': 1, 'Encounter': 1, 'Foreigners': 1, 'Idol': 1, 'Matrimonial': 1, 'Chaos': 1, 'Ghost': 1, 'Detective': 1, 'Less': 1, 'Than': 1, 'Evil': 1, 'Pajama': 1, 'Friends': 1, 'Sunshine': 1, \"What's\": 1, 'Wrong': 1, 'Secretary': 1, 'Kim': 1, 'Mister': 1, 'Mom,': 1, 'Dad': 1, 'Mars': 1, 'Brain-fficial': 1, 'Nobody': 1, 'Should': 1, 'Kiss': 1, 'First?': 1, 'Player': 1, 'Welcome': 1, 'Waikiki': 1, 'Taste': 1, 'Radio': 1, 'Reckless': 1, 'but': 1, 'Happy': 1, '4': 1, 'Wheeled': 1, 'Scandal': 1, 'Tale': 1, 'Fairy': 1, 'Blackpink': 1, 'Come': 1, 'Hug': 1, 'I': 1, 'Am': 1, 'Too': 1, 'Ma,': 1, 'Nemesis': 1, 'Going,': 1, 'DdaengChul': 1, 'Twelve': 1, 'Nights': 1, 'Hold': 1, 'Tight': 1, 'Healing': 1, 'Miracle': 1, 'Met': 1, 'Grand': 1, 'Call': 1, 'Omniscient': 1, 'Interfering': 1, 'View': 1, 'Poem': 1, 'Day': 1, 'Smile': 1, 'Has': 1, 'Left': 1, 'Eyes': 1, 'Treehouse': 1, 'Detectives': 1, 'Drive': 1, 'Crazy': 1, 'Lady': 1, 'Cha': 1, \"Dal-rae's\": 1, 'Lover': 1, 'Short': 1, 'Clean': 1, 'Passion': 1, 'Devilish': 1, 'Mistress': 1, 'Dunia:': 1, 'Into': 1, 'New': 1, 'World': 1, 'Bad': 1, 'Papa': 1, 'Honor': 1, 'Wok': 1, 'Stars': 1, 'Land': 1, 'Sketch': 1, 'No.': 1, '9': 1, 'Problem': 1, 'Child': 1, 'Familiar': 1, 'Wife': 1, 'Hide': 1, 'Seek': 1, 'Hymn': 1, 'Death': 1, 'Sweet': 1, 'Revenge': 1, 'Through': 1, 'Waves': 1, 'Hammurabi': 1, 'Undateables': 1, 'About': 1, 'First': 1, \"Let's\": 1, 'Eat': 1, '3': 1, 'Evergreen': 1, 'Still': 1, '17': 1, 'Weekend': 1, 'Playlist': 1, 'Son': 1, 'Baek': 1, \"Jong-won's\": 1, 'Alley': 1, 'Dangerous': 1, 'Beyond': 1, 'Blankets': 1, 'Vocal': 1, 'Play': 1, 'Dae': 1, 'Jang': 1, 'Geum': 1, 'Is': 1, 'Watching': 1, 'Human?': 1, 'Night': 1, 'Sleepover': 1, 'Trip': 1, 'Sunny': 1, 'Again': 1, 'Tomorrow': 1, 'To.': 1, 'Jenny': 1, 'Lesser': 1, \"Everyone's\": 1, 'Kitchen': 1, 'Marry': 1, 'Great': 1, 'Escape': 1, 'Guest': 1, 'Fates': 1, '&': 1, 'Furies': 1, 'Coffee,': 1, 'Do': 1, 'Favor': 1, 'Switch': 1, 'Feel': 1, 'Good': 1, 'Die': 1, 'Inside': 1, 'Village': 1, 'Survival,': 1, 'Eight': 1, 'Star': 1, 'U-back': 1, 'Risky': 1, 'Produce': 1, '48': 1, 'Partners': 1, 'Justice': 1, 'Return': 1, 'Will': 1, 'Channel': 1, 'Tempted': 1, 'Yogobara': 1, 'Memories': 1, 'Alhambra': 1, 'Alert': 1, 'Men': 1, 'Women': 1, 'Something': 1, 'Rain': 1, 'Suits': 1, 'Contracted': 1, 'Husband,': 1, 'Oh': 1, 'Last': 1, 'Empress': 1, 'Earth??': 1, 'Begin': 1, 'Game': 1, 'YG': 1, 'Future': 1, 'Strategy': 1, 'Office': 1, 'Let': 1, 'Introduce': 1, 'Her': 1, 'Pledge': 1, 'Busted!': 1, 'Sky': 1, 'Castle': 1, 'Nice': 1, 'Witch': 1, 'Battle': 1, 'Voice:': 1, 'Talkmon': 1, \"Witch's\": 1, 'Third': 1, 'Strange': 1, 'Hero': 1, 'Master': 1, 'Cool': 1, 'Kids': 1, 'Quiz': 1, 'Block': 1, 'Heart': 1, 'Surgeons': 1, 'Management': 1, 'Yeonnam-dong': 1, '539': 1, 'Unexpected': 1, 'Q': 1, 'Mysterious': 1, 'Personal': 1, 'Shopper': 1, 'Queen': 1, 'Mystery': 1, 'Helper': 1})\nremove: ['TV', 'series']\n112 Category:South Korean thriller television series ['Liar Game 2014 TV series', 'White Christmas TV series', 'Voice TV series', 'Reset South Korean TV series', 'Secret Boutique', 'Somebody TV series', 'Golden Cross TV series', 'Secret Love South Korean TV series', 'Priest TV series', 'Kill Heel', 'Bad Guys TV series', 'Lawless Lawyer', 'Special Affairs Team TEN', 'Iris TV series', 'Cross TV series', 'Search South Korean TV series', 'My Dangerous Wife', 'Hello Monster', 'The Accidental Narco', 'Hellbound TV series', 'Misty TV series', 'Duel South Korean TV series', 'Goodbye Mr. Black', 'Hometown South Korean TV series', 'Three Days TV series', 'The Ghost Detective', 'Less Than Evil', 'Dr. Brain TV series', 'Dr. Frost TV series', 'Babysitter TV series', 'Children of Nobody', 'Iris II: New Generation', 'Distorted TV series', 'Insider South Korean TV series', 'Vagabond TV series', 'Punch TV series', \"Don't Look Back: The Legend of Orpheus\", 'Missing You South Korean TV series', 'The Devil TV series', 'Trap TV series', 'Watcher TV series', 'The Missing 2015 TV series', 'Bad Guys 2', 'Cheo Yong', 'Suspicious Partner', 'The Cursed TV series', 'Hidden Identity TV series', 'One Ordinary Day', 'Tunnel TV series', 'The Guardians South Korean TV series', 'Psychopath Diary', 'The Smile Has Left Your Eyes TV series', 'Tell Me What You Saw', 'Whisper TV series', 'Mistress TV series', 'The Virus TV series', 'Revolutionary Sisters', 'Secret Mother', 'Athena: Goddess of War', 'Mrs. Cop 2', 'Chimera South Korean TV series', 'Spy 2015 TV series', 'Class of Lies', 'Tracer TV series', 'Train TV series', 'Wanted South Korean TV series', 'Through the Darkness TV series', 'Chip In', 'Children of a Lesser God TV series', 'Remember TV series', 'The Guest TV series', 'Hell Is Other People', 'Resurrection South Korean TV series', 'The Slingshot', 'The Veil South Korean TV series', 'Innocent Defendant', 'Two Weeks TV series', 'City Hunter TV series', 'Gap-dong', \"The Village: Achiara's Secret\", 'Mrs. Cop', 'Cheat on Me If You Can', 'Return TV series', 'Untouchable South Korean TV series', 'Possessed TV series', 'Kairos TV series', 'Mouse TV series', 'Mad Dog TV series', 'The Last Empress TV series', 'The Road: The Tragedy of One', 'Birthday Letter', 'Inspector Koo', 'Beyond Evil TV series', 'Mine TV series', 'The Silent Sea TV series', 'Stranger TV series', 'History of a Salaryman', 'The Lies Within', 'The Chaser TV series', 'Let Me Introduce Her', 'Heartless City', 'Kingdom South Korean TV series', 'Hong Kong Express TV series', 'Pied Piper TV series', \"God's Gift: 14 Days\", 'Save Me 2', 'Black South Korean TV series', 'When the Camellia Blooms', 'Kill It', 'Blood South Korean TV series', 'War of Money', 'Save Me South Korean TV series']\nCounter({'TV': 68, 'series': 68, 'The': 19, 'South': 17, 'Korean': 17, 'of': 8, 'Me': 5, 'Secret': 4, 'You': 3, '2': 3, 'Cross': 2, 'Kill': 2, 'Bad': 2, 'Guys': 2, 'Iris': 2, 'Black': 2, 'Days': 2, 'Evil': 2, 'Dr.': 2, 'Children': 2, 'Missing': 2, '2015': 2, 'One': 2, 'War': 2, 'Mrs.': 2, 'Cop': 2, 'Lies': 2, 'the': 2, 'a': 2, 'City': 2, 'Save': 2, 'Liar': 1, 'Game': 1, '2014': 1, 'White': 1, 'Christmas': 1, 'Voice': 1, 'Reset': 1, 'Boutique': 1, 'Somebody': 1, 'Golden': 1, 'Love': 1, 'Priest': 1, 'Heel': 1, 'Lawless': 1, 'Lawyer': 1, 'Special': 1, 'Affairs': 1, 'Team': 1, 'TEN': 1, 'Search': 1, 'My': 1, 'Dangerous': 1, 'Wife': 1, 'Hello': 1, 'Monster': 1, 'Accidental': 1, 'Narco': 1, 'Hellbound': 1, 'Misty': 1, 'Duel': 1, 'Goodbye': 1, 'Mr.': 1, 'Hometown': 1, 'Three': 1, 'Ghost': 1, 'Detective': 1, 'Less': 1, 'Than': 1, 'Brain': 1, 'Frost': 1, 'Babysitter': 1, 'Nobody': 1, 'II:': 1, 'New': 1, 'Generation': 1, 'Distorted': 1, 'Insider': 1, 'Vagabond': 1, 'Punch': 1, \"Don't\": 1, 'Look': 1, 'Back:': 1, 'Legend': 1, 'Orpheus': 1, 'Devil': 1, 'Trap': 1, 'Watcher': 1, 'Cheo': 1, 'Yong': 1, 'Suspicious': 1, 'Partner': 1, 'Cursed': 1, 'Hidden': 1, 'Identity': 1, 'Ordinary': 1, 'Day': 1, 'Tunnel': 1, 'Guardians': 1, 'Psychopath': 1, 'Diary': 1, 'Smile': 1, 'Has': 1, 'Left': 1, 'Your': 1, 'Eyes': 1, 'Tell': 1, 'What': 1, 'Saw': 1, 'Whisper': 1, 'Mistress': 1, 'Virus': 1, 'Revolutionary': 1, 'Sisters': 1, 'Mother': 1, 'Athena:': 1, 'Goddess': 1, 'Chimera': 1, 'Spy': 1, 'Class': 1, 'Tracer': 1, 'Train': 1, 'Wanted': 1, 'Through': 1, 'Darkness': 1, 'Chip': 1, 'In': 1, 'Lesser': 1, 'God': 1, 'Remember': 1, 'Guest': 1, 'Hell': 1, 'Is': 1, 'Other': 1, 'People': 1, 'Resurrection': 1, 'Slingshot': 1, 'Veil': 1, 'Innocent': 1, 'Defendant': 1, 'Two': 1, 'Weeks': 1, 'Hunter': 1, 'Gap-dong': 1, 'Village:': 1, \"Achiara's\": 1, 'Cheat': 1, 'on': 1, 'If': 1, 'Can': 1, 'Return': 1, 'Untouchable': 1, 'Possessed': 1, 'Kairos': 1, 'Mouse': 1, 'Mad': 1, 'Dog': 1, 'Last': 1, 'Empress': 1, 'Road:': 1, 'Tragedy': 1, 'Birthday': 1, 'Letter': 1, 'Inspector': 1, 'Koo': 1, 'Beyond': 1, 'Mine': 1, 'Silent': 1, 'Sea': 1, 'Stranger': 1, 'History': 1, 'Salaryman': 1, 'Within': 1, 'Chaser': 1, 'Let': 1, 'Introduce': 1, 'Her': 1, 'Heartless': 1, 'Kingdom': 1, 'Hong': 1, 'Kong': 1, 'Express': 1, 'Pied': 1, 'Piper': 1, \"God's\": 1, 'Gift:': 1, '14': 1, 'When': 1, 'Camellia': 1, 'Blooms': 1, 'It': 1, 'Blood': 1, 'Money': 1})\nremove: ['TV', 'series']\n114 Category:2021 South Korean television series debuts ['National Bang Bang Cook Cook', 'The Soldiers South Korean TV series', 'Love ft. Marriage and Divorce', 'Street Dance Girls Fighter', 'Petkage', 'The One and Only South Korean TV series', \"The Witch's Diner\", \"We Don't Bite: Villains in the Countryside\", \"Youn's Stay\", 'Dolsing Fourmen', 'L.U.C.A.: The Beginning', 'Love Scene Number', 'You Are My Spring', 'Young Lady and Gentleman', 'Honeymoon Tavern', 'Hellbound TV series', 'At a Distance, Spring Is Green', 'Bad and Crazy', 'Uncle South Korean TV series', \"Dota: Dragon's Blood\", 'Hometown South Korean TV series', 'On the Verge of Insanity', 'Our Beloved Summer', 'Red Shoes TV series', 'She Would Never Know', \"Here's My Plan\", 'Long Live Independence', 'Oh My Ladylord', 'Unframed', 'Jirisan TV series', 'Now, We Are Breaking Up', 'Sing Again', 'Love Twist', 'Dr. Brain TV series', 'Law School TV series', 'The All-Round Wife', 'Miss Monte-Cristo', 'Sisyphus: The Myth', 'High Class TV series', 'Police University', 'Unexpected Business', 'So Not Worth It', 'Moonshine South Korean TV series', 'One Ordinary Day', 'Imitation TV series', 'Amor Fati TV series', 'Happiness South Korean TV series', 'Move to Heaven', 'The Red Sleeve', 'Sell Your Haunted House', 'D.P. TV series', 'Revolutionary Sisters', 'Undercover 2021 TV series', 'Crazy Recipe Adventure', 'The Devil Judge', 'Racket Boys', 'Chimera South Korean TV series', 'Tiki-taCAR', 'Girls Planet 999', 'One the Woman', 'Let Me Be Your Knight', 'Lovers of the Red Sky', 'Snowdrop South Korean TV series', 'Vincenzo TV series', 'Steel Troops', 'Bossam: Steal the Fate', 'Doom at Your Service', 'Hello, Me!', 'Hometown Cha-Cha-Cha', 'Dali and Cocky Prince', 'Youth of May', \"The King's Affection\", 'The Veil South Korean TV series', 'Idol: The Coup', 'My Roommate Is a Gumiho', 'Dark Hole', 'Reflection of You', 'River Where the Moon Rises', 'Golf Battle: Birdie Buddies', 'Work Later, Drink Now', 'Navillera TV series', 'Friends 2021 TV program', 'Mouse TV series', 'So I Married the Anti-fan', 'Sea of Hope', 'Lost South Korean TV series', 'Street Woman Fighter', \"Yumi's Cells\", 'Joseon Exorcist', 'Loud South Korean TV series', 'My Name TV series', 'The Road: The Tragedy of One', 'Mine TV series', 'Inspector Koo', 'Beyond Evil TV series', 'Mama The Idol', 'Artificial City', 'Monthly Magazine Home', 'The Silent Sea TV series', 'My Teenage Girl', 'Falling for Korea - Transnational Couples', 'Kingdom: Legendary War', 'The Second Husband', 'Nevertheless TV series', 'The King of Tears, Lee Bang-won', 'Times TV series', 'Secret Royal Inspector & Joy', 'The Listen: Wind Blows', 'Be My Dream Family', 'Bulgasal: Immortal Souls', 'Taxi Driver South Korean TV series', 'Melancholia TV series', \"Show Window: The Queen's House\", 'School 2021']\nCounter({'TV': 33, 'series': 32, 'The': 19, 'South': 12, 'Korean': 12, 'the': 7, 'My': 7, 'of': 7, 'and': 5, 'One': 4, 'Love': 3, 'Red': 3, 'Your': 3, '2021': 3, 'Bang': 2, 'Cook': 2, 'Street': 2, 'Girls': 2, 'Fighter': 2, 'We': 2, 'You': 2, 'Are': 2, 'Spring': 2, 'a': 2, 'Is': 2, 'Crazy': 2, 'Hometown': 2, 'School': 2, 'So': 2, 'House': 2, 'Woman': 2, 'Be': 2, 'Sea': 2, 'Inspector': 2, 'National': 1, 'Soldiers': 1, 'ft.': 1, 'Marriage': 1, 'Divorce': 1, 'Dance': 1, 'Petkage': 1, 'Only': 1, \"Witch's\": 1, 'Diner': 1, \"Don't\": 1, 'Bite:': 1, 'Villains': 1, 'in': 1, 'Countryside': 1, \"Youn's\": 1, 'Stay': 1, 'Dolsing': 1, 'Fourmen': 1, 'L.U.C.A.:': 1, 'Beginning': 1, 'Scene': 1, 'Number': 1, 'Young': 1, 'Lady': 1, 'Gentleman': 1, 'Honeymoon': 1, 'Tavern': 1, 'Hellbound': 1, 'At': 1, 'Distance,': 1, 'Green': 1, 'Bad': 1, 'Uncle': 1, 'Dota:': 1, \"Dragon's\": 1, 'Blood': 1, 'On': 1, 'Verge': 1, 'Insanity': 1, 'Our': 1, 'Beloved': 1, 'Summer': 1, 'Shoes': 1, 'She': 1, 'Would': 1, 'Never': 1, 'Know': 1, \"Here's\": 1, 'Plan': 1, 'Long': 1, 'Live': 1, 'Independence': 1, 'Oh': 1, 'Ladylord': 1, 'Unframed': 1, 'Jirisan': 1, 'Now,': 1, 'Breaking': 1, 'Up': 1, 'Sing': 1, 'Again': 1, 'Twist': 1, 'Dr.': 1, 'Brain': 1, 'Law': 1, 'All-Round': 1, 'Wife': 1, 'Miss': 1, 'Monte-Cristo': 1, 'Sisyphus:': 1, 'Myth': 1, 'High': 1, 'Class': 1, 'Police': 1, 'University': 1, 'Unexpected': 1, 'Business': 1, 'Not': 1, 'Worth': 1, 'It': 1, 'Moonshine': 1, 'Ordinary': 1, 'Day': 1, 'Imitation': 1, 'Amor': 1, 'Fati': 1, 'Happiness': 1, 'Move': 1, 'to': 1, 'Heaven': 1, 'Sleeve': 1, 'Sell': 1, 'Haunted': 1, 'D.P.': 1, 'Revolutionary': 1, 'Sisters': 1, 'Undercover': 1, 'Recipe': 1, 'Adventure': 1, 'Devil': 1, 'Judge': 1, 'Racket': 1, 'Boys': 1, 'Chimera': 1, 'Tiki-taCAR': 1, 'Planet': 1, '999': 1, 'Let': 1, 'Me': 1, 'Knight': 1, 'Lovers': 1, 'Sky': 1, 'Snowdrop': 1, 'Vincenzo': 1, 'Steel': 1, 'Troops': 1, 'Bossam:': 1, 'Steal': 1, 'Fate': 1, 'Doom': 1, 'at': 1, 'Service': 1, 'Hello,': 1, 'Me!': 1, 'Cha-Cha-Cha': 1, 'Dali': 1, 'Cocky': 1, 'Prince': 1, 'Youth': 1, 'May': 1, \"King's\": 1, 'Affection': 1, 'Veil': 1, 'Idol:': 1, 'Coup': 1, 'Roommate': 1, 'Gumiho': 1, 'Dark': 1, 'Hole': 1, 'Reflection': 1, 'River': 1, 'Where': 1, 'Moon': 1, 'Rises': 1, 'Golf': 1, 'Battle:': 1, 'Birdie': 1, 'Buddies': 1, 'Work': 1, 'Later,': 1, 'Drink': 1, 'Now': 1, 'Navillera': 1, 'Friends': 1, 'program': 1, 'Mouse': 1, 'I': 1, 'Married': 1, 'Anti-fan': 1, 'Hope': 1, 'Lost': 1, \"Yumi's\": 1, 'Cells': 1, 'Joseon': 1, 'Exorcist': 1, 'Loud': 1, 'Name': 1, 'Road:': 1, 'Tragedy': 1, 'Mine': 1, 'Koo': 1, 'Beyond': 1, 'Evil': 1, 'Mama': 1, 'Idol': 1, 'Artificial': 1, 'City': 1, 'Monthly': 1, 'Magazine': 1, 'Home': 1, 'Silent': 1, 'Teenage': 1, 'Girl': 1, 'Falling': 1, 'for': 1, 'Korea': 1, '-': 1, 'Transnational': 1, 'Couples': 1, 'Kingdom:': 1, 'Legendary': 1, 'War': 1, 'Second': 1, 'Husband': 1, 'Nevertheless': 1, 'King': 1, 'Tears,': 1, 'Lee': 1, 'Bang-won': 1, 'Times': 1, 'Secret': 1, 'Royal': 1, '&': 1, 'Joy': 1, 'Listen:': 1, 'Wind': 1, 'Blows': 1, 'Dream': 1, 'Family': 1, 'Bulgasal:': 1, 'Immortal': 1, 'Souls': 1, 'Taxi': 1, 'Driver': 1, 'Melancholia': 1, 'Show': 1, 'Window:': 1, \"Queen's\": 1})\nremove: ['TV', 'series']\n11 Category:South Korean horror fiction television series ['Jirisan TV series', 'Kingdom South Korean TV series', 'Bring It On, Ghost', 'Sweet Home TV series', 'The Guest TV series', 'All of Us Are Dead', 'Soul South Korean TV series', 'The Ghost Detective', 'Zombie Detective', 'Hellbound TV series', 'Grudge: The Revolt of Gumiho']\nCounter({'TV': 6, 'series': 6, 'The': 3, 'South': 2, 'Korean': 2, 'Ghost': 2, 'of': 2, 'Detective': 2, 'Jirisan': 1, 'Kingdom': 1, 'Bring': 1, 'It': 1, 'On,': 1, 'Sweet': 1, 'Home': 1, 'Guest': 1, 'All': 1, 'Us': 1, 'Are': 1, 'Dead': 1, 'Soul': 1, 'Zombie': 1, 'Hellbound': 1, 'Grudge:': 1, 'Revolt': 1, 'Gumiho': 1})\nremove: []\nSquid Game\nCPU times: user 3 µs, sys: 0 ns, total: 3 µs\nWall time: 7.63 µs\n",
     "output_type": "stream"
    }
   ],
   "execution_count": null
  },
  {
   "cell_type": "code",
   "metadata": {
    "cell_id": "9fc3d166cb3d49e5bc255cbccb102232",
    "tags": [],
    "deepnote_to_be_reexecuted": false,
    "source_hash": "d2f87963",
    "execution_start": 1650197795228,
    "execution_millis": 1130,
    "deepnote_cell_type": "code",
    "deepnote_cell_height": 148.1875
   },
   "source": "#Find subreddits\nimport Step2_Find_Subreddits as fsub\n#importlib.reload(fsub)",
   "outputs": [
    {
     "name": "stdout",
     "text": "importing Jupyter notebook from Step2_Find_Subreddits.ipynb\n",
     "output_type": "stream"
    }
   ],
   "execution_count": null
  },
  {
   "cell_type": "code",
   "metadata": {
    "cell_id": "f7dbb9580e8243419e5e6cb76bc84de9",
    "tags": [],
    "deepnote_to_be_reexecuted": false,
    "source_hash": "2a709622",
    "execution_start": 1650197796361,
    "execution_millis": 1101,
    "deepnote_cell_type": "code",
    "deepnote_cell_height": 148.1875
   },
   "source": "#Find influencers\nimport Step3_Find_Influencers as finf\n#importlib.reload(finf)",
   "outputs": [
    {
     "name": "stdout",
     "text": "importing Jupyter notebook from Step3_Find_Influencers.ipynb\n",
     "output_type": "stream"
    }
   ],
   "execution_count": null
  },
  {
   "cell_type": "code",
   "metadata": {
    "cell_id": "ceeb3dc7a4664a5c87dd31df5e20ba93",
    "tags": [],
    "deepnote_to_be_reexecuted": false,
    "source_hash": "fd1c0325",
    "execution_start": 1650197797464,
    "execution_millis": 5708,
    "deepnote_cell_type": "code",
    "deepnote_cell_height": 1016.1875
   },
   "source": "#Find relevant influencer posts\nimport Step4_Find_Influencer_Relevant_Posts as fposts\n#importlib.reload(fposts)",
   "outputs": [
    {
     "name": "stdout",
     "text": "importing Jupyter notebook from Step4_Find_Influencer_Relevant_Posts.ipynb\n",
     "output_type": "stream"
    },
    {
     "data": {
      "text/plain": "Downloading:   0%|          | 0.00/1.18k [00:00<?, ?B/s]",
      "application/vnd.jupyter.widget-view+json": {
       "version_major": 2,
       "version_minor": 0,
       "model_id": "1781c60b07c94272ac05985edcf8a7e8"
      }
     },
     "metadata": {},
     "output_type": "display_data"
    },
    {
     "data": {
      "text/plain": "Downloading:   0%|          | 0.00/190 [00:00<?, ?B/s]",
      "application/vnd.jupyter.widget-view+json": {
       "version_major": 2,
       "version_minor": 0,
       "model_id": "fc4b49cd9bf843f59b50d17a0b9f048c"
      }
     },
     "metadata": {},
     "output_type": "display_data"
    },
    {
     "data": {
      "text/plain": "Downloading:   0%|          | 0.00/10.2k [00:00<?, ?B/s]",
      "application/vnd.jupyter.widget-view+json": {
       "version_major": 2,
       "version_minor": 0,
       "model_id": "d7278e3d97114622a8581991d2c2d4f3"
      }
     },
     "metadata": {},
     "output_type": "display_data"
    },
    {
     "data": {
      "text/plain": "Downloading:   0%|          | 0.00/573 [00:00<?, ?B/s]",
      "application/vnd.jupyter.widget-view+json": {
       "version_major": 2,
       "version_minor": 0,
       "model_id": "e27acd160dd844c18ac2f560be9072a8"
      }
     },
     "metadata": {},
     "output_type": "display_data"
    },
    {
     "data": {
      "text/plain": "Downloading:   0%|          | 0.00/116 [00:00<?, ?B/s]",
      "application/vnd.jupyter.widget-view+json": {
       "version_major": 2,
       "version_minor": 0,
       "model_id": "813a207d048c4bc484f093e92639c22d"
      }
     },
     "metadata": {},
     "output_type": "display_data"
    },
    {
     "data": {
      "text/plain": "Downloading:   0%|          | 0.00/39.3k [00:00<?, ?B/s]",
      "application/vnd.jupyter.widget-view+json": {
       "version_major": 2,
       "version_minor": 0,
       "model_id": "2632269f7db1466395f06e06013ca389"
      }
     },
     "metadata": {},
     "output_type": "display_data"
    },
    {
     "data": {
      "text/plain": "Downloading:   0%|          | 0.00/349 [00:00<?, ?B/s]",
      "application/vnd.jupyter.widget-view+json": {
       "version_major": 2,
       "version_minor": 0,
       "model_id": "8dbe58ea973a408c82e5f9f9bafae584"
      }
     },
     "metadata": {},
     "output_type": "display_data"
    },
    {
     "data": {
      "text/plain": "Downloading:   0%|          | 0.00/134M [00:00<?, ?B/s]",
      "application/vnd.jupyter.widget-view+json": {
       "version_major": 2,
       "version_minor": 0,
       "model_id": "0a86ee86b5e44e3288c6babbf9b191ef"
      }
     },
     "metadata": {},
     "output_type": "display_data"
    },
    {
     "data": {
      "text/plain": "Downloading:   0%|          | 0.00/53.0 [00:00<?, ?B/s]",
      "application/vnd.jupyter.widget-view+json": {
       "version_major": 2,
       "version_minor": 0,
       "model_id": "b3aa9b4c4d674c93a28a83b9ad6f7077"
      }
     },
     "metadata": {},
     "output_type": "display_data"
    },
    {
     "data": {
      "text/plain": "Downloading:   0%|          | 0.00/112 [00:00<?, ?B/s]",
      "application/vnd.jupyter.widget-view+json": {
       "version_major": 2,
       "version_minor": 0,
       "model_id": "d74fddece09f47bf8ea0ebeeadd33496"
      }
     },
     "metadata": {},
     "output_type": "display_data"
    },
    {
     "data": {
      "text/plain": "Downloading:   0%|          | 0.00/466k [00:00<?, ?B/s]",
      "application/vnd.jupyter.widget-view+json": {
       "version_major": 2,
       "version_minor": 0,
       "model_id": "729996496a354c7382c6b88801101591"
      }
     },
     "metadata": {},
     "output_type": "display_data"
    },
    {
     "data": {
      "text/plain": "Downloading:   0%|          | 0.00/352 [00:00<?, ?B/s]",
      "application/vnd.jupyter.widget-view+json": {
       "version_major": 2,
       "version_minor": 0,
       "model_id": "5ecff03e7bb047bda8cc697f417bd333"
      }
     },
     "metadata": {},
     "output_type": "display_data"
    },
    {
     "data": {
      "text/plain": "Downloading:   0%|          | 0.00/13.2k [00:00<?, ?B/s]",
      "application/vnd.jupyter.widget-view+json": {
       "version_major": 2,
       "version_minor": 0,
       "model_id": "f7428d0749894d7cbf039443916858e3"
      }
     },
     "metadata": {},
     "output_type": "display_data"
    },
    {
     "data": {
      "text/plain": "Downloading:   0%|          | 0.00/232k [00:00<?, ?B/s]",
      "application/vnd.jupyter.widget-view+json": {
       "version_major": 2,
       "version_minor": 0,
       "model_id": "00972d3221a84bfd939e0784c01abd7e"
      }
     },
     "metadata": {},
     "output_type": "display_data"
    }
   ],
   "execution_count": null
  },
  {
   "cell_type": "code",
   "metadata": {
    "cell_id": "17a4b6610da144b5a708f485f59dbd8e",
    "tags": [],
    "deepnote_to_be_reexecuted": false,
    "source_hash": "6f842bdf",
    "execution_start": 1650216607160,
    "execution_millis": 12539,
    "deepnote_cell_type": "code",
    "deepnote_cell_height": 664.75
   },
   "source": "#Create CRF model to find new terms in unseen Reddit posts\nimport Step5_CRF_Find_New_Terms as crfnt\n#importlib.reload(crfnt)",
   "outputs": [
    {
     "name": "stdout",
     "text": "importing Jupyter notebook from Step5_CRF_Find_New_Terms.ipynb\n",
     "output_type": "stream"
    },
    {
     "data": {
      "text/plain": "Downloading https://raw.githubusercontent.com/stanfordnlp/stanza-resources/main/resources_1.3.0.json:   0%|   …",
      "application/vnd.jupyter.widget-view+json": {
       "version_major": 2,
       "version_minor": 0,
       "model_id": "317d2bdf73af462d916bdfabe9d840fc"
      }
     },
     "metadata": {},
     "output_type": "display_data"
    },
    {
     "name": "stderr",
     "text": "2022-04-17 17:30:09 INFO: Downloading default packages for language: en (English)...\n2022-04-17 17:30:12 INFO: File exists: /root/stanza_resources/en/default.zip.\n2022-04-17 17:30:18 INFO: Finished downloading models and saved to /root/stanza_resources.\n2022-04-17 17:30:18 INFO: Loading these models for language: en (English):\n========================\n| Processor | Package  |\n------------------------\n| tokenize  | combined |\n| pos       | combined |\n========================\n\n2022-04-17 17:30:18 INFO: Use device: cpu\n2022-04-17 17:30:18 INFO: Loading: tokenize\n2022-04-17 17:30:18 INFO: Loading: pos\n2022-04-17 17:30:18 INFO: Done loading processors!\nCPU times: user 2 µs, sys: 1e+03 ns, total: 3 µs\nWall time: 5.96 µs\nCPU times: user 3 µs, sys: 0 ns, total: 3 µs\nWall time: 5.72 µs\n",
     "output_type": "stream"
    }
   ],
   "execution_count": null
  },
  {
   "cell_type": "markdown",
   "source": "### Set Parameter Values \nThe parameters will indicate how large our search scope will be within Reddit, as well as indicating whether we are running in Minimum Viable Product (MVP) mode.\n\nOur MVP mode uses pre-created pickle files for selected topics that have already been run through the full pipeline to quickly generate a result for viewing.",
   "metadata": {
    "cell_id": "f08402a5cdd148f6af11bd0d82cf683e",
    "tags": [],
    "deepnote_cell_type": "markdown",
    "deepnote_cell_height": 181.5625
   }
  },
  {
   "cell_type": "code",
   "metadata": {
    "cell_id": "b66af829d6fd48df8983760057904c87",
    "tags": [],
    "deepnote_to_be_reexecuted": false,
    "source_hash": "4853811d",
    "execution_start": 1650197811936,
    "execution_millis": 135,
    "owner_user_id": "9187ece3-39a6-4bea-aed6-9a68f93aaf4f",
    "deepnote_cell_type": "code",
    "deepnote_cell_height": 567
   },
   "source": "# #Set Parameters\n#For selecting subreddits\nnum_subreddits = 10 #Number of subreddits we will return for the analysis\nmin_subreddit_subscribers = 20000 #Size limit on a subreddit for inclusion in analysis\n\n#For finding influencers\nnum_submissions = 50\nnum_influencers = 5\nmin_occur = 2\nmax_com = 0\nload_subm = False\nequal_sub = True\n\n\n\n#For finding relevant posts from influencers\nper_author_limit=500 #Maximum number of comments to be returned for one user\npost_limit = 10000 #Maximum number of comments/submissions to return from this process\n\nend_date = (date.today() + timedelta(days=1)).strftime(\"%m/%d/%Y\")  #Posts dated before this date will be included\nstart_date = (date.today() - timedelta(days=31)).strftime(\"%m/%d/%Y\") #Posts dated after this date will be included\n\n\nmvp_flag = False #If true, uses an existing pickle file\n\n# mvp_terms = ['Squid Game', 'Cronut', 'Settlers of Catan', 'dogecoin', 'Beastie Boys',\n#                     'Elon Musk', 'Birkin Bag', 'Apple IPhone', 'PS5', 'oxycontin' ]\n",
   "outputs": [],
   "execution_count": null
  },
  {
   "cell_type": "markdown",
   "source": "### What are we finding the Next Big Thing of?",
   "metadata": {
    "cell_id": "9dca6b5c7e53476799755032eaab660d",
    "tags": [],
    "deepnote_cell_type": "markdown",
    "deepnote_cell_height": 62
   }
  },
  {
   "cell_type": "code",
   "metadata": {
    "cell_id": "9ee6c6b515d74932aa287feb26ea08d0",
    "tags": [],
    "deepnote_to_be_reexecuted": false,
    "source_hash": "f0fd74dd",
    "execution_start": 1650197812135,
    "execution_millis": 219,
    "owner_user_id": "f9c4ad17-97d3-4f24-b7b0-bc099d48c5ec",
    "deepnote_cell_type": "code",
    "deepnote_cell_height": 261
   },
   "source": "# term = 'squid game'\n# term = 'cronut'\n# term = 'Settlers of Catan'\n# term = 'dogecoin'\n# term = \"Beastie Boys\"\n# term = 'Elon Musk'\n# term = 'Birkin Bag'\n# term = 'Apple Iphone'\n# term = 'PS5'\nterm = 'oxycontin'\n# term = 'TikTok'",
   "outputs": [],
   "execution_count": null
  },
  {
   "cell_type": "markdown",
   "source": "### Get initial Wikipedia data about our user entry\nThis step finds the Wikipedia entry for our user entered item. It runs the Wikipedia summary of the item, found at the top of the webpage, through NLP processing to identify what we refer to as the NLP category of the item, and also finds the Wikipedia categories for the item. It filters the Wikipedia categories for those that are relevant to our original item, and creates new categories based on years/decades, that we can hopefully use to identify \"newer\" categories of the same subject. For example, for Squid Game:\n\n#### wiki_term\n'Squid Game'\n\n#### nlp_cat_phrase\n['Korean', 'drama', 'television', 'series']\n\n#### best_wiki_cats\n['Category:2021 South Korean television series debuts',\n'Category:South Korean action television series',\n'Category:South Korean horror fiction television series',\n'Category:South Korean thriller television series',\n'Category:Television shows set in Seoul']\n\n#### wiki_cats\n['Category:South Korean thriller television series',\n'Category:2021 South Korean television series debuts',\n'Category:South Korean horror fiction television series',\n'Category:2020 South Korean television series debuts',\n'Category:2018 South Korean television series debuts',\n'Category:2022 South Korean television series debuts',\n'Category:2019 South Korean television series debuts',\n'Category:South Korean action television series',\n'Category:Television shows set in Seoul']\n",
   "metadata": {
    "cell_id": "70678ec0f322462b823c0fceccb40f75",
    "tags": [],
    "deepnote_cell_type": "markdown",
    "deepnote_cell_height": 587.078125
   }
  },
  {
   "cell_type": "code",
   "metadata": {
    "cell_id": "54c236d3539d4c37b96292787aad2dfc",
    "tags": [],
    "deepnote_to_be_reexecuted": false,
    "source_hash": "a7e2b993",
    "execution_start": 1650197812355,
    "execution_millis": 2465,
    "deepnote_cell_type": "code",
    "deepnote_cell_height": 558.125
   },
   "source": "#Get category data\nnlp_cat_phrase, wiki_cats, best_wiki_cats, wiki_term = fcat.get_category_from_search_term(term)",
   "outputs": [
    {
     "name": "stdout",
     "text": "first_wiki_term: Oxycodone\nnlp phrase: ['semi-synthetic', 'opioid', 'medication']\nwiki_cats: ['Category:Catechol ethers', 'Category:Drug culture', 'Category:Euphoriants', 'Category:German inventions', 'Category:Morphinans', 'Category:Mu-opioid receptor agonists', 'Category:Pfizer brands', 'Category:Semisynthetic opioids', 'Category:World Health Organization essential medicines']\n\nRemove wiki-cats too close to actual term(first term)\n['Oxycodone', 'Category:Catechol ethers', 'Category:Drug culture', 'Category:Euphoriants', 'Category:German inventions', 'Category:Morphinans', 'Category:Mu-opioid receptor agonists', 'Category:Pfizer brands', 'Category:Semisynthetic opioids', 'Category:World Health Organization essential medicines']\n[0.99999976 0.19597459 0.34313285 0.17228031 0.07071519 0.16506061\n 0.38255984 0.11099774 0.437603   0.30538857]\n[]\nafter rem: ['Category:Catechol ethers', 'Category:Drug culture', 'Category:Euphoriants', 'Category:German inventions', 'Category:Morphinans', 'Category:Mu-opioid receptor agonists', 'Category:Pfizer brands', 'Category:Semisynthetic opioids', 'Category:World Health Organization essential medicines']\nKeep wiki-cats not too far to found category(first term)\n['semi-synthetic opioid medication', 'Category:Catechol ethers', 'Category:Drug culture', 'Category:Euphoriants', 'Category:German inventions', 'Category:Morphinans', 'Category:Mu-opioid receptor agonists', 'Category:Pfizer brands', 'Category:Semisynthetic opioids', 'Category:World Health Organization essential medicines']\n[0.9999999  0.20559266 0.42069745 0.14128968 0.09533735 0.19746414\n 0.6172269  0.21795115 0.78536373 0.36740565]\nkeep idx: [7]\npre-last-filt: ['Category:Catechol ethers', 'Category:Drug culture', 'Category:Euphoriants', 'Category:German inventions', 'Category:Morphinans', 'Category:Mu-opioid receptor agonists', 'Category:Pfizer brands', 'Category:Semisynthetic opioids', 'Category:World Health Organization essential medicines']\npost-last-filt: ['Category:Semisynthetic opioids', 'Category:Mu-opioid receptor agonists', 'Category:Drug culture', 'Category:World Health Organization essential medicines', 'Category:Pfizer brands']\n**** Category:Semisynthetic opioids\n**** Category:Mu-opioid receptor agonists\n**** Category:Drug culture\n**** Category:World Health Organization essential medicines\n**** Category:Pfizer brands\n",
     "output_type": "stream"
    }
   ],
   "execution_count": null
  },
  {
   "cell_type": "code",
   "metadata": {
    "cell_id": "c10fbbeed43f4a76bf13ed7693c00ac3",
    "tags": [],
    "deepnote_to_be_reexecuted": false,
    "source_hash": "18d4668c",
    "execution_start": 1650197814656,
    "execution_millis": 177,
    "deepnote_cell_type": "code",
    "deepnote_cell_height": 347.25,
    "deepnote_output_heights": [
     232.25
    ]
   },
   "source": "nlp_cat_phrase, wiki_cats, best_wiki_cats, wiki_term\n",
   "outputs": [
    {
     "output_type": "execute_result",
     "execution_count": 10,
     "data": {
      "text/plain": "(['semi-synthetic', 'opioid', 'medication'],\n ['Category:Mu-opioid receptor agonists',\n  'Category:Semisynthetic opioids',\n  'Category:World Health Organization essential medicines',\n  'Category:Drug culture',\n  'Category:Pfizer brands'],\n ['Category:Semisynthetic opioids',\n  'Category:Mu-opioid receptor agonists',\n  'Category:Drug culture',\n  'Category:World Health Organization essential medicines',\n  'Category:Pfizer brands'],\n 'Oxycodone')"
     },
     "metadata": {}
    }
   ],
   "execution_count": null
  },
  {
   "cell_type": "markdown",
   "source": "### Get Subreddits\nThis step runs combinations of the NLP category words as well as the Wiki term through the Reddit subreddit search API to find subreddits that are likely to contain the words. After pulling back many possibilities for subreddits, it uses cosine similarity between the potential subreddit (using a combination of name, title, and description) and the wiki categories to select the \"best\" subreddits to interrogate for information on our Next Big Thing.\n",
   "metadata": {
    "cell_id": "757f76236a8f4748b8128240351c6f86",
    "tags": [],
    "deepnote_cell_type": "markdown",
    "deepnote_cell_height": 167.5625
   }
  },
  {
   "cell_type": "code",
   "metadata": {
    "cell_id": "74d78d8e3a7844ada45074b1385460df",
    "tags": [],
    "deepnote_to_be_reexecuted": false,
    "source_hash": "1b503920",
    "execution_start": 1650197814811,
    "execution_millis": 8904,
    "deepnote_cell_type": "code",
    "deepnote_cell_height": 135
   },
   "source": "\n#Get subreddits\nsubreddits_list = fsub.get_subreddits(wiki_term, nlp_cat_phrase, best_wiki_cats, num_subreddits, min_subreddit_subscribers, mvp_flag)\n",
   "outputs": [],
   "execution_count": null
  },
  {
   "cell_type": "code",
   "metadata": {
    "cell_id": "634b6732e25c4218bd6ec5c179691d81",
    "tags": [],
    "deepnote_to_be_reexecuted": false,
    "source_hash": "8fa51e65",
    "execution_start": 1650197823718,
    "execution_millis": 347,
    "deepnote_cell_type": "code",
    "deepnote_cell_height": 290.875,
    "deepnote_output_heights": [
     193.875
    ]
   },
   "source": "subreddits_list",
   "outputs": [
    {
     "output_type": "execute_result",
     "execution_count": 12,
     "data": {
      "text/plain": "['opiates',\n 'suboxone',\n 'Drugs',\n 'antidepressants',\n 'drugsarebeautiful',\n 'pharmacology',\n 'DrugArt',\n 'OpiatesRecovery',\n 'benzodiazepines',\n 'DrugNerds']"
     },
     "metadata": {}
    }
   ],
   "execution_count": null
  },
  {
   "cell_type": "markdown",
   "source": "### Get Influencers\nThis step evaluates users based on an aggregate score of their posts (comments and submissions) in the previously identified subreddits.",
   "metadata": {
    "cell_id": "509b0220e84341da8ef54e649030e54b",
    "tags": [],
    "deepnote_cell_type": "markdown",
    "deepnote_cell_height": 122.78125
   }
  },
  {
   "cell_type": "code",
   "metadata": {
    "cell_id": "f67e1677c3ee4b40993b825f3616ab5a",
    "tags": [],
    "deepnote_to_be_reexecuted": false,
    "source_hash": "e31f7b54",
    "execution_start": 1650197824068,
    "execution_millis": 1216335,
    "deepnote_cell_type": "code",
    "deepnote_cell_height": 719
   },
   "source": "#Get influencers\nlistInfluencers = finf.get_influencers(subreddits_list, num_submissions, num_influencers, min_occur, mvp_flag, load_subm, wiki_term, max_com, equal_sub)",
   "outputs": [
    {
     "name": "stdout",
     "text": "gathering submissions from opiates subreddit...\n50 posts gathered so far...\ngathering submissions from suboxone subreddit...\n100 posts gathered so far...\ngathering submissions from Drugs subreddit...\n150 posts gathered so far...\ngathering submissions from antidepressants subreddit...\n200 posts gathered so far...\ngathering submissions from drugsarebeautiful subreddit...\n250 posts gathered so far...\ngathering submissions from pharmacology subreddit...\n271 posts gathered so far...\ngathering submissions from DrugArt subreddit...\n321 posts gathered so far...\ngathering submissions from OpiatesRecovery subreddit...\n371 posts gathered so far...\ngathering submissions from benzodiazepines subreddit...\n421 posts gathered so far...\ngathering submissions from DrugNerds subreddit...\n471 posts gathered so far...\ncomplete with 27961 comments and 471 submissions\ncollecting comment karma for top 250 authors...\n75 influencers found so far...\nTop 5 influencers added from opiates subreddit. 80 found so far.\nTop 5 influencers added from suboxone subreddit. 85 found so far.\nTop 5 influencers added from Drugs subreddit. 90 found so far.\nTop 5 influencers added from antidepressants subreddit. 95 found so far.\nTop 5 influencers added from drugsarebeautiful subreddit. 100 found so far.\nTop 5 influencers added from pharmacology subreddit. 101 found so far.\nTop 5 influencers added from DrugArt subreddit. 106 found so far.\nTop 5 influencers added from OpiatesRecovery subreddit. 111 found so far.\nTop 5 influencers added from benzodiazepines subreddit. 116 found so far.\nTop 5 influencers added from DrugNerds subreddit. 121 found so far.\npickle file of influencers has been created with 121 redditors\n",
     "output_type": "stream"
    }
   ],
   "execution_count": null
  },
  {
   "cell_type": "code",
   "metadata": {
    "cell_id": "a4bf59f9a62147979e6c8c6e0f11a961",
    "tags": [],
    "deepnote_to_be_reexecuted": false,
    "source_hash": "c28b3c7",
    "execution_start": 1650199040052,
    "execution_millis": 2117,
    "deepnote_cell_type": "code",
    "deepnote_cell_height": 708,
    "deepnote_output_heights": [
     611
    ]
   },
   "source": "listInfluencers",
   "outputs": [
    {
     "output_type": "execute_result",
     "execution_count": 14,
     "data": {
      "text/plain": "['None',\n 'oksignedupok',\n 'oneultralamewhiteboy',\n 'kellik123',\n 'Thin-Swordfish4462',\n 'edgrlon',\n 'TokitaTNG',\n 'BeatsMonster23',\n 'Leftycoolswag',\n 'PaperCalender',\n 'No-Bid-6050',\n 'jamesjordan7001',\n 'dlxnj',\n 'BigMoneyMartyr',\n 'StaticRogue',\n 'ebolaRETURNS',\n 'LSDuck666',\n 'jimdjimdjim',\n 'TheBlankestBoi',\n 'JegEierEnElg',\n 'Xinku',\n 'TrumpSmokesMids27',\n 'EzemezE',\n 'OnIySmeIIz',\n 'exturnt',\n 'aestus',\n 'Papancasudani',\n 'bearbarebere',\n 'Andrew_Korenchkin',\n 'Tired8281',\n 'howardtheduckdoe',\n 'vortex30',\n 'carcosa1989',\n 'pichael288',\n 'Morisal66',\n 'Dam_Kids',\n 'Ericrobertson1978',\n 'Averagebass',\n 'Diacetyl-Morphin',\n 'Grampz619',\n 'Rico639',\n 'MrBangle',\n 'Koankey',\n 'Atropa94',\n 'JonWick33',\n 'lordofbitterdrinks',\n 'drbeavi5',\n 'randomtrip10',\n 'on_the_dl',\n 'Rudow69',\n 'Young-Rider',\n 'OrphanDextro',\n 'nodnizzle',\n 'Dane1211',\n 'jmoney6',\n 'j3434',\n 'ksnizzo',\n 'TiHKALmonster',\n 'muststayawaketonod',\n 'WavyNotLazy',\n 'Nurse_Neurotic',\n 'AnandaPriestessLove',\n 'SuperfnDave',\n 'icemonsoon',\n 'ApprovedByAvishay',\n 'RoboticTerrorist',\n 'ZookeepergameLimp778',\n 'Beautiful_Window_661',\n 'gratefulfam710',\n 'irishgambin0',\n 'Phy_Scootman',\n 'SF-UR',\n 'Fizziox',\n '-Chemist-',\n 'treevaahyn',\n '80dimebagz',\n 'C25H34O3',\n 'Redheadedstepchild56',\n 'lakellers',\n 'cottagecheese0',\n 'samlindsssay',\n 'Stephi87',\n 'Ohm78',\n 'FloridaTHCGuide',\n 'Maxbemiss',\n 'ily2now',\n 'Stunning-Baby-8163',\n 'KKeybladeWarrior',\n 'Awkward-Broccoli-150',\n 'underwrapz',\n 'johnjames_34',\n 'Spiccoli1074',\n 'lovepetunias',\n 'Silent_insanity000',\n 'Special_Prior8856',\n 'acidisnice',\n 'lucyXdrops',\n 'mojospurs524',\n 'ofir_the_dumass',\n 'jinxedjon',\n 'Tamacat2',\n 'PaulHunnArt',\n 'Icy-Compote7480',\n 'LostDoors',\n 'HKSK_art',\n 'tsuri-set',\n 'Mnice123',\n 'SomeOil7154',\n 'Cognaczirconium',\n 'trynasurvive1123',\n 'Continuous-Disaster',\n '0utF0x-inT0x',\n 'bmw_drivxr',\n 'ChampionshipPublic67',\n 'broyal679',\n 'Salt-Ad-7856',\n 'Regenine',\n 'leftmiddlelobe',\n 'Murda1-1',\n 'gintrux',\n 'WeAreDrugScience']"
     },
     "metadata": {}
    }
   ],
   "execution_count": null
  },
  {
   "cell_type": "markdown",
   "source": "### Get influencer relevant posts\nThis step finds all posts made by the influential users in the identified subreddits in a provided timeframe. If there are more posts than the parameter limit, cosine similarity between the post and the best_wiki_cats is used to determine the top posts to move to the next step of the process. ",
   "metadata": {
    "cell_id": "722dcef5d7eb4afeb5cc64284adfe25a",
    "tags": [],
    "deepnote_cell_type": "markdown",
    "deepnote_cell_height": 145.171875
   }
  },
  {
   "cell_type": "code",
   "metadata": {
    "cell_id": "97b45c97819c48d1acdd27a635c060b0",
    "tags": [],
    "deepnote_to_be_reexecuted": false,
    "source_hash": "21fe52df",
    "execution_start": 1650199042170,
    "execution_millis": 5494749,
    "deepnote_cell_type": "code",
    "deepnote_cell_height": 737
   },
   "source": "#Get relevant posts\nrelevant_posts = fposts.get_relevant_posts(wiki_term, listInfluencers, subreddits_list, start_date, end_date, best_wiki_cats, per_author_limit, post_limit, mvp_flag)\n",
   "outputs": [
    {
     "name": "stdout",
     "text": "Start time for retrieving comments:  2022-04-17 08:37:22\nFinding comments for j3434...\nFinding comments for Maxbemiss...\nFinding comments for lucyXdrops...\nFinding comments for HKSK_art...\nFinding comments for Cognaczirconium...\nFinding comments for SomeOil7154...\nFinding comments for mojospurs524...\nFinding comments for No-Bid-6050...\nFinding comments for lordofbitterdrinks...\nFinding comments for oksignedupok...\nFinding comments for TokitaTNG...\nFinding comments for PaperCalender...\nFinding comments for dlxnj...\nFinding comments for muststayawaketonod...\nFinding comments for ZookeepergameLimp778...\nFinding comments for KKeybladeWarrior...\nFinding comments for Morisal66...\nFinding comments for JonWick33...\nFinding comments for ily2now...\nFinding comments for pichael288...\nFinding comments for Dane1211...\nFinding comments for Silent_insanity000...\nFinding comments for jmoney6...\nFinding comments for kellik123...\nFinding comments for FloridaTHCGuide...\nFinding comments for JegEierEnElg...\nFinding comments for RoboticTerrorist...\nFinding comments for carcosa1989...\nFinding comments for oneultralamewhiteboy...\nFinding comments for Grampz619...\nFinding comments for Thin-Swordfish4462...\nFinding comments for icemonsoon...\nFinding comments for bmw_drivxr...\nFinding comments for cottagecheese0...\nFinding comments for Special_Prior8856...\nFinding comments for Averagebass...\nFinding comments for gratefulfam710...\nFinding comments for Continuous-Disaster...\nFinding comments for Ohm78...\nFinding comments for StaticRogue...\nFinding comments for gintrux...\nFinding comments for trynasurvive1123...\nFinding comments for irishgambin0...\nFinding comments for edgrlon...\nFinding comments for SF-UR...\nFinding comments for jinxedjon...\nFinding comments for Murda1-1...\nFinding comments for EzemezE...\nFinding comments for WeAreDrugScience...\nFinding comments for broyal679...\nFinding comments for drbeavi5...\nFinding comments for Spiccoli1074...\nFinding comments for LSDuck666...\nFinding comments for Koankey...\nFinding comments for LostDoors...\nFinding comments for ChampionshipPublic67...\nFinding comments for Beautiful_Window_661...\nFinding comments for Icy-Compote7480...\nFinding comments for -Chemist-...\nFinding comments for exturnt...\nFinding comments for Diacetyl-Morphin...\nFinding comments for MrBangle...\nFinding comments for johnjames_34...\nFinding comments for tsuri-set...\nFinding comments for nodnizzle...\nFinding comments for on_the_dl...\nFinding comments for ksnizzo...\nFinding comments for underwrapz...\nFinding comments for Salt-Ad-7856...\nFinding comments for jimdjimdjim...\nFinding comments for TrumpSmokesMids27...\nFinding comments for Xinku...\nFinding comments for Nurse_Neurotic...\nFinding comments for Young-Rider...\nFinding comments for samlindsssay...\nFinding comments for Mnice123...\nFinding comments for Ericrobertson1978...\nFinding comments for Leftycoolswag...\nFinding comments for 0utF0x-inT0x...\nFinding comments for howardtheduckdoe...\nFinding comments for OrphanDextro...\nFinding comments for 80dimebagz...\nFinding comments for AnandaPriestessLove...\nFinding comments for Redheadedstepchild56...\nFinding comments for leftmiddlelobe...\nFinding comments for Rudow69...\nFinding comments for C25H34O3...\nFinding comments for Phy_Scootman...\nFinding comments for Papancasudani...\nFinding comments for randomtrip10...\nFinding comments for jamesjordan7001...\nFinding comments for PaulHunnArt...\nFinding comments for ApprovedByAvishay...\nFinding comments for ebolaRETURNS...\nFinding comments for Atropa94...\nFinding comments for lakellers...\nFinding comments for TiHKALmonster...\nFinding comments for lovepetunias...\nFinding comments for Tired8281...\nFinding comments for Rico639...\nFinding comments for BigMoneyMartyr...\nFinding comments for Dam_Kids...\nFinding comments for ofir_the_dumass...\nFinding comments for treevaahyn...\nFinding comments for WavyNotLazy...\nFinding comments for BeatsMonster23...\nFinding comments for None...\nFinding comments for Awkward-Broccoli-150...\nFinding comments for Tamacat2...\nFinding comments for aestus...\nFinding comments for vortex30...\nFinding comments for SuperfnDave...\nFinding comments for Stephi87...\nFinding comments for bearbarebere...\nFinding comments for Regenine...\nFinding comments for acidisnice...\nFinding comments for Fizziox...\nFinding comments for Stunning-Baby-8163...\nFinding comments for TheBlankestBoi...\nFinding comments for OnIySmeIIz...\nFinding comments for Andrew_Korenchkin...\nNumber of relevant comments:  8080\nStart time for retrieving submissions:  2022-04-17 09:32:53\nFinding submissions for j3434...\nFinding submissions for Maxbemiss...\nFinding submissions for lucyXdrops...\nFinding submissions for HKSK_art...\nFinding submissions for Cognaczirconium...\nFinding submissions for SomeOil7154...\nFinding submissions for mojospurs524...\nFinding submissions for No-Bid-6050...\nFinding submissions for lordofbitterdrinks...\nFinding submissions for oksignedupok...\nFinding submissions for TokitaTNG...\nFinding submissions for PaperCalender...\nFinding submissions for dlxnj...\nFinding submissions for muststayawaketonod...\nFinding submissions for ZookeepergameLimp778...\nFinding submissions for KKeybladeWarrior...\nFinding submissions for Morisal66...\nFinding submissions for JonWick33...\nFinding submissions for ily2now...\nFinding submissions for pichael288...\nFinding submissions for Dane1211...\nFinding submissions for Silent_insanity000...\nFinding submissions for jmoney6...\nFinding submissions for kellik123...\nFinding submissions for FloridaTHCGuide...\nFinding submissions for JegEierEnElg...\nFinding submissions for RoboticTerrorist...\nFinding submissions for carcosa1989...\nFinding submissions for oneultralamewhiteboy...\nFinding submissions for Grampz619...\nFinding submissions for Thin-Swordfish4462...\nFinding submissions for icemonsoon...\nFinding submissions for bmw_drivxr...\nFinding submissions for cottagecheese0...\nFinding submissions for Special_Prior8856...\nFinding submissions for Averagebass...\nFinding submissions for gratefulfam710...\nFinding submissions for Continuous-Disaster...\nFinding submissions for Ohm78...\nFinding submissions for StaticRogue...\nFinding submissions for gintrux...\nFinding submissions for trynasurvive1123...\nFinding submissions for irishgambin0...\nFinding submissions for edgrlon...\nFinding submissions for SF-UR...\nFinding submissions for jinxedjon...\nFinding submissions for Murda1-1...\nFinding submissions for EzemezE...\nFinding submissions for WeAreDrugScience...\nFinding submissions for broyal679...\nFinding submissions for drbeavi5...\nFinding submissions for Spiccoli1074...\nFinding submissions for LSDuck666...\nFinding submissions for Koankey...\nFinding submissions for LostDoors...\nFinding submissions for ChampionshipPublic67...\nFinding submissions for Beautiful_Window_661...\nFinding submissions for Icy-Compote7480...\nFinding submissions for -Chemist-...\nFinding submissions for exturnt...\nFinding submissions for Diacetyl-Morphin...\nFinding submissions for MrBangle...\nFinding submissions for johnjames_34...\nFinding submissions for tsuri-set...\nFinding submissions for nodnizzle...\nFinding submissions for on_the_dl...\nFinding submissions for ksnizzo...\nFinding submissions for underwrapz...\nFinding submissions for Salt-Ad-7856...\nFinding submissions for jimdjimdjim...\nFinding submissions for TrumpSmokesMids27...\nFinding submissions for Xinku...\nFinding submissions for Nurse_Neurotic...\nFinding submissions for Young-Rider...\nFinding submissions for samlindsssay...\nFinding submissions for Mnice123...\nFinding submissions for Ericrobertson1978...\nFinding submissions for Leftycoolswag...\nFinding submissions for 0utF0x-inT0x...\nFinding submissions for howardtheduckdoe...\nFinding submissions for OrphanDextro...\nFinding submissions for 80dimebagz...\nFinding submissions for AnandaPriestessLove...\nFinding submissions for Redheadedstepchild56...\nFinding submissions for leftmiddlelobe...\nFinding submissions for Rudow69...\nFinding submissions for C25H34O3...\nFinding submissions for Phy_Scootman...\nFinding submissions for Papancasudani...\nFinding submissions for randomtrip10...\nFinding submissions for jamesjordan7001...\nFinding submissions for PaulHunnArt...\nFinding submissions for ApprovedByAvishay...\nFinding submissions for ebolaRETURNS...\nFinding submissions for Atropa94...\nFinding submissions for lakellers...\nFinding submissions for TiHKALmonster...\nFinding submissions for lovepetunias...\nFinding submissions for Tired8281...\nFinding submissions for Rico639...\nFinding submissions for BigMoneyMartyr...\nFinding submissions for Dam_Kids...\nFinding submissions for ofir_the_dumass...\nFinding submissions for treevaahyn...\nFinding submissions for WavyNotLazy...\nFinding submissions for BeatsMonster23...\nFinding submissions for None...\nFinding submissions for Awkward-Broccoli-150...\nFinding submissions for Tamacat2...\nFinding submissions for aestus...\nFinding submissions for vortex30...\nFinding submissions for SuperfnDave...\nFinding submissions for Stephi87...\nFinding submissions for bearbarebere...\nFinding submissions for Regenine...\nFinding submissions for acidisnice...\nFinding submissions for Fizziox...\nFinding submissions for Stunning-Baby-8163...\nFinding submissions for TheBlankestBoi...\nFinding submissions for OnIySmeIIz...\nFinding submissions for Andrew_Korenchkin...\nNumber of relevant submissions:  364\nRanking posts start time:  2022-04-17 10:08:56\nRanking posts end time:  2022-04-17 10:08:56\n",
     "output_type": "stream"
    }
   ],
   "execution_count": null
  },
  {
   "cell_type": "code",
   "metadata": {
    "cell_id": "8cfb7add50994a63881249dd33549232",
    "tags": [],
    "deepnote_to_be_reexecuted": false,
    "source_hash": "e819ef8e",
    "execution_start": 1650204536918,
    "execution_millis": 1415,
    "deepnote_cell_type": "code",
    "deepnote_cell_height": 290.875,
    "deepnote_output_heights": [
     193.875
    ]
   },
   "source": "relevant_posts[:10]",
   "outputs": [
    {
     "output_type": "execute_result",
     "execution_count": 16,
     "data": {
      "text/plain": "['That’s insane !',\n 'What is the practical use of an opiate that strong ? Just opening the container can be lethal? \\nNever imagined something like that .',\n 'Yes I understand 100%. It’s hard to be interested in anything without my dose. Some days are worse - some days are perfect being sober as long as I don’t start obsessing romantic about the past . They were the best of times , they were the worst of times . But I remember them fondly',\n 'After 1 year ? Wow . Still have cravings ? Or has life in general been hard these days ? With Covid I know stress and sadness is everywhere!!! In a way I hope you get your instant fix - but we all know how this ends. You are gonna be back in addiction race. One year!?!!?’ What triggered you ?',\n \"I'd split them up. take half in morning with breakfast. One half around lunch. One after work - and a 1/2 about a hour before bed. But that is just me. I have one norco a day and cut in 1/4 just to feel normal. I have tapered down to this from about 5 a day at times. But my WD have never been horrific except for my psychological state. Daggers in the mind ..... regret, guilt, worthlessness and apathy.\",\n 'Yes I guess I mean more obligated considering protocol or more likey to care.',\n 'I’m not sure. You could call police and report as a crime. Then your doctor probably would be obligated to issue replacement script. It would suck to have police investigate- but it was a criminal act …. Family or no family. It’s an option . But your decision will be based on many complex relationships you have with family, the doctor,, …. Law enforcement.',\n 'Tomorrow is good. An approximate timeline would be interesting to note as well. Also amounts of H .',\n 'If a junkie has as much great H … as often as they want …. What would happen most likely? Would tolerances get so high they don’t get high anymore? Would they need to WD voluntarily time to time to get nodding again? Or euphoria? Or is it possible just to hit the right dose - forever?? Just curious 🧐',\n 'The high is not like weed … or acid for me. It is like a low key ….. zing. Just mellow. Then maybe a little more and you may look at the fluorescent bulbs in a room flickering. Usually that flickering seems a little harsh but once you get that zing the flickering says “all is well“ and you may be watching some silly commercial on tv - and it just seems surreal how things just are there. You are a bit numb - so you may not feel certain anxieties and you may not be as judgmental and it creeps into your psyche and mellows it out. Future problems and past issues don’t seem that important because you are in the moment. Then you get right dose and you start to feel a little nod …. Just so mellow and perfect.\\n\\nThen that is all you ever want and you are headed for disaster constantly wanting that feeling . And you find ways! So I say if you do it more than 1 times a week it will hook you for sure. So don’t .']"
     },
     "metadata": {}
    }
   ],
   "execution_count": null
  },
  {
   "cell_type": "markdown",
   "source": "### Identify Next Big Thing\nThis step creates a \"white list\" or dictionary of potential items from accumulating a large number of \"siblings\" based articles found in the Wikipedia categories. \nThe sibling articles are also used to train a model for Conditional Random Field (CRF), in order to also allow the solution to identify unseen siblings that may be present in the relevant posts.\nA fuzzy search is used ...",
   "metadata": {
    "cell_id": "fa01bc140c544367901ab3efdeabcf83",
    "tags": [],
    "deepnote_cell_type": "markdown",
    "deepnote_cell_height": 145.171875
   }
  },
  {
   "cell_type": "code",
   "metadata": {
    "cell_id": "c7d3c4864ae84e5b80ea1f0f73717665",
    "tags": [],
    "deepnote_to_be_reexecuted": false,
    "source_hash": "39e7b4fb",
    "execution_start": 1650204538336,
    "execution_millis": 368066,
    "deepnote_cell_type": "code",
    "deepnote_cell_height": 695.0625
   },
   "source": "#Create White List\nfcat.make_white_list_cat_content_files(wiki_cats, wiki_term, mvp_flag)\n\n",
   "outputs": [
    {
     "name": "stdout",
     "text": "Category:Mu-opioid receptor agonists 1 of 5 : 274\nCategory:Semisynthetic opioids 2 of 5 : 99\nCategory:World Health Organization essential medicines 3 of 5 : 503\nCategory:Drug culture 4 of 5 : 141\nCategory:Pfizer brands 5 of 5 : 192\nDumping wikipedia cat content file\nCategory:Mu-opioid receptor agonists\nCategory:Semisynthetic opioids\nCategory:World Health Organization essential medicines\nCategory:Drug culture\nCategory:Pfizer brands\n272 Category:Mu-opioid receptor agonists ['Lofentanil', 'Dipyanone', 'Piperidylthiambutene', 'Dihydrocodeine', '6,14-Endoethenotetrahydrooripavine', 'DADLE', 'N-Phenethyl-14-ethoxymetopon', 'Endomorphin-1', 'Dioxaphetyl butyrate', 'Acrylfentanyl', 'Heroin', 'Thiafentanil', 'Thienorphine', 'Buprenorphine', 'Betamethadol', 'Benzhydrocodone', 'Methylketobemidone', 'Phenadoxone', 'Endomorphin-2', 'AH-7921', 'Etorphine', 'Methoxyacetylfentanyl', 'TRIMU 5', 'Alfentanil', 'Difenoxin', 'Bezitramide', 'Hodgkinsine', '3-Phenylpropanoylfentanyl', 'Diphenoxylate', 'Oxymorphazone', 'IC-26', 'NFEPP', 'Thiofentanyl', 'Pyrrolidinylthiambutene', 'Trefentanil', 'PEPAP', 'Dibutyrylmorphine', '4-Dimethylamino-4-p-tolylcyclohexanone', '4-Fluoroisobutyrfentanyl', 'Ciprefadol', 'Hemorphin-4', 'R-30490', 'Racemorphan', 'Cyclopropylfentanyl', 'Picenadol', '7-PET', 'Dextropropoxyphene', \"2,2'-Difluorofentanyl\", 'N-Methylnorcarfentanil', 'Metofoline', 'Mitragynine pseudoindoxyl', 'Naltalimide', 'Brifentanil', 'Levorphanol', '4-Phenylfentanyl', 'DAMGO', 'Phenampromide', 'Prodine', '3-Methylbutyrfentanyl', 'Oxilorphan', 'Prosidol', 'Norbuprenorphine', 'Butyrfentanyl', 'SR-16435', 'Bromadoline', 'Hydrocodone', '1-Iodomorphine', 'Piritramide', 'SoRI-9409', 'Benzoylfentanyl', 'Thebacon', 'Noracymethadol', 'Conorfone', 'Desmethylprodine', 'Dipipanone', 'Heterocodeine', 'Metethoheptazine', 'Metopon', 'Nicodicodine', '4-Chloroisobutyrylfentanyl', '7-Hydroxymitragynine', 'Norlevorphanol', '8-Carboxamidocyclazocine', 'Clonitazene', 'Isofentanyl', 'Sameridine', 'RWJ-394674', 'Ethylmorphine', 'Oxymorphone', 'Nicocodeine', 'Oliceridine', 'Morphine', 'SHR9352', 'Thiambutenes', '3-Methylfentanyl', '3-Allylfentanyl', 'Morpheridine', 'Hydromorphone', 'Tetramethylcyclopropylfentanyl', '4-Fluoropethidine', 'Dextromethorphan', 'Acetyldihydrocodeine', 'Codeinone', 'Benzodioxolefentanyl', 'Diampromide', 'Eseroline', 'Anileridine', 'Betahydroxythiofentanyl', 'Fentanyl', 'Betahydroxyfentanyl', 'Lefetamine', 'Dimenoxadol', 'Dinalbuphine sebacate', '14-Ethoxymetopon', 'Nalmexone', 'Allylprodine', 'Dihydromorphine', 'IBNtxA', '14-Methoxydihydromorphinone', 'Dimethylthiambutene', '4-Methylphenethylacetylfentanyl', 'Dipropanoylmorphine', 'Pheneridine', 'Tianeptine', 'Norketamine', 'Tetrahydrofuranylfentanyl', 'Trimebutine', 'Prodilidine', 'Alimadol', 'Desmethylclozapine', 'MT-45', 'Ketobemidone', 'PTI-609', 'Ohmefentanyl', 'Levacetylmethadol', 'Α-Methylfentanyl', 'C-8813', 'Levomethadone', 'Remifentanil', 'TRV734', '3-Methylthiofentanyl', 'BDPC', 'Dimethylaminopivalophenone', 'Desmetramadol', '14-Hydroxydihydrocodeine', 'Drotebanol', 'Acetylmethadol', 'Phenaridine', 'Furanylfentanyl', 'Beta-Methylfentanyl', 'PZM21', 'Desomorphine', 'Doxpicomine', 'Cebranopadol', 'MR-2096', 'Pethidine', 'Propylketobemidone', 'Benzethidine', 'BU72', 'LS-115509', 'Morphine-6-glucuronide', 'Viminol', 'N-Phenethylnormorphine', 'Ciramadol', 'Acetoxymethylketobemidone', '14-Methoxymetopon', 'Ro4-1539', 'Tilidine', 'Properidine', 'Sufentanil', 'Adrenorphin', 'AD-1211', 'Bucinnazine', 'BW373U86', '6-Methylenedihydrodesoxymorphine', 'Mirfentanil', 'Diphenpipenol', 'Pericine', 'Dihydroetorphine', 'Carfentanil', 'N-Phenethylnordesomorphine', 'SC-17599', 'Isobutyrylfentanyl', 'U-47700', 'Opioid agonist therapy', 'Orthofluorofentanyl', 'Normethadone', 'OPPPP', 'Endomorphin', 'Tapentadol', 'Meprodine', 'Myrophine', 'R-4066', 'Tramadol', 'Buprenorphine/naloxone', 'Betacetylmethadol', 'Nicomorphine', 'Codoxime', 'AP-238', 'Ethoheptazine', 'Diacetyldihydromorphine', 'Acetylpropionylmorphine', 'Levophenacylmorphan', 'Azidomorphine', 'Morphinone', 'BU08028', 'Oxymorphol', 'Oxytrex', 'Semorphone', 'SR-17018', 'Etonitazene', 'Methadone', 'Crotonylfentanyl', 'Valerylfentanyl', 'Phenazocine', 'Dimepheptanol', 'Allylnorpethidine', 'AT-121', 'Chloroxymorphamine', 'Dextrorphan', 'Acetylmorphone', 'Diethylthiambutene', 'Alphamethylthiofentanyl', 'Methyldesorphine', 'Benzylmorphine', 'Nalbuphine', 'Acetorphine', 'Codeine-6-glucuronide', 'Azaprocin', 'DPI-3290', 'Morphine-N-oxide', 'Loperamide/simethicone', 'U-77891', 'Alphacetylmethadol', 'Phenomorphan', 'Etoxeridine', '4-Methoxybutyrfentanyl', 'Eluxadoline', '14-Phenylpropoxymetopon', 'Acetoxyketobemidone', 'Nalorphine dinicotinate', 'Isomethadone', 'Trimeperidine', 'Metheptazine', 'Cyclopentylfentanyl', 'Proheptazine', 'Alphamethadol', 'Dermorphin', 'Levomethorphan', 'Ocfentanil', 'Phenoperidine', 'Loperamide', 'Chloromorphide', 'Ethylmethylthiambutene', 'Furethidine', 'Methyldihydromorphine', 'Noroxymorphone', '14-Cinnamoyloxycodeinone', '6-Monoacetylmorphine', 'Hydroxypethidine', 'Oxpheneridine', 'Dextromoramide', 'Pentamorphone', 'Beta-Endorphin', 'Dibenzoylmorphine', 'Parafluorofentanyl', 'Piminodine', 'Α-Methylacetylfentanyl', '4-Fluorobutyrfentanyl', 'Nufenoxole', 'Hydromorphinol', 'Acetylfentanyl']\nCounter({'Lofentanil': 1, 'Dipyanone': 1, 'Piperidylthiambutene': 1, 'Dihydrocodeine': 1, '6,14-Endoethenotetrahydrooripavine': 1, 'DADLE': 1, 'N-Phenethyl-14-ethoxymetopon': 1, 'Endomorphin-1': 1, 'Dioxaphetyl': 1, 'butyrate': 1, 'Acrylfentanyl': 1, 'Heroin': 1, 'Thiafentanil': 1, 'Thienorphine': 1, 'Buprenorphine': 1, 'Betamethadol': 1, 'Benzhydrocodone': 1, 'Methylketobemidone': 1, 'Phenadoxone': 1, 'Endomorphin-2': 1, 'AH-7921': 1, 'Etorphine': 1, 'Methoxyacetylfentanyl': 1, 'TRIMU': 1, '5': 1, 'Alfentanil': 1, 'Difenoxin': 1, 'Bezitramide': 1, 'Hodgkinsine': 1, '3-Phenylpropanoylfentanyl': 1, 'Diphenoxylate': 1, 'Oxymorphazone': 1, 'IC-26': 1, 'NFEPP': 1, 'Thiofentanyl': 1, 'Pyrrolidinylthiambutene': 1, 'Trefentanil': 1, 'PEPAP': 1, 'Dibutyrylmorphine': 1, '4-Dimethylamino-4-p-tolylcyclohexanone': 1, '4-Fluoroisobutyrfentanyl': 1, 'Ciprefadol': 1, 'Hemorphin-4': 1, 'R-30490': 1, 'Racemorphan': 1, 'Cyclopropylfentanyl': 1, 'Picenadol': 1, '7-PET': 1, 'Dextropropoxyphene': 1, \"2,2'-Difluorofentanyl\": 1, 'N-Methylnorcarfentanil': 1, 'Metofoline': 1, 'Mitragynine': 1, 'pseudoindoxyl': 1, 'Naltalimide': 1, 'Brifentanil': 1, 'Levorphanol': 1, '4-Phenylfentanyl': 1, 'DAMGO': 1, 'Phenampromide': 1, 'Prodine': 1, '3-Methylbutyrfentanyl': 1, 'Oxilorphan': 1, 'Prosidol': 1, 'Norbuprenorphine': 1, 'Butyrfentanyl': 1, 'SR-16435': 1, 'Bromadoline': 1, 'Hydrocodone': 1, '1-Iodomorphine': 1, 'Piritramide': 1, 'SoRI-9409': 1, 'Benzoylfentanyl': 1, 'Thebacon': 1, 'Noracymethadol': 1, 'Conorfone': 1, 'Desmethylprodine': 1, 'Dipipanone': 1, 'Heterocodeine': 1, 'Metethoheptazine': 1, 'Metopon': 1, 'Nicodicodine': 1, '4-Chloroisobutyrylfentanyl': 1, '7-Hydroxymitragynine': 1, 'Norlevorphanol': 1, '8-Carboxamidocyclazocine': 1, 'Clonitazene': 1, 'Isofentanyl': 1, 'Sameridine': 1, 'RWJ-394674': 1, 'Ethylmorphine': 1, 'Oxymorphone': 1, 'Nicocodeine': 1, 'Oliceridine': 1, 'Morphine': 1, 'SHR9352': 1, 'Thiambutenes': 1, '3-Methylfentanyl': 1, '3-Allylfentanyl': 1, 'Morpheridine': 1, 'Hydromorphone': 1, 'Tetramethylcyclopropylfentanyl': 1, '4-Fluoropethidine': 1, 'Dextromethorphan': 1, 'Acetyldihydrocodeine': 1, 'Codeinone': 1, 'Benzodioxolefentanyl': 1, 'Diampromide': 1, 'Eseroline': 1, 'Anileridine': 1, 'Betahydroxythiofentanyl': 1, 'Fentanyl': 1, 'Betahydroxyfentanyl': 1, 'Lefetamine': 1, 'Dimenoxadol': 1, 'Dinalbuphine': 1, 'sebacate': 1, '14-Ethoxymetopon': 1, 'Nalmexone': 1, 'Allylprodine': 1, 'Dihydromorphine': 1, 'IBNtxA': 1, '14-Methoxydihydromorphinone': 1, 'Dimethylthiambutene': 1, '4-Methylphenethylacetylfentanyl': 1, 'Dipropanoylmorphine': 1, 'Pheneridine': 1, 'Tianeptine': 1, 'Norketamine': 1, 'Tetrahydrofuranylfentanyl': 1, 'Trimebutine': 1, 'Prodilidine': 1, 'Alimadol': 1, 'Desmethylclozapine': 1, 'MT-45': 1, 'Ketobemidone': 1, 'PTI-609': 1, 'Ohmefentanyl': 1, 'Levacetylmethadol': 1, 'Α-Methylfentanyl': 1, 'C-8813': 1, 'Levomethadone': 1, 'Remifentanil': 1, 'TRV734': 1, '3-Methylthiofentanyl': 1, 'BDPC': 1, 'Dimethylaminopivalophenone': 1, 'Desmetramadol': 1, '14-Hydroxydihydrocodeine': 1, 'Drotebanol': 1, 'Acetylmethadol': 1, 'Phenaridine': 1, 'Furanylfentanyl': 1, 'Beta-Methylfentanyl': 1, 'PZM21': 1, 'Desomorphine': 1, 'Doxpicomine': 1, 'Cebranopadol': 1, 'MR-2096': 1, 'Pethidine': 1, 'Propylketobemidone': 1, 'Benzethidine': 1, 'BU72': 1, 'LS-115509': 1, 'Morphine-6-glucuronide': 1, 'Viminol': 1, 'N-Phenethylnormorphine': 1, 'Ciramadol': 1, 'Acetoxymethylketobemidone': 1, '14-Methoxymetopon': 1, 'Ro4-1539': 1, 'Tilidine': 1, 'Properidine': 1, 'Sufentanil': 1, 'Adrenorphin': 1, 'AD-1211': 1, 'Bucinnazine': 1, 'BW373U86': 1, '6-Methylenedihydrodesoxymorphine': 1, 'Mirfentanil': 1, 'Diphenpipenol': 1, 'Pericine': 1, 'Dihydroetorphine': 1, 'Carfentanil': 1, 'N-Phenethylnordesomorphine': 1, 'SC-17599': 1, 'Isobutyrylfentanyl': 1, 'U-47700': 1, 'Opioid': 1, 'agonist': 1, 'therapy': 1, 'Orthofluorofentanyl': 1, 'Normethadone': 1, 'OPPPP': 1, 'Endomorphin': 1, 'Tapentadol': 1, 'Meprodine': 1, 'Myrophine': 1, 'R-4066': 1, 'Tramadol': 1, 'Buprenorphine/naloxone': 1, 'Betacetylmethadol': 1, 'Nicomorphine': 1, 'Codoxime': 1, 'AP-238': 1, 'Ethoheptazine': 1, 'Diacetyldihydromorphine': 1, 'Acetylpropionylmorphine': 1, 'Levophenacylmorphan': 1, 'Azidomorphine': 1, 'Morphinone': 1, 'BU08028': 1, 'Oxymorphol': 1, 'Oxytrex': 1, 'Semorphone': 1, 'SR-17018': 1, 'Etonitazene': 1, 'Methadone': 1, 'Crotonylfentanyl': 1, 'Valerylfentanyl': 1, 'Phenazocine': 1, 'Dimepheptanol': 1, 'Allylnorpethidine': 1, 'AT-121': 1, 'Chloroxymorphamine': 1, 'Dextrorphan': 1, 'Acetylmorphone': 1, 'Diethylthiambutene': 1, 'Alphamethylthiofentanyl': 1, 'Methyldesorphine': 1, 'Benzylmorphine': 1, 'Nalbuphine': 1, 'Acetorphine': 1, 'Codeine-6-glucuronide': 1, 'Azaprocin': 1, 'DPI-3290': 1, 'Morphine-N-oxide': 1, 'Loperamide/simethicone': 1, 'U-77891': 1, 'Alphacetylmethadol': 1, 'Phenomorphan': 1, 'Etoxeridine': 1, '4-Methoxybutyrfentanyl': 1, 'Eluxadoline': 1, '14-Phenylpropoxymetopon': 1, 'Acetoxyketobemidone': 1, 'Nalorphine': 1, 'dinicotinate': 1, 'Isomethadone': 1, 'Trimeperidine': 1, 'Metheptazine': 1, 'Cyclopentylfentanyl': 1, 'Proheptazine': 1, 'Alphamethadol': 1, 'Dermorphin': 1, 'Levomethorphan': 1, 'Ocfentanil': 1, 'Phenoperidine': 1, 'Loperamide': 1, 'Chloromorphide': 1, 'Ethylmethylthiambutene': 1, 'Furethidine': 1, 'Methyldihydromorphine': 1, 'Noroxymorphone': 1, '14-Cinnamoyloxycodeinone': 1, '6-Monoacetylmorphine': 1, 'Hydroxypethidine': 1, 'Oxpheneridine': 1, 'Dextromoramide': 1, 'Pentamorphone': 1, 'Beta-Endorphin': 1, 'Dibenzoylmorphine': 1, 'Parafluorofentanyl': 1, 'Piminodine': 1, 'Α-Methylacetylfentanyl': 1, '4-Fluorobutyrfentanyl': 1, 'Nufenoxole': 1, 'Hydromorphinol': 1, 'Acetylfentanyl': 1})\nremove: []\n97 Category:Semisynthetic opioids ['Dihydrocodeine', '6,14-Endoethenotetrahydrooripavine', 'N-Phenethyl-14-ethoxymetopon', 'Heroin', 'Thienorphine', 'Buprenorphine', 'Benzhydrocodone', 'Buprenorphine/samidorphan', 'Etorphine', 'Diacetylnalorphine', 'Oxymorphazone', 'Dibutyrylmorphine', '7-PET', 'Naltrindole', 'Naloxonazine', 'Naltriben', 'Hydrocodone', '1-Iodomorphine', 'SoRI-9409', 'Thebacon', 'Conorfone', 'Metopon', 'Bentley compounds', 'Heterocodeine', 'Nicodicodine', 'BU-48', 'Ethylmorphine', 'Oxymorphone', 'Nicocodeine', 'Hydromorphone', 'Pholcodine', 'Acetyldihydrocodeine', 'Codeinone', 'Hydrocodone/paracetamol', 'Eseroline', 'Dinalbuphine sebacate', '14-Ethoxymetopon', 'Nalmexone', 'IBNtxA', 'Dihydromorphine', '14-Methoxydihydromorphinone', 'Dipropanoylmorphine', 'Co-dydramol', 'Naloxazone', 'Nalfurafine', \"5'-Guanidinonaltrindole\", '14-Hydroxydihydrocodeine', 'Drotebanol', 'Desomorphine', 'RAM-378', 'MR-2096', 'Herkinorin', 'N-Phenethylnormorphine', 'Morphine/naltrexone', 'Chlornaltrexamine', 'Cyprenorphine', '14-Methoxymetopon', '6-Methylenedihydrodesoxymorphine', '18,19-Dehydrobuprenorphine', 'N-Phenethylnordesomorphine', 'Dihydroetorphine', 'Methylnaltrexone', '2,4-Dinitrophenylmorphine', 'Zyklophin', 'Myrophine', 'Buprenorphine/naloxone', 'Nicomorphine', 'Xorphanol', 'Codoxime', \"6'-Guanidinonaltrindole\", 'Diacetyldihydromorphine', 'Acetylpropionylmorphine', 'Morphinone', 'Azidomorphine', 'Oxytrex', 'Oxymorphol', 'Nalorphine', '6β-Naltrexol-d4', 'Acetylmorphone', 'Methyldesorphine', 'Benzylmorphine', 'Buprenorphine/naltrexone', 'Acetorphine', 'Nalbuphine', 'Diprenorphine', '14-Phenylpropoxymetopon', 'Nalorphine dinicotinate', '6β-Naltrexol', 'Levomethorphan', 'Methyldihydromorphine', 'Chloromorphide', 'Noroxymorphone', '14-Cinnamoyloxycodeinone', '6-Monoacetylmorphine', 'Pentamorphone', 'Dibenzoylmorphine', 'Hydromorphinol']\nCounter({'Nalorphine': 2, 'Dihydrocodeine': 1, '6,14-Endoethenotetrahydrooripavine': 1, 'N-Phenethyl-14-ethoxymetopon': 1, 'Heroin': 1, 'Thienorphine': 1, 'Buprenorphine': 1, 'Benzhydrocodone': 1, 'Buprenorphine/samidorphan': 1, 'Etorphine': 1, 'Diacetylnalorphine': 1, 'Oxymorphazone': 1, 'Dibutyrylmorphine': 1, '7-PET': 1, 'Naltrindole': 1, 'Naloxonazine': 1, 'Naltriben': 1, 'Hydrocodone': 1, '1-Iodomorphine': 1, 'SoRI-9409': 1, 'Thebacon': 1, 'Conorfone': 1, 'Metopon': 1, 'Bentley': 1, 'compounds': 1, 'Heterocodeine': 1, 'Nicodicodine': 1, 'BU-48': 1, 'Ethylmorphine': 1, 'Oxymorphone': 1, 'Nicocodeine': 1, 'Hydromorphone': 1, 'Pholcodine': 1, 'Acetyldihydrocodeine': 1, 'Codeinone': 1, 'Hydrocodone/paracetamol': 1, 'Eseroline': 1, 'Dinalbuphine': 1, 'sebacate': 1, '14-Ethoxymetopon': 1, 'Nalmexone': 1, 'IBNtxA': 1, 'Dihydromorphine': 1, '14-Methoxydihydromorphinone': 1, 'Dipropanoylmorphine': 1, 'Co-dydramol': 1, 'Naloxazone': 1, 'Nalfurafine': 1, \"5'-Guanidinonaltrindole\": 1, '14-Hydroxydihydrocodeine': 1, 'Drotebanol': 1, 'Desomorphine': 1, 'RAM-378': 1, 'MR-2096': 1, 'Herkinorin': 1, 'N-Phenethylnormorphine': 1, 'Morphine/naltrexone': 1, 'Chlornaltrexamine': 1, 'Cyprenorphine': 1, '14-Methoxymetopon': 1, '6-Methylenedihydrodesoxymorphine': 1, '18,19-Dehydrobuprenorphine': 1, 'N-Phenethylnordesomorphine': 1, 'Dihydroetorphine': 1, 'Methylnaltrexone': 1, '2,4-Dinitrophenylmorphine': 1, 'Zyklophin': 1, 'Myrophine': 1, 'Buprenorphine/naloxone': 1, 'Nicomorphine': 1, 'Xorphanol': 1, 'Codoxime': 1, \"6'-Guanidinonaltrindole\": 1, 'Diacetyldihydromorphine': 1, 'Acetylpropionylmorphine': 1, 'Morphinone': 1, 'Azidomorphine': 1, 'Oxytrex': 1, 'Oxymorphol': 1, '6β-Naltrexol-d4': 1, 'Acetylmorphone': 1, 'Methyldesorphine': 1, 'Benzylmorphine': 1, 'Buprenorphine/naltrexone': 1, 'Acetorphine': 1, 'Nalbuphine': 1, 'Diprenorphine': 1, '14-Phenylpropoxymetopon': 1, 'dinicotinate': 1, '6β-Naltrexol': 1, 'Levomethorphan': 1, 'Methyldihydromorphine': 1, 'Chloromorphide': 1, 'Noroxymorphone': 1, '14-Cinnamoyloxycodeinone': 1, '6-Monoacetylmorphine': 1, 'Pentamorphone': 1, 'Dibenzoylmorphine': 1, 'Hydromorphinol': 1})\nremove: []\n497 Category:World Health Organization essential medicines ['Artemether', 'Factor IX', \"Lugol's iodine\", 'Paclitaxel', 'Oseltamivir', 'Lopinavir', 'Chloroeremomycin', 'Proton-pump inhibitor', 'Iotroxic acid', 'Emtricitabine', 'Potassium chloride medical use', 'Bleomycin', 'Sodium thiosulfate medical use', 'Statin', 'Triclabendazole', 'Amlodipine', 'Ceftazidime', 'Cefiderocol', 'Dasabuvir', 'Mannitol', 'Hydroxycarbamide', 'Betamethasone', 'Efavirenz/lamivudine/tenofovir', 'Sulfadiazine', 'Bedaquiline', 'Deferoxamine', 'Griseofulvin', 'Barium sulfate suspension', 'Methylprednisolone', 'Pegaspargase', 'Lenalidomide', 'Peginterferon alfa-2a', 'Immunoglobulin therapy', 'Azathioprine', 'Rifapentine', 'Carbetocin', 'Insulin medication', 'Podophyllum resin', 'Tetracycline', 'Calcium supplement', 'Nitroglycerin medication', 'Bisoprolol', 'Mupirocin', 'Silver sulfadiazine', 'Clopidogrel', 'Tropisetron', 'Vinblastine', 'Propranolol', 'Dopamine medication', 'Mercaptopurine', 'Itraconazole', 'Magnesium sulfate medical use', 'Verapamil', 'Ergocalciferol', 'Bupivacaine', 'Aciclovir', 'Levonorgestrel', 'Hydralazine', 'Docetaxel', 'Ivermectin', 'Losartan', 'Glass ionomer cement', 'Cefazolin', 'Oxamniquine', 'Bortezomib', 'Potassium permanganate', 'Calamine', 'Senna glycoside', 'Diethylcarbamazine', 'Medical uses of salicylic acid', 'Cycloserine', 'Glucose', 'Testosterone medication', 'Fluphenazine', 'Caspofungin', 'Amodiaquine', 'Salbutamol', 'Cisplatin', 'Clindamycin', 'Piperacillin/tazobactam', 'Methadone', 'Dextran 70', 'Sofosbuvir/daclatasvir', 'Medroxyprogesterone acetate', 'Latanoprost', 'Pyridostigmine', 'Budesonide/formoterol', 'Meropenem/vaborbactam', 'Combined oral contraceptive pill', 'Pegylated interferon', 'Tuberculin', 'Calcipotriol', 'Bendamustine', 'Meglumine antimoniate', 'Sodium thiopental', 'Fluconazole', 'Dactinomycin', 'Caffeine citrate', 'Nystatin', 'Raltegravir', 'Voriconazole', 'Hand sanitizer', 'Miconazole', 'Regular insulin', 'Sofosbuvir/velpatasvir', 'Artesunate', 'Isoniazid/pyridoxine/sulfamethoxazole/trimethoprim', 'Sodium lactate', 'Primaquine', 'Spectinomycin', 'Pyrimethamine', 'Tiotropium bromide', 'Folinic acid', 'Melarsoprol', 'Azithromycin', 'Ciprofloxacin', 'Folate', 'Vancomycin', 'Linezolid', 'Ethambutol/isoniazid/pyrazinamide/rifampicin', 'Procarbazine', 'Cholecalciferol', 'Tenofovir disoproxil', 'Tetracaine', 'Ethosuximide', 'Ondansetron', 'Lamivudine/nevirapine/stavudine', 'Ulipristal acetate', 'Tioguanine', 'Ethambutol', 'Piperaquine/dihydroartemisinin', 'Adalimumab', 'Thiamazole', 'Vitamin C', 'Sulfasalazine', 'Phenoxymethylpenicillin', 'Amiodarone', 'Cefuroxime', 'NPH insulin', 'Permethrin', 'Efavirenz', 'Paliperidone', 'Furosemide', 'Ephedrine', 'Sodium stibogluconate', 'Tacrolimus', 'RhoD immune globulin', 'Carboplatin', 'Pembrolizumab', 'Carvedilol', 'Ferrous salt/folic acid', 'Rifabutin', 'Amiloride', 'Cyclophosphamide', 'Sumatriptan', 'Bevacizumab', 'Ledipasvir', 'Hormonal IUDs', 'Ranitidine', 'Trastuzumab', 'Estradiol cypionate/medroxyprogesterone acetate', 'Benzylpenicillin', 'Phytomenadione', 'Realgar/Indigo naturalis', 'Nevirapine', 'Sodium calcium edetate', 'Mefloquine', 'Sodium nitrite', 'Riboflavin', 'Peginterferon alfa-2b', 'Spironolactone', 'Everolimus', 'Zidovudine', 'Terbinafine', 'Flucytosine', 'Protamine sulfate', 'Moxifloxacin', 'Carbamazepine', 'Platelet transfusion', 'Streptomycin', 'Infliximab', 'Atazanavir/ritonavir', 'Chlorpromazine', 'Prostaglandin E1', 'Prostaglandin E2', 'Neostigmine', '4-Aminosalicylic acid', 'Insulin glargine', 'Pentamidine', 'Water for injection', 'Hydrochlorothiazide', 'Oral rehydration therapy', 'Epinephrine medication', 'Methotrexate', 'Trimethoprim/sulfamethoxazole', 'Vinorelbine', 'Doxorubicin', 'Artesunate/pyronaridine', 'Procaine benzylpenicillin', 'Tinidazole', 'Ketamine', 'Hydroxocobalamin', 'Metronidazole', 'Haloperidol', 'Leuprorelin', 'Salicylic acid', 'Ceftriaxone', 'Iohexol', 'Oxytocin medication', 'Artesunate/mefloquine', 'Doxycycline', 'Lamivudine', 'Isoniazid', 'Chlorine-releasing compounds', 'Natamycin', 'Fluoxetine', 'Atazanavir', 'Metoprolol', 'IronII sulfate', 'Isoniazid/rifampicin', 'Cyclizine', 'Dexamethasone', 'Meropenem', 'Biperiden', 'Phenytoin', 'Carbidopa/levodopa', 'Peritoneal dialysis', 'Calcium folinate', 'Calcium gluconate', 'Intravenous sodium bicarbonate', 'Sodium thiosulfate', 'Valganciclovir', 'Dabigatran', 'Saline medicine', 'Glutaraldehyde', 'Albendazole', 'Muscarinic antagonist', 'Factor VIII medication', 'Diatrizoate', 'Ethinylestradiol/levonorgestrel', 'Loperamide', 'Lactulose', 'Diazoxide', 'Warfarin', 'Dimercaprol', 'Selenium disulfide', 'Silver diammine fluoride', 'Acetylcysteine', 'Aspirin', 'Ritonavir', 'Calcium', 'Insulin lispro', 'Whole blood', 'Norethisterone enanthate', 'Hydrocortisone', 'Melphalan', 'Cetirizine', 'Efavirenz/emtricitabine/tenofovir', 'Metformin', 'Fexinidazole', 'Cefalexin', 'Mildred Rebstock', 'Streptokinase', 'Phenobarbital', 'Oxaliplatin', 'Benznidazole', 'Potassium permanganate medical use', 'Heparin', 'Isoflurane', 'Abacavir/lamivudine', 'Aprepitant', 'Ergometrine', 'Prussian blue medical use', 'Ethinylestradiol/norethisterone', 'Miltefosine', 'Enalapril', 'Mesna', 'Sofosbuvir', \"Ringer's lactate solution\", 'Fludrocortisone', 'Tretinoin', 'Ombitasvir/paritaprevir/ritonavir', 'Tropicamide', 'Plazomicin', 'Varenicline', 'Irinotecan', 'Nivolumab', 'Ampicillin', 'Sulfadoxine/pyrimethamine', 'Rabies immunoglobulin', 'Povidone-iodine', 'Condom', 'Cloxacillin', 'Ibrutinib', 'Fluorouracil', 'Benzyl benzoate', 'Dimercaptosuccinic acid', 'Ifosfamide', 'Digoxin', 'Dolasetron', 'Gentamicin', 'Fluorescein medical use', 'Copper IUDs', 'Quinine', 'Cytarabine', 'Nitrous oxide', 'Rituximab', 'Capecitabine', 'Isosorbide dinitrate', 'Valproate', 'Micafungin', 'Etanercept', 'Mebendazole', 'Zinc sulfate medical use', 'Cefixime', 'Paracetamol', 'Artemether/lumefantrine', 'Metoclopramide', 'Rasburicase', 'Methylene blue', 'Asparaginase', 'Potassium chloride', 'Alcohols medicine', 'Fexofenadine', 'Ofloxacin', 'Diphtheria antitoxin', 'Erlotinib', 'Lamotrigine', 'Levamisole', 'Ceftazidime/avibactam', 'Erythromycin', 'Pancreatic enzymes medication', 'Darunavir', 'Pilocarpine', 'Chloramphenicol', 'Hydroxychloroquine', 'Vecuronium bromide', 'Budesonide', 'Daclatasvir', 'Retinol', 'Lorazepam', 'Lamivudine/zidovudine', 'Side effects of penicillin', 'Antivenom', 'Goserelin', 'Prussian blue', 'Amikacin', 'Niclosamide', 'Paritaprevir', 'Digestive enzyme', 'Dolutegravir/lamivudine/tenofovir', 'Fludarabine', 'Misoprostol', 'Zoledronic acid', 'Docusate', 'Suxamethonium chloride', 'Propofol', 'Chlorambucil', 'Etonogestrel', 'Chlorhexidine', 'Fluoride therapy', 'Codeine', 'Multiple micronutrient powder', 'Ipratropium bromide', 'Anastrozole', 'Arsenic trioxide', 'Ibuprofen', 'Progesterone vaginal ring', 'Nifedipine', 'Prostaglandin E', 'Scopolamine', 'Activated carbon', 'Mifepristone', 'Certolizumab pegol', 'Clozapine', 'Iron supplement', 'Pyridoxine', 'Lisinopril/hydrochlorothiazide', 'Daunorubicin', 'Gliclazide', 'Vincristine', 'Praziquantel', 'Prothrombin complex concentrate', 'Levonorgestrel-releasing implant', 'Chlorine', 'Fomepizole', 'Nicotinamide', 'Beclometasone', 'Amoxicillin/clavulanic acid', 'Trimethoprim', 'Desmopressin', 'Essential medicines', 'Levofloxacin', 'Lopinavir/ritonavir', 'Enoxaparin sodium', 'Emtricitabine/tenofovir', 'Granisetron', 'Clotrimazole', 'Nicotine replacement therapy', 'Fresh frozen plasma', 'Clarithromycin', 'Ribavirin', 'Pyrantel', 'Intravenous sugar solution', 'Packed red blood cells', 'Methyldopa', 'Lithium medication', 'Valaciclovir', 'Amitriptyline', 'Morphine', 'Acetic acid', 'Hydromorphone', 'Sodium nitroprusside', 'Prednisolone', 'Lidocaine', 'Hyoscine butylbromide', 'Proguanil', 'Delamanid', 'Bupropion', 'Fentanyl', 'Dapsone', 'Xylometazoline', 'Clofazimine', 'Amphotericin B', 'Cefotaxime', 'Glecaprevir/pibrentasvir', 'Pyrazinamide', 'Loratadine', 'Midazolam', 'Anti-tetanus immunoglobulin', 'Simvastatin', 'Ethionamide', 'Atropine', 'Clomifene', 'Suramin', 'Anidulafungin', 'Dolutegravir', 'Iodine medical use', 'Golimumab', 'Amoxicillin', 'Bicalutamide', 'Imipenem/cilastatin', 'Naloxone', 'Nitrous oxide medication', 'Entecavir', 'Omeprazole', 'Benzoyl peroxide', 'Palonosetron', 'Pulmonary surfactant medication', 'Tranexamic acid', 'Nifurtimox', 'Chloroquine', 'Nitrofurantoin', 'Activated charcoal medication', 'Oxygen therapy', 'Risperidone', 'Coal tar', 'Paromomycin', 'Dacarbazine', 'Rifampicin', 'Insulin aspart', 'Chloroxylenol', 'Levothyroxine', 'Prednisone', 'Atracurium besilate', 'Gemcitabine', 'Acetazolamide', 'Abiraterone acetate', 'Clomipramine', 'Diazepam', 'Potassium iodide', 'Glucagon medication', 'Allopurinol', 'Urea-containing cream', 'Imatinib', 'Ledipasvir/sofosbuvir', 'Diloxanide', 'Erythropoiesis-stimulating agent', 'Etoposide', 'Timolol', 'Triptorelin', 'Alteplase', 'Ciclosporin', 'Abacavir', 'Dasatinib', 'Acetic acid medical use', 'Chlorphenamine', 'Halothane', 'Ethambutol/isoniazid/rifampicin', 'Artesunate/amodiaquine', 'Rifampicin/isoniazid/pyrazinamide', 'Filgrastim', 'Diaphragm birth control', 'Penicillamine', 'Thiamine', 'Lamivudine/nevirapine/zidovudine', 'Benzathine benzylpenicillin']\nCounter({'medication': 13, 'acid': 12, 'medical': 9, 'use': 9, 'Sodium': 8, 'Potassium': 5, 'sulfate': 5, 'therapy': 5, 'Insulin': 4, 'Calcium': 4, 'acetate': 4, 'chloride': 3, 'bromide': 3, 'Prostaglandin': 3, 'blue': 3, 'Factor': 2, 'thiosulfate': 2, 'Peginterferon': 2, 'supplement': 2, 'Silver': 2, 'permanganate': 2, 'of': 2, 'insulin': 2, 'lactate': 2, 'IUDs': 2, 'benzylpenicillin': 2, 'Intravenous': 2, 'sodium': 2, 'medicine': 2, 'blood': 2, 'Prussian': 2, 'solution': 2, 'immunoglobulin': 2, 'Nitrous': 2, 'oxide': 2, 'Activated': 2, 'Acetic': 2, 'Artemether': 1, 'IX': 1, \"Lugol's\": 1, 'iodine': 1, 'Paclitaxel': 1, 'Oseltamivir': 1, 'Lopinavir': 1, 'Chloroeremomycin': 1, 'Proton-pump': 1, 'inhibitor': 1, 'Iotroxic': 1, 'Emtricitabine': 1, 'Bleomycin': 1, 'Statin': 1, 'Triclabendazole': 1, 'Amlodipine': 1, 'Ceftazidime': 1, 'Cefiderocol': 1, 'Dasabuvir': 1, 'Mannitol': 1, 'Hydroxycarbamide': 1, 'Betamethasone': 1, 'Efavirenz/lamivudine/tenofovir': 1, 'Sulfadiazine': 1, 'Bedaquiline': 1, 'Deferoxamine': 1, 'Griseofulvin': 1, 'Barium': 1, 'suspension': 1, 'Methylprednisolone': 1, 'Pegaspargase': 1, 'Lenalidomide': 1, 'alfa-2a': 1, 'Immunoglobulin': 1, 'Azathioprine': 1, 'Rifapentine': 1, 'Carbetocin': 1, 'Podophyllum': 1, 'resin': 1, 'Tetracycline': 1, 'Nitroglycerin': 1, 'Bisoprolol': 1, 'Mupirocin': 1, 'sulfadiazine': 1, 'Clopidogrel': 1, 'Tropisetron': 1, 'Vinblastine': 1, 'Propranolol': 1, 'Dopamine': 1, 'Mercaptopurine': 1, 'Itraconazole': 1, 'Magnesium': 1, 'Verapamil': 1, 'Ergocalciferol': 1, 'Bupivacaine': 1, 'Aciclovir': 1, 'Levonorgestrel': 1, 'Hydralazine': 1, 'Docetaxel': 1, 'Ivermectin': 1, 'Losartan': 1, 'Glass': 1, 'ionomer': 1, 'cement': 1, 'Cefazolin': 1, 'Oxamniquine': 1, 'Bortezomib': 1, 'Calamine': 1, 'Senna': 1, 'glycoside': 1, 'Diethylcarbamazine': 1, 'Medical': 1, 'uses': 1, 'salicylic': 1, 'Cycloserine': 1, 'Glucose': 1, 'Testosterone': 1, 'Fluphenazine': 1, 'Caspofungin': 1, 'Amodiaquine': 1, 'Salbutamol': 1, 'Cisplatin': 1, 'Clindamycin': 1, 'Piperacillin/tazobactam': 1, 'Methadone': 1, 'Dextran': 1, '70': 1, 'Sofosbuvir/daclatasvir': 1, 'Medroxyprogesterone': 1, 'Latanoprost': 1, 'Pyridostigmine': 1, 'Budesonide/formoterol': 1, 'Meropenem/vaborbactam': 1, 'Combined': 1, 'oral': 1, 'contraceptive': 1, 'pill': 1, 'Pegylated': 1, 'interferon': 1, 'Tuberculin': 1, 'Calcipotriol': 1, 'Bendamustine': 1, 'Meglumine': 1, 'antimoniate': 1, 'thiopental': 1, 'Fluconazole': 1, 'Dactinomycin': 1, 'Caffeine': 1, 'citrate': 1, 'Nystatin': 1, 'Raltegravir': 1, 'Voriconazole': 1, 'Hand': 1, 'sanitizer': 1, 'Miconazole': 1, 'Regular': 1, 'Sofosbuvir/velpatasvir': 1, 'Artesunate': 1, 'Isoniazid/pyridoxine/sulfamethoxazole/trimethoprim': 1, 'Primaquine': 1, 'Spectinomycin': 1, 'Pyrimethamine': 1, 'Tiotropium': 1, 'Folinic': 1, 'Melarsoprol': 1, 'Azithromycin': 1, 'Ciprofloxacin': 1, 'Folate': 1, 'Vancomycin': 1, 'Linezolid': 1, 'Ethambutol/isoniazid/pyrazinamide/rifampicin': 1, 'Procarbazine': 1, 'Cholecalciferol': 1, 'Tenofovir': 1, 'disoproxil': 1, 'Tetracaine': 1, 'Ethosuximide': 1, 'Ondansetron': 1, 'Lamivudine/nevirapine/stavudine': 1, 'Ulipristal': 1, 'Tioguanine': 1, 'Ethambutol': 1, 'Piperaquine/dihydroartemisinin': 1, 'Adalimumab': 1, 'Thiamazole': 1, 'Vitamin': 1, 'C': 1, 'Sulfasalazine': 1, 'Phenoxymethylpenicillin': 1, 'Amiodarone': 1, 'Cefuroxime': 1, 'NPH': 1, 'Permethrin': 1, 'Efavirenz': 1, 'Paliperidone': 1, 'Furosemide': 1, 'Ephedrine': 1, 'stibogluconate': 1, 'Tacrolimus': 1, 'RhoD': 1, 'immune': 1, 'globulin': 1, 'Carboplatin': 1, 'Pembrolizumab': 1, 'Carvedilol': 1, 'Ferrous': 1, 'salt/folic': 1, 'Rifabutin': 1, 'Amiloride': 1, 'Cyclophosphamide': 1, 'Sumatriptan': 1, 'Bevacizumab': 1, 'Ledipasvir': 1, 'Hormonal': 1, 'Ranitidine': 1, 'Trastuzumab': 1, 'Estradiol': 1, 'cypionate/medroxyprogesterone': 1, 'Benzylpenicillin': 1, 'Phytomenadione': 1, 'Realgar/Indigo': 1, 'naturalis': 1, 'Nevirapine': 1, 'calcium': 1, 'edetate': 1, 'Mefloquine': 1, 'nitrite': 1, 'Riboflavin': 1, 'alfa-2b': 1, 'Spironolactone': 1, 'Everolimus': 1, 'Zidovudine': 1, 'Terbinafine': 1, 'Flucytosine': 1, 'Protamine': 1, 'Moxifloxacin': 1, 'Carbamazepine': 1, 'Platelet': 1, 'transfusion': 1, 'Streptomycin': 1, 'Infliximab': 1, 'Atazanavir/ritonavir': 1, 'Chlorpromazine': 1, 'E1': 1, 'E2': 1, 'Neostigmine': 1, '4-Aminosalicylic': 1, 'glargine': 1, 'Pentamidine': 1, 'Water': 1, 'for': 1, 'injection': 1, 'Hydrochlorothiazide': 1, 'Oral': 1, 'rehydration': 1, 'Epinephrine': 1, 'Methotrexate': 1, 'Trimethoprim/sulfamethoxazole': 1, 'Vinorelbine': 1, 'Doxorubicin': 1, 'Artesunate/pyronaridine': 1, 'Procaine': 1, 'Tinidazole': 1, 'Ketamine': 1, 'Hydroxocobalamin': 1, 'Metronidazole': 1, 'Haloperidol': 1, 'Leuprorelin': 1, 'Salicylic': 1, 'Ceftriaxone': 1, 'Iohexol': 1, 'Oxytocin': 1, 'Artesunate/mefloquine': 1, 'Doxycycline': 1, 'Lamivudine': 1, 'Isoniazid': 1, 'Chlorine-releasing': 1, 'compounds': 1, 'Natamycin': 1, 'Fluoxetine': 1, 'Atazanavir': 1, 'Metoprolol': 1, 'IronII': 1, 'Isoniazid/rifampicin': 1, 'Cyclizine': 1, 'Dexamethasone': 1, 'Meropenem': 1, 'Biperiden': 1, 'Phenytoin': 1, 'Carbidopa/levodopa': 1, 'Peritoneal': 1, 'dialysis': 1, 'folinate': 1, 'gluconate': 1, 'bicarbonate': 1, 'Valganciclovir': 1, 'Dabigatran': 1, 'Saline': 1, 'Glutaraldehyde': 1, 'Albendazole': 1, 'Muscarinic': 1, 'antagonist': 1, 'VIII': 1, 'Diatrizoate': 1, 'Ethinylestradiol/levonorgestrel': 1, 'Loperamide': 1, 'Lactulose': 1, 'Diazoxide': 1, 'Warfarin': 1, 'Dimercaprol': 1, 'Selenium': 1, 'disulfide': 1, 'diammine': 1, 'fluoride': 1, 'Acetylcysteine': 1, 'Aspirin': 1, 'Ritonavir': 1, 'lispro': 1, 'Whole': 1, 'Norethisterone': 1, 'enanthate': 1, 'Hydrocortisone': 1, 'Melphalan': 1, 'Cetirizine': 1, 'Efavirenz/emtricitabine/tenofovir': 1, 'Metformin': 1, 'Fexinidazole': 1, 'Cefalexin': 1, 'Mildred': 1, 'Rebstock': 1, 'Streptokinase': 1, 'Phenobarbital': 1, 'Oxaliplatin': 1, 'Benznidazole': 1, 'Heparin': 1, 'Isoflurane': 1, 'Abacavir/lamivudine': 1, 'Aprepitant': 1, 'Ergometrine': 1, 'Ethinylestradiol/norethisterone': 1, 'Miltefosine': 1, 'Enalapril': 1, 'Mesna': 1, 'Sofosbuvir': 1, \"Ringer's\": 1, 'Fludrocortisone': 1, 'Tretinoin': 1, 'Ombitasvir/paritaprevir/ritonavir': 1, 'Tropicamide': 1, 'Plazomicin': 1, 'Varenicline': 1, 'Irinotecan': 1, 'Nivolumab': 1, 'Ampicillin': 1, 'Sulfadoxine/pyrimethamine': 1, 'Rabies': 1, 'Povidone-iodine': 1, 'Condom': 1, 'Cloxacillin': 1, 'Ibrutinib': 1, 'Fluorouracil': 1, 'Benzyl': 1, 'benzoate': 1, 'Dimercaptosuccinic': 1, 'Ifosfamide': 1, 'Digoxin': 1, 'Dolasetron': 1, 'Gentamicin': 1, 'Fluorescein': 1, 'Copper': 1, 'Quinine': 1, 'Cytarabine': 1, 'Rituximab': 1, 'Capecitabine': 1, 'Isosorbide': 1, 'dinitrate': 1, 'Valproate': 1, 'Micafungin': 1, 'Etanercept': 1, 'Mebendazole': 1, 'Zinc': 1, 'Cefixime': 1, 'Paracetamol': 1, 'Artemether/lumefantrine': 1, 'Metoclopramide': 1, 'Rasburicase': 1, 'Methylene': 1, 'Asparaginase': 1, 'Alcohols': 1, 'Fexofenadine': 1, 'Ofloxacin': 1, 'Diphtheria': 1, 'antitoxin': 1, 'Erlotinib': 1, 'Lamotrigine': 1, 'Levamisole': 1, 'Ceftazidime/avibactam': 1, 'Erythromycin': 1, 'Pancreatic': 1, 'enzymes': 1, 'Darunavir': 1, 'Pilocarpine': 1, 'Chloramphenicol': 1, 'Hydroxychloroquine': 1, 'Vecuronium': 1, 'Budesonide': 1, 'Daclatasvir': 1, 'Retinol': 1, 'Lorazepam': 1, 'Lamivudine/zidovudine': 1, 'Side': 1, 'effects': 1, 'penicillin': 1, 'Antivenom': 1, 'Goserelin': 1, 'Amikacin': 1, 'Niclosamide': 1, 'Paritaprevir': 1, 'Digestive': 1, 'enzyme': 1, 'Dolutegravir/lamivudine/tenofovir': 1, 'Fludarabine': 1, 'Misoprostol': 1, 'Zoledronic': 1, 'Docusate': 1, 'Suxamethonium': 1, 'Propofol': 1, 'Chlorambucil': 1, 'Etonogestrel': 1, 'Chlorhexidine': 1, 'Fluoride': 1, 'Codeine': 1, 'Multiple': 1, 'micronutrient': 1, 'powder': 1, 'Ipratropium': 1, 'Anastrozole': 1, 'Arsenic': 1, 'trioxide': 1, 'Ibuprofen': 1, 'Progesterone': 1, 'vaginal': 1, 'ring': 1, 'Nifedipine': 1, 'E': 1, 'Scopolamine': 1, 'carbon': 1, 'Mifepristone': 1, 'Certolizumab': 1, 'pegol': 1, 'Clozapine': 1, 'Iron': 1, 'Pyridoxine': 1, 'Lisinopril/hydrochlorothiazide': 1, 'Daunorubicin': 1, 'Gliclazide': 1, 'Vincristine': 1, 'Praziquantel': 1, 'Prothrombin': 1, 'complex': 1, 'concentrate': 1, 'Levonorgestrel-releasing': 1, 'implant': 1, 'Chlorine': 1, 'Fomepizole': 1, 'Nicotinamide': 1, 'Beclometasone': 1, 'Amoxicillin/clavulanic': 1, 'Trimethoprim': 1, 'Desmopressin': 1, 'Essential': 1, 'medicines': 1, 'Levofloxacin': 1, 'Lopinavir/ritonavir': 1, 'Enoxaparin': 1, 'Emtricitabine/tenofovir': 1, 'Granisetron': 1, 'Clotrimazole': 1, 'Nicotine': 1, 'replacement': 1, 'Fresh': 1, 'frozen': 1, 'plasma': 1, 'Clarithromycin': 1, 'Ribavirin': 1, 'Pyrantel': 1, 'sugar': 1, 'Packed': 1, 'red': 1, 'cells': 1, 'Methyldopa': 1, 'Lithium': 1, 'Valaciclovir': 1, 'Amitriptyline': 1, 'Morphine': 1, 'Hydromorphone': 1, 'nitroprusside': 1, 'Prednisolone': 1, 'Lidocaine': 1, 'Hyoscine': 1, 'butylbromide': 1, 'Proguanil': 1, 'Delamanid': 1, 'Bupropion': 1, 'Fentanyl': 1, 'Dapsone': 1, 'Xylometazoline': 1, 'Clofazimine': 1, 'Amphotericin': 1, 'B': 1, 'Cefotaxime': 1, 'Glecaprevir/pibrentasvir': 1, 'Pyrazinamide': 1, 'Loratadine': 1, 'Midazolam': 1, 'Anti-tetanus': 1, 'Simvastatin': 1, 'Ethionamide': 1, 'Atropine': 1, 'Clomifene': 1, 'Suramin': 1, 'Anidulafungin': 1, 'Dolutegravir': 1, 'Iodine': 1, 'Golimumab': 1, 'Amoxicillin': 1, 'Bicalutamide': 1, 'Imipenem/cilastatin': 1, 'Naloxone': 1, 'Entecavir': 1, 'Omeprazole': 1, 'Benzoyl': 1, 'peroxide': 1, 'Palonosetron': 1, 'Pulmonary': 1, 'surfactant': 1, 'Tranexamic': 1, 'Nifurtimox': 1, 'Chloroquine': 1, 'Nitrofurantoin': 1, 'charcoal': 1, 'Oxygen': 1, 'Risperidone': 1, 'Coal': 1, 'tar': 1, 'Paromomycin': 1, 'Dacarbazine': 1, 'Rifampicin': 1, 'aspart': 1, 'Chloroxylenol': 1, 'Levothyroxine': 1, 'Prednisone': 1, 'Atracurium': 1, 'besilate': 1, 'Gemcitabine': 1, 'Acetazolamide': 1, 'Abiraterone': 1, 'Clomipramine': 1, 'Diazepam': 1, 'iodide': 1, 'Glucagon': 1, 'Allopurinol': 1, 'Urea-containing': 1, 'cream': 1, 'Imatinib': 1, 'Ledipasvir/sofosbuvir': 1, 'Diloxanide': 1, 'Erythropoiesis-stimulating': 1, 'agent': 1, 'Etoposide': 1, 'Timolol': 1, 'Triptorelin': 1, 'Alteplase': 1, 'Ciclosporin': 1, 'Abacavir': 1, 'Dasatinib': 1, 'Chlorphenamine': 1, 'Halothane': 1, 'Ethambutol/isoniazid/rifampicin': 1, 'Artesunate/amodiaquine': 1, 'Rifampicin/isoniazid/pyrazinamide': 1, 'Filgrastim': 1, 'Diaphragm': 1, 'birth': 1, 'control': 1, 'Penicillamine': 1, 'Thiamine': 1, 'Lamivudine/nevirapine/zidovudine': 1, 'Benzathine': 1})\nremove: []\n122 Category:Drug culture ['Furthur bus', 'Glossary of jive talk', 'Erowid', 'Cold-Food Powder', 'Entheogenic drugs and the archaeological record', 'Head shop', 'Contaminated currency', 'Smoking', 'Bad trip', 'Recreational use of nitrous oxide', 'Clubbing subculture', 'Supervised injection site', 'Contact high', 'FAAAT think & do tank', 'Chimique', 'Doctor shopping', 'Precursor chemicals', 'Drug fraud', 'E for Ecstasy', 'Party pills', 'Pharming party', 'Strawberry Quik meth myth', 'Cannabis political parties', 'Gamma-Hydroxybutyric acid', 'Emmasofia', 'Drug culture', 'Dagga Couple', 'Research chemical', 'Disco', 'Cold water extraction', 'Designer drug', 'Phenibut', 'Polysubstance use', 'Timothy Leary', 'Roach smoking', 'Sin City description', 'Ethylphenidate', 'History of entheogenic drugs', 'Drug overdose', 'Evolutionary models of human drug use', 'Tweaking behavior', 'Responsible drug use', 'Solar puffing', 'Poppers', 'Madak', 'Rave', 'Recreational drug use', 'Drug injection', 'Mushroom tea', 'Club drug', 'Prevention Point Philadelphia', 'Drug use in music', 'Blacklight poster', 'International Center for Ethnobotanical Education, Research and Service', 'Entheogen', 'Insite', 'History and culture of substituted amphetamines', 'Isopropylbenzylamine', 'DanceSafe', 'Eve & Rave', 'Drug checking', 'Discrimination against drug addicts', 'Afterglow drug culture', 'United States drug overdose death rates and totals over time', 'Synthetic cannabinoids', 'Urban legends about drugs', 'Harm reduction', 'Psychonautics', 'Cutting agent', 'Cannabis culture', 'Crack cocaine', 'Cannabis shop', 'Set and setting', 'Needle and syringe programmes', 'Get Your Drugs Tested', 'Kava culture', 'Party and play', '420chan', 'Mickey Finn drugs', 'Enlighten Harm Reduction', 'Hippy Sippy', 'Reverse smoking', 'Needle sharing', 'Legalise Cannabis Australia', 'Operation Overgrow', 'Beatnik', 'Truth serum', 'Recreational drug tourism', 'Rebetiko', 'Skin popping', 'Rochdale College', 'Heroin chic', 'Trip sitter', 'Drug liberalization', 'Oscar Zeta Acosta', 'Narcoculture in Mexico', 'Chasing the dragon', 'Midnight Delight film', \"Hamilton's Pharmacopeia\", 'Prevention First', 'Flashblood', 'Whoonga', 'Reagent testing', 'Alcohol drug', 'Lacing drugs', 'Adulterant', 'Homebake slang', 'Museo del Enervante', 'Shakedown Street vending area', 'Magic truffle', 'The Big Cube', 'Sex and drugs', 'Hamilton Morris', 'Bath salts drug', 'Whitey drugs', 'Cognitive liberty', 'Flunitrazepam', 'Lean drug', 'Smart shop', 'Arguments for and against drug prohibition', 'Gray death', 'Free base']\nCounter({'drug': 13, 'and': 9, 'drugs': 7, 'Drug': 7, 'use': 6, 'of': 5, 'culture': 5, 'Cannabis': 4, 'shop': 3, 'Recreational': 3, 'for': 3, 'the': 2, 'injection': 2, '&': 2, 'Party': 2, 'Research': 2, 'smoking': 2, 'History': 2, 'overdose': 2, 'Rave': 2, 'Prevention': 2, 'in': 2, 'against': 2, 'death': 2, 'Harm': 2, 'Needle': 2, 'Furthur': 1, 'bus': 1, 'Glossary': 1, 'jive': 1, 'talk': 1, 'Erowid': 1, 'Cold-Food': 1, 'Powder': 1, 'Entheogenic': 1, 'archaeological': 1, 'record': 1, 'Head': 1, 'Contaminated': 1, 'currency': 1, 'Smoking': 1, 'Bad': 1, 'trip': 1, 'nitrous': 1, 'oxide': 1, 'Clubbing': 1, 'subculture': 1, 'Supervised': 1, 'site': 1, 'Contact': 1, 'high': 1, 'FAAAT': 1, 'think': 1, 'do': 1, 'tank': 1, 'Chimique': 1, 'Doctor': 1, 'shopping': 1, 'Precursor': 1, 'chemicals': 1, 'fraud': 1, 'E': 1, 'Ecstasy': 1, 'pills': 1, 'Pharming': 1, 'party': 1, 'Strawberry': 1, 'Quik': 1, 'meth': 1, 'myth': 1, 'political': 1, 'parties': 1, 'Gamma-Hydroxybutyric': 1, 'acid': 1, 'Emmasofia': 1, 'Dagga': 1, 'Couple': 1, 'chemical': 1, 'Disco': 1, 'Cold': 1, 'water': 1, 'extraction': 1, 'Designer': 1, 'Phenibut': 1, 'Polysubstance': 1, 'Timothy': 1, 'Leary': 1, 'Roach': 1, 'Sin': 1, 'City': 1, 'description': 1, 'Ethylphenidate': 1, 'entheogenic': 1, 'Evolutionary': 1, 'models': 1, 'human': 1, 'Tweaking': 1, 'behavior': 1, 'Responsible': 1, 'Solar': 1, 'puffing': 1, 'Poppers': 1, 'Madak': 1, 'Mushroom': 1, 'tea': 1, 'Club': 1, 'Point': 1, 'Philadelphia': 1, 'music': 1, 'Blacklight': 1, 'poster': 1, 'International': 1, 'Center': 1, 'Ethnobotanical': 1, 'Education,': 1, 'Service': 1, 'Entheogen': 1, 'Insite': 1, 'substituted': 1, 'amphetamines': 1, 'Isopropylbenzylamine': 1, 'DanceSafe': 1, 'Eve': 1, 'checking': 1, 'Discrimination': 1, 'addicts': 1, 'Afterglow': 1, 'United': 1, 'States': 1, 'rates': 1, 'totals': 1, 'over': 1, 'time': 1, 'Synthetic': 1, 'cannabinoids': 1, 'Urban': 1, 'legends': 1, 'about': 1, 'reduction': 1, 'Psychonautics': 1, 'Cutting': 1, 'agent': 1, 'Crack': 1, 'cocaine': 1, 'Set': 1, 'setting': 1, 'syringe': 1, 'programmes': 1, 'Get': 1, 'Your': 1, 'Drugs': 1, 'Tested': 1, 'Kava': 1, 'play': 1, '420chan': 1, 'Mickey': 1, 'Finn': 1, 'Enlighten': 1, 'Reduction': 1, 'Hippy': 1, 'Sippy': 1, 'Reverse': 1, 'sharing': 1, 'Legalise': 1, 'Australia': 1, 'Operation': 1, 'Overgrow': 1, 'Beatnik': 1, 'Truth': 1, 'serum': 1, 'tourism': 1, 'Rebetiko': 1, 'Skin': 1, 'popping': 1, 'Rochdale': 1, 'College': 1, 'Heroin': 1, 'chic': 1, 'Trip': 1, 'sitter': 1, 'liberalization': 1, 'Oscar': 1, 'Zeta': 1, 'Acosta': 1, 'Narcoculture': 1, 'Mexico': 1, 'Chasing': 1, 'dragon': 1, 'Midnight': 1, 'Delight': 1, 'film': 1, \"Hamilton's\": 1, 'Pharmacopeia': 1, 'First': 1, 'Flashblood': 1, 'Whoonga': 1, 'Reagent': 1, 'testing': 1, 'Alcohol': 1, 'Lacing': 1, 'Adulterant': 1, 'Homebake': 1, 'slang': 1, 'Museo': 1, 'del': 1, 'Enervante': 1, 'Shakedown': 1, 'Street': 1, 'vending': 1, 'area': 1, 'Magic': 1, 'truffle': 1, 'The': 1, 'Big': 1, 'Cube': 1, 'Sex': 1, 'Hamilton': 1, 'Morris': 1, 'Bath': 1, 'salts': 1, 'Whitey': 1, 'Cognitive': 1, 'liberty': 1, 'Flunitrazepam': 1, 'Lean': 1, 'Smart': 1, 'Arguments': 1, 'prohibition': 1, 'Gray': 1, 'Free': 1, 'base': 1})\nremove: []\n191 Category:Pfizer brands ['C9-CP 47,497', 'Atorvastatin', 'Toceranib', 'Factor IX', 'Figitumumab', 'Valdecoxib', 'Cetirizine', 'Crizotinib', 'Estramustine phosphate', 'Otenabant', 'Tavaborole', 'Tiotropium bromide', 'Trifluridine', 'Nifedipine', 'Azithromycin', 'Zolpidem', 'Conjugated estrogens', 'CP-532,903', 'Eletriptan', 'Linezolid', 'Maraviroc', 'Pantoprazole', 'Anusol', 'Thrombin', 'Caltrate', 'Bendroflumethiazide', 'Enzalutamide', 'Eplerenone', 'Avelumab', 'Tenidap', 'Ziprasidone', 'Dristan', 'Axitinib', 'ApoA-1 Milano', 'Gedatolisib', 'Sunitinib', 'Reboxetine', 'Thiamazole', 'Amlodipine', 'Selamectin', 'Ramipril', 'Gemtuzumab ozogamicin', 'PF-514273', 'CP-93129', 'Tigecycline', 'Glipizide', 'Dacomitinib', 'CP-94253', 'Liothyronine', 'Oxytetracycline', 'Diclofenac', 'Factor VIII', 'Piroxicam', 'Preparation H', 'Methylprednisolone', 'Alprazolam', 'Tremelimumab', 'Rifabutin', 'Bapineuzumab', 'Ampicillin/sulbactam', 'Gabapentin', 'ThermaCare', 'PD-217,014', 'Encorafenib', 'Sumatriptan', 'Varenicline', 'Epirubicin', 'Irinotecan', 'Lufotrelvir', 'UK-414,495', 'Somatrogon', 'Binimetinib', 'Venlafaxine', 'PF-219,061', 'Zaleplon', 'Ponezumab', 'Prazosin', 'Silver sulfadiazine', 'Ceftaroline fosamil', 'Fezakinumab', 'Cefoperazone', 'Inhalable insulin', 'Celecoxib', 'Quinaprilat', 'Troglitazone', 'Pneumococcal conjugate vaccine', 'Donepezil', 'Sorbinil', 'Cannabicyclohexanol', 'Growth hormone', '4-Methylpregabalin', 'Desvenlafaxine', 'Extended-release morphine', 'Bazedoxifene/conjugated estrogens', 'Imagabalin', 'Verapamil', 'Loratadine', 'Lincomycin', 'Torcetrapib', 'Pegaptanib', 'Atropine', 'Atagabalin', 'Pregabalin', 'Anidulafungin', 'Etanercept', 'Amlodipine/atorvastatin', 'Nadolol', 'Abrocitinib', 'Temsirolimus', 'Tanezumab', 'PF-184563', 'Quinapril', 'Pramipexole', 'Morphine/naltrexone', 'Nelfinavir', 'Esomeprazole', 'Trimethoprim/sulfamethoxazole', 'Doxorubicin', 'Metaxalone', 'CP-39,332', 'Neomycin/polymyxin B/hydrocortisone', 'Penicillin', 'C6-CP 47,497', 'Hydroxocobalamin', 'Pegvisomant', 'Metronidazole', 'Levothyroxine', 'Esreboxetine', 'Fosphenytoin', 'Cold medicine', 'Dimetapp', 'CP-809101', 'Methylnaltrexone', 'PF-592,379', 'PF-4840154', 'Ceftazidime/avibactam', 'Sildenafil', 'Erythromycin', 'Tolterodine', 'Glasdegib', 'Brompheniramine', 'Sultamicillin', 'Delavirdine', 'Pilocarpine', 'Tametraline', 'Exemestane', 'Benzathine benzylpenicillin/procaine benzylpenicillin', 'CP 55,244', 'CP-226,269', 'Extended cycle combined hormonal contraceptive', 'Latanoprost', 'Robitussin', 'Anacin', 'GRN-529', 'Isoxicam', 'Lorlatinib', 'Sirolimus', 'Lorazepam', 'Inotuzumab ozogamicin', 'Side effects of penicillin', 'CP 55,940', 'PF-03654746', 'CP 47,497', 'Fesoterodine', 'CP-615,003', 'Dalteparin sodium', 'Sodium thiopental', 'PF-4800567', 'CP-154,526', 'Dofetilide', 'Palbociclib', 'Fluconazole', 'Ozoralizumab', 'PF-00446687', 'Interferon beta-1a', 'Centrum multivitamin', 'Nicotine', 'Apixaban', 'Ibutilide', 'Mardepodect', 'Homatropine', 'Voriconazole', 'Bosutinib', 'Filgrastim', 'Triazolam', 'Ibuprofen/paracetamol', 'Oprelvekin', 'Sertraline', 'Levonantradol', 'Epinephrine autoinjector', 'Benzathine benzylpenicillin']\nCounter({'47,497': 3, 'CP': 3, 'Factor': 2, 'estrogens': 2, 'ozogamicin': 2, 'Benzathine': 2, 'benzylpenicillin': 2, 'C9-CP': 1, 'Atorvastatin': 1, 'Toceranib': 1, 'IX': 1, 'Figitumumab': 1, 'Valdecoxib': 1, 'Cetirizine': 1, 'Crizotinib': 1, 'Estramustine': 1, 'phosphate': 1, 'Otenabant': 1, 'Tavaborole': 1, 'Tiotropium': 1, 'bromide': 1, 'Trifluridine': 1, 'Nifedipine': 1, 'Azithromycin': 1, 'Zolpidem': 1, 'Conjugated': 1, 'CP-532,903': 1, 'Eletriptan': 1, 'Linezolid': 1, 'Maraviroc': 1, 'Pantoprazole': 1, 'Anusol': 1, 'Thrombin': 1, 'Caltrate': 1, 'Bendroflumethiazide': 1, 'Enzalutamide': 1, 'Eplerenone': 1, 'Avelumab': 1, 'Tenidap': 1, 'Ziprasidone': 1, 'Dristan': 1, 'Axitinib': 1, 'ApoA-1': 1, 'Milano': 1, 'Gedatolisib': 1, 'Sunitinib': 1, 'Reboxetine': 1, 'Thiamazole': 1, 'Amlodipine': 1, 'Selamectin': 1, 'Ramipril': 1, 'Gemtuzumab': 1, 'PF-514273': 1, 'CP-93129': 1, 'Tigecycline': 1, 'Glipizide': 1, 'Dacomitinib': 1, 'CP-94253': 1, 'Liothyronine': 1, 'Oxytetracycline': 1, 'Diclofenac': 1, 'VIII': 1, 'Piroxicam': 1, 'Preparation': 1, 'H': 1, 'Methylprednisolone': 1, 'Alprazolam': 1, 'Tremelimumab': 1, 'Rifabutin': 1, 'Bapineuzumab': 1, 'Ampicillin/sulbactam': 1, 'Gabapentin': 1, 'ThermaCare': 1, 'PD-217,014': 1, 'Encorafenib': 1, 'Sumatriptan': 1, 'Varenicline': 1, 'Epirubicin': 1, 'Irinotecan': 1, 'Lufotrelvir': 1, 'UK-414,495': 1, 'Somatrogon': 1, 'Binimetinib': 1, 'Venlafaxine': 1, 'PF-219,061': 1, 'Zaleplon': 1, 'Ponezumab': 1, 'Prazosin': 1, 'Silver': 1, 'sulfadiazine': 1, 'Ceftaroline': 1, 'fosamil': 1, 'Fezakinumab': 1, 'Cefoperazone': 1, 'Inhalable': 1, 'insulin': 1, 'Celecoxib': 1, 'Quinaprilat': 1, 'Troglitazone': 1, 'Pneumococcal': 1, 'conjugate': 1, 'vaccine': 1, 'Donepezil': 1, 'Sorbinil': 1, 'Cannabicyclohexanol': 1, 'Growth': 1, 'hormone': 1, '4-Methylpregabalin': 1, 'Desvenlafaxine': 1, 'Extended-release': 1, 'morphine': 1, 'Bazedoxifene/conjugated': 1, 'Imagabalin': 1, 'Verapamil': 1, 'Loratadine': 1, 'Lincomycin': 1, 'Torcetrapib': 1, 'Pegaptanib': 1, 'Atropine': 1, 'Atagabalin': 1, 'Pregabalin': 1, 'Anidulafungin': 1, 'Etanercept': 1, 'Amlodipine/atorvastatin': 1, 'Nadolol': 1, 'Abrocitinib': 1, 'Temsirolimus': 1, 'Tanezumab': 1, 'PF-184563': 1, 'Quinapril': 1, 'Pramipexole': 1, 'Morphine/naltrexone': 1, 'Nelfinavir': 1, 'Esomeprazole': 1, 'Trimethoprim/sulfamethoxazole': 1, 'Doxorubicin': 1, 'Metaxalone': 1, 'CP-39,332': 1, 'Neomycin/polymyxin': 1, 'B/hydrocortisone': 1, 'Penicillin': 1, 'C6-CP': 1, 'Hydroxocobalamin': 1, 'Pegvisomant': 1, 'Metronidazole': 1, 'Levothyroxine': 1, 'Esreboxetine': 1, 'Fosphenytoin': 1, 'Cold': 1, 'medicine': 1, 'Dimetapp': 1, 'CP-809101': 1, 'Methylnaltrexone': 1, 'PF-592,379': 1, 'PF-4840154': 1, 'Ceftazidime/avibactam': 1, 'Sildenafil': 1, 'Erythromycin': 1, 'Tolterodine': 1, 'Glasdegib': 1, 'Brompheniramine': 1, 'Sultamicillin': 1, 'Delavirdine': 1, 'Pilocarpine': 1, 'Tametraline': 1, 'Exemestane': 1, 'benzylpenicillin/procaine': 1, '55,244': 1, 'CP-226,269': 1, 'Extended': 1, 'cycle': 1, 'combined': 1, 'hormonal': 1, 'contraceptive': 1, 'Latanoprost': 1, 'Robitussin': 1, 'Anacin': 1, 'GRN-529': 1, 'Isoxicam': 1, 'Lorlatinib': 1, 'Sirolimus': 1, 'Lorazepam': 1, 'Inotuzumab': 1, 'Side': 1, 'effects': 1, 'of': 1, 'penicillin': 1, '55,940': 1, 'PF-03654746': 1, 'Fesoterodine': 1, 'CP-615,003': 1, 'Dalteparin': 1, 'sodium': 1, 'Sodium': 1, 'thiopental': 1, 'PF-4800567': 1, 'CP-154,526': 1, 'Dofetilide': 1, 'Palbociclib': 1, 'Fluconazole': 1, 'Ozoralizumab': 1, 'PF-00446687': 1, 'Interferon': 1, 'beta-1a': 1, 'Centrum': 1, 'multivitamin': 1, 'Nicotine': 1, 'Apixaban': 1, 'Ibutilide': 1, 'Mardepodect': 1, 'Homatropine': 1, 'Voriconazole': 1, 'Bosutinib': 1, 'Filgrastim': 1, 'Triazolam': 1, 'Ibuprofen/paracetamol': 1, 'Oprelvekin': 1, 'Sertraline': 1, 'Levonantradol': 1, 'Epinephrine': 1, 'autoinjector': 1})\nremove: []\nOxycodone\n",
     "output_type": "stream"
    }
   ],
   "execution_count": null
  },
  {
   "cell_type": "code",
   "metadata": {
    "cell_id": "de4d96a8016146378b241b27df52a66b",
    "tags": [],
    "deepnote_to_be_reexecuted": false,
    "source_hash": "23197f0c",
    "execution_start": 1650222032014,
    "execution_millis": 3556923,
    "deepnote_cell_type": "code",
    "deepnote_cell_height": 878.1875
   },
   "source": "#Find and rank top results\n# df_final = crfnt.calculate_final_results_for_wiki_term(wiki_term, mvp_flag)\ndf_final = crfnt.calculate_final_results_for_wiki_term('Catan', True)\n# df_final = crfnt.calculate_final_results_for_wiki_term('Oxycodone', False)",
   "outputs": [
    {
     "name": "stdout",
     "text": "Wikipedia term: Catan\nSee wikipedia categories and number of article saved as training data to be labeled.\nCategory:Board games introduced in 2018 6 6\nCategory:Embracer Group franchises 89 83\nCategory:Board games introduced in 2020 94 5\nCategory:Territorial acquisition and development games 95 1\nCategory:Multiplayer games 157 62\nCategory:Board games with a modular board 200 43\nCategory:Board games introduced in 2019 208 8\nCategory:Board games introduced in 1995 222 14\nmvp! wikipedia article already parsed and labeled.\n13999 sentences from wikipedia available to train on\nCounter({'N': 322591, 'Y': 5738}) numbers of each label from wikipedia\nReady to train.\nmvp! using existing tagger file\nSample test sentence and predicted/actual tags\nThe player with the most victory points at the end of the game is the winner .\n\nPredicted: N N N N N N N N N N N N N N N N N\nActual:   N N N N N N N N N N N N N N N N N\nCatan\n  class  precision  recall  f1_score  support\n0     N        1.0    1.00      1.00    65581\n1     Y        0.9    0.86      0.88     1123\nNumber of Sentences in Reddit text: 4466\nSome example sentences:\nWhen updates first started coming out it was all stuff locked away behind difficulties I would never conquer and was annoyed. However they've put out so much awesome content that addresses so much of the game and people who play that it's been great. So they put out some stuff I'll never see? Who cares they added early, mid, and late biomes, weapons, and enemies I will\nIt's a game that largely went ignored at release and has gathered steam, a following, and more attention/recognition. To me a forgettable game is one where the attention drops off, doesn't grow.\nBut I feel like the game has a lot of highs, there really isn't a lot like it and has a lot more great about it than it has flaws. There's a reason it's become more and more popular and while ignored a lot at release has become something you'll always find people to speak vocally about their love of the game.\nAn extremely low IGN review definitely took down Prey's average\nSeems like most people's hype died a bit at the reveal trailer when they saw it was a QD game.\nSeems like someone at QD couldn't stand bad press and put out this nothing of a PR statement that seems deliberately misunderstanding the original reporting. Luckily I have zero expectations for the game and still think we won't see anything for a long time.\nIf you're gaming to feel a better cultural connection to your friends and the world that hardly feels like a waste. However you do you, if you think of gaming as a waste of time there are a ton of other hobbies and things you can do.\nI think saying the store wasn't popular as a sign there isn't demand I don't think is a fair conclusion. This was well into the Past life when they wanted to shut it down and the audience for the games had moved onto other platforms. People weren't using the store because people weren't using the PS3. That doesn't necessarily mean they wouldn't buy PS3 games.\nShrug, I cared more about some of his other points like saving builds. However you seem pretty combative so I have no desire to elaborate or respond more than I already have.\nWell still have to use your upgrade materials but honestly I never saw the point of spending your ruins/souls/etc. Prices have always been at an amount it was a trivial amount to farm to spend it so I don't actually see the purpose. Also I feel like you're taking some of their points and pushing it the the extreme to the point of misrepresenting what they said.\n",
     "output_type": "stream"
    },
    {
     "output_type": "error",
     "ename": "KernelInterrupted",
     "evalue": "Execution interrupted by the Jupyter kernel.",
     "traceback": [
      "\u001b[0;31m---------------------------------------------------------------------------\u001b[0m",
      "\u001b[0;31mKernelInterrupted\u001b[0m: Execution interrupted by the Jupyter kernel."
     ]
    }
   ],
   "execution_count": null
  },
  {
   "cell_type": "code",
   "metadata": {
    "cell_id": "30f37d5769954d8ea1a4b6833e5d603a",
    "tags": [],
    "deepnote_to_be_reexecuted": false,
    "source_hash": "5d0cd32d",
    "execution_start": 1650204922588,
    "execution_millis": 102,
    "deepnote_cell_type": "code",
    "deepnote_cell_height": 600
   },
   "source": "df_final",
   "outputs": [
    {
     "output_type": "execute_result",
     "execution_count": 19,
     "data": {
      "application/vnd.deepnote.dataframe.v3+json": {
       "column_count": 5,
       "row_count": 222,
       "columns": [
        {
         "name": "Entity",
         "dtype": "object",
         "stats": {
          "unique_count": 222,
          "nan_count": 0,
          "categories": [
           {
            "name": "ICLOUD",
            "count": 1
           },
           {
            "name": "IOS",
            "count": 1
           },
           {
            "name": "220 others",
            "count": 220
           }
          ]
         }
        },
        {
         "name": "CRF_Model_Found",
         "dtype": "float64",
         "stats": {
          "unique_count": 14,
          "nan_count": 141,
          "min": "1.0",
          "max": "66.0",
          "histogram": [
           {
            "bin_start": 1,
            "bin_end": 7.5,
            "count": 73
           },
           {
            "bin_start": 7.5,
            "bin_end": 14,
            "count": 3
           },
           {
            "bin_start": 14,
            "bin_end": 20.5,
            "count": 1
           },
           {
            "bin_start": 20.5,
            "bin_end": 27,
            "count": 1
           },
           {
            "bin_start": 27,
            "bin_end": 33.5,
            "count": 0
           },
           {
            "bin_start": 33.5,
            "bin_end": 40,
            "count": 1
           },
           {
            "bin_start": 40,
            "bin_end": 46.5,
            "count": 0
           },
           {
            "bin_start": 46.5,
            "bin_end": 53,
            "count": 0
           },
           {
            "bin_start": 53,
            "bin_end": 59.5,
            "count": 1
           },
           {
            "bin_start": 59.5,
            "bin_end": 66,
            "count": 1
           }
          ]
         }
        },
        {
         "name": "Exact_CRF",
         "dtype": "float64",
         "stats": {
          "unique_count": 35,
          "nan_count": 141,
          "min": "1.0",
          "max": "609.0",
          "histogram": [
           {
            "bin_start": 1,
            "bin_end": 61.8,
            "count": 75
           },
           {
            "bin_start": 61.8,
            "bin_end": 122.6,
            "count": 3
           },
           {
            "bin_start": 122.6,
            "bin_end": 183.39999999999998,
            "count": 1
           },
           {
            "bin_start": 183.39999999999998,
            "bin_end": 244.2,
            "count": 0
           },
           {
            "bin_start": 244.2,
            "bin_end": 305,
            "count": 0
           },
           {
            "bin_start": 305,
            "bin_end": 365.79999999999995,
            "count": 1
           },
           {
            "bin_start": 365.79999999999995,
            "bin_end": 426.59999999999997,
            "count": 0
           },
           {
            "bin_start": 426.59999999999997,
            "bin_end": 487.4,
            "count": 0
           },
           {
            "bin_start": 487.4,
            "bin_end": 548.1999999999999,
            "count": 0
           },
           {
            "bin_start": 548.1999999999999,
            "bin_end": 609,
            "count": 1
           }
          ]
         }
        },
        {
         "name": "Exact_Whitelist",
         "dtype": "float64",
         "stats": {
          "unique_count": 43,
          "nan_count": 39,
          "min": "1.0",
          "max": "5431.0",
          "histogram": [
           {
            "bin_start": 1,
            "bin_end": 544,
            "count": 180
           },
           {
            "bin_start": 544,
            "bin_end": 1087,
            "count": 1
           },
           {
            "bin_start": 1087,
            "bin_end": 1630,
            "count": 1
           },
           {
            "bin_start": 1630,
            "bin_end": 2173,
            "count": 0
           },
           {
            "bin_start": 2173,
            "bin_end": 2716,
            "count": 0
           },
           {
            "bin_start": 2716,
            "bin_end": 3259,
            "count": 0
           },
           {
            "bin_start": 3259,
            "bin_end": 3802,
            "count": 0
           },
           {
            "bin_start": 3802,
            "bin_end": 4345,
            "count": 0
           },
           {
            "bin_start": 4345,
            "bin_end": 4888,
            "count": 0
           },
           {
            "bin_start": 4888,
            "bin_end": 5431,
            "count": 1
           }
          ]
         }
        },
        {
         "name": "CRF_Recall",
         "dtype": "float64",
         "stats": {
          "unique_count": 37,
          "nan_count": 141,
          "min": "0.027777777777777776",
          "max": "1.0",
          "histogram": [
           {
            "bin_start": 0.027777777777777776,
            "bin_end": 0.125,
            "count": 22
           },
           {
            "bin_start": 0.125,
            "bin_end": 0.2222222222222222,
            "count": 8
           },
           {
            "bin_start": 0.2222222222222222,
            "bin_end": 0.3194444444444445,
            "count": 9
           },
           {
            "bin_start": 0.3194444444444445,
            "bin_end": 0.4166666666666667,
            "count": 10
           },
           {
            "bin_start": 0.4166666666666667,
            "bin_end": 0.5138888888888888,
            "count": 15
           },
           {
            "bin_start": 0.5138888888888888,
            "bin_end": 0.6111111111111112,
            "count": 0
           },
           {
            "bin_start": 0.6111111111111112,
            "bin_end": 0.7083333333333334,
            "count": 1
           },
           {
            "bin_start": 0.7083333333333334,
            "bin_end": 0.8055555555555556,
            "count": 0
           },
           {
            "bin_start": 0.8055555555555556,
            "bin_end": 0.9027777777777778,
            "count": 0
           },
           {
            "bin_start": 0.9027777777777778,
            "bin_end": 1,
            "count": 16
           }
          ]
         }
        },
        {
         "name": "_deepnote_index_column",
         "dtype": "int64"
        }
       ],
       "rows": [
        {
         "Entity": "ICLOUD",
         "CRF_Model_Found": 66,
         "Exact_CRF": 103,
         "Exact_Whitelist": 82,
         "CRF_Recall": 0.6407766990291263,
         "_deepnote_index_column": 65
        },
        {
         "Entity": "IOS",
         "CRF_Model_Found": 58,
         "Exact_CRF": 609,
         "Exact_Whitelist": 415,
         "CRF_Recall": 0.09523809523809523,
         "_deepnote_index_column": 66
        },
        {
         "Entity": "PIXEL 6",
         "CRF_Model_Found": 36,
         "Exact_CRF": 80,
         "Exact_Whitelist": 60,
         "CRF_Recall": 0.45,
         "_deepnote_index_column": 152
        },
        {
         "Entity": "ANDROID",
         "CRF_Model_Found": 22,
         "Exact_CRF": 346,
         "Exact_Whitelist": "nan",
         "CRF_Recall": 0.06358381502890173,
         "_deepnote_index_column": 23
        },
        {
         "Entity": "IPAD",
         "CRF_Model_Found": 16,
         "Exact_CRF": 136,
         "Exact_Whitelist": "nan",
         "CRF_Recall": 0.11764705882352941,
         "_deepnote_index_column": 83
        },
        {
         "Entity": "FACE ID",
         "CRF_Model_Found": 13,
         "Exact_CRF": 44,
         "Exact_Whitelist": 35,
         "CRF_Recall": 0.29545454545454547,
         "_deepnote_index_column": 34
        },
        {
         "Entity": "SAFARI",
         "CRF_Model_Found": 11,
         "Exact_CRF": 39,
         "Exact_Whitelist": "nan",
         "CRF_Recall": 0.28205128205128205,
         "_deepnote_index_column": 172
        },
        {
         "Entity": "FACETIME",
         "CRF_Model_Found": 10,
         "Exact_CRF": 35,
         "Exact_Whitelist": 19,
         "CRF_Recall": 0.2857142857142857,
         "_deepnote_index_column": 35
        },
        {
         "Entity": "IOS 6",
         "CRF_Model_Found": 6,
         "Exact_CRF": 43,
         "Exact_Whitelist": 35,
         "CRF_Recall": 0.13953488372093023,
         "_deepnote_index_column": 77
        },
        {
         "Entity": "PIXEL 4A",
         "CRF_Model_Found": 6,
         "Exact_CRF": 16,
         "Exact_Whitelist": 16,
         "CRF_Recall": 0.375,
         "_deepnote_index_column": 148
        }
       ]
      },
      "text/plain": "                 Entity  CRF_Model_Found  Exact_CRF  Exact_Whitelist  \\\n65               ICLOUD             66.0      103.0             82.0   \n66                  IOS             58.0      609.0            415.0   \n152             PIXEL 6             36.0       80.0             60.0   \n23              ANDROID             22.0      346.0              NaN   \n83                 IPAD             16.0      136.0              NaN   \n..                  ...              ...        ...              ...   \n214   WINDOWS PHONE 8.1              NaN        NaN              2.0   \n216     XCOVER FIELDPRO              NaN        NaN              1.0   \n217         XIAOMI MI 1              NaN        NaN              2.0   \n219  XIAOMI MI 11 ULTRA              NaN        NaN              1.0   \n220            Z FOLD 3              NaN        NaN              1.0   \n\n     CRF_Recall  \n65     0.640777  \n66     0.095238  \n152    0.450000  \n23     0.063584  \n83     0.117647  \n..          ...  \n214         NaN  \n216         NaN  \n217         NaN  \n219         NaN  \n220         NaN  \n\n[222 rows x 5 columns]",
      "text/html": "<div>\n<style scoped>\n    .dataframe tbody tr th:only-of-type {\n        vertical-align: middle;\n    }\n\n    .dataframe tbody tr th {\n        vertical-align: top;\n    }\n\n    .dataframe thead th {\n        text-align: right;\n    }\n</style>\n<table border=\"1\" class=\"dataframe\">\n  <thead>\n    <tr style=\"text-align: right;\">\n      <th></th>\n      <th>Entity</th>\n      <th>CRF_Model_Found</th>\n      <th>Exact_CRF</th>\n      <th>Exact_Whitelist</th>\n      <th>CRF_Recall</th>\n    </tr>\n  </thead>\n  <tbody>\n    <tr>\n      <th>65</th>\n      <td>ICLOUD</td>\n      <td>66.0</td>\n      <td>103.0</td>\n      <td>82.0</td>\n      <td>0.640777</td>\n    </tr>\n    <tr>\n      <th>66</th>\n      <td>IOS</td>\n      <td>58.0</td>\n      <td>609.0</td>\n      <td>415.0</td>\n      <td>0.095238</td>\n    </tr>\n    <tr>\n      <th>152</th>\n      <td>PIXEL 6</td>\n      <td>36.0</td>\n      <td>80.0</td>\n      <td>60.0</td>\n      <td>0.450000</td>\n    </tr>\n    <tr>\n      <th>23</th>\n      <td>ANDROID</td>\n      <td>22.0</td>\n      <td>346.0</td>\n      <td>NaN</td>\n      <td>0.063584</td>\n    </tr>\n    <tr>\n      <th>83</th>\n      <td>IPAD</td>\n      <td>16.0</td>\n      <td>136.0</td>\n      <td>NaN</td>\n      <td>0.117647</td>\n    </tr>\n    <tr>\n      <th>...</th>\n      <td>...</td>\n      <td>...</td>\n      <td>...</td>\n      <td>...</td>\n      <td>...</td>\n    </tr>\n    <tr>\n      <th>214</th>\n      <td>WINDOWS PHONE 8.1</td>\n      <td>NaN</td>\n      <td>NaN</td>\n      <td>2.0</td>\n      <td>NaN</td>\n    </tr>\n    <tr>\n      <th>216</th>\n      <td>XCOVER FIELDPRO</td>\n      <td>NaN</td>\n      <td>NaN</td>\n      <td>1.0</td>\n      <td>NaN</td>\n    </tr>\n    <tr>\n      <th>217</th>\n      <td>XIAOMI MI 1</td>\n      <td>NaN</td>\n      <td>NaN</td>\n      <td>2.0</td>\n      <td>NaN</td>\n    </tr>\n    <tr>\n      <th>219</th>\n      <td>XIAOMI MI 11 ULTRA</td>\n      <td>NaN</td>\n      <td>NaN</td>\n      <td>1.0</td>\n      <td>NaN</td>\n    </tr>\n    <tr>\n      <th>220</th>\n      <td>Z FOLD 3</td>\n      <td>NaN</td>\n      <td>NaN</td>\n      <td>1.0</td>\n      <td>NaN</td>\n    </tr>\n  </tbody>\n</table>\n<p>222 rows × 5 columns</p>\n</div>"
     },
     "metadata": {}
    }
   ],
   "execution_count": null
  },
  {
   "cell_type": "code",
   "source": "_deepnote_run_altair(df_final, \"\"\"{\"$schema\":\"https://vega.github.io/schema/vega-lite/v4.json\",\"mark\":{\"type\":\"bar\",\"tooltip\":{\"content\":\"data\"}},\"height\":220,\"autosize\":{\"type\":\"fit\"},\"data\":{\"name\":\"placeholder\"},\"encoding\":{\"x\":{\"field\":\"Entity\",\"type\":\"nominal\",\"sort\":null,\"scale\":{\"type\":\"linear\",\"zero\":false}},\"y\":{\"field\":\"CRF_Model_Found\",\"type\":\"quantitative\",\"sort\":null,\"scale\":{\"type\":\"linear\",\"zero\":true}},\"color\":{\"field\":\"\",\"type\":\"nominal\",\"sort\":null,\"scale\":{\"type\":\"linear\",\"zero\":false}}}}\"\"\")",
   "metadata": {
    "cell_id": "95be185a8e83475ba4bbe6a45b87be38",
    "deepnote_variable_name": "df_final",
    "deepnote_visualization_spec": {
     "$schema": "https://vega.github.io/schema/vega-lite/v4.json",
     "mark": {
      "type": "bar",
      "tooltip": {
       "content": "data"
      }
     },
     "height": 220,
     "autosize": {
      "type": "fit"
     },
     "data": {
      "name": "placeholder"
     },
     "encoding": {
      "x": {
       "field": "Entity",
       "type": "nominal",
       "sort": null,
       "scale": {
        "type": "linear",
        "zero": false
       }
      },
      "y": {
       "field": "CRF_Model_Found",
       "type": "quantitative",
       "sort": null,
       "scale": {
        "type": "linear",
        "zero": true
       }
      },
      "color": {
       "field": "",
       "type": "nominal",
       "sort": null,
       "scale": {
        "type": "linear",
        "zero": false
       }
      }
     }
    },
    "deepnote_to_be_reexecuted": false,
    "source_hash": "fc26397e",
    "execution_start": 1650204922690,
    "execution_millis": 445,
    "deepnote_cell_type": "visualization"
   },
   "outputs": [
    {
     "output_type": "execute_result",
     "execution_count": 20,
     "data": {
      "text/html": "\n<div id=\"altair-viz-1092cd1ba5da4857820fec6f19e2c70b\"></div>\n<script type=\"text/javascript\">\n  (function(spec, embedOpt){\n    let outputDiv = document.currentScript.previousElementSibling;\n    if (outputDiv.id !== \"altair-viz-1092cd1ba5da4857820fec6f19e2c70b\") {\n      outputDiv = document.getElementById(\"altair-viz-1092cd1ba5da4857820fec6f19e2c70b\");\n    }\n    const paths = {\n      \"vega\": \"https://cdn.jsdelivr.net/npm//vega@5?noext\",\n      \"vega-lib\": \"https://cdn.jsdelivr.net/npm//vega-lib?noext\",\n      \"vega-lite\": \"https://cdn.jsdelivr.net/npm//vega-lite@4.8.1?noext\",\n      \"vega-embed\": \"https://cdn.jsdelivr.net/npm//vega-embed@6?noext\",\n    };\n\n    function loadScript(lib) {\n      return new Promise(function(resolve, reject) {\n        var s = document.createElement('script');\n        s.src = paths[lib];\n        s.async = true;\n        s.onload = () => resolve(paths[lib]);\n        s.onerror = () => reject(`Error loading script: ${paths[lib]}`);\n        document.getElementsByTagName(\"head\")[0].appendChild(s);\n      });\n    }\n\n    function showError(err) {\n      outputDiv.innerHTML = `<div class=\"error\" style=\"color:red;\">${err}</div>`;\n      throw err;\n    }\n\n    function displayChart(vegaEmbed) {\n      vegaEmbed(outputDiv, spec, embedOpt)\n        .catch(err => showError(`Javascript Error: ${err.message}<br>This usually means there's a typo in your chart specification. See the javascript console for the full traceback.`));\n    }\n\n    if(typeof define === \"function\" && define.amd) {\n      requirejs.config({paths});\n      require([\"vega-embed\"], displayChart, err => showError(`Error loading script: ${err.message}`));\n    } else if (typeof vegaEmbed === \"function\") {\n      displayChart(vegaEmbed);\n    } else {\n      loadScript(\"vega\")\n        .then(() => loadScript(\"vega-lite\"))\n        .then(() => loadScript(\"vega-embed\"))\n        .catch(showError)\n        .then(() => displayChart(vegaEmbed));\n    }\n  })({\"config\": {\"view\": {\"continuousWidth\": 400, \"continuousHeight\": 300}, \"area\": {\"fill\": \"#51C0E9\"}, \"axis\": {\"labelFont\": \"Inter, sans-serif\", \"labelFontSize\": 12, \"labelFontWeight\": \"normal\", \"labelLimit\": 60, \"labelOverlap\": \"greedy\", \"titleFont\": \"Inter, sans-serif\", \"titleFontSize\": 12, \"titleFontWeight\": \"bold\"}, \"background\": \"#ffffff\", \"legend\": {\"labelFont\": \"Inter, sans-serif\", \"labelFontSize\": 12, \"titleFont\": \"Inter, sans-serif\", \"titleFontSize\": 12, \"titleFontWeight\": \"bold\"}, \"line\": {\"stroke\": \"#51C0E9\", \"strokeWidth\": 2}, \"rect\": {\"fill\": \"#51C0E9\"}, \"title\": {\"anchor\": \"start\", \"color\": \"#000000\", \"font\": \"Inter, sans-serif\", \"fontSize\": 22, \"fontWeight\": \"normal\"}}, \"data\": {\"name\": \"data-d0ef785d0764603d10872c6a33a20f72\"}, \"mark\": {\"type\": \"bar\", \"tooltip\": {\"content\": \"data\"}}, \"autosize\": {\"type\": \"fit\"}, \"encoding\": {\"color\": {\"type\": \"nominal\", \"field\": \"\", \"scale\": {\"type\": \"linear\", \"zero\": false}, \"sort\": null}, \"x\": {\"type\": \"nominal\", \"field\": \"Entity\", \"scale\": {\"type\": \"linear\", \"zero\": false}, \"sort\": null}, \"y\": {\"type\": \"quantitative\", \"field\": \"CRF_Model_Found\", \"scale\": {\"type\": \"linear\", \"zero\": true}, \"sort\": null}}, \"height\": 300, \"width\": \"container\", \"$schema\": \"https://vega.github.io/schema/vega-lite/v4.json\", \"datasets\": {\"data-d0ef785d0764603d10872c6a33a20f72\": [{\"Entity\": \"ICLOUD\", \"CRF_Model_Found\": 66.0, \"Exact_CRF\": 103.0, \"Exact_Whitelist\": 82.0, \"CRF_Recall\": 0.6407766990291263}, {\"Entity\": \"IOS\", \"CRF_Model_Found\": 58.0, \"Exact_CRF\": 609.0, \"Exact_Whitelist\": 415.0, \"CRF_Recall\": 0.09523809523809523}, {\"Entity\": \"PIXEL 6\", \"CRF_Model_Found\": 36.0, \"Exact_CRF\": 80.0, \"Exact_Whitelist\": 60.0, \"CRF_Recall\": 0.45}, {\"Entity\": \"ANDROID\", \"CRF_Model_Found\": 22.0, \"Exact_CRF\": 346.0, \"Exact_Whitelist\": null, \"CRF_Recall\": 0.06358381502890173}, {\"Entity\": \"IPAD\", \"CRF_Model_Found\": 16.0, \"Exact_CRF\": 136.0, \"Exact_Whitelist\": null, \"CRF_Recall\": 0.11764705882352941}, {\"Entity\": \"FACE ID\", \"CRF_Model_Found\": 13.0, \"Exact_CRF\": 44.0, \"Exact_Whitelist\": 35.0, \"CRF_Recall\": 0.29545454545454547}, {\"Entity\": \"SAFARI\", \"CRF_Model_Found\": 11.0, \"Exact_CRF\": 39.0, \"Exact_Whitelist\": null, \"CRF_Recall\": 0.28205128205128205}, {\"Entity\": \"FACETIME\", \"CRF_Model_Found\": 10.0, \"Exact_CRF\": 35.0, \"Exact_Whitelist\": 19.0, \"CRF_Recall\": 0.2857142857142857}, {\"Entity\": \"IOS 6\", \"CRF_Model_Found\": 6.0, \"Exact_CRF\": 43.0, \"Exact_Whitelist\": 35.0, \"CRF_Recall\": 0.13953488372093023}, {\"Entity\": \"PIXEL 4A\", \"CRF_Model_Found\": 6.0, \"Exact_CRF\": 16.0, \"Exact_Whitelist\": 16.0, \"CRF_Recall\": 0.375}, {\"Entity\": \"ONEPLUS 8\", \"CRF_Model_Found\": 5.0, \"Exact_CRF\": 21.0, \"Exact_Whitelist\": 21.0, \"CRF_Recall\": 0.23809523809523808}, {\"Entity\": \"REALME GT NEO 2\", \"CRF_Model_Found\": 5.0, \"Exact_CRF\": 15.0, \"Exact_Whitelist\": null, \"CRF_Recall\": 0.3333333333333333}, {\"Entity\": \"ONEPLUS 9\", \"CRF_Model_Found\": 5.0, \"Exact_CRF\": 11.0, \"Exact_Whitelist\": 11.0, \"CRF_Recall\": 0.45454545454545453}, {\"Entity\": \"MOTOROLA ONE\", \"CRF_Model_Found\": 5.0, \"Exact_CRF\": 5.0, \"Exact_Whitelist\": 5.0, \"CRF_Recall\": 1.0}, {\"Entity\": \"IOS 15\", \"CRF_Model_Found\": 4.0, \"Exact_CRF\": 79.0, \"Exact_Whitelist\": 64.0, \"CRF_Recall\": 0.05063291139240506}, {\"Entity\": \"PIXEL 5\", \"CRF_Model_Found\": 4.0, \"Exact_CRF\": 55.0, \"Exact_Whitelist\": 48.0, \"CRF_Recall\": 0.07272727272727272}, {\"Entity\": \"PIXEL 3A\", \"CRF_Model_Found\": 4.0, \"Exact_CRF\": 17.0, \"Exact_Whitelist\": 16.0, \"CRF_Recall\": 0.23529411764705882}, {\"Entity\": \"IPOD TOUCH\", \"CRF_Model_Found\": 4.0, \"Exact_CRF\": 8.0, \"Exact_Whitelist\": 7.0, \"CRF_Recall\": 0.5}, {\"Entity\": \"REALME 9\", \"CRF_Model_Found\": 4.0, \"Exact_CRF\": 8.0, \"Exact_Whitelist\": null, \"CRF_Recall\": 0.5}, {\"Entity\": \"REALME GT\", \"CRF_Model_Found\": 3.0, \"Exact_CRF\": 33.0, \"Exact_Whitelist\": null, \"CRF_Recall\": 0.09090909090909091}, {\"Entity\": \"ONEPLUS NORD\", \"CRF_Model_Found\": 3.0, \"Exact_CRF\": 16.0, \"Exact_Whitelist\": 15.0, \"CRF_Recall\": 0.1875}, {\"Entity\": \"TOUCH ID\", \"CRF_Model_Found\": 3.0, \"Exact_CRF\": 16.0, \"Exact_Whitelist\": 12.0, \"CRF_Recall\": 0.1875}, {\"Entity\": \"IOS 10\", \"CRF_Model_Found\": 3.0, \"Exact_CRF\": 13.0, \"Exact_Whitelist\": 13.0, \"CRF_Recall\": 0.23076923076923078}, {\"Entity\": \"ONEPLUS 8T\", \"CRF_Model_Found\": 3.0, \"Exact_CRF\": 9.0, \"Exact_Whitelist\": 9.0, \"CRF_Recall\": 0.3333333333333333}, {\"Entity\": \"REDMI NOTE 11\", \"CRF_Model_Found\": 3.0, \"Exact_CRF\": 7.0, \"Exact_Whitelist\": 7.0, \"CRF_Recall\": 0.42857142857142855}, {\"Entity\": \"IOS 7\", \"CRF_Model_Found\": 2.0, \"Exact_CRF\": 34.0, \"Exact_Whitelist\": 28.0, \"CRF_Recall\": 0.058823529411764705}, {\"Entity\": \"IOS 5\", \"CRF_Model_Found\": 2.0, \"Exact_CRF\": 28.0, \"Exact_Whitelist\": 23.0, \"CRF_Recall\": 0.07142857142857142}, {\"Entity\": \"IPOD\", \"CRF_Model_Found\": 2.0, \"Exact_CRF\": 24.0, \"Exact_Whitelist\": 17.0, \"CRF_Recall\": 0.08333333333333333}, {\"Entity\": \"IOS 9\", \"CRF_Model_Found\": 2.0, \"Exact_CRF\": 22.0, \"Exact_Whitelist\": 19.0, \"CRF_Recall\": 0.09090909090909091}, {\"Entity\": \"PIXEL 2\", \"CRF_Model_Found\": 2.0, \"Exact_CRF\": 17.0, \"Exact_Whitelist\": null, \"CRF_Recall\": 0.11764705882352941}, {\"Entity\": \"ONEPLUS 10\", \"CRF_Model_Found\": 2.0, \"Exact_CRF\": 6.0, \"Exact_Whitelist\": null, \"CRF_Recall\": 0.3333333333333333}, {\"Entity\": \"IPAD 1\", \"CRF_Model_Found\": 2.0, \"Exact_CRF\": 5.0, \"Exact_Whitelist\": null, \"CRF_Recall\": 0.4}, {\"Entity\": \"IPAD AIR\", \"CRF_Model_Found\": 2.0, \"Exact_CRF\": 5.0, \"Exact_Whitelist\": null, \"CRF_Recall\": 0.4}, {\"Entity\": \"SAMSUNG GALAXY A53\", \"CRF_Model_Found\": 2.0, \"Exact_CRF\": 5.0, \"Exact_Whitelist\": null, \"CRF_Recall\": 0.4}, {\"Entity\": \"ONEPLUS 10 PRO\", \"CRF_Model_Found\": 2.0, \"Exact_CRF\": 4.0, \"Exact_Whitelist\": 4.0, \"CRF_Recall\": 0.5}, {\"Entity\": \"ONEPLUS 7T\", \"CRF_Model_Found\": 2.0, \"Exact_CRF\": 4.0, \"Exact_Whitelist\": 4.0, \"CRF_Recall\": 0.5}, {\"Entity\": \"CONTACTS ROW\", \"CRF_Model_Found\": 2.0, \"Exact_CRF\": 2.0, \"Exact_Whitelist\": null, \"CRF_Recall\": 1.0}, {\"Entity\": \"OPPO FIND X5\", \"CRF_Model_Found\": 2.0, \"Exact_CRF\": 2.0, \"Exact_Whitelist\": null, \"CRF_Recall\": 1.0}, {\"Entity\": \"PIXEL 5A\", \"CRF_Model_Found\": 1.0, \"Exact_CRF\": 36.0, \"Exact_Whitelist\": 31.0, \"CRF_Recall\": 0.027777777777777776}, {\"Entity\": \"PIXEL 4\", \"CRF_Model_Found\": 1.0, \"Exact_CRF\": 23.0, \"Exact_Whitelist\": 21.0, \"CRF_Recall\": 0.043478260869565216}, {\"Entity\": \"PIXEL 3\", \"CRF_Model_Found\": 1.0, \"Exact_CRF\": 21.0, \"Exact_Whitelist\": 20.0, \"CRF_Recall\": 0.047619047619047616}, {\"Entity\": \"IOS 4\", \"CRF_Model_Found\": 1.0, \"Exact_CRF\": 17.0, \"Exact_Whitelist\": 16.0, \"CRF_Recall\": 0.058823529411764705}, {\"Entity\": \"LG V60\", \"CRF_Model_Found\": 1.0, \"Exact_CRF\": 15.0, \"Exact_Whitelist\": null, \"CRF_Recall\": 0.06666666666666667}, {\"Entity\": \"IOS 16\", \"CRF_Model_Found\": 1.0, \"Exact_CRF\": 13.0, \"Exact_Whitelist\": null, \"CRF_Recall\": 0.07692307692307693}, {\"Entity\": \"IOS 14\", \"CRF_Model_Found\": 1.0, \"Exact_CRF\": 12.0, \"Exact_Whitelist\": 12.0, \"CRF_Recall\": 0.08333333333333333}, {\"Entity\": \"IPAD 4\", \"CRF_Model_Found\": 1.0, \"Exact_CRF\": 12.0, \"Exact_Whitelist\": null, \"CRF_Recall\": 0.08333333333333333}, {\"Entity\": \"MOTO G\", \"CRF_Model_Found\": 1.0, \"Exact_CRF\": 12.0, \"Exact_Whitelist\": null, \"CRF_Recall\": 0.08333333333333333}, {\"Entity\": \"WEATHER\", \"CRF_Model_Found\": 1.0, \"Exact_CRF\": 11.0, \"Exact_Whitelist\": null, \"CRF_Recall\": 0.09090909090909091}, {\"Entity\": \"REALME GT 2\", \"CRF_Model_Found\": 1.0, \"Exact_CRF\": 10.0, \"Exact_Whitelist\": null, \"CRF_Recall\": 0.1}, {\"Entity\": \"MOTO E\", \"CRF_Model_Found\": 1.0, \"Exact_CRF\": 8.0, \"Exact_Whitelist\": null, \"CRF_Recall\": 0.125}, {\"Entity\": \"PIXEL 6A\", \"CRF_Model_Found\": 1.0, \"Exact_CRF\": 7.0, \"Exact_Whitelist\": null, \"CRF_Recall\": 0.14285714285714285}, {\"Entity\": \"AIRDROP\", \"CRF_Model_Found\": 1.0, \"Exact_CRF\": 6.0, \"Exact_Whitelist\": 6.0, \"CRF_Recall\": 0.16666666666666666}, {\"Entity\": \"IPAD PRO\", \"CRF_Model_Found\": 1.0, \"Exact_CRF\": 6.0, \"Exact_Whitelist\": null, \"CRF_Recall\": 0.16666666666666666}, {\"Entity\": \"AIRPORT\", \"CRF_Model_Found\": 1.0, \"Exact_CRF\": 5.0, \"Exact_Whitelist\": 5.0, \"CRF_Recall\": 0.2}, {\"Entity\": \"IOS 17\", \"CRF_Model_Found\": 1.0, \"Exact_CRF\": 4.0, \"Exact_Whitelist\": null, \"CRF_Recall\": 0.25}, {\"Entity\": \"IPAD MINI\", \"CRF_Model_Found\": 1.0, \"Exact_CRF\": 4.0, \"Exact_Whitelist\": null, \"CRF_Recall\": 0.25}, {\"Entity\": \"SONY XPERIA 10\", \"CRF_Model_Found\": 1.0, \"Exact_CRF\": 4.0, \"Exact_Whitelist\": 4.0, \"CRF_Recall\": 0.25}, {\"Entity\": \"CALCULATOR\", \"CRF_Model_Found\": 1.0, \"Exact_CRF\": 3.0, \"Exact_Whitelist\": null, \"CRF_Recall\": 0.3333333333333333}, {\"Entity\": \"FAIRPHONE\", \"CRF_Model_Found\": 1.0, \"Exact_CRF\": 3.0, \"Exact_Whitelist\": 3.0, \"CRF_Recall\": 0.3333333333333333}, {\"Entity\": \"PIXEL 4A 5G\", \"CRF_Model_Found\": 1.0, \"Exact_CRF\": 3.0, \"Exact_Whitelist\": null, \"CRF_Recall\": 0.3333333333333333}, {\"Entity\": \"APPLE TV\", \"CRF_Model_Found\": 1.0, \"Exact_CRF\": 2.0, \"Exact_Whitelist\": 2.0, \"CRF_Recall\": 0.5}, {\"Entity\": \"ESSENTIAL PHONE\", \"CRF_Model_Found\": 1.0, \"Exact_CRF\": 2.0, \"Exact_Whitelist\": 1.0, \"CRF_Recall\": 0.5}, {\"Entity\": \"ONEPLUS 5\", \"CRF_Model_Found\": 1.0, \"Exact_CRF\": 2.0, \"Exact_Whitelist\": null, \"CRF_Recall\": 0.5}, {\"Entity\": \"ONEPLUS 9 PRO\", \"CRF_Model_Found\": 1.0, \"Exact_CRF\": 2.0, \"Exact_Whitelist\": null, \"CRF_Recall\": 0.5}, {\"Entity\": \"REDMI K50\", \"CRF_Model_Found\": 1.0, \"Exact_CRF\": 2.0, \"Exact_Whitelist\": 2.0, \"CRF_Recall\": 0.5}, {\"Entity\": \"REDMI NOTE 10\", \"CRF_Model_Found\": 1.0, \"Exact_CRF\": 2.0, \"Exact_Whitelist\": 2.0, \"CRF_Recall\": 0.5}, {\"Entity\": \"VIVO X70\", \"CRF_Model_Found\": 1.0, \"Exact_CRF\": 2.0, \"Exact_Whitelist\": null, \"CRF_Recall\": 0.5}, {\"Entity\": \"XIAOMI MI 11\", \"CRF_Model_Found\": 1.0, \"Exact_CRF\": 2.0, \"Exact_Whitelist\": 2.0, \"CRF_Recall\": 0.5}, {\"Entity\": \"IOS CALENDAR\", \"CRF_Model_Found\": 1.0, \"Exact_CRF\": 1.0, \"Exact_Whitelist\": null, \"CRF_Recall\": 1.0}, {\"Entity\": \"IOS NATIVE CALENDAR\", \"CRF_Model_Found\": 1.0, \"Exact_CRF\": 1.0, \"Exact_Whitelist\": null, \"CRF_Recall\": 1.0}, {\"Entity\": \"IPAD 1 IOS\", \"CRF_Model_Found\": 1.0, \"Exact_CRF\": 1.0, \"Exact_Whitelist\": null, \"CRF_Recall\": 1.0}, {\"Entity\": \"LG MOBILE\", \"CRF_Model_Found\": 1.0, \"Exact_CRF\": 1.0, \"Exact_Whitelist\": null, \"CRF_Recall\": 1.0}, {\"Entity\": \"LG OLED TV\", \"CRF_Model_Found\": 1.0, \"Exact_CRF\": 1.0, \"Exact_Whitelist\": null, \"CRF_Recall\": 1.0}, {\"Entity\": \"LG V60 THINQ\", \"CRF_Model_Found\": 1.0, \"Exact_CRF\": 1.0, \"Exact_Whitelist\": 1.0, \"CRF_Recall\": 1.0}, {\"Entity\": \"MOTO G9 POWER\", \"CRF_Model_Found\": 1.0, \"Exact_CRF\": 1.0, \"Exact_Whitelist\": null, \"CRF_Recall\": 1.0}, {\"Entity\": \"NOKIA BECAUSE\", \"CRF_Model_Found\": 1.0, \"Exact_CRF\": 1.0, \"Exact_Whitelist\": null, \"CRF_Recall\": 1.0}, {\"Entity\": \"ONEPLUS 10R\", \"CRF_Model_Found\": 1.0, \"Exact_CRF\": 1.0, \"Exact_Whitelist\": null, \"CRF_Recall\": 1.0}, {\"Entity\": \"SAMSUNG GALAXY M62\", \"CRF_Model_Found\": 1.0, \"Exact_CRF\": 1.0, \"Exact_Whitelist\": null, \"CRF_Recall\": 1.0}, {\"Entity\": \"VIVO 23E\", \"CRF_Model_Found\": 1.0, \"Exact_CRF\": 1.0, \"Exact_Whitelist\": null, \"CRF_Recall\": 1.0}, {\"Entity\": \"XCODE\", \"CRF_Model_Found\": 1.0, \"Exact_CRF\": 1.0, \"Exact_Whitelist\": 1.0, \"CRF_Recall\": 1.0}, {\"Entity\": \"ZUNE\", \"CRF_Model_Found\": 1.0, \"Exact_CRF\": 1.0, \"Exact_Whitelist\": 1.0, \"CRF_Recall\": 1.0}, {\"Entity\": \"\", \"CRF_Model_Found\": null, \"Exact_CRF\": null, \"Exact_Whitelist\": 5431.0, \"CRF_Recall\": null}, {\"Entity\": \"1ST\", \"CRF_Model_Found\": null, \"Exact_CRF\": null, \"Exact_Whitelist\": 5.0, \"CRF_Recall\": null}, {\"Entity\": \"2\", \"CRF_Model_Found\": null, \"Exact_CRF\": null, \"Exact_Whitelist\": 1178.0, \"CRF_Recall\": null}, {\"Entity\": \"3RD\", \"CRF_Model_Found\": null, \"Exact_CRF\": null, \"Exact_Whitelist\": 26.0, \"CRF_Recall\": null}, {\"Entity\": \"4TH\", \"CRF_Model_Found\": null, \"Exact_CRF\": null, \"Exact_Whitelist\": 7.0, \"CRF_Recall\": null}, {\"Entity\": \"5TH\", \"CRF_Model_Found\": null, \"Exact_CRF\": null, \"Exact_Whitelist\": 2.0, \"CRF_Recall\": null}, {\"Entity\": \"6TH\", \"CRF_Model_Found\": null, \"Exact_CRF\": null, \"Exact_Whitelist\": 1.0, \"CRF_Recall\": null}, {\"Entity\": \"7TH\", \"CRF_Model_Found\": null, \"Exact_CRF\": null, \"Exact_Whitelist\": 1.0, \"CRF_Recall\": null}, {\"Entity\": \"A10\", \"CRF_Model_Found\": null, \"Exact_CRF\": null, \"Exact_Whitelist\": 1.0, \"CRF_Recall\": null}, {\"Entity\": \"A13\", \"CRF_Model_Found\": null, \"Exact_CRF\": null, \"Exact_Whitelist\": 8.0, \"CRF_Recall\": null}, {\"Entity\": \"A22 5G\", \"CRF_Model_Found\": null, \"Exact_CRF\": null, \"Exact_Whitelist\": 1.0, \"CRF_Recall\": null}, {\"Entity\": \"A32\", \"CRF_Model_Found\": null, \"Exact_CRF\": null, \"Exact_Whitelist\": 3.0, \"CRF_Recall\": null}, {\"Entity\": \"A40\", \"CRF_Model_Found\": null, \"Exact_CRF\": null, \"Exact_Whitelist\": 1.0, \"CRF_Recall\": null}, {\"Entity\": \"A50\", \"CRF_Model_Found\": null, \"Exact_CRF\": null, \"Exact_Whitelist\": 1.0, \"CRF_Recall\": null}, {\"Entity\": \"A51\", \"CRF_Model_Found\": null, \"Exact_CRF\": null, \"Exact_Whitelist\": 2.0, \"CRF_Recall\": null}, {\"Entity\": \"A52\", \"CRF_Model_Found\": null, \"Exact_CRF\": null, \"Exact_Whitelist\": 100.0, \"CRF_Recall\": null}, {\"Entity\": \"A71\", \"CRF_Model_Found\": null, \"Exact_CRF\": null, \"Exact_Whitelist\": 1.0, \"CRF_Recall\": null}, {\"Entity\": \"A90 5G\", \"CRF_Model_Found\": null, \"Exact_CRF\": null, \"Exact_Whitelist\": 1.0, \"CRF_Recall\": null}, {\"Entity\": \"AIR\", \"CRF_Model_Found\": null, \"Exact_CRF\": null, \"Exact_Whitelist\": 175.0, \"CRF_Recall\": null}, {\"Entity\": \"AIR 2\", \"CRF_Model_Found\": null, \"Exact_CRF\": null, \"Exact_Whitelist\": 1.0, \"CRF_Recall\": null}, {\"Entity\": \"AIRPLAY\", \"CRF_Model_Found\": null, \"Exact_CRF\": null, \"Exact_Whitelist\": 8.0, \"CRF_Recall\": null}, {\"Entity\": \"ANDROID GO\", \"CRF_Model_Found\": null, \"Exact_CRF\": null, \"Exact_Whitelist\": 1.0, \"CRF_Recall\": null}, {\"Entity\": \"ANDROID ONE\", \"CRF_Model_Found\": null, \"Exact_CRF\": null, \"Exact_Whitelist\": 4.0, \"CRF_Recall\": null}, {\"Entity\": \"APPLE TV APP\", \"CRF_Model_Found\": null, \"Exact_CRF\": null, \"Exact_Whitelist\": 1.0, \"CRF_Recall\": null}, {\"Entity\": \"ASUS ZENFONE 7\", \"CRF_Model_Found\": null, \"Exact_CRF\": null, \"Exact_Whitelist\": 2.0, \"CRF_Recall\": null}, {\"Entity\": \"ASUS ZENFONE 8\", \"CRF_Model_Found\": null, \"Exact_CRF\": null, \"Exact_Whitelist\": 9.0, \"CRF_Recall\": null}, {\"Entity\": \"CAT PHONE\", \"CRF_Model_Found\": null, \"Exact_CRF\": null, \"Exact_Whitelist\": 1.0, \"CRF_Recall\": null}, {\"Entity\": \"FAIRPHONE 4\", \"CRF_Model_Found\": null, \"Exact_CRF\": null, \"Exact_Whitelist\": 2.0, \"CRF_Recall\": null}, {\"Entity\": \"FIND MY\", \"CRF_Model_Found\": null, \"Exact_CRF\": null, \"Exact_Whitelist\": 15.0, \"CRF_Recall\": null}, {\"Entity\": \"FOCUS\", \"CRF_Model_Found\": null, \"Exact_CRF\": null, \"Exact_Whitelist\": 32.0, \"CRF_Recall\": null}, {\"Entity\": \"FOCUS S\", \"CRF_Model_Found\": null, \"Exact_CRF\": null, \"Exact_Whitelist\": 1.0, \"CRF_Recall\": null}, {\"Entity\": \"FOLD\", \"CRF_Model_Found\": null, \"Exact_CRF\": null, \"Exact_Whitelist\": 20.0, \"CRF_Recall\": null}, {\"Entity\": \"GALAXY\", \"CRF_Model_Found\": null, \"Exact_CRF\": null, \"Exact_Whitelist\": 165.0, \"CRF_Recall\": null}, {\"Entity\": \"GALAXY A32\", \"CRF_Model_Found\": null, \"Exact_CRF\": null, \"Exact_Whitelist\": 1.0, \"CRF_Recall\": null}, {\"Entity\": \"GALAXY A50\", \"CRF_Model_Found\": null, \"Exact_CRF\": null, \"Exact_Whitelist\": 1.0, \"CRF_Recall\": null}, {\"Entity\": \"GALAXY A52\", \"CRF_Model_Found\": null, \"Exact_CRF\": null, \"Exact_Whitelist\": 16.0, \"CRF_Recall\": null}, {\"Entity\": \"GALAXY A53 5G\", \"CRF_Model_Found\": null, \"Exact_CRF\": null, \"Exact_Whitelist\": 4.0, \"CRF_Recall\": null}, {\"Entity\": \"GALAXY A73 5G\", \"CRF_Model_Found\": null, \"Exact_CRF\": null, \"Exact_Whitelist\": 1.0, \"CRF_Recall\": null}, {\"Entity\": \"GALAXY M51\", \"CRF_Model_Found\": null, \"Exact_CRF\": null, \"Exact_Whitelist\": 1.0, \"CRF_Recall\": null}, {\"Entity\": \"GALAXY M52 5G\", \"CRF_Model_Found\": null, \"Exact_CRF\": null, \"Exact_Whitelist\": 1.0, \"CRF_Recall\": null}, {\"Entity\": \"GALAXY NOTE 10\", \"CRF_Model_Found\": null, \"Exact_CRF\": null, \"Exact_Whitelist\": 11.0, \"CRF_Recall\": null}, {\"Entity\": \"GALAXY NOTE 20\", \"CRF_Model_Found\": null, \"Exact_CRF\": null, \"Exact_Whitelist\": 1.0, \"CRF_Recall\": null}, {\"Entity\": \"GALAXY NOTE 9\", \"CRF_Model_Found\": null, \"Exact_CRF\": null, \"Exact_Whitelist\": 1.0, \"CRF_Recall\": null}, {\"Entity\": \"GALAXY S\", \"CRF_Model_Found\": null, \"Exact_CRF\": null, \"Exact_Whitelist\": 96.0, \"CRF_Recall\": null}, {\"Entity\": \"GALAXY S10\", \"CRF_Model_Found\": null, \"Exact_CRF\": null, \"Exact_Whitelist\": 55.0, \"CRF_Recall\": null}, {\"Entity\": \"GALAXY S20\", \"CRF_Model_Found\": null, \"Exact_CRF\": null, \"Exact_Whitelist\": 5.0, \"CRF_Recall\": null}, {\"Entity\": \"GALAXY S21\", \"CRF_Model_Found\": null, \"Exact_CRF\": null, \"Exact_Whitelist\": 12.0, \"CRF_Recall\": null}, {\"Entity\": \"GALAXY S22\", \"CRF_Model_Found\": null, \"Exact_CRF\": null, \"Exact_Whitelist\": 5.0, \"CRF_Recall\": null}, {\"Entity\": \"GALAXY S5\", \"CRF_Model_Found\": null, \"Exact_CRF\": null, \"Exact_Whitelist\": 4.0, \"CRF_Recall\": null}, {\"Entity\": \"GALAXY S6\", \"CRF_Model_Found\": null, \"Exact_CRF\": null, \"Exact_Whitelist\": 3.0, \"CRF_Recall\": null}, {\"Entity\": \"GALAXY S7\", \"CRF_Model_Found\": null, \"Exact_CRF\": null, \"Exact_Whitelist\": 1.0, \"CRF_Recall\": null}, {\"Entity\": \"GALAXY S8\", \"CRF_Model_Found\": null, \"Exact_CRF\": null, \"Exact_Whitelist\": 3.0, \"CRF_Recall\": null}, {\"Entity\": \"GOOGLE PIXEL\", \"CRF_Model_Found\": null, \"Exact_CRF\": null, \"Exact_Whitelist\": 3.0, \"CRF_Recall\": null}, {\"Entity\": \"GRAPHENEOS\", \"CRF_Model_Found\": null, \"Exact_CRF\": null, \"Exact_Whitelist\": 2.0, \"CRF_Recall\": null}, {\"Entity\": \"HOMEKIT\", \"CRF_Model_Found\": null, \"Exact_CRF\": null, \"Exact_Whitelist\": 3.0, \"CRF_Recall\": null}, {\"Entity\": \"IOS 11\", \"CRF_Model_Found\": null, \"Exact_CRF\": null, \"Exact_Whitelist\": 1.0, \"CRF_Recall\": null}, {\"Entity\": \"IOS 12\", \"CRF_Model_Found\": null, \"Exact_CRF\": null, \"Exact_Whitelist\": 5.0, \"CRF_Recall\": null}, {\"Entity\": \"IOS 13\", \"CRF_Model_Found\": null, \"Exact_CRF\": null, \"Exact_Whitelist\": 5.0, \"CRF_Recall\": null}, {\"Entity\": \"IOS 8\", \"CRF_Model_Found\": null, \"Exact_CRF\": null, \"Exact_Whitelist\": 11.0, \"CRF_Recall\": null}, {\"Entity\": \"IPOD NANO\", \"CRF_Model_Found\": null, \"Exact_CRF\": null, \"Exact_Whitelist\": 1.0, \"CRF_Recall\": null}, {\"Entity\": \"IPOD TOUCH 4TH\", \"CRF_Model_Found\": null, \"Exact_CRF\": null, \"Exact_Whitelist\": 2.0, \"CRF_Recall\": null}, {\"Entity\": \"IPSW\", \"CRF_Model_Found\": null, \"Exact_CRF\": null, \"Exact_Whitelist\": 7.0, \"CRF_Recall\": null}, {\"Entity\": \"ITUNES\", \"CRF_Model_Found\": null, \"Exact_CRF\": null, \"Exact_Whitelist\": 32.0, \"CRF_Recall\": null}, {\"Entity\": \"ITUNES STORE\", \"CRF_Model_Found\": null, \"Exact_CRF\": null, \"Exact_Whitelist\": 3.0, \"CRF_Recall\": null}, {\"Entity\": \"J8\", \"CRF_Model_Found\": null, \"Exact_CRF\": null, \"Exact_Whitelist\": 1.0, \"CRF_Recall\": null}, {\"Entity\": \"LG G4\", \"CRF_Model_Found\": null, \"Exact_CRF\": null, \"Exact_Whitelist\": 1.0, \"CRF_Recall\": null}, {\"Entity\": \"LG G6\", \"CRF_Model_Found\": null, \"Exact_CRF\": null, \"Exact_Whitelist\": 2.0, \"CRF_Recall\": null}, {\"Entity\": \"LG V20\", \"CRF_Model_Found\": null, \"Exact_CRF\": null, \"Exact_Whitelist\": 1.0, \"CRF_Recall\": null}, {\"Entity\": \"LG V30\", \"CRF_Model_Found\": null, \"Exact_CRF\": null, \"Exact_Whitelist\": 1.0, \"CRF_Recall\": null}, {\"Entity\": \"LG VELVET\", \"CRF_Model_Found\": null, \"Exact_CRF\": null, \"Exact_Whitelist\": 3.0, \"CRF_Recall\": null}, {\"Entity\": \"LG WING\", \"CRF_Model_Found\": null, \"Exact_CRF\": null, \"Exact_Whitelist\": 2.0, \"CRF_Recall\": null}, {\"Entity\": \"M52 5G\", \"CRF_Model_Found\": null, \"Exact_CRF\": null, \"Exact_Whitelist\": 1.0, \"CRF_Recall\": null}, {\"Entity\": \"MICROSOFT LUMIA\", \"CRF_Model_Found\": null, \"Exact_CRF\": null, \"Exact_Whitelist\": 1.0, \"CRF_Recall\": null}, {\"Entity\": \"MINI\", \"CRF_Model_Found\": null, \"Exact_CRF\": null, \"Exact_Whitelist\": 156.0, \"CRF_Recall\": null}, {\"Entity\": \"MINI 2\", \"CRF_Model_Found\": null, \"Exact_CRF\": null, \"Exact_Whitelist\": 1.0, \"CRF_Recall\": null}, {\"Entity\": \"MINI 4\", \"CRF_Model_Found\": null, \"Exact_CRF\": null, \"Exact_Whitelist\": 2.0, \"CRF_Recall\": null}, {\"Entity\": \"MOTO G10\", \"CRF_Model_Found\": null, \"Exact_CRF\": null, \"Exact_Whitelist\": 2.0, \"CRF_Recall\": null}, {\"Entity\": \"MOTO G5\", \"CRF_Model_Found\": null, \"Exact_CRF\": null, \"Exact_Whitelist\": 1.0, \"CRF_Recall\": null}, {\"Entity\": \"MOTO G9\", \"CRF_Model_Found\": null, \"Exact_CRF\": null, \"Exact_Whitelist\": 1.0, \"CRF_Recall\": null}, {\"Entity\": \"MOTOROLA EDGE\", \"CRF_Model_Found\": null, \"Exact_CRF\": null, \"Exact_Whitelist\": 5.0, \"CRF_Recall\": null}, {\"Entity\": \"MOTOROLA EDGE 20\", \"CRF_Model_Found\": null, \"Exact_CRF\": null, \"Exact_Whitelist\": 3.0, \"CRF_Recall\": null}, {\"Entity\": \"NEXUS 5\", \"CRF_Model_Found\": null, \"Exact_CRF\": null, \"Exact_Whitelist\": 1.0, \"CRF_Recall\": null}, {\"Entity\": \"NOKIA XR20\", \"CRF_Model_Found\": null, \"Exact_CRF\": null, \"Exact_Whitelist\": 3.0, \"CRF_Recall\": null}, {\"Entity\": \"NOTE 10\", \"CRF_Model_Found\": null, \"Exact_CRF\": null, \"Exact_Whitelist\": 30.0, \"CRF_Recall\": null}, {\"Entity\": \"NOTE 9\", \"CRF_Model_Found\": null, \"Exact_CRF\": null, \"Exact_Whitelist\": 3.0, \"CRF_Recall\": null}, {\"Entity\": \"ONEPLUS 7\", \"CRF_Model_Found\": null, \"Exact_CRF\": null, \"Exact_Whitelist\": 4.0, \"CRF_Recall\": null}, {\"Entity\": \"OPHONE\", \"CRF_Model_Found\": null, \"Exact_CRF\": null, \"Exact_Whitelist\": 3.0, \"CRF_Recall\": null}, {\"Entity\": \"OPPO FIND X\", \"CRF_Model_Found\": null, \"Exact_CRF\": null, \"Exact_Whitelist\": 2.0, \"CRF_Recall\": null}, {\"Entity\": \"OPPO RENO\", \"CRF_Model_Found\": null, \"Exact_CRF\": null, \"Exact_Whitelist\": 5.0, \"CRF_Recall\": null}, {\"Entity\": \"P1\", \"CRF_Model_Found\": null, \"Exact_CRF\": null, \"Exact_Whitelist\": 1.0, \"CRF_Recall\": null}, {\"Entity\": \"PHABLET\", \"CRF_Model_Found\": null, \"Exact_CRF\": null, \"Exact_Whitelist\": 1.0, \"CRF_Recall\": null}, {\"Entity\": \"POCO X3\", \"CRF_Model_Found\": null, \"Exact_CRF\": null, \"Exact_Whitelist\": 4.0, \"CRF_Recall\": null}, {\"Entity\": \"PRO\", \"CRF_Model_Found\": null, \"Exact_CRF\": null, \"Exact_Whitelist\": 1057.0, \"CRF_Recall\": null}, {\"Entity\": \"RAZER PHONE\", \"CRF_Model_Found\": null, \"Exact_CRF\": null, \"Exact_Whitelist\": 3.0, \"CRF_Recall\": null}, {\"Entity\": \"REDMI\", \"CRF_Model_Found\": null, \"Exact_CRF\": null, \"Exact_Whitelist\": 15.0, \"CRF_Recall\": null}, {\"Entity\": \"REX\", \"CRF_Model_Found\": null, \"Exact_CRF\": null, \"Exact_Whitelist\": 1.0, \"CRF_Recall\": null}, {\"Entity\": \"ROG PHONE\", \"CRF_Model_Found\": null, \"Exact_CRF\": null, \"Exact_Whitelist\": 7.0, \"CRF_Recall\": null}, {\"Entity\": \"ROG PHONE 5\", \"CRF_Model_Found\": null, \"Exact_CRF\": null, \"Exact_Whitelist\": 5.0, \"CRF_Recall\": null}, {\"Entity\": \"RUGGED SMARTPHONE\", \"CRF_Model_Found\": null, \"Exact_CRF\": null, \"Exact_Whitelist\": 1.0, \"CRF_Recall\": null}, {\"Entity\": \"S10\", \"CRF_Model_Found\": null, \"Exact_CRF\": null, \"Exact_Whitelist\": 106.0, \"CRF_Recall\": null}, {\"Entity\": \"S21\", \"CRF_Model_Found\": null, \"Exact_CRF\": null, \"Exact_Whitelist\": 182.0, \"CRF_Recall\": null}, {\"Entity\": \"S9\", \"CRF_Model_Found\": null, \"Exact_CRF\": null, \"Exact_Whitelist\": 8.0, \"CRF_Recall\": null}, {\"Entity\": \"SAMSUNG GALAXY A53 5G\", \"CRF_Model_Found\": null, \"Exact_CRF\": null, \"Exact_Whitelist\": 3.0, \"CRF_Recall\": null}, {\"Entity\": \"SAMSUNG GALAXY A73 5G\", \"CRF_Model_Found\": null, \"Exact_CRF\": null, \"Exact_Whitelist\": 1.0, \"CRF_Recall\": null}, {\"Entity\": \"SAMSUNG GALAXY M51\", \"CRF_Model_Found\": null, \"Exact_CRF\": null, \"Exact_Whitelist\": 1.0, \"CRF_Recall\": null}, {\"Entity\": \"SAMSUNG GALAXY S20\", \"CRF_Model_Found\": null, \"Exact_CRF\": null, \"Exact_Whitelist\": 1.0, \"CRF_Recall\": null}, {\"Entity\": \"SAMSUNG GALAXY S21\", \"CRF_Model_Found\": null, \"Exact_CRF\": null, \"Exact_Whitelist\": 1.0, \"CRF_Recall\": null}, {\"Entity\": \"SMARTPHONE\", \"CRF_Model_Found\": null, \"Exact_CRF\": null, \"Exact_Whitelist\": 49.0, \"CRF_Recall\": null}, {\"Entity\": \"SONY XPERIA\", \"CRF_Model_Found\": null, \"Exact_CRF\": null, \"Exact_Whitelist\": 23.0, \"CRF_Recall\": null}, {\"Entity\": \"SONY XPERIA 1\", \"CRF_Model_Found\": null, \"Exact_CRF\": null, \"Exact_Whitelist\": 7.0, \"CRF_Recall\": null}, {\"Entity\": \"SONY XPERIA 1 II\", \"CRF_Model_Found\": null, \"Exact_CRF\": null, \"Exact_Whitelist\": 3.0, \"CRF_Recall\": null}, {\"Entity\": \"SONY XPERIA 1 III\", \"CRF_Model_Found\": null, \"Exact_CRF\": null, \"Exact_Whitelist\": 3.0, \"CRF_Recall\": null}, {\"Entity\": \"SONY XPERIA 10 II\", \"CRF_Model_Found\": null, \"Exact_CRF\": null, \"Exact_Whitelist\": 4.0, \"CRF_Recall\": null}, {\"Entity\": \"SONY XPERIA 10 III\", \"CRF_Model_Found\": null, \"Exact_CRF\": null, \"Exact_Whitelist\": 4.0, \"CRF_Recall\": null}, {\"Entity\": \"SONY XPERIA 5\", \"CRF_Model_Found\": null, \"Exact_CRF\": null, \"Exact_Whitelist\": 11.0, \"CRF_Recall\": null}, {\"Entity\": \"SONY XPERIA 5 II\", \"CRF_Model_Found\": null, \"Exact_CRF\": null, \"Exact_Whitelist\": 10.0, \"CRF_Recall\": null}, {\"Entity\": \"SONY XPERIA 5 III\", \"CRF_Model_Found\": null, \"Exact_CRF\": null, \"Exact_Whitelist\": 7.0, \"CRF_Recall\": null}, {\"Entity\": \"SONY XPERIA PRO\", \"CRF_Model_Found\": null, \"Exact_CRF\": null, \"Exact_Whitelist\": 1.0, \"CRF_Recall\": null}, {\"Entity\": \"SONY XPERIA PRO-I\", \"CRF_Model_Found\": null, \"Exact_CRF\": null, \"Exact_Whitelist\": 1.0, \"CRF_Recall\": null}, {\"Entity\": \"SONY XPERIA X\", \"CRF_Model_Found\": null, \"Exact_CRF\": null, \"Exact_Whitelist\": 4.0, \"CRF_Recall\": null}, {\"Entity\": \"SONY XPERIA XZ\", \"CRF_Model_Found\": null, \"Exact_CRF\": null, \"Exact_Whitelist\": 4.0, \"CRF_Recall\": null}, {\"Entity\": \"SONY XPERIA XZ1\", \"CRF_Model_Found\": null, \"Exact_CRF\": null, \"Exact_Whitelist\": 2.0, \"CRF_Recall\": null}, {\"Entity\": \"SONY XPERIA XZ1 COMPACT\", \"CRF_Model_Found\": null, \"Exact_CRF\": null, \"Exact_Whitelist\": 2.0, \"CRF_Recall\": null}, {\"Entity\": \"SONY XPERIA XZ2\", \"CRF_Model_Found\": null, \"Exact_CRF\": null, \"Exact_Whitelist\": 2.0, \"CRF_Recall\": null}, {\"Entity\": \"SONY XPERIA XZ2 COMPACT\", \"CRF_Model_Found\": null, \"Exact_CRF\": null, \"Exact_Whitelist\": 1.0, \"CRF_Recall\": null}, {\"Entity\": \"SONY XPERIA XZ2 PREMIUM\", \"CRF_Model_Found\": null, \"Exact_CRF\": null, \"Exact_Whitelist\": 1.0, \"CRF_Recall\": null}, {\"Entity\": \"SURFACE DUO\", \"CRF_Model_Found\": null, \"Exact_CRF\": null, \"Exact_Whitelist\": 1.0, \"CRF_Recall\": null}, {\"Entity\": \"TIZEN\", \"CRF_Model_Found\": null, \"Exact_CRF\": null, \"Exact_Whitelist\": 4.0, \"CRF_Recall\": null}, {\"Entity\": \"TVOS\", \"CRF_Model_Found\": null, \"Exact_CRF\": null, \"Exact_Whitelist\": 1.0, \"CRF_Recall\": null}, {\"Entity\": \"VIVO X7\", \"CRF_Model_Found\": null, \"Exact_CRF\": null, \"Exact_Whitelist\": 2.0, \"CRF_Recall\": null}, {\"Entity\": \"WATCHOS\", \"CRF_Model_Found\": null, \"Exact_CRF\": null, \"Exact_Whitelist\": 1.0, \"CRF_Recall\": null}, {\"Entity\": \"WEBOS\", \"CRF_Model_Found\": null, \"Exact_CRF\": null, \"Exact_Whitelist\": 1.0, \"CRF_Recall\": null}, {\"Entity\": \"WINDOWS 10 MOBILE\", \"CRF_Model_Found\": null, \"Exact_CRF\": null, \"Exact_Whitelist\": 4.0, \"CRF_Recall\": null}, {\"Entity\": \"WINDOWS PHONE\", \"CRF_Model_Found\": null, \"Exact_CRF\": null, \"Exact_Whitelist\": 8.0, \"CRF_Recall\": null}, {\"Entity\": \"WINDOWS PHONE 7\", \"CRF_Model_Found\": null, \"Exact_CRF\": null, \"Exact_Whitelist\": 1.0, \"CRF_Recall\": null}, {\"Entity\": \"WINDOWS PHONE 8\", \"CRF_Model_Found\": null, \"Exact_CRF\": null, \"Exact_Whitelist\": 2.0, \"CRF_Recall\": null}, {\"Entity\": \"WINDOWS PHONE 8.1\", \"CRF_Model_Found\": null, \"Exact_CRF\": null, \"Exact_Whitelist\": 2.0, \"CRF_Recall\": null}, {\"Entity\": \"XCOVER FIELDPRO\", \"CRF_Model_Found\": null, \"Exact_CRF\": null, \"Exact_Whitelist\": 1.0, \"CRF_Recall\": null}, {\"Entity\": \"XIAOMI MI 1\", \"CRF_Model_Found\": null, \"Exact_CRF\": null, \"Exact_Whitelist\": 2.0, \"CRF_Recall\": null}, {\"Entity\": \"XIAOMI MI 11 ULTRA\", \"CRF_Model_Found\": null, \"Exact_CRF\": null, \"Exact_Whitelist\": 1.0, \"CRF_Recall\": null}, {\"Entity\": \"Z FOLD 3\", \"CRF_Model_Found\": null, \"Exact_CRF\": null, \"Exact_Whitelist\": 1.0, \"CRF_Recall\": null}]}}, {\"actions\": false, \"mode\": \"vega-lite\"});\n</script>",
      "text/plain": "alt.Chart(...)"
     },
     "metadata": {}
    }
   ],
   "execution_count": null
  },
  {
   "cell_type": "code",
   "source": "list(df_final['Entity'])",
   "metadata": {
    "cell_id": "db2af7ca7ff04283b517eba5d3f14c83",
    "tags": [],
    "deepnote_to_be_reexecuted": false,
    "source_hash": "ba9c2a99",
    "execution_start": 1650204923131,
    "execution_millis": 87,
    "deepnote_cell_type": "code",
    "deepnote_cell_height": 708,
    "deepnote_output_heights": [
     611
    ]
   },
   "outputs": [
    {
     "output_type": "execute_result",
     "execution_count": 21,
     "data": {
      "text/plain": "['ICLOUD',\n 'IOS',\n 'PIXEL 6',\n 'ANDROID',\n 'IPAD',\n 'FACE ID',\n 'SAFARI',\n 'FACETIME',\n 'IOS 6',\n 'PIXEL 4A',\n 'ONEPLUS 8',\n 'REALME GT NEO 2',\n 'ONEPLUS 9',\n 'MOTOROLA ONE',\n 'IOS 15',\n 'PIXEL 5',\n 'PIXEL 3A',\n 'IPOD TOUCH',\n 'REALME 9',\n 'REALME GT',\n 'ONEPLUS NORD',\n 'TOUCH ID',\n 'IOS 10',\n 'ONEPLUS 8T',\n 'REDMI NOTE 11',\n 'IOS 7',\n 'IOS 5',\n 'IPOD',\n 'IOS 9',\n 'PIXEL 2',\n 'ONEPLUS 10',\n 'IPAD 1',\n 'IPAD AIR',\n 'SAMSUNG GALAXY A53',\n 'ONEPLUS 10 PRO',\n 'ONEPLUS 7T',\n 'CONTACTS ROW',\n 'OPPO FIND X5',\n 'PIXEL 5A',\n 'PIXEL 4',\n 'PIXEL 3',\n 'IOS 4',\n 'LG V60',\n 'IOS 16',\n 'IOS 14',\n 'IPAD 4',\n 'MOTO G',\n 'WEATHER',\n 'REALME GT 2',\n 'MOTO E',\n 'PIXEL 6A',\n 'AIRDROP',\n 'IPAD PRO',\n 'AIRPORT',\n 'IOS 17',\n 'IPAD MINI',\n 'SONY XPERIA 10',\n 'CALCULATOR',\n 'FAIRPHONE',\n 'PIXEL 4A 5G',\n 'APPLE TV',\n 'ESSENTIAL PHONE',\n 'ONEPLUS 5',\n 'ONEPLUS 9 PRO',\n 'REDMI K50',\n 'REDMI NOTE 10',\n 'VIVO X70',\n 'XIAOMI MI 11',\n 'IOS CALENDAR',\n 'IOS NATIVE CALENDAR',\n 'IPAD 1 IOS',\n 'LG MOBILE',\n 'LG OLED TV',\n 'LG V60 THINQ',\n 'MOTO G9 POWER',\n 'NOKIA BECAUSE',\n 'ONEPLUS 10R',\n 'SAMSUNG GALAXY M62',\n 'VIVO 23E',\n 'XCODE',\n 'ZUNE',\n '',\n '1ST',\n '2',\n '3RD',\n '4TH',\n '5TH',\n '6TH',\n '7TH',\n 'A10',\n 'A13',\n 'A22 5G',\n 'A32',\n 'A40',\n 'A50',\n 'A51',\n 'A52',\n 'A71',\n 'A90 5G',\n 'AIR',\n 'AIR 2',\n 'AIRPLAY',\n 'ANDROID GO',\n 'ANDROID ONE',\n 'APPLE TV APP',\n 'ASUS ZENFONE 7',\n 'ASUS ZENFONE 8',\n 'CAT PHONE',\n 'FAIRPHONE 4',\n 'FIND MY',\n 'FOCUS',\n 'FOCUS S',\n 'FOLD',\n 'GALAXY',\n 'GALAXY A32',\n 'GALAXY A50',\n 'GALAXY A52',\n 'GALAXY A53 5G',\n 'GALAXY A73 5G',\n 'GALAXY M51',\n 'GALAXY M52 5G',\n 'GALAXY NOTE 10',\n 'GALAXY NOTE 20',\n 'GALAXY NOTE 9',\n 'GALAXY S',\n 'GALAXY S10',\n 'GALAXY S20',\n 'GALAXY S21',\n 'GALAXY S22',\n 'GALAXY S5',\n 'GALAXY S6',\n 'GALAXY S7',\n 'GALAXY S8',\n 'GOOGLE PIXEL',\n 'GRAPHENEOS',\n 'HOMEKIT',\n 'IOS 11',\n 'IOS 12',\n 'IOS 13',\n 'IOS 8',\n 'IPOD NANO',\n 'IPOD TOUCH 4TH',\n 'IPSW',\n 'ITUNES',\n 'ITUNES STORE',\n 'J8',\n 'LG G4',\n 'LG G6',\n 'LG V20',\n 'LG V30',\n 'LG VELVET',\n 'LG WING',\n 'M52 5G',\n 'MICROSOFT LUMIA',\n 'MINI',\n 'MINI 2',\n 'MINI 4',\n 'MOTO G10',\n 'MOTO G5',\n 'MOTO G9',\n 'MOTOROLA EDGE',\n 'MOTOROLA EDGE 20',\n 'NEXUS 5',\n 'NOKIA XR20',\n 'NOTE 10',\n 'NOTE 9',\n 'ONEPLUS 7',\n 'OPHONE',\n 'OPPO FIND X',\n 'OPPO RENO',\n 'P1',\n 'PHABLET',\n 'POCO X3',\n 'PRO',\n 'RAZER PHONE',\n 'REDMI',\n 'REX',\n 'ROG PHONE',\n 'ROG PHONE 5',\n 'RUGGED SMARTPHONE',\n 'S10',\n 'S21',\n 'S9',\n 'SAMSUNG GALAXY A53 5G',\n 'SAMSUNG GALAXY A73 5G',\n 'SAMSUNG GALAXY M51',\n 'SAMSUNG GALAXY S20',\n 'SAMSUNG GALAXY S21',\n 'SMARTPHONE',\n 'SONY XPERIA',\n 'SONY XPERIA 1',\n 'SONY XPERIA 1 II',\n 'SONY XPERIA 1 III',\n 'SONY XPERIA 10 II',\n 'SONY XPERIA 10 III',\n 'SONY XPERIA 5',\n 'SONY XPERIA 5 II',\n 'SONY XPERIA 5 III',\n 'SONY XPERIA PRO',\n 'SONY XPERIA PRO-I',\n 'SONY XPERIA X',\n 'SONY XPERIA XZ',\n 'SONY XPERIA XZ1',\n 'SONY XPERIA XZ1 COMPACT',\n 'SONY XPERIA XZ2',\n 'SONY XPERIA XZ2 COMPACT',\n 'SONY XPERIA XZ2 PREMIUM',\n 'SURFACE DUO',\n 'TIZEN',\n 'TVOS',\n 'VIVO X7',\n 'WATCHOS',\n 'WEBOS',\n 'WINDOWS 10 MOBILE',\n 'WINDOWS PHONE',\n 'WINDOWS PHONE 7',\n 'WINDOWS PHONE 8',\n 'WINDOWS PHONE 8.1',\n 'XCOVER FIELDPRO',\n 'XIAOMI MI 1',\n 'XIAOMI MI 11 ULTRA',\n 'Z FOLD 3']"
     },
     "metadata": {}
    }
   ],
   "execution_count": null
  },
  {
   "cell_type": "markdown",
   "source": "<a style='text-decoration:none;line-height:16px;display:flex;color:#5B5B62;padding:10px;justify-content:end;' href='https://deepnote.com?utm_source=created-in-deepnote-cell&projectId=90b052a7-f47d-474e-888f-9345355cfd9a' target=\"_blank\">\n<img alt='Created in deepnote.com' style='display:inline;max-height:16px;margin:0px;margin-right:7.5px;' src='data:image/svg+xml;base64,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' > </img>\nCreated in <span style='font-weight:600;margin-left:4px;'>Deepnote</span></a>",
   "metadata": {
    "tags": [],
    "created_in_deepnote_cell": true,
    "deepnote_cell_type": "markdown"
   }
  }
 ],
 "nbformat": 4,
 "nbformat_minor": 2,
 "metadata": {
  "orig_nbformat": 2,
  "deepnote": {
   "is_reactive": false
  },
  "deepnote_notebook_id": "3f8a9b2a-8d90-42ae-8427-0965a8121a8c",
  "deepnote_execution_queue": []
 }
}