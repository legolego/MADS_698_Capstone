{
 "cells": [
  {
   "cell_type": "markdown",
   "source": "# Next Big Thing Pipeline",
   "metadata": {
    "cell_id": "eb3b292a83db4f90843058825cfc377d",
    "tags": [],
    "deepnote_cell_type": "markdown",
    "deepnote_cell_height": 82
   }
  },
  {
   "cell_type": "markdown",
   "source": "### Standard Python Library Imports",
   "metadata": {
    "cell_id": "5429e725070c459090c8c9eff75a02b7",
    "tags": [],
    "deepnote_cell_type": "markdown",
    "deepnote_cell_height": 62
   }
  },
  {
   "cell_type": "code",
   "metadata": {
    "tags": [],
    "cell_id": "f535c45e-d1ff-4462-94e5-c524db3faec2",
    "deepnote_to_be_reexecuted": false,
    "source_hash": "f7c69418",
    "execution_start": 1650163631727,
    "execution_millis": 389,
    "deepnote_cell_type": "code",
    "deepnote_cell_height": 171
   },
   "source": "import importlib\nimportlib.reload\n\nimport import_ipynb\n\nfrom datetime import date, timedelta",
   "execution_count": 1,
   "outputs": []
  },
  {
   "cell_type": "markdown",
   "source": "### Imports from Next Big Thing Jupyter Notebooks",
   "metadata": {
    "cell_id": "c5835ee8598d4b8ab06b94caf0a59071",
    "tags": [],
    "deepnote_cell_type": "markdown",
    "deepnote_cell_height": 62
   }
  },
  {
   "cell_type": "code",
   "metadata": {
    "cell_id": "0379bb1ab5ac46bfbca6494e9afd5af3",
    "tags": [],
    "deepnote_to_be_reexecuted": false,
    "source_hash": "f5a7882b",
    "execution_start": 1650152235743,
    "execution_millis": 31853,
    "deepnote_cell_type": "code",
    "deepnote_cell_height": 908.1875,
    "deepnote_output_heights": [
     null,
     null,
     null,
     null,
     null,
     607
    ]
   },
   "source": "#Find Category\nimport Step1_Find_Category_From_Thing as fcat\n\n#importlib.reload(fcat)",
   "outputs": [
    {
     "name": "stdout",
     "text": "importing Jupyter notebook from Step1_Find_Category_From_Thing.ipynb\n",
     "output_type": "stream"
    },
    {
     "data": {
      "text/plain": "Downloading https://raw.githubusercontent.com/stanfordnlp/stanza-resources/main/resources_1.3.0.json:   0%|   …",
      "application/vnd.jupyter.widget-view+json": {
       "version_major": 2,
       "version_minor": 0,
       "model_id": "3a48807a45944bbea8fc463a940c46e9"
      }
     },
     "metadata": {},
     "output_type": "display_data"
    },
    {
     "name": "stderr",
     "text": "2022-04-16 23:37:19 INFO: Downloading default packages for language: en (English)...\n2022-04-16 23:37:20 INFO: File exists: /root/stanza_resources/en/default.zip.\n2022-04-16 23:37:27 INFO: Finished downloading models and saved to /root/stanza_resources.\nInstalling /root/venv/lib/python3.7/site-packages/widgetsnbextension/static -> jupyter-js-widgets\nUp to date: /usr/local/share/jupyter/nbextensions/jupyter-js-widgets/extension.js\nUp to date: /usr/local/share/jupyter/nbextensions/jupyter-js-widgets/extension.js.map\n- Validating: \u001b[32mOK\u001b[0m\n\n    To initialize this nbextension in the browser every time the notebook (or other app) loads:\n    \n          jupyter nbextension enable widgetsnbextension --py\n    \nEnabling notebook extension jupyter-js-widgets/extension...\nPaths used for configuration of notebook: \n    \t/deepnote-config/jupyter/nbconfig/notebook.json\nPaths used for configuration of notebook: \n    \t\n      - Validating: \u001b[32mOK\u001b[0m\nPaths used for configuration of notebook: \n    \t/deepnote-config/jupyter/nbconfig/notebook.json\n2022-04-16 23:37:29 INFO: Loading these models for language: en (English):\n========================\n| Processor | Package  |\n------------------------\n| tokenize  | combined |\n| pos       | combined |\n| lemma     | combined |\n| depparse  | combined |\n========================\n\n2022-04-16 23:37:29 INFO: Use device: cpu\n2022-04-16 23:37:29 INFO: Loading: tokenize\n2022-04-16 23:37:29 INFO: Loading: pos\n2022-04-16 23:37:29 INFO: Loading: lemma\n2022-04-16 23:37:29 INFO: Loading: depparse\n2022-04-16 23:37:30 INFO: Done loading processors!\nfirst_wiki_term: GameStop short squeeze\nfound 1995 in category: Category:Board games introduced in 1995\n2022\n2021\n2020\n5 exists!\n2019\n8 exists!\n2018\n6 exists!\nfirst_wiki_term: Tesla, Inc.\nnlp phrase: ['American', 'automotive', 'electric', 'vehicle', 'company']\nwiki_cats: ['Category:2003 establishments in California', 'Category:2010 initial public offerings', 'Category:American companies established in 2003', 'Category:Battery electric vehicle manufacturers', 'Category:Car brands', 'Category:Car manufacturers of the United States', 'Category:Companies based in Palo Alto, California', 'Category:Companies in the Nasdaq-100', 'Category:Companies listed on the Nasdaq', 'Category:Electric motor manufacturers', 'Category:Electric vehicle battery manufacturers', 'Category:Electric vehicle infrastructure developers', 'Category:Electric vehicle manufacturers of the United States', 'Category:Elon Musk', 'Category:Luxury motor vehicle manufacturers', 'Category:Manufacturing companies based in California', 'Category:Manufacturing companies based in the San Francisco Bay Area', 'Category:Motor vehicle manufacturers based in California', 'Category:Motor vehicle manufacturers based in Texas', 'Category:Production electric cars', 'Category:Sports car manufacturers', 'Category:Tesla, Inc.', 'Category:Vehicle manufacturing companies established in 2003']\n\nRemove wiki-cats too close to actual term(first term)\n['Tesla, Inc.', 'Category:2003 establishments in California', 'Category:2010 initial public offerings', 'Category:American companies established in 2003', 'Category:Battery electric vehicle manufacturers', 'Category:Car brands', 'Category:Car manufacturers of the United States', 'Category:Companies based in Palo Alto, California', 'Category:Companies in the Nasdaq-100', 'Category:Companies listed on the Nasdaq', 'Category:Electric motor manufacturers', 'Category:Electric vehicle battery manufacturers', 'Category:Electric vehicle infrastructure developers', 'Category:Electric vehicle manufacturers of the United States', 'Category:Elon Musk', 'Category:Luxury motor vehicle manufacturers', 'Category:Manufacturing companies based in California', 'Category:Manufacturing companies based in the San Francisco Bay Area', 'Category:Motor vehicle manufacturers based in California', 'Category:Motor vehicle manufacturers based in Texas', 'Category:Production electric cars', 'Category:Sports car manufacturers', 'Category:Tesla, Inc.', 'Category:Vehicle manufacturing companies established in 2003']\n[0.99999994 0.22530256 0.25269052 0.41306755 0.5802754  0.4649672\n 0.5310737  0.45088318 0.48814654 0.42541403 0.58245146 0.56906784\n 0.43243885 0.59165657 0.36080685 0.46250755 0.40665826 0.34467134\n 0.4684339  0.44162923 0.5015679  0.46253365 0.8963281  0.47728577]\n[21]\nafter rem: ['Category:2003 establishments in California', 'Category:2010 initial public offerings', 'Category:American companies established in 2003', 'Category:Battery electric vehicle manufacturers', 'Category:Car brands', 'Category:Car manufacturers of the United States', 'Category:Companies based in Palo Alto, California', 'Category:Companies in the Nasdaq-100', 'Category:Companies listed on the Nasdaq', 'Category:Electric motor manufacturers', 'Category:Electric vehicle battery manufacturers', 'Category:Electric vehicle infrastructure developers', 'Category:Electric vehicle manufacturers of the United States', 'Category:Elon Musk', 'Category:Luxury motor vehicle manufacturers', 'Category:Manufacturing companies based in California', 'Category:Manufacturing companies based in the San Francisco Bay Area', 'Category:Motor vehicle manufacturers based in California', 'Category:Motor vehicle manufacturers based in Texas', 'Category:Production electric cars', 'Category:Sports car manufacturers', 'Category:Vehicle manufacturing companies established in 2003']\nKeep wiki-cats not too far to found category(first term)\n['American automotive electric vehicle company', 'Category:2003 establishments in California', 'Category:2010 initial public offerings', 'Category:American companies established in 2003', 'Category:Battery electric vehicle manufacturers', 'Category:Car brands', 'Category:Car manufacturers of the United States', 'Category:Companies based in Palo Alto, California', 'Category:Companies in the Nasdaq-100', 'Category:Companies listed on the Nasdaq', 'Category:Electric motor manufacturers', 'Category:Electric vehicle battery manufacturers', 'Category:Electric vehicle infrastructure developers', 'Category:Electric vehicle manufacturers of the United States', 'Category:Elon Musk', 'Category:Luxury motor vehicle manufacturers', 'Category:Manufacturing companies based in California', 'Category:Manufacturing companies based in the San Francisco Bay Area', 'Category:Motor vehicle manufacturers based in California', 'Category:Motor vehicle manufacturers based in Texas', 'Category:Production electric cars', 'Category:Sports car manufacturers', 'Category:Vehicle manufacturing companies established in 2003']\n[1.         0.24617623 0.22081348 0.5032194  0.715121   0.48155084\n 0.5829805  0.36954123 0.37796685 0.36468682 0.67290056 0.6906872\n 0.60499114 0.74955904 0.18051547 0.5233739  0.40904045 0.30649054\n 0.5516154  0.57596636 0.65316516 0.49249688 0.5858523 ]\nkeep idx: [ 3 12]\npre-last-filt: ['Category:2003 establishments in California', 'Category:2010 initial public offerings', 'Category:American companies established in 2003', 'Category:Battery electric vehicle manufacturers', 'Category:Car brands', 'Category:Car manufacturers of the United States', 'Category:Companies based in Palo Alto, California', 'Category:Companies in the Nasdaq-100', 'Category:Companies listed on the Nasdaq', 'Category:Electric motor manufacturers', 'Category:Electric vehicle battery manufacturers', 'Category:Electric vehicle infrastructure developers', 'Category:Electric vehicle manufacturers of the United States', 'Category:Elon Musk', 'Category:Luxury motor vehicle manufacturers', 'Category:Manufacturing companies based in California', 'Category:Manufacturing companies based in the San Francisco Bay Area', 'Category:Motor vehicle manufacturers based in California', 'Category:Motor vehicle manufacturers based in Texas', 'Category:Production electric cars', 'Category:Sports car manufacturers', 'Category:Vehicle manufacturing companies established in 2003']\npost-last-filt: ['Category:Battery electric vehicle manufacturers', 'Category:Electric vehicle manufacturers of the United States']\n**** Category:Battery electric vehicle manufacturers\n**** Category:Electric vehicle manufacturers of the United States\nmvp! wikipedia cat content already exists.\nCategory:Battery electric vehicle manufacturers\nCategory:Electric vehicle manufacturers of the United States\n93 Category:Battery electric vehicle manufacturers ['Li Auto', 'Rimac Automobili', 'Ross Auto Engineering', 'Sunbeam Commercial Vehicles', 'Partridge Wilson Engineering', 'Byton company', 'Nissan', 'Riker Electric Vehicle Company', 'Victor Electrics', 'Wuzhoulong', 'Jet Industries', 'Vmoto', 'Coda Automotive', 'Loremo', 'Think Global', 'Renault Samsung Motors', 'Volkswagen Group', 'AVL engineering company', 'BYD Auto', 'Ioniq', 'CT&T United', 'Arrival company', 'Stuart automobile', 'Nissan electric vehicles', 'Workhorse Group', 'Hurtan', 'Zagato Zele', 'Brush Traction', 'Lordstown Motors', 'Einride', 'Smith Electric Vehicles', 'Omega Seiki Mobility', 'Nikola Corporation', 'Stevens Vehicles', 'Volta Trucks', 'Morrison-Electricar', 'Wildfire motor company', 'Tacita motorcycles', 'KleenSpeed Technologies', 'Ford Motor Company', 'Faraday Future', 'Fisker Inc.', 'Modec', 'Polestar', 'AC Propulsion', 'Metrovick electric vehicles', 'Mullen Technologies', 'Electrorides', 'Automobili Pininfarina', 'Battery Manufacturing Association', 'Aptera Motors', 'Mahindra Electric', 'BrightDrop', 'Uniti car', 'Heibao Auto', 'Aurica Motors', 'Tara International', 'Ola Electric', 'Boulder Electric Vehicle', 'Manulectric', 'General Motors', 'Midland Electric Vehicles', 'Green Vehicles', 'Rivian', 'Advanced Battery Technologies', 'Tomlinson Electric Vehicles', 'Graiseley Electric Vehicles', 'National Motor Vehicle Company', 'Global Electric Motorcars', 'Harbilt Electric Trucks', 'Apex Motors', 'Segway Inc.', 'Renault', 'Helecs Vehicles', 'Pininfarina', 'ZAP motor company', 'Bright Automotive', 'EdisonFuture', 'Alta Motors', 'Wales & Edwards', 'DOK-ING', 'Miles Electric Vehicles', 'RAESR', 'Apollo Energy Systems', 'Ruf Automobile', 'Canoo', 'Lightning Car Company', 'Scottish Aviation', 'Ather Energy', 'Lucid Motors', 'Myers EV', 'Piëch Automotive', 'Lewis Electruk']\nCounter({'Electric': 11, 'Vehicles': 9, 'Motors': 8, 'company': 5, 'Auto': 4, 'Company': 4, 'Vehicle': 3, 'Automotive': 3, 'Technologies': 3, 'Automobili': 2, 'Engineering': 2, 'Nissan': 2, 'Global': 2, 'Renault': 2, 'Group': 2, 'electric': 2, 'vehicles': 2, 'Trucks': 2, 'motor': 2, 'Motor': 2, 'Inc.': 2, 'Pininfarina': 2, 'Battery': 2, 'Energy': 2, 'Li': 1, 'Rimac': 1, 'Ross': 1, 'Sunbeam': 1, 'Commercial': 1, 'Partridge': 1, 'Wilson': 1, 'Byton': 1, 'Riker': 1, 'Victor': 1, 'Electrics': 1, 'Wuzhoulong': 1, 'Jet': 1, 'Industries': 1, 'Vmoto': 1, 'Coda': 1, 'Loremo': 1, 'Think': 1, 'Samsung': 1, 'Volkswagen': 1, 'AVL': 1, 'engineering': 1, 'BYD': 1, 'Ioniq': 1, 'CT&T': 1, 'United': 1, 'Arrival': 1, 'Stuart': 1, 'automobile': 1, 'Workhorse': 1, 'Hurtan': 1, 'Zagato': 1, 'Zele': 1, 'Brush': 1, 'Traction': 1, 'Lordstown': 1, 'Einride': 1, 'Smith': 1, 'Omega': 1, 'Seiki': 1, 'Mobility': 1, 'Nikola': 1, 'Corporation': 1, 'Stevens': 1, 'Volta': 1, 'Morrison-Electricar': 1, 'Wildfire': 1, 'Tacita': 1, 'motorcycles': 1, 'KleenSpeed': 1, 'Ford': 1, 'Faraday': 1, 'Future': 1, 'Fisker': 1, 'Modec': 1, 'Polestar': 1, 'AC': 1, 'Propulsion': 1, 'Metrovick': 1, 'Mullen': 1, 'Electrorides': 1, 'Manufacturing': 1, 'Association': 1, 'Aptera': 1, 'Mahindra': 1, 'BrightDrop': 1, 'Uniti': 1, 'car': 1, 'Heibao': 1, 'Aurica': 1, 'Tara': 1, 'International': 1, 'Ola': 1, 'Boulder': 1, 'Manulectric': 1, 'General': 1, 'Midland': 1, 'Green': 1, 'Rivian': 1, 'Advanced': 1, 'Tomlinson': 1, 'Graiseley': 1, 'National': 1, 'Motorcars': 1, 'Harbilt': 1, 'Apex': 1, 'Segway': 1, 'Helecs': 1, 'ZAP': 1, 'Bright': 1, 'EdisonFuture': 1, 'Alta': 1, 'Wales': 1, '&': 1, 'Edwards': 1, 'DOK-ING': 1, 'Miles': 1, 'RAESR': 1, 'Apollo': 1, 'Systems': 1, 'Ruf': 1, 'Automobile': 1, 'Canoo': 1, 'Lightning': 1, 'Car': 1, 'Scottish': 1, 'Aviation': 1, 'Ather': 1, 'Lucid': 1, 'Myers': 1, 'EV': 1, 'Piëch': 1, 'Lewis': 1, 'Electruk': 1})\nremove: []\n83 Category:Electric vehicle manufacturers of the United States ['Lit Motors', 'Fisker Automotive', 'Gomaco Trolley Company', 'Riker Electric Vehicle Company', 'Arcimoto', 'Ideanomics', 'Twin Coach', 'Jet Industries', 'Coda Automotive', 'Environmental Performance Vehicles', 'Motiv Power Systems', 'McGuire-Cummings Manufacturing Company', 'American Car Company', 'IC Bus', 'Stuart automobile', 'Neoplan USA', 'Workhorse Group', 'Bachelle Electric', 'Perley A. Thomas Car Works', 'ElDorado bus manufacturer', 'Lordstown Motors', 'John Stephenson Company', 'Nikola Corporation', 'W. L. Holman Car Company', 'Wildfire motor company', 'KleenSpeed Technologies', 'Ford Motor Company', 'United Streetcar', 'Faraday Future', 'Niles Car and Manufacturing Company', 'Wikispeed', 'Fisker Inc.', 'Proterra bus manufacturer', 'Local Motors', 'ENC company', 'AC Propulsion', 'Laclede Car Company', 'Mullen Technologies', 'Electric Transit, Inc.', 'Electrorides', 'Aptera Motors', 'Allison Transmission', 'Mack Trucks', 'BrightDrop', 'Stallion Bus and Transit Corp.', 'SSC North America', 'Seres automobiles', 'Aurica Motors', 'G. C. Kuhlman Car Company', 'Rad Power Bikes', 'North American Bus Industries', 'Boulder Electric Vehicle', 'General Motors', 'Green Vehicles', 'Rivian', 'Thomas Built Buses', 'Karma Automotive', 'J. G. Brill Company', 'National Motor Vehicle Company', 'Global Electric Motorcars', 'St. Louis Car Company', 'Current Motor Company', 'Phoenix Motorcars', 'Segway Inc.', 'Evolve Motorcycles', 'ZAP motor company', 'Optima Bus Corporation', 'AM General', 'AeroVironment', 'Bright Automotive', 'Jewett Car Company', 'EdisonFuture', 'VIA Motors', 'Brownell Car Company', 'Miles Electric Vehicles', 'RAESR', 'Bollinger Motors', 'Apollo Energy Systems', 'Wheego Technologies', 'Canoo', 'Lucid Motors', 'Myers EV', 'Pressed Steel Car Company']\nCounter({'Company': 17, 'Car': 10, 'Motors': 9, 'Electric': 6, 'Automotive': 4, 'Bus': 4, 'Vehicle': 3, 'Vehicles': 3, 'company': 3, 'Technologies': 3, 'Motor': 3, 'Inc.': 3, 'Fisker': 2, 'Industries': 2, 'Power': 2, 'Systems': 2, 'Manufacturing': 2, 'American': 2, 'Thomas': 2, 'bus': 2, 'manufacturer': 2, 'Corporation': 2, 'motor': 2, 'and': 2, 'North': 2, 'G.': 2, 'General': 2, 'Motorcars': 2, 'Lit': 1, 'Gomaco': 1, 'Trolley': 1, 'Riker': 1, 'Arcimoto': 1, 'Ideanomics': 1, 'Twin': 1, 'Coach': 1, 'Jet': 1, 'Coda': 1, 'Environmental': 1, 'Performance': 1, 'Motiv': 1, 'McGuire-Cummings': 1, 'IC': 1, 'Stuart': 1, 'automobile': 1, 'Neoplan': 1, 'USA': 1, 'Workhorse': 1, 'Group': 1, 'Bachelle': 1, 'Perley': 1, 'A.': 1, 'Works': 1, 'ElDorado': 1, 'Lordstown': 1, 'John': 1, 'Stephenson': 1, 'Nikola': 1, 'W.': 1, 'L.': 1, 'Holman': 1, 'Wildfire': 1, 'KleenSpeed': 1, 'Ford': 1, 'United': 1, 'Streetcar': 1, 'Faraday': 1, 'Future': 1, 'Niles': 1, 'Wikispeed': 1, 'Proterra': 1, 'Local': 1, 'ENC': 1, 'AC': 1, 'Propulsion': 1, 'Laclede': 1, 'Mullen': 1, 'Transit,': 1, 'Electrorides': 1, 'Aptera': 1, 'Allison': 1, 'Transmission': 1, 'Mack': 1, 'Trucks': 1, 'BrightDrop': 1, 'Stallion': 1, 'Transit': 1, 'Corp.': 1, 'SSC': 1, 'America': 1, 'Seres': 1, 'automobiles': 1, 'Aurica': 1, 'C.': 1, 'Kuhlman': 1, 'Rad': 1, 'Bikes': 1, 'Boulder': 1, 'Green': 1, 'Rivian': 1, 'Built': 1, 'Buses': 1, 'Karma': 1, 'J.': 1, 'Brill': 1, 'National': 1, 'Global': 1, 'St.': 1, 'Louis': 1, 'Current': 1, 'Phoenix': 1, 'Segway': 1, 'Evolve': 1, 'Motorcycles': 1, 'ZAP': 1, 'Optima': 1, 'AM': 1, 'AeroVironment': 1, 'Bright': 1, 'Jewett': 1, 'EdisonFuture': 1, 'VIA': 1, 'Brownell': 1, 'Miles': 1, 'RAESR': 1, 'Bollinger': 1, 'Apollo': 1, 'Energy': 1, 'Wheego': 1, 'Canoo': 1, 'Lucid': 1, 'Myers': 1, 'EV': 1, 'Pressed': 1, 'Steel': 1})\nremove: ['Company']\nTesla, Inc.\nCPU times: user 3 µs, sys: 0 ns, total: 3 µs\nWall time: 5.72 µs\n",
     "output_type": "stream"
    }
   ],
   "execution_count": null
  },
  {
   "cell_type": "code",
   "metadata": {
    "cell_id": "9fc3d166cb3d49e5bc255cbccb102232",
    "tags": [],
    "deepnote_to_be_reexecuted": false,
    "source_hash": "d2f87963",
    "execution_start": 1650152800340,
    "execution_millis": 6858,
    "deepnote_cell_type": "code",
    "deepnote_cell_height": 1254.1875
   },
   "source": "#Find subreddits\nimport Step2_Find_Subreddits as fsub\n#importlib.reload(fsub)",
   "outputs": [
    {
     "name": "stdout",
     "text": "importing Jupyter notebook from Step2_Find_Subreddits.ipynb\n",
     "output_type": "stream"
    },
    {
     "data": {
      "text/plain": "Downloading:   0%|          | 0.00/1.18k [00:00<?, ?B/s]",
      "application/vnd.jupyter.widget-view+json": {
       "version_major": 2,
       "version_minor": 0,
       "model_id": "1a1687439fe445668a511e5ff9e3c770"
      }
     },
     "metadata": {},
     "output_type": "display_data"
    },
    {
     "data": {
      "text/plain": "Downloading:   0%|          | 0.00/190 [00:00<?, ?B/s]",
      "application/vnd.jupyter.widget-view+json": {
       "version_major": 2,
       "version_minor": 0,
       "model_id": "def7f4e8f78b4209af724e09fc77b12a"
      }
     },
     "metadata": {},
     "output_type": "display_data"
    },
    {
     "data": {
      "text/plain": "Downloading:   0%|          | 0.00/10.2k [00:00<?, ?B/s]",
      "application/vnd.jupyter.widget-view+json": {
       "version_major": 2,
       "version_minor": 0,
       "model_id": "5f4c5d2317c743018234623ae08d4412"
      }
     },
     "metadata": {},
     "output_type": "display_data"
    },
    {
     "data": {
      "text/plain": "Downloading:   0%|          | 0.00/573 [00:00<?, ?B/s]",
      "application/vnd.jupyter.widget-view+json": {
       "version_major": 2,
       "version_minor": 0,
       "model_id": "bbc424edc9774673b637ffd8e4a33d88"
      }
     },
     "metadata": {},
     "output_type": "display_data"
    },
    {
     "data": {
      "text/plain": "Downloading:   0%|          | 0.00/116 [00:00<?, ?B/s]",
      "application/vnd.jupyter.widget-view+json": {
       "version_major": 2,
       "version_minor": 0,
       "model_id": "2b678f6cf16841b7b78354c1e768a877"
      }
     },
     "metadata": {},
     "output_type": "display_data"
    },
    {
     "data": {
      "text/plain": "Downloading:   0%|          | 0.00/39.3k [00:00<?, ?B/s]",
      "application/vnd.jupyter.widget-view+json": {
       "version_major": 2,
       "version_minor": 0,
       "model_id": "748f8f3bbb8c4c27909846905e848833"
      }
     },
     "metadata": {},
     "output_type": "display_data"
    },
    {
     "data": {
      "text/plain": "Downloading:   0%|          | 0.00/349 [00:00<?, ?B/s]",
      "application/vnd.jupyter.widget-view+json": {
       "version_major": 2,
       "version_minor": 0,
       "model_id": "a9d0f95cb14f4b859f2f4b4a77fe3603"
      }
     },
     "metadata": {},
     "output_type": "display_data"
    },
    {
     "data": {
      "text/plain": "Downloading:   0%|          | 0.00/134M [00:00<?, ?B/s]",
      "application/vnd.jupyter.widget-view+json": {
       "version_major": 2,
       "version_minor": 0,
       "model_id": "9fca6a1dace5492cac473250fc95701c"
      }
     },
     "metadata": {},
     "output_type": "display_data"
    },
    {
     "data": {
      "text/plain": "Downloading:   0%|          | 0.00/53.0 [00:00<?, ?B/s]",
      "application/vnd.jupyter.widget-view+json": {
       "version_major": 2,
       "version_minor": 0,
       "model_id": "df3a90ea2f2440cba260f446aebd9171"
      }
     },
     "metadata": {},
     "output_type": "display_data"
    },
    {
     "data": {
      "text/plain": "Downloading:   0%|          | 0.00/112 [00:00<?, ?B/s]",
      "application/vnd.jupyter.widget-view+json": {
       "version_major": 2,
       "version_minor": 0,
       "model_id": "9340ec9df57f4857987a352138eaf344"
      }
     },
     "metadata": {},
     "output_type": "display_data"
    },
    {
     "data": {
      "text/plain": "Downloading:   0%|          | 0.00/466k [00:00<?, ?B/s]",
      "application/vnd.jupyter.widget-view+json": {
       "version_major": 2,
       "version_minor": 0,
       "model_id": "b7eb0c0486bc4521af7c14b4ca852043"
      }
     },
     "metadata": {},
     "output_type": "display_data"
    },
    {
     "data": {
      "text/plain": "Downloading:   0%|          | 0.00/352 [00:00<?, ?B/s]",
      "application/vnd.jupyter.widget-view+json": {
       "version_major": 2,
       "version_minor": 0,
       "model_id": "baa7a410a6da4bde8860e04f27d2ce53"
      }
     },
     "metadata": {},
     "output_type": "display_data"
    },
    {
     "data": {
      "text/plain": "Downloading:   0%|          | 0.00/13.2k [00:00<?, ?B/s]",
      "application/vnd.jupyter.widget-view+json": {
       "version_major": 2,
       "version_minor": 0,
       "model_id": "aaa57dd719144ef1a51e5554f96b7277"
      }
     },
     "metadata": {},
     "output_type": "display_data"
    },
    {
     "data": {
      "text/plain": "Downloading:   0%|          | 0.00/232k [00:00<?, ?B/s]",
      "application/vnd.jupyter.widget-view+json": {
       "version_major": 2,
       "version_minor": 0,
       "model_id": "8abacad612f943b38c6b1625c6c975a9"
      }
     },
     "metadata": {},
     "output_type": "display_data"
    }
   ],
   "execution_count": null
  },
  {
   "cell_type": "code",
   "metadata": {
    "cell_id": "f7dbb9580e8243419e5e6cb76bc84de9",
    "tags": [],
    "deepnote_to_be_reexecuted": false,
    "source_hash": "2a709622",
    "execution_start": 1650152807202,
    "execution_millis": 1695,
    "deepnote_cell_type": "code",
    "deepnote_cell_height": 148.1875
   },
   "source": "#Find influencers\nimport Step3_Find_Influencers as finf\n#importlib.reload(finf)",
   "outputs": [
    {
     "name": "stdout",
     "text": "importing Jupyter notebook from Step3_Find_Influencers.ipynb\n",
     "output_type": "stream"
    }
   ],
   "execution_count": null
  },
  {
   "cell_type": "code",
   "metadata": {
    "cell_id": "ceeb3dc7a4664a5c87dd31df5e20ba93",
    "tags": [],
    "deepnote_to_be_reexecuted": false,
    "source_hash": "fd1c0325",
    "execution_start": 1650152808901,
    "execution_millis": 992,
    "deepnote_cell_type": "code",
    "deepnote_cell_height": 148.1875
   },
   "source": "#Find relevant influencer posts\nimport Step4_Find_Influencer_Relevant_Posts as fposts\n#importlib.reload(fposts)",
   "outputs": [
    {
     "name": "stdout",
     "text": "importing Jupyter notebook from Step4_Find_Influencer_Relevant_Posts.ipynb\n",
     "output_type": "stream"
    }
   ],
   "execution_count": null
  },
  {
   "cell_type": "code",
   "metadata": {
    "cell_id": "17a4b6610da144b5a708f485f59dbd8e",
    "tags": [],
    "deepnote_to_be_reexecuted": false,
    "source_hash": "6f842bdf",
    "execution_start": 1650163785916,
    "execution_millis": 1,
    "deepnote_cell_type": "code",
    "deepnote_cell_height": 117
   },
   "source": "#Create CRF model to find new terms in unseen Reddit posts\nimport Step5_CRF_Find_New_Terms as crfnt\n#importlib.reload(crfnt)",
   "execution_count": 3,
   "outputs": []
  },
  {
   "cell_type": "markdown",
   "source": "### Set Parameter Values \nThe parameters will indicate how large our search scope will be within Reddit, as well as indicating whether we are running in Minimum Viable Product (MVP) mode.\n\nOur MVP mode uses pre-created pickle files for selected topics that have already been run through the full pipeline to quickly generate a result for viewing.",
   "metadata": {
    "cell_id": "f08402a5cdd148f6af11bd0d82cf683e",
    "tags": [],
    "deepnote_cell_type": "markdown",
    "deepnote_cell_height": 181.5625
   }
  },
  {
   "cell_type": "code",
   "metadata": {
    "cell_id": "b66af829d6fd48df8983760057904c87",
    "tags": [],
    "deepnote_to_be_reexecuted": false,
    "source_hash": "4853811d",
    "execution_start": 1650152816898,
    "execution_millis": 62,
    "deepnote_cell_type": "code",
    "deepnote_cell_height": 567
   },
   "source": "# #Set Parameters\n#For selecting subreddits\nnum_subreddits = 10 #Number of subreddits we will return for the analysis\nmin_subreddit_subscribers = 20000 #Size limit on a subreddit for inclusion in analysis\n\n#For finding influencers\nnum_submissions = 50\nnum_influencers = 5\nmin_occur = 2\nmax_com = 0\nload_subm = False\nequal_sub = True\n\n\n\n#For finding relevant posts from influencers\nper_author_limit=500 #Maximum number of comments to be returned for one user\npost_limit = 10000 #Maximum number of comments/submissions to return from this process\n\nend_date = (date.today() + timedelta(days=1)).strftime(\"%m/%d/%Y\")  #Posts dated before this date will be included\nstart_date = (date.today() - timedelta(days=31)).strftime(\"%m/%d/%Y\") #Posts dated after this date will be included\n\n\nmvp_flag = False #If true, uses an existing pickle file\n\n# mvp_terms = ['Squid Game', 'Cronut', 'Settlers of Catan', 'dogecoin', 'Beastie Boys',\n#                     'Elon Musk', 'Birkin Bag', 'Apple IPhone', 'PS5', 'oxycontin' ]\n",
   "outputs": [],
   "execution_count": null
  },
  {
   "cell_type": "markdown",
   "source": "### What are we finding the Next Big Thing of?",
   "metadata": {
    "cell_id": "9dca6b5c7e53476799755032eaab660d",
    "tags": [],
    "deepnote_cell_type": "markdown",
    "deepnote_cell_height": 62
   }
  },
  {
   "cell_type": "code",
   "metadata": {
    "cell_id": "9ee6c6b515d74932aa287feb26ea08d0",
    "tags": [],
    "deepnote_to_be_reexecuted": false,
    "source_hash": "195b2912",
    "execution_start": 1650165357868,
    "execution_millis": 1,
    "owner_user_id": "9187ece3-39a6-4bea-aed6-9a68f93aaf4f",
    "deepnote_cell_type": "code",
    "deepnote_cell_height": 261
   },
   "source": "# term = 'squid game'\n# term = 'cronut'\n# term = 'Settlers of Catan'\n# term = 'dogecoin'\n# term = \"Beastie Boys\"\n# term = 'Elon Musk'\n# term = 'Birkin Bag'\n# term = 'Apple Iphone'\nterm = 'PS5'\n# term = 'oxycontin'\n# term = 'TikTok'",
   "execution_count": 5,
   "outputs": []
  },
  {
   "cell_type": "markdown",
   "source": "### Get initial Wikipedia data about our user entry\nThis step finds the Wikipedia entry for our user entered item. It runs the Wikipedia summary of the item, found at the top of the webpage, through NLP processing to identify what we refer to as the NLP category of the item, and also finds the Wikipedia categories for the item. It filters the Wikipedia categories for those that are relevant to our original item, and creates new categories based on years/decades, that we can hopefully use to identify \"newer\" categories of the same subject. For example, for Squid Game:\n\n#### wiki_term\n'Squid Game'\n\n#### nlp_cat_phrase\n['Korean', 'drama', 'television', 'series']\n\n#### best_wiki_cats\n['Category:2021 South Korean television series debuts',\n'Category:South Korean action television series',\n'Category:South Korean horror fiction television series',\n'Category:South Korean thriller television series',\n'Category:Television shows set in Seoul']\n\n#### wiki_cats\n['Category:South Korean thriller television series',\n'Category:2021 South Korean television series debuts',\n'Category:South Korean horror fiction television series',\n'Category:2020 South Korean television series debuts',\n'Category:2018 South Korean television series debuts',\n'Category:2022 South Korean television series debuts',\n'Category:2019 South Korean television series debuts',\n'Category:South Korean action television series',\n'Category:Television shows set in Seoul']\n",
   "metadata": {
    "cell_id": "70678ec0f322462b823c0fceccb40f75",
    "tags": [],
    "deepnote_cell_type": "markdown",
    "deepnote_cell_height": 587.078125
   }
  },
  {
   "cell_type": "code",
   "metadata": {
    "cell_id": "54c236d3539d4c37b96292787aad2dfc",
    "tags": [],
    "deepnote_to_be_reexecuted": false,
    "source_hash": "a7e2b993",
    "execution_start": 1650165357869,
    "execution_millis": 810,
    "deepnote_cell_type": "code",
    "deepnote_cell_height": 719
   },
   "source": "#Get category data\nnlp_cat_phrase, wiki_cats, best_wiki_cats, wiki_term = fcat.get_category_from_search_term(term)",
   "execution_count": 6,
   "outputs": [
    {
     "output_type": "error",
     "ename": "NameError",
     "evalue": "name 'fcat' is not defined",
     "traceback": [
      "\u001b[0;31m---------------------------------------------------------------------------\u001b[0m",
      "\u001b[0;31mNameError\u001b[0m                                 Traceback (most recent call last)",
      "\u001b[0;32m<ipython-input-6-ccc6562170d1>\u001b[0m in \u001b[0;36m<module>\u001b[0;34m\u001b[0m\n\u001b[1;32m      1\u001b[0m \u001b[0;31m#Get category data\u001b[0m\u001b[0;34m\u001b[0m\u001b[0;34m\u001b[0m\u001b[0;34m\u001b[0m\u001b[0m\n\u001b[0;32m----> 2\u001b[0;31m \u001b[0mnlp_cat_phrase\u001b[0m\u001b[0;34m,\u001b[0m \u001b[0mwiki_cats\u001b[0m\u001b[0;34m,\u001b[0m \u001b[0mbest_wiki_cats\u001b[0m\u001b[0;34m,\u001b[0m \u001b[0mwiki_term\u001b[0m \u001b[0;34m=\u001b[0m \u001b[0mfcat\u001b[0m\u001b[0;34m.\u001b[0m\u001b[0mget_category_from_search_term\u001b[0m\u001b[0;34m(\u001b[0m\u001b[0mterm\u001b[0m\u001b[0;34m)\u001b[0m\u001b[0;34m\u001b[0m\u001b[0;34m\u001b[0m\u001b[0m\n\u001b[0m",
      "\u001b[0;31mNameError\u001b[0m: name 'fcat' is not defined"
     ]
    }
   ]
  },
  {
   "cell_type": "code",
   "metadata": {
    "cell_id": "c10fbbeed43f4a76bf13ed7693c00ac3",
    "tags": [],
    "deepnote_to_be_reexecuted": true,
    "source_hash": "18d4668c",
    "execution_start": 1650152819934,
    "execution_millis": 60,
    "deepnote_cell_type": "code",
    "deepnote_cell_height": 443.1875,
    "deepnote_output_heights": [
     328.1875
    ]
   },
   "source": "nlp_cat_phrase, wiki_cats, best_wiki_cats, wiki_term\n",
   "outputs": [
    {
     "output_type": "execute_result",
     "execution_count": 12,
     "data": {
      "text/plain": "(['line', 'smartphones'],\n ['Category:Mobile phones introduced in 2020',\n  'Category:Smartphones',\n  'Category:Mobile phones introduced in 2021',\n  'Category:Digital audio players',\n  'Category:ITunes',\n  'Category:Mobile phones introduced in 2018',\n  'Category:Mobile phones introduced in 2022',\n  'Category:Mobile phones introduced in 2019',\n  'Category:Mobile phones introduced in 2007',\n  'Category:IOS'],\n ['Category:Smartphones',\n  'Category:Mobile phones introduced in 2007',\n  'Category:IOS',\n  'Category:Digital audio players',\n  'Category:ITunes'],\n 'IPhone')"
     },
     "metadata": {}
    }
   ],
   "execution_count": null
  },
  {
   "cell_type": "markdown",
   "source": "### Get Subreddits\nThis step runs combinations of the NLP category words as well as the Wiki term through the Reddit subreddit search API to find subreddits that are likely to contain the words. After pulling back many possibilities for subreddits, it uses cosine similarity between the potential subreddit (using a combination of name, title, and description) and the wiki categories to select the \"best\" subreddits to interrogate for information on our Next Big Thing.\n",
   "metadata": {
    "cell_id": "757f76236a8f4748b8128240351c6f86",
    "tags": [],
    "deepnote_cell_type": "markdown",
    "deepnote_cell_height": 167.5625
   }
  },
  {
   "cell_type": "code",
   "metadata": {
    "cell_id": "74d78d8e3a7844ada45074b1385460df",
    "tags": [],
    "deepnote_to_be_reexecuted": true,
    "source_hash": "1b503920",
    "execution_start": 1650152820003,
    "execution_millis": 40270,
    "deepnote_cell_type": "code",
    "deepnote_cell_height": 135
   },
   "source": "\n#Get subreddits\nsubreddits_list = fsub.get_subreddits(wiki_term, nlp_cat_phrase, best_wiki_cats, num_subreddits, min_subreddit_subscribers, mvp_flag)\n",
   "outputs": [],
   "execution_count": null
  },
  {
   "cell_type": "code",
   "metadata": {
    "cell_id": "634b6732e25c4218bd6ec5c179691d81",
    "tags": [],
    "deepnote_to_be_reexecuted": true,
    "source_hash": "8fa51e65",
    "execution_start": 1650152860275,
    "execution_millis": 379,
    "deepnote_cell_type": "code",
    "deepnote_cell_height": 290.875,
    "deepnote_output_heights": [
     193.875
    ]
   },
   "source": "subreddits_list",
   "outputs": [
    {
     "output_type": "execute_result",
     "execution_count": 14,
     "data": {
      "text/plain": "['Smartphones',\n 'ios',\n 'windowsphone',\n 'iphone',\n 'PickAnAndroidForMe',\n 'iOSBeta',\n 'iphonehelp',\n 'LegacyJailbreak',\n 'AndroidMasterRace',\n 'iPhoneX']"
     },
     "metadata": {}
    }
   ],
   "execution_count": null
  },
  {
   "cell_type": "markdown",
   "source": "### Get Influencers\nThis step evaluates users based on an aggregate score of their posts (comments and submissions) in the previously identified subreddits.",
   "metadata": {
    "cell_id": "509b0220e84341da8ef54e649030e54b",
    "tags": [],
    "deepnote_cell_type": "markdown",
    "deepnote_cell_height": 122.78125
   }
  },
  {
   "cell_type": "code",
   "metadata": {
    "cell_id": "f67e1677c3ee4b40993b825f3616ab5a",
    "tags": [],
    "deepnote_to_be_reexecuted": true,
    "source_hash": "e31f7b54",
    "execution_start": 1650152860380,
    "execution_millis": 1160259,
    "deepnote_cell_type": "code",
    "deepnote_cell_height": 719
   },
   "source": "#Get influencers\nlistInfluencers = finf.get_influencers(subreddits_list, num_submissions, num_influencers, min_occur, mvp_flag, load_subm, wiki_term, max_com, equal_sub)",
   "outputs": [
    {
     "name": "stdout",
     "text": "gathering submissions from Smartphones subreddit...\n50 posts gathered so far...\ngathering submissions from ios subreddit...\n100 posts gathered so far...\ngathering submissions from windowsphone subreddit...\n137 posts gathered so far...\ngathering submissions from iphone subreddit...\n187 posts gathered so far...\ngathering submissions from PickAnAndroidForMe subreddit...\n237 posts gathered so far...\ngathering submissions from iOSBeta subreddit...\n287 posts gathered so far...\ngathering submissions from iphonehelp subreddit...\n337 posts gathered so far...\ngathering submissions from LegacyJailbreak subreddit...\n387 posts gathered so far...\ngathering submissions from AndroidMasterRace subreddit...\n401 posts gathered so far...\ngathering submissions from iPhoneX subreddit...\n451 posts gathered so far...\ncomplete with 18005 comments and 451 submissions\ncollecting comment karma for top 250 authors...\n75 influencers found so far...\nTop 5 influencers added from Smartphones subreddit. 80 found so far.\nTop 5 influencers added from ios subreddit. 85 found so far.\nTop 5 influencers added from windowsphone subreddit. 90 found so far.\nTop 5 influencers added from iphone subreddit. 95 found so far.\nTop 5 influencers added from PickAnAndroidForMe subreddit. 100 found so far.\nTop 5 influencers added from iOSBeta subreddit. 105 found so far.\nTop 5 influencers added from iphonehelp subreddit. 109 found so far.\nTop 5 influencers added from LegacyJailbreak subreddit. 114 found so far.\nTop 5 influencers added from AndroidMasterRace subreddit. 115 found so far.\nTop 5 influencers added from iPhoneX subreddit. 120 found so far.\npickle file of influencers has been created with 120 redditors\n",
     "output_type": "stream"
    }
   ],
   "execution_count": null
  },
  {
   "cell_type": "code",
   "metadata": {
    "cell_id": "a4bf59f9a62147979e6c8c6e0f11a961",
    "tags": [],
    "deepnote_to_be_reexecuted": true,
    "source_hash": "c28b3c7",
    "execution_start": 1650154020430,
    "execution_millis": 2989,
    "deepnote_cell_type": "code",
    "deepnote_cell_height": 708,
    "deepnote_output_heights": [
     611
    ]
   },
   "source": "listInfluencers",
   "outputs": [
    {
     "output_type": "execute_result",
     "execution_count": 16,
     "data": {
      "text/plain": "['Sorin61',\n 'sexysantaz2021lol',\n 'Manfred_89',\n 'Select-Background-69',\n 'TheDankLord4416',\n 'SurealGod',\n 'rservello',\n 'mmbento',\n 'Administratr',\n 'bjamink_88',\n 'plaid-knight',\n 'epmuscle',\n 'dadofbimbim',\n 'cerebud',\n 'infinityandbeyond75',\n 'obyboby',\n 'paulstelian97',\n 'NickyGi',\n 'mohamed_Elngar21',\n 'DimVl',\n 'sashimiboyy',\n 'AaronG85',\n 'gacash9',\n 'sasha2005lobanov',\n 'the_saturnos',\n 'zerbey',\n 'HeartyBeast',\n 'Trickybuz93',\n 'blacksoxing',\n '0000GKP',\n 'slardybartfast8',\n 'scots',\n 'Tumblrrito',\n 'Kimantha_Allerdings',\n 'navjot94',\n 'szzzn',\n 'miggitymikeb',\n 'No-Seaweed-4456',\n 'koolaidistheshit',\n 'Portatort',\n 'ThannBanis',\n 'Hats_Hats_Hats',\n 'Makorot',\n 'Hatefull_creeper2',\n 'baldeagleNL',\n 'spellbadgrammargood',\n 'LeakySkylight',\n 'SnackeyG1',\n 'newecreator',\n 'katsumiblisk',\n 'ElectrikDonuts',\n 'Simon_787',\n 'Price-x-Field',\n 'saraseitor',\n 'SirMaster',\n 'Fatalstryke',\n 'LiberalMusicLover',\n 'ithinkoutloudtoo',\n 'yorcharturoqro',\n 'UESC_Durandal',\n 'DavidNipondeCarlos',\n 'airysunshine',\n 'jimmyl_82104',\n 'IncredibleGonzo',\n 'thisisausername190',\n 'KarlJay001',\n 'weedwhacking',\n 'antdude',\n 'Ferry83',\n 'dafool98',\n 'Generalrossa',\n 'L0rdLogan',\n 'vipirius',\n 'wild_a',\n 'King_Dee1',\n 'CaravieR',\n 'runski1426',\n 'michaelshun',\n 'Jay-See_Shahzey',\n 'Ruchan10',\n 'serickjr',\n 'Original__Kyle',\n 'dashingsymbols',\n 'zeimusCS',\n 'arshsaxena',\n 'Emyhatsich',\n 'Lasitha_Samarasinghe',\n 'exalsG4',\n 'New_Boss5389',\n 'coffeeInstantTypeII',\n 'jrtt4877',\n 'econobox_whipper',\n 'Jeffryyyy',\n 'TAbramson15',\n 'sennalonso1981',\n 'JackSpoons',\n 'fisheye666',\n 'KunJee',\n 'thethickjoker69',\n 'newoldschool',\n 'Mr_BananaPants',\n 'mvbalan',\n 'rua29',\n 'kirigerKairen',\n 'ffiresnake',\n 'jamesamo33',\n 'balkansway',\n 'joenick78',\n 'HelpMeLearnSum',\n 'lorddtheo',\n 'NaroDoesStuff',\n 'Skallager0252',\n 'AdStriking903',\n 'Anxious-Ad469',\n 'TubbyToucan',\n 'Any_Result_2505',\n 'dcmso',\n 'TONKATAMLG',\n 'NA-Bowzah-130',\n 'tunamkol']"
     },
     "metadata": {}
    }
   ],
   "execution_count": null
  },
  {
   "cell_type": "markdown",
   "source": "### Get influencer relevant posts\nThis step finds all posts made by the influential users in the identified subreddits in a provided timeframe. If there are more posts than the parameter limit, cosine similarity between the post and the best_wiki_cats is used to determine the top posts to move to the next step of the process. ",
   "metadata": {
    "cell_id": "722dcef5d7eb4afeb5cc64284adfe25a",
    "tags": [],
    "deepnote_cell_type": "markdown",
    "deepnote_cell_height": 145.171875
   }
  },
  {
   "cell_type": "code",
   "metadata": {
    "cell_id": "97b45c97819c48d1acdd27a635c060b0",
    "tags": [],
    "deepnote_to_be_reexecuted": true,
    "source_hash": "21fe52df",
    "execution_start": 1650154022900,
    "execution_millis": 4874991,
    "deepnote_cell_type": "code",
    "deepnote_cell_height": 737
   },
   "source": "#Get relevant posts\nrelevant_posts = fposts.get_relevant_posts(wiki_term, listInfluencers, subreddits_list, start_date, end_date, best_wiki_cats, per_author_limit, post_limit, mvp_flag)\n",
   "outputs": [
    {
     "name": "stdout",
     "text": "Start time for retrieving comments:  2022-04-16 20:07:02\nFinding comments for Hatefull_creeper2...\nFinding comments for SnackeyG1...\nFinding comments for NaroDoesStuff...\nFinding comments for Administratr...\nFinding comments for Manfred_89...\nFinding comments for Mr_BananaPants...\nFinding comments for AaronG85...\nFinding comments for mmbento...\nFinding comments for jimmyl_82104...\nFinding comments for HeartyBeast...\nFinding comments for blacksoxing...\nFinding comments for Select-Background-69...\nFinding comments for dafool98...\nFinding comments for thethickjoker69...\nFinding comments for exalsG4...\nFinding comments for navjot94...\nFinding comments for Portatort...\nFinding comments for rservello...\nFinding comments for New_Boss5389...\nFinding comments for slardybartfast8...\nFinding comments for 0000GKP...\nFinding comments for TONKATAMLG...\nFinding comments for epmuscle...\nFinding comments for infinityandbeyond75...\nFinding comments for NickyGi...\nFinding comments for LeakySkylight...\nFinding comments for Makorot...\nFinding comments for dcmso...\nFinding comments for dadofbimbim...\nFinding comments for SirMaster...\nFinding comments for szzzn...\nFinding comments for balkansway...\nFinding comments for weedwhacking...\nFinding comments for Ferry83...\nFinding comments for Emyhatsich...\nFinding comments for newoldschool...\nFinding comments for the_saturnos...\nFinding comments for spellbadgrammargood...\nFinding comments for thisisausername190...\nFinding comments for King_Dee1...\nFinding comments for koolaidistheshit...\nFinding comments for dashingsymbols...\nFinding comments for Generalrossa...\nFinding comments for katsumiblisk...\nFinding comments for Jay-See_Shahzey...\nFinding comments for fisheye666...\nFinding comments for Anxious-Ad469...\nFinding comments for ffiresnake...\nFinding comments for Trickybuz93...\nFinding comments for CaravieR...\nFinding comments for michaelshun...\nFinding comments for Tumblrrito...\nFinding comments for plaid-knight...\nFinding comments for ithinkoutloudtoo...\nFinding comments for No-Seaweed-4456...\nFinding comments for joenick78...\nFinding comments for Fatalstryke...\nFinding comments for zerbey...\nFinding comments for saraseitor...\nFinding comments for kirigerKairen...\nFinding comments for AdStriking903...\nFinding comments for newecreator...\nFinding comments for Jeffryyyy...\nFinding comments for LiberalMusicLover...\nFinding comments for mohamed_Elngar21...\nFinding comments for lorddtheo...\nFinding comments for cerebud...\nFinding comments for airysunshine...\nFinding comments for baldeagleNL...\nFinding comments for Kimantha_Allerdings...\nFinding comments for bjamink_88...\nFinding comments for HelpMeLearnSum...\nFinding comments for Ruchan10...\nFinding comments for sashimiboyy...\nFinding comments for UESC_Durandal...\nFinding comments for Original__Kyle...\nFinding comments for jrtt4877...\nFinding comments for miggitymikeb...\nFinding comments for rua29...\nFinding comments for TheDankLord4416...\nFinding comments for econobox_whipper...\nFinding comments for coffeeInstantTypeII...\nFinding comments for KunJee...\nFinding comments for tunamkol...\nFinding comments for DimVl...\nFinding comments for obyboby...\nFinding comments for ElectrikDonuts...\nFinding comments for sennalonso1981...\nFinding comments for mvbalan...\nFinding comments for vipirius...\nFinding comments for Any_Result_2505...\nFinding comments for Simon_787...\nFinding comments for KarlJay001...\nFinding comments for paulstelian97...\nFinding comments for serickjr...\nFinding comments for sasha2005lobanov...\nFinding comments for Hats_Hats_Hats...\nFinding comments for Skallager0252...\nFinding comments for scots...\nFinding comments for NA-Bowzah-130...\nFinding comments for wild_a...\nFinding comments for sexysantaz2021lol...\nFinding comments for arshsaxena...\nFinding comments for JackSpoons...\nFinding comments for antdude...\nFinding comments for Price-x-Field...\nFinding comments for TubbyToucan...\nFinding comments for gacash9...\nFinding comments for L0rdLogan...\nFinding comments for runski1426...\nFinding comments for Sorin61...\nFinding comments for ThannBanis...\nFinding comments for DavidNipondeCarlos...\nFinding comments for yorcharturoqro...\nFinding comments for TAbramson15...\nFinding comments for SurealGod...\nFinding comments for zeimusCS...\nFinding comments for jamesamo33...\nFinding comments for Lasitha_Samarasinghe...\nFinding comments for IncredibleGonzo...\nNumber of relevant comments:  5272\nStart time for retrieving submissions:  2022-04-16 20:57:59\nFinding submissions for Hatefull_creeper2...\nFinding submissions for SnackeyG1...\nFinding submissions for NaroDoesStuff...\nFinding submissions for Administratr...\nFinding submissions for Manfred_89...\nFinding submissions for Mr_BananaPants...\nFinding submissions for AaronG85...\nFinding submissions for mmbento...\nFinding submissions for jimmyl_82104...\nFinding submissions for HeartyBeast...\nFinding submissions for blacksoxing...\nFinding submissions for Select-Background-69...\nFinding submissions for dafool98...\nFinding submissions for thethickjoker69...\nFinding submissions for exalsG4...\nFinding submissions for navjot94...\nFinding submissions for Portatort...\nFinding submissions for rservello...\nFinding submissions for New_Boss5389...\nFinding submissions for slardybartfast8...\nFinding submissions for 0000GKP...\nFinding submissions for TONKATAMLG...\nFinding submissions for epmuscle...\nFinding submissions for infinityandbeyond75...\nFinding submissions for NickyGi...\nFinding submissions for LeakySkylight...\nFinding submissions for Makorot...\nFinding submissions for dcmso...\nFinding submissions for dadofbimbim...\nFinding submissions for SirMaster...\nFinding submissions for szzzn...\nFinding submissions for balkansway...\nFinding submissions for weedwhacking...\nFinding submissions for Ferry83...\nFinding submissions for Emyhatsich...\nFinding submissions for newoldschool...\nFinding submissions for the_saturnos...\nFinding submissions for spellbadgrammargood...\nFinding submissions for thisisausername190...\nFinding submissions for King_Dee1...\nFinding submissions for koolaidistheshit...\nFinding submissions for dashingsymbols...\nFinding submissions for Generalrossa...\nFinding submissions for katsumiblisk...\nFinding submissions for Jay-See_Shahzey...\nFinding submissions for fisheye666...\nFinding submissions for Anxious-Ad469...\nFinding submissions for ffiresnake...\nFinding submissions for Trickybuz93...\nFinding submissions for CaravieR...\nFinding submissions for michaelshun...\nFinding submissions for Tumblrrito...\nFinding submissions for plaid-knight...\nFinding submissions for ithinkoutloudtoo...\nFinding submissions for No-Seaweed-4456...\nFinding submissions for joenick78...\nFinding submissions for Fatalstryke...\nFinding submissions for zerbey...\nFinding submissions for saraseitor...\nFinding submissions for kirigerKairen...\nFinding submissions for AdStriking903...\nFinding submissions for newecreator...\nFinding submissions for Jeffryyyy...\nFinding submissions for LiberalMusicLover...\nFinding submissions for mohamed_Elngar21...\nFinding submissions for lorddtheo...\nFinding submissions for cerebud...\nFinding submissions for airysunshine...\nFinding submissions for baldeagleNL...\nFinding submissions for Kimantha_Allerdings...\nFinding submissions for bjamink_88...\nFinding submissions for HelpMeLearnSum...\nFinding submissions for Ruchan10...\nFinding submissions for sashimiboyy...\nFinding submissions for UESC_Durandal...\nFinding submissions for Original__Kyle...\nFinding submissions for jrtt4877...\nFinding submissions for miggitymikeb...\nFinding submissions for rua29...\nFinding submissions for TheDankLord4416...\nFinding submissions for econobox_whipper...\nFinding submissions for coffeeInstantTypeII...\nFinding submissions for KunJee...\nFinding submissions for tunamkol...\nFinding submissions for DimVl...\nFinding submissions for obyboby...\nFinding submissions for ElectrikDonuts...\nFinding submissions for sennalonso1981...\nFinding submissions for mvbalan...\nFinding submissions for vipirius...\nFinding submissions for Any_Result_2505...\nFinding submissions for Simon_787...\nFinding submissions for KarlJay001...\nFinding submissions for paulstelian97...\nFinding submissions for serickjr...\nFinding submissions for sasha2005lobanov...\nFinding submissions for Hats_Hats_Hats...\nFinding submissions for Skallager0252...\nFinding submissions for scots...\nFinding submissions for NA-Bowzah-130...\nFinding submissions for wild_a...\nFinding submissions for sexysantaz2021lol...\nFinding submissions for arshsaxena...\nFinding submissions for JackSpoons...\nFinding submissions for antdude...\nFinding submissions for Price-x-Field...\nFinding submissions for TubbyToucan...\nFinding submissions for gacash9...\nFinding submissions for L0rdLogan...\nFinding submissions for runski1426...\nFinding submissions for Sorin61...\nFinding submissions for ThannBanis...\nFinding submissions for DavidNipondeCarlos...\nFinding submissions for yorcharturoqro...\nFinding submissions for TAbramson15...\nFinding submissions for SurealGod...\nFinding submissions for zeimusCS...\nFinding submissions for jamesamo33...\nFinding submissions for Lasitha_Samarasinghe...\nFinding submissions for IncredibleGonzo...\nNumber of relevant submissions:  159\nRanking posts start time:  2022-04-16 21:28:17\nRanking posts end time:  2022-04-16 21:28:17\n",
     "output_type": "stream"
    }
   ],
   "execution_count": null
  },
  {
   "cell_type": "code",
   "metadata": {
    "cell_id": "8cfb7add50994a63881249dd33549232",
    "tags": [],
    "deepnote_to_be_reexecuted": true,
    "source_hash": "e819ef8e",
    "execution_start": 1650158897892,
    "execution_millis": 2241,
    "deepnote_cell_type": "code",
    "deepnote_cell_height": 290.875,
    "deepnote_output_heights": [
     193.875
    ]
   },
   "source": "relevant_posts[:10]",
   "outputs": [
    {
     "output_type": "execute_result",
     "execution_count": 18,
     "data": {
      "text/plain": "['True but it in the Middle East',\n 'Depends',\n 'Yes but this sub is biased',\n 'iPhone 11',\n 'Cutout but I don’t hate the notch',\n 'The current weather app on iPhone shows more information not shown in the widgets.\\n\\nDark Sky is on iPadOS which got bought by Apple but it will stop working this year.\\n\\nAlso there is the Weather Channel app but some features need a subscription and also ads.\\n\\nI think a Calculator is more important but it probably needs to be more complex then the current one on iPhone that is more similar to Scientific Calculator. \\n\\nThere on the App Store but a lot need subscriptions or have ads. You can also use the search bar or spot light search for calculations which I use more.',\n 'At least it’s better then most Google Apps.',\n ' Weather and Calculator app for the iPad but that’s never ever going to happen.',\n 'I am waiting for the iPhone 16 or 17 Pro',\n 'Wireless charging is the reason why aluminum is no longer used in phones backs.']"
     },
     "metadata": {}
    }
   ],
   "execution_count": null
  },
  {
   "cell_type": "markdown",
   "source": "### Identify Next Big Thing\nThis step creates a \"white list\" or dictionary of potential items from accumulating a large number of \"siblings\" based articles found in the Wikipedia categories. \nThe sibling articles are also used to train a model for Conditional Random Field (CRF), in order to also allow the solution to identify unseen siblings that may be present in the relevant posts.\nA fuzzy search is used ...",
   "metadata": {
    "cell_id": "fa01bc140c544367901ab3efdeabcf83",
    "tags": [],
    "deepnote_cell_type": "markdown",
    "deepnote_cell_height": 145.171875
   }
  },
  {
   "cell_type": "code",
   "metadata": {
    "cell_id": "c7d3c4864ae84e5b80ea1f0f73717665",
    "tags": [],
    "deepnote_to_be_reexecuted": true,
    "source_hash": "39e7b4fb",
    "execution_start": 1650158900138,
    "execution_millis": 412487,
    "deepnote_cell_type": "code",
    "deepnote_cell_height": 755
   },
   "source": "#Create White List\nfcat.make_white_list_cat_content_files(wiki_cats, wiki_term, mvp_flag)\n\n",
   "outputs": [
    {
     "name": "stdout",
     "text": "Category:Mobile phones introduced in 2020 1 of 10 : 82\nCategory:Smartphones 2 of 10 : 852\nCategory:Mobile phones introduced in 2021 3 of 10 : 57\nCategory:Digital audio players 4 of 10 : 116\nCategory:ITunes 5 of 10 : 58\nCategory:Mobile phones introduced in 2018 6 of 10 : 77\nCategory:Mobile phones introduced in 2022 7 of 10 : 14\nCategory:Mobile phones introduced in 2019 8 of 10 : 84\nCategory:Mobile phones introduced in 2007 9 of 10 : 75\nCategory:IOS 10 of 10 : 142\nDumping wikipedia cat content file\nCategory:Mobile phones introduced in 2020\nCategory:Smartphones\nCategory:Mobile phones introduced in 2021\nCategory:Digital audio players\nCategory:ITunes\nCategory:Mobile phones introduced in 2018\nCategory:Mobile phones introduced in 2022\nCategory:Mobile phones introduced in 2019\nCategory:Mobile phones introduced in 2007\nCategory:IOS\n79 Category:Mobile phones introduced in 2020 ['LG Velvet', 'Oppo Find X2', 'Huawei P40', 'Redmi Note 9', 'Samsung Galaxy A31', 'LG K92', 'Realme X50 Pro', 'Moto G9', 'OnePlus 8', 'Asus ZenFone 7', 'Samsung Galaxy S20', 'Samsung Galaxy A12', 'Samsung Galaxy M51', 'Pixel 5', 'Huawei Mate 40', 'OnePlus Nord', 'Samsung Galaxy M31', 'OnePlus Nord N10 5G', 'Tecno Pouvoir 4', 'Samsung Galaxy Z Flip', 'Sony Xperia L4', 'Infinix Hot 9 Pro', 'Vivo X50', 'Moto E 2020', 'Samsung Galaxy A02s', 'OnePlus Nord N100', 'Samsung Galaxy A41', 'Surface Duo', 'Samsung Galaxy A42 5G', 'Realme C3', 'Micromax IN Note 1', 'Sony Xperia 10 II', 'Nokia 5.3', 'Honor 30', 'Sony Xperia 5 II', 'OnePlus 8T', 'Oppo F17 Pro', 'Micromax IN 1B', 'Nokia 5310 2020', 'Moto G 5G Plus', 'Motorola Edge+', 'Motorola Edge', 'Umidigi A9', 'Moto E7', 'TCL 10 Pro', 'LG V60 ThinQ', 'Moto G 2020', 'Realme 7', 'Huawei Nova 7i', 'Sony Xperia 1 II', 'Tecno Camon 15', 'TCL 10 5G', 'Samsung Galaxy F41', 'Infinix Note 7', 'Realme 7 Pro', 'Samsung Galaxy A11', 'Huawei Nova 7', 'Nokia 8.3 5G', 'Nokia 1.3', 'Xiaomi Mi 10T', 'Sony Xperia PRO', 'LG Wing', 'Redmi K30 Pro', 'Moto G 5G', 'Vivo V19', 'Poco X3', 'Pixel 4a', 'Xiaomi Mi 10', 'Samsung Galaxy Z Fold 2', 'PinePhone', 'ROG Phone 3', 'Realme Narzo 20 Pro', 'LG K62', 'Samsung Galaxy Note 20', 'Samsung Galaxy A01 Core', 'Legion Duel', 'Nokia C2 2020', 'Xiaomi Mi 10 Ultra', 'Samsung Galaxy A21s']\nCounter({'Samsung': 15, 'Galaxy': 15, 'Pro': 7, 'Moto': 6, '5G': 6, 'LG': 5, 'Realme': 5, 'OnePlus': 5, '7': 5, 'Sony': 5, 'Xperia': 5, '10': 5, 'Nokia': 5, 'Huawei': 4, 'Note': 4, '2020': 4, 'Nord': 3, 'II': 3, 'G': 3, 'Xiaomi': 3, 'Mi': 3, 'Oppo': 2, 'Redmi': 2, '9': 2, 'X50': 2, 'Pixel': 2, '5': 2, 'Tecno': 2, 'Z': 2, 'Infinix': 2, 'Vivo': 2, 'Micromax': 2, 'IN': 2, '1': 2, 'Motorola': 2, 'TCL': 2, 'Nova': 2, '20': 2, 'Velvet': 1, 'Find': 1, 'X2': 1, 'P40': 1, 'A31': 1, 'K92': 1, 'G9': 1, '8': 1, 'Asus': 1, 'ZenFone': 1, 'S20': 1, 'A12': 1, 'M51': 1, 'Mate': 1, '40': 1, 'M31': 1, 'N10': 1, 'Pouvoir': 1, '4': 1, 'Flip': 1, 'L4': 1, 'Hot': 1, 'E': 1, 'A02s': 1, 'N100': 1, 'A41': 1, 'Surface': 1, 'Duo': 1, 'A42': 1, 'C3': 1, '5.3': 1, 'Honor': 1, '30': 1, '8T': 1, 'F17': 1, '1B': 1, '5310': 1, 'Plus': 1, 'Edge+': 1, 'Edge': 1, 'Umidigi': 1, 'A9': 1, 'E7': 1, 'V60': 1, 'ThinQ': 1, '7i': 1, 'Camon': 1, '15': 1, 'F41': 1, 'A11': 1, '8.3': 1, '1.3': 1, '10T': 1, 'PRO': 1, 'Wing': 1, 'K30': 1, 'V19': 1, 'Poco': 1, 'X3': 1, '4a': 1, 'Fold': 1, '2': 1, 'PinePhone': 1, 'ROG': 1, 'Phone': 1, '3': 1, 'Narzo': 1, 'K62': 1, 'A01': 1, 'Core': 1, 'Legion': 1, 'Duel': 1, 'C2': 1, 'Ultra': 1, 'A21s': 1})\nremove: []\n809 Category:Smartphones ['Samsung Galaxy M40', 'Ninetology Black Pearl II', 'Samsung Galaxy Xcover 4', 'Bioinstrumentation', 'Windows Phone', 'Samsung Galaxy Note II', 'Redmi Note 10', 'Samsung Galaxy A32', 'LG Velvet', 'Nokia Lumia McLaren', 'Redmi K20', 'Problematic smartphone use', 'Oppo Find X2', 'Samsung Galaxy A31', 'Baidu Yi', 'Nokia Lumia 1320', 'Nokia 9300', 'Sony Xperia XZ2', 'Sony Xperia 8', 'Saygus', 'BlackBerry OS', 'BlackBerry 10', 'Asus ZenFone 7', 'Sony Xperia Z3', 'LG G3 Stylus', 'LG Optimus Chat', 'Sony Ericsson Xperia acro', 'Oppo R11', 'S60 software platform', 'Nokia 7210', 'Samsung Galaxy M51', 'Motorola A780', 'Samsung Behold II', 'IOS', 'Samsung Galaxy S8', 'Sony Xperia 10', 'Huawei Mate 40', 'LG Intuition', 'Nokia 808 PureView', 'Samsung Galaxy A8 2018', 'Nokia Lumia 800', 'Microsoft Lumia 550', 'Sony Ericsson Xperia mini', 'Nokia 3230', 'Samsung Wave 575', 'Xiaomi Mi 8', 'Vernee', 'Nokia 5230', 'Ninetology U9Z1+', 'Samsung Galaxy original', 'Sony Xperia C4', 'Samsung Galaxy Pocket Duos', 'Samsung Galaxy M22', 'Samsung Galaxy Ace', 'Samsung Galaxy Chat', 'Spice MI-335 Stellar Craze', 'Nextbit Robin', 'Samsung Galaxy Xcover 5', 'Ubuntu Touch', 'Motorola Flipout', 'Sony Xperia L4', 'Android operating system', 'Nokia Asha 310', 'Honor 9', 'LG Optimus One', 'Nexus 4', 'Android One', 'HTC Sensation', 'Oppo Reno2', 'Samsung Galaxy Beam i8530', 'Sony Xperia Z', 'LG Optimus L5', 'Sony Xperia E5', 'Nokia 9500 Communicator', 'Samsung Galaxy A03', 'Infinix Note 3', 'HTC HD7', 'LG Optimus Chic', 'Palm Centro', 'Samsung Galaxy Note 5', 'Nokia Lumia 900', 'GeeksPhone Peak', 'T-Mobile myTouch by LG', 'Ninetology U9Z1', 'Nokia Asha 302', 'Sony Xperia Z5 Premium', 'Samsung Galaxy 5', 'LG Prada 3.0', 'Xiaomi Mi MIX Alpha', 'LG K10 2018', 'Sony Xperia XZ2 Compact', 'Trium Mondo', 'Sony Xperia 10 II', 'Nexus 5', 'Samsung Galaxy Core', 'Wickedleak Wammy Passion X', 'Sony Xperia XZ1 Compact', 'LG Optimus L5 II', 'Samsung Galaxy Note 7', 'Curzon Memories App', 'Oppo F5/F5 Youth', 'Samsung Galaxy Win', 'HTC Radar', 'Samsung Galaxy Y', 'Nubia X', 'Alcatel One Touch Fire', 'Samsung Galaxy Trend 2 Lite', 'Nokia 9210 Communicator', 'Momentem', 'Samsung Galaxy J4 Core', 'HTC One S', 'Droid X', 'Umidigi A9', 'Microsoft Lumia', 'Samsung Focus S', 'Microsoft Lumia 950', 'LG V60 ThinQ', 'Samsung Galaxy Y DUOS', 'Samsung REX', 'Nokia 7710', 'Soft Input Panel', 'Samsung Galaxy Grand Max', 'Sony Xperia M5', 'Xiaomi Mi CC9 Pro', 'Samsung Galaxy Fit smartphone', 'Nokia X2 2014', 'Neo FreeRunner', 'Samsung Galaxy On7 Pro', 'HTC Sensation XL', 'N-Gage QD', 'Galaxy Nexus', 'Windows 10 Mobile', 'Samsung Omnia 7', 'GrapheneOS', 'Sony Ericsson Xperia ray', 'Superphone', 'Tecno Spark 8', 'Freedom Phone', 'Tecno Camon 15', 'Find My Phone', 'LG Optimus L9', 'Ogo handheld device', 'Kyocera Echo', 'LG Optimus L4 II', 'Huawei Nova 9', 'ROG Phone II', 'ZTE Orbit', 'Samsung i8510 Innov8', 'Sony Xperia PRO-I', 'ZTE Open', 'Samsung Galaxy Ace 2', 'Samsung Galaxy A70', 'Huawei Nova 7', 'Huawei Sonic', 'Sony Xperia SP', 'Ninetology U9X1', 'Razer Phone', 'Samsung Galaxy A8 Star', 'Walton Primo X4 Pro', 'Samsung B7610', 'Samsung Galaxy S III', 'Smartphone charging kiosk', 'Garmin Nüvifone', 'Samsung Galaxy A82 5G', 'HTC Touch Viva', 'Redmi K30 Pro', 'Proto.io', 'Python for S60', 'Lenovo A6000', 'Samsung Galaxy J7', 'Moto E 1st generation', 'Samsung Galaxy S9', 'Fairphone 1', 'Samsung Minikit', 'WebOS', 'Xperia Play', 'Sony Xperia Z1', 'Vivo X7', 'Nokia X5', 'Ninetology Outlook Pure', 'LG Optimus G', 'Neo 1973', 'Samsung Galaxy Pocket', 'Sony Ericsson P910', 'ROG Phone 3', 'Cherry Mobile Flare', 'Nokia 6680', 'Motorola Edge 2021', 'Phone repair with rice myth', 'Motorola Razr 2020', 'Asus ZenFone 5', 'LG G2 Mini', 'Oppo Find X', 'Smartphone', 'Nokia 7700', 'Vivo X60', 'GeeksPhone Revolution', 'Realme 5', 'Sony Xperia XZ Premium', 'Android version history', 'Oppo R7', 'LG V50 ThinQ', 'Motorola Atrix 4G', 'Tecno Camon 18', 'Sony Xperia X Compact', 'Jolla smartphone', 'HTC 7 Trophy', 'Sony Ericsson Satio', 'InFocus M810', 'Videotelephony', 'Moto E4', 'Sony Xperia XZ2 Premium', 'Samsung Galaxy S6', 'LG Leon', 'Genwi', 'Dell Streak', 'LG K92', 'SHIFT company', 'Xiaomi Mi Note 2', 'HTC 7 Mozart', 'UIQ', 'Motorola A910', 'Samsung Galaxy J6', 'LG K10 2017', 'Tecno Phantom X', 'LG V40 ThinQ', 'Nokia Lumia 620', 'Nexus One', 'Royole FlexPai', 'Smart Personal Objects Technology', 'Samsung Galaxy A12', 'Samsung Galaxy A51', 'O2 Xda', 'Samsung Galaxy A8 2015', 'Smartphone patent wars', 'Realme X2 Pro', 'Tecno Camon 12', 'Nokia C5-03', 'Samsung SPH-i300', 'Samsung Wave 525', 'Samsung Galaxy J6+', 'Huawei Nova 8', 'Samsung Galaxy Young 2', 'LG G8 ThinQ', 'Xiaomi Mi 4c', 'Samsung Galaxy Note Edge', 'Nokia 5250', 'Samsung Ativ S', 'Samsung Galaxy J1 2016', 'Samsung Galaxy M30', 'JXD P861', 'ZTE Tania', 'Xiaomi Mi 4i', 'Ubuntu Edge', 'Samsung Galaxy A53 5G', 'Samsung Galaxy C9 Pro', 'Samsung Galaxy E5', 'Sony Xperia X Performance', 'Samsung Galaxy M23', 'Tecno Pouvoir 4', 'Motorola Calgary', 'IBM Simon', 'Samsung Galaxy J7 Prime', 'Samsung Focus', 'Sony Xperia XA1', 'Infinix Hot 9 Pro', 'Vertu Ti', 'Nokia Lumia 830', 'Xiaomi Mi 8 EE', 'Samsung Galaxy J2', 'REX OS', 'Sony Xperia M2', 'Nokia 9 PureView', 'Nokia 701', 'Android Go', 'Nokia C6-01', 'Oppo F7', 'Sony Xperia Z Ultra', 'TUFF Phones', 'Windows Phone 8', 'Samsung Galaxy M20', 'Sony Xperia L', 'Sony Ericsson Xperia neo', 'Realme C3', 'Xiaomi Mi MIX 2S', 'Sony Xperia XZ', 'HTC Tattoo', 'Samsung Galaxy S Duos', 'Motorola A925', 'Honor 8x', 'Carrier IQ', 'Treo 650', 'Moto E5', 'Nokia 5500 Sport', 'Redmi Note 6 Pro', 'Samsung Focus 2', 'Huawei STREAM X GL07S', 'Samsung Galaxy A3 2016', 'Samsung Galaxy M52 5G', 'Oppo F17 Pro', 'LG Optimus Vu', 'HTC Wildfire S', 'Samsung Galaxy S III Progre', 'Nokia 6600', 'Samsung Galaxy A33 5G', 'Samsung Galaxy Y Plus', 'HTC Titan II', 'GeeksPhone One', 'Motorola A760', 'Nokia 6210 Navigator', 'Citrix Endpoint Management', 'HTC Desire', 'HTC One X9', 'Samsung Galaxy A3 2017', 'Xiaomi Mi 9', 'Google Pixel', 'Huawei P9', 'Motorola Edge+', 'Samsung Galaxy F52 5G', 'Samsung Galaxy M53', 'Moto G 2020', 'H1droid', 'Huawei Nova 7i', 'SHR operating system', 'Huawei Mate 20', 'Crowdsensing', 'Redmi Note Prime', 'Sony Xperia sola', 'Spice Stellar Nhance Mi-435', 'Vibo A688', 'Samsung Galaxy S 4G LTE', 'LG eXpo', 'LG V10', 'LG G7 ThinQ', 'Moto G 1st generation', 'Samsung Galaxy A52', 'Nokia Lumia 930', 'LG Vu 3', 'Samsung Galaxy A8s', 'Nokia 5320 XpressMusic', 'Samsung Galaxy R', 'Infinix Note 7', 'Samsung Galaxy M10', 'Super LCD', 'Samsung Galaxy Folder 2', 'Huawei P50', 'Nokia Communicator', 'HTC Desire Z', 'Samsung Galaxy A9 2018', 'LG V20', 'Essential Phone', 'Samsung Galaxy Spica', 'XL-Viewer 5000', 'Nokia 6760 Slide', 'Sony Xperia 5 III', 'LG G Flex 2', 'Samsung M900 Moment', 'Sony Xperia 10 III', 'Samsung Galaxy S7', 'Xiaomi Mi 10T', 'Nirvana Phone', 'LG Wing', 'Nokia Lumia 1520', 'Hiptop Included Software', 'Samsung Galaxy A13', 'Xiaomi Mi 1', 'Nokia Lumia 925', 'Nokia 5530 XpressMusic', 'Vivo NEX 3', 'HTC Explorer', 'Sony Xperia E4', 'Sony Xperia ZR', 'Samsung Omnia W', 'Huawei P10', 'Huawei U8800', 'Sony Ericsson P900', 'Windows Phone 7', 'Samsung Galaxy A50', 'Nokia N90', 'Realme Narzo 20 Pro', 'Pyongyang Touch', 'LG K62', 'Samsung Galaxy S II WiMAX', 'Samsung Galaxy J3 Prime', 'Samsung Galaxy S22', 'Ninetology Insight', 'Nokia Asha platform', 'Nokia 6670', 'Nokia Lumia 820', 'Samsung Galaxy', 'Huawei U8230', 'Samsung Galaxy S20 Tactical Edition', 'Huawei P40', 'Redmi Note 2', 'Palm Pre', 'Micromax Canvas HD A116', 'Siemens SX45', 'Redmi 5', 'HTC Wildfire', 'Kyocera Zio', 'Nokia 3650', 'HTC Dream', 'Sony Xperia Z3 Compact', 'Samsung Galaxy Core 2', 'Samsung Galaxy F42 5G', 'Xiaomi Mi 9 Pro', \"Casio G'zOne Commando\", 'Moto G8', 'T-Mobile Pulse', 'Micromax Ninja A89', 'Motorola Ming', 'Samsung Galaxy A30s', 'Ninetology Stealth II', 'Samsung Galaxy S20', 'Samsung Captivate Glide', 'Xiaomi Mi 2', 'Sony Xperia L3', 'Samsung Galaxy Note 10', 'Helio Ocean', 'Xiaomi Mi MIX 3', 'Samsung Galaxy J3 2017', 'Google Nexus', 'LG enV Touch', 'Siam 7X', 'Samsung Galaxy A7 2017', 'ROG Phone', 'Samsung i8910 Omnia HD', 'Sony Xperia 1 III', 'Symbian Foundation', 'Samsung i900 Omnia', 'CyanogenMod', 'Nokia Lumia 735', 'Sony Xperia neo L', 'Smartphone zombie', 'Blackphone', 'Samsung Galaxy Fame', 'Samsung Galaxy S II', 'Nokia Lumia 635', 'Pixel 6', 'Moto G 2021', 'Sony Xperia E', 'Huawei P20', 'Redmi Note 7', 'Sony Xperia Z2', 'LG G3', 'Nokia N9', 'Droid Turbo 2', 'Samsung Galaxy J4', 'NODE wireless sensor', 'Moto E 2020', 'Cat S60', 'Samsung Galaxy Fold', 'Samsung Galaxy J5', 'Tecno Spark 4', 'Xiaomi Mi A3', 'LG Optimus LTE', 'Adaptxt', 'Motorola A1000', 'LG L Fino', 'Samsung Galaxy Pocket Plus', 'Xiaomi MIX 4', 'Windows Mobile Smartphone', 'Samsung Galaxy A42 5G', 'Redmi 1S', 'Samsung Galaxy A7 2016', 'Series 80 software platform', 'Vivo V9', 'Xiaomi Mi A1', 'Vivo V1', 'Carbon 1 MK II', 'Redmi 2', 'Redmi 10', 'HTC Rhyme', 'Motorola Photon', 'Samsung Galaxy Folder', 'Samsung Galaxy Young', 'Droid Pro', 'Samsung Galaxy A23', 'Fairphone 2', 'LG G2', 'Rugged smartphone', 'Oppo Neo', 'Nokia 6620', 'Moto G4', 'Redmi K50', 'Vivo NEX Dual Display', 'LuneOS', 'Moto G7', 'Palm Pixi', 'Samsung Galaxy Gio', 'Nokia 6700 slide', 'HTC 7 Pro', 'Samsung Galaxy J2 2016', 'Samsung Galaxy J3 Pro', 'Samsung i8000 Omnia II', 'Nokia 5800 XpressMusic', 'LG G4', 'Chat line', 'Samsung Galaxy A73 5G', 'Samsung Galaxy A8 2016', 'Nokia 3250', 'Fairphone', 'Smartphone ad hoc network', 'LG Optimus L70', 'Motodext', 'Moto E7', 'Samsung Galaxy 3', 'Xiaomi Mi 11 Ultra', 'Motorola Atrix 2', 'Yondr', 'Sony Ericsson P800', 'Samsung Galaxy J5 2017', 'Nokia Asha 300', 'Nokia 6650 fold', 'Nokia Asha 311', 'Nokia 500', 'LG G Flex', 'Librem', 'Nokia 603', 'Samsung Galaxy M30s', 'LG Optimus L3', 'Sony Ericsson Xperia arc S', 'Redmi', 'Samsung Replenish', 'Sony Xperia C3', 'Nokia C7-00', 'Samsung Galaxy J7+', 'Droid Incredible', 'Motorola Defy', 'Micromax Canvas 2 Plus A110Q', 'Oppo Reno', 'Goophone', 'Sony Xperia XA2', 'Motorola Backflip', 'HTC Smart', 'HTC Desire S', 'Treo 680', 'HTC Legend', 'Nokia Lumia 625', 'Sony Ericsson Xperia neo V', 'Nokia X family', 'Redmi Note 5A', 'Sony Xperia Z1 Compact', 'Droid Turbo', 'GeeksPhone Keon', 'Verykool', 'Xiaomi Mi MIX', 'Nuvifone A50', 'Sony Xperia 1', 'Nokia N950', 'Nokia 7650', 'Samsung Galaxy A01', 'Sony Ericsson Xperia arc', 'Ninetology Pearl Mini', 'DxOMark', 'Samsung M810 Instinct S30', 'Celio Technology Corporation', 'Digital Ocean', 'Oppo R17', 'Sony Xperia PRO', 'Redmi K40', 'Moto G 5G', 'Moto E 2nd generation', 'Vivo V19', 'Nokia Lumia 822', 'Redmi 1', 'Moto E6', 'Oppo F9', 'Samsung Galaxy S10', 'Nokia 6.2', 'Sony Xperia E3', 'Samsung Galaxy J2 2018', 'Xiaomi Mi 10', 'Oppo Neo 5 2015', 'Samsung Galaxy A90 5G', 'LG G6', 'Samsung Galaxy J', 'Moto G 2nd generation', 'Samsung Galaxy Note 8', 'Samsung Galaxy Trend Lite', 'Greenphone', 'HTC Hero', 'Huawei Mate X2', 'LG G Pro 2', 'Xiaomi Mi 4', 'Pixel 4', 'ROG Phone 5', 'Huawei P30', 'Redmi Note 11', 'Samsung Galaxy Note 20', 'Oppo R15 Pro', 'Samsung Galaxy A01 Core', 'Xiaomi Mi MIX 2', 'Xiaomi Mi 11', 'Sony Xperia 5', 'Xiaomi Mi 10 Ultra', 'Motorola Devour', 'Nokia Lumia 920', 'Samsung Galaxy A20s', 'Asus ZenFone 6', 'HTC One Max', 'HTC One M7', 'Samsung Galaxy Pocket Neo', 'Samsung Galaxy Ace Plus', 'Treo 755p', 'Moto G5', 'Tecno Camon 17', 'Dell Venue Pro', 'Samsung SGH-G810', 'Kyocera 6035', 'Motorola Photon Q', 'Android Dev Phone', 'Huawei Ascend Y300', 'Halium', 'Redmi Note 9', 'Nokia 7610', 'Realme X50 Pro', 'Samsung Galaxy S4', 'Windows Phone version history', 'Sony Xperia XZ3', 'Samsung Galaxy S Advance', 'Intel AZ210', 'Sony Xperia M', 'Series 90 software platform', 'Moto G9', 'Xiaomi Mi A2', 'Samsung Galaxy A9 Pro 2016', 'Nokia N93i', 'Samsung Galaxy J4+', 'Sony Ericsson P1', 'LG Optimus 7', 'Sony Ericsson Live with Walkman', 'Sony Ericsson Xperia pro', 'LG V30', 'Samsung Galaxy A20', 'Samsung Galaxy Xcover FieldPro', 'Sony Xperia C5 Ultra', 'Samsung Galaxy A72', 'I-mate 810-F', 'HP Veer', 'Realme 5 Pro', 'Samsung Galaxy A22 5G', 'Samsung Galaxy Note 3 Neo', 'Xiaomi Mi 5c', 'Huawei U8860 Honor', 'Huawei Mate 30', 'Lenovo Vibe K5', 'Nokia Lumia 810', 'Pixel 5', 'Firefox OS', 'Oppo A9 2020', 'Samsung Galaxy Note 9', 'Samsung Galaxy A02', 'Samsung Galaxy S5', 'HTC 7 Surround', 'Symbian', 'Nokia Lumia 630', 'Sony Xperia E1', 'Huawei Nova 3i', 'Samsung Galaxy SL', 'Kodak Ektra phone', 'Samsung Infuse 4G', 'India Mobile Congress', 'Palm PDA', 'Fujitsu Toshiba IS12T', 'Samsung Galaxy C5 2017', 'T-Mobile myTouch 4G', 'HTC Windows Phone 8S', 'Microsoft Lumia 650', 'Microsoft Lumia 950 XL', 'Xiaomi Mi A2 Lite', 'Samsung Galaxy Prevail', 'Samsung Galaxy J8', 'LG Quantum', 'Vivo X50', 'Samsung Galaxy J2 Prime', 'Sony Xperia XZ1', 'Nokia 7.2', 'Samsung Galaxy A02s', 'Oppo Find X3', 'Redmi Go', 'Sony Xperia ZL', 'Sony Xperia Z5 Compact', 'Android software development', 'LG Optimus Q', 'Redmi Note 4', 'Nokia 700', 'Huawei Mate 8', 'Oppo Joy Plus', 'Samsung Galaxy A41', 'Vivo NEX', 'Redmi Note 3', 'HTC Raider 4G', 'Motorola Edge 20', 'Huawei Mate X', 'Samsung Galaxy A2 Core', 'HTC Desire HD', 'Nokia C5-00', 'Samsung Galaxy S', 'Sony Ericsson Xperia active', 'Redmi Note 8', 'Sailfish OS', 'LG VS740', 'Samsung Galaxy J3 2016', 'Nokia 6710 Navigator', 'Siemens SX1', 'Samsung Galaxy A40', 'Moto E3', 'Vivo Y3', 'Smartphone kill switch', 'Nexus 5X', 'Sony Xperia M4 Aqua', 'Sony Xperia 5 II', 'Micromax Canvas 2 A110', 'Sony Xperia L1', 'Nokia Asha 501', 'Sony Ericsson P990', 'N-Gage device', 'Xiaomi Pocophone F1', 'LG Optimus Vu II', 'LG Optimus L2', 'Redmi Note 5', 'Samsung Galaxy Y Pro DUOS', 'Vivo T1', 'Sony Xperia L2', 'Sony Ericsson Vivaz', 'Samsung Galaxy A6s', 'ZTE Max Duo', 'Openmoko Linux', 'LG K10', 'Tizen', 'Sony Xperia', 'Realme 3', 'Sony Xperia C', 'Moto G 5G Plus', 'Samsung SPH-i500', 'Motorola Edge', 'Windows Phone 8.1', 'Nokia 6110 Navigator', 'Moto G 3rd generation', 'ZTE Blade', 'Asus ZenFone 8', 'Samsung i300', 'Samsung Galaxy J7 2017', 'Oppo Joy 3', 'OPhone', 'LG Optimus original', 'Motorola i1', 'Xiaomi Mi 5 phone', 'Sony Xperia 1 II', 'Palm P850', 'Nokia 6630', 'HTC Advantage X7500', 'Nexus S', 'Bullitt Group', 'Moto G6', 'HTC Windows Phone 8X', 'Samsung Galaxy F41', 'Samsung Galaxy Note smartphone', 'Shiftphone', 'Samsung Galaxy Xcover 3', 'Nokia Asha series', 'Cat phone', 'HTC Titan', 'Pixel 5a', 'HTC Magic', 'MyDevice', 'Samsung Galaxy J2 Core', 'Sony Xperia XA', 'HP Elite x3', 'Sony Ericsson Xperia Mini Pro', 'Treo 600', 'Samsung v. Huawei', 'Samsung Galaxy A5 2017', 'Redmi 3', 'Sony Xperia Z5', 'Nokia Asha 303', 'T-Mobile myTouch 4G Slide', 'Xplore M98', 'Xiaomi Mi 2A', 'Poco X3', 'Samsung Galaxy A7 2018', 'Nokia 6290', 'Xplore G18', 'Sony Xperia Z3+', 'HTC Touch 3G', 'Samsung Galaxy J5 2016', 'Samsung Galaxy Star', 'BenQ P30', 'LG GW620', 'Pogo Mobile and nVoy', 'Samsung Galaxy S21', 'Sony Xperia X', 'Cat S50', 'Oppo Neo 5', 'Oppo N1', 'Acer smartphones', 'Lenovo Vibe Z', 'Arirang smartphone', 'Nubia Z20', 'Phablet', 'Samsung Galaxy A6 / A6+', 'Samsung Galaxy Note 3', 'LG Optimus L7', 'Samsung Galaxy J3 2018', 'Xiaomi Mi 2S', 'Samsung Galaxy F62', 'Redmi K30', 'Redmi 7A']\nCounter({'Samsung': 182, 'Galaxy': 157, 'Sony': 79, 'Nokia': 74, 'Xperia': 72, 'LG': 53, 'HTC': 34, 'Xiaomi': 31, 'Mi': 29, 'Note': 26, 'Redmi': 26, 'Huawei': 24, 'Lumia': 22, 'Pro': 22, 'Motorola': 21, 'Moto': 21, 'Oppo': 20, 'Phone': 18, 'Optimus': 18, 'Ericsson': 18, '2': 18, '5': 17, 'II': 16, 'S': 15, '3': 13, '7': 12, '5G': 12, 'X': 11, 'Vivo': 11, 'G': 11, '10': 10, '8': 10, 'Windows': 9, 'One': 9, 'Ninetology': 8, '4': 8, 'Asha': 8, '9': 8, 'Tecno': 8, '2017': 8, '2016': 8, 'Nexus': 7, 'Neo': 7, 'Smartphone': 7, '1': 7, 'Realme': 7, 'smartphone': 6, 'Mate': 6, '2018': 6, 'Touch': 6, 'Android': 6, 'MIX': 6, 'Compact': 6, 'Core': 6, '4G': 6, 'Plus': 6, 'Microsoft': 5, 'Palm': 5, 'Droid': 5, 'ThinQ': 5, 'Mobile': 5, 'Omnia': 5, 'Nova': 5, 'ZTE': 5, 'III': 5, 'generation': 5, 'Edge': 5, 'J2': 5, 'Pixel': 5, 'J3': 5, 'Xcover': 4, 'Find': 4, 'X2': 4, 'OS': 4, 'Asus': 4, 'ZenFone': 4, 'software': 4, 'platform': 4, 'A8': 4, 'Pocket': 4, 'Z': 4, 'GeeksPhone': 4, 'T-Mobile': 4, 'Y': 4, 'A9': 4, 'Camon': 4, 'ROG': 4, 'E': 4, '2020': 4, 'Prime': 4, 'Ultra': 4, 'Treo': 4, 'Desire': 4, '20': 4, 'Micromax': 4, 'XZ2': 3, 'Chat': 3, 'S60': 3, 'Ace': 3, 'Honor': 3, 'E5': 3, 'Communicator': 3, 'Infinix': 3, 'myTouch': 3, 'Z5': 3, 'Premium': 3, 'K10': 3, 'Lite': 3, 'Focus': 3, 'Max': 3, 'Kyocera': 3, 'Lenovo': 3, 'J7': 3, 'Fairphone': 3, 'Mini': 3, 'L': 3, 'neo': 3, '6': 3, 'A3': 3, 'Vu': 3, 'Navigator': 3, 'XpressMusic': 3, 'NEX': 3, 'Canvas': 3, 'HD': 3, 'A7': 3, 'Cat': 3, 'J5': 3, '11': 3, 'A2': 3, 'phone': 3, 'Pearl': 2, 'BlackBerry': 2, 'Z3': 2, 'G3': 2, 'PureView': 2, 'Wave': 2, 'original': 2, 'Duos': 2, 'Spice': 2, 'Stellar': 2, 'Ubuntu': 2, 'L4': 2, 'operating': 2, 'system': 2, 'Sensation': 2, 'L5': 2, 'XZ1': 2, 'Nubia': 2, 'Trend': 2, 'J4': 2, '950': 2, 'DUOS': 2, 'REX': 2, 'XL': 2, 'N-Gage': 2, 'Spark': 2, 'device': 2, 'Star': 2, 'K30': 2, '1st': 2, 'Z1': 2, '2021': 2, 'with': 2, 'G2': 2, 'XZ': 2, 'version': 2, 'history': 2, 'Atrix': 2, 'M810': 2, 'E4': 2, 'Dell': 2, 'Smart': 2, 'Technology': 2, '2015': 2, 'Young': 2, 'G8': 2, 'Go': 2, 'C3': 2, '2S': 2, '650': 2, 'Wildfire': 2, 'Titan': 2, 'Google': 2, 'LTE': 2, 'G7': 2, 'Folder': 2, 'Slide': 2, 'Flex': 2, 'A50': 2, 'S20': 2, 'Siemens': 2, 'L3': 2, 'Ocean': 2, 'Symbian': 2, 'Turbo': 2, 'Series': 2, 'Photon': 2, 'G4': 2, 'arc': 2, 'A01': 2, '2nd': 2, 'E3': 2, 'G6': 2, 'P30': 2, 'Q': 2, 'X50': 2, 'C5': 2, 'HP': 2, 'Vibe': 2, 'X3': 2, 'Joy': 2, 'L2': 2, 'Xplore': 2, 'M40': 1, 'Black': 1, 'Bioinstrumentation': 1, 'A32': 1, 'Velvet': 1, 'McLaren': 1, 'K20': 1, 'Problematic': 1, 'use': 1, 'A31': 1, 'Baidu': 1, 'Yi': 1, '1320': 1, '9300': 1, 'Saygus': 1, 'Stylus': 1, 'acro': 1, 'R11': 1, '7210': 1, 'M51': 1, 'A780': 1, 'Behold': 1, 'IOS': 1, 'S8': 1, '40': 1, 'Intuition': 1, '808': 1, '800': 1, '550': 1, 'mini': 1, '3230': 1, '575': 1, 'Vernee': 1, '5230': 1, 'U9Z1+': 1, 'C4': 1, 'M22': 1, 'MI-335': 1, 'Craze': 1, 'Nextbit': 1, 'Robin': 1, 'Flipout': 1, '310': 1, 'Reno2': 1, 'Beam': 1, 'i8530': 1, '9500': 1, 'A03': 1, 'HD7': 1, 'Chic': 1, 'Centro': 1, '900': 1, 'Peak': 1, 'by': 1, 'U9Z1': 1, '302': 1, 'Prada': 1, '3.0': 1, 'Alpha': 1, 'Trium': 1, 'Mondo': 1, 'Wickedleak': 1, 'Wammy': 1, 'Passion': 1, 'Curzon': 1, 'Memories': 1, 'App': 1, 'F5/F5': 1, 'Youth': 1, 'Win': 1, 'Radar': 1, 'Alcatel': 1, 'Fire': 1, '9210': 1, 'Momentem': 1, 'Umidigi': 1, 'V60': 1, '7710': 1, 'Soft': 1, 'Input': 1, 'Panel': 1, 'Grand': 1, 'M5': 1, 'CC9': 1, 'Fit': 1, '2014': 1, 'FreeRunner': 1, 'On7': 1, 'QD': 1, 'GrapheneOS': 1, 'ray': 1, 'Superphone': 1, 'Freedom': 1, '15': 1, 'My': 1, 'L9': 1, 'Ogo': 1, 'handheld': 1, 'Echo': 1, 'Orbit': 1, 'i8510': 1, 'Innov8': 1, 'PRO-I': 1, 'Open': 1, 'A70': 1, 'Sonic': 1, 'SP': 1, 'U9X1': 1, 'Razer': 1, 'Walton': 1, 'Primo': 1, 'X4': 1, 'B7610': 1, 'charging': 1, 'kiosk': 1, 'Garmin': 1, 'Nüvifone': 1, 'A82': 1, 'Viva': 1, 'Proto.io': 1, 'Python': 1, 'for': 1, 'A6000': 1, 'S9': 1, 'Minikit': 1, 'WebOS': 1, 'Play': 1, 'X7': 1, 'X5': 1, 'Outlook': 1, 'Pure': 1, '1973': 1, 'P910': 1, 'Cherry': 1, 'Flare': 1, '6680': 1, 'repair': 1, 'rice': 1, 'myth': 1, 'Razr': 1, '7700': 1, 'X60': 1, 'Revolution': 1, 'R7': 1, 'V50': 1, '18': 1, 'Jolla': 1, 'Trophy': 1, 'Satio': 1, 'InFocus': 1, 'Videotelephony': 1, 'S6': 1, 'Leon': 1, 'Genwi': 1, 'Streak': 1, 'K92': 1, 'SHIFT': 1, 'company': 1, 'Mozart': 1, 'UIQ': 1, 'A910': 1, 'J6': 1, 'Phantom': 1, 'V40': 1, '620': 1, 'Royole': 1, 'FlexPai': 1, 'Personal': 1, 'Objects': 1, 'A12': 1, 'A51': 1, 'O2': 1, 'Xda': 1, 'patent': 1, 'wars': 1, '12': 1, 'C5-03': 1, 'SPH-i300': 1, '525': 1, 'J6+': 1, '4c': 1, '5250': 1, 'Ativ': 1, 'J1': 1, 'M30': 1, 'JXD': 1, 'P861': 1, 'Tania': 1, '4i': 1, 'A53': 1, 'C9': 1, 'Performance': 1, 'M23': 1, 'Pouvoir': 1, 'Calgary': 1, 'IBM': 1, 'Simon': 1, 'XA1': 1, 'Hot': 1, 'Vertu': 1, 'Ti': 1, '830': 1, 'EE': 1, 'M2': 1, '701': 1, 'C6-01': 1, 'F7': 1, 'TUFF': 1, 'Phones': 1, 'M20': 1, 'Tattoo': 1, 'A925': 1, '8x': 1, 'Carrier': 1, 'IQ': 1, '5500': 1, 'Sport': 1, 'STREAM': 1, 'GL07S': 1, 'M52': 1, 'F17': 1, 'Progre': 1, '6600': 1, 'A33': 1, 'A760': 1, '6210': 1, 'Citrix': 1, 'Endpoint': 1, 'Management': 1, 'X9': 1, 'P9': 1, 'Edge+': 1, 'F52': 1, 'M53': 1, 'H1droid': 1, '7i': 1, 'SHR': 1, 'Crowdsensing': 1, 'sola': 1, 'Nhance': 1, 'Mi-435': 1, 'Vibo': 1, 'A688': 1, 'eXpo': 1, 'V10': 1, 'A52': 1, '930': 1, 'A8s': 1, '5320': 1, 'R': 1, 'M10': 1, 'Super': 1, 'LCD': 1, 'P50': 1, 'V20': 1, 'Essential': 1, 'Spica': 1, 'XL-Viewer': 1, '5000': 1, '6760': 1, 'M900': 1, 'Moment': 1, 'S7': 1, '10T': 1, 'Nirvana': 1, 'Wing': 1, '1520': 1, 'Hiptop': 1, 'Included': 1, 'Software': 1, 'A13': 1, '925': 1, '5530': 1, 'Explorer': 1, 'ZR': 1, 'W': 1, 'P10': 1, 'U8800': 1, 'P900': 1, 'N90': 1, 'Narzo': 1, 'Pyongyang': 1, 'K62': 1, 'WiMAX': 1, 'S22': 1, 'Insight': 1, '6670': 1, '820': 1, 'U8230': 1, 'Tactical': 1, 'Edition': 1, 'P40': 1, 'Pre': 1, 'A116': 1, 'SX45': 1, 'Zio': 1, '3650': 1, 'Dream': 1, 'F42': 1, 'Casio': 1, \"G'zOne\": 1, 'Commando': 1, 'Pulse': 1, 'Ninja': 1, 'A89': 1, 'Ming': 1, 'A30s': 1, 'Stealth': 1, 'Captivate': 1, 'Glide': 1, 'Helio': 1, 'enV': 1, 'Siam': 1, '7X': 1, 'i8910': 1, 'Foundation': 1, 'i900': 1, 'CyanogenMod': 1, '735': 1, 'zombie': 1, 'Blackphone': 1, 'Fame': 1, '635': 1, 'P20': 1, 'Z2': 1, 'N9': 1, 'NODE': 1, 'wireless': 1, 'sensor': 1, 'Fold': 1, 'Adaptxt': 1, 'A1000': 1, 'Fino': 1, 'A42': 1, '1S': 1, '80': 1, 'V9': 1, 'A1': 1, 'V1': 1, 'Carbon': 1, 'MK': 1, 'Rhyme': 1, 'A23': 1, 'Rugged': 1, '6620': 1, 'K50': 1, 'Dual': 1, 'Display': 1, 'LuneOS': 1, 'Pixi': 1, 'Gio': 1, '6700': 1, 'slide': 1, 'i8000': 1, '5800': 1, 'line': 1, 'A73': 1, '3250': 1, 'ad': 1, 'hoc': 1, 'network': 1, 'L70': 1, 'Motodext': 1, 'E7': 1, 'Yondr': 1, 'P800': 1, '300': 1, '6650': 1, 'fold': 1, '311': 1, '500': 1, 'Librem': 1, '603': 1, 'M30s': 1, 'Replenish': 1, 'C7-00': 1, 'J7+': 1, 'Incredible': 1, 'Defy': 1, 'A110Q': 1, 'Reno': 1, 'Goophone': 1, 'XA2': 1, 'Backflip': 1, '680': 1, 'Legend': 1, '625': 1, 'V': 1, 'family': 1, '5A': 1, 'Keon': 1, 'Verykool': 1, 'Nuvifone': 1, 'N950': 1, '7650': 1, 'DxOMark': 1, 'Instinct': 1, 'S30': 1, 'Celio': 1, 'Corporation': 1, 'Digital': 1, 'R17': 1, 'PRO': 1, 'K40': 1, 'V19': 1, '822': 1, 'E6': 1, 'F9': 1, 'S10': 1, '6.2': 1, 'A90': 1, 'J': 1, 'Greenphone': 1, 'Hero': 1, 'R15': 1, 'Devour': 1, '920': 1, 'A20s': 1, 'M7': 1, '755p': 1, 'G5': 1, '17': 1, 'Venue': 1, 'SGH-G810': 1, '6035': 1, 'Dev': 1, 'Ascend': 1, 'Y300': 1, 'Halium': 1, '7610': 1, 'S4': 1, 'XZ3': 1, 'Advance': 1, 'Intel': 1, 'AZ210': 1, 'M': 1, '90': 1, 'G9': 1, 'N93i': 1, 'J4+': 1, 'P1': 1, 'Live': 1, 'Walkman': 1, 'pro': 1, 'V30': 1, 'A20': 1, 'FieldPro': 1, 'A72': 1, 'I-mate': 1, '810-F': 1, 'Veer': 1, 'A22': 1, '5c': 1, 'U8860': 1, '30': 1, 'K5': 1, '810': 1, 'Firefox': 1, 'A02': 1, 'S5': 1, 'Surround': 1, '630': 1, 'E1': 1, '3i': 1, 'SL': 1, 'Kodak': 1, 'Ektra': 1, 'Infuse': 1, 'India': 1, 'Congress': 1, 'PDA': 1, 'Fujitsu': 1, 'Toshiba': 1, 'IS12T': 1, '8S': 1, 'Prevail': 1, 'J8': 1, 'Quantum': 1, '7.2': 1, 'A02s': 1, 'ZL': 1, 'development': 1, '700': 1, 'A41': 1, 'Raider': 1, 'C5-00': 1, 'active': 1, 'Sailfish': 1, 'VS740': 1, '6710': 1, 'SX1': 1, 'A40': 1, 'Y3': 1, 'kill': 1, 'switch': 1, '5X': 1, 'M4': 1, 'Aqua': 1, 'A110': 1, 'L1': 1, '501': 1, 'P990': 1, 'Pocophone': 1, 'F1': 1, 'T1': 1, 'Vivaz': 1, 'A6s': 1, 'Duo': 1, 'Openmoko': 1, 'Linux': 1, 'Tizen': 1, 'C': 1, 'SPH-i500': 1, '8.1': 1, '6110': 1, '3rd': 1, 'Blade': 1, 'i300': 1, 'OPhone': 1, 'i1': 1, 'P850': 1, '6630': 1, 'Advantage': 1, 'X7500': 1, 'Bullitt': 1, 'Group': 1, '8X': 1, 'F41': 1, 'Shiftphone': 1, 'series': 1, '5a': 1, 'Magic': 1, 'MyDevice': 1, 'XA': 1, 'Elite': 1, 'x3': 1, '600': 1, 'v.': 1, 'A5': 1, '303': 1, 'M98': 1, '2A': 1, 'Poco': 1, '6290': 1, 'G18': 1, 'Z3+': 1, '3G': 1, 'BenQ': 1, 'GW620': 1, 'Pogo': 1, 'and': 1, 'nVoy': 1, 'S21': 1, 'S50': 1, 'N1': 1, 'Acer': 1, 'smartphones': 1, 'Arirang': 1, 'Z20': 1, 'Phablet': 1, 'A6': 1, '/': 1, 'A6+': 1, 'L7': 1, 'F62': 1, '7A': 1})\nremove: ['Samsung']\n55 Category:Mobile phones introduced in 2021 ['Samsung Galaxy A52', 'Samsung Galaxy M52 5G', 'Tecno Camon 18', 'Samsung Galaxy M22', 'Huawei Nova 9', 'Nokia XR20', 'Oppo Reno6', 'Vivo T1', 'OnePlus 9', 'Pixel 6', 'Redmi Note 10', 'Moto G 2021', 'OnePlus Nord 2 5G', 'Samsung Galaxy A32', 'Sony Xperia PRO-I', 'Tecno Camon 17', 'Huawei P50', 'Samsung Galaxy Xcover 5', 'Pixel 5a', 'Realme Narzo 30 Pro', 'Moto G10', 'Sony Xperia 5 III', 'Samsung Galaxy F42 5G', 'Samsung Galaxy F52 5G', 'Oppo Find X3', 'Sony Xperia 10 III', 'OnePlus Nord N200 5G', 'Redmi K40', 'Samsung Galaxy A82 5G', 'Xiaomi Mi 11 Ultra', 'Samsung Galaxy A13', 'Tecno Phantom X', 'Asus ZenFone 8', 'Samsung Galaxy Z Flip 3', 'Samsung Galaxy Z Fold 3', 'Xiaomi MIX 4', 'Motorola Edge 20', 'Samsung Galaxy A03', 'Legion Duel 2', 'Samsung Galaxy A72', 'Samsung Galaxy A22 5G', 'Huawei Mate X2', 'Fairphone 4', 'Redmi 10', 'Samsung Galaxy S21', 'Samsung Galaxy A02', 'ROG Phone 5', 'Motorola Edge 2021', 'Tecno Spark 8', 'Sony Xperia 1 III', 'Vivo X60', 'Samsung Galaxy M32', 'Xiaomi Mi 11', 'Huawei Nova 8', 'Samsung Galaxy F62']\nCounter({'Samsung': 18, 'Galaxy': 18, '5G': 7, 'Tecno': 4, 'Huawei': 4, 'Sony': 4, 'Xperia': 4, 'OnePlus': 3, 'Redmi': 3, '10': 3, '5': 3, 'III': 3, 'Xiaomi': 3, '8': 3, 'Camon': 2, 'Nova': 2, '9': 2, 'Oppo': 2, 'Vivo': 2, 'Pixel': 2, 'Moto': 2, '2021': 2, 'Nord': 2, '2': 2, 'Mi': 2, '11': 2, 'Z': 2, '3': 2, '4': 2, 'Motorola': 2, 'Edge': 2, 'A52': 1, 'M52': 1, '18': 1, 'M22': 1, 'Nokia': 1, 'XR20': 1, 'Reno6': 1, 'T1': 1, '6': 1, 'Note': 1, 'G': 1, 'A32': 1, 'PRO-I': 1, '17': 1, 'P50': 1, 'Xcover': 1, '5a': 1, 'Realme': 1, 'Narzo': 1, '30': 1, 'Pro': 1, 'G10': 1, 'F42': 1, 'F52': 1, 'Find': 1, 'X3': 1, 'N200': 1, 'K40': 1, 'A82': 1, 'Ultra': 1, 'A13': 1, 'Phantom': 1, 'X': 1, 'Asus': 1, 'ZenFone': 1, 'Flip': 1, 'Fold': 1, 'MIX': 1, '20': 1, 'A03': 1, 'Legion': 1, 'Duel': 1, 'A72': 1, 'A22': 1, 'Mate': 1, 'X2': 1, 'Fairphone': 1, 'S21': 1, 'A02': 1, 'ROG': 1, 'Phone': 1, 'Spark': 1, '1': 1, 'X60': 1, 'M32': 1, 'F62': 1})\nremove: ['Samsung', 'Galaxy']\n110 Category:Digital audio players ['Empeg Car', 'Rio Riot', 'Sony Xperia Z4 Tablet', 'Sony NW-A800', 'Walkman A Series', 'The Pacemaker', 'Zune', 'Software used in the Personal Jukebox', 'Creative NOMAD', 'Sony Xperia Z3 Compact', 'ShoqBox', 'IPod Touch 4th generation', 'IPod Touch', 'Motorola i860', 'Rio Forge', 'Sony Xperia Z3', 'S1 MP3 player', 'Helio Ocean', 'Nexus One', 'LG enV Touch', 'PonoPlayer', 'Creative MuVo player models', 'Nokia C5-03', 'Sony NW-A810', 'Rio Carbon', 'Nokia 5230', 'IPod Touch 7th generation', 'Palm PDA', 'Nokia 5250', 'Sony Xperia X Performance', 'Sony Xperia Z2', 'Samsung M800 Instinct', 'Rio 500', 'HipZip', 'Rio PMP300', 'Sansa Fuze+', 'Sony Xperia Z', 'Sony Xperia Z3 Tablet Compact', 'Sony Xperia Z5 Compact', 'Zvue', 'MobiBLU DAH-1500i', 'Walkman F Series', 'Rio Karma', 'IPod Shuffle', 'Sansa c200 series', 'Nokia C5-00', 'Jewel Pod', 'Dell Digital Jukebox', 'Shuffle play', 'Sansa Fuze', 'Sony Xperia Z5 Premium', 'LG Voyager', 'Personal Jukebox', 'Gigabeat', 'Archos Gmini series', 'Cowon D2', 'IPod Classic', 'Waterproof audio player', 'Iriver H10 series', 'FiiO X Series', 'IAUDIO', 'Nokia 5800 XpressMusic', 'HTC TyTN', 'Walkman ZX Series', 'Sansa e200 series', 'Samsung YEPP', 'Philips GoGear', 'IPod Mini', 'Rio digital audio players', 'HTC Wizard', 'Oakley THUMP', 'Portable media player', 'Walkman Bean', 'Iriver E100', 'Microsoft PixelSense', 'Rockbox', 'HTC TyTN II', 'IPod Touch 6th generation', 'FM transmitter personal device', 'Archos Jukebox series', 'Sony Xperia Z1 Compact', 'MPMan', 'SanDisk Sansa', 'Iriver H100 series', 'Samsung YP-R0', 'IXI digital audio player', 'TrekStor Vibez', 'Samsung YP-R1', 'Sony Xperia XA', 'IPod Nano', 'Cube2', 'FiiO X3 Portable Music Player', 'Sony Xperia Tablet Z', 'Sony Xperia Z5', 'Q-Be', 'Olympus m:robe', 'Portable Media Center', 'IPod Touch 5th generation', 'Iriver H300 series', 'BeoSound 2', 'Walkman Circ', 'PhatBox', 'Creative Zen', 'Archos', 'Last position memory', 'Sony Xperia X', 'Archos Generation 4', 'Sony Xperia Z2 tablet', 'Creative MuVo', 'IPod']\nCounter({'Sony': 17, 'Xperia': 15, 'IPod': 10, 'Rio': 7, 'series': 7, 'Touch': 6, 'Walkman': 5, 'player': 5, 'Nokia': 5, 'Sansa': 5, 'Series': 4, 'Jukebox': 4, 'Creative': 4, 'Compact': 4, 'generation': 4, 'Samsung': 4, 'Archos': 4, 'Iriver': 4, 'Tablet': 3, 'Z3': 3, 'X': 3, 'Z5': 3, 'audio': 3, 'HTC': 3, 'Portable': 3, 'Personal': 2, 'LG': 2, 'MuVo': 2, 'Z2': 2, 'Z': 2, 'Shuffle': 2, 'FiiO': 2, 'TyTN': 2, 'digital': 2, 'Empeg': 1, 'Car': 1, 'Riot': 1, 'Z4': 1, 'NW-A800': 1, 'A': 1, 'The': 1, 'Pacemaker': 1, 'Zune': 1, 'Software': 1, 'used': 1, 'in': 1, 'the': 1, 'NOMAD': 1, 'ShoqBox': 1, '4th': 1, 'Motorola': 1, 'i860': 1, 'Forge': 1, 'S1': 1, 'MP3': 1, 'Helio': 1, 'Ocean': 1, 'Nexus': 1, 'One': 1, 'enV': 1, 'PonoPlayer': 1, 'models': 1, 'C5-03': 1, 'NW-A810': 1, 'Carbon': 1, '5230': 1, '7th': 1, 'Palm': 1, 'PDA': 1, '5250': 1, 'Performance': 1, 'M800': 1, 'Instinct': 1, '500': 1, 'HipZip': 1, 'PMP300': 1, 'Fuze+': 1, 'Zvue': 1, 'MobiBLU': 1, 'DAH-1500i': 1, 'F': 1, 'Karma': 1, 'c200': 1, 'C5-00': 1, 'Jewel': 1, 'Pod': 1, 'Dell': 1, 'Digital': 1, 'play': 1, 'Fuze': 1, 'Premium': 1, 'Voyager': 1, 'Gigabeat': 1, 'Gmini': 1, 'Cowon': 1, 'D2': 1, 'Classic': 1, 'Waterproof': 1, 'H10': 1, 'IAUDIO': 1, '5800': 1, 'XpressMusic': 1, 'ZX': 1, 'e200': 1, 'YEPP': 1, 'Philips': 1, 'GoGear': 1, 'Mini': 1, 'players': 1, 'Wizard': 1, 'Oakley': 1, 'THUMP': 1, 'media': 1, 'Bean': 1, 'E100': 1, 'Microsoft': 1, 'PixelSense': 1, 'Rockbox': 1, 'II': 1, '6th': 1, 'FM': 1, 'transmitter': 1, 'personal': 1, 'device': 1, 'Z1': 1, 'MPMan': 1, 'SanDisk': 1, 'H100': 1, 'YP-R0': 1, 'IXI': 1, 'TrekStor': 1, 'Vibez': 1, 'YP-R1': 1, 'XA': 1, 'Nano': 1, 'Cube2': 1, 'X3': 1, 'Music': 1, 'Player': 1, 'Q-Be': 1, 'Olympus': 1, 'm:robe': 1, 'Media': 1, 'Center': 1, '5th': 1, 'H300': 1, 'BeoSound': 1, '2': 1, 'Circ': 1, 'PhatBox': 1, 'Zen': 1, 'Last': 1, 'position': 1, 'memory': 1, 'Generation': 1, '4': 1, 'tablet': 1})\nremove: []\n52 Category:ITunes ['ITunes New Artist Spotlight', 'Cover Flow', 'DADVSI', 'IPod Classic', 'ITunes Ping', 'Censorship by Apple', 'AirPort', 'ITunes Radio', 'Template:ITunes Preview App', 'AirPlay', 'ITunes Applications', 'Apple Music Festival', 'ITunes Remote', 'Hymn software', 'Apple TV', 'ITunes Connect', 'IPod Nano', 'Genius iTunes', 'RioPort', 'Apple Music Up Next', 'Nike+', 'IPod game', 'IPod Touch', 'Digital Media Access Protocol', 'IOS app approvals', 'IPod Mini', 'QTFairUse', 'ITunes', 'Digital Audio Access Protocol', 'History of iTunes', 'Front Row software', 'MyTunes', 'SoundJam MP', 'AirTunes', 'App Store iOS/iPadOS', 'SharpMusique', 'Censorship of the iTunes Store', 'IPod Shuffle', 'ITunes LP', 'IPod+HP', 'ITunes Originals', 'Motorola Razr', 'FairPlay', 'OurTunes', 'ILife', 'ISync', 'Motorola ROKR', 'ITunes Store', 'Apple Lossless Audio Codec', 'Apple Remote', 'Digital booklet', 'IPod']\nCounter({'ITunes': 10, 'IPod': 7, 'Apple': 6, 'iTunes': 3, 'Digital': 3, 'Store': 3, 'Censorship': 2, 'App': 2, 'Music': 2, 'Remote': 2, 'software': 2, 'Access': 2, 'Protocol': 2, 'Audio': 2, 'of': 2, 'Motorola': 2, 'New': 1, 'Artist': 1, 'Spotlight': 1, 'Cover': 1, 'Flow': 1, 'DADVSI': 1, 'Classic': 1, 'Ping': 1, 'by': 1, 'AirPort': 1, 'Radio': 1, 'Template:ITunes': 1, 'Preview': 1, 'AirPlay': 1, 'Applications': 1, 'Festival': 1, 'Hymn': 1, 'TV': 1, 'Connect': 1, 'Nano': 1, 'Genius': 1, 'RioPort': 1, 'Up': 1, 'Next': 1, 'Nike+': 1, 'game': 1, 'Touch': 1, 'Media': 1, 'IOS': 1, 'app': 1, 'approvals': 1, 'Mini': 1, 'QTFairUse': 1, 'History': 1, 'Front': 1, 'Row': 1, 'MyTunes': 1, 'SoundJam': 1, 'MP': 1, 'AirTunes': 1, 'iOS/iPadOS': 1, 'SharpMusique': 1, 'the': 1, 'Shuffle': 1, 'LP': 1, 'IPod+HP': 1, 'Originals': 1, 'Razr': 1, 'FairPlay': 1, 'OurTunes': 1, 'ILife': 1, 'ISync': 1, 'ROKR': 1, 'Lossless': 1, 'Codec': 1, 'booklet': 1})\nremove: []\n74 Category:Mobile phones introduced in 2018 ['Nokia 8.1', 'Xiaomi Pocophone F1', 'Nokia 6.1 Plus', 'Nokia 8110 4G', 'Vivo NEX Dual Display', 'Samsung Galaxy A8s', 'Infinix Hot S3', 'Redmi Note 5', 'Nokia 8 Sirocco', 'Nubia X', 'Nokia 5.1 Plus', 'Nokia 2.1', 'Nokia 5.1', 'Samsung Galaxy A6s', 'Nokia 6.1', 'Sony Xperia XZ2 Premium', 'Huawei P20', 'Huawei Mediapad M5', 'Xiaomi Mi A2 Lite', 'Samsung Galaxy A9 2018', 'Motorola One', 'Samsung Galaxy J4 Core', 'Samsung Galaxy J2 Core', 'Samsung Galaxy J8', 'Moto Z3', 'Nokia 3.1 Plus', 'OnePlus 6T', 'Samsung Galaxy A8 Star', 'Samsung Galaxy J6+', 'Oppo R17', 'Samsung Galaxy J4', 'Nokia 3.1', 'Nokia 7 Plus', 'Sony Xperia XZ2', 'Sony Xperia XZ3', 'Xiaomi Mi 8 EE', 'Xiaomi Mi A2', 'Nokia 7.1', 'Samsung Galaxy J6', 'Samsung Galaxy J4+', 'Samsung Galaxy S9', 'LG V40 ThinQ', 'Oppo F7', 'Oppo F9', 'Honor 10', 'Samsung Galaxy A7 2018', 'Vivo NEX', 'Xiaomi Mi MIX 3', 'Vivo V9', 'Samsung Galaxy J2 2018', 'Moto Z3 Play', 'Huawei Mate 20', 'Xiaomi Mi MIX 2S', 'LG K10 2018', 'Samsung Galaxy Note 9', 'Sony Xperia XZ2 Compact', 'Samsung Galaxy A8 2018', 'Asus ZenFone 5', 'Honor 8x', 'Moto G6', 'OnePlus 6', 'ROG Phone', 'Oppo Find X', 'HTC U12+', 'Oppo R15 Pro', 'Samsung Galaxy A6 / A6+', 'Xiaomi Mi 8', 'Nokia 1', 'Pixel 3', 'Samsung Galaxy J3 2018', 'Redmi Note 6 Pro', 'Red Hydrogen One', 'LG G7 ThinQ', 'Palm companion']\nCounter({'Samsung': 18, 'Galaxy': 18, 'Nokia': 13, 'Xiaomi': 7, 'Mi': 6, '2018': 6, 'Oppo': 5, 'Plus': 4, 'Sony': 4, 'Xperia': 4, 'Vivo': 3, 'Note': 3, '8': 3, 'XZ2': 3, 'Huawei': 3, 'Moto': 3, 'LG': 3, '6.1': 2, 'NEX': 2, 'Redmi': 2, '5': 2, 'X': 2, '5.1': 2, 'A2': 2, 'One': 2, 'J4': 2, 'Core': 2, 'J2': 2, 'Z3': 2, '3.1': 2, 'OnePlus': 2, 'A8': 2, 'ThinQ': 2, 'Honor': 2, 'MIX': 2, '3': 2, '6': 2, 'Pro': 2, '8.1': 1, 'Pocophone': 1, 'F1': 1, '8110': 1, '4G': 1, 'Dual': 1, 'Display': 1, 'A8s': 1, 'Infinix': 1, 'Hot': 1, 'S3': 1, 'Sirocco': 1, 'Nubia': 1, '2.1': 1, 'A6s': 1, 'Premium': 1, 'P20': 1, 'Mediapad': 1, 'M5': 1, 'Lite': 1, 'A9': 1, 'Motorola': 1, 'J8': 1, '6T': 1, 'Star': 1, 'J6+': 1, 'R17': 1, '7': 1, 'XZ3': 1, 'EE': 1, '7.1': 1, 'J6': 1, 'J4+': 1, 'S9': 1, 'V40': 1, 'F7': 1, 'F9': 1, '10': 1, 'A7': 1, 'V9': 1, 'Play': 1, 'Mate': 1, '20': 1, '2S': 1, 'K10': 1, '9': 1, 'Compact': 1, 'Asus': 1, 'ZenFone': 1, '8x': 1, 'G6': 1, 'ROG': 1, 'Phone': 1, 'Find': 1, 'HTC': 1, 'U12+': 1, 'R15': 1, 'A6': 1, '/': 1, 'A6+': 1, '1': 1, 'Pixel': 1, 'J3': 1, 'Red': 1, 'Hydrogen': 1, 'G7': 1, 'Palm': 1, 'companion': 1})\nremove: ['Samsung', 'Galaxy']\n13 Category:Mobile phones introduced in 2022 ['Samsung Galaxy A73 5G', 'OnePlus 10 Pro', 'Samsung Galaxy S21', 'Redmi K50', 'Redmi Note 11', 'Samsung Galaxy S22', 'Vivo T1', 'Samsung Galaxy A53 5G', 'Samsung Galaxy A23', 'Samsung Galaxy A33 5G', 'Samsung Galaxy M23', 'Samsung Galaxy M53', 'Nothing Phone 1']\nCounter({'Samsung': 8, 'Galaxy': 8, '5G': 3, 'Redmi': 2, 'A73': 1, 'OnePlus': 1, '10': 1, 'Pro': 1, 'S21': 1, 'K50': 1, 'Note': 1, '11': 1, 'S22': 1, 'Vivo': 1, 'T1': 1, 'A53': 1, 'A23': 1, 'A33': 1, 'M23': 1, 'M53': 1, 'Nothing': 1, 'Phone': 1, '1': 1})\nremove: []\n82 Category:Mobile phones introduced in 2019 ['Samsung Galaxy M40', 'Samsung Galaxy A20s', 'LG V50 ThinQ', 'Asus ZenFone 6', 'OnePlus 7', 'Redmi K20', 'Samsung Galaxy A71', 'Samsung Galaxy A30', 'Sony Xperia 8', 'Nokia C1', 'Xiaomi Mi 9 Pro', 'Moto G8', 'Samsung Galaxy A30s', 'Nokia 2.2', 'Sony Xperia L3', 'Samsung Galaxy A20', 'Samsung Galaxy Note 10', 'Royole FlexPai', 'Samsung Galaxy Xcover FieldPro', 'Nokia 105 2019', 'Samsung Galaxy A51', 'Realme 5 Pro', 'Sony Xperia 10', 'Huawei Mate 30', 'Realme X2 Pro', 'Tecno Camon 12', 'Oppo A9 2020', 'Nokia 1 Plus', 'Samsung Galaxy A80', 'LG G8 ThinQ', 'Samsung Galaxy M30', 'Honor 20', 'Redmi Note 7', 'Fairphone 3', 'Nokia 7.2', 'Samsung Galaxy Fold', 'Oppo Reno2', 'Redmi Go', 'Tecno Spark 4', 'Xiaomi Mi A3', 'Nokia 9 PureView', 'Samsung Galaxy A10e', 'Huawei Mate X', 'Samsung Galaxy A2 Core', 'Samsung Galaxy M20', 'Redmi Note 8', 'Xiaomi Mi MIX Alpha', 'Samsung Galaxy A40', 'Vivo Y3', 'Nokia 2.3', 'Moto G7', 'OnePlus 7T', 'Xiaomi Mi 9', 'Realme 3', 'Xiaomi Mi CC9 Pro', 'Samsung Galaxy M30s', 'Moto Z4', 'Oppo Reno', 'ROG Phone II', 'Samsung Galaxy M10', 'Sony Xperia 1', 'Samsung Galaxy A01', 'Samsung Galaxy A70', 'Nokia 800 Tough', 'Pixel 3a', 'Vivo NEX 3', 'Samsung Galaxy S10', 'Nokia 6.2', 'Nokia 2720 Flip', 'Samsung Galaxy A90 5G', 'Nokia 4.2', 'Pixel 4', 'Samsung Galaxy A50', 'Nokia 3.2', 'Huawei P30', 'Motorola Razr 2020', 'Nubia Z20', 'Samsung Galaxy A10', 'Realme 5', 'Sony Xperia 5', 'Redmi K30', 'Redmi 7A']\nCounter({'Samsung': 24, 'Galaxy': 24, 'Nokia': 12, 'Redmi': 6, 'Sony': 5, 'Xperia': 5, 'Xiaomi': 5, 'Mi': 5, 'Pro': 4, 'Realme': 4, '9': 3, 'Moto': 3, 'Note': 3, '5': 3, 'Huawei': 3, 'Oppo': 3, '3': 3, 'LG': 2, 'ThinQ': 2, 'OnePlus': 2, '7': 2, '8': 2, 'G8': 2, '10': 2, 'Mate': 2, 'Tecno': 2, '2020': 2, '1': 2, '4': 2, 'Vivo': 2, 'Pixel': 2, 'M40': 1, 'A20s': 1, 'V50': 1, 'Asus': 1, 'ZenFone': 1, '6': 1, 'K20': 1, 'A71': 1, 'A30': 1, 'C1': 1, 'A30s': 1, '2.2': 1, 'L3': 1, 'A20': 1, 'Royole': 1, 'FlexPai': 1, 'Xcover': 1, 'FieldPro': 1, '105': 1, '2019': 1, 'A51': 1, '30': 1, 'X2': 1, 'Camon': 1, '12': 1, 'A9': 1, 'Plus': 1, 'A80': 1, 'M30': 1, 'Honor': 1, '20': 1, 'Fairphone': 1, '7.2': 1, 'Fold': 1, 'Reno2': 1, 'Go': 1, 'Spark': 1, 'A3': 1, 'PureView': 1, 'A10e': 1, 'X': 1, 'A2': 1, 'Core': 1, 'M20': 1, 'MIX': 1, 'Alpha': 1, 'A40': 1, 'Y3': 1, '2.3': 1, 'G7': 1, '7T': 1, 'CC9': 1, 'M30s': 1, 'Z4': 1, 'Reno': 1, 'ROG': 1, 'Phone': 1, 'II': 1, 'M10': 1, 'A01': 1, 'A70': 1, '800': 1, 'Tough': 1, '3a': 1, 'NEX': 1, 'S10': 1, '6.2': 1, '2720': 1, 'Flip': 1, 'A90': 1, '5G': 1, '4.2': 1, 'A50': 1, '3.2': 1, 'P30': 1, 'Motorola': 1, 'Razr': 1, 'Nubia': 1, 'Z20': 1, 'A10': 1, 'K30': 1, '7A': 1})\nremove: ['Samsung', 'Galaxy']\n73 Category:Mobile phones introduced in 2007 ['LG Venus', 'Nokia 7500', 'Nokia 5070', 'Sony Ericsson S500', 'Samsung SGH-G600', 'Sony Ericsson K810i', 'LG Trax CU575', 'HTC Touch Dual', 'Sony Ericsson W200', 'Samsung SPH-M620', 'Samsung SGH-G800', 'Nokia 3110 classic', 'HTC S730', 'Nokia 2760', 'LG Rumor original', 'Nokia 5700 XpressMusic', 'Nokia 6500 classic', 'Nokia 7900', 'Nokia N75', 'Nokia 6555', 'Motorola Razr2', 'Samsung SGH-U600', 'Samsung SPH-M300', 'Nokia 8600 Luna', 'Serenata phone', 'Nokia 6110 Navigator', 'Samsung SGH-T409', 'Sony Ericsson P1', 'Sony Ericsson W880i', 'Huawei U121', 'Nokia N95', 'Sony Ericsson W910i', 'Nokia N81', 'Nokia 6290', 'Helio Ocean', 'Sony Ericsson W610i', 'HTC Touch', 'Samsung SGH-T729 Blast', 'Nokia 2630', 'Samsung U740 Alias', 'Sony Ericsson K850i', 'Nokia N82', 'LG Viewty', 'Nokia 3500 classic', 'Sony Ericsson K770', 'Palm Centro', 'Sony Ericsson T650', 'Sony Ericsson W380', 'Samsung SGH-P520 Giorgio Armani', 'Sony Ericsson K200', 'Nokia E65', 'Samsung Ultra Smart F700', 'MyPhone', 'Nokia E51', 'Samsung SCH-U470', 'Samsung SGH-T639', 'Samsung SCH-U700', 'Samsung SGH-F210', 'HTC Advantage X7500', 'Samsung SGH-i600', 'LG Voyager', 'Sony Ericsson K550', 'Sony Ericsson W580i', 'Samsung SGH-E830', 'LG KS20', 'HTC TyTN II', 'LG Shine U970', 'HTC Cavalier', 'Nokia 5310', 'Nokia 5610 XpressMusic', 'Samsung Stripe', 'Sony Ericsson W960', 'LG Chocolate Spin VX8550']\nCounter({'Nokia': 21, 'Samsung': 17, 'Sony': 15, 'Ericsson': 15, 'LG': 8, 'HTC': 6, 'classic': 3, 'Touch': 2, 'XpressMusic': 2, 'Venus': 1, '7500': 1, '5070': 1, 'S500': 1, 'SGH-G600': 1, 'K810i': 1, 'Trax': 1, 'CU575': 1, 'Dual': 1, 'W200': 1, 'SPH-M620': 1, 'SGH-G800': 1, '3110': 1, 'S730': 1, '2760': 1, 'Rumor': 1, 'original': 1, '5700': 1, '6500': 1, '7900': 1, 'N75': 1, '6555': 1, 'Motorola': 1, 'Razr2': 1, 'SGH-U600': 1, 'SPH-M300': 1, '8600': 1, 'Luna': 1, 'Serenata': 1, 'phone': 1, '6110': 1, 'Navigator': 1, 'SGH-T409': 1, 'P1': 1, 'W880i': 1, 'Huawei': 1, 'U121': 1, 'N95': 1, 'W910i': 1, 'N81': 1, '6290': 1, 'Helio': 1, 'Ocean': 1, 'W610i': 1, 'SGH-T729': 1, 'Blast': 1, '2630': 1, 'U740': 1, 'Alias': 1, 'K850i': 1, 'N82': 1, 'Viewty': 1, '3500': 1, 'K770': 1, 'Palm': 1, 'Centro': 1, 'T650': 1, 'W380': 1, 'SGH-P520': 1, 'Giorgio': 1, 'Armani': 1, 'K200': 1, 'E65': 1, 'Ultra': 1, 'Smart': 1, 'F700': 1, 'MyPhone': 1, 'E51': 1, 'SCH-U470': 1, 'SGH-T639': 1, 'SCH-U700': 1, 'SGH-F210': 1, 'Advantage': 1, 'X7500': 1, 'SGH-i600': 1, 'Voyager': 1, 'K550': 1, 'W580i': 1, 'SGH-E830': 1, 'KS20': 1, 'TyTN': 1, 'II': 1, 'Shine': 1, 'U970': 1, 'Cavalier': 1, '5310': 1, '5610': 1, 'Stripe': 1, 'W960': 1, 'Chocolate': 1, 'Spin': 1, 'VX8550': 1})\nremove: ['Nokia', 'Samsung', 'Sony', 'Ericsson']\n96 Category:IOS ['IOS 9', 'Calendar Apple', 'IPad Pro 1st generation', 'Night Shift software', 'Health Apple', 'IPad 9th generation', '360 Web Browser', 'Bootloader unlocking', 'Touch ID', 'HomeKit', 'IPad Mini 2', 'Contacts Apple', 'IPod Touch 4th generation', 'IPad 4th generation', 'IPod Touch', 'IPad Mini 3', 'IFund', 'IPad Pro 2nd generation', 'Apple Photos', 'Clock Apple', 'IPad Pro 3rd generation', 'IPad 5th generation', 'IPad Mini 4', 'IOS', 'Apple Push Notification service', 'CocoonJS', 'IOS 11', 'IPod Touch 7th generation', 'IOS version history', 'Weather Apple', 'Inter-App Audio', 'IPad 8th generation', 'Calculator Apple', 'FaceTime', 'IPad Pro', 'IOS 15', 'Fitness Apple', 'Bridgefy', 'IPad Air', 'IPad Air 4th generation', 'AirPrint', 'IOS 4', 'IPad Mini 5th generation', 'Face ID', 'Apple Mail', 'IPad Air 2', 'IPad Pro 4th generation', 'TvOS', 'IPad Pro 5th generation', 'IPad', 'IPSW', 'IOS 5', 'UDID', 'File:Stride and Prejudice.png', 'Template:IOS', 'IPad 2', 'Find My Friends', 'IPad Mini', 'Issues relating to the iOS operating system', 'IOS 12', 'IOS SDK', 'IPad 7th generation', 'IPad Mini 6th generation', 'IPad Mini 1st generation', 'Game Center', 'Find My', 'After School app', 'IPad 1st generation', 'Safari web browser', 'IOS 14', 'IPad Air 5th generation', 'IPod Touch 6th generation', 'IOS 8', 'Masque Attack', 'Pre-installed iOS apps', 'WatchOS', 'Template:ITunes Preview App', 'IPad 6th generation', 'IOS 6', 'IPad Air 3rd generation', 'IOS 13', 'Files Apple', 'IAd', 'Apple File System', 'Xcode', 'IPad 3rd generation', 'Settings Apple', 'BeeSafe', 'IPod Touch 5th generation', 'IOS 7', 'AirDrop', 'ICloud', 'Apple TV app', 'Metal API', 'IOS 10', 'Cocoa Touch']\nCounter({'IPad': 28, 'generation': 23, 'IOS': 15, 'Apple': 14, 'Touch': 7, 'Mini': 7, 'Pro': 6, 'IPod': 5, '5th': 5, 'Air': 5, '4th': 4, '1st': 3, '2': 3, '3rd': 3, '6th': 3, 'ID': 2, '4': 2, '7th': 2, 'Find': 2, 'My': 2, 'iOS': 2, 'app': 2, '9': 1, 'Calendar': 1, 'Night': 1, 'Shift': 1, 'software': 1, 'Health': 1, '9th': 1, '360': 1, 'Web': 1, 'Browser': 1, 'Bootloader': 1, 'unlocking': 1, 'HomeKit': 1, 'Contacts': 1, '3': 1, 'IFund': 1, '2nd': 1, 'Photos': 1, 'Clock': 1, 'Push': 1, 'Notification': 1, 'service': 1, 'CocoonJS': 1, '11': 1, 'version': 1, 'history': 1, 'Weather': 1, 'Inter-App': 1, 'Audio': 1, '8th': 1, 'Calculator': 1, 'FaceTime': 1, '15': 1, 'Fitness': 1, 'Bridgefy': 1, 'AirPrint': 1, 'Face': 1, 'Mail': 1, 'TvOS': 1, 'IPSW': 1, '5': 1, 'UDID': 1, 'File:Stride': 1, 'and': 1, 'Prejudice.png': 1, 'Template:IOS': 1, 'Friends': 1, 'Issues': 1, 'relating': 1, 'to': 1, 'the': 1, 'operating': 1, 'system': 1, '12': 1, 'SDK': 1, 'Game': 1, 'Center': 1, 'After': 1, 'School': 1, 'Safari': 1, 'web': 1, 'browser': 1, '14': 1, '8': 1, 'Masque': 1, 'Attack': 1, 'Pre-installed': 1, 'apps': 1, 'WatchOS': 1, 'Template:ITunes': 1, 'Preview': 1, 'App': 1, '6': 1, '13': 1, 'Files': 1, 'IAd': 1, 'File': 1, 'System': 1, 'Xcode': 1, 'Settings': 1, 'BeeSafe': 1, '7': 1, 'AirDrop': 1, 'ICloud': 1, 'TV': 1, 'Metal': 1, 'API': 1, '10': 1, 'Cocoa': 1})\nremove: ['IPad', 'generation']\nIPhone\n",
     "output_type": "stream"
    }
   ],
   "execution_count": null
  },
  {
   "cell_type": "code",
   "metadata": {
    "cell_id": "de4d96a8016146378b241b27df52a66b",
    "tags": [],
    "deepnote_to_be_reexecuted": true,
    "source_hash": "532bdee9",
    "execution_start": 1650164033196,
    "execution_millis": 968120,
    "owner_user_id": "d1c3db5a-4505-48be-99b3-4a4061f5f711",
    "deepnote_cell_type": "code",
    "deepnote_cell_height": 755
   },
   "source": "#Find and rank top results\n# df_final = crfnt.calculate_final_results_for_wiki_term(wiki_term, mvp_flag)\n# df_final = crfnt.calculate_final_results_for_wiki_term('Catan', True)\ndf_final = crfnt.calculate_final_results_for_wiki_term('IPhone', True)",
   "execution_count": 4,
   "outputs": [
    {
     "name": "stdout",
     "text": "Wikipedia term: IPhone\nSee wikipedia categories and number of article saved as training data to be labeled.\nCategory:Mobile phones introduced in 2020 79 79\nCategory:Smartphones 279 200\nCategory:Mobile phones introduced in 2021 334 55\nCategory:Digital audio players 444 110\nCategory:ITunes 496 52\nCategory:Mobile phones introduced in 2018 570 74\nCategory:Mobile phones introduced in 2022 583 13\nCategory:Mobile phones introduced in 2019 665 82\nCategory:Mobile phones introduced in 2007 738 73\nCategory:IOS 834 96\nmvp! wikipedia article already parsed and labeled.\n27730 sentences from wikipedia available to train on\nCounter({'N': 699532, 'Y': 12813}) numbers of each label from wikipedia\nReady to train.\nTrainer created, will use max of 10000 of 22184 items\nTraining data joined\ntraining with params: ['feature.minfreq', 'feature.possible_states', 'feature.possible_transitions', 'c1', 'c2', 'max_iterations', 'num_memories', 'epsilon', 'period', 'delta', 'linesearch', 'max_linesearch']\ntrainer_features: {'num': 200, 'scores': {}, 'loss': 5074.09683, 'feature_norm': 50.914994, 'error_norm': 12.985519, 'active_features': 2050, 'linesearch_trials': 1, 'linesearch_step': 1.0, 'time': 0.177}\nSample test sentence and predicted/actual tags\nWhen slid down in the horizontal position , it revealed a 35 - key QWERTY keyboard .\n\nPredicted: N N N N N N N N N N N N N N N N N\nActual:   N N N N N N N N N N N N N N N N N\nIPhone\n  class  precision  recall  f1_score  support\n0     N       0.99    1.00      0.99   139078\n1     Y       0.74    0.55      0.63     2534\nNumber of Sentences in Reddit text: 5431\nSome example sentences:\nTrue but it in the Middle East\nDepends\nYes but this sub is biased\niPhone 11\nCutout but I don’t hate the notch\nThe current weather app on iPhone shows more information not shown in the widgets.Dark Sky is on iPadOS which got bought by Apple but it will stop working this year.Also there is the Weather Channel app but some features need a subscription and also ads.I think a Calculator is more important but it probably needs to be more complex then the current one on iPhone that is more similar to Scientific Calculator. There on the App Store but a lot need subscriptions or have ads. You can also use the search bar or spot light search for calculations which I use more.\nAt least it’s better then most Google Apps.\nWeather and Calculator app for the iPad but that’s never ever going to happen.\nI am waiting for the iPhone 16 or 17 Pro\nWireless charging is the reason why aluminum is no longer used in phones backs.\nDumping: ./output_step5/counter_crf_tagged_phrases_IPhone.pickle ./output_step5/counter_crf_exact_phrases_IPhone.pickle\nIPhone finished\n",
     "output_type": "stream"
    }
   ]
  },
  {
   "cell_type": "code",
   "metadata": {
    "cell_id": "30f37d5769954d8ea1a4b6833e5d603a",
    "tags": [],
    "deepnote_to_be_reexecuted": true,
    "source_hash": "5d0cd32d",
    "execution_start": 1650137174104,
    "execution_millis": 1666,
    "deepnote_cell_type": "code",
    "deepnote_cell_height": 600
   },
   "source": "df_final",
   "outputs": [
    {
     "output_type": "execute_result",
     "execution_count": 19,
     "data": {
      "application/vnd.deepnote.dataframe.v3+json": {
       "column_count": 5,
       "row_count": 21,
       "columns": [
        {
         "name": "Entity",
         "dtype": "object",
         "stats": {
          "unique_count": 21,
          "nan_count": 0,
          "categories": [
           {
            "name": "WALLET",
            "count": 1
           },
           {
            "name": "PRADA",
            "count": 1
           },
           {
            "name": "19 others",
            "count": 19
           }
          ]
         }
        },
        {
         "name": "CRF_Model_Found",
         "dtype": "float64",
         "stats": {
          "unique_count": 7,
          "nan_count": 8,
          "min": "1.0",
          "max": "12.0",
          "histogram": [
           {
            "bin_start": 1,
            "bin_end": 2.1,
            "count": 8
           },
           {
            "bin_start": 2.1,
            "bin_end": 3.2,
            "count": 0
           },
           {
            "bin_start": 3.2,
            "bin_end": 4.300000000000001,
            "count": 1
           },
           {
            "bin_start": 4.300000000000001,
            "bin_end": 5.4,
            "count": 1
           },
           {
            "bin_start": 5.4,
            "bin_end": 6.5,
            "count": 0
           },
           {
            "bin_start": 6.5,
            "bin_end": 7.6000000000000005,
            "count": 1
           },
           {
            "bin_start": 7.6000000000000005,
            "bin_end": 8.700000000000001,
            "count": 0
           },
           {
            "bin_start": 8.700000000000001,
            "bin_end": 9.8,
            "count": 0
           },
           {
            "bin_start": 9.8,
            "bin_end": 10.9,
            "count": 1
           },
           {
            "bin_start": 10.9,
            "bin_end": 12,
            "count": 1
           }
          ]
         }
        },
        {
         "name": "Exact_CRF",
         "dtype": "float64",
         "stats": {
          "unique_count": 9,
          "nan_count": 8,
          "min": "0.0",
          "max": "30.0",
          "histogram": [
           {
            "bin_start": 0,
            "bin_end": 3,
            "count": 5
           },
           {
            "bin_start": 3,
            "bin_end": 6,
            "count": 2
           },
           {
            "bin_start": 6,
            "bin_end": 9,
            "count": 1
           },
           {
            "bin_start": 9,
            "bin_end": 12,
            "count": 2
           },
           {
            "bin_start": 12,
            "bin_end": 15,
            "count": 1
           },
           {
            "bin_start": 15,
            "bin_end": 18,
            "count": 1
           },
           {
            "bin_start": 18,
            "bin_end": 21,
            "count": 0
           },
           {
            "bin_start": 21,
            "bin_end": 24,
            "count": 0
           },
           {
            "bin_start": 24,
            "bin_end": 27,
            "count": 0
           },
           {
            "bin_start": 27,
            "bin_end": 30,
            "count": 1
           }
          ]
         }
        },
        {
         "name": "Exact_Whitelist",
         "dtype": "float64",
         "stats": {
          "unique_count": 8,
          "nan_count": 7,
          "min": "1.0",
          "max": "11.0",
          "histogram": [
           {
            "bin_start": 1,
            "bin_end": 2,
            "count": 6
           },
           {
            "bin_start": 2,
            "bin_end": 3,
            "count": 1
           },
           {
            "bin_start": 3,
            "bin_end": 4,
            "count": 1
           },
           {
            "bin_start": 4,
            "bin_end": 5,
            "count": 0
           },
           {
            "bin_start": 5,
            "bin_end": 6,
            "count": 2
           },
           {
            "bin_start": 6,
            "bin_end": 7,
            "count": 1
           },
           {
            "bin_start": 7,
            "bin_end": 8,
            "count": 0
           },
           {
            "bin_start": 8,
            "bin_end": 9,
            "count": 0
           },
           {
            "bin_start": 9,
            "bin_end": 10,
            "count": 1
           },
           {
            "bin_start": 10,
            "bin_end": 11,
            "count": 2
           }
          ]
         }
        },
        {
         "name": "CRF_Recall",
         "dtype": "float64",
         "stats": {
          "unique_count": 6,
          "nan_count": 8,
          "min": "0.06666666666666667",
          "max": "inf",
          "histogram": [
           {
            "bin_start": 0.06666666666666667,
            "bin_end": 0.16,
            "count": 1
           },
           {
            "bin_start": 0.16,
            "bin_end": 0.25333333333333335,
            "count": 0
           },
           {
            "bin_start": 0.25333333333333335,
            "bin_end": 0.3466666666666667,
            "count": 3
           },
           {
            "bin_start": 0.3466666666666667,
            "bin_end": 0.44,
            "count": 0
           },
           {
            "bin_start": 0.44,
            "bin_end": 0.5333333333333333,
            "count": 0
           },
           {
            "bin_start": 0.5333333333333333,
            "bin_end": 0.6266666666666667,
            "count": 0
           },
           {
            "bin_start": 0.6266666666666667,
            "bin_end": 0.72,
            "count": 2
           },
           {
            "bin_start": 0.72,
            "bin_end": 0.8133333333333334,
            "count": 0
           },
           {
            "bin_start": 0.8133333333333334,
            "bin_end": 0.9066666666666667,
            "count": 0
           },
           {
            "bin_start": 0.9066666666666667,
            "bin_end": 1,
            "count": 5
           }
          ]
         }
        },
        {
         "name": "_deepnote_index_column",
         "dtype": "int64"
        }
       ],
       "rows": [
        {
         "Entity": "WALLET",
         "CRF_Model_Found": 12,
         "Exact_CRF": 17,
         "Exact_Whitelist": 11,
         "CRF_Recall": 0.7058823529411765,
         "_deepnote_index_column": 19
        },
        {
         "Entity": "PRADA",
         "CRF_Model_Found": 10,
         "Exact_CRF": 10,
         "Exact_Whitelist": 10,
         "CRF_Recall": 1,
         "_deepnote_index_column": 16
        },
        {
         "Entity": "GUCCI",
         "CRF_Model_Found": 7,
         "Exact_CRF": 10,
         "Exact_Whitelist": 9,
         "CRF_Recall": 0.7,
         "_deepnote_index_column": 5
        },
        {
         "Entity": "FENDI",
         "CRF_Model_Found": 5,
         "Exact_CRF": 5,
         "Exact_Whitelist": 5,
         "CRF_Recall": 1,
         "_deepnote_index_column": 3
        },
        {
         "Entity": "ISSEY MIYAKE",
         "CRF_Model_Found": 4,
         "Exact_CRF": 12,
         "Exact_Whitelist": 5,
         "CRF_Recall": 0.3333333333333333,
         "_deepnote_index_column": 6
        },
        {
         "Entity": "DEPEND",
         "CRF_Model_Found": 2,
         "Exact_CRF": 30,
         "Exact_Whitelist": "nan",
         "CRF_Recall": 0.06666666666666667,
         "_deepnote_index_column": 1
        },
        {
         "Entity": "MAISON MARGIELA",
         "CRF_Model_Found": 2,
         "Exact_CRF": 6,
         "Exact_Whitelist": "nan",
         "CRF_Recall": 0.3333333333333333,
         "_deepnote_index_column": 11
        },
        {
         "Entity": "SUNNY",
         "CRF_Model_Found": 1,
         "Exact_CRF": 3,
         "Exact_Whitelist": "nan",
         "CRF_Recall": 0.3333333333333333,
         "_deepnote_index_column": 18
        },
        {
         "Entity": "LOUIS VUITTON",
         "CRF_Model_Found": 1,
         "Exact_CRF": 1,
         "Exact_Whitelist": 1,
         "CRF_Recall": 1,
         "_deepnote_index_column": 10
        },
        {
         "Entity": "MAISON MARGIELA BAG",
         "CRF_Model_Found": 1,
         "Exact_CRF": 1,
         "Exact_Whitelist": "nan",
         "CRF_Recall": 1,
         "_deepnote_index_column": 12
        }
       ]
      },
      "text/plain": "                                      Entity  CRF_Model_Found  Exact_CRF  \\\n19                                    WALLET             12.0       17.0   \n16                                     PRADA             10.0       10.0   \n5                                      GUCCI              7.0       10.0   \n3                                      FENDI              5.0        5.0   \n6                               ISSEY MIYAKE              4.0       12.0   \n1                                     DEPEND              2.0       30.0   \n11                           MAISON MARGIELA              2.0        6.0   \n18                                     SUNNY              1.0        3.0   \n10                             LOUIS VUITTON              1.0        1.0   \n12                       MAISON MARGIELA BAG              1.0        1.0   \n20                           Y O U NOT I N G              1.0        1.0   \n7   ISSEY MIYAKE JACKET : BOTTEGA VENETA BAG              1.0        0.0   \n8                         ISSEY MIYAKE SHIRT              1.0        0.0   \n0                                 AIR JORDAN              NaN        NaN   \n2                                 DRESS SHOE              NaN        NaN   \n4                                 FLIGHT BAG              NaN        NaN   \n9                                     IT BAG              NaN        NaN   \n13                             MESSENGER BAG              NaN        NaN   \n14                                     MYMTA              NaN        NaN   \n15                                     O BAG              NaN        NaN   \n17                                   SATCHEL              NaN        NaN   \n\n    Exact_Whitelist  CRF_Recall  \n19             11.0    0.705882  \n16             10.0    1.000000  \n5               9.0    0.700000  \n3               5.0    1.000000  \n6               5.0    0.333333  \n1               NaN    0.066667  \n11              NaN    0.333333  \n18              NaN    0.333333  \n10              1.0    1.000000  \n12              NaN    1.000000  \n20              NaN    1.000000  \n7               NaN         inf  \n8               NaN         inf  \n0               1.0         NaN  \n2               1.0         NaN  \n4               1.0         NaN  \n9               3.0         NaN  \n13              6.0         NaN  \n14              1.0         NaN  \n15              2.0         NaN  \n17              1.0         NaN  ",
      "text/html": "<div>\n<style scoped>\n    .dataframe tbody tr th:only-of-type {\n        vertical-align: middle;\n    }\n\n    .dataframe tbody tr th {\n        vertical-align: top;\n    }\n\n    .dataframe thead th {\n        text-align: right;\n    }\n</style>\n<table border=\"1\" class=\"dataframe\">\n  <thead>\n    <tr style=\"text-align: right;\">\n      <th></th>\n      <th>Entity</th>\n      <th>CRF_Model_Found</th>\n      <th>Exact_CRF</th>\n      <th>Exact_Whitelist</th>\n      <th>CRF_Recall</th>\n    </tr>\n  </thead>\n  <tbody>\n    <tr>\n      <th>19</th>\n      <td>WALLET</td>\n      <td>12.0</td>\n      <td>17.0</td>\n      <td>11.0</td>\n      <td>0.705882</td>\n    </tr>\n    <tr>\n      <th>16</th>\n      <td>PRADA</td>\n      <td>10.0</td>\n      <td>10.0</td>\n      <td>10.0</td>\n      <td>1.000000</td>\n    </tr>\n    <tr>\n      <th>5</th>\n      <td>GUCCI</td>\n      <td>7.0</td>\n      <td>10.0</td>\n      <td>9.0</td>\n      <td>0.700000</td>\n    </tr>\n    <tr>\n      <th>3</th>\n      <td>FENDI</td>\n      <td>5.0</td>\n      <td>5.0</td>\n      <td>5.0</td>\n      <td>1.000000</td>\n    </tr>\n    <tr>\n      <th>6</th>\n      <td>ISSEY MIYAKE</td>\n      <td>4.0</td>\n      <td>12.0</td>\n      <td>5.0</td>\n      <td>0.333333</td>\n    </tr>\n    <tr>\n      <th>1</th>\n      <td>DEPEND</td>\n      <td>2.0</td>\n      <td>30.0</td>\n      <td>NaN</td>\n      <td>0.066667</td>\n    </tr>\n    <tr>\n      <th>11</th>\n      <td>MAISON MARGIELA</td>\n      <td>2.0</td>\n      <td>6.0</td>\n      <td>NaN</td>\n      <td>0.333333</td>\n    </tr>\n    <tr>\n      <th>18</th>\n      <td>SUNNY</td>\n      <td>1.0</td>\n      <td>3.0</td>\n      <td>NaN</td>\n      <td>0.333333</td>\n    </tr>\n    <tr>\n      <th>10</th>\n      <td>LOUIS VUITTON</td>\n      <td>1.0</td>\n      <td>1.0</td>\n      <td>1.0</td>\n      <td>1.000000</td>\n    </tr>\n    <tr>\n      <th>12</th>\n      <td>MAISON MARGIELA BAG</td>\n      <td>1.0</td>\n      <td>1.0</td>\n      <td>NaN</td>\n      <td>1.000000</td>\n    </tr>\n    <tr>\n      <th>20</th>\n      <td>Y O U NOT I N G</td>\n      <td>1.0</td>\n      <td>1.0</td>\n      <td>NaN</td>\n      <td>1.000000</td>\n    </tr>\n    <tr>\n      <th>7</th>\n      <td>ISSEY MIYAKE JACKET : BOTTEGA VENETA BAG</td>\n      <td>1.0</td>\n      <td>0.0</td>\n      <td>NaN</td>\n      <td>inf</td>\n    </tr>\n    <tr>\n      <th>8</th>\n      <td>ISSEY MIYAKE SHIRT</td>\n      <td>1.0</td>\n      <td>0.0</td>\n      <td>NaN</td>\n      <td>inf</td>\n    </tr>\n    <tr>\n      <th>0</th>\n      <td>AIR JORDAN</td>\n      <td>NaN</td>\n      <td>NaN</td>\n      <td>1.0</td>\n      <td>NaN</td>\n    </tr>\n    <tr>\n      <th>2</th>\n      <td>DRESS SHOE</td>\n      <td>NaN</td>\n      <td>NaN</td>\n      <td>1.0</td>\n      <td>NaN</td>\n    </tr>\n    <tr>\n      <th>4</th>\n      <td>FLIGHT BAG</td>\n      <td>NaN</td>\n      <td>NaN</td>\n      <td>1.0</td>\n      <td>NaN</td>\n    </tr>\n    <tr>\n      <th>9</th>\n      <td>IT BAG</td>\n      <td>NaN</td>\n      <td>NaN</td>\n      <td>3.0</td>\n      <td>NaN</td>\n    </tr>\n    <tr>\n      <th>13</th>\n      <td>MESSENGER BAG</td>\n      <td>NaN</td>\n      <td>NaN</td>\n      <td>6.0</td>\n      <td>NaN</td>\n    </tr>\n    <tr>\n      <th>14</th>\n      <td>MYMTA</td>\n      <td>NaN</td>\n      <td>NaN</td>\n      <td>1.0</td>\n      <td>NaN</td>\n    </tr>\n    <tr>\n      <th>15</th>\n      <td>O BAG</td>\n      <td>NaN</td>\n      <td>NaN</td>\n      <td>2.0</td>\n      <td>NaN</td>\n    </tr>\n    <tr>\n      <th>17</th>\n      <td>SATCHEL</td>\n      <td>NaN</td>\n      <td>NaN</td>\n      <td>1.0</td>\n      <td>NaN</td>\n    </tr>\n  </tbody>\n</table>\n</div>"
     },
     "metadata": {}
    }
   ],
   "execution_count": null
  },
  {
   "cell_type": "code",
   "source": "_deepnote_run_altair(df_final, \"\"\"{\"$schema\":\"https://vega.github.io/schema/vega-lite/v4.json\",\"mark\":{\"type\":\"bar\",\"tooltip\":{\"content\":\"data\"}},\"height\":220,\"autosize\":{\"type\":\"fit\"},\"data\":{\"name\":\"placeholder\"},\"encoding\":{\"x\":{\"field\":\"Entity\",\"type\":\"nominal\",\"sort\":null,\"scale\":{\"type\":\"linear\",\"zero\":false}},\"y\":{\"field\":\"CRF_Model_Found\",\"type\":\"quantitative\",\"sort\":null,\"scale\":{\"type\":\"linear\",\"zero\":true}},\"color\":{\"field\":\"\",\"type\":\"nominal\",\"sort\":null,\"scale\":{\"type\":\"linear\",\"zero\":false}}}}\"\"\")",
   "metadata": {
    "cell_id": "95be185a8e83475ba4bbe6a45b87be38",
    "deepnote_variable_name": "df_final",
    "deepnote_visualization_spec": {
     "$schema": "https://vega.github.io/schema/vega-lite/v4.json",
     "mark": {
      "type": "bar",
      "tooltip": {
       "content": "data"
      }
     },
     "height": 220,
     "autosize": {
      "type": "fit"
     },
     "data": {
      "name": "placeholder"
     },
     "encoding": {
      "x": {
       "field": "Entity",
       "type": "nominal",
       "sort": null,
       "scale": {
        "type": "linear",
        "zero": false
       }
      },
      "y": {
       "field": "CRF_Model_Found",
       "type": "quantitative",
       "sort": null,
       "scale": {
        "type": "linear",
        "zero": true
       }
      },
      "color": {
       "field": "",
       "type": "nominal",
       "sort": null,
       "scale": {
        "type": "linear",
        "zero": false
       }
      }
     }
    },
    "deepnote_to_be_reexecuted": true,
    "source_hash": "fc26397e",
    "execution_start": 1650137175771,
    "execution_millis": 346,
    "deepnote_cell_type": "visualization"
   },
   "outputs": [
    {
     "output_type": "execute_result",
     "execution_count": 20,
     "data": {
      "text/html": "\n<div id=\"altair-viz-279305af1623437d959f0ff3affadcc4\"></div>\n<script type=\"text/javascript\">\n  (function(spec, embedOpt){\n    let outputDiv = document.currentScript.previousElementSibling;\n    if (outputDiv.id !== \"altair-viz-279305af1623437d959f0ff3affadcc4\") {\n      outputDiv = document.getElementById(\"altair-viz-279305af1623437d959f0ff3affadcc4\");\n    }\n    const paths = {\n      \"vega\": \"https://cdn.jsdelivr.net/npm//vega@5?noext\",\n      \"vega-lib\": \"https://cdn.jsdelivr.net/npm//vega-lib?noext\",\n      \"vega-lite\": \"https://cdn.jsdelivr.net/npm//vega-lite@4.8.1?noext\",\n      \"vega-embed\": \"https://cdn.jsdelivr.net/npm//vega-embed@6?noext\",\n    };\n\n    function loadScript(lib) {\n      return new Promise(function(resolve, reject) {\n        var s = document.createElement('script');\n        s.src = paths[lib];\n        s.async = true;\n        s.onload = () => resolve(paths[lib]);\n        s.onerror = () => reject(`Error loading script: ${paths[lib]}`);\n        document.getElementsByTagName(\"head\")[0].appendChild(s);\n      });\n    }\n\n    function showError(err) {\n      outputDiv.innerHTML = `<div class=\"error\" style=\"color:red;\">${err}</div>`;\n      throw err;\n    }\n\n    function displayChart(vegaEmbed) {\n      vegaEmbed(outputDiv, spec, embedOpt)\n        .catch(err => showError(`Javascript Error: ${err.message}<br>This usually means there's a typo in your chart specification. See the javascript console for the full traceback.`));\n    }\n\n    if(typeof define === \"function\" && define.amd) {\n      requirejs.config({paths});\n      require([\"vega-embed\"], displayChart, err => showError(`Error loading script: ${err.message}`));\n    } else if (typeof vegaEmbed === \"function\") {\n      displayChart(vegaEmbed);\n    } else {\n      loadScript(\"vega\")\n        .then(() => loadScript(\"vega-lite\"))\n        .then(() => loadScript(\"vega-embed\"))\n        .catch(showError)\n        .then(() => displayChart(vegaEmbed));\n    }\n  })({\"config\": {\"view\": {\"continuousWidth\": 400, \"continuousHeight\": 300}, \"area\": {\"fill\": \"#51C0E9\"}, \"axis\": {\"labelFont\": \"Inter, sans-serif\", \"labelFontSize\": 12, \"labelFontWeight\": \"normal\", \"labelLimit\": 60, \"labelOverlap\": \"greedy\", \"titleFont\": \"Inter, sans-serif\", \"titleFontSize\": 12, \"titleFontWeight\": \"bold\"}, \"background\": \"#ffffff\", \"legend\": {\"labelFont\": \"Inter, sans-serif\", \"labelFontSize\": 12, \"titleFont\": \"Inter, sans-serif\", \"titleFontSize\": 12, \"titleFontWeight\": \"bold\"}, \"line\": {\"stroke\": \"#51C0E9\", \"strokeWidth\": 2}, \"rect\": {\"fill\": \"#51C0E9\"}, \"title\": {\"anchor\": \"start\", \"color\": \"#000000\", \"font\": \"Inter, sans-serif\", \"fontSize\": 22, \"fontWeight\": \"normal\"}}, \"data\": {\"name\": \"data-9a9014199b20707820c4febfee440825\"}, \"mark\": {\"type\": \"bar\", \"tooltip\": {\"content\": \"data\"}}, \"autosize\": {\"type\": \"fit\"}, \"encoding\": {\"color\": {\"type\": \"nominal\", \"field\": \"\", \"scale\": {\"type\": \"linear\", \"zero\": false}, \"sort\": null}, \"x\": {\"type\": \"nominal\", \"field\": \"Entity\", \"scale\": {\"type\": \"linear\", \"zero\": false}, \"sort\": null}, \"y\": {\"type\": \"quantitative\", \"field\": \"CRF_Model_Found\", \"scale\": {\"type\": \"linear\", \"zero\": true}, \"sort\": null}}, \"height\": 300, \"width\": \"container\", \"$schema\": \"https://vega.github.io/schema/vega-lite/v4.json\", \"datasets\": {\"data-9a9014199b20707820c4febfee440825\": [{\"Entity\": \"WALLET\", \"CRF_Model_Found\": 12.0, \"Exact_CRF\": 17.0, \"Exact_Whitelist\": 11.0, \"CRF_Recall\": 0.7058823529411765}, {\"Entity\": \"PRADA\", \"CRF_Model_Found\": 10.0, \"Exact_CRF\": 10.0, \"Exact_Whitelist\": 10.0, \"CRF_Recall\": 1.0}, {\"Entity\": \"GUCCI\", \"CRF_Model_Found\": 7.0, \"Exact_CRF\": 10.0, \"Exact_Whitelist\": 9.0, \"CRF_Recall\": 0.7}, {\"Entity\": \"FENDI\", \"CRF_Model_Found\": 5.0, \"Exact_CRF\": 5.0, \"Exact_Whitelist\": 5.0, \"CRF_Recall\": 1.0}, {\"Entity\": \"ISSEY MIYAKE\", \"CRF_Model_Found\": 4.0, \"Exact_CRF\": 12.0, \"Exact_Whitelist\": 5.0, \"CRF_Recall\": 0.3333333333333333}, {\"Entity\": \"DEPEND\", \"CRF_Model_Found\": 2.0, \"Exact_CRF\": 30.0, \"Exact_Whitelist\": null, \"CRF_Recall\": 0.06666666666666667}, {\"Entity\": \"MAISON MARGIELA\", \"CRF_Model_Found\": 2.0, \"Exact_CRF\": 6.0, \"Exact_Whitelist\": null, \"CRF_Recall\": 0.3333333333333333}, {\"Entity\": \"SUNNY\", \"CRF_Model_Found\": 1.0, \"Exact_CRF\": 3.0, \"Exact_Whitelist\": null, \"CRF_Recall\": 0.3333333333333333}, {\"Entity\": \"LOUIS VUITTON\", \"CRF_Model_Found\": 1.0, \"Exact_CRF\": 1.0, \"Exact_Whitelist\": 1.0, \"CRF_Recall\": 1.0}, {\"Entity\": \"MAISON MARGIELA BAG\", \"CRF_Model_Found\": 1.0, \"Exact_CRF\": 1.0, \"Exact_Whitelist\": null, \"CRF_Recall\": 1.0}, {\"Entity\": \"Y O U NOT I N G\", \"CRF_Model_Found\": 1.0, \"Exact_CRF\": 1.0, \"Exact_Whitelist\": null, \"CRF_Recall\": 1.0}, {\"Entity\": \"ISSEY MIYAKE JACKET : BOTTEGA VENETA BAG\", \"CRF_Model_Found\": 1.0, \"Exact_CRF\": 0.0, \"Exact_Whitelist\": null, \"CRF_Recall\": null}, {\"Entity\": \"ISSEY MIYAKE SHIRT\", \"CRF_Model_Found\": 1.0, \"Exact_CRF\": 0.0, \"Exact_Whitelist\": null, \"CRF_Recall\": null}, {\"Entity\": \"AIR JORDAN\", \"CRF_Model_Found\": null, \"Exact_CRF\": null, \"Exact_Whitelist\": 1.0, \"CRF_Recall\": null}, {\"Entity\": \"DRESS SHOE\", \"CRF_Model_Found\": null, \"Exact_CRF\": null, \"Exact_Whitelist\": 1.0, \"CRF_Recall\": null}, {\"Entity\": \"FLIGHT BAG\", \"CRF_Model_Found\": null, \"Exact_CRF\": null, \"Exact_Whitelist\": 1.0, \"CRF_Recall\": null}, {\"Entity\": \"IT BAG\", \"CRF_Model_Found\": null, \"Exact_CRF\": null, \"Exact_Whitelist\": 3.0, \"CRF_Recall\": null}, {\"Entity\": \"MESSENGER BAG\", \"CRF_Model_Found\": null, \"Exact_CRF\": null, \"Exact_Whitelist\": 6.0, \"CRF_Recall\": null}, {\"Entity\": \"MYMTA\", \"CRF_Model_Found\": null, \"Exact_CRF\": null, \"Exact_Whitelist\": 1.0, \"CRF_Recall\": null}, {\"Entity\": \"O BAG\", \"CRF_Model_Found\": null, \"Exact_CRF\": null, \"Exact_Whitelist\": 2.0, \"CRF_Recall\": null}, {\"Entity\": \"SATCHEL\", \"CRF_Model_Found\": null, \"Exact_CRF\": null, \"Exact_Whitelist\": 1.0, \"CRF_Recall\": null}]}}, {\"actions\": false, \"mode\": \"vega-lite\"});\n</script>",
      "text/plain": "alt.Chart(...)"
     },
     "metadata": {}
    }
   ],
   "execution_count": null
  },
  {
   "cell_type": "code",
   "source": "list(df_final['Entity'])",
   "metadata": {
    "cell_id": "db2af7ca7ff04283b517eba5d3f14c83",
    "tags": [],
    "deepnote_to_be_reexecuted": true,
    "source_hash": "ba9c2a99",
    "execution_start": 1650137176120,
    "execution_millis": 55,
    "deepnote_cell_type": "code",
    "deepnote_cell_height": 501.9375,
    "deepnote_output_heights": [
     404.9375
    ]
   },
   "outputs": [
    {
     "output_type": "execute_result",
     "execution_count": 21,
     "data": {
      "text/plain": "['WALLET',\n 'PRADA',\n 'GUCCI',\n 'FENDI',\n 'ISSEY MIYAKE',\n 'DEPEND',\n 'MAISON MARGIELA',\n 'SUNNY',\n 'LOUIS VUITTON',\n 'MAISON MARGIELA BAG',\n 'Y O U NOT I N G',\n 'ISSEY MIYAKE JACKET : BOTTEGA VENETA BAG',\n 'ISSEY MIYAKE SHIRT',\n 'AIR JORDAN',\n 'DRESS SHOE',\n 'FLIGHT BAG',\n 'IT BAG',\n 'MESSENGER BAG',\n 'MYMTA',\n 'O BAG',\n 'SATCHEL']"
     },
     "metadata": {}
    }
   ],
   "execution_count": null
  },
  {
   "cell_type": "markdown",
   "source": "<a style='text-decoration:none;line-height:16px;display:flex;color:#5B5B62;padding:10px;justify-content:end;' href='https://deepnote.com?utm_source=created-in-deepnote-cell&projectId=90b052a7-f47d-474e-888f-9345355cfd9a' target=\"_blank\">\n<img alt='Created in deepnote.com' style='display:inline;max-height:16px;margin:0px;margin-right:7.5px;' src='data:image/svg+xml;base64,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' > </img>\nCreated in <span style='font-weight:600;margin-left:4px;'>Deepnote</span></a>",
   "metadata": {
    "tags": [],
    "created_in_deepnote_cell": true,
    "deepnote_cell_type": "markdown"
   }
  }
 ],
 "nbformat": 4,
 "nbformat_minor": 2,
 "metadata": {
  "orig_nbformat": 2,
  "deepnote": {
   "is_reactive": false
  },
  "deepnote_notebook_id": "3f8a9b2a-8d90-42ae-8427-0965a8121a8c",
  "deepnote_execution_queue": []
 }
}