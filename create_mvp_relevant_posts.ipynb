{
 "cells": [
  {
   "cell_type": "markdown",
   "source": "# create_mvp_relevant_posts.ipynb\nThis runs find_get_influencer_relevant_comments for each of our 10 MVP entries. All input parameters are hard coded",
   "metadata": {
    "cell_id": "26f0670a83f443e8a25a6388688f7832",
    "tags": [],
    "owner_user_id": "d1c3db5a-4505-48be-99b3-4a4061f5f711",
    "deepnote_cell_type": "markdown",
    "deepnote_cell_height": 142.78125
   }
  },
  {
   "cell_type": "code",
   "metadata": {
    "tags": [],
    "cell_id": "b036858b-b973-4102-8f8e-e2fe9c7ae3e3",
    "deepnote_to_be_reexecuted": false,
    "source_hash": "c847afba",
    "execution_start": 1649791849778,
    "execution_millis": 148,
    "deepnote_cell_type": "code",
    "deepnote_cell_height": 207
   },
   "source": "import importlib\nimportlib.reload\n\nimport import_ipynb\nimport pickle\nimport pandas as pd\n\nfrom datetime import date, timedelta",
   "execution_count": null,
   "outputs": []
  },
  {
   "cell_type": "code",
   "metadata": {
    "cell_id": "535e0e516654428480715d86fd3e752b",
    "tags": [],
    "deepnote_to_be_reexecuted": false,
    "source_hash": "36074dcb",
    "execution_start": 1649791849972,
    "execution_millis": 11192,
    "deepnote_cell_type": "code",
    "deepnote_cell_height": 1124.1875
   },
   "source": "#import find_subreddits as fsub\n#importlib.reload(fsub)\n\n#import find_influencer_relevant_posts as fposts\n#importlib.reload(fposts)\n\nimport Step4_Find_Influencer_Relevant_Posts as fposts\n\n# importlib.reload(fposts)",
   "execution_count": null,
   "outputs": [
    {
     "name": "stdout",
     "text": "importing Jupyter notebook from Step4_Find_Influencer_Relevant_Posts.ipynb\n",
     "output_type": "stream"
    },
    {
     "data": {
      "text/plain": "Downloading:   0%|          | 0.00/1.18k [00:00<?, ?B/s]",
      "application/vnd.jupyter.widget-view+json": {
       "version_major": 2,
       "version_minor": 0,
       "model_id": "215c924cc04a4cdd875d690c7f4adb5b"
      }
     },
     "metadata": {},
     "output_type": "display_data"
    },
    {
     "data": {
      "text/plain": "Downloading:   0%|          | 0.00/190 [00:00<?, ?B/s]",
      "application/vnd.jupyter.widget-view+json": {
       "version_major": 2,
       "version_minor": 0,
       "model_id": "4fe584c8157a4c5db68845c6152d46f8"
      }
     },
     "metadata": {},
     "output_type": "display_data"
    },
    {
     "data": {
      "text/plain": "Downloading:   0%|          | 0.00/10.2k [00:00<?, ?B/s]",
      "application/vnd.jupyter.widget-view+json": {
       "version_major": 2,
       "version_minor": 0,
       "model_id": "d2111f6545e94172b5ba2838877f0ff0"
      }
     },
     "metadata": {},
     "output_type": "display_data"
    },
    {
     "data": {
      "text/plain": "Downloading:   0%|          | 0.00/573 [00:00<?, ?B/s]",
      "application/vnd.jupyter.widget-view+json": {
       "version_major": 2,
       "version_minor": 0,
       "model_id": "6020c243b5ed4df18578cce7fa4b10af"
      }
     },
     "metadata": {},
     "output_type": "display_data"
    },
    {
     "data": {
      "text/plain": "Downloading:   0%|          | 0.00/116 [00:00<?, ?B/s]",
      "application/vnd.jupyter.widget-view+json": {
       "version_major": 2,
       "version_minor": 0,
       "model_id": "184c633113fc41059eb5a377f6a86647"
      }
     },
     "metadata": {},
     "output_type": "display_data"
    },
    {
     "data": {
      "text/plain": "Downloading:   0%|          | 0.00/39.3k [00:00<?, ?B/s]",
      "application/vnd.jupyter.widget-view+json": {
       "version_major": 2,
       "version_minor": 0,
       "model_id": "9fce90bc51c045ab868f0eaaba3effd8"
      }
     },
     "metadata": {},
     "output_type": "display_data"
    },
    {
     "data": {
      "text/plain": "Downloading:   0%|          | 0.00/349 [00:00<?, ?B/s]",
      "application/vnd.jupyter.widget-view+json": {
       "version_major": 2,
       "version_minor": 0,
       "model_id": "2e35b2cbb1054dacbd839e2c18e0b853"
      }
     },
     "metadata": {},
     "output_type": "display_data"
    },
    {
     "data": {
      "text/plain": "Downloading:   0%|          | 0.00/134M [00:00<?, ?B/s]",
      "application/vnd.jupyter.widget-view+json": {
       "version_major": 2,
       "version_minor": 0,
       "model_id": "0a065c4aa72a4d62893f5471f37894d6"
      }
     },
     "metadata": {},
     "output_type": "display_data"
    },
    {
     "data": {
      "text/plain": "Downloading:   0%|          | 0.00/53.0 [00:00<?, ?B/s]",
      "application/vnd.jupyter.widget-view+json": {
       "version_major": 2,
       "version_minor": 0,
       "model_id": "822fabdca32446dbbda3356ceeb85395"
      }
     },
     "metadata": {},
     "output_type": "display_data"
    },
    {
     "data": {
      "text/plain": "Downloading:   0%|          | 0.00/112 [00:00<?, ?B/s]",
      "application/vnd.jupyter.widget-view+json": {
       "version_major": 2,
       "version_minor": 0,
       "model_id": "d73697e7b12243aa97db73d06d309c00"
      }
     },
     "metadata": {},
     "output_type": "display_data"
    },
    {
     "data": {
      "text/plain": "Downloading:   0%|          | 0.00/466k [00:00<?, ?B/s]",
      "application/vnd.jupyter.widget-view+json": {
       "version_major": 2,
       "version_minor": 0,
       "model_id": "81b124e43a25427d92845268ce87fd58"
      }
     },
     "metadata": {},
     "output_type": "display_data"
    },
    {
     "data": {
      "text/plain": "Downloading:   0%|          | 0.00/352 [00:00<?, ?B/s]",
      "application/vnd.jupyter.widget-view+json": {
       "version_major": 2,
       "version_minor": 0,
       "model_id": "2fca9951749245dc843fcee6846153a8"
      }
     },
     "metadata": {},
     "output_type": "display_data"
    },
    {
     "data": {
      "text/plain": "Downloading:   0%|          | 0.00/13.2k [00:00<?, ?B/s]",
      "application/vnd.jupyter.widget-view+json": {
       "version_major": 2,
       "version_minor": 0,
       "model_id": "1651f60b93f94d0badd9972f6f58e71f"
      }
     },
     "metadata": {},
     "output_type": "display_data"
    },
    {
     "data": {
      "text/plain": "Downloading:   0%|          | 0.00/232k [00:00<?, ?B/s]",
      "application/vnd.jupyter.widget-view+json": {
       "version_major": 2,
       "version_minor": 0,
       "model_id": "005a1f1c10344d32b5abefe17b96210f"
      }
     },
     "metadata": {},
     "output_type": "display_data"
    }
   ]
  },
  {
   "cell_type": "code",
   "metadata": {
    "cell_id": "1dfbde0aecf84d9c8ec2031163308662",
    "tags": [],
    "deepnote_to_be_reexecuted": false,
    "source_hash": "74b9743d",
    "execution_start": 1649791861168,
    "execution_millis": 6,
    "deepnote_cell_type": "code",
    "deepnote_cell_height": 99
   },
   "source": "#subreddits_list = fsub.get_subreddits(wiki_term, nlp_cat_phrase, wiki_cats, num_subreddits, min_subreddit_subscribers)\n",
   "execution_count": null,
   "outputs": []
  },
  {
   "cell_type": "code",
   "metadata": {
    "cell_id": "f2560a4ccdfd4561a19f6837057368b3",
    "tags": [],
    "deepnote_to_be_reexecuted": false,
    "source_hash": "c2193b04",
    "execution_start": 1649791861177,
    "execution_millis": 8,
    "deepnote_cell_type": "code",
    "deepnote_cell_height": 225
   },
   "source": "# #For finding relevant posts from influencers\n# per_author_limit=500\n# post_limit = 10000\n# #comment_length = 6 #For test process\n\n# end_date = (date.today() + timedelta(days=1)).strftime(\"%m/%d/%Y\") \n# start_date = (date.today() - timedelta(days=31)).strftime(\"%m/%d/%Y\") \n\n# mvp_flag = False #if True an existing pickle file is used",
   "execution_count": null,
   "outputs": []
  },
  {
   "cell_type": "code",
   "metadata": {
    "cell_id": "85b8cb3f01c14582ac5313f4ec8e8dc2",
    "tags": [],
    "deepnote_to_be_reexecuted": false,
    "source_hash": "f5499530",
    "execution_start": 1649791861192,
    "execution_millis": 1,
    "deepnote_cell_type": "code",
    "deepnote_cell_height": 261
   },
   "source": "#Pick a wiki_term to run\n# wiki_term = 'Squid Game'  # Done\n# wiki_term = 'Cronut'      # Done\n# wiki_term = 'Catan'       #Done\n# wiki_term = 'Dogecoin'  # Done\n# wiki_term = 'Beastie Boys' # Done\n# wiki_term = 'Elon Musk'  # Done\n# wiki_term = 'Birkin bag' # Done\n# wiki_term = 'IPhone' #\n# wiki_term = 'PlayStation 5' #\n# wiki_term = 'Oxycodone' #",
   "execution_count": null,
   "outputs": []
  },
  {
   "cell_type": "code",
   "metadata": {
    "cell_id": "12db0ddc5ca049699246dd03e7a1b71b",
    "tags": [],
    "deepnote_to_be_reexecuted": false,
    "source_hash": "4a443337",
    "execution_start": 1649791861233,
    "execution_millis": 22,
    "deepnote_cell_type": "code",
    "deepnote_cell_height": 6021
   },
   "source": "def create_posts_pickle(wiki_term, per_author_limit, post_limit, start_date, end_date, mvp_flag):\n    '''This function creates a pickle file of relevant posts for the wiki_term sent in, based \n       on hard coded values for the influential users, nlp category phrase, wiki categories and \n       best wiki categories.\n    \n    Inputs: \n        wiki_term - string containing the wikipedia term for the original item \n        per_author_limit - max number of comments/submissions (separately) for each author in \n                           a subreddit\n        post_limit - max number of posts to return\n        start_date - start date to use for posts\n        end_date - end date to use for posts\n        mvp_flag - indicates if we are running a pre-aggregated data set for our minimum viable\n                   product\n\n    Output: \n        relevant_posts - a list of relevant comments and submissions\n    \n    '''\n\n    #Set remaining parameters based on wiki_term\n    \n    #Squid Game\n    if wiki_term == 'Squid Game':\n        nlp_cat_phrase = ['Korean', 'drama', 'television', 'series']\n        wiki_cats = ['Category:South Korean thriller television series',\n        'Category:2021 South Korean television series debuts',\n        'Category:South Korean horror fiction television series',\n        'Category:2020 South Korean television series debuts',\n        'Category:2018 South Korean television series debuts',\n        'Category:2022 South Korean television series debuts',\n        'Category:2019 South Korean television series debuts',\n        'Category:South Korean action television series',\n        'Category:Television shows set in Seoul']\n        best_wiki_cats = ['Category:2021 South Korean television series debuts',\n        'Category:South Korean action television series',\n        'Category:South Korean horror fiction television series',\n        'Category:South Korean thriller television series',\n        'Category:Television shows set in Seoul']\n        listInfluencers = ['AutoLovepon', 'asilvertintedrose', 'RobotiSC', 'meh_potato', 'zenzen_0', 'fukai20', 'xX_Edgyname_Xx', 'Mhogen', 'Kezja', 'dorkmax_executives', 'MarvelsGrantMan136', 'Lovro26', 'joebirb', 'Turbostrider27', 'Dababy28193', 'Yaggamy', 'Hachirumi', 'fanime693', 'DekMelU', 'Zaibatsu_HQ', 'R2cp', 'realrimurutempest', 'idontcare_29', 'HOODIEBABA', '_non_royal', 'Mundology', 'Se7en_Sinner', 'WhoiusBarrel', 'LeonKevlar', 'dagreenman18', 'cppn02', 'Mage_of_Shadows', 'Merchantmarx', 'Silent_Shadow05', 'Sean-Benn_Must-die', 'magnwn', 'elfratar', 'hell-schwarz', 'Fools_Requiem', 'michhoffman', 'BananafishGlass', 'Abysswatcherbel', 'FrilledShark1512', 'Kirosh2', 'HayashiSawaryo', 'Holofan4life', 'OTPh1l25', 'Shimmering-Sky', 'G_Spark233', 'TurkeyPhat', 'Emi_Ibarazakiii', 'UnderstandableXO', 'ArchadianJudge', 'SocialLoser739', 'CCV21', 'Lokimonoxide', 'DogusEUW', 'Prince-Dizzytoon', 'mateusv', 'ihavebirb', 'Mazen141', 'Roscoe_P_Trolltrain', 'EnsonAmata', 'LikeAnAssistant', 'Thatsmaboi23', 'amirokia', 'Aerodynamic41', 'zairaner', 'smhandstuff', 'AlwaysMooning', 'BosuW', 'DepopulationXplosion', 'Dumb_Vampire_Girl', 'sanjit8103', 'Akame_xo', 'Fatooz', 'lightupstarlight', 'Moonchilddowney', 'perochan', 'Massive_Meeting2431', 'Gensis916', 'Char_Aznable_Custom', 'spinnybingle', 'rokarmedforces', 'momofuku18', 'hayley1337', 'RequirementThat1979', 'Sudden_Pop_2279', 'Sprizys', 'Qwertytin', 'Ninelpienel', 'Jonjonshle123456', 'Cabello10', 'Strong_Constant_1190', 'TheDJRainbow', 'ZaratosBlackGaming', 'Spidrrbob', 'Cookiewas12', 'HatBryanDog', 'No_Woodpecker153', 'FlyingDeetus', 'Savage121', 'Rumi4', 'oyeigtfd', 'Fourzi', 'Celized', '-dov-', 'Ochrolv', 'BurnedOutEternally', 'patap0nacct', 'Nyy0', 'Ghoste-Face', 'maliwanag0712', 'Aniboy43', 'AZLarlar', 'Pure-toasty', '2703asil', 'Mia_298201166', 'Element600', 'MuzYoshi', 'nialldude3', 'ajosifnoongongwongow', 'YanniRotten', 'Xilith117', 'SouthernEast7719']\n\n        subreddits_list = ['KDRAMA',\n        'korea',\n        'squidgame',\n        'MangaCollectors',\n        'NANIKPosting',\n        'GlobalOffensive',\n        'manga',\n        'anime',\n        'yourturntodie',\n        'ObscureMedia']\n\n    #Cronut\n    if wiki_term == 'Cronut':\n        nlp_cat_phrase = [['croissant', 'doughnut', 'pastry']]\n        wiki_cats = ['Category:Pastries',\n        'Category:Cuisine of New York City',\n        'Category:American doughnuts',\n        'Category:Food and drink introduced in 2013',\n        'Category:Food and drink introduced in 2018',\n        'Category:Food and drink introduced in 2019']\n        best_wiki_cats = ['Category:American doughnuts',\n        'Category:Pastries',\n        'Category:Cuisine of New York City',\n        'Category:Food and drink introduced in 2013']\n        listInfluencers = ['cookinwithclint', 'SenseiLeeR', 'None', 'sprinklesapple', 'NightsWatch23', 'Level-Performance-83', 'BushyEyes', 'whipped-desserts', 'Ro13ocop', 'octoberishh', 'umbertobongo', 'howiedoit9', 'lilbopeachy', 'rocketsalesman', 'nolynskitchen', 'simply_flavour', 'DeezNutz4k', 'pangibear', 'ham_smeller', 'Tasty_Tamerry', 'Teelk3007', 'sarahfreia', 'MetalZeppelin', 'reddituser246', 'ItsMePythonicD', 'UncreativeTeam', 'getyourcheftogether', 'Tralan', 'Jaewol', 'herberstank', 'Forzara', 'Ruenin', 'Soviet-Biscuit', 'HardwareLust', 'baquea', 'leavetaterualone', 'high_priestess23', 'quartzquandary', 'Portentia9', 'Merc_Mike', 'ReturnOfTheFox', 'PercussionOnCall', 'BigMacRedneck', 'Adeno', 'aquamanjosh', 'darkrealm190', 'roborobert123', 'jrc83', 'eldersveld', 'Mystical_Cat', 'fergi20020', 'yellowjacquet', 'KiwiChefnz', 'Kingston_Advice1', 'makeupyourworld', 'Etterra', 'stoned_seahorse', 'gamergirl007', 'deadeyediva', 'skeevy-stevie', 'water2wine', 'RainbowandHoneybee', 'Satakans', 'Tejon_Melero', 'trooper843', 'RepostSentinel', 'i_hope_you_are_gay', 'Prometheus6R', 'BrownieEdges', 'ophaus', 'Due_Platypus_3913', 'Trek1973', 'DandyEmo', 'pistolpxte', 'Ellekm730', 'reddit_hw', 'dantesinfernoracket1', 'AerysBat', 'CastIronDaddy', 'MattCow1', 'TechDen_BD', 'SophStance', 'Canis_Malus', 'GoatPutrid_', 'SashimiBreakfast', 'DeepBreathsBigSteps', 'WorldMusicLab', 'thegreatrazu', 'redditretard34', 'Rachel794', 'tinycute23', 'choco_0263', 'xRustyxNailx', 'Shartran', 'lilpickle06', 'ibeleaf420', 'BoyScoutMettaton', '2DCLAPSonyoutube', 'IBSKing', 'SelfInteresting7259', 'JonnyPap', 'SowTheTable', 'shots-by-leo', 'Foodlover2022', 'BerryBerryLife', 'theaverageramen', 'IzzyJ27', 'TastyPlantBased', 'RainbowKitchen', 'trashbunny9', 'vegasBunny29', 'GreeneBean64', 'FudderShudders', 'grey-clouds', 'Sexy_Banker_Lady', 'overfilledcreampuff', 'dalgaekrem', 'Emely_janson', 'Designer-Rent9761', 'bibbidybobbidybake', 'mystic3030', 'Ok_Flatworm_3855', 'Aggressive-Cup680']\n\n        subreddits_list = ['FoodNYC',\n        'food',\n        'FoodPorn',\n        'DessertPorn',\n        'forbiddensnacks',\n        'recipes',\n        'VeganFoodPorn',\n        'tonightsdinner',\n        'dessert',\n        'Chefit']\n\n    #Catan\n    if wiki_term == 'Catan':\n        nlp_cat_phrase = ['multiplayer', 'board', 'game']\n        wiki_cats = ['Category:Territorial acquisition and development games',\n        'Category:Board games introduced in 2020',\n        'Category:Board games introduced in 2019',\n        'Category:Multiplayer games',\n        'Category:Board games introduced in 2018',\n        'Category:Board games introduced in 1995',\n        'Category:Embracer Group franchises',\n        'Category:Board games with a modular board']\n        best_wiki_cats = ['Category:Multiplayer games',\n        'Category:Board games with a modular board',\n        'Category:Board games introduced in 1995',\n        'Category:Territorial acquisition and development games',\n        'Category:Embracer Group franchises']\n        \n        listInfluencers = ['Holy_Doggo69','SrGrafo', 'ListerineAfterOral', 'Anal_Chem','Turbostrider27', 'BulTV',\n        'a_Ninja_b0y','EarlGrey_Picard','xhanx-plays','C4RD_TP_SG', 'Jedi_Lucky', 'trillykins', 'DeJMan', 'Techboah',\n        'DM_Me_Your_Tigers','Cautious-Affect7907','ZeroBae', 'Breckmoney','HearTheEkko','rydamusprime17','iV1rus0',\n        'benbernards','Megajuanph11','420TacoBellXbox360', 'Mr_Shad0w','mindbleach', 'G8kpr', 'sharrrper', 'APeacefulWarrior',\n        'Knuckles316',  'JavierLoustaunau', 'THE_GR8_MIKE', 'benx101', 'Clbull', 'BenevolentCheese', 'Zaorish9',\n        'Resolute002','BrainWav','Balrog229','Racecarlock','cepxico','Squidmaster616','alkonium','Fruhmann',\n        'Puzzleboxed','_Robbie', 'locolarue', 'BLACKOUT-MK2','MississippiJoel','M0dusPwnens','3Dartwork',\n        'AegisToast', 'Simbertold', 'alexagente', 'FM79SG', 'ptgauth', 'Maelis', 'Alastor3', '0n3ph',\n        'limeybastard','hexjunki','asmallercat','megazver','tosser1579','Sparticuse', 'Dusty170', 'MsgGodzilla',\n        'niberungvalesti', 'camm44', 'JaskoGomad', 'triceratopping', 'Amaurotica', 'JagoKestral', 'mkbloodyen',\n        'doterobcn', 'laxar2', 'KeepitKey', 'Z3M0G', 'Murwiz', 'RealYourMom', 'ketchup92', 'mroosa',\n        'guil13st', 'ruminaui', 'Ric_Chair', 'yuv9', 'menben', 'Gankatron', 'Pepper2Moss',\n        'JetsFly228', 'Fraydren', 'OdysseusX', 'carsando', 'ubersuperduper', 'jreilly89', 'Little-Gear9565', 'vlei90',\n        'winluang','cmookiie','NobodyGivesAFuc','artiiisto', 'Successful_Mention37', 'MarioFanaticXV', 'Stuart66',\n        'Dice_and_Dragons','undernier','Luis49o9','DeveloperDan783', 'Sr_Julio', 'DeadlyPeanuttt', 'STGGrant',\n        'ProtectorCleric', 'TakeNote','Stuck_With_Name', 'TrueBlueCorvid', 'FarOutGames',  'BelovedRapture',\n        'JeseniaLain', 'Valuable-Simple-5470', 'f34rd3m1c', 'Otakuma90', 'Mogge8', 'Lapis_Wolf', 'Blue-Jay42', 'TanookiPhoenix']\n\n        subreddits_list = ['boardgames',\n        'Games',\n        'Boardgamedeals',\n        'BoardGameExchange',\n        'gamecollecting',\n        'tabletop',\n        'GroundedGame',\n        'rpg',\n        'IndieGaming',\n        'gaming']\n\n    #Dogecoin\n    if wiki_term == 'Dogecoin':\n        nlp_cat_phrase = ['cryptocurrency']\n        wiki_cats = ['Category:Internet memes',\n        'Category:Computer-related introductions in 2019',\n        'Category:Currencies introduced in 2018',\n        'Category:Currencies introduced in 2021',\n        'Category:Currencies introduced in 2013',\n        'Category:Computer-related introductions in 2022',\n        'Category:Computer-related introductions in 2020',\n        'Category:Computer-related introductions in 2021',\n        'Category:Computer-related introductions in 2018',\n        'Category:Currencies introduced in 2019',\n        'Category:Computer-related introductions in 2013',\n        'Category:Cryptocurrency projects']\n        best_wiki_cats = ['Category:Cryptocurrency projects',\n        'Category:Currencies introduced in 2013',\n        'Category:Internet memes',\n        'Category:Computer-related introductions in 2013']\n\n\n        listInfluencers = ['Links2586', 'HabileJ_6', 'Solodeji', 'Craftcrypto', 'restlessNGFB', 'jakkkmotivator', 'TheGreatCryptopo', 'SaMuVII', 'coinfeeds-bot', 'JamseyLynn', 'teh0wnah', 'KingCoin187', 'Shitcoiner1000', 'Mananimalism', 'C4-PO', 'theDOGEdolphin', 'coinceano', 'Reuea', 'Sweet-Zookeepergame', 'cryptopiratematerial', 'Michellerose6834', 'Sunnyskn', 'Egon_1', 'CommunicationNo3845', 'sylsau', 'RepostSleuthBot', 'jessquit', 'musecorn', 'MemoryDealers', 'titanicx', 'Red5point1', 'MobTwo', 'ahungrylilsandwhich', 'i_have_chosen_a_name', 'AmericanScream', 'trailer8k', 'No-Effort-7730', 'nvnehi', 'SoulMechanic', 'pyalot', 'kingofthejaffacakes', 'choledocholithiasis_', 'Odinthedoge', 'chainxor', '1nv1s1blek1d', 'BTBLAM', 'Remora_101', 'Perleflamme', 'Maxxjulie', 'DeadSol', 'Tangerine2016', 'Br0kenRabbitTV', 'masterbatesAlot', 'Fiach_Dubh', 'HeadMembership', 'MrRGnome', 'PopCultureNerd', 'Shibinator', 'emergent_reasons', 'rhaphazard', 'loadblower831', 'DRbrtsn60', 'Past-Top-3954', 'AESTHTK', 'NotErikUden', 'Deleriouslynx', 'methreweway', 'HammerSickleAndGin', 'Alternative-Plant-87', 'opcode_network', 'ChiggenTendys', 'BewareOfShills', 'Cow_Bell', 'FUBAR-BDHR', 'theBarefootedBastard', 'agapowrtg', 'Livid_Toe_721', 'peterhoegir', 'DesperateLie5980', 'a_softy_potato', 'jbone1227', 'Independent_Ad2100', 'pooliboy', 'L9aded', 'Binezy', 'rshap1', 'Mposner310', 'DATY4944', 'AnxietyJolly4539', 'MarkbutwithaK', 'ShowerWide7800', 'ledonskim754', 'Supa_Vegeta', 'dobrecata', 'psuvenezolano', 'user4morethan2mins', 'fiendishcrypro', 'btcxio', 'Mafalzon', 'XolosRamirez', 'Richmond_Dioso', 'Salt_Vault_7', '4BDUL4Z1Z', 'Zitdar50', 'SarcasticWasabi', 'c0in0n0mics', 'RogerWilco357', 'bitdex', 'hardlyhumble', 'mollythepug', 'Heat-Lumpy', 'Bud_L', 'IRSAGENT74', 'bigdero', 'xxXCharlesMasonXxx', 'IEagleIwastaken', 'AThompStomp', 'furryaltowo1', 'vegetablewizard', 'Danny__NYC', 'BlazingHotFireFox', 'stKKd', 'Proud-Discipline9902', 'KaiSosceles', 'Fun-Hamster-8457']\n\n        subreddits_list = ['Crypto_General',\n        'CryptocurrencyICO',\n        'CryptoCurrencies',\n        'CryptoMarkets',\n        'btc',\n        'cryptocurrencymemes',\n        'BitcoinCA',\n        'Shibainucoin',\n        'dogecoin',\n        'ethereum']\n\n\n    # Beastie Boys\n    if wiki_term == 'Beastie Boys':\n        nlp_cat_phrase = ['American', 'rap', 'group', 'City']\n        wiki_cats = ['Category:Alternative hip hop groups',\n        'Category:Hardcore hip hop groups',\n        'Category:Musical groups from New York City',\n        'Category:Hip hop groups from New York City',\n        'Category:Rap rock groups']\n        best_wiki_cats = ['Category:Alternative hip hop groups',\n        'Category:Hardcore hip hop groups',\n        'Category:Musical groups from New York City',\n        'Category:Hip hop groups from New York City',\n        'Category:Rap rock groups']\n        listInfluencers = ['YoureASkyscraper', 'Kaptainkarl76', 'Kallemacd', 'cullenbatt11', 'CremeOfSumYumGai', 'Filiberto_F38', 'wooooback', 'mindbleach', 'TheRoyalWarlord', 'TheRoyalGodfrey', 'microzone', 'Kitchen_Ur_Lies', 'redditsearcher', 'jake-a-doodle', 'Corn1989', 'GunnarJohnson999', '-Coffee-Owl-', 'CutToTheChase56', 'RimsOnAToaster', 'LowDownSlim', 'okaythen91', 'electronopants', 'mykneehurtsss', 'kimariadil', 'Chemist248', 'peanutdakidnappa', 'BoxCon1', 'leif777', 'Beatle_Matt', 'Mig1997', 'peduxe', 'Mr_Poop_Himself', 'SuperEagle1', 'altmaltacc', 'Uptopdownlowguy', 'Squiliam-Tortaleni', 'GeekFurious', 'Seeders', 'xTotalSellout', 'BioniqReddit', 'bowtie25', 'spunkymnky', 'zuniac5', 'Clayish', 'jah05r', 'Mr628', 'darkslayersparda', 'GreatRecession', 'Breakingwho', 'fusrodalek', 'good_kid_maad_reddit', 'StygianMusic', 'HiPoojan', 'Hu3yKnewTHen', 'Nefarious-', 'greywolf_18', 'electroplankton', 'jack-468', 'JTNJ32', 'donottouchwillie1', 'Azazel_brah', 'PMmeYOURBOOBSandASS', 'jetlifestoney', 'tiggs', 'TinyGoldCharm', '-m-ob', 'Teenager_Simon', 'EliManningsPetDog', 'maloboosie', 'Hardcore90skid', 'ridingonmirrors', 'gusborn', 'ExtraLucky13', 'ass_titty_enjoyer', 'not_tha_father', 'MyNameMadeYouSmiley', 'MGerkus91', 'd3rk2007', 'Newport_Box', 'ExeggutionerStyle', 'IGbelowthehiphop', 'DJ_Moore_2', 'Klewenisms204', 'ReaperElParka', 'czesio-5', 'Aten-Febrero', 'LoverMayn', 'kwakemole1', 'brewgiehowser', 'epilepticrooster', 'oldwhitelincoln', 'FireGold763', 'Desperate_Bat_2238', 'VersionSuperb4120', 'Tele_Prompter', 'WswaggerOFaBLACKteen', 'BiggieSmallz12345', 'baby_scrota', 'liamfellows06', 'AltforHHH', 'efekizilsu', 'summertimelive', 'Taco_Pals', 'TharealSergi', 'CMaFagcuzIhateapussy', 'captaindaze', 'Hige_Kuma', 'Maslowgirl101', 'Bigtimedaisies', 'xfreefloatingx', 'Big_Message5719', 'hotbowlsofjustice', 'abbagodz', 'chrissie64', 'vintageideals', 'ivyfelicity', 'justchuck1070', 'BasketofSharks', 'UnderDogPants', 'StevenBeercockArt', 'Zpoof817', 'KyTalksRap', 'loki301', 'silverballerholder', 'jashbyy12']\n\n        subreddits_list = ['hiphop',\n        '90sHipHop',\n        'hiphopvinyl',\n        '90smusic',\n        'hiphopheads',\n        'Eminem',\n        'Music',\n        '80smusic',\n        'OldSchoolCoolMusic',\n        'Hiphopcirclejerk']\n\n    # Elon Musk\n    if wiki_term == 'Elon Musk':\n        nlp_cat_phrase = ['entrepreneur', 'investor', 'business', 'magnate']\n        wiki_cats = ['Category:21st-century American businesspeople',\n        'Category:American technology company founders',\n        'Category:American billionaires',\n        'Category:Canadian technology company founders',\n        'Category:20th-century American businesspeople']\n        best_wiki_cats = ['Category:20th-century American businesspeople',\n        'Category:21st-century American businesspeople',\n        'Category:American billionaires',\n        'Category:American technology company founders',\n        'Category:Canadian technology company founders']\n\n        listInfluencers = ['Defiant_Race_7544', 'AnxiousIndicator', 's_y_s_t_e_m_i_c_', 'magenta_placenta', 'BroderzYt', 'ChickenTeriyakiBoy1', 'TheRedditornator', 'GoMx808-0', 'essentially_gone', 'rustys_shackled_ford', 'Ravage42', 'Darkside-Facepalmer', 'chrisdh79', 'saintbad', 'demosthenes33210', 'Nitzao_reddit', 'Grouchy_Energy_1394', 'Blaglag_', 'Tronith87', 'MicroSofty88', 'haloarh', 'Mossc8', 'DenverRunner_', 'Manowaffle', 'iWillNeverReplyToYou', 'AlterEdward', 'limitless__', 'Ftpini', 'Xaxxon', 'orincoro', 'nirad', 'JonWood007', 'Gobias_Industries', 'dcmix5', 'Blue_Dog_Democracy', 'itsaride', 'politirob', 'PushItHard', 'TheMostOfMe', 'manicdee33', 'OonaPelota', 'Yojimbo4133', 'GD_Bats', 'Miffers', 'Trades46', 'iwoketoanightmare', 'RandomCollection', 'hayden_evans', 'iamthpecial', 'colinstalter', 'mddgtl', 'OompaOrangeFace', 'PFG123456789', 'raresaturn', 'Huge_Aerie2435', 'ThatDudeBesideYou', 'mennydrives', 'feurie', 'MrGruntsworthy', 'QuestionableAI', 'Dawson81702', 'Wynardtage', 'SupaZT', 'zerkrazus', 'Cunninghams_right', 'Poogoestheweasel', 'user_name_unknown', 'fossilnews', 'jesperbj', '-Lithium-', '__TSLA__', 'jason12745', 'RT-Garbage', 'getBusyChild', 'Pokerhobo', 'Patradoxon', 'kuodron', 'JohnRandomJohn', 'TeslaFanBoy8', 'Alphafemal3777', 'Adventurous_Bet6849', 'Carsickness', 'space_s3x', 'Available-Pin-2744', 'RobertFahey', 'thegm90', 'rcnfive', 'RealPokePOP', 'reclinesalot', 'Sea-Ad-8100', 'Undrbridge', 'ToyTinker', 'VENTDEV', 'mwyeoh', 'Pocohuntas', 'thatisnotmickeymouse', 'Matt_787', 'SnarfbObo', 'rikyvarela90', 'Fraternal_Mango', 'Bnrmn88', 'DM65536', 'ice__nine', 'LTlurkerFTredditor', 'Belichick12', 'Tiy_Newman', 'ithinkway2much', 'GeetchNixon', 'MangOrion2', 'donjohnmontana', 'SimpleSwapExchange', 'little-eagle', 'famous_Dyl', 'Salt-Shop', 'Bino_i_told_u_so', 'chapsmoke', 'HardHatSaysReno', 'ocmaddog', 'aBetterAlmore', 'FeelingCultural8532', 'roughravenrider', 'bestpodcastclips', 'HamsterIV', 'Admirable-Variety-46', 'ljus_sirap']\n        \n        subreddits_list = ['elonmusk',\n        'teslainvestorsclub',\n        'teslamotors',\n        'tycoon',\n        'technews',\n        'RealTesla',\n        'LateStageCapitalism',\n        'SatoshiStreetBets',\n        'BoringCompany',\n        'YangForPresidentHQ']\n\n\n    # Birkin Bag\n    if wiki_term == 'Birkin bag':\n        nlp_cat_phrase = ['line', 'tote', 'bag'],\n        wiki_cats =  ['Category:Bags (fashion)',\n        'Category:Products introduced in 2019',\n        'Category:Products introduced in 2020',\n        'Category:Products introduced in 2022',\n        'Category:Leather goods',\n        'Category:Products introduced in 1984',\n        'Category:Products introduced in 2018',\n        'Category:Products introduced in 2021']\n        best_wiki_cats = ['Category:Bags (fashion)',\n        'Category:Leather goods',\n        'Category:Products introduced in 1984']\n\n        listInfluencers = ['Vern_Mcnue_Fishing', 'annadinh97', 'Fruitndveg', 'repcourier', 'jjang_e', 'a1ess', 'AloofDad', 'ParticularOdd9353', 'CoraxTechnica', 'lessthannotable', 'Aeov', 'dividednation1', 'frastol131', 'keemkoopa', 'sudosussudio', 'RoboticGanja', 'PS2me', 'legarsetrange', 'evieeeeeeeeeeeeeee', '-ehquzo-', 'joshpetersen39', 'JAYLEN424', 'reeeeeky', 'the_hunger_gainz', 'MentosNCokeInMyBHole', 'oldcarfreddy', 'FyuuR', 'devastationz', 'repknowledge', 'thruwuwayy', 'TheFunkytownExpress', 'echoplus2020', 'edcculus', 'the_left_stuff', 'kerodean', 'Itisd', 'djsilentmobius', 'foslforever', 'LillyWhiteArt', 'Philadahlphia', 'youknowwhattheysay12', 'elcapkirk', 'PaleNewspaper3', 'Jumpman_234599', 'ducksonetime', 'THE_Lena', 'Buffyferry', 'areaunknown_', 'kiirstten', 'verytinytim', 'cherylcanning', 's4lomena', 'seditiousseals', 'Trackerbait', 'MouseMouseM', 'ChonkPolice', 'RIPMaureenPonderosa', 'Veggie_stick_', 'dk0221', 'vagabonking', 'sellboundcafe', 'daisykg', 'tyler-perry', 'Ok-Slide-6361', 'Traditional-Cat-1461', 'Dotmars123', 'blondegoblin512', 'lawm812', 'thats-so-metal', 'emily3289', 'NiggityNiggityNuts', 'crownhouses', 'myspacefairy', 'pokered', 'wowdickseverywhere', 'regaphysics', 'mcluse657', 'jncc', 'Sivalleydan2', 'absentlyric', 'marieplume', 'etherealimages', 'Jilanico', 'Danhan1234', 'LilSaxTheGhost', 'Lil-doodoo-train', 'Initial_Highlight905', 'Venetion223', 'Brindex', 'lostmymind69', 'ARclothing', 'nomynameisely', 'Educational_Target56', 'hernacec', 'audstro', 'angeloxslc', 'Ironkidz23', 'David_C_Taylor', 'sunflowerseedbusty', 'helloyeswhatmaybe', 'WuqueStudio', 'hunghingdailo', 'JackPikatea', 'mechkbot', 'MikeBert97', 'AFreshlySkinnedEgg', 'Global_Pay_3617', 'sansasqua', 'Easy-Zucchini2908', 'sekirei98', 'BryantCabrera', 'dingdongdoodle12', 'maxynot', 'Capable-Pressure-608', 'PeachyKein7', 'StayCee089', 'myriyevskyy', 'CanYasar-Odyssee', 'Decorno3', 'Soncay', 'JoryIsLost', 'SuperiorWolf2', 'YoungAdult_', 'SeattleHikeBike', 'JohnnyTreebeard']\n\n        subreddits_list = ['BuyItForLife',\n        'streetwear',\n        'FashionReps',\n        'streetwearstartup',\n        'supremeclothing',\n        'mechmarket',\n        'Depop',\n        'Louisvuitton',\n        'ArtisanGifts',\n        'ManyBaggers']\n\n    # IPhone\n    if wiki_term == 'IPhone':\n        nlp_cat_phrase = ['line', 'smartphones']\n        wiki_cats = ['Category:Mobile phones introduced in 2022',\n        'Category:Mobile phones introduced in 2021',\n        'Category:Mobile phones introduced in 2019',\n        'Category:Mobile phones introduced in 2018',\n        'Category:Digital audio players',\n        'Category:IOS',\n        'Category:Mobile phones introduced in 2020',\n        'Category:Smartphones',\n        'Category:ITunes',\n        'Category:Mobile phones introduced in 2007']\n        best_wiki_cats = ['Category:Smartphones',\n        'Category:Mobile phones introduced in 2007',\n        'Category:IOS',\n        'Category:Digital audio players',\n        'Category:ITunes']\n\n        listInfluencers = ['Sorin61', 'MorgrainX', 'FragmentedChicken', 'howling92', 'sexysantaz2021lol', 'jeffreyd00', 'threadnoodle', 'armando_rod', 'MrUncannyIncredible', 'welp_im_damned', 'SamsungAppleOnePlus', 'SurealGod', 'TheDankLord4416', 'rservello', 'Administratr', 'filosoful', 'bjamink_88', 'realguiders', 'plaid-knight', 'Motor_Cobbler', '9gxa05s8fa8sh', 'MaXimus421', 'Struggi1', 'infinityandbeyond75', 'UtterNylon', 'RadBadTad', 'zerbey', 'LeCrushinator', 'Put_It_All_On_Blck', 'Iohet', 'HeartyBeast', 'fuzzycuffs', 'smackythefrog', 'bartturner', 'simplefilmreviews', 'blacksoxing', 'wankthisway', 'MattyXarope', 'graymulligan', 'GNU_Yorker', 'scots', 'TWeaKoR', 'hnryirawan', 'Yojimbo4133', 'xxb4xx', 'koolaidistheshit', 'Spiron123', 'cdegallo', 'Hats_Hats_Hats', 'baldeagleNL', 'Timmyc62', 'spellbadgrammargood', 'LeakySkylight', 'SnackeyG1', 'newecreator', 'katsumiblisk', '5tormwolf92', 'HG1998', '69hailsatan', 'saraseitor', 'Fatalstryke', 'sportsfan161', 'LiberalMusicLover', 'ithinkoutloudtoo', 'RocketPawnch', 'jimmyl_82104', 'IncredibleGonzo', 'lospollosakhis', 'mellonsticker', 'JohnApple94', 'antdude', 'SoNic67', 'yournerd2307', 'oo_Mxg', 'exu1981', 'runski1426', 'CaravieR', 'BlueDusk99', 'thethickjoker69', 'Jay-See_Shahzey', 'Lasitha_Samarasinghe', 'Emyhatsich', 'New_Boss5389', 'exalsG4', 'fearofcreditcardbill', 'JackSpoons', 'KunJee', 'aria3180', 'fisheye666', 'newoldschool', 'sashimiboyy', 'sasha2005lobanov', 'DaveM8686', 'TrashSalt', 'Carter0108', 'tepeleac', 'AaronG85', 'jrtt4877', 'econobox_whipper', 'TAbramson15', 'blanktaken', 'AdStriking903', 'NaroDoesStuff', 'Skallager0252', 'lorddtheo', 'Linux-Is-Best', 'DivineJerziboss', 'FloofyFloofOverload', 'Warm-Cartographer', 'thachxyz123', 'haikallp', 'eaeozs', 'MS310', 'advaitah', 'TimPLakersEagles', 'BananaEater73', 'and1927', 'shortwavesurfer2009', 'BigGuysForYou', 'reddit_reaper', 'e_boon', 'teamabzy', 'jenesuispashariselon', 'azzurri2017', 'enchantedspring']\n        \n        subreddits_list = ['Smartphones',\n        'windowsphone',\n        'PickAnAndroidForMe',\n        'ios',\n        'iphone',\n        'LegacyJailbreak',\n        'Nokia',\n        'samsung',\n        'Android',\n        'blackberry']\n\n    # PlayStation 5\n    if wiki_term == 'PlayStation 5':\n        nlp_cat_phrase = ['home', 'video', 'game', 'console']\n        wiki_cats =  ['Category:Home video game consoles',\n        'Category:X86-based game consoles',\n        'Category:Backward-compatible video game consoles',\n        'Category:Regionless game consoles',\n        'Category:Ninth-generation video game consoles']\n        best_wiki_cats = ['Category:Home video game consoles',\n        'Category:Backward-compatible video game consoles',\n        'Category:Ninth-generation video game consoles',\n        'Category:Regionless game consoles',\n        'Category:X86-based game consoles']\n\n        listInfluencers = ['jmaxxx999', 'Psychological_Gas632', 'josephseeed', 'EazeeeOne23', 'Zultoo', 'ApprehensiveAd6476', 'Biggu5Dicku5', 'obamaprism3', 'eljalu', 'floswamp', 'SnarfbObo', 'darkgamera6', 'MoistCharge0', 'benderbender42', 'lbabinz', 'alex_Qc03', 'WickedD365', 'JulPollitt', 'DealsPoster', 'Frikkity_Frik_Frik', 'MutedHornet87', 'SuckMyOppressorMkII', 'adumbassmofo', 'GoGoGadgetReddit', 'SamsungAppleOnePlus', 'Reed_Solomon', 'jepyang', 'ChrisRR', 'Xenophic99', 'Squiliam-Tortaleni', 'TheMatt561', 'Willy_Fred', 'Tumblrrito', 'chemicalxv', 'inkyblinkypinkysue', 'LikeThosePenguins', 'VirtualRelic', '1541drive', 'Powerful_Artist', 'khedoros', '_RexDart', 'GreatMadWombat', 'dal_segno', 'those2badguys', '133DK', 'Guitarfoxx', 'Varrick24', 'Orthodox-Waffle', 'carldude', 'Pughskii', 'landob', 'Lazarous86', 'Dan_Glebitz', 'firedrakes', 'anh86', 'tokki32', 'Xbox', 'HANEZ', 'understandunderstand', '-Mahn', 'Bigdongs', 'xH0LLYW000Dx', 'Vitss', 'WJMazepas', 'sharkweekholiday', 'godstriker8', 'footfoe', 'OldManTurner', 'Ratmatazz', 'The_Sovien_Rug-37', 'CaptainGString', 'iAMDeadStretch', 'Mundus6', 'bakagir', 'Relic827', '8-bit-Felix', 'segaprophet', 'retro_Gordon', 'TakiMaki_YT', 'REVENAUT13', 'FoxMcFlyy', '-Naetep-', 'xamter1', 'Aggravating-Maize-46', 'ppbuttpissboi', 'Biggs17', 'Rockefeller07', 'ejcitizen', 'stevensi1018', 'Rewow', 'ConsoleDealsBot', 'youfeelme1997', 'symbolic503', 'Kevin_Chau', 'TheGelatoWarrior', 'Fast_Passenger_2889', 'MemeMaster0123', 's1eve_mcdichae1', 'darksaviorx', 'THEGR4NDWA20O', 'lost_in_the_wide_web', 'Combatnutrition', 'SwapNSalebot', 'Mr_Nintendad', 'jerry23y', 'repkyle', 'Braiyan8972', 'jomjomepitaph', 'beldandy561', 'Supersmashlord', 'rocketeng', 'eastaccwill', 'gokul1080', 'supermariodooki', 'Emanouche', 'MarioFanaticXV', 'controller4hire', 'Bigbuster153', 'DoktahDoktah', 'Current-Professor-80', 'Comprehensive-Bet298', 'Lucacg00']\n\n        subreddits_list = ['SBCGaming',\n        'Gamecube',\n        'VideoGameDealsCanada',\n        'consoledeals',\n        'xbox',\n        'RetroPie',\n        'gameswap',\n        'consolerepair',\n        'videogames',\n        'pcmasterrace']\n\n    # Oxycontin\n    if wiki_term == 'Oxycodone':\n        nlp_cat_phrase = ['opioid', 'medication']\n        wiki_cats = ['Category:Catechol ethers',\n        'Category:World Health Organization essential medicines',\n        'Category:Semisynthetic opioids',\n        'Category:Drug culture',\n        'Category:Mu-opioid receptor agonists']\n        best_wiki_cats = ['Category:Semisynthetic opioids',\n        'Category:Mu-opioid receptor agonists',\n        'Category:Drug culture',\n        'Category:World Health Organization essential medicines',\n        'Category:Catechol ethers']\n\n        listInfluencers = ['leather_shirt', 'savagetroll', 'altrippa', 'a_bit2drunk', 'JenkemJester', 'Camo508', 'Drugabuser8', 'runningmurphy', 'jeremypurp420', 'viceboi666', 'Thin-Swordfish4462', 'd5lifeWaster', 'Forgone_Conclusion_', 'TheDarkSoul61', 'kellik123', 'TrumpSmokesMids27', 'johnnymack420', 'Skyreps', 'ebolaRETURNS', 'EzemezE', 'ClonazolamAndVodka', 'oneultralamewhiteboy', 'Americanlean', 'Diacetylmorpheus', 'DrJawn', 'Borax', 'TheMadFlyentist', 'Papancasudani', 'bearbarebere', 'purple_yosher', 'Andrew_Korenchkin', 'Tired8281', 'isnortshrooms', 'TATP1982', 'fluffedpillows', 'pichael288', 'Ericrobertson1978', 'HorowitzGroupie', 'dlxnj', 'tony_bologna', 'AlkaliActivated', 'rakehellion', '_usernametaken420', 'agggile', 'shimmerangels', 'MrBangle', 'Grampz619', 'Rico639', 'no-i', 'WHY_STAYVAN', 'deyheimler', 'NotNesbeth', 'CodineGotMeTippin', 'shtbrcks', 'Atropa94', 'JonWick33', 'ebin44', 'lordofbitterdrinks', 'meowjinx', 'deathdefyingrob1344', 'randomtrip10', 'treeskers', 'on_the_dl', 'AstroFFA', 'Rudow69', 'OrphanDextro', 'redscorcher', 'Young-Rider', 'LegalizeLean', 'Mr_Jack_Frost_', 'TiHKALmonster', 'RobloxAndBible', 'OverdoseMaster', 'unoreversethanos', 'StaticRogue', 'acidisnice', 'lucyXdrops', 'mojospurs524', 'ofir_the_dumass', 'Mnice123', 'SomeOil7154', 'Cognaczirconium', 'muststayawaketonod', 'marissatalksalot', 'Murda1-1', 'Regenine', 'gintrux', 'WeAreDrugScience', 'Bubzoluck', 'TokitaTNG', 'jamesjordan7001', 'Leftycoolswag', 'PaperCalender', 'TheBlankestBoi', '80dimebagz', 'LoveMyKush', 'Redheadedstepchild56', 'cottagecheese0', 'lakellers', 'ResearchSlore', 'turgidNtremulous', 'johnjames_34', 'lovepetunias', 'Special_Prior8856', 'Fizziox', 'Silent_insanity000', 'hameiscool', 'PsychoticBlob', 'Gucci_Google', 'Reagalan', 'scatfiend', 'CityCupBoys', 'Chemical-Delay-3661', 'Takeoverdagame', 'Screwedforlyfe', 'cokenstripperhoes', 'Severe_Doughnut5336', 'landa347', 'psychrazy_drummer', 'oscar1985420', 'LowOnDopamine']\n\n        subreddits_list = ['drugsarebeautiful',\n        'OpiatesRecovery',\n        'DrugNerds',\n        'Drugs',\n        'opiates',\n        'AskDrugNerds',\n        'antidepressants',\n        'askdrugs',\n        'lean',\n        'drugscirclejerk']\n\n    #Run find_infuencer_relevant_posts\n    relevant_posts = fposts.get_relevant_posts(wiki_term, listInfluencers, subreddits_list, start_date, end_date,best_wiki_cats, per_author_limit, post_limit,mvp_flag)\n\n    return relevant_posts",
   "execution_count": null,
   "outputs": []
  },
  {
   "cell_type": "markdown",
   "source": "### Create Relevant Post Pickle Files",
   "metadata": {
    "cell_id": "e602d491a76d471496e1761d610fcd12",
    "tags": [],
    "deepnote_cell_type": "markdown",
    "deepnote_cell_height": 62
   }
  },
  {
   "cell_type": "code",
   "metadata": {
    "cell_id": "f3728a9cfec4466788bfb72a265c0036",
    "tags": [],
    "deepnote_to_be_reexecuted": false,
    "source_hash": "ce837ae7",
    "execution_start": 1649791861255,
    "execution_millis": 10,
    "deepnote_cell_type": "code",
    "deepnote_cell_height": 189
   },
   "source": "#Set parameters\nper_author_limit=500\npost_limit = 10000\nend_date = (date.today() + timedelta(days=1)).strftime(\"%m/%d/%Y\") \nstart_date = (date.today() - timedelta(days=31)).strftime(\"%m/%d/%Y\") \nmvp_flag = False #if True an existing pickle file is used\n",
   "execution_count": null,
   "outputs": []
  },
  {
   "cell_type": "code",
   "metadata": {
    "cell_id": "360ca548d7bb473aa1b0a3f05c1246c4",
    "tags": [],
    "deepnote_to_be_reexecuted": false,
    "source_hash": "3efea9c",
    "execution_start": 1649791861275,
    "execution_millis": 6461207,
    "deepnote_cell_type": "code",
    "deepnote_cell_height": 881
   },
   "source": "#Run program for each item\n# relevant_posts = create_posts_pickle('Squid Game', per_author_limit, post_limit, start_date, end_date, mvp_flag)\n# relevant_posts = create_posts_pickle('Cronut', per_author_limit, post_limit, start_date, end_date, mvp_flag)\n# relevant_posts = create_posts_pickle('Catan', per_author_limit, post_limit, start_date, end_date, mvp_flag)\n# relevant_posts = create_posts_pickle('Dogecoin', per_author_limit, post_limit, start_date, end_date, mvp_flag)\n# relevant_posts = create_posts_pickle('Beastie Boys', per_author_limit, post_limit, start_date, end_date, mvp_flag)\n# relevant_posts = create_posts_pickle('Elon Musk', per_author_limit, post_limit, start_date, end_date, mvp_flag)\n# relevant_posts = create_posts_pickle('Birkin Bag', per_author_limit, post_limit, start_date, end_date, mvp_flag)\n# relevant_posts = create_posts_pickle('IPhone', per_author_limit, post_limit, start_date, end_date, mvp_flag)\n# relevant_posts = create_posts_pickle('PlayStation 5', per_author_limit, post_limit, start_date, end_date, mvp_flag)\n# relevant_posts = create_posts_pickle('Oxycodone', per_author_limit, post_limit, start_date, end_date, mvp_flag)",
   "execution_count": null,
   "outputs": [
    {
     "name": "stdout",
     "text": "Start time for retrieving comments:  2022-04-12 15:31:01\nFinding comments for ebin44...\nFinding comments for Tired8281...\nFinding comments for JonWick33...\nFinding comments for shtbrcks...\nFinding comments for altrippa...\nFinding comments for kellik123...\nFinding comments for Skyreps...\nFinding comments for agggile...\nFinding comments for fluffedpillows...\nFinding comments for Americanlean...\nFinding comments for 80dimebagz...\nFinding comments for savagetroll...\nFinding comments for ebolaRETURNS...\nFinding comments for Young-Rider...\nFinding comments for Andrew_Korenchkin...\nFinding comments for PaperCalender...\nFinding comments for Murda1-1...\nFinding comments for Rico639...\nFinding comments for deyheimler...\nFinding comments for lakellers...\nFinding comments for randomtrip10...\nFinding comments for cokenstripperhoes...\nFinding comments for gintrux...\nFinding comments for jamesjordan7001...\nFinding comments for TheDarkSoul61...\nFinding comments for Cognaczirconium...\nFinding comments for Grampz619...\nFinding comments for TheMadFlyentist...\nFinding comments for TiHKALmonster...\nFinding comments for runningmurphy...\nFinding comments for Regenine...\nFinding comments for Severe_Doughnut5336...\nFinding comments for Camo508...\nFinding comments for OrphanDextro...\nFinding comments for rakehellion...\nFinding comments for viceboi666...\nFinding comments for Fizziox...\nFinding comments for ClonazolamAndVodka...\nFinding comments for WHY_STAYVAN...\nFinding comments for oscar1985420...\nFinding comments for RobloxAndBible...\nFinding comments for jeremypurp420...\nFinding comments for muststayawaketonod...\nFinding comments for no-i...\nFinding comments for dlxnj...\nFinding comments for LegalizeLean...\nFinding comments for purple_yosher...\nFinding comments for OverdoseMaster...\nFinding comments for MrBangle...\nFinding comments for acidisnice...\nFinding comments for TrumpSmokesMids27...\nFinding comments for Screwedforlyfe...\nFinding comments for a_bit2drunk...\nFinding comments for Forgone_Conclusion_...\nFinding comments for johnjames_34...\nFinding comments for marissatalksalot...\nFinding comments for Papancasudani...\nFinding comments for hameiscool...\nFinding comments for Borax...\nFinding comments for treeskers...\nFinding comments for Special_Prior8856...\nFinding comments for Gucci_Google...\nFinding comments for meowjinx...\nFinding comments for JenkemJester...\nFinding comments for TokitaTNG...\nFinding comments for DrJawn...\nFinding comments for turgidNtremulous...\nFinding comments for on_the_dl...\nFinding comments for LoveMyKush...\nFinding comments for Ericrobertson1978...\nFinding comments for ofir_the_dumass...\nFinding comments for lordofbitterdrinks...\nFinding comments for PsychoticBlob...\nFinding comments for NotNesbeth...\nFinding comments for d5lifeWaster...\nFinding comments for Mnice123...\nFinding comments for Leftycoolswag...\nFinding comments for oneultralamewhiteboy...\nFinding comments for lovepetunias...\nFinding comments for AstroFFA...\nFinding comments for TATP1982...\nFinding comments for Drugabuser8...\nFinding comments for AlkaliActivated...\nFinding comments for Reagalan...\nFinding comments for psychrazy_drummer...\nFinding comments for Chemical-Delay-3661...\nFinding comments for johnnymack420...\nFinding comments for TheBlankestBoi...\nFinding comments for Rudow69...\nFinding comments for CityCupBoys...\nFinding comments for isnortshrooms...\nFinding comments for Takeoverdagame...\nFinding comments for unoreversethanos...\nFinding comments for Mr_Jack_Frost_...\nFinding comments for tony_bologna...\nFinding comments for Thin-Swordfish4462...\nFinding comments for landa347...\nFinding comments for StaticRogue...\nFinding comments for mojospurs524...\nFinding comments for deathdefyingrob1344...\nFinding comments for CodineGotMeTippin...\nFinding comments for WeAreDrugScience...\nFinding comments for HorowitzGroupie...\nFinding comments for shimmerangels...\nFinding comments for lucyXdrops...\nFinding comments for Atropa94...\nFinding comments for scatfiend...\nFinding comments for leather_shirt...\nFinding comments for EzemezE...\nFinding comments for pichael288...\nFinding comments for Bubzoluck...\nFinding comments for ResearchSlore...\nFinding comments for Silent_insanity000...\nFinding comments for LowOnDopamine...\nFinding comments for redscorcher...\nFinding comments for SomeOil7154...\nFinding comments for cottagecheese0...\nFinding comments for Redheadedstepchild56...\nFinding comments for bearbarebere...\nFinding comments for Diacetylmorpheus...\nFinding comments for _usernametaken420...\nNumber of relevant comments:  10494\nStart time for retrieving submissions:  2022-04-12 16:37:08\nFinding submissions for ebin44...\nFinding submissions for Tired8281...\nFinding submissions for JonWick33...\nFinding submissions for shtbrcks...\nFinding submissions for altrippa...\nFinding submissions for kellik123...\nFinding submissions for Skyreps...\nFinding submissions for agggile...\nFinding submissions for fluffedpillows...\nFinding submissions for Americanlean...\nFinding submissions for 80dimebagz...\nFinding submissions for savagetroll...\nFinding submissions for ebolaRETURNS...\nFinding submissions for Young-Rider...\nFinding submissions for Andrew_Korenchkin...\nFinding submissions for PaperCalender...\nFinding submissions for Murda1-1...\nFinding submissions for Rico639...\nFinding submissions for deyheimler...\nFinding submissions for lakellers...\nFinding submissions for randomtrip10...\nFinding submissions for cokenstripperhoes...\nFinding submissions for gintrux...\nFinding submissions for jamesjordan7001...\nFinding submissions for TheDarkSoul61...\nFinding submissions for Cognaczirconium...\nFinding submissions for Grampz619...\nFinding submissions for TheMadFlyentist...\nFinding submissions for TiHKALmonster...\nFinding submissions for runningmurphy...\nFinding submissions for Regenine...\nFinding submissions for Severe_Doughnut5336...\nFinding submissions for Camo508...\nFinding submissions for OrphanDextro...\nFinding submissions for rakehellion...\nFinding submissions for viceboi666...\nFinding submissions for Fizziox...\nFinding submissions for ClonazolamAndVodka...\nFinding submissions for WHY_STAYVAN...\nFinding submissions for oscar1985420...\nFinding submissions for RobloxAndBible...\nFinding submissions for jeremypurp420...\nFinding submissions for muststayawaketonod...\nFinding submissions for no-i...\nFinding submissions for dlxnj...\nFinding submissions for LegalizeLean...\nFinding submissions for purple_yosher...\nFinding submissions for OverdoseMaster...\nFinding submissions for MrBangle...\nFinding submissions for acidisnice...\nFinding submissions for TrumpSmokesMids27...\nFinding submissions for Screwedforlyfe...\nFinding submissions for a_bit2drunk...\nFinding submissions for Forgone_Conclusion_...\nFinding submissions for johnjames_34...\nFinding submissions for marissatalksalot...\nFinding submissions for Papancasudani...\nFinding submissions for hameiscool...\nFinding submissions for Borax...\nFinding submissions for treeskers...\nFinding submissions for Special_Prior8856...\nFinding submissions for Gucci_Google...\nFinding submissions for meowjinx...\nFinding submissions for JenkemJester...\nFinding submissions for TokitaTNG...\nFinding submissions for DrJawn...\nFinding submissions for turgidNtremulous...\nFinding submissions for on_the_dl...\nFinding submissions for LoveMyKush...\nFinding submissions for Ericrobertson1978...\nFinding submissions for ofir_the_dumass...\nFinding submissions for lordofbitterdrinks...\nFinding submissions for PsychoticBlob...\nFinding submissions for NotNesbeth...\nFinding submissions for d5lifeWaster...\nFinding submissions for Mnice123...\nFinding submissions for Leftycoolswag...\nFinding submissions for oneultralamewhiteboy...\nFinding submissions for lovepetunias...\nFinding submissions for AstroFFA...\nFinding submissions for TATP1982...\nFinding submissions for Drugabuser8...\nFinding submissions for AlkaliActivated...\nFinding submissions for Reagalan...\nFinding submissions for psychrazy_drummer...\nFinding submissions for Chemical-Delay-3661...\nFinding submissions for johnnymack420...\nFinding submissions for TheBlankestBoi...\nFinding submissions for Rudow69...\nFinding submissions for CityCupBoys...\nFinding submissions for isnortshrooms...\nFinding submissions for Takeoverdagame...\nFinding submissions for unoreversethanos...\nFinding submissions for Mr_Jack_Frost_...\nFinding submissions for tony_bologna...\nFinding submissions for Thin-Swordfish4462...\nFinding submissions for landa347...\nFinding submissions for StaticRogue...\nFinding submissions for mojospurs524...\nFinding submissions for deathdefyingrob1344...\nFinding submissions for CodineGotMeTippin...\nFinding submissions for WeAreDrugScience...\nFinding submissions for HorowitzGroupie...\nFinding submissions for shimmerangels...\nFinding submissions for lucyXdrops...\nFinding submissions for Atropa94...\nFinding submissions for scatfiend...\nFinding submissions for leather_shirt...\nFinding submissions for EzemezE...\nFinding submissions for pichael288...\nFinding submissions for Bubzoluck...\nFinding submissions for ResearchSlore...\nFinding submissions for Silent_insanity000...\nFinding submissions for LowOnDopamine...\nFinding submissions for redscorcher...\nFinding submissions for SomeOil7154...\nFinding submissions for cottagecheese0...\nFinding submissions for Redheadedstepchild56...\nFinding submissions for bearbarebere...\nFinding submissions for Diacetylmorpheus...\nFinding submissions for _usernametaken420...\nNumber of relevant submissions:  475\nRanking posts start time:  2022-04-12 17:14:02\nRanking posts end time:  2022-04-12 17:18:42\n",
     "output_type": "stream"
    }
   ]
  },
  {
   "cell_type": "code",
   "metadata": {
    "cell_id": "b8dbaf5aca9e400789968f05bed92887",
    "tags": [],
    "deepnote_to_be_reexecuted": false,
    "source_hash": "65dc9b94",
    "execution_start": 1649800175649,
    "execution_millis": 44,
    "deepnote_cell_type": "code",
    "deepnote_cell_height": 482.75,
    "deepnote_output_heights": [
     385.75
    ]
   },
   "source": "relevant_posts[:20]",
   "execution_count": null,
   "outputs": [
    {
     "output_type": "execute_result",
     "execution_count": 11,
     "data": {
      "text/plain": "['Opioids.',\n 'try even fucking calling it an opioid.  In what world is a partial mu agonist not an opioid?',\n 'What drug?',\n 'drugs',\n 'Opioids too',\n 'The King of weak Opioids is Tilidine.',\n 'That is not an opioid!',\n 'What medications are you talking about',\n \"Codeine -&gt; Oxys -&gt; Heroin -&gt; (oops there was fentanyl in your heroin) ☠️\\n\\nDon't fuck with opioids.\",\n \"You don't say what drug?\",\n '- Frankincense + Myrrh Extract. Myrrh has natural opioid compounds that are less euphoric, and better for pain management than recreational use. \\n\\n- Wild Lettuce Extract. Otherwise known as “opium lettuce.” \\n\\n- Saffron\\n\\n- Cacao. It releases endorphins, which naturally influence opioid receptors and relieve pain. \\n\\n- CBD \\n\\n- Curcumin + Piperine \\n\\n- Agmatine. Its an endogenous amino acid that effects opioid receptors, and pain relief. Take it on an empty stomach. \\n\\n- Magnesium Glycinate \\n\\n- Oleamide\\n\\n- Palmitoylethanolamide, with vitamin D3 and ALA to enhance its absorption. \\n\\n- Aspirin. Take it with vitamin C, glycine, and/or vitamin C to protect your gut from ulcers. \\n\\n- Caffeine, it has synergy with pain killers and is well known for enhancing their analgesic properties.',\n 'drug of choice is benzos but opioids are a close second',\n ' why codeine lmao shittiest opioid in existence',\n 'I hope you’re joking, if not google https://www.drugsdata.org and type in fentanyl or pick and analogue and see what comes up. It’s not pretty. Pills all over, heroin, it’s in everything. Know your source and better yet, know their source.',\n 'Amphetamine.',\n 'What the point would be? \\n\\nMaking money? Just like with fentalogues? Opioid-addicts WILL take opioids, one way or the other, they can put anything in there, as long as it vaguely hits the MOR people will spend money on it',\n 'All drugs have fennytrill now so w/e',\n 'Which opioid has the best body high ?.[removed]',\n 'Lsd',\n 'LSD']"
     },
     "metadata": {}
    }
   ]
  },
  {
   "cell_type": "code",
   "metadata": {
    "cell_id": "4f90af6cc2a247a5a6f77855c5569a5b",
    "tags": [],
    "deepnote_to_be_reexecuted": false,
    "source_hash": "671643de",
    "execution_start": 1649800260450,
    "execution_millis": 5,
    "deepnote_cell_type": "code",
    "deepnote_cell_height": 118.1875,
    "deepnote_output_heights": [
     21.1875
    ]
   },
   "source": "len(relevant_posts)",
   "execution_count": null,
   "outputs": [
    {
     "output_type": "execute_result",
     "execution_count": 14,
     "data": {
      "text/plain": "10000"
     },
     "metadata": {}
    }
   ]
  },
  {
   "cell_type": "markdown",
   "source": "<a style='text-decoration:none;line-height:16px;display:flex;color:#5B5B62;padding:10px;justify-content:end;' href='https://deepnote.com?utm_source=created-in-deepnote-cell&projectId=90b052a7-f47d-474e-888f-9345355cfd9a' target=\"_blank\">\n<img alt='Created in deepnote.com' style='display:inline;max-height:16px;margin:0px;margin-right:7.5px;' src='data:image/svg+xml;base64,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' > </img>\nCreated in <span style='font-weight:600;margin-left:4px;'>Deepnote</span></a>",
   "metadata": {
    "tags": [],
    "created_in_deepnote_cell": true,
    "deepnote_cell_type": "markdown"
   }
  }
 ],
 "nbformat": 4,
 "nbformat_minor": 2,
 "metadata": {
  "orig_nbformat": 2,
  "deepnote": {
   "is_reactive": false
  },
  "deepnote_notebook_id": "e9378c5b-7df5-498e-95d3-835b4ecf296c",
  "deepnote_execution_queue": []
 }
}