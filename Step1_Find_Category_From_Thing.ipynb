{
 "cells": [
  {
   "cell_type": "code",
   "metadata": {
    "tags": [],
    "cell_id": "5c165dca-8c41-4c82-985e-1ac572f80569",
    "deepnote_to_be_reexecuted": false,
    "source_hash": "85b2482b",
    "execution_start": 1650161039383,
    "execution_millis": 39969,
    "owner_user_id": "9187ece3-39a6-4bea-aed6-9a68f93aaf4f",
    "deepnote_cell_type": "code",
    "deepnote_cell_height": 1411
   },
   "source": "%load_ext autoreload\n%autoreload 2\n\nimport wikipedia # used for search of terms, provides: DisambiguationError\n\nimport wikipediaapi # used because can get categorymembers in a given category\nwiki_wiki = wikipediaapi.Wikipedia('en')\n# Might be able to use pywikibot for everything, or at least more\n# https://stackoverflow.com/questions/71023854/how-to-find-subcategories-and-subpages-on-wikipedia-using-pywikibot\nimport pywikibot as pw # used to get AND filter hidden categories for an article\n\nimport graphviz\n\nimport stanza\nstanza.download('en') # download English model\n\n!jupyter nbextension install --py widgetsnbextension\n!jupyter nbextension enable --py widgetsnbextension\n\nnlp = stanza.Pipeline(lang='en', processors='tokenize,lemma,pos,depparse')\n\n# https://www.sbert.net/docs/pretrained_models.html\nfrom sentence_transformers import SentenceTransformer, util\n#model = SentenceTransformer('all-MiniLM-L12-v2')\nmodel = SentenceTransformer('all-MiniLM-L6-v2')\n\nimport numpy as np\nimport pickle\n\nimport datetime as dt\n\nimport re\nimport requests\nimport time\nfrom collections import Counter\nfrom os.path import exists as file_exists\n ",
   "outputs": [
    {
     "data": {
      "text/plain": "Downloading https://raw.githubusercontent.com/stanfordnlp/stanza-resources/main/resources_1.3.0.json:   0%|   …",
      "application/vnd.jupyter.widget-view+json": {
       "version_major": 2,
       "version_minor": 0,
       "model_id": "f23652d162fe4f2f80887436f0559629"
      }
     },
     "metadata": {},
     "output_type": "display_data"
    },
    {
     "name": "stderr",
     "text": "2022-04-17 02:04:04 INFO: Downloading default packages for language: en (English)...\n2022-04-17 02:04:06 INFO: File exists: /root/stanza_resources/en/default.zip.\n2022-04-17 02:04:17 INFO: Finished downloading models and saved to /root/stanza_resources.\nInstalling /root/venv/lib/python3.7/site-packages/widgetsnbextension/static -> jupyter-js-widgets\nUp to date: /usr/local/share/jupyter/nbextensions/jupyter-js-widgets/extension.js\nUp to date: /usr/local/share/jupyter/nbextensions/jupyter-js-widgets/extension.js.map\n- Validating: \u001b[32mOK\u001b[0m\n\n    To initialize this nbextension in the browser every time the notebook (or other app) loads:\n    \n          jupyter nbextension enable widgetsnbextension --py\n    \nEnabling notebook extension jupyter-js-widgets/extension...\nPaths used for configuration of notebook: \n    \t/deepnote-config/jupyter/nbconfig/notebook.json\nPaths used for configuration of notebook: \n    \t\n      - Validating: \u001b[32mOK\u001b[0m\nPaths used for configuration of notebook: \n    \t/deepnote-config/jupyter/nbconfig/notebook.json\n2022-04-17 02:04:20 INFO: Loading these models for language: en (English):\n========================\n| Processor | Package  |\n------------------------\n| tokenize  | combined |\n| pos       | combined |\n| lemma     | combined |\n| depparse  | combined |\n========================\n\n2022-04-17 02:04:20 INFO: Use device: cpu\n2022-04-17 02:04:20 INFO: Loading: tokenize\n2022-04-17 02:04:20 INFO: Loading: pos\n2022-04-17 02:04:21 INFO: Loading: lemma\n2022-04-17 02:04:21 INFO: Loading: depparse\n2022-04-17 02:04:22 INFO: Done loading processors!\n",
     "output_type": "stream"
    }
   ],
   "execution_count": null
  },
  {
   "cell_type": "code",
   "metadata": {
    "cell_id": "95217fc6-a700-4ed4-87b9-e97f1026db9e",
    "tags": [],
    "deepnote_to_be_reexecuted": false,
    "source_hash": "d66942a1",
    "execution_start": 1650161079352,
    "execution_millis": 2027,
    "deepnote_cell_type": "code",
    "deepnote_cell_height": 171
   },
   "source": "# # https://pypi.org/project/Wikipedia-API/\n# def print_categorymembers(categorymembers, level=0, max_level=1):\n#         for c in categorymembers.values():\n#             print(\"%s: %s (ns: %d)\" % (\"*\" * (level + 1), c.title, c.ns))\n#             if c.ns == wikipediaapi.Namespace.CATEGORY and level < max_level:\n#                 print_categorymembers(c.categorymembers, level=level + 1, max_level=max_level)",
   "outputs": [],
   "execution_count": null
  },
  {
   "cell_type": "code",
   "metadata": {
    "cell_id": "8b0d34e6-532b-4744-9d6e-44fde774afd8",
    "tags": [],
    "deepnote_to_be_reexecuted": false,
    "source_hash": "6297f86",
    "execution_start": 1650161081383,
    "execution_millis": 203,
    "deepnote_cell_type": "code",
    "deepnote_cell_height": 153
   },
   "source": "\n# search_term = \"Elon Musk\"\n\n# search_results = wikipedia.search(search_term)\n# print(search_results[:10])",
   "outputs": [],
   "execution_count": null
  },
  {
   "cell_type": "code",
   "metadata": {
    "cell_id": "3d7cf02f-cbde-406b-b7c1-5559a8bb33e6",
    "tags": [],
    "deepnote_to_be_reexecuted": false,
    "source_hash": "9e5dbf8",
    "execution_start": 1650161081593,
    "execution_millis": 240,
    "deepnote_cell_type": "code",
    "deepnote_cell_height": 351
   },
   "source": "# print(search_results)\n# #https://github.com/goldsmith/Wikipedia/issues/295\n\n# first_search_term = search_results[0]\n\n# #https://github.com/goldsmith/Wikipedia/issues/295\n# try:\n#     page = wikipedia.page(first_search_term, auto_suggest=False)    \n# except wikipedia.DisambiguationError:\n#     print(\"Oops! DisambiguationError, trying next result\")\n#     first_search_term = search_results[1]\n#     page = wikipedia.page(first_search_term, auto_suggest=False)\n\n# # add gui for manual disambiguation\n# print(page.summary)\n# #print(page.categories)",
   "outputs": [],
   "execution_count": null
  },
  {
   "cell_type": "code",
   "metadata": {
    "cell_id": "aa29c97d-251c-43e1-b517-43d3fdd5db2f",
    "tags": [],
    "deepnote_to_be_reexecuted": false,
    "source_hash": "e0a9f4cd",
    "execution_start": 1650161081873,
    "execution_millis": 114,
    "deepnote_cell_type": "code",
    "deepnote_cell_height": 153
   },
   "source": "\n# # Using stanza instead of nltk to save memory\n# doc = nlp(page.summary)\n# first_sentence = doc.sentences[0]\n# first_sentence.text",
   "outputs": [],
   "execution_count": null
  },
  {
   "cell_type": "code",
   "metadata": {
    "cell_id": "467d5151-97bf-40c9-8a80-8572e67e8f80",
    "tags": [],
    "deepnote_to_be_reexecuted": false,
    "source_hash": "7a25e8ba",
    "execution_start": 1650161081991,
    "execution_millis": 112,
    "deepnote_cell_type": "code",
    "deepnote_cell_height": 297
   },
   "source": "# print (\"{:<15} | {:<10} | {:<15} \".format('Token', 'Relation', 'Head'))\n# print (\"-\" * 50)\n  \n# # Convert sentence object to dictionary  \n# #sent_dict = doc.sentences[0].to_dict()\n# sent_dict = first_sentence.to_dict()\n\n# # iterate to print the token, relation and head\n# for word in sent_dict:\n#   print (\"{:<15} | {:<10} | {:<15} \"\n#          .format(str(word['text']),str(word['deprel']),\\\n#           str(sent_dict[word['head']-1]['text'] \\\n#           if word['head'] > 0 else 'ROOT')))",
   "outputs": [],
   "execution_count": null
  },
  {
   "cell_type": "code",
   "metadata": {
    "cell_id": "cfa66664c707410ba0b34f5913b4767e",
    "tags": [],
    "deepnote_to_be_reexecuted": false,
    "source_hash": "4c620edb",
    "execution_start": 1650161082106,
    "execution_millis": 272,
    "deepnote_cell_type": "code",
    "deepnote_cell_height": 81
   },
   "source": "# mvp_flag",
   "outputs": [],
   "execution_count": null
  },
  {
   "cell_type": "code",
   "metadata": {
    "cell_id": "db68176a-7c78-47a5-b4e8-ee382b2ba040",
    "tags": [],
    "deepnote_to_be_reexecuted": false,
    "source_hash": "a5fc6046",
    "execution_start": 1650161082381,
    "execution_millis": 200,
    "deepnote_cell_type": "code",
    "deepnote_cell_height": 1143
   },
   "source": "# # Look for the ROOT word of the dependency tree\n# # hopefully not the first wrod\n# root_id = 0\n# root_word = ''\n# for word in sent_dict:\n#     if word['head'] == 0:\n#         root_id = word['id']\n#         root_word = word['text']\n#         break    \n\n# print(\"first root id:\", root_id)\n# print(\"first root word:\", root_word)\n\n# # Lost TV series for some reason has ROOT as first word, so use what it's connected to as ROOT instead\n# if root_id in [1]:\n#     for word in sent_dict:\n#         if (word['head'] == 1) & (word['deprel'] in ['nsubj:pass', 'parataxis']):\n#             root_id = word['id']\n#             root_word = word['text']\n#             break\n\n# print(\"new root id:\", root_id)\n# print(\"new root word:\", root_word)\n \n\n# # Get all modifiers of ROOT word, loop up to 3 times to get enough words\n# all_dep_ids = []\n\n# for i in range(3): # at most 3 loops\n#     cur_dep_ids = []\n#     for word in sent_dict:\n#         if ((word['head'] in all_dep_ids + [root_id]) & (word['deprel'] in ['obl', 'compound','amod','nmod','conj','appos'])):\n#             cur_dep_ids.append(word['id'])\n\n#     all_dep_ids.extend(cur_dep_ids)\n#     print(i, all_dep_ids)\n#     if len(all_dep_ids) > 3: # bring back at least 3 words, if we have more, then they're too far away\n#         break\n# print(all_dep_ids)\n# all_dep_ids.append(root_id)\n\n# category_phrase_dict = dict()\n# for word in sent_dict:\n#     if (word['id'] in all_dep_ids):\n#         category_phrase_dict[word['id']] = (word['text'], word['deprel'])\n\n# print(category_phrase_dict)\n\n# category_phrase = []\n# for k,v in category_phrase_dict.items():\n#     category_phrase.append(v[0])\n\n# print('category_phrase:', category_phrase)\n# index_root_word = category_phrase.index(root_word)\n# category_phrase = category_phrase[:index_root_word+1]\n\n# category_phrase\n\n# # lop off everything after the root word - didn't work well, pros and cons\n",
   "outputs": [],
   "execution_count": null
  },
  {
   "cell_type": "code",
   "metadata": {
    "cell_id": "c5510fec-e739-4988-bd2d-9a657a850dbe",
    "tags": [],
    "deepnote_to_be_reexecuted": false,
    "source_hash": "92df5486",
    "execution_start": 1650161082581,
    "execution_millis": 193,
    "deepnote_cell_type": "code",
    "deepnote_cell_height": 81
   },
   "source": "# sent_dict",
   "outputs": [],
   "execution_count": null
  },
  {
   "cell_type": "code",
   "metadata": {
    "cell_id": "b4512ea6-42e0-4115-ba46-2db8488bcb92",
    "tags": [],
    "deepnote_to_be_reexecuted": false,
    "source_hash": "ee489451",
    "execution_start": 1650161082777,
    "execution_millis": 194,
    "deepnote_cell_type": "code",
    "deepnote_cell_height": 567
   },
   "source": "# id_word = {}\n# root_id = 0\n# for word in sent_dict:\n#     if word['upos'] != 'PUNCT':\n#         if word['head'] == 0:\n#             root_id = str(word['id']) \n#         id_word[str(word['id'])] = str(word['id']) + ':' + word['text'] + ':' + word['upos'] + ':' + word['xpos']\n\n# # Create Digraph object\n# sent_tree = graphviz.Digraph()\n\n# # Add just the nodes from first traversal of dict\n# for k, v in id_word.items(): \n#     # Add nodes\n#     # https://graphviz.org/doc/info/shapes.html\n#     if k == root_id:\n#         sent_tree.node(k, v, shape='star')    \n#     else:\n#         sent_tree.node(k, v, shape='egg')\n\n\n# # Traverse dict again to add all the relationships\n# for word in sent_dict:\n#     if (word['upos'] != 'PUNCT') & (str(word['head']) != '0'):        \n#         sent_tree.edge(str(word['id']), str(word['head']), label=word['deprel'])\n\n# # Visualize the graph\n# sent_tree.unflatten(stagger=2)  ",
   "outputs": [],
   "execution_count": null
  },
  {
   "cell_type": "code",
   "metadata": {
    "cell_id": "0e9e10a5-7014-4c4e-8c8b-a2f962588f24",
    "tags": [],
    "deepnote_to_be_reexecuted": false,
    "source_hash": "f726caa0",
    "execution_start": 1650161082976,
    "execution_millis": 701,
    "deepnote_cell_type": "code",
    "deepnote_cell_height": 410.9375,
    "deepnote_output_heights": [
     97.9375
    ]
   },
   "source": "def get_categories_from_wiki_article(article):\n    # use pywikibot because it can filter hidden 'meta' categories that aren't needed\n    # https://stackoverflow.com/questions/54526821/how-to-identify-wikipedia-categories-in-python\n    site = pw.Site(\"en\", \"wikipedia\")\n    non_hidden = [\n        cat.title()[:]\n        for cat in pw.Page(site, article).categories()\n        if 'hidden' not in cat.categoryinfo\n    ]\n    \n    return(non_hidden)\n\nget_categories_from_wiki_article('Cryptocurrency')",
   "outputs": [
    {
     "output_type": "execute_result",
     "execution_count": 11,
     "data": {
      "text/plain": "['Category:Applications of cryptography',\n 'Category:Cryptocurrencies',\n 'Category:Decentralization',\n 'Category:Financial technology',\n 'Category:Uberisation']"
     },
     "metadata": {}
    }
   ],
   "execution_count": null
  },
  {
   "cell_type": "code",
   "metadata": {
    "cell_id": "0345c1b6-4d3a-496a-888f-7d7868396dfe",
    "tags": [],
    "deepnote_to_be_reexecuted": false,
    "source_hash": "52164554",
    "execution_start": 1650161083691,
    "execution_millis": 184,
    "deepnote_cell_type": "code",
    "deepnote_cell_height": 981
   },
   "source": "def get_best_categories_for_term(wiki_term, wiki_cats, nlp_cat_phrase):\n    # remove parens and anyting inside them\n    wiki_term = re.sub(r'\\([^)]*\\)', '', wiki_term)\n    print('wiki_cats:', wiki_cats)\n    print('')\n\n    # https://stackoverflow.com/questions/65199011/is-there-a-way-to-check-similarity-between-two-full-sentences-in-python\n    rem_term_cats = [' '.join([wiki_term])] + wiki_cats\n    rem_first = model.encode(rem_term_cats)\n\n    print(\"Remove wiki-cats too close to actual term(first term)\")\n    print(rem_term_cats)\n    cos_remove = util.pytorch_cos_sim(rem_first, rem_first)[0].numpy()\n    print(cos_remove)\n    rem_idx = np.where(cos_remove > .7)[0]\n    #because first item is our search term here, but we need to remove items from wiki_cats, so subtract 1\n    rem_idx_from_wiki_cats = rem_idx[1:]-1\n    print(rem_idx_from_wiki_cats)\n    wiki_cats = [j for i, j in enumerate(wiki_cats) if i not in rem_idx_from_wiki_cats]\n    print('after rem:', wiki_cats)\n\n\n    keep_cat_cats = [' '.join(nlp_cat_phrase)] + wiki_cats\n    keep_first = model.encode(keep_cat_cats)\n\n    print(\"Keep wiki-cats not too far to found category(first term)\")\n    print(keep_cat_cats)\n    keep_cos = util.pytorch_cos_sim(keep_first, keep_first)[0].numpy()\n    print(keep_cos)\n    keep_idx = np.where(keep_cos > .7)[0]\n\n    keep_idx_from_wiki_cats = keep_idx[1:]-1\n\n    print('keep idx:', keep_idx_from_wiki_cats)\n    print('pre-last-filt:', wiki_cats)\n\n    # if we got anything with a decent score, keep those, otherwise everything\n    \n    if len(keep_idx_from_wiki_cats) >= 2:\n        wiki_cats = [j for i, j in enumerate(wiki_cats) if i in keep_idx_from_wiki_cats]\n    else:\n        # keep Top 5 categories iof filtering doesn't return much\n        cats_cos = list(zip(keep_cat_cats, keep_cos))\n        top_cats_cos = sorted(cats_cos, key=lambda x: x[1], reverse=True)[1:6]\n        wiki_cats = [i[0] for i in top_cats_cos]\n\n\n\n    print('post-last-filt:', wiki_cats)\n\n    return wiki_cats",
   "outputs": [],
   "execution_count": null
  },
  {
   "cell_type": "code",
   "metadata": {
    "cell_id": "506c43c6944a4e21aca5fd8fed4dbffb",
    "tags": [],
    "deepnote_to_be_reexecuted": false,
    "source_hash": "a880090d",
    "execution_start": 1650161083882,
    "execution_millis": 190,
    "deepnote_cell_type": "code",
    "deepnote_cell_height": 315
   },
   "source": "def get_first_unambiguous_wiki_term_and_page(search_term):\n    search_results = wikipedia.search(search_term)\n\n    first_wiki_term = search_results[0]    \n    #https://github.com/goldsmith/Wikipedia/issues/295\n    try:\n        page = wikipedia.page(first_wiki_term, auto_suggest=False)    \n    except wikipedia.DisambiguationError:\n        print(\"Oops! DisambiguationError, trying next result\")\n        first_wiki_term = search_results[1]\n        page = wikipedia.page(first_wiki_term, auto_suggest=False)\n\n    print('first_wiki_term:', first_wiki_term)\n    return first_wiki_term, page",
   "outputs": [],
   "execution_count": null
  },
  {
   "cell_type": "code",
   "metadata": {
    "cell_id": "79157f5e58544eccb0e3beffdf0c921b",
    "tags": [],
    "deepnote_to_be_reexecuted": false,
    "source_hash": "b5e4c19b",
    "execution_start": 1650161084075,
    "execution_millis": 120,
    "deepnote_cell_type": "code",
    "deepnote_cell_height": 153
   },
   "source": "def get_stanza_dict_of_first_sentence(wiki_summary_text):\n    # Using stanza instead of nltk to save memory\n    doc = nlp(wiki_summary_text)\n    return doc.sentences[0].to_dict()\n    #first_sentence.text",
   "outputs": [],
   "execution_count": null
  },
  {
   "cell_type": "code",
   "metadata": {
    "cell_id": "a95664ab78ad42149f1a97d86eaad459",
    "tags": [],
    "deepnote_to_be_reexecuted": false,
    "source_hash": "b199f49e",
    "execution_start": 1650161084204,
    "execution_millis": 612,
    "deepnote_cell_type": "code",
    "deepnote_cell_height": 130.1875
   },
   "source": "first_wiki_term, wiki_page = get_first_unambiguous_wiki_term_and_page('Gamestop short squeeze')\n#graph_sent(get_stanza_dict_of_first_sentence(wiki_page.summary))",
   "outputs": [
    {
     "name": "stdout",
     "text": "first_wiki_term: GameStop short squeeze\n",
     "output_type": "stream"
    }
   ],
   "execution_count": null
  },
  {
   "cell_type": "code",
   "metadata": {
    "cell_id": "ca7f6bde2617453a883dfdf42d3bfe6c",
    "tags": [],
    "deepnote_to_be_reexecuted": false,
    "source_hash": "f33b6a45",
    "execution_start": 1650161084827,
    "execution_millis": 178,
    "deepnote_cell_type": "code",
    "deepnote_cell_height": 1341
   },
   "source": "def get_nlp_category_phrase(wiki_page):\n    \n    wiki_page_text = wiki_page.summary\n    # # Using stanza instead of nltk to save memory\n    # doc = nlp(wiki_page_text)\n    # first_sentence = doc.sentences[0]\n    # #first_sentence.text\n    sent_dict = get_stanza_dict_of_first_sentence(wiki_page_text)\n\n    # Look for the ROOT word of the dependency tree\n    # hopefully not the first word\n    root_id = 0\n    root_word = ''\n    for word in sent_dict:\n        if word['head'] == 0:\n            root_id = word['id']\n            root_word = word['text']\n            break    \n\n    # print(\"first root id:\", root_id)\n    # print(\"first root word:\", root_word)            \n\n    # Lost TV series for some reason has ROOT as first word\n    if root_id in [1]:\n        for word in sent_dict:\n            if (word['head'] == 1) & (word['deprel'] in ['nsubj:pass', 'parataxis']):\n                root_id = word['id']                \n                root_word = word['text']\n                break\n\n    # print(\"new root id:\", root_id)\n    # print(\"new root word:\", root_word)\n\n    # Get all modifiers of ROOT word, loop up to 3 times to get enough words\n    all_dep_ids = []\n\n    for i in range(3):  # at most 3 loops\n        cur_dep_ids = []\n        for word in sent_dict:\n            if ((word['head'] in all_dep_ids + [root_id]) & (word['deprel'] in ['obl', 'compound','amod','nmod','conj','appos'])):\n                cur_dep_ids.append(word['id'])\n\n        all_dep_ids.extend(cur_dep_ids)\n        #print(i, all_dep_ids)\n        if len(all_dep_ids) > 2:    # bring back at least 4 words, if we have more, then they're too far away\n            break\n    #print(all_dep_ids)\n    all_dep_ids.append(root_id)\n\n    category_phrase_dict = dict()\n    for word in sent_dict:\n        if (word['id'] in all_dep_ids):\n            category_phrase_dict[word['id']] = word['text']\n\n    #print(category_phrase_dict)\n\n    nlp_category_phrase = []\n    for k,v in category_phrase_dict.items():\n        nlp_category_phrase.append(v)\n    #print('**', search_term, '**', first_wiki_term, '**', nlp_category_phrase)\n    #print(wiki_page.categories)\n\n    # print(nlp_category_phrase)\n    index_root_word = nlp_category_phrase.index(root_word)\n    \n    # this was an attempt to cut off the phrases at the root word, but some continue past it, iPhone for example\n    #nlp_category_phrase = nlp_category_phrase[:index_root_word+1]\n\n    print('nlp phrase:', nlp_category_phrase)\n    return nlp_category_phrase\n",
   "outputs": [],
   "execution_count": null
  },
  {
   "cell_type": "code",
   "metadata": {
    "cell_id": "f8d4a36d-74c3-4c6a-b98a-4fc5f90944dc",
    "tags": [],
    "deepnote_to_be_reexecuted": false,
    "source_hash": "f6ff4a33",
    "execution_start": 1650161085072,
    "execution_millis": 120,
    "deepnote_cell_type": "code",
    "deepnote_cell_height": 297
   },
   "source": "def get_category_from_search_term(search_term):   \n    \n    first_wiki_term, wiki_page = get_first_unambiguous_wiki_term_and_page(search_term)\n\n    nlp_category_phrase = get_nlp_category_phrase(wiki_page)\n\n    raw_wiki_cats = get_categories_from_wiki_article(first_wiki_term)\n\n    best_wiki_cats = get_best_categories_for_term(first_wiki_term, raw_wiki_cats, nlp_category_phrase)\n\n    expanded_year_wiki_cats = get_all_combined_wiki_cats(best_wiki_cats)\n\n    return nlp_category_phrase, expanded_year_wiki_cats, best_wiki_cats, first_wiki_term",
   "outputs": [],
   "execution_count": null
  },
  {
   "cell_type": "code",
   "metadata": {
    "cell_id": "0556ab71-2a7f-4b7e-a29c-9f0025b162b5",
    "tags": [],
    "deepnote_to_be_reexecuted": false,
    "source_hash": "b623e53d",
    "execution_start": 1650161085195,
    "execution_millis": 2,
    "deepnote_cell_type": "code",
    "deepnote_cell_height": 81
   },
   "source": "",
   "outputs": [],
   "execution_count": null
  },
  {
   "cell_type": "code",
   "metadata": {
    "cell_id": "3e50ee7188af4e538211787b2021583e",
    "tags": [],
    "deepnote_to_be_reexecuted": false,
    "source_hash": "b623e53d",
    "execution_start": 1650161085245,
    "execution_millis": 168771768,
    "deepnote_cell_type": "code",
    "deepnote_cell_height": 81
   },
   "source": "",
   "outputs": [],
   "execution_count": null
  },
  {
   "cell_type": "code",
   "metadata": {
    "cell_id": "e9e03895-64b9-4cbe-8a35-933cbb247596",
    "tags": [],
    "deepnote_to_be_reexecuted": false,
    "source_hash": "b623e53d",
    "execution_start": 1650161085246,
    "execution_millis": 168771811,
    "deepnote_cell_type": "code",
    "deepnote_cell_height": 81
   },
   "source": "",
   "outputs": [],
   "execution_count": null
  },
  {
   "cell_type": "code",
   "metadata": {
    "cell_id": "970109d2-d932-4b3d-a78b-0617a6f8722d",
    "tags": [],
    "deepnote_to_be_reexecuted": false,
    "source_hash": "f49348e0",
    "execution_start": 1650161085247,
    "execution_millis": 181,
    "deepnote_cell_type": "code",
    "deepnote_cell_height": 225
   },
   "source": "def get_wiki_wiki_pages_for_cat_members(category):\n    wiki_cat = ''\n    try:\n        wiki_cat = wiki_wiki.page(category)        \n    except requests.exceptions.SSLError:\n        print(\"SSLError exception caught!!!!!!!!!!!!!!!\")\n        time.sleep(5)\n        wiki_cat = wiki_wiki.page(category)\n    return wiki_cat",
   "outputs": [],
   "execution_count": null
  },
  {
   "cell_type": "code",
   "metadata": {
    "cell_id": "183082e5-f014-423e-9e88-aae9818bbbb8",
    "tags": [],
    "deepnote_to_be_reexecuted": false,
    "source_hash": "3b6a7705",
    "execution_start": 1650161085428,
    "execution_millis": 548,
    "deepnote_cell_type": "code",
    "deepnote_cell_height": 1048.25,
    "deepnote_output_heights": [
     null,
     59.5625
    ]
   },
   "source": "test_wiki_cat = \"Category:Board games introduced in 1995\"\ndef return_new_year_cats(wiki_cat):\n    year_pattern = re.compile('(19|20)\\d{2}s?')\n    check_for_year = re.search(year_pattern, wiki_cat)\n\n    curr_year = dt.datetime.now().year\n\n    new_cat_list = []\n\n    if check_for_year != None:\n        print('found', check_for_year.group(0), 'in category:', wiki_cat)        \n        found_year = check_for_year.group(0)\n\n        if 's' in found_year:\n            new_category = wiki_cat.replace(found_year, '2020s')\n            print(new_category)\n            #check category exists\n            pages_in_new_cat = len(get_wiki_wiki_pages_for_cat_members(new_category).categorymembers.keys())\n            if pages_in_new_cat > 0:\n                # add cat to existing list\n                print(pages_in_new_cat, 'exists!')\n                new_cat_list.append(new_category)\n        else:\n            for pot_year in [str(x) for x in [curr_year - i for i in range(5)]]:\n                \n                print(pot_year)\n                new_category = wiki_cat.replace(found_year, pot_year)\n                #check category exists\n                pages_in_new_cat = len(get_wiki_wiki_pages_for_cat_members(new_category).categorymembers.keys())\n                if pages_in_new_cat > 0:\n                    # add cat to existing list\n                    print(pages_in_new_cat, 'exists!')\n                    new_cat_list.append(new_category)\n                \n\n    return new_cat_list\n\nreturn_new_year_cats(test_wiki_cat)\n",
   "outputs": [
    {
     "name": "stdout",
     "text": "found 1995 in category: Category:Board games introduced in 1995\n2022\n2021\n2020\n5 exists!\n2019\n8 exists!\n2018\n6 exists!\n",
     "output_type": "stream"
    },
    {
     "output_type": "execute_result",
     "execution_count": 19,
     "data": {
      "text/plain": "['Category:Board games introduced in 2020',\n 'Category:Board games introduced in 2019',\n 'Category:Board games introduced in 2018']"
     },
     "metadata": {}
    }
   ],
   "execution_count": null
  },
  {
   "cell_type": "code",
   "metadata": {
    "cell_id": "c2c0aad1-6879-496e-bb71-e2241f487e3e",
    "tags": [],
    "deepnote_to_be_reexecuted": false,
    "source_hash": "50d4eaff",
    "execution_start": 1650161085985,
    "execution_millis": 198,
    "deepnote_cell_type": "code",
    "deepnote_cell_height": 369
   },
   "source": "def expand_years_in_cats_to_modern(list_wiki_cats):\n    new_year_cats_to_add = []\n    # SSLError: HTTPSConnectionPool(host='en.wikipedia.org', port=443)\n\n    for cat in list_wiki_cats:    \n        print(\"****\", cat)\n        try:\n            new_year_cats_to_add.append(return_new_year_cats(cat))\n\n        except requests.exceptions.SSLError:\n            print(\"SSLError exception caught!!!!!!!!!!!!!!!\")\n            time.sleep(5)\n            new_year_cats_to_add.append(return_new_year_cats(cat))   \n\n    return new_year_cats_to_add\n\n",
   "outputs": [],
   "execution_count": null
  },
  {
   "cell_type": "code",
   "metadata": {
    "cell_id": "bab81a13-9a7d-4201-98e5-eaf506d70108",
    "tags": [],
    "deepnote_to_be_reexecuted": false,
    "source_hash": "6c692466",
    "execution_start": 1650161086188,
    "execution_millis": 184,
    "deepnote_cell_type": "code",
    "deepnote_cell_height": 189
   },
   "source": "def get_all_combined_wiki_cats(list_wiki_cats):\n    combined_wiki_cats = list_wiki_cats\n    for year_cats in expand_years_in_cats_to_modern(list_wiki_cats):\n        combined_wiki_cats = list(set(combined_wiki_cats + year_cats))\n    return combined_wiki_cats\n\n",
   "outputs": [],
   "execution_count": null
  },
  {
   "cell_type": "code",
   "metadata": {
    "cell_id": "3c0d01a7-48b8-4f70-b0c1-29d19a6ae0c7",
    "tags": [],
    "deepnote_to_be_reexecuted": false,
    "source_hash": "e472789e",
    "execution_start": 1650161086420,
    "execution_millis": 149,
    "deepnote_cell_type": "code",
    "deepnote_cell_height": 927
   },
   "source": "def make_cat_content_dict_from_cats(wiki_cats, wiki_term, mvp_flag, max_num_wiki_articles_per_cat = 200):\n    # given the filtered cats, try getting the summaries for all the pages mentioned into a dict, to pass to Kim\n       \n    page_cat_content_dict = dict()\n    \n    pkl_file_name = './output_step1/wiki_200_cat_content_' + wiki_term.replace(' ', '_') + '.pickle'\n\n    if mvp_flag and file_exists(pkl_file_name):\n        print('mvp! wikipedia cat content already exists.')\n        with open(pkl_file_name, 'rb') as handle:\n            page_cat_content_dict = pickle.load(handle)\n    else:\n\n        for idx, cat in enumerate(wiki_cats):\n                \n            page_content_dict = dict()\n\n            try:       \n                cat_page_member_keys = get_wiki_wiki_pages_for_cat_members(cat).categorymembers.keys()\n            except requests.exceptions.SSLError:\n                print(\"SSLError exception caught!!!!!!!!!!!!!!!\")\n                time.sleep(5)\n                cat_page_member_keys = get_wiki_wiki_pages_for_cat_members(cat).categorymembers.keys()\n\n            print(cat, idx+1, 'of', len(wiki_cats), ':', len(cat_page_member_keys))\n            remove_from_pages = ['Category:', 'List of', 'Comparison of'] + [wiki_term]\n\n            # list_of_filt_pages = [page for page in list(cat_page_member_keys)[:100] if not any(x.lower() in page.lower() for x in remove_from_pages)]\n            list_of_filt_pages = [page for page in list(cat_page_member_keys) if not any(x.lower() in page.lower() for x in remove_from_pages)][:max_num_wiki_articles_per_cat]\n\n            for filt_page in list_of_filt_pages:            \n                try:                \n                    page_content_dict[filt_page] = wikipedia.page(filt_page, auto_suggest=False).content                \n                except wikipedia.DisambiguationError:\n                    print(\"Oops! DisambiguationError, trying next result\")                \n                    continue\n            \n            page_cat_content_dict[cat] = page_content_dict\n\n        print('Dumping wikipedia cat content file')\n        with open(pkl_file_name, 'wb') as handle:\n            pickle.dump(page_cat_content_dict, handle, protocol=pickle.HIGHEST_PROTOCOL)\n    \n    return page_cat_content_dict\n\n    # need to catch timeout here, for hitting API too often\n\n",
   "outputs": [],
   "execution_count": null
  },
  {
   "cell_type": "code",
   "metadata": {
    "cell_id": "63d5a7739ea24ba1bac72020535c458c",
    "tags": [],
    "deepnote_to_be_reexecuted": false,
    "source_hash": "b623e53d",
    "execution_start": 1650161086618,
    "execution_millis": 1,
    "deepnote_cell_type": "code",
    "deepnote_cell_height": 81
   },
   "source": "",
   "outputs": [],
   "execution_count": null
  },
  {
   "cell_type": "code",
   "metadata": {
    "cell_id": "01f7352ce1474621b61b799754ee7e93",
    "tags": [],
    "deepnote_to_be_reexecuted": false,
    "source_hash": "77f66f77",
    "execution_start": 1650161086619,
    "execution_millis": 158,
    "deepnote_cell_type": "code",
    "deepnote_cell_height": 81
   },
   "source": "#wiki_cats",
   "outputs": [],
   "execution_count": null
  },
  {
   "cell_type": "code",
   "metadata": {
    "cell_id": "faa5e9a1-4b87-4872-84ed-a4a4901eaa58",
    "tags": [],
    "deepnote_to_be_reexecuted": false,
    "source_hash": "faef2f6",
    "execution_start": 1650161086780,
    "execution_millis": 196,
    "deepnote_cell_type": "code",
    "deepnote_cell_height": 549
   },
   "source": "def get_whitelist_dicts_by_cat(wiki_cats, wiki_term):\n    #print(wiki_cats)\n    # to get whitelist of all terms to search for in sentences from Kim deemed to be related to our category\n    white_list_dict = dict()\n    for cat in wiki_cats:\n        cat_page = get_wiki_wiki_pages_for_cat_members(cat)\n        print(cat)#, len(cat_page.categorymembers.keys()))\n        remove_from_pages = ['Category:', 'List of', 'Comparison of'] + [wiki_term]\n\n        list_of_filt_pages = [page for page in cat_page.categorymembers.keys() if not any(x.lower() in page.lower() for x in remove_from_pages)]\n\n        # get rid of everything between parens like this: 'Chimera (South Korean TV series)',\n        # https://stackoverflow.com/questions/29570771/re-sub-on-lists-python-3\n        # https://stackoverflow.com/questions/640001/how-can-i-remove-text-within-parentheses-with-a-regex\n        # https://stackoverflow.com/questions/71023854/how-to-find-subcategories-and-subpages-on-wikipedia-using-pywikibot\n        \n        list_of_filt_pages_nothing_in_parens = [re.sub(r'\\([^)]*\\)', '', i) for i in list_of_filt_pages]\n\n        list_of_filt_pages_no_parens = [i.replace('(', '').replace(')', '') for i in list_of_filt_pages]\n\n        list_of_filt_pages_no_parens_strip = list(set([i.strip() for i in list_of_filt_pages_no_parens]))\n\n        white_list_dict[cat] = list_of_filt_pages_no_parens_strip\n\n    return white_list_dict\n\n",
   "outputs": [],
   "execution_count": null
  },
  {
   "cell_type": "code",
   "metadata": {
    "cell_id": "e4eb500305a542b4ae842b07fd0f971c",
    "tags": [],
    "deepnote_to_be_reexecuted": false,
    "source_hash": "3f1b10ba",
    "execution_start": 1650161087024,
    "execution_millis": 65,
    "deepnote_cell_type": "code",
    "deepnote_cell_height": 531
   },
   "source": "def filter_whitelist_dict_for_common_words(white_list_dict, wiki_term):\n    filt_white_list = dict()\n    # remove words that are too common in each category\n    # rule: appear at least 10 times, and be in greater than 20% of all entries\n\n    for k, v in white_list_dict.items(): # {category:list of titles}\n        print(len(v), k, v)\n        words = Counter()\n        for phrase in v:\n            words.update(phrase.split())\n        print(words)\n        \n        words_to_remove = []\n        for word, count in words.most_common():\n            if (count < 10):\n                break\n            if (count/len(v) > .2):\n                words_to_remove.append(word)\n\n        print(\"remove:\", words_to_remove)\n\n        p = re.compile('|'.join(map(re.escape, words_to_remove))) # escape to handle metachars\n        filt_white_list[k] = [' '.join(p.sub('', s).split()) for s in v]\n\n    return filt_white_list\n",
   "outputs": [],
   "execution_count": null
  },
  {
   "cell_type": "code",
   "metadata": {
    "cell_id": "d7e6d2c2a0ec4a9b874b481b34ab6239",
    "tags": [],
    "deepnote_to_be_reexecuted": false,
    "source_hash": "fb62b46c",
    "execution_start": 1650161087094,
    "execution_millis": 112,
    "deepnote_cell_type": "code",
    "deepnote_cell_height": 351
   },
   "source": "def make_white_list_cat_content_files(wiki_cats, wiki_term, mvp_flag):\n    make_cat_content_dict_from_cats(wiki_cats, wiki_term, mvp_flag)\n    \n    white_list_dict = get_whitelist_dicts_by_cat(wiki_cats, wiki_term)\n    white_list_dict\n\n    filt_white_list = filter_whitelist_dict_for_common_words(white_list_dict, wiki_term)\n\n    filt_white_list\n\n    \n\n    with open('./output_step1/white_list_200_' + wiki_term.replace(' ', '_') + '.pickle', 'wb') as handle:\n        pickle.dump(filt_white_list, handle, protocol=pickle.HIGHEST_PROTOCOL)\n    \n    print(wiki_term)",
   "outputs": [],
   "execution_count": null
  },
  {
   "cell_type": "code",
   "metadata": {
    "cell_id": "7f6a58c7074845b9b135223e84c4fc04",
    "tags": [],
    "deepnote_to_be_reexecuted": false,
    "source_hash": "3f1b5ebe",
    "execution_start": 1650161087256,
    "execution_millis": 7416,
    "deepnote_cell_type": "code",
    "deepnote_cell_height": 953
   },
   "source": "test_terms = ['model t', 'squid game', 'lost tv', 'apple iphone', \\\n                'obama', 'trump', 'subway tile', 'sport', 'mandalorian',\\\n                'gamestop', 'ps5', 'bitcoin', 'ketogenic diet',\\\n                'dogecoin', 'ford bronco', 'ted lasso', 'pickle ball',\\\n                'data science', 'crocs', 'terraforming mars', 'final fantasy',\\\n                'catan', 'steve jobs', 'batman', 'tesla motors', 'cronut', 'cryptocurrency',\\\n                'elon musk', 'beastie boys', 'birkin bag', 'Game Stop Short Squeeze', 'oxycontin']\n\nterm = 'squid game' #test_terms[21] cronut, pickleball\nmvp_flag = True\n\nnlp_cat_phrase, wiki_cats, init_wiki_cats, wiki_term = get_category_from_search_term(term)\n# # Try search for all categories that are cosine close to search category\n\nmake_white_list_cat_content_files(wiki_cats, wiki_term, mvp_flag)",
   "outputs": [
    {
     "name": "stdout",
     "text": "first_wiki_term: Squid Game\nnlp phrase: ['Korean', 'drama', 'television', 'series']\nwiki_cats: ['Category:2021 South Korean television series debuts', 'Category:Battle royale', 'Category:Criticism of capitalism', 'Category:Death games in fiction', 'Category:Korean-language Netflix original programming', 'Category:South Korean action television series', 'Category:South Korean horror fiction television series', 'Category:South Korean thriller television series', 'Category:Squid Game', 'Category:Television series impacted by the COVID-19 pandemic', 'Category:Television series set on fictional islands', 'Category:Television shows about death games', 'Category:Television shows set in Seoul']\n\nRemove wiki-cats too close to actual term(first term)\n['Squid Game', 'Category:2021 South Korean television series debuts', 'Category:Battle royale', 'Category:Criticism of capitalism', 'Category:Death games in fiction', 'Category:Korean-language Netflix original programming', 'Category:South Korean action television series', 'Category:South Korean horror fiction television series', 'Category:South Korean thriller television series', 'Category:Squid Game', 'Category:Television series impacted by the COVID-19 pandemic', 'Category:Television series set on fictional islands', 'Category:Television shows about death games', 'Category:Television shows set in Seoul']\n[ 1.          0.13306913  0.29734474 -0.00926726  0.28311908  0.20554653\n  0.23401542  0.16387379  0.15864381  0.89878356  0.1073044   0.19731182\n  0.26085496  0.18763691]\n[8]\nafter rem: ['Category:2021 South Korean television series debuts', 'Category:Battle royale', 'Category:Criticism of capitalism', 'Category:Death games in fiction', 'Category:Korean-language Netflix original programming', 'Category:South Korean action television series', 'Category:South Korean horror fiction television series', 'Category:South Korean thriller television series', 'Category:Television series impacted by the COVID-19 pandemic', 'Category:Television series set on fictional islands', 'Category:Television shows about death games', 'Category:Television shows set in Seoul']\nKeep wiki-cats not too far to found category(first term)\n['Korean drama television series', 'Category:2021 South Korean television series debuts', 'Category:Battle royale', 'Category:Criticism of capitalism', 'Category:Death games in fiction', 'Category:Korean-language Netflix original programming', 'Category:South Korean action television series', 'Category:South Korean horror fiction television series', 'Category:South Korean thriller television series', 'Category:Television series impacted by the COVID-19 pandemic', 'Category:Television series set on fictional islands', 'Category:Television shows about death games', 'Category:Television shows set in Seoul']\n[1.0000005  0.7944901  0.15392083 0.06365414 0.21105582 0.6015061\n 0.87840974 0.7400809  0.86285573 0.31945732 0.4481245  0.43091518\n 0.7427125 ]\nkeep idx: [ 0  5  6  7 11]\npre-last-filt: ['Category:2021 South Korean television series debuts', 'Category:Battle royale', 'Category:Criticism of capitalism', 'Category:Death games in fiction', 'Category:Korean-language Netflix original programming', 'Category:South Korean action television series', 'Category:South Korean horror fiction television series', 'Category:South Korean thriller television series', 'Category:Television series impacted by the COVID-19 pandemic', 'Category:Television series set on fictional islands', 'Category:Television shows about death games', 'Category:Television shows set in Seoul']\npost-last-filt: ['Category:2021 South Korean television series debuts', 'Category:South Korean action television series', 'Category:South Korean horror fiction television series', 'Category:South Korean thriller television series', 'Category:Television shows set in Seoul']\n**** Category:2021 South Korean television series debuts\nfound 2021 in category: Category:2021 South Korean television series debuts\n2022\n75 exists!\n2021\n116 exists!\n2020\n123 exists!\n2019\n144 exists!\n2018\n154 exists!\n**** Category:South Korean action television series\n**** Category:South Korean horror fiction television series\n**** Category:South Korean thriller television series\n**** Category:Television shows set in Seoul\nmvp! wikipedia cat content already exists.\nCategory:South Korean horror fiction television series\nCategory:2022 South Korean television series debuts\nCategory:2020 South Korean television series debuts\nCategory:2019 South Korean television series debuts\nCategory:South Korean action television series\nCategory:South Korean thriller television series\nCategory:2021 South Korean television series debuts\nCategory:Television shows set in Seoul\nCategory:2018 South Korean television series debuts\n11 Category:South Korean horror fiction television series ['Zombie Detective', 'Soul South Korean TV series', 'All of Us Are Dead', 'Sweet Home TV series', 'Jirisan TV series', 'The Guest TV series', 'Bring It On, Ghost', 'The Ghost Detective', 'Kingdom South Korean TV series', 'Hellbound TV series', 'Grudge: The Revolt of Gumiho']\nCounter({'TV': 6, 'series': 6, 'The': 3, 'Detective': 2, 'South': 2, 'Korean': 2, 'of': 2, 'Ghost': 2, 'Zombie': 1, 'Soul': 1, 'All': 1, 'Us': 1, 'Are': 1, 'Dead': 1, 'Sweet': 1, 'Home': 1, 'Jirisan': 1, 'Guest': 1, 'Bring': 1, 'It': 1, 'On,': 1, 'Kingdom': 1, 'Hellbound': 1, 'Grudge:': 1, 'Revolt': 1, 'Gumiho': 1})\nremove: []\n75 Category:2022 South Korean television series debuts ['Somebody TV series', 'Little Women 2022 TV series', 'Woori the Virgin', 'Remarriage & Desires', 'Insider South Korean TV series', 'A Superior Day', 'Cleaning Up South Korean TV series', 'Doctor Lawyer', 'Ghost Doctor', 'Moving South Korean TV series', 'Business Proposal', 'The King of Pigs TV series', 'Sponsor TV series', 'Black Knight South Korean TV series', 'A Model Family', \"Dr. Park's Clinic\", 'Bloody Romance South Korean TV series', 'Adamas TV series', 'Grid South Korean TV series', 'Joseon Psychiatrist Yoo Se-poong', 'Kill Heel', 'The Police Station Next to the Fire Station', 'Rookie Cops', 'Circle House', 'Anna South Korean TV series', 'Crazy Love 2022 TV series', 'The Accidental Narco', 'Love According to the Law', 'The Witch Is Alive', 'Blind South Korean TV series', 'Island South Korean TV series', \"Jinx's Lover\", 'Thirty-Nine', 'Through the Darkness TV series', 'Tracer TV series', 'Semantic Error TV series', 'Fly High Butterfly', 'Minamdang', 'Twenty-Five Twenty-One', 'Monstrous TV series', 'Tomorrow South Korean TV series', 'Why Her', 'All of Us Are Dead', 'Trolley TV series', 'Eve South Korean TV series', 'Soul Marriage', 'The Sound of Magic', 'Youth TV series', 'The Youngest Son of a Conglomerate', 'Bravo, My Life 2022 TV series', 'Golden Spoon TV series', 'Mental Coach Je Gal-gil', 'Military Prosecutor Doberman', 'Shooting Stars South Korean TV series', \"Green Mothers' Club\", 'Soundtrack 1', 'Our Blues', 'Again My Life', 'True Sword Battle', 'My Liberation Notes', 'Glitch South Korean TV series', \"The Killer's Shopping List\", 'Big Mouse', 'Bloody Heart', 'Dear. M', 'Golden Mask TV series', 'Juvenile Justice', 'The Secret House TV series', 'Money Heist: Korea – Joint Economic Area', 'Love All Play TV series', 'The Origin – A, B, Or What?', 'Link: Eat, Love, Kill', \"It's Beautiful Now\", 'Forecasting Love and Weather', 'From Now on, Showtime!']\nCounter({'TV': 30, 'series': 30, 'South': 13, 'Korean': 13, 'The': 9, 'the': 4, 'of': 4, 'Love': 4, '2022': 3, 'My': 3, 'A': 2, 'Doctor': 2, 'Bloody': 2, 'Kill': 2, 'Station': 2, 'to': 2, 'House': 2, 'All': 2, 'Life': 2, 'Golden': 2, '–': 2, 'Now': 2, 'Somebody': 1, 'Little': 1, 'Women': 1, 'Woori': 1, 'Virgin': 1, 'Remarriage': 1, '&': 1, 'Desires': 1, 'Insider': 1, 'Superior': 1, 'Day': 1, 'Cleaning': 1, 'Up': 1, 'Lawyer': 1, 'Ghost': 1, 'Moving': 1, 'Business': 1, 'Proposal': 1, 'King': 1, 'Pigs': 1, 'Sponsor': 1, 'Black': 1, 'Knight': 1, 'Model': 1, 'Family': 1, 'Dr.': 1, \"Park's\": 1, 'Clinic': 1, 'Romance': 1, 'Adamas': 1, 'Grid': 1, 'Joseon': 1, 'Psychiatrist': 1, 'Yoo': 1, 'Se-poong': 1, 'Heel': 1, 'Police': 1, 'Next': 1, 'Fire': 1, 'Rookie': 1, 'Cops': 1, 'Circle': 1, 'Anna': 1, 'Crazy': 1, 'Accidental': 1, 'Narco': 1, 'According': 1, 'Law': 1, 'Witch': 1, 'Is': 1, 'Alive': 1, 'Blind': 1, 'Island': 1, \"Jinx's\": 1, 'Lover': 1, 'Thirty-Nine': 1, 'Through': 1, 'Darkness': 1, 'Tracer': 1, 'Semantic': 1, 'Error': 1, 'Fly': 1, 'High': 1, 'Butterfly': 1, 'Minamdang': 1, 'Twenty-Five': 1, 'Twenty-One': 1, 'Monstrous': 1, 'Tomorrow': 1, 'Why': 1, 'Her': 1, 'Us': 1, 'Are': 1, 'Dead': 1, 'Trolley': 1, 'Eve': 1, 'Soul': 1, 'Marriage': 1, 'Sound': 1, 'Magic': 1, 'Youth': 1, 'Youngest': 1, 'Son': 1, 'a': 1, 'Conglomerate': 1, 'Bravo,': 1, 'Spoon': 1, 'Mental': 1, 'Coach': 1, 'Je': 1, 'Gal-gil': 1, 'Military': 1, 'Prosecutor': 1, 'Doberman': 1, 'Shooting': 1, 'Stars': 1, 'Green': 1, \"Mothers'\": 1, 'Club': 1, 'Soundtrack': 1, '1': 1, 'Our': 1, 'Blues': 1, 'Again': 1, 'True': 1, 'Sword': 1, 'Battle': 1, 'Liberation': 1, 'Notes': 1, 'Glitch': 1, \"Killer's\": 1, 'Shopping': 1, 'List': 1, 'Big': 1, 'Mouse': 1, 'Heart': 1, 'Dear.': 1, 'M': 1, 'Mask': 1, 'Juvenile': 1, 'Justice': 1, 'Secret': 1, 'Money': 1, 'Heist:': 1, 'Korea': 1, 'Joint': 1, 'Economic': 1, 'Area': 1, 'Play': 1, 'Origin': 1, 'A,': 1, 'B,': 1, 'Or': 1, 'What?': 1, 'Link:': 1, 'Eat,': 1, 'Love,': 1, \"It's\": 1, 'Beautiful': 1, 'Forecasting': 1, 'and': 1, 'Weather': 1, 'From': 1, 'on,': 1, 'Showtime!': 1})\nremove: ['TV', 'series']\n123 Category:2020 South Korean television series debuts ['Tale of the Nine Tailed', 'Live On TV series', 'XX web series', 'The World of the Married', 'Good Girl TV series', 'Birthcare Center', 'Hello Dracula', 'Flower of Evil South Korean TV series', 'My Unfamiliar Family', 'True Beauty South Korean TV series', 'Find Me in Your Memory', 'My Dangerous Wife', 'Brilliant Heritage', 'The Penthouse: War in Life', 'On & Off TV series', 'Phoenix 2020', \"Baby Shark's Big Show!\", 'Was It Love?', 'Man in a Veil', 'Run South Korean TV series', 'Do Do Sol Sol La La Sol', 'Record of Youth', 'Top 10 Student', 'The House Detox', 'Soul Mechanic', 'Do You Like Brahms?', 'The Cursed TV series', 'Oh My Baby', 'Road to Kingdom', 'Once Again South Korean TV series', 'All That Cube', 'Men Are Men', 'Sixth Sense TV series', '365: Repeat the Year', 'Chip In', 'Homemade Love Story', 'Awaken TV series', \"It's Okay to Not Be Okay\", 'Mom Has an Affair', 'The King: Eternal Monarch', 'Rugal TV series', 'Miss Back', 'Tell Me What You Saw', '20th Century Hit Song', 'Extracurricular TV series', 'Memorist', 'Get Revenge', 'House on Wheels', 'My Holo Love', 'Touch South Korean TV series', 'Forest TV series', 'Lie After Lie', 'When the Weather Is Fine TV series', 'Mr. Queen', 'Zombie Detective', 'Hush TV series', 'Romantic Call Centre', 'Handsome Tigers', 'A Piece of Your Mind', 'How to Buy a Friend', 'Welcome TV series', 'The Good Detective', 'Start-Up South Korean TV series', \"Please Don't Date Him\", 'Born Again TV series', 'The School Nurse Files', 'Eccentric! Chef Moon', 'More Than Friends TV series', 'Dr. Romantic', 'I-Land', 'Learn Way', 'Travelling Market', 'Dinner Mate', 'Mystic Pop-up Bar', 'Never Ending Neverland', 'Oh! My Part, You', 'Sweet Home TV series', 'Run On TV series', 'Royal Secret Agent', 'Kkondae Intern', 'Fatal Promise', 'Mr. Trot', 'Idol on Quiz', 'SF8', 'The Dreamer TV series', 'Cheat on Me If You Can', 'Memorials TV series', 'The Game: Towards Zero', 'Come Drive In', 'Hospital Playlist', 'Backstreet Rookie', 'The Uncanny Counter', 'Graceful Friends', 'We Got Divorced', 'Search South Korean TV series', 'Sweet Munchies', 'Nobody Knows TV series', 'Friday Joy Package', 'Private Lives TV series', 'The Spies Who Loved Me', 'Love of 7.7 Billion', 'Kingmaker: The Change of Destiny', 'Itaewon Class', 'Hometown Flex', 'When My Love Blooms', 'When I Was the Most Beautiful', 'Missing: The Other Side', 'No Matter What TV series', \"Don't be the First One!\", 'Good Casting', 'Money Game TV series', 'Hyena TV series', 'Kairos TV series', 'Hi Bye, Mama!', 'Gamsung Camping', 'Alice South Korean TV series', '18 Again', 'Twogether TV program', 'K-Trot in Town', 'Team Bulldog: Off-Duty Investigation', 'Train TV series', 'Delayed Justice', 'Wannabe Ryan']\nCounter({'TV': 34, 'series': 34, 'The': 13, 'South': 8, 'Korean': 8, 'of': 7, 'the': 6, 'My': 6, 'Me': 4, 'in': 4, 'You': 4, 'Love': 4, 'On': 3, 'Good': 3, 'Do': 3, 'Sol': 3, 'to': 3, 'Again': 3, 'on': 3, 'When': 3, 'Your': 2, 'Baby': 2, 'Was': 2, 'a': 2, 'Run': 2, 'La': 2, 'House': 2, 'Men': 2, 'In': 2, 'Okay': 2, 'What': 2, 'Lie': 2, 'Mr.': 2, 'Detective': 2, 'Romantic': 2, \"Don't\": 2, 'Friends': 2, 'Sweet': 2, 'Tale': 1, 'Nine': 1, 'Tailed': 1, 'Live': 1, 'XX': 1, 'web': 1, 'World': 1, 'Married': 1, 'Girl': 1, 'Birthcare': 1, 'Center': 1, 'Hello': 1, 'Dracula': 1, 'Flower': 1, 'Evil': 1, 'Unfamiliar': 1, 'Family': 1, 'True': 1, 'Beauty': 1, 'Find': 1, 'Memory': 1, 'Dangerous': 1, 'Wife': 1, 'Brilliant': 1, 'Heritage': 1, 'Penthouse:': 1, 'War': 1, 'Life': 1, '&': 1, 'Off': 1, 'Phoenix': 1, '2020': 1, \"Shark's\": 1, 'Big': 1, 'Show!': 1, 'It': 1, 'Love?': 1, 'Man': 1, 'Veil': 1, 'Record': 1, 'Youth': 1, 'Top': 1, '10': 1, 'Student': 1, 'Detox': 1, 'Soul': 1, 'Mechanic': 1, 'Like': 1, 'Brahms?': 1, 'Cursed': 1, 'Oh': 1, 'Road': 1, 'Kingdom': 1, 'Once': 1, 'All': 1, 'That': 1, 'Cube': 1, 'Are': 1, 'Sixth': 1, 'Sense': 1, '365:': 1, 'Repeat': 1, 'Year': 1, 'Chip': 1, 'Homemade': 1, 'Story': 1, 'Awaken': 1, \"It's\": 1, 'Not': 1, 'Be': 1, 'Mom': 1, 'Has': 1, 'an': 1, 'Affair': 1, 'King:': 1, 'Eternal': 1, 'Monarch': 1, 'Rugal': 1, 'Miss': 1, 'Back': 1, 'Tell': 1, 'Saw': 1, '20th': 1, 'Century': 1, 'Hit': 1, 'Song': 1, 'Extracurricular': 1, 'Memorist': 1, 'Get': 1, 'Revenge': 1, 'Wheels': 1, 'Holo': 1, 'Touch': 1, 'Forest': 1, 'After': 1, 'Weather': 1, 'Is': 1, 'Fine': 1, 'Queen': 1, 'Zombie': 1, 'Hush': 1, 'Call': 1, 'Centre': 1, 'Handsome': 1, 'Tigers': 1, 'A': 1, 'Piece': 1, 'Mind': 1, 'How': 1, 'Buy': 1, 'Friend': 1, 'Welcome': 1, 'Start-Up': 1, 'Please': 1, 'Date': 1, 'Him': 1, 'Born': 1, 'School': 1, 'Nurse': 1, 'Files': 1, 'Eccentric!': 1, 'Chef': 1, 'Moon': 1, 'More': 1, 'Than': 1, 'Dr.': 1, 'I-Land': 1, 'Learn': 1, 'Way': 1, 'Travelling': 1, 'Market': 1, 'Dinner': 1, 'Mate': 1, 'Mystic': 1, 'Pop-up': 1, 'Bar': 1, 'Never': 1, 'Ending': 1, 'Neverland': 1, 'Oh!': 1, 'Part,': 1, 'Home': 1, 'Royal': 1, 'Secret': 1, 'Agent': 1, 'Kkondae': 1, 'Intern': 1, 'Fatal': 1, 'Promise': 1, 'Trot': 1, 'Idol': 1, 'Quiz': 1, 'SF8': 1, 'Dreamer': 1, 'Cheat': 1, 'If': 1, 'Can': 1, 'Memorials': 1, 'Game:': 1, 'Towards': 1, 'Zero': 1, 'Come': 1, 'Drive': 1, 'Hospital': 1, 'Playlist': 1, 'Backstreet': 1, 'Rookie': 1, 'Uncanny': 1, 'Counter': 1, 'Graceful': 1, 'We': 1, 'Got': 1, 'Divorced': 1, 'Search': 1, 'Munchies': 1, 'Nobody': 1, 'Knows': 1, 'Friday': 1, 'Joy': 1, 'Package': 1, 'Private': 1, 'Lives': 1, 'Spies': 1, 'Who': 1, 'Loved': 1, '7.7': 1, 'Billion': 1, 'Kingmaker:': 1, 'Change': 1, 'Destiny': 1, 'Itaewon': 1, 'Class': 1, 'Hometown': 1, 'Flex': 1, 'Blooms': 1, 'I': 1, 'Most': 1, 'Beautiful': 1, 'Missing:': 1, 'Other': 1, 'Side': 1, 'No': 1, 'Matter': 1, 'be': 1, 'First': 1, 'One!': 1, 'Casting': 1, 'Money': 1, 'Game': 1, 'Hyena': 1, 'Kairos': 1, 'Hi': 1, 'Bye,': 1, 'Mama!': 1, 'Gamsung': 1, 'Camping': 1, 'Alice': 1, '18': 1, 'Twogether': 1, 'program': 1, 'K-Trot': 1, 'Town': 1, 'Team': 1, 'Bulldog:': 1, 'Off-Duty': 1, 'Investigation': 1, 'Train': 1, 'Delayed': 1, 'Justice': 1, 'Wannabe': 1, 'Ryan': 1})\nremove: ['TV', 'series']\n144 Category:2019 South Korean television series debuts ['My Absolute Boyfriend', 'Confession South Korean TV series', 'The Golden Garden', 'The Wind Blows TV series', \"My Sibling's Lovers: Family Is Watching\", 'Doctor John TV series', 'Rookie Historian Goo Hae-ryung', 'Mother of Mine TV series', 'Her Private Life TV series', 'Want a Taste?', 'Home for Summer', 'The Crowned Clown', 'Hot Stove League TV series', 'The Secret Life of My Secretary', 'When the Devil Calls Your Name', 'I Wanna Hear Your Song', 'Best Chicken', 'Be Melodramatic', 'V-1 TV series', 'My Lawyer, Mr. Jo 2: Crime and Punishment', 'Funding Together', 'Kill It', 'The Ranksters', 'Little Forest TV series', 'Rewind South Korean TV series', 'Touch Your Heart', 'Delicious Rendezvous', 'The Great Show', 'Miss Lee', 'Vagabond TV series', \"Stars' Top Recipe at Fun-Staurant\", 'One Spring Night', 'Beautiful World TV series', 'Diary of a Prosecutor', 'Abyss TV series', 'Five Cranky Brothers', 'The Light in Your Eyes TV series', 'Arthdal Chronicles', 'The Hit South Korean TV series', 'Crash Landing on You', 'Hotel del Luna', 'Woman of 9.9 Billion', 'Laborhood on Hire', 'Love with Flaws', 'Haechi TV series', 'Blessing of the Sea', 'Flower Crew: Joseon Marriage Agency', 'Welcome to Waikiki 2', 'Analog Trip', 'Urban Cops', 'Hon-Life: Satisfaction Project', 'Kim Is a Genius', 'Search: WWW', 'We K-Pop', 'Big Issue TV series', 'Perfume South Korean TV series', 'Love in Sadness', 'TMI News', 'Unasked Family', 'Melting Me Softly', 'My Fellow Citizens!', 'Hangout with Yoo', 'Studio Vibes', 'The Night of Hate Comments', 'Pegasus Market', 'Catch the Ghost', 'Korean Hostel in Spain', 'Persona TV series', 'Six-Party Talks TV series', 'Spring Turns to Spring', 'Welcome 2 Life', 'Queen: Love and War', 'Hell Is Other People', 'Studio Music Hall', 'Psychopath Diary', 'Liver or Die', 'The Lies Within', 'My First First Love', 'Left-Handed Wife', 'Special Labor Inspector', 'Queendom TV series', 'A Place in the Sun South Korean TV series', 'Wednesday Music Playlist', 'At Eighteen', 'Babel TV series', 'Matching Survival 1+1', 'Designated Survivor: 60 Days', 'The Fiery Priest', 'Leverage South Korean TV series', 'Chocolate South Korean TV series', \"Angel's Last Mission: Love\", 'Super Hearer', 'Extraordinary You', 'Produce X 101', 'When the Camellia Blooms', 'The Running Mates: Human Rights', 'Naturally TV series', 'Watcher TV series', 'Gracious Revenge', 'He Is Psychometric', 'Nokdu Flower', 'Loss Time Life', 'Trans-Siberian Pathfinders', 'Trap TV series', 'Tell Me TV series', 'Item TV series', 'Prison Life of Fools', 'Kingdom South Korean TV series', 'The Tale of Nokdu', 'Chief of Staff TV series', 'Love Alarm', 'Legal High South Korean TV series', \"Paik's Mysterious Kitchen\", 'Birthday Letter', 'Show! Audio Jockey', 'Justice South Korean TV series', 'Traveler South Korean TV series', 'Save Me 2', 'Why Did You Come to my House', 'Possessed TV series', 'Partners for Justice', 'Boss in the Mirror', 'Graceful Family', 'High School Style Icon', 'Class of Lies', 'My Country: The New Age', 'Wook Talk', 'The Banker TV series', 'Doctor Detective', 'Doctor Prisoner', 'Different Dreams', 'Joseon Survival Period', 'Beautiful Love, Wonderful Life', 'Level Up South Korean TV series', 'Never Twice', 'Miss Trot', 'Black Dog: Being A Teacher', 'Romance Is a Bonus Book', 'VIP South Korean TV series', \"Trio's Childcare Challenge\", 'Player 7', 'Coffee Friends', 'Superband TV program', 'Secret Boutique']\nCounter({'TV': 39, 'series': 38, 'The': 15, 'Korean': 14, 'South': 13, 'of': 10, 'My': 7, 'Life': 6, 'the': 6, 'Love': 6, 'Is': 5, 'in': 5, 'a': 4, 'Your': 4, 'Family': 3, 'Doctor': 3, 'Spring': 3, 'You': 3, 'to': 3, '2': 3, 'Me': 3, 'for': 2, 'Secret': 2, 'When': 2, 'and': 2, 'Miss': 2, 'Night': 2, 'Beautiful': 2, 'Diary': 2, 'on': 2, 'with': 2, 'Flower': 2, 'Joseon': 2, 'Welcome': 2, 'Studio': 2, 'Music': 2, 'Lies': 2, 'First': 2, 'A': 2, 'Survival': 2, 'Nokdu': 2, 'High': 2, 'Justice': 2, 'Absolute': 1, 'Boyfriend': 1, 'Confession': 1, 'Golden': 1, 'Garden': 1, 'Wind': 1, 'Blows': 1, \"Sibling's\": 1, 'Lovers:': 1, 'Watching': 1, 'John': 1, 'Rookie': 1, 'Historian': 1, 'Goo': 1, 'Hae-ryung': 1, 'Mother': 1, 'Mine': 1, 'Her': 1, 'Private': 1, 'Want': 1, 'Taste?': 1, 'Home': 1, 'Summer': 1, 'Crowned': 1, 'Clown': 1, 'Hot': 1, 'Stove': 1, 'League': 1, 'Secretary': 1, 'Devil': 1, 'Calls': 1, 'Name': 1, 'I': 1, 'Wanna': 1, 'Hear': 1, 'Song': 1, 'Best': 1, 'Chicken': 1, 'Be': 1, 'Melodramatic': 1, 'V-1': 1, 'Lawyer,': 1, 'Mr.': 1, 'Jo': 1, '2:': 1, 'Crime': 1, 'Punishment': 1, 'Funding': 1, 'Together': 1, 'Kill': 1, 'It': 1, 'Ranksters': 1, 'Little': 1, 'Forest': 1, 'Rewind': 1, 'Touch': 1, 'Heart': 1, 'Delicious': 1, 'Rendezvous': 1, 'Great': 1, 'Show': 1, 'Lee': 1, 'Vagabond': 1, \"Stars'\": 1, 'Top': 1, 'Recipe': 1, 'at': 1, 'Fun-Staurant': 1, 'One': 1, 'World': 1, 'Prosecutor': 1, 'Abyss': 1, 'Five': 1, 'Cranky': 1, 'Brothers': 1, 'Light': 1, 'Eyes': 1, 'Arthdal': 1, 'Chronicles': 1, 'Hit': 1, 'Crash': 1, 'Landing': 1, 'Hotel': 1, 'del': 1, 'Luna': 1, 'Woman': 1, '9.9': 1, 'Billion': 1, 'Laborhood': 1, 'Hire': 1, 'Flaws': 1, 'Haechi': 1, 'Blessing': 1, 'Sea': 1, 'Crew:': 1, 'Marriage': 1, 'Agency': 1, 'Waikiki': 1, 'Analog': 1, 'Trip': 1, 'Urban': 1, 'Cops': 1, 'Hon-Life:': 1, 'Satisfaction': 1, 'Project': 1, 'Kim': 1, 'Genius': 1, 'Search:': 1, 'WWW': 1, 'We': 1, 'K-Pop': 1, 'Big': 1, 'Issue': 1, 'Perfume': 1, 'Sadness': 1, 'TMI': 1, 'News': 1, 'Unasked': 1, 'Melting': 1, 'Softly': 1, 'Fellow': 1, 'Citizens!': 1, 'Hangout': 1, 'Yoo': 1, 'Vibes': 1, 'Hate': 1, 'Comments': 1, 'Pegasus': 1, 'Market': 1, 'Catch': 1, 'Ghost': 1, 'Hostel': 1, 'Spain': 1, 'Persona': 1, 'Six-Party': 1, 'Talks': 1, 'Turns': 1, 'Queen:': 1, 'War': 1, 'Hell': 1, 'Other': 1, 'People': 1, 'Hall': 1, 'Psychopath': 1, 'Liver': 1, 'or': 1, 'Die': 1, 'Within': 1, 'Left-Handed': 1, 'Wife': 1, 'Special': 1, 'Labor': 1, 'Inspector': 1, 'Queendom': 1, 'Place': 1, 'Sun': 1, 'Wednesday': 1, 'Playlist': 1, 'At': 1, 'Eighteen': 1, 'Babel': 1, 'Matching': 1, '1+1': 1, 'Designated': 1, 'Survivor:': 1, '60': 1, 'Days': 1, 'Fiery': 1, 'Priest': 1, 'Leverage': 1, 'Chocolate': 1, \"Angel's\": 1, 'Last': 1, 'Mission:': 1, 'Super': 1, 'Hearer': 1, 'Extraordinary': 1, 'Produce': 1, 'X': 1, '101': 1, 'Camellia': 1, 'Blooms': 1, 'Running': 1, 'Mates:': 1, 'Human': 1, 'Rights': 1, 'Naturally': 1, 'Watcher': 1, 'Gracious': 1, 'Revenge': 1, 'He': 1, 'Psychometric': 1, 'Loss': 1, 'Time': 1, 'Trans-Siberian': 1, 'Pathfinders': 1, 'Trap': 1, 'Tell': 1, 'Item': 1, 'Prison': 1, 'Fools': 1, 'Kingdom': 1, 'Tale': 1, 'Chief': 1, 'Staff': 1, 'Alarm': 1, 'Legal': 1, \"Paik's\": 1, 'Mysterious': 1, 'Kitchen': 1, 'Birthday': 1, 'Letter': 1, 'Show!': 1, 'Audio': 1, 'Jockey': 1, 'Traveler': 1, 'Save': 1, 'Why': 1, 'Did': 1, 'Come': 1, 'my': 1, 'House': 1, 'Possessed': 1, 'Partners': 1, 'Boss': 1, 'Mirror': 1, 'Graceful': 1, 'School': 1, 'Style': 1, 'Icon': 1, 'Class': 1, 'Country:': 1, 'New': 1, 'Age': 1, 'Wook': 1, 'Talk': 1, 'Banker': 1, 'Detective': 1, 'Prisoner': 1, 'Different': 1, 'Dreams': 1, 'Period': 1, 'Love,': 1, 'Wonderful': 1, 'Level': 1, 'Up': 1, 'Never': 1, 'Twice': 1, 'Trot': 1, 'Black': 1, 'Dog:': 1, 'Being': 1, 'Teacher': 1, 'Romance': 1, 'Bonus': 1, 'Book': 1, 'VIP': 1, \"Trio's\": 1, 'Childcare': 1, 'Challenge': 1, 'Player': 1, '7': 1, 'Coffee': 1, 'Friends': 1, 'Superband': 1, 'program': 1, 'Boutique': 1})\nremove: ['TV', 'series']\n93 Category:South Korean action television series ['Look Back in Anger TV series', 'The Blade and Petal', 'Bridal Mask', 'Cain and Abel South Korean TV series', 'Jirisan TV series', 'Sweet Spy', 'A Man Called God', 'Poseidon TV series', 'The Veil South Korean TV series', 'Gyebaek TV series', 'Warrior Baek Dong-soo', 'Damo TV series', 'Two Weeks TV series', 'Time Between Dog and Wolf', 'Man to Man TV series', 'The Man in the Mask', 'White Nights 3.98', 'Vagabond TV series', 'Inspiring Generation', 'Tazza TV series', 'East of Eden TV series', \"You're All Surrounded\", 'Lobbyist TV series', 'The Three Musketeers South Korean TV series', 'Triangle 2014 TV series', \"Dota: Dragon's Blood\", 'Yong-pal', 'The King 2 Hearts', 'Insider South Korean TV series', 'Iris II: New Generation', 'Mad Dog TV series', 'Rugal TV series', 'Rookie Cops', 'Local Hero TV series', 'Road No. 1', 'The Slave Hunters', 'Tracer TV series', 'Immortal Admiral Yi Sun-sin', 'God of War TV series', 'Sketch TV series', 'Spy Myung-wol', 'Trio TV series', 'Spy 2015 TV series', 'Jumong TV series', '7th Grade Civil Servant', 'Forbidden Love 2004 TV series', 'Inspector Koo', 'Protect the Boss', 'City Hunter TV series', 'Special Labor Inspector', 'Hong Gil-dong TV series', 'Gunman in Joseon', 'Three Days TV series', 'Flowers of the Prison', 'Korean Peninsula TV series', 'Untouchable South Korean TV series', 'The Slingshot', 'Athena: Goddess of War', 'The Chaser TV series', 'The Guardians South Korean TV series', 'Friend, Our Legend', 'Giant TV series', 'All In TV series', 'Taxi Driver South Korean TV series', 'The Fugitive of Joseon', 'A Love to Kill', 'Legend of the Patriots', 'Bodyguard South Korean TV series', 'Last TV series', 'Asphalt Man', 'The Fugitive: Plan B', 'The Duo', 'Player TV series', 'Iris TV series', 'The Spies Who Loved Me', 'The Kingdom of the Winds', 'Birthday Letter', 'The Return of Iljimae', 'Lovers of Haeundae', 'Swallow the Sun TV series', 'Eyes of Dawn', 'Good Casting', 'Seoul 1945', 'Iljimae', 'Moorim School: Saga of the Brave', 'Strongest Chil Woo', 'Air City', 'Healer TV series', 'The K2', 'Again My Life', 'Team Bulldog: Off-Duty Investigation', 'Bring It On, Ghost', 'Naked Fireman']\nCounter({'TV': 42, 'series': 42, 'The': 16, 'of': 11, 'Korean': 9, 'South': 8, 'the': 7, 'Man': 5, 'in': 3, 'and': 3, 'Spy': 3, 'Mask': 2, 'A': 2, 'God': 2, 'Dog': 2, 'to': 2, 'Generation': 2, 'All': 2, 'Three': 2, 'Iris': 2, 'War': 2, 'Love': 2, 'Inspector': 2, 'City': 2, 'Joseon': 2, 'Legend': 2, 'Iljimae': 2, 'Look': 1, 'Back': 1, 'Anger': 1, 'Blade': 1, 'Petal': 1, 'Bridal': 1, 'Cain': 1, 'Abel': 1, 'Jirisan': 1, 'Sweet': 1, 'Called': 1, 'Poseidon': 1, 'Veil': 1, 'Gyebaek': 1, 'Warrior': 1, 'Baek': 1, 'Dong-soo': 1, 'Damo': 1, 'Two': 1, 'Weeks': 1, 'Time': 1, 'Between': 1, 'Wolf': 1, 'White': 1, 'Nights': 1, '3.98': 1, 'Vagabond': 1, 'Inspiring': 1, 'Tazza': 1, 'East': 1, 'Eden': 1, \"You're\": 1, 'Surrounded': 1, 'Lobbyist': 1, 'Musketeers': 1, 'Triangle': 1, '2014': 1, 'Dota:': 1, \"Dragon's\": 1, 'Blood': 1, 'Yong-pal': 1, 'King': 1, '2': 1, 'Hearts': 1, 'Insider': 1, 'II:': 1, 'New': 1, 'Mad': 1, 'Rugal': 1, 'Rookie': 1, 'Cops': 1, 'Local': 1, 'Hero': 1, 'Road': 1, 'No.': 1, '1': 1, 'Slave': 1, 'Hunters': 1, 'Tracer': 1, 'Immortal': 1, 'Admiral': 1, 'Yi': 1, 'Sun-sin': 1, 'Sketch': 1, 'Myung-wol': 1, 'Trio': 1, '2015': 1, 'Jumong': 1, '7th': 1, 'Grade': 1, 'Civil': 1, 'Servant': 1, 'Forbidden': 1, '2004': 1, 'Koo': 1, 'Protect': 1, 'Boss': 1, 'Hunter': 1, 'Special': 1, 'Labor': 1, 'Hong': 1, 'Gil-dong': 1, 'Gunman': 1, 'Days': 1, 'Flowers': 1, 'Prison': 1, 'Peninsula': 1, 'Untouchable': 1, 'Slingshot': 1, 'Athena:': 1, 'Goddess': 1, 'Chaser': 1, 'Guardians': 1, 'Friend,': 1, 'Our': 1, 'Giant': 1, 'In': 1, 'Taxi': 1, 'Driver': 1, 'Fugitive': 1, 'Kill': 1, 'Patriots': 1, 'Bodyguard': 1, 'Last': 1, 'Asphalt': 1, 'Fugitive:': 1, 'Plan': 1, 'B': 1, 'Duo': 1, 'Player': 1, 'Spies': 1, 'Who': 1, 'Loved': 1, 'Me': 1, 'Kingdom': 1, 'Winds': 1, 'Birthday': 1, 'Letter': 1, 'Return': 1, 'Lovers': 1, 'Haeundae': 1, 'Swallow': 1, 'Sun': 1, 'Eyes': 1, 'Dawn': 1, 'Good': 1, 'Casting': 1, 'Seoul': 1, '1945': 1, 'Moorim': 1, 'School:': 1, 'Saga': 1, 'Brave': 1, 'Strongest': 1, 'Chil': 1, 'Woo': 1, 'Air': 1, 'Healer': 1, 'K2': 1, 'Again': 1, 'My': 1, 'Life': 1, 'Team': 1, 'Bulldog:': 1, 'Off-Duty': 1, 'Investigation': 1, 'Bring': 1, 'It': 1, 'On,': 1, 'Ghost': 1, 'Naked': 1, 'Fireman': 1})\nremove: ['TV', 'series']\n112 Category:South Korean thriller television series ['Mistress TV series', 'My Dangerous Wife', 'Cross TV series', 'Duel South Korean TV series', 'Reset South Korean TV series', 'Chimera South Korean TV series', 'Blood South Korean TV series', 'Voice TV series', 'The Veil South Korean TV series', 'Kill It', 'Mrs. Cop 2', 'Pied Piper TV series', 'Two Weeks TV series', 'Children of Nobody', 'Resurrection South Korean TV series', 'The Cursed TV series', 'Vagabond TV series', 'Less Than Evil', 'The Ghost Detective', 'Chip In', 'Children of a Lesser God TV series', 'Misty TV series', 'Hellbound TV series', 'Insider South Korean TV series', 'Hong Kong Express TV series', 'Iris II: New Generation', 'The Guest TV series', 'The Last Empress TV series', 'Bad Guys 2', 'Mad Dog TV series', 'The Smile Has Left Your Eyes TV series', 'Cheo Yong', 'White Christmas TV series', 'Tell Me What You Saw', 'Secret Love South Korean TV series', 'Gap-dong', 'Tunnel TV series', 'Hello Monster', 'Through the Darkness TV series', 'Tracer TV series', 'Remember TV series', 'Suspicious Partner', 'Secret Mother', 'Save Me South Korean TV series', 'Dr. Frost TV series', 'Spy 2015 TV series', 'Goodbye Mr. Black', 'Stranger TV series', 'Hell Is Other People', 'Innocent Defendant', 'Psychopath Diary', 'One Ordinary Day', 'Inspector Koo', \"The Village: Achiara's Secret\", 'City Hunter TV series', 'The Lies Within', 'Whisper TV series', 'Three Days TV series', 'Golden Cross TV series', 'Black South Korean TV series', 'Untouchable South Korean TV series', 'Punch TV series', 'The Slingshot', 'The Accidental Narco', 'Athena: Goddess of War', 'Special Affairs Team TEN', \"God's Gift: 14 Days\", 'The Chaser TV series', 'Mine TV series', 'The Guardians South Korean TV series', 'The Virus TV series', 'When the Camellia Blooms', 'Priest TV series', 'Watcher TV series', 'The Road: The Tragedy of One', 'Cheat on Me If You Can', 'Let Me Introduce Her', 'Return TV series', 'Trap TV series', 'Beyond Evil TV series', 'Mouse TV series', 'Babysitter TV series', 'Search South Korean TV series', 'Kingdom South Korean TV series', 'Missing You South Korean TV series', 'Somebody TV series', 'Iris TV series', 'Wanted South Korean TV series', 'The Missing 2015 TV series', 'History of a Salaryman', 'Lawless Lawyer', 'The Devil TV series', 'Birthday Letter', 'Kill Heel', 'Save Me 2', 'Hidden Identity TV series', 'Hometown South Korean TV series', 'Revolutionary Sisters', 'Possessed TV series', 'Bad Guys TV series', 'Liar Game 2014 TV series', 'Class of Lies', 'Kairos TV series', 'War of Money', 'The Silent Sea TV series', \"Don't Look Back: The Legend of Orpheus\", 'Distorted TV series', 'Mrs. Cop', 'Heartless City', 'Train TV series', 'Dr. Brain TV series', 'Secret Boutique']\nCounter({'TV': 68, 'series': 68, 'The': 19, 'South': 17, 'Korean': 17, 'of': 8, 'Me': 5, 'Secret': 4, '2': 3, 'You': 3, 'Cross': 2, 'Kill': 2, 'Mrs.': 2, 'Cop': 2, 'Children': 2, 'Evil': 2, 'a': 2, 'Iris': 2, 'Bad': 2, 'Guys': 2, 'the': 2, 'Save': 2, 'Dr.': 2, '2015': 2, 'Black': 2, 'One': 2, 'City': 2, 'Lies': 2, 'Days': 2, 'War': 2, 'Missing': 2, 'Mistress': 1, 'My': 1, 'Dangerous': 1, 'Wife': 1, 'Duel': 1, 'Reset': 1, 'Chimera': 1, 'Blood': 1, 'Voice': 1, 'Veil': 1, 'It': 1, 'Pied': 1, 'Piper': 1, 'Two': 1, 'Weeks': 1, 'Nobody': 1, 'Resurrection': 1, 'Cursed': 1, 'Vagabond': 1, 'Less': 1, 'Than': 1, 'Ghost': 1, 'Detective': 1, 'Chip': 1, 'In': 1, 'Lesser': 1, 'God': 1, 'Misty': 1, 'Hellbound': 1, 'Insider': 1, 'Hong': 1, 'Kong': 1, 'Express': 1, 'II:': 1, 'New': 1, 'Generation': 1, 'Guest': 1, 'Last': 1, 'Empress': 1, 'Mad': 1, 'Dog': 1, 'Smile': 1, 'Has': 1, 'Left': 1, 'Your': 1, 'Eyes': 1, 'Cheo': 1, 'Yong': 1, 'White': 1, 'Christmas': 1, 'Tell': 1, 'What': 1, 'Saw': 1, 'Love': 1, 'Gap-dong': 1, 'Tunnel': 1, 'Hello': 1, 'Monster': 1, 'Through': 1, 'Darkness': 1, 'Tracer': 1, 'Remember': 1, 'Suspicious': 1, 'Partner': 1, 'Mother': 1, 'Frost': 1, 'Spy': 1, 'Goodbye': 1, 'Mr.': 1, 'Stranger': 1, 'Hell': 1, 'Is': 1, 'Other': 1, 'People': 1, 'Innocent': 1, 'Defendant': 1, 'Psychopath': 1, 'Diary': 1, 'Ordinary': 1, 'Day': 1, 'Inspector': 1, 'Koo': 1, 'Village:': 1, \"Achiara's\": 1, 'Hunter': 1, 'Within': 1, 'Whisper': 1, 'Three': 1, 'Golden': 1, 'Untouchable': 1, 'Punch': 1, 'Slingshot': 1, 'Accidental': 1, 'Narco': 1, 'Athena:': 1, 'Goddess': 1, 'Special': 1, 'Affairs': 1, 'Team': 1, 'TEN': 1, \"God's\": 1, 'Gift:': 1, '14': 1, 'Chaser': 1, 'Mine': 1, 'Guardians': 1, 'Virus': 1, 'When': 1, 'Camellia': 1, 'Blooms': 1, 'Priest': 1, 'Watcher': 1, 'Road:': 1, 'Tragedy': 1, 'Cheat': 1, 'on': 1, 'If': 1, 'Can': 1, 'Let': 1, 'Introduce': 1, 'Her': 1, 'Return': 1, 'Trap': 1, 'Beyond': 1, 'Mouse': 1, 'Babysitter': 1, 'Search': 1, 'Kingdom': 1, 'Somebody': 1, 'Wanted': 1, 'History': 1, 'Salaryman': 1, 'Lawless': 1, 'Lawyer': 1, 'Devil': 1, 'Birthday': 1, 'Letter': 1, 'Heel': 1, 'Hidden': 1, 'Identity': 1, 'Hometown': 1, 'Revolutionary': 1, 'Sisters': 1, 'Possessed': 1, 'Liar': 1, 'Game': 1, '2014': 1, 'Class': 1, 'Kairos': 1, 'Money': 1, 'Silent': 1, 'Sea': 1, \"Don't\": 1, 'Look': 1, 'Back:': 1, 'Legend': 1, 'Orpheus': 1, 'Distorted': 1, 'Heartless': 1, 'Train': 1, 'Brain': 1, 'Boutique': 1})\nremove: ['TV', 'series']\n114 Category:2021 South Korean television series debuts [\"Here's My Plan\", 'Be My Dream Family', 'Friends 2021 TV program', 'D.P. TV series', 'Racket Boys', 'Lost South Korean TV series', 'Miss Monte-Cristo', 'At a Distance, Spring Is Green', 'Jirisan TV series', 'Chimera South Korean TV series', 'Love Scene Number', 'The Veil South Korean TV series', 'Steel Troops', 'My Name TV series', 'Work Later, Drink Now', 'Vincenzo TV series', 'High Class TV series', 'Hello, Me!', 'Golf Battle: Birdie Buddies', 'Artificial City', 'Hellbound TV series', 'On the Verge of Insanity', \"Dota: Dragon's Blood\", 'She Would Never Know', 'Move to Heaven', 'Bulgasal: Immortal Souls', \"The Witch's Diner\", 'The All-Round Wife', 'Doom at Your Service', 'Dali and Cocky Prince', 'The Second Husband', 'Long Live Independence', 'Sea of Hope', 'Idol: The Coup', 'Joseon Exorcist', 'Navillera TV series', 'Melancholia TV series', \"The King's Affection\", 'Times TV series', 'Red Shoes TV series', \"Yumi's Cells\", 'Bad and Crazy', 'Law School TV series', 'So Not Worth It', 'Young Lady and Gentleman', 'The Red Sleeve', 'Happiness South Korean TV series', 'Street Dance Girls Fighter', 'Tiki-taCAR', 'The One and Only South Korean TV series', 'One Ordinary Day', 'Inspector Koo', 'Loud South Korean TV series', 'Amor Fati TV series', 'Nevertheless TV series', 'Youth of May', 'Sisyphus: The Myth', 'Secret Royal Inspector & Joy', 'The Devil Judge', 'Mine TV series', 'Now, We Are Breaking Up', 'Let Me Be Your Knight', 'Our Beloved Summer', 'Taxi Driver South Korean TV series', 'The King of Tears, Lee Bang-won', 'Unexpected Business', 'The Road: The Tragedy of One', 'Street Woman Fighter', 'My Roommate Is a Gumiho', 'Dolsing Fourmen', 'Falling for Korea - Transnational Couples', 'Uncle South Korean TV series', 'L.U.C.A.: The Beginning', \"We Don't Bite: Villains in the Countryside\", 'Kingdom: Legendary War', 'Beyond Evil TV series', 'Mouse TV series', 'The Listen: Wind Blows', 'Girls Planet 999', 'Mama The Idol', \"Show Window: The Queen's House\", 'Love Twist', 'Imitation TV series', 'National Bang Bang Cook Cook', 'Bossam: Steal the Fate', 'The Soldiers South Korean TV series', 'Monthly Magazine Home', \"Youn's Stay\", 'Love ft. Marriage and Divorce', 'Police University', 'Sing Again', 'Undercover 2021 TV series', 'Hometown South Korean TV series', 'Oh My Ladylord', 'Revolutionary Sisters', 'School 2021', 'Honeymoon Tavern', 'Dark Hole', 'Crazy Recipe Adventure', 'So I Married the Anti-fan', 'My Teenage Girl', 'The Silent Sea TV series', 'River Where the Moon Rises', 'Hometown Cha-Cha-Cha', 'Lovers of the Red Sky', 'Moonshine South Korean TV series', 'Reflection of You', 'Snowdrop South Korean TV series', 'One the Woman', 'Sell Your Haunted House', 'Unframed', 'You Are My Spring', 'Petkage', 'Dr. Brain TV series']\nCounter({'TV': 33, 'series': 32, 'The': 19, 'South': 12, 'Korean': 12, 'My': 7, 'the': 7, 'of': 7, 'and': 5, 'One': 4, '2021': 3, 'Love': 3, 'Your': 3, 'Red': 3, 'Be': 2, 'a': 2, 'Spring': 2, 'Is': 2, 'Sea': 2, 'Crazy': 2, 'School': 2, 'So': 2, 'Street': 2, 'Girls': 2, 'Fighter': 2, 'Inspector': 2, 'We': 2, 'Are': 2, 'Woman': 2, 'House': 2, 'Bang': 2, 'Cook': 2, 'Hometown': 2, 'You': 2, \"Here's\": 1, 'Plan': 1, 'Dream': 1, 'Family': 1, 'Friends': 1, 'program': 1, 'D.P.': 1, 'Racket': 1, 'Boys': 1, 'Lost': 1, 'Miss': 1, 'Monte-Cristo': 1, 'At': 1, 'Distance,': 1, 'Green': 1, 'Jirisan': 1, 'Chimera': 1, 'Scene': 1, 'Number': 1, 'Veil': 1, 'Steel': 1, 'Troops': 1, 'Name': 1, 'Work': 1, 'Later,': 1, 'Drink': 1, 'Now': 1, 'Vincenzo': 1, 'High': 1, 'Class': 1, 'Hello,': 1, 'Me!': 1, 'Golf': 1, 'Battle:': 1, 'Birdie': 1, 'Buddies': 1, 'Artificial': 1, 'City': 1, 'Hellbound': 1, 'On': 1, 'Verge': 1, 'Insanity': 1, 'Dota:': 1, \"Dragon's\": 1, 'Blood': 1, 'She': 1, 'Would': 1, 'Never': 1, 'Know': 1, 'Move': 1, 'to': 1, 'Heaven': 1, 'Bulgasal:': 1, 'Immortal': 1, 'Souls': 1, \"Witch's\": 1, 'Diner': 1, 'All-Round': 1, 'Wife': 1, 'Doom': 1, 'at': 1, 'Service': 1, 'Dali': 1, 'Cocky': 1, 'Prince': 1, 'Second': 1, 'Husband': 1, 'Long': 1, 'Live': 1, 'Independence': 1, 'Hope': 1, 'Idol:': 1, 'Coup': 1, 'Joseon': 1, 'Exorcist': 1, 'Navillera': 1, 'Melancholia': 1, \"King's\": 1, 'Affection': 1, 'Times': 1, 'Shoes': 1, \"Yumi's\": 1, 'Cells': 1, 'Bad': 1, 'Law': 1, 'Not': 1, 'Worth': 1, 'It': 1, 'Young': 1, 'Lady': 1, 'Gentleman': 1, 'Sleeve': 1, 'Happiness': 1, 'Dance': 1, 'Tiki-taCAR': 1, 'Only': 1, 'Ordinary': 1, 'Day': 1, 'Koo': 1, 'Loud': 1, 'Amor': 1, 'Fati': 1, 'Nevertheless': 1, 'Youth': 1, 'May': 1, 'Sisyphus:': 1, 'Myth': 1, 'Secret': 1, 'Royal': 1, '&': 1, 'Joy': 1, 'Devil': 1, 'Judge': 1, 'Mine': 1, 'Now,': 1, 'Breaking': 1, 'Up': 1, 'Let': 1, 'Me': 1, 'Knight': 1, 'Our': 1, 'Beloved': 1, 'Summer': 1, 'Taxi': 1, 'Driver': 1, 'King': 1, 'Tears,': 1, 'Lee': 1, 'Bang-won': 1, 'Unexpected': 1, 'Business': 1, 'Road:': 1, 'Tragedy': 1, 'Roommate': 1, 'Gumiho': 1, 'Dolsing': 1, 'Fourmen': 1, 'Falling': 1, 'for': 1, 'Korea': 1, '-': 1, 'Transnational': 1, 'Couples': 1, 'Uncle': 1, 'L.U.C.A.:': 1, 'Beginning': 1, \"Don't\": 1, 'Bite:': 1, 'Villains': 1, 'in': 1, 'Countryside': 1, 'Kingdom:': 1, 'Legendary': 1, 'War': 1, 'Beyond': 1, 'Evil': 1, 'Mouse': 1, 'Listen:': 1, 'Wind': 1, 'Blows': 1, 'Planet': 1, '999': 1, 'Mama': 1, 'Idol': 1, 'Show': 1, 'Window:': 1, \"Queen's\": 1, 'Twist': 1, 'Imitation': 1, 'National': 1, 'Bossam:': 1, 'Steal': 1, 'Fate': 1, 'Soldiers': 1, 'Monthly': 1, 'Magazine': 1, 'Home': 1, \"Youn's\": 1, 'Stay': 1, 'ft.': 1, 'Marriage': 1, 'Divorce': 1, 'Police': 1, 'University': 1, 'Sing': 1, 'Again': 1, 'Undercover': 1, 'Oh': 1, 'Ladylord': 1, 'Revolutionary': 1, 'Sisters': 1, 'Honeymoon': 1, 'Tavern': 1, 'Dark': 1, 'Hole': 1, 'Recipe': 1, 'Adventure': 1, 'I': 1, 'Married': 1, 'Anti-fan': 1, 'Teenage': 1, 'Girl': 1, 'Silent': 1, 'River': 1, 'Where': 1, 'Moon': 1, 'Rises': 1, 'Cha-Cha-Cha': 1, 'Lovers': 1, 'Sky': 1, 'Moonshine': 1, 'Reflection': 1, 'Snowdrop': 1, 'Sell': 1, 'Haunted': 1, 'Unframed': 1, 'Petkage': 1, 'Dr.': 1, 'Brain': 1})\nremove: ['TV', 'series']\n26 Category:Television shows set in Seoul ['Only You 2005 TV series', 'Sky Castle', 'Guardian: The Lonely and Great God', 'Reply 1988', 'Living Among the Rich', 'Itaewon Class', 'True Beauty South Korean TV series', 'My Korean Jagiya', 'The Vampire Detective', 'Extracurricular TV series', 'What Happens to My Family?', 'Graceful Family', 'Reply 1994', 'Dramaworld', 'The End of the World TV series', 'Madame Antoine: The Love Therapist', 'The Producers TV series', 'Sense8', 'Hospital Playlist', 'D-Day TV series', 'Encounter South Korean TV series', 'Snowdrop South Korean TV series', 'Stranger TV series', 'Drinking Solo', 'Oh My Ghost South Korean TV series', 'Hotel del Luna']\nCounter({'TV': 10, 'series': 10, 'The': 5, 'Korean': 5, 'South': 4, 'My': 3, 'Reply': 2, 'the': 2, 'Only': 1, 'You': 1, '2005': 1, 'Sky': 1, 'Castle': 1, 'Guardian:': 1, 'Lonely': 1, 'and': 1, 'Great': 1, 'God': 1, '1988': 1, 'Living': 1, 'Among': 1, 'Rich': 1, 'Itaewon': 1, 'Class': 1, 'True': 1, 'Beauty': 1, 'Jagiya': 1, 'Vampire': 1, 'Detective': 1, 'Extracurricular': 1, 'What': 1, 'Happens': 1, 'to': 1, 'Family?': 1, 'Graceful': 1, 'Family': 1, '1994': 1, 'Dramaworld': 1, 'End': 1, 'of': 1, 'World': 1, 'Madame': 1, 'Antoine:': 1, 'Love': 1, 'Therapist': 1, 'Producers': 1, 'Sense8': 1, 'Hospital': 1, 'Playlist': 1, 'D-Day': 1, 'Encounter': 1, 'Snowdrop': 1, 'Stranger': 1, 'Drinking': 1, 'Solo': 1, 'Oh': 1, 'Ghost': 1, 'Hotel': 1, 'del': 1, 'Luna': 1})\nremove: ['TV', 'series']\n153 Category:2018 South Korean television series debuts ['Dae Jang Geum Is Watching', 'My Secret Terrius', 'Taste of Love South Korean TV series', 'Mistress TV series', 'Something in the Rain', \"Lady Cha Dal-rae's Lover\", 'A Poem a Day', 'Produce 48', 'Should We Kiss First?', 'About Time TV series', 'Your House Helper', 'Cross TV series', 'Still 17', 'Grand Prince TV series', 'Begin A Game', 'A Battle of One Voice: 300', 'Gangnam Beauty', 'To. Jenny', 'My Healing Love', \"Witch's Love\", 'Devilish Charm', 'Goodbye to Goodbye', 'Children of Nobody', \"Let's Eat 3\", 'Problem Child in House', 'The Call South Korean TV series', 'Blackpink House', 'Those Who Cross the Line', 'Familiar Wife', 'I Am the Mother Too', 'Less Than Evil', 'Marry Me Now', 'Life South Korean TV series', 'DoReMi Market', 'The Ghost Detective', 'Yogobara', 'Risky Romance', 'Children of a Lesser God TV series', 'Misty TV series', 'Heart Surgeons', 'Through the Waves', 'Sky Castle', 'The Guest TV series', 'Village Survival, the Eight', 'Where Stars Land', 'The Last Empress TV series', 'Unexpected Q', 'Where Are You Going, DdaengChul', 'Welcome to Waikiki', 'The Smile Has Left Your Eyes TV series', 'The Beauty Inside TV series', 'You Drive Me Crazy TV series', 'Clean with Passion for Now', '1 Percent of Friendship', 'Idol Room', 'My First Love TV series', 'Room No. 9', 'Where on Earth??', 'Tale of Fairy', 'Life on Mars South Korean TV series', 'Mother South Korean TV series', 'Real Life Men and Women', 'Nice Witch', \"What's Wrong with Secretary Kim\", 'Fates & Furies TV series', 'Top Star U-back', 'Queen of Mystery 2', 'Sketch TV series', 'Dunia: Into a New World', 'Top Management TV series', 'The Undateables South Korean TV series', 'Secret Mother', 'Brain-fficial', 'We Will Channel You', 'The Hymn of Death', \"Everyone's Kitchen\", 'The Third Charm', \"Grandma's Restaurant in Samcheong-dong\", 'Wok of Love', 'Feel Good to Die', 'Great Escape South Korean TV series', 'Twelve Nights', 'The Miracle We Met', 'My Strange Hero', 'Tempted TV series', 'Treehouse Detectives', 'My Mister', 'Sweet Revenge 2', 'Omniscient Interfering View', \"Baek Jong-won's Alley Restaurant\", 'Not the Same Person You Used to Know', 'Just Dance South Korean TV series', 'The Rich Son', 'Priest TV series', 'Are You Human?', 'A Pledge to God', 'Let Me Introduce Her', 'YG Future Strategy Office', 'Gangnam Scandal', 'Memories of the Alhambra', 'Busted!', \"It's Dangerous Beyond the Blankets\", 'Return TV series', 'Sea Police', 'Bad Papa', 'Encounter South Korean TV series', 'Switch South Korean TV series', 'Under Nineteen', 'Sunny Again Tomorrow', 'My Contracted Husband, Mr. Oh', 'Your Honor South Korean TV series', 'Ms. Ma, Nemesis', 'Live South Korean TV series', 'Come and Hug Me', 'One Night Sleepover Trip', 'Radio Romance TV series', 'Player TV series', 'Talkmon', 'You Quiz on the Block', 'Lawless Lawyer', 'Exit South Korean TV series', \"Super Junior's Super TV\", 'Short TV series', 'Love Alert', 'Secrets and Lies South Korean TV series', '4 Wheeled Restaurant', 'Love to the End', 'Reckless but Happy', \"It's My Life South Korean TV series\", 'Rich Man TV series', 'Partners for Justice', 'Weekend Playlist', 'Alien Mom, Alien Dad', 'Evergreen TV series', 'Pajama Friends', 'Mysterious Personal Shopper', 'Ms. Hammurabi', 'Hold Me Tight TV series', 'Real Man 300', 'Master in the House', 'Vocal Play', 'Yeonnam-dong 539', 'Hide and Seek TV series', '100 Days My Prince', 'My Only One TV series', 'Coffee, Do Me a Favor', 'Matrimonial Chaos', 'Mr. Sunshine South Korean TV series', 'The Time TV series', 'Suits South Korean TV series', 'Cool Kids TV series', 'Lovely Horribly', 'South Korean Foreigners']\nCounter({'TV': 46, 'series': 45, 'South': 18, 'Korean': 18, 'The': 12, 'the': 11, 'of': 10, 'My': 9, 'Love': 7, 'to': 6, 'Me': 6, 'You': 6, 'in': 4, 'A': 4, 'a': 4, 'House': 4, 'Life': 4, 'and': 4, 'We': 3, 'Your': 3, 'One': 3, 'Mother': 3, 'Where': 3, 'on': 3, 'Restaurant': 3, 'Secret': 2, 'Time': 2, 'Cross': 2, 'Prince': 2, '300': 2, 'Gangnam': 2, 'Beauty': 2, 'Charm': 2, 'Goodbye': 2, 'Children': 2, 'Now': 2, 'Romance': 2, 'God': 2, 'Are': 2, 'with': 2, 'for': 2, 'Room': 2, 'Real': 2, 'Top': 2, '2': 2, 'Rich': 2, \"It's\": 2, 'Mr.': 2, 'Ms.': 2, 'Super': 2, 'Man': 2, 'Alien': 2, 'Dae': 1, 'Jang': 1, 'Geum': 1, 'Is': 1, 'Watching': 1, 'Terrius': 1, 'Taste': 1, 'Mistress': 1, 'Something': 1, 'Rain': 1, 'Lady': 1, 'Cha': 1, \"Dal-rae's\": 1, 'Lover': 1, 'Poem': 1, 'Day': 1, 'Produce': 1, '48': 1, 'Should': 1, 'Kiss': 1, 'First?': 1, 'About': 1, 'Helper': 1, 'Still': 1, '17': 1, 'Grand': 1, 'Begin': 1, 'Game': 1, 'Battle': 1, 'Voice:': 1, 'To.': 1, 'Jenny': 1, 'Healing': 1, \"Witch's\": 1, 'Devilish': 1, 'Nobody': 1, \"Let's\": 1, 'Eat': 1, '3': 1, 'Problem': 1, 'Child': 1, 'Call': 1, 'Blackpink': 1, 'Those': 1, 'Who': 1, 'Line': 1, 'Familiar': 1, 'Wife': 1, 'I': 1, 'Am': 1, 'Too': 1, 'Less': 1, 'Than': 1, 'Evil': 1, 'Marry': 1, 'DoReMi': 1, 'Market': 1, 'Ghost': 1, 'Detective': 1, 'Yogobara': 1, 'Risky': 1, 'Lesser': 1, 'Misty': 1, 'Heart': 1, 'Surgeons': 1, 'Through': 1, 'Waves': 1, 'Sky': 1, 'Castle': 1, 'Guest': 1, 'Village': 1, 'Survival,': 1, 'Eight': 1, 'Stars': 1, 'Land': 1, 'Last': 1, 'Empress': 1, 'Unexpected': 1, 'Q': 1, 'Going,': 1, 'DdaengChul': 1, 'Welcome': 1, 'Waikiki': 1, 'Smile': 1, 'Has': 1, 'Left': 1, 'Eyes': 1, 'Inside': 1, 'Drive': 1, 'Crazy': 1, 'Clean': 1, 'Passion': 1, '1': 1, 'Percent': 1, 'Friendship': 1, 'Idol': 1, 'First': 1, 'No.': 1, '9': 1, 'Earth??': 1, 'Tale': 1, 'Fairy': 1, 'Mars': 1, 'Men': 1, 'Women': 1, 'Nice': 1, 'Witch': 1, \"What's\": 1, 'Wrong': 1, 'Secretary': 1, 'Kim': 1, 'Fates': 1, '&': 1, 'Furies': 1, 'Star': 1, 'U-back': 1, 'Queen': 1, 'Mystery': 1, 'Sketch': 1, 'Dunia:': 1, 'Into': 1, 'New': 1, 'World': 1, 'Management': 1, 'Undateables': 1, 'Brain-fficial': 1, 'Will': 1, 'Channel': 1, 'Hymn': 1, 'Death': 1, \"Everyone's\": 1, 'Kitchen': 1, 'Third': 1, \"Grandma's\": 1, 'Samcheong-dong': 1, 'Wok': 1, 'Feel': 1, 'Good': 1, 'Die': 1, 'Great': 1, 'Escape': 1, 'Twelve': 1, 'Nights': 1, 'Miracle': 1, 'Met': 1, 'Strange': 1, 'Hero': 1, 'Tempted': 1, 'Treehouse': 1, 'Detectives': 1, 'Mister': 1, 'Sweet': 1, 'Revenge': 1, 'Omniscient': 1, 'Interfering': 1, 'View': 1, 'Baek': 1, \"Jong-won's\": 1, 'Alley': 1, 'Not': 1, 'Same': 1, 'Person': 1, 'Used': 1, 'Know': 1, 'Just': 1, 'Dance': 1, 'Son': 1, 'Priest': 1, 'Human?': 1, 'Pledge': 1, 'Let': 1, 'Introduce': 1, 'Her': 1, 'YG': 1, 'Future': 1, 'Strategy': 1, 'Office': 1, 'Scandal': 1, 'Memories': 1, 'Alhambra': 1, 'Busted!': 1, 'Dangerous': 1, 'Beyond': 1, 'Blankets': 1, 'Return': 1, 'Sea': 1, 'Police': 1, 'Bad': 1, 'Papa': 1, 'Encounter': 1, 'Switch': 1, 'Under': 1, 'Nineteen': 1, 'Sunny': 1, 'Again': 1, 'Tomorrow': 1, 'Contracted': 1, 'Husband,': 1, 'Oh': 1, 'Honor': 1, 'Ma,': 1, 'Nemesis': 1, 'Live': 1, 'Come': 1, 'Hug': 1, 'Night': 1, 'Sleepover': 1, 'Trip': 1, 'Radio': 1, 'Player': 1, 'Talkmon': 1, 'Quiz': 1, 'Block': 1, 'Lawless': 1, 'Lawyer': 1, 'Exit': 1, \"Junior's\": 1, 'Short': 1, 'Alert': 1, 'Secrets': 1, 'Lies': 1, '4': 1, 'Wheeled': 1, 'End': 1, 'Reckless': 1, 'but': 1, 'Happy': 1, 'Partners': 1, 'Justice': 1, 'Weekend': 1, 'Playlist': 1, 'Mom,': 1, 'Dad': 1, 'Evergreen': 1, 'Pajama': 1, 'Friends': 1, 'Mysterious': 1, 'Personal': 1, 'Shopper': 1, 'Hammurabi': 1, 'Hold': 1, 'Tight': 1, 'Master': 1, 'Vocal': 1, 'Play': 1, 'Yeonnam-dong': 1, '539': 1, 'Hide': 1, 'Seek': 1, '100': 1, 'Days': 1, 'Only': 1, 'Coffee,': 1, 'Do': 1, 'Favor': 1, 'Matrimonial': 1, 'Chaos': 1, 'Sunshine': 1, 'Suits': 1, 'Cool': 1, 'Kids': 1, 'Lovely': 1, 'Horribly': 1, 'Foreigners': 1})\nremove: ['TV', 'series']\nSquid Game\n",
     "output_type": "stream"
    }
   ],
   "execution_count": null
  },
  {
   "cell_type": "code",
   "metadata": {
    "cell_id": "686bea5b231640a9bad70dd351059bd4",
    "tags": [],
    "deepnote_to_be_reexecuted": false,
    "source_hash": "9294afce",
    "execution_start": 1650161094673,
    "execution_millis": 94,
    "deepnote_cell_type": "code",
    "deepnote_cell_height": 117
   },
   "source": "# for term in test_terms:\n#     first_wiki_term, wiki_page = get_first_unambiguous_wiki_term_and_page(term)\n#     print(term, ':', first_wiki_term, ':', get_nlp_category_phrase(wiki_page))",
   "outputs": [],
   "execution_count": null
  },
  {
   "cell_type": "code",
   "metadata": {
    "cell_id": "e8dc11e71c34452fb9367d4499281662",
    "tags": [],
    "deepnote_to_be_reexecuted": false,
    "source_hash": "8c12abcd",
    "execution_start": 1650161094816,
    "execution_millis": 62,
    "deepnote_cell_type": "code",
    "deepnote_cell_height": 99
   },
   "source": "# expanded_wiki_cats = \n# print(wiki_cats)",
   "outputs": [],
   "execution_count": null
  },
  {
   "cell_type": "code",
   "metadata": {
    "cell_id": "01951f9cdd56477abe7ef2de1f899326",
    "tags": [],
    "deepnote_to_be_reexecuted": false,
    "source_hash": "356eaf3f",
    "execution_start": 1650161094917,
    "execution_millis": 75,
    "deepnote_cell_type": "code",
    "deepnote_cell_height": 81
   },
   "source": "##expand_years_in_cats_to_modern(wiki_cats)",
   "outputs": [],
   "execution_count": null
  },
  {
   "cell_type": "code",
   "metadata": {
    "cell_id": "48311d4657b641b28a00b71e6cd089c2",
    "tags": [],
    "deepnote_to_be_reexecuted": false,
    "source_hash": "b5aa4f56",
    "execution_start": 1650161095002,
    "execution_millis": 97,
    "deepnote_cell_type": "code",
    "deepnote_cell_height": 222.375
   },
   "source": "%%time\n\n\n\n\n",
   "outputs": [
    {
     "name": "stdout",
     "text": "CPU times: user 3 µs, sys: 0 ns, total: 3 µs\nWall time: 5.72 µs\n",
     "output_type": "stream"
    }
   ],
   "execution_count": null
  },
  {
   "cell_type": "code",
   "metadata": {
    "cell_id": "6094baef766a487b9262b8e4f7792821",
    "tags": [],
    "deepnote_to_be_reexecuted": false,
    "source_hash": "cb4ea6e1",
    "execution_start": 1650161095148,
    "execution_millis": 60,
    "deepnote_cell_type": "code",
    "deepnote_cell_height": 99
   },
   "source": "# for k,v in page_cat_content_dict.items():\n#     print(k, len(v))",
   "outputs": [],
   "execution_count": null
  },
  {
   "cell_type": "code",
   "metadata": {
    "cell_id": "a866d8ab593844b68118e482eb604d6a",
    "tags": [],
    "deepnote_to_be_reexecuted": false,
    "source_hash": "77f66f77",
    "execution_start": 1650161095251,
    "execution_millis": 121,
    "deepnote_cell_type": "code",
    "deepnote_cell_height": 81
   },
   "source": "#wiki_cats",
   "outputs": [],
   "execution_count": null
  },
  {
   "cell_type": "code",
   "metadata": {
    "cell_id": "48e9de0c51214766acb9dd0d01b96295",
    "tags": [],
    "deepnote_to_be_reexecuted": false,
    "source_hash": "b31fd813",
    "execution_start": 1650161095375,
    "execution_millis": 4,
    "deepnote_cell_type": "code",
    "deepnote_cell_height": 99
   },
   "source": "\n",
   "outputs": [],
   "execution_count": null
  },
  {
   "cell_type": "code",
   "metadata": {
    "cell_id": "790cf476a4c94d7d908965f86167d627",
    "tags": [],
    "deepnote_to_be_reexecuted": false,
    "source_hash": "681f4679",
    "execution_start": 1650161095381,
    "execution_millis": 119,
    "deepnote_cell_type": "code",
    "deepnote_cell_height": 81
   },
   "source": "#white_list_dict.keys()",
   "outputs": [],
   "execution_count": null
  },
  {
   "cell_type": "code",
   "metadata": {
    "cell_id": "a20242ab9c734fd78c97cc1f9b330180",
    "tags": [],
    "deepnote_to_be_reexecuted": false,
    "source_hash": "b623e53d",
    "execution_start": 1650161095503,
    "execution_millis": 1,
    "deepnote_cell_type": "code",
    "deepnote_cell_height": 81
   },
   "source": "",
   "outputs": [],
   "execution_count": null
  },
  {
   "cell_type": "code",
   "metadata": {
    "cell_id": "ae299f11-76fe-443e-94af-94fedcbe782e",
    "tags": [],
    "deepnote_to_be_reexecuted": false,
    "source_hash": "9c1555b4",
    "execution_start": 1650161095537,
    "execution_millis": 176,
    "deepnote_cell_type": "code",
    "deepnote_cell_height": 99
   },
   "source": "# with open('./output_step1/wiki_100summaries_' + wiki_term.replace(' ', '') + '.pickle', 'wb') as handle:\n#     pickle.dump(page_summary_dict, handle, protocol=pickle.HIGHEST_PROTOCOL)",
   "outputs": [],
   "execution_count": null
  },
  {
   "cell_type": "code",
   "metadata": {
    "cell_id": "1370b674-a678-455f-9a73-805949b4cd88",
    "tags": [],
    "deepnote_to_be_reexecuted": false,
    "source_hash": "b623e53d",
    "execution_start": 1650161095713,
    "execution_millis": 0,
    "deepnote_cell_type": "code",
    "deepnote_cell_height": 81
   },
   "source": "",
   "outputs": [],
   "execution_count": null
  },
  {
   "cell_type": "code",
   "metadata": {
    "cell_id": "8eda2ea9-9ace-4be2-8098-a66d83257e8e",
    "tags": [],
    "deepnote_to_be_reexecuted": false,
    "source_hash": "9b9dbcce",
    "execution_start": 1650161095714,
    "execution_millis": 86,
    "deepnote_cell_type": "code",
    "deepnote_cell_height": 153
   },
   "source": "# test_model = model.encode(['catan', 'wingspan', 'Bananagrams', 'missle'])\n\n# cos_test = util.pytorch_cos_sim(test_model, test_model)[0].numpy()\n# print(cos_test)\n# #rem_idx = np.where(cos_remove > .7)[0]",
   "outputs": [],
   "execution_count": null
  },
  {
   "cell_type": "code",
   "metadata": {
    "cell_id": "fb254207-ec77-41f1-9e37-65616c87bd3e",
    "tags": [],
    "deepnote_to_be_reexecuted": false,
    "source_hash": "eea86363",
    "execution_start": 1650161095803,
    "execution_millis": 175,
    "deepnote_cell_type": "code",
    "deepnote_cell_height": 117
   },
   "source": "# # attempt at searching for more categories, if what we found above isn't enough\n# search_results = wikipedia.search('Category:dietary therapy', results=100, suggestion=False)\n# print(search_results)",
   "outputs": [],
   "execution_count": null
  },
  {
   "cell_type": "code",
   "metadata": {
    "cell_id": "8defb22e-7e7f-49dd-9cc3-3c6d9bd59280",
    "tags": [],
    "deepnote_to_be_reexecuted": false,
    "source_hash": "36b441b2",
    "execution_start": 1650161095982,
    "execution_millis": 115,
    "deepnote_cell_type": "code",
    "deepnote_cell_height": 81
   },
   "source": "# wikipedia.page('List of board games', auto_suggest=False).summary",
   "outputs": [],
   "execution_count": null
  },
  {
   "cell_type": "code",
   "metadata": {
    "cell_id": "6de77bd0-d457-44fe-a236-93a471448d74",
    "tags": [],
    "deepnote_to_be_reexecuted": false,
    "source_hash": "bbc4525",
    "execution_start": 1650161096101,
    "execution_millis": 110,
    "deepnote_cell_type": "code",
    "deepnote_cell_height": 369
   },
   "source": "\n\n# site = pw.Site(\"en\", \"wikipedia\")\n# print([\n#     cat.title()\n#     for cat in pw.Page(site, 'support-vector machine').categories()\n#     if 'hidden' not in cat.categoryinfo\n# ])\n\n# p = pw.Page(site, 'support-vector machine')\n# list(p.categories())\n\n# for cat in p.categories():\n#     print(cat)\n#     print(cat.categoryinfo)\n#     print()\n",
   "outputs": [],
   "execution_count": null
  },
  {
   "cell_type": "code",
   "metadata": {
    "cell_id": "7c8c1d84-5076-400b-a753-408e8bacf748",
    "tags": [],
    "deepnote_to_be_reexecuted": false,
    "source_hash": "b623e53d",
    "execution_start": 1650161096213,
    "execution_millis": 58,
    "deepnote_cell_type": "code",
    "deepnote_cell_height": 81
   },
   "source": "",
   "outputs": [],
   "execution_count": null
  },
  {
   "cell_type": "markdown",
   "source": "<a style='text-decoration:none;line-height:16px;display:flex;color:#5B5B62;padding:10px;justify-content:end;' href='https://deepnote.com?utm_source=created-in-deepnote-cell&projectId=90b052a7-f47d-474e-888f-9345355cfd9a' target=\"_blank\">\n<img alt='Created in deepnote.com' style='display:inline;max-height:16px;margin:0px;margin-right:7.5px;' src='data:image/svg+xml;base64,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' > </img>\nCreated in <span style='font-weight:600;margin-left:4px;'>Deepnote</span></a>",
   "metadata": {
    "tags": [],
    "created_in_deepnote_cell": true,
    "deepnote_cell_type": "markdown"
   }
  }
 ],
 "nbformat": 4,
 "nbformat_minor": 2,
 "metadata": {
  "orig_nbformat": 2,
  "deepnote": {
   "is_reactive": false
  },
  "deepnote_notebook_id": "66542857-f646-490d-b341-dadf1760bc19",
  "deepnote_execution_queue": []
 }
}