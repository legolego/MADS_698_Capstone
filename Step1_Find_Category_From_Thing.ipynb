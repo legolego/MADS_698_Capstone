{
 "cells": [
  {
   "cell_type": "code",
   "metadata": {
    "tags": [],
    "cell_id": "5c165dca-8c41-4c82-985e-1ac572f80569",
    "deepnote_to_be_reexecuted": false,
    "source_hash": "85b2482b",
    "execution_start": 1650686911082,
    "execution_millis": 51254,
    "deepnote_cell_type": "code",
    "deepnote_cell_height": 2715.1875
   },
   "source": "%load_ext autoreload\n%autoreload 2\n\nimport wikipedia # used for search of terms, provides: DisambiguationError\n\nimport wikipediaapi # used because can get categorymembers in a given category\nwiki_wiki = wikipediaapi.Wikipedia('en')\n# Might be able to use pywikibot for everything, or at least more\n# https://stackoverflow.com/questions/71023854/how-to-find-subcategories-and-subpages-on-wikipedia-using-pywikibot\nimport pywikibot as pw # used to get AND filter hidden categories for an article\n\nimport graphviz\n\nimport stanza\nstanza.download('en') # download English model\n\n!jupyter nbextension install --py widgetsnbextension\n!jupyter nbextension enable --py widgetsnbextension\n\nnlp = stanza.Pipeline(lang='en', processors='tokenize,lemma,pos,depparse')\n\n# https://www.sbert.net/docs/pretrained_models.html\nfrom sentence_transformers import SentenceTransformer, util\n#model = SentenceTransformer('all-MiniLM-L12-v2')\nmodel = SentenceTransformer('all-MiniLM-L6-v2')\n\nimport numpy as np\nimport pickle\n\nimport datetime as dt\n\nimport re\nimport requests\nimport time\nfrom collections import Counter\nfrom os.path import exists as file_exists\n ",
   "execution_count": 1,
   "outputs": [
    {
     "data": {
      "text/plain": "Downloading https://raw.githubusercontent.com/stanfordnlp/stanza-resources/main/resources_1.3.0.json:   0%|   …",
      "application/vnd.jupyter.widget-view+json": {
       "version_major": 2,
       "version_minor": 0,
       "model_id": "f608ddaa298a4994b5af1c41b22fc126"
      }
     },
     "metadata": {},
     "output_type": "display_data"
    },
    {
     "name": "stderr",
     "text": "2022-04-23 04:08:38 INFO: Downloading default packages for language: en (English)...\n",
     "output_type": "stream"
    },
    {
     "data": {
      "text/plain": "Downloading https://huggingface.co/stanfordnlp/stanza-en/resolve/v1.3.0/models/default.zip:   0%|          | 0…",
      "application/vnd.jupyter.widget-view+json": {
       "version_major": 2,
       "version_minor": 0,
       "model_id": "5fcc0c2cce874033b536297e2cdfa056"
      }
     },
     "metadata": {},
     "output_type": "display_data"
    },
    {
     "name": "stderr",
     "text": "2022-04-23 04:08:53 INFO: Finished downloading models and saved to /root/stanza_resources.\nInstalling /root/venv/lib/python3.7/site-packages/widgetsnbextension/static -> jupyter-js-widgets\nMaking directory: /usr/local/share/jupyter/nbextensions/jupyter-js-widgets/\nCopying: /root/venv/lib/python3.7/site-packages/widgetsnbextension/static/extension.js -> /usr/local/share/jupyter/nbextensions/jupyter-js-widgets/extension.js\nCopying: /root/venv/lib/python3.7/site-packages/widgetsnbextension/static/extension.js.map -> /usr/local/share/jupyter/nbextensions/jupyter-js-widgets/extension.js.map\n- Validating: \u001b[32mOK\u001b[0m\n\n    To initialize this nbextension in the browser every time the notebook (or other app) loads:\n    \n          jupyter nbextension enable widgetsnbextension --py\n    \nEnabling notebook extension jupyter-js-widgets/extension...\nPaths used for configuration of notebook: \n    \t/deepnote-config/jupyter/nbconfig/notebook.json\nPaths used for configuration of notebook: \n    \t\n      - Validating: \u001b[32mOK\u001b[0m\nPaths used for configuration of notebook: \n    \t/deepnote-config/jupyter/nbconfig/notebook.json\n2022-04-23 04:08:55 INFO: Loading these models for language: en (English):\n========================\n| Processor | Package  |\n------------------------\n| tokenize  | combined |\n| pos       | combined |\n| lemma     | combined |\n| depparse  | combined |\n========================\n\n2022-04-23 04:08:55 INFO: Use device: cpu\n2022-04-23 04:08:55 INFO: Loading: tokenize\n2022-04-23 04:08:55 INFO: Loading: pos\n2022-04-23 04:08:55 INFO: Loading: lemma\n2022-04-23 04:08:56 INFO: Loading: depparse\n2022-04-23 04:08:56 INFO: Done loading processors!\n",
     "output_type": "stream"
    },
    {
     "data": {
      "text/plain": "Downloading:   0%|          | 0.00/1.18k [00:00<?, ?B/s]",
      "application/vnd.jupyter.widget-view+json": {
       "version_major": 2,
       "version_minor": 0,
       "model_id": "c0a4951797f342c090121d5e057655b9"
      }
     },
     "metadata": {},
     "output_type": "display_data"
    },
    {
     "data": {
      "text/plain": "Downloading:   0%|          | 0.00/190 [00:00<?, ?B/s]",
      "application/vnd.jupyter.widget-view+json": {
       "version_major": 2,
       "version_minor": 0,
       "model_id": "4c09db67c2684780ab5296adae81ff70"
      }
     },
     "metadata": {},
     "output_type": "display_data"
    },
    {
     "data": {
      "text/plain": "Downloading:   0%|          | 0.00/10.2k [00:00<?, ?B/s]",
      "application/vnd.jupyter.widget-view+json": {
       "version_major": 2,
       "version_minor": 0,
       "model_id": "e3bff656599645dd843dfdb0dad9acf8"
      }
     },
     "metadata": {},
     "output_type": "display_data"
    },
    {
     "data": {
      "text/plain": "Downloading:   0%|          | 0.00/612 [00:00<?, ?B/s]",
      "application/vnd.jupyter.widget-view+json": {
       "version_major": 2,
       "version_minor": 0,
       "model_id": "e027cacb5f1b4b1392df08f67ef60e6e"
      }
     },
     "metadata": {},
     "output_type": "display_data"
    },
    {
     "data": {
      "text/plain": "Downloading:   0%|          | 0.00/116 [00:00<?, ?B/s]",
      "application/vnd.jupyter.widget-view+json": {
       "version_major": 2,
       "version_minor": 0,
       "model_id": "b459b9bf37de49dc9e251175f17fd63a"
      }
     },
     "metadata": {},
     "output_type": "display_data"
    },
    {
     "data": {
      "text/plain": "Downloading:   0%|          | 0.00/39.3k [00:00<?, ?B/s]",
      "application/vnd.jupyter.widget-view+json": {
       "version_major": 2,
       "version_minor": 0,
       "model_id": "355b4dacddd749ac8699ed4f6fdd6715"
      }
     },
     "metadata": {},
     "output_type": "display_data"
    },
    {
     "data": {
      "text/plain": "Downloading:   0%|          | 0.00/349 [00:00<?, ?B/s]",
      "application/vnd.jupyter.widget-view+json": {
       "version_major": 2,
       "version_minor": 0,
       "model_id": "140978fd8162474eb9f72829870c790b"
      }
     },
     "metadata": {},
     "output_type": "display_data"
    },
    {
     "data": {
      "text/plain": "Downloading:   0%|          | 0.00/90.9M [00:00<?, ?B/s]",
      "application/vnd.jupyter.widget-view+json": {
       "version_major": 2,
       "version_minor": 0,
       "model_id": "7cecb407a4c046d78d3e4781e2cf8aab"
      }
     },
     "metadata": {},
     "output_type": "display_data"
    },
    {
     "data": {
      "text/plain": "Downloading:   0%|          | 0.00/53.0 [00:00<?, ?B/s]",
      "application/vnd.jupyter.widget-view+json": {
       "version_major": 2,
       "version_minor": 0,
       "model_id": "335409767e8f481a9b300f56575a1e8c"
      }
     },
     "metadata": {},
     "output_type": "display_data"
    },
    {
     "data": {
      "text/plain": "Downloading:   0%|          | 0.00/112 [00:00<?, ?B/s]",
      "application/vnd.jupyter.widget-view+json": {
       "version_major": 2,
       "version_minor": 0,
       "model_id": "540329fcd0454a838800d48d4cf2f5fa"
      }
     },
     "metadata": {},
     "output_type": "display_data"
    },
    {
     "data": {
      "text/plain": "Downloading:   0%|          | 0.00/466k [00:00<?, ?B/s]",
      "application/vnd.jupyter.widget-view+json": {
       "version_major": 2,
       "version_minor": 0,
       "model_id": "cc508c7dcbcb469e83fde3e82fd6f9c5"
      }
     },
     "metadata": {},
     "output_type": "display_data"
    },
    {
     "data": {
      "text/plain": "Downloading:   0%|          | 0.00/350 [00:00<?, ?B/s]",
      "application/vnd.jupyter.widget-view+json": {
       "version_major": 2,
       "version_minor": 0,
       "model_id": "e9494fad4b064ab8a6ff8901e5247bf8"
      }
     },
     "metadata": {},
     "output_type": "display_data"
    },
    {
     "data": {
      "text/plain": "Downloading:   0%|          | 0.00/13.2k [00:00<?, ?B/s]",
      "application/vnd.jupyter.widget-view+json": {
       "version_major": 2,
       "version_minor": 0,
       "model_id": "eae40ff984674659abd77a97a5b7dc01"
      }
     },
     "metadata": {},
     "output_type": "display_data"
    },
    {
     "data": {
      "text/plain": "Downloading:   0%|          | 0.00/232k [00:00<?, ?B/s]",
      "application/vnd.jupyter.widget-view+json": {
       "version_major": 2,
       "version_minor": 0,
       "model_id": "35d8f6ff28ac48128eda6708a8a84963"
      }
     },
     "metadata": {},
     "output_type": "display_data"
    }
   ]
  },
  {
   "cell_type": "code",
   "metadata": {
    "cell_id": "95217fc6-a700-4ed4-87b9-e97f1026db9e",
    "tags": [],
    "deepnote_to_be_reexecuted": false,
    "source_hash": "d66942a1",
    "execution_start": 1650592266875,
    "execution_millis": 166,
    "deepnote_cell_type": "code",
    "deepnote_cell_height": 171
   },
   "source": "# # https://pypi.org/project/Wikipedia-API/\n# def print_categorymembers(categorymembers, level=0, max_level=1):\n#         for c in categorymembers.values():\n#             print(\"%s: %s (ns: %d)\" % (\"*\" * (level + 1), c.title, c.ns))\n#             if c.ns == wikipediaapi.Namespace.CATEGORY and level < max_level:\n#                 print_categorymembers(c.categorymembers, level=level + 1, max_level=max_level)",
   "execution_count": null,
   "outputs": []
  },
  {
   "cell_type": "code",
   "metadata": {
    "cell_id": "8b0d34e6-532b-4744-9d6e-44fde774afd8",
    "tags": [],
    "deepnote_to_be_reexecuted": false,
    "source_hash": "bf4c8444",
    "execution_start": 1650687018606,
    "execution_millis": 1449,
    "deepnote_cell_type": "code",
    "deepnote_cell_height": 153
   },
   "source": "\n# search_term = \"Squid Game\"\n\n# search_results = wikipedia.search(search_term)\n# print(search_results[:10])",
   "execution_count": 5,
   "outputs": []
  },
  {
   "cell_type": "code",
   "metadata": {
    "cell_id": "3d7cf02f-cbde-406b-b7c1-5559a8bb33e6",
    "tags": [],
    "deepnote_to_be_reexecuted": false,
    "source_hash": "f4c4290",
    "execution_start": 1650687020074,
    "execution_millis": 1077,
    "deepnote_cell_type": "code",
    "deepnote_cell_height": 487.125,
    "deepnote_output_heights": [
     193.875
    ]
   },
   "source": "# print(search_results)\n# #https://github.com/goldsmith/Wikipedia/issues/295\n\n# first_search_term = search_results[0]\n\n# #https://github.com/goldsmith/Wikipedia/issues/295\n# try:\n#     page = wikipedia.page(first_search_term, auto_suggest=False)    \n# except wikipedia.DisambiguationError:\n#     print(\"Oops! DisambiguationError, trying next result\")\n#     first_search_term = search_results[1]\n#     page = wikipedia.page(first_search_term, auto_suggest=False)\n\n# # add gui for manual disambiguation\n# print(page.summary)\n# #print(page.categories)",
   "execution_count": 6,
   "outputs": [
    {
     "name": "stdout",
     "text": "['Squid Game', 'Squid (game)', 'List of Squid Game characters', 'HoYeon Jung', 'Hellbound (TV series)', 'Crab Game', 'Lee Jung-jae', 'Squids (video game)', 'Anupam Tripathi', 'Park Hae-soo']\nSquid Game (Korean: 오징어 게임; RR: Ojing-eo Geim) is a South Korean survival drama television series created by Hwang Dong-hyuk for Netflix. Its cast includes Lee Jung-jae, Park Hae-soo, Wi Ha-joon, HoYeon Jung, O Yeong-su, Heo Sung-tae, Anupam Tripathi, and Kim Joo-ryoung.\nThe series revolves around a contest where 456 players, all of whom are in deep financial debt, risk their lives to play a series of deadly children's games for the chance to win a ₩45.6 billion (US$38 million, €33 million, or GB£29 million as of broadcast) prize. The title of the series draws from a similarly named Korean children's game. Hwang had conceived of the idea based on his own economic struggles early in life, as well as the class disparity in South Korea and capitalism. Though he had initially written it in 2009, he was unable to find a production company to fund the idea until Netflix took an interest around 2019 as part of their drive to expand their foreign programming offerings.\nSquid Game was released worldwide on September 17, 2021, to critical acclaim and international attention. It is Netflix's most-watched series, becoming the top-viewed program in 94 countries and attracting more than 142 million member households and amassing 1.65 billion viewing hours during its first four weeks from launch, surpassing Bridgerton for the title of most watched show. The series has also received numerous accolades, including the Golden Globe Award for Best Supporting Actor – Series, Miniseries or Television Film for O Yeong-su and the Screen Actors Guild Award for Outstanding Performance by a Male Actor in a Drama Series and Outstanding Performance by a Female Actor in a Drama Series for Lee Jung-jae and HoYeon Jung, respectively, with all three making history as the first Korean actors to win in those categories. A second season is in development and would be completed and broadcast by 2024.\n\n\n",
     "output_type": "stream"
    }
   ]
  },
  {
   "cell_type": "code",
   "metadata": {
    "cell_id": "aa29c97d-251c-43e1-b517-43d3fdd5db2f",
    "tags": [],
    "deepnote_to_be_reexecuted": false,
    "source_hash": "4d4c99cb",
    "execution_start": 1650687020684,
    "execution_millis": 5124,
    "deepnote_cell_type": "code",
    "deepnote_cell_height": 190.1875,
    "deepnote_output_heights": [
     21.1875
    ]
   },
   "source": "\n# # Using stanza instead of nltk to save memory\n# doc = nlp(page.summary)\n# first_sentence = doc.sentences[0]\n# first_sentence.text",
   "execution_count": 7,
   "outputs": [
    {
     "output_type": "execute_result",
     "execution_count": 7,
     "data": {
      "text/plain": "'Squid Game (Korean: 오징어 게임; RR: Ojing-eo Geim) is a South Korean survival drama television series created by Hwang Dong-hyuk for Netflix.'"
     },
     "metadata": {}
    }
   ]
  },
  {
   "cell_type": "code",
   "metadata": {
    "cell_id": "467d5151-97bf-40c9-8a80-8572e67e8f80",
    "tags": [],
    "deepnote_to_be_reexecuted": false,
    "source_hash": "28b3ccae",
    "execution_start": 1650687025819,
    "execution_millis": 649,
    "deepnote_cell_type": "code",
    "deepnote_cell_height": 960,
    "deepnote_output_heights": [
     611
    ]
   },
   "source": "# # print (\"{:<15} | {:<10} | {:<15} \".format('Token', 'Relation', 'Head'))\n# # print (\"-\" * 50)\n  \n# # # Convert sentence object to dictionary  \n# #sent_dict = doc.sentences[0].to_dict()\n# sent_dict = first_sentence.to_dict()\n\n# # # iterate to print the token, relation and head\n# # for word in sent_dict:\n# #   print (\"{:<15} | {:<10} | {:<15} \"\n# #          .format(str(word['text']),str(word['deprel']),\\\n# #           str(sent_dict[word['head']-1]['text'] \\\n# #           if word['head'] > 0 else 'ROOT')))\n\n# sent_dict",
   "execution_count": 8,
   "outputs": [
    {
     "output_type": "execute_result",
     "execution_count": 8,
     "data": {
      "text/plain": "[{'id': 1,\n  'text': 'Squid',\n  'lemma': 'Squid',\n  'upos': 'PROPN',\n  'xpos': 'NNP',\n  'feats': 'Number=Sing',\n  'head': 2,\n  'deprel': 'compound',\n  'start_char': 0,\n  'end_char': 5},\n {'id': 2,\n  'text': 'Game',\n  'lemma': 'Game',\n  'upos': 'PROPN',\n  'xpos': 'NNP',\n  'feats': 'Number=Sing',\n  'head': 22,\n  'deprel': 'nsubj',\n  'start_char': 6,\n  'end_char': 10},\n {'id': 3,\n  'text': '(',\n  'lemma': '(',\n  'upos': 'PUNCT',\n  'xpos': '-LRB-',\n  'head': 4,\n  'deprel': 'punct',\n  'start_char': 11,\n  'end_char': 12},\n {'id': 4,\n  'text': 'Korean',\n  'lemma': 'Korean',\n  'upos': 'PROPN',\n  'xpos': 'NNP',\n  'feats': 'Number=Sing',\n  'head': 2,\n  'deprel': 'appos',\n  'start_char': 12,\n  'end_char': 18},\n {'id': 5,\n  'text': ':',\n  'lemma': ':',\n  'upos': 'PUNCT',\n  'xpos': ':',\n  'head': 6,\n  'deprel': 'punct',\n  'start_char': 18,\n  'end_char': 19},\n {'id': 6,\n  'text': '오징어',\n  'lemma': '오징어',\n  'upos': 'PROPN',\n  'xpos': 'NNP',\n  'feats': 'Number=Sing',\n  'head': 2,\n  'deprel': 'appos',\n  'start_char': 20,\n  'end_char': 23},\n {'id': 7,\n  'text': '게임',\n  'lemma': '게임',\n  'upos': 'PROPN',\n  'xpos': 'NNP',\n  'feats': 'Number=Sing',\n  'head': 6,\n  'deprel': 'flat',\n  'start_char': 24,\n  'end_char': 26},\n {'id': 8,\n  'text': ';',\n  'lemma': ';',\n  'upos': 'PUNCT',\n  'xpos': ':',\n  'head': 9,\n  'deprel': 'punct',\n  'start_char': 26,\n  'end_char': 27},\n {'id': 9,\n  'text': 'RR',\n  'lemma': 'RR',\n  'upos': 'PROPN',\n  'xpos': 'NNP',\n  'feats': 'Number=Sing',\n  'head': 6,\n  'deprel': 'conj',\n  'start_char': 28,\n  'end_char': 30},\n {'id': 10,\n  'text': ':',\n  'lemma': ':',\n  'upos': 'PUNCT',\n  'xpos': ':',\n  'head': 11,\n  'deprel': 'punct',\n  'start_char': 30,\n  'end_char': 31},\n {'id': 11,\n  'text': 'Ojing',\n  'lemma': 'Ojing',\n  'upos': 'PROPN',\n  'xpos': 'NNP',\n  'feats': 'Number=Sing',\n  'head': 9,\n  'deprel': 'parataxis',\n  'start_char': 32,\n  'end_char': 37},\n {'id': 12,\n  'text': '-eo',\n  'lemma': '-eo',\n  'upos': 'PROPN',\n  'xpos': 'NNP',\n  'feats': 'Number=Sing',\n  'head': 11,\n  'deprel': 'flat',\n  'start_char': 37,\n  'end_char': 40},\n {'id': 13,\n  'text': 'Geim',\n  'lemma': 'Geim',\n  'upos': 'PROPN',\n  'xpos': 'NNP',\n  'feats': 'Number=Sing',\n  'head': 11,\n  'deprel': 'flat',\n  'start_char': 41,\n  'end_char': 45},\n {'id': 14,\n  'text': ')',\n  'lemma': ')',\n  'upos': 'PUNCT',\n  'xpos': '-RRB-',\n  'head': 9,\n  'deprel': 'punct',\n  'start_char': 45,\n  'end_char': 46},\n {'id': 15,\n  'text': 'is',\n  'lemma': 'be',\n  'upos': 'AUX',\n  'xpos': 'VBZ',\n  'feats': 'Mood=Ind|Number=Sing|Person=3|Tense=Pres|VerbForm=Fin',\n  'head': 22,\n  'deprel': 'cop',\n  'start_char': 47,\n  'end_char': 49},\n {'id': 16,\n  'text': 'a',\n  'lemma': 'a',\n  'upos': 'DET',\n  'xpos': 'DT',\n  'feats': 'Definite=Ind|PronType=Art',\n  'head': 22,\n  'deprel': 'det',\n  'start_char': 50,\n  'end_char': 51},\n {'id': 17,\n  'text': 'South',\n  'lemma': 'South',\n  'upos': 'PROPN',\n  'xpos': 'NNP',\n  'feats': 'Number=Sing',\n  'head': 20,\n  'deprel': 'compound',\n  'start_char': 52,\n  'end_char': 57},\n {'id': 18,\n  'text': 'Korean',\n  'lemma': 'Korean',\n  'upos': 'ADJ',\n  'xpos': 'JJ',\n  'feats': 'Degree=Pos',\n  'head': 22,\n  'deprel': 'amod',\n  'start_char': 58,\n  'end_char': 64},\n {'id': 19,\n  'text': 'survival',\n  'lemma': 'survival',\n  'upos': 'NOUN',\n  'xpos': 'NN',\n  'feats': 'Number=Sing',\n  'head': 20,\n  'deprel': 'compound',\n  'start_char': 65,\n  'end_char': 73},\n {'id': 20,\n  'text': 'drama',\n  'lemma': 'drama',\n  'upos': 'NOUN',\n  'xpos': 'NN',\n  'feats': 'Number=Sing',\n  'head': 22,\n  'deprel': 'compound',\n  'start_char': 74,\n  'end_char': 79},\n {'id': 21,\n  'text': 'television',\n  'lemma': 'television',\n  'upos': 'NOUN',\n  'xpos': 'NN',\n  'feats': 'Number=Sing',\n  'head': 22,\n  'deprel': 'compound',\n  'start_char': 80,\n  'end_char': 90},\n {'id': 22,\n  'text': 'series',\n  'lemma': 'series',\n  'upos': 'NOUN',\n  'xpos': 'NN',\n  'feats': 'Number=Sing',\n  'head': 0,\n  'deprel': 'root',\n  'start_char': 91,\n  'end_char': 97},\n {'id': 23,\n  'text': 'created',\n  'lemma': 'create',\n  'upos': 'VERB',\n  'xpos': 'VBN',\n  'feats': 'Tense=Past|VerbForm=Part',\n  'head': 22,\n  'deprel': 'acl',\n  'start_char': 98,\n  'end_char': 105},\n {'id': 24,\n  'text': 'by',\n  'lemma': 'by',\n  'upos': 'ADP',\n  'xpos': 'IN',\n  'head': 25,\n  'deprel': 'case',\n  'start_char': 106,\n  'end_char': 108},\n {'id': 25,\n  'text': 'Hwang',\n  'lemma': 'Hwang',\n  'upos': 'PROPN',\n  'xpos': 'NNP',\n  'feats': 'Number=Sing',\n  'head': 23,\n  'deprel': 'obl',\n  'start_char': 109,\n  'end_char': 114},\n {'id': 26,\n  'text': 'Dong-',\n  'lemma': 'Dong-',\n  'upos': 'PROPN',\n  'xpos': 'NNP',\n  'feats': 'Number=Sing',\n  'head': 25,\n  'deprel': 'flat',\n  'start_char': 115,\n  'end_char': 120},\n {'id': 27,\n  'text': 'hyuk',\n  'lemma': 'hyuk',\n  'upos': 'PROPN',\n  'xpos': 'NNP',\n  'feats': 'Number=Sing',\n  'head': 25,\n  'deprel': 'flat',\n  'start_char': 120,\n  'end_char': 124},\n {'id': 28,\n  'text': 'for',\n  'lemma': 'for',\n  'upos': 'ADP',\n  'xpos': 'IN',\n  'head': 29,\n  'deprel': 'case',\n  'start_char': 125,\n  'end_char': 128},\n {'id': 29,\n  'text': 'Netflix',\n  'lemma': 'Netflix',\n  'upos': 'PROPN',\n  'xpos': 'NNP',\n  'feats': 'Number=Sing',\n  'head': 23,\n  'deprel': 'obl',\n  'start_char': 129,\n  'end_char': 136},\n {'id': 30,\n  'text': '.',\n  'lemma': '.',\n  'upos': 'PUNCT',\n  'xpos': '.',\n  'head': 22,\n  'deprel': 'punct',\n  'start_char': 136,\n  'end_char': 137}]"
     },
     "metadata": {}
    }
   ]
  },
  {
   "cell_type": "code",
   "metadata": {
    "cell_id": "cfa66664c707410ba0b34f5913b4767e",
    "tags": [],
    "deepnote_to_be_reexecuted": false,
    "source_hash": "4c620edb",
    "execution_start": 1650687025950,
    "execution_millis": 82,
    "deepnote_cell_type": "code",
    "deepnote_cell_height": 81
   },
   "source": "# mvp_flag",
   "execution_count": 9,
   "outputs": []
  },
  {
   "cell_type": "code",
   "metadata": {
    "cell_id": "db68176a-7c78-47a5-b4e8-ee382b2ba040",
    "tags": [],
    "deepnote_to_be_reexecuted": false,
    "source_hash": "f58c47c4",
    "execution_start": 1650687026104,
    "execution_millis": 397,
    "deepnote_cell_type": "code",
    "deepnote_cell_height": 1391.875,
    "deepnote_output_heights": [
     193.875,
     21.1875
    ]
   },
   "source": "# # Look for the ROOT word of the dependency tree\n# # hopefully not the first wrod\n# root_id = 0\n# root_word = ''\n# for word in sent_dict:\n#     if word['head'] == 0:\n#         root_id = word['id']\n#         root_word = word['text']\n#         break    \n\n# print(\"first root id:\", root_id)\n# print(\"first root word:\", root_word)\n\n# # Lost TV series for some reason has ROOT as first word, so use what it's connected to as ROOT instead\n# if root_id in [1]:\n#     for word in sent_dict:\n#         if (word['head'] == 1) & (word['deprel'] in ['nsubj:pass', 'parataxis']):\n#             root_id = word['id']\n#             root_word = word['text']\n#             break\n\n# print(\"new root id:\", root_id)\n# print(\"new root word:\", root_word)\n \n\n# # Get all modifiers of ROOT word, loop up to 3 times to get enough words\n# all_dep_ids = []\n\n# for i in range(3): # at most 3 loops\n#     cur_dep_ids = []\n#     for word in sent_dict:\n#         if ((word['head'] in all_dep_ids + [root_id]) & (word['deprel'] in ['obl', 'compound','amod','nmod','conj','appos'])):\n#             cur_dep_ids.append(word['id'])\n\n#     all_dep_ids.extend(cur_dep_ids)\n#     print(i, all_dep_ids)\n#     if len(all_dep_ids) > 3: # bring back at least 3 words, if we have more, then they're too far away\n#         break\n# print(all_dep_ids)\n# all_dep_ids.append(root_id)\n\n# category_phrase_dict = dict()\n# for word in sent_dict:\n#     if (word['id'] in all_dep_ids):\n#         category_phrase_dict[word['id']] = (word['text'], word['deprel'])\n\n# print(category_phrase_dict)\n\n# category_phrase = []\n# for k,v in category_phrase_dict.items():\n#     category_phrase.append(v[0])\n\n# print('category_phrase:', category_phrase)\n# index_root_word = category_phrase.index(root_word)\n# category_phrase = category_phrase[:index_root_word+1]\n\n# category_phrase\n\n# # lop off everything after the root word - didn't work well, pros and cons\n",
   "execution_count": 10,
   "outputs": [
    {
     "name": "stdout",
     "text": "first root id: 22\nfirst root word: series\nnew root id: 22\nnew root word: series\n0 [18, 20, 21]\n1 [18, 20, 21, 17, 18, 19, 20, 21]\n[18, 20, 21, 17, 18, 19, 20, 21]\n{17: ('South', 'compound'), 18: ('Korean', 'amod'), 19: ('survival', 'compound'), 20: ('drama', 'compound'), 21: ('television', 'compound'), 22: ('series', 'root')}\ncategory_phrase: ['South', 'Korean', 'survival', 'drama', 'television', 'series']\n",
     "output_type": "stream"
    },
    {
     "output_type": "execute_result",
     "execution_count": 10,
     "data": {
      "text/plain": "['South', 'Korean', 'survival', 'drama', 'television', 'series']"
     },
     "metadata": {}
    }
   ]
  },
  {
   "cell_type": "code",
   "metadata": {
    "cell_id": "c5510fec-e739-4988-bd2d-9a657a850dbe",
    "tags": [],
    "deepnote_to_be_reexecuted": false,
    "source_hash": "8f55cf8a",
    "execution_start": 1650687041522,
    "execution_millis": 170,
    "deepnote_cell_type": "code",
    "deepnote_cell_height": 708,
    "deepnote_output_heights": [
     611
    ]
   },
   "source": "# sent_dict",
   "execution_count": 13,
   "outputs": [
    {
     "output_type": "execute_result",
     "execution_count": 13,
     "data": {
      "text/plain": "[{'id': 1,\n  'text': 'Squid',\n  'lemma': 'Squid',\n  'upos': 'PROPN',\n  'xpos': 'NNP',\n  'feats': 'Number=Sing',\n  'head': 2,\n  'deprel': 'compound',\n  'start_char': 0,\n  'end_char': 5},\n {'id': 2,\n  'text': 'Game',\n  'lemma': 'Game',\n  'upos': 'PROPN',\n  'xpos': 'NNP',\n  'feats': 'Number=Sing',\n  'head': 22,\n  'deprel': 'nsubj',\n  'start_char': 6,\n  'end_char': 10},\n {'id': 3,\n  'text': '(',\n  'lemma': '(',\n  'upos': 'PUNCT',\n  'xpos': '-LRB-',\n  'head': 4,\n  'deprel': 'punct',\n  'start_char': 11,\n  'end_char': 12},\n {'id': 4,\n  'text': 'Korean',\n  'lemma': 'Korean',\n  'upos': 'PROPN',\n  'xpos': 'NNP',\n  'feats': 'Number=Sing',\n  'head': 2,\n  'deprel': 'appos',\n  'start_char': 12,\n  'end_char': 18},\n {'id': 5,\n  'text': ':',\n  'lemma': ':',\n  'upos': 'PUNCT',\n  'xpos': ':',\n  'head': 6,\n  'deprel': 'punct',\n  'start_char': 18,\n  'end_char': 19},\n {'id': 6,\n  'text': '오징어',\n  'lemma': '오징어',\n  'upos': 'PROPN',\n  'xpos': 'NNP',\n  'feats': 'Number=Sing',\n  'head': 2,\n  'deprel': 'appos',\n  'start_char': 20,\n  'end_char': 23},\n {'id': 7,\n  'text': '게임',\n  'lemma': '게임',\n  'upos': 'PROPN',\n  'xpos': 'NNP',\n  'feats': 'Number=Sing',\n  'head': 6,\n  'deprel': 'flat',\n  'start_char': 24,\n  'end_char': 26},\n {'id': 8,\n  'text': ';',\n  'lemma': ';',\n  'upos': 'PUNCT',\n  'xpos': ':',\n  'head': 9,\n  'deprel': 'punct',\n  'start_char': 26,\n  'end_char': 27},\n {'id': 9,\n  'text': 'RR',\n  'lemma': 'RR',\n  'upos': 'PROPN',\n  'xpos': 'NNP',\n  'feats': 'Number=Sing',\n  'head': 6,\n  'deprel': 'conj',\n  'start_char': 28,\n  'end_char': 30},\n {'id': 10,\n  'text': ':',\n  'lemma': ':',\n  'upos': 'PUNCT',\n  'xpos': ':',\n  'head': 11,\n  'deprel': 'punct',\n  'start_char': 30,\n  'end_char': 31},\n {'id': 11,\n  'text': 'Ojing',\n  'lemma': 'Ojing',\n  'upos': 'PROPN',\n  'xpos': 'NNP',\n  'feats': 'Number=Sing',\n  'head': 9,\n  'deprel': 'parataxis',\n  'start_char': 32,\n  'end_char': 37},\n {'id': 12,\n  'text': '-eo',\n  'lemma': '-eo',\n  'upos': 'PROPN',\n  'xpos': 'NNP',\n  'feats': 'Number=Sing',\n  'head': 11,\n  'deprel': 'flat',\n  'start_char': 37,\n  'end_char': 40},\n {'id': 13,\n  'text': 'Geim',\n  'lemma': 'Geim',\n  'upos': 'PROPN',\n  'xpos': 'NNP',\n  'feats': 'Number=Sing',\n  'head': 11,\n  'deprel': 'flat',\n  'start_char': 41,\n  'end_char': 45},\n {'id': 14,\n  'text': ')',\n  'lemma': ')',\n  'upos': 'PUNCT',\n  'xpos': '-RRB-',\n  'head': 9,\n  'deprel': 'punct',\n  'start_char': 45,\n  'end_char': 46},\n {'id': 15,\n  'text': 'is',\n  'lemma': 'be',\n  'upos': 'AUX',\n  'xpos': 'VBZ',\n  'feats': 'Mood=Ind|Number=Sing|Person=3|Tense=Pres|VerbForm=Fin',\n  'head': 22,\n  'deprel': 'cop',\n  'start_char': 47,\n  'end_char': 49},\n {'id': 16,\n  'text': 'a',\n  'lemma': 'a',\n  'upos': 'DET',\n  'xpos': 'DT',\n  'feats': 'Definite=Ind|PronType=Art',\n  'head': 22,\n  'deprel': 'det',\n  'start_char': 50,\n  'end_char': 51},\n {'id': 17,\n  'text': 'South',\n  'lemma': 'South',\n  'upos': 'PROPN',\n  'xpos': 'NNP',\n  'feats': 'Number=Sing',\n  'head': 20,\n  'deprel': 'compound',\n  'start_char': 52,\n  'end_char': 57},\n {'id': 18,\n  'text': 'Korean',\n  'lemma': 'Korean',\n  'upos': 'ADJ',\n  'xpos': 'JJ',\n  'feats': 'Degree=Pos',\n  'head': 22,\n  'deprel': 'amod',\n  'start_char': 58,\n  'end_char': 64},\n {'id': 19,\n  'text': 'survival',\n  'lemma': 'survival',\n  'upos': 'NOUN',\n  'xpos': 'NN',\n  'feats': 'Number=Sing',\n  'head': 20,\n  'deprel': 'compound',\n  'start_char': 65,\n  'end_char': 73},\n {'id': 20,\n  'text': 'drama',\n  'lemma': 'drama',\n  'upos': 'NOUN',\n  'xpos': 'NN',\n  'feats': 'Number=Sing',\n  'head': 22,\n  'deprel': 'compound',\n  'start_char': 74,\n  'end_char': 79},\n {'id': 21,\n  'text': 'television',\n  'lemma': 'television',\n  'upos': 'NOUN',\n  'xpos': 'NN',\n  'feats': 'Number=Sing',\n  'head': 22,\n  'deprel': 'compound',\n  'start_char': 80,\n  'end_char': 90},\n {'id': 22,\n  'text': 'series',\n  'lemma': 'series',\n  'upos': 'NOUN',\n  'xpos': 'NN',\n  'feats': 'Number=Sing',\n  'head': 0,\n  'deprel': 'root',\n  'start_char': 91,\n  'end_char': 97},\n {'id': 23,\n  'text': 'created',\n  'lemma': 'create',\n  'upos': 'VERB',\n  'xpos': 'VBN',\n  'feats': 'Tense=Past|VerbForm=Part',\n  'head': 22,\n  'deprel': 'acl',\n  'start_char': 98,\n  'end_char': 105},\n {'id': 24,\n  'text': 'by',\n  'lemma': 'by',\n  'upos': 'ADP',\n  'xpos': 'IN',\n  'head': 25,\n  'deprel': 'case',\n  'start_char': 106,\n  'end_char': 108},\n {'id': 25,\n  'text': 'Hwang',\n  'lemma': 'Hwang',\n  'upos': 'PROPN',\n  'xpos': 'NNP',\n  'feats': 'Number=Sing',\n  'head': 23,\n  'deprel': 'obl',\n  'start_char': 109,\n  'end_char': 114},\n {'id': 26,\n  'text': 'Dong-',\n  'lemma': 'Dong-',\n  'upos': 'PROPN',\n  'xpos': 'NNP',\n  'feats': 'Number=Sing',\n  'head': 25,\n  'deprel': 'flat',\n  'start_char': 115,\n  'end_char': 120},\n {'id': 27,\n  'text': 'hyuk',\n  'lemma': 'hyuk',\n  'upos': 'PROPN',\n  'xpos': 'NNP',\n  'feats': 'Number=Sing',\n  'head': 25,\n  'deprel': 'flat',\n  'start_char': 120,\n  'end_char': 124},\n {'id': 28,\n  'text': 'for',\n  'lemma': 'for',\n  'upos': 'ADP',\n  'xpos': 'IN',\n  'head': 29,\n  'deprel': 'case',\n  'start_char': 125,\n  'end_char': 128},\n {'id': 29,\n  'text': 'Netflix',\n  'lemma': 'Netflix',\n  'upos': 'PROPN',\n  'xpos': 'NNP',\n  'feats': 'Number=Sing',\n  'head': 23,\n  'deprel': 'obl',\n  'start_char': 129,\n  'end_char': 136},\n {'id': 30,\n  'text': '.',\n  'lemma': '.',\n  'upos': 'PUNCT',\n  'xpos': '.',\n  'head': 22,\n  'deprel': 'punct',\n  'start_char': 136,\n  'end_char': 137}]"
     },
     "metadata": {}
    }
   ]
  },
  {
   "cell_type": "code",
   "metadata": {
    "cell_id": "b4512ea6-42e0-4115-ba46-2db8488bcb92",
    "tags": [],
    "deepnote_to_be_reexecuted": false,
    "source_hash": "27fe82ef",
    "execution_start": 1650687029021,
    "execution_millis": 809,
    "deepnote_cell_type": "code",
    "deepnote_cell_height": 1316,
    "deepnote_output_heights": [
     607
    ]
   },
   "source": "\n\n# id_word = {}\n# root_id = 0\n# for word in sent_dict:\n#     if word['upos'] != 'PUNCT':\n#         if word['head'] == 0:\n#             root_id = str(word['id']) \n#         id_word[str(word['id'])] = str(word['id']) + ':' + word['text'] + ':' + word['upos'] + ':' + word['xpos']\n\n# # Create Digraph object\n# sent_tree = graphviz.Digraph('star_chart_' + search_term.replace(' ', '_'))\n\n# # Add just the nodes from first traversal of dict\n# for k, v in id_word.items(): \n#     # Add nodes\n#     # https://graphviz.org/doc/info/shapes.html\n#     if k == root_id:\n#         sent_tree.node(k, v, shape='star')    \n#     else:\n#         sent_tree.node(k, v, shape='egg')\n\n\n# # Traverse dict again to add all the relationships\n# for word in sent_dict:\n#     if (word['upos'] != 'PUNCT') & (str(word['head']) != '0'):        \n#         sent_tree.edge(str(word['id']), str(word['head']), label=word['deprel'])\n\n# sent_tree.format = 'png'\n# sent_tree.render(directory='streamlit/images').replace('\\\\', '/')\n\n# # Visualize the graph\n# sent_tree.unflatten(stagger=2)\n\n",
   "execution_count": 12,
   "outputs": [
    {
     "output_type": "execute_result",
     "execution_count": 12,
     "data": {
      "image/svg+xml": "<?xml version=\"1.0\" encoding=\"UTF-8\" standalone=\"no\"?>\n<!DOCTYPE svg PUBLIC \"-//W3C//DTD SVG 1.1//EN\"\n \"http://www.w3.org/Graphics/SVG/1.1/DTD/svg11.dtd\">\n<!-- Generated by graphviz version 2.40.1 (20161225.0304)\n -->\n<!-- Title: star_chart_Squid_Game Pages: 1 -->\n<svg width=\"2337pt\" height=\"927pt\"\n viewBox=\"0.00 0.00 2336.88 926.83\" xmlns=\"http://www.w3.org/2000/svg\" xmlns:xlink=\"http://www.w3.org/1999/xlink\">\n<g id=\"graph0\" class=\"graph\" transform=\"scale(1 1) rotate(0) translate(4 922.8332)\">\n<title>star_chart_Squid_Game</title>\n<polygon fill=\"#ffffff\" stroke=\"transparent\" points=\"-4,4 -4,-922.8332 2332.8778,-922.8332 2332.8778,4 -4,4\"/>\n<!-- 1 -->\n<g id=\"node1\" class=\"node\">\n<title>1</title>\n<polygon fill=\"none\" stroke=\"#000000\" points=\"1510.6555,-548.8826 1517.8746,-548.9811 1525.0191,-549.1286 1532.0597,-549.3246 1538.968,-549.5685 1545.7162,-549.8599 1552.2777,-550.1977 1558.6271,-550.5811 1564.74,-551.0091 1570.594,-551.4804 1576.1678,-551.9939 1581.4421,-552.548 1586.3993,-553.1412 1591.0237,-553.772 1595.3016,-554.4386 1599.2212,-555.1391 1602.7729,-555.8718 1605.9491,-556.6344 1608.7441,-557.425 1611.1544,-558.2414 1613.1784,-559.0814 1614.8166,-559.9426 1616.0712,-560.8226 1616.9462,-561.7192 1617.4475,-562.6298 1617.5823,-563.5519 1617.3597,-564.4829 1616.7897,-565.4205 1615.8838,-566.3619 1614.6545,-567.3046 1613.1154,-568.246 1611.2806,-569.1835 1609.1652,-570.1146 1606.7844,-571.0367 1604.154,-571.9472 1601.29,-572.8438 1598.2084,-573.7239 1594.9252,-574.5851 1591.4561,-575.425 1587.8165,-576.2414 1584.0216,-577.032 1580.0857,-577.7947 1576.0228,-578.5273 1571.8462,-579.2278 1567.5683,-579.8944 1563.2009,-580.5252 1558.7549,-581.1185 1554.2403,-581.6726 1549.6664,-582.186 1545.0417,-582.6573 1540.3738,-583.0853 1535.6695,-583.4687 1530.935,-583.8066 1526.1757,-584.0979 1521.3966,-584.3419 1516.6019,-584.5379 1511.7956,-584.6853 1506.9813,-584.7839 1502.1622,-584.8332 1497.3416,-584.8332 1492.5226,-584.7839 1487.7083,-584.6853 1482.902,-584.5379 1478.1073,-584.3419 1473.3281,-584.0979 1468.5689,-583.8066 1463.8344,-583.4687 1459.1301,-583.0853 1454.4621,-582.6573 1449.8374,-582.186 1445.2636,-581.6726 1440.749,-581.1185 1436.303,-580.5252 1431.9355,-579.8944 1427.6577,-579.2278 1423.481,-578.5273 1419.4182,-577.7947 1415.4823,-577.032 1411.6873,-576.2414 1408.0478,-575.425 1404.5787,-574.5851 1401.2955,-573.7239 1398.2139,-572.8438 1395.3499,-571.9472 1392.7195,-571.0367 1390.3387,-570.1146 1388.2232,-569.1835 1386.3885,-568.246 1384.8493,-567.3046 1383.6201,-566.3619 1382.7142,-565.4205 1382.1442,-564.4829 1381.9215,-563.5519 1382.0564,-562.6298 1382.5577,-561.7192 1383.4327,-560.8226 1384.6873,-559.9426 1386.3254,-559.0814 1388.3495,-558.2414 1390.7598,-557.425 1393.5548,-556.6344 1396.7309,-555.8718 1400.2827,-555.1391 1404.2023,-554.4386 1408.4802,-553.772 1413.1046,-553.1412 1418.0618,-552.548 1423.3361,-551.9939 1428.9099,-551.4804 1434.7638,-551.0091 1440.8768,-550.5811 1447.2262,-550.1977 1453.7877,-549.8599 1460.5359,-549.5685 1467.4442,-549.3246 1474.4848,-549.1286 1481.6292,-548.9811 1488.8483,-548.8826 1496.1124,-548.8332 1503.3915,-548.8332 1510.6555,-548.8826\"/>\n<text text-anchor=\"middle\" x=\"1499.7519\" y=\"-563.1332\" font-family=\"Times,serif\" font-size=\"14.00\" fill=\"#000000\">1:Squid:PROPN:NNP</text>\n</g>\n<!-- 2 -->\n<g id=\"node2\" class=\"node\">\n<title>2</title>\n<polygon fill=\"none\" stroke=\"#000000\" points=\"1587.6555,-461.8826 1594.8746,-461.9811 1602.0191,-462.1286 1609.0597,-462.3246 1615.968,-462.5685 1622.7162,-462.8599 1629.2777,-463.1977 1635.6271,-463.5811 1641.74,-464.0091 1647.594,-464.4804 1653.1678,-464.9939 1658.4421,-465.548 1663.3993,-466.1412 1668.0237,-466.772 1672.3016,-467.4386 1676.2212,-468.1391 1679.7729,-468.8718 1682.9491,-469.6344 1685.7441,-470.425 1688.1544,-471.2414 1690.1784,-472.0814 1691.8166,-472.9426 1693.0712,-473.8226 1693.9462,-474.7192 1694.4475,-475.6298 1694.5823,-476.5519 1694.3597,-477.4829 1693.7897,-478.4205 1692.8838,-479.3619 1691.6545,-480.3046 1690.1154,-481.246 1688.2806,-482.1835 1686.1652,-483.1146 1683.7844,-484.0367 1681.154,-484.9472 1678.29,-485.8438 1675.2084,-486.7239 1671.9252,-487.5851 1668.4561,-488.425 1664.8165,-489.2414 1661.0216,-490.032 1657.0857,-490.7947 1653.0228,-491.5273 1648.8462,-492.2278 1644.5683,-492.8944 1640.2009,-493.5252 1635.7549,-494.1185 1631.2403,-494.6726 1626.6664,-495.186 1622.0417,-495.6573 1617.3738,-496.0853 1612.6695,-496.4687 1607.935,-496.8066 1603.1757,-497.0979 1598.3966,-497.3419 1593.6019,-497.5379 1588.7956,-497.6853 1583.9813,-497.7839 1579.1622,-497.8332 1574.3416,-497.8332 1569.5226,-497.7839 1564.7083,-497.6853 1559.902,-497.5379 1555.1073,-497.3419 1550.3281,-497.0979 1545.5689,-496.8066 1540.8344,-496.4687 1536.1301,-496.0853 1531.4621,-495.6573 1526.8374,-495.186 1522.2636,-494.6726 1517.749,-494.1185 1513.303,-493.5252 1508.9355,-492.8944 1504.6577,-492.2278 1500.481,-491.5273 1496.4182,-490.7947 1492.4823,-490.032 1488.6873,-489.2414 1485.0478,-488.425 1481.5787,-487.5851 1478.2955,-486.7239 1475.2139,-485.8438 1472.3499,-484.9472 1469.7195,-484.0367 1467.3387,-483.1146 1465.2232,-482.1835 1463.3885,-481.246 1461.8493,-480.3046 1460.6201,-479.3619 1459.7142,-478.4205 1459.1442,-477.4829 1458.9215,-476.5519 1459.0564,-475.6298 1459.5577,-474.7192 1460.4327,-473.8226 1461.6873,-472.9426 1463.3254,-472.0814 1465.3495,-471.2414 1467.7598,-470.425 1470.5548,-469.6344 1473.7309,-468.8718 1477.2827,-468.1391 1481.2023,-467.4386 1485.4802,-466.772 1490.1046,-466.1412 1495.0618,-465.548 1500.3361,-464.9939 1505.9099,-464.4804 1511.7638,-464.0091 1517.8768,-463.5811 1524.2262,-463.1977 1530.7877,-462.8599 1537.5359,-462.5685 1544.4442,-462.3246 1551.4848,-462.1286 1558.6292,-461.9811 1565.8483,-461.8826 1573.1124,-461.8332 1580.3915,-461.8332 1587.6555,-461.8826\"/>\n<text text-anchor=\"middle\" x=\"1576.7519\" y=\"-476.1332\" font-family=\"Times,serif\" font-size=\"14.00\" fill=\"#000000\">2:Game:PROPN:NNP</text>\n</g>\n<!-- 1&#45;&gt;2 -->\n<g id=\"edge1\" class=\"edge\">\n<title>1&#45;&gt;2</title>\n<path fill=\"none\" stroke=\"#000000\" d=\"M1515.7064,-548.8068C1526.7534,-536.3251 1541.6241,-519.5231 1553.9224,-505.6276\"/>\n<polygon fill=\"#000000\" stroke=\"#000000\" points=\"1556.8112,-507.6446 1560.8179,-497.8366 1551.5694,-503.0053 1556.8112,-507.6446\"/>\n<text text-anchor=\"middle\" x=\"1581.2519\" y=\"-519.6332\" font-family=\"Times,serif\" font-size=\"14.00\" fill=\"#000000\">compound</text>\n</g>\n<!-- 22 -->\n<g id=\"node3\" class=\"node\">\n<title>22</title>\n<polygon fill=\"none\" stroke=\"#000000\" points=\"873.7275,-253.8892 708.7369,-253.8892 657.7519,-410.7499 606.767,-253.8892 441.7763,-253.8892 575.2566,-156.944 524.2717,-.0834 657.7519,-97.0286 791.2322,-.0834 740.2473,-156.944 873.7275,-253.8892\"/>\n<text text-anchor=\"middle\" x=\"657.7519\" y=\"-201.7166\" font-family=\"Times,serif\" font-size=\"14.00\" fill=\"#000000\">22:series:NOUN:NN</text>\n</g>\n<!-- 2&#45;&gt;22 -->\n<g id=\"edge2\" class=\"edge\">\n<title>2&#45;&gt;22</title>\n<path fill=\"none\" stroke=\"#000000\" d=\"M1521.334,-463.2852C1387.2808,-423.2565 1041.0089,-319.8585 829.9033,-256.8216\"/>\n<polygon fill=\"#000000\" stroke=\"#000000\" points=\"830.8501,-253.4517 820.2667,-253.9441 828.8472,-260.159 830.8501,-253.4517\"/>\n<text text-anchor=\"middle\" x=\"1463.7519\" y=\"-432.6332\" font-family=\"Times,serif\" font-size=\"14.00\" fill=\"#000000\">nsubj</text>\n</g>\n<!-- 4 -->\n<g id=\"node4\" class=\"node\">\n<title>4</title>\n<polygon fill=\"none\" stroke=\"#000000\" points=\"1665.2069,-635.8826 1672.7911,-635.9811 1680.2968,-636.1286 1687.6935,-636.3246 1694.9511,-636.5685 1702.0405,-636.8599 1708.9339,-637.1977 1715.6043,-637.5811 1722.0264,-638.0091 1728.1764,-638.4804 1734.032,-638.9939 1739.573,-639.548 1744.7809,-640.1412 1749.6392,-640.772 1754.1334,-641.4386 1758.2512,-642.1391 1761.9826,-642.8718 1765.3193,-643.6344 1768.2557,-644.425 1770.7879,-645.2414 1772.9143,-646.0814 1774.6353,-646.9426 1775.9533,-647.8226 1776.8726,-648.7192 1777.3992,-649.6298 1777.5409,-650.5519 1777.3069,-651.4829 1776.7081,-652.4205 1775.7564,-653.3619 1774.465,-654.3046 1772.848,-655.246 1770.9205,-656.1835 1768.698,-657.1146 1766.1968,-658.0367 1763.4334,-658.9472 1760.4246,-659.8438 1757.1872,-660.7239 1753.738,-661.5851 1750.0934,-662.425 1746.2699,-663.2414 1742.283,-664.032 1738.1481,-664.7947 1733.8798,-665.5273 1729.4919,-666.2278 1724.9977,-666.8944 1720.4094,-667.5252 1715.7386,-668.1185 1710.9957,-668.6726 1706.1905,-669.186 1701.332,-669.6573 1696.428,-670.0853 1691.4858,-670.4687 1686.5119,-670.8066 1681.5119,-671.0979 1676.4911,-671.3419 1671.454,-671.5379 1666.4046,-671.6853 1661.3469,-671.7839 1656.2841,-671.8332 1651.2197,-671.8332 1646.157,-671.7839 1641.0992,-671.6853 1636.0499,-671.5379 1631.0128,-671.3419 1625.9919,-671.0979 1620.992,-670.8066 1616.0181,-670.4687 1611.0759,-670.0853 1606.1719,-669.6573 1601.3133,-669.186 1596.5082,-668.6726 1591.7653,-668.1185 1587.0944,-667.5252 1582.5062,-666.8944 1578.0119,-666.2278 1573.6241,-665.5273 1569.3558,-664.7947 1565.2209,-664.032 1561.234,-663.2414 1557.4104,-662.425 1553.7659,-661.5851 1550.3166,-660.7239 1547.0792,-659.8438 1544.0704,-658.9472 1541.307,-658.0367 1538.8058,-657.1146 1536.5834,-656.1835 1534.6558,-655.246 1533.0389,-654.3046 1531.7475,-653.3619 1530.7958,-652.4205 1530.197,-651.4829 1529.963,-650.5519 1530.1047,-649.6298 1530.6313,-648.7192 1531.5506,-647.8226 1532.8686,-646.9426 1534.5896,-646.0814 1536.716,-645.2414 1539.2482,-644.425 1542.1845,-643.6344 1545.5213,-642.8718 1549.2526,-642.1391 1553.3705,-641.4386 1557.8647,-640.772 1562.723,-640.1412 1567.9308,-639.548 1573.4718,-638.9939 1579.3275,-638.4804 1585.4775,-638.0091 1591.8996,-637.5811 1598.57,-637.1977 1605.4633,-636.8599 1612.5528,-636.5685 1619.8104,-636.3246 1627.2071,-636.1286 1634.7128,-635.9811 1642.2969,-635.8826 1649.9283,-635.8332 1657.5755,-635.8332 1665.2069,-635.8826\"/>\n<text text-anchor=\"middle\" x=\"1653.7519\" y=\"-650.1332\" font-family=\"Times,serif\" font-size=\"14.00\" fill=\"#000000\">4:Korean:PROPN:NNP</text>\n</g>\n<!-- 4&#45;&gt;2 -->\n<g id=\"edge3\" class=\"edge\">\n<title>4&#45;&gt;2</title>\n<path fill=\"none\" stroke=\"#000000\" d=\"M1653.4659,-635.3754C1652.2289,-607.4201 1646.637,-553.6058 1622.7519,-515.8332 1619.9776,-511.4458 1616.4737,-507.3737 1612.6428,-503.6661\"/>\n<polygon fill=\"#000000\" stroke=\"#000000\" points=\"1614.8205,-500.9216 1604.9787,-496.9986 1610.226,-506.2028 1614.8205,-500.9216\"/>\n<text text-anchor=\"middle\" x=\"1669.2519\" y=\"-563.1332\" font-family=\"Times,serif\" font-size=\"14.00\" fill=\"#000000\">appos</text>\n</g>\n<!-- 6 -->\n<g id=\"node5\" class=\"node\">\n<title>6</title>\n<polygon fill=\"none\" stroke=\"#000000\" points=\"1915.6911,-548.8826 1922.9337,-548.9811 1930.1015,-549.1286 1937.1651,-549.3246 1944.0958,-549.5685 1950.8661,-549.8599 1957.449,-550.1977 1963.819,-550.5811 1969.952,-551.0091 1975.825,-551.4804 1981.417,-551.9939 1986.7085,-552.548 1991.6818,-553.1412 1996.3213,-553.772 2000.6131,-554.4386 2004.5456,-555.1391 2008.1089,-555.8718 2011.2954,-556.6344 2014.0995,-557.425 2016.5177,-558.2414 2018.5483,-559.0814 2020.1918,-559.9426 2021.4505,-560.8226 2022.3284,-561.7192 2022.8313,-562.6298 2022.9666,-563.5519 2022.7432,-564.4829 2022.1713,-565.4205 2021.2625,-566.3619 2020.0292,-567.3046 2018.4851,-568.246 2016.6443,-569.1835 2014.5219,-570.1146 2012.1334,-571.0367 2009.4944,-571.9472 2006.6211,-572.8438 2003.5295,-573.7239 2000.2356,-574.5851 1996.7551,-575.425 1993.1037,-576.2414 1989.2964,-577.032 1985.3477,-577.7947 1981.2716,-578.5273 1977.0813,-579.2278 1972.7895,-579.8944 1968.4078,-580.5252 1963.9473,-581.1185 1959.418,-581.6726 1954.8292,-582.186 1950.1894,-582.6573 1945.5063,-583.0853 1940.7866,-583.4687 1936.0367,-583.8066 1931.2619,-584.0979 1926.4672,-584.3419 1921.6569,-584.5379 1916.8349,-584.6853 1912.0049,-584.7839 1907.1701,-584.8332 1902.3338,-584.8332 1897.499,-584.7839 1892.669,-584.6853 1887.847,-584.5379 1883.0367,-584.3419 1878.242,-584.0979 1873.4672,-583.8066 1868.7172,-583.4687 1863.9976,-583.0853 1859.3145,-582.6573 1854.6747,-582.186 1850.0859,-581.6726 1845.5566,-581.1185 1841.0961,-580.5252 1836.7144,-579.8944 1832.4226,-579.2278 1828.2323,-578.5273 1824.1562,-577.7947 1820.2075,-577.032 1816.4002,-576.2414 1812.7487,-575.425 1809.2683,-574.5851 1805.9744,-573.7239 1802.8828,-572.8438 1800.0094,-571.9472 1797.3705,-571.0367 1794.9819,-570.1146 1792.8595,-569.1835 1791.0188,-568.246 1789.4746,-567.3046 1788.2414,-566.3619 1787.3326,-565.4205 1786.7607,-564.4829 1786.5373,-563.5519 1786.6726,-562.6298 1787.1755,-561.7192 1788.0534,-560.8226 1789.312,-559.9426 1790.9556,-559.0814 1792.9862,-558.2414 1795.4044,-557.425 1798.2085,-556.6344 1801.395,-555.8718 1804.9583,-555.1391 1808.8907,-554.4386 1813.1826,-553.772 1817.8221,-553.1412 1822.7954,-552.548 1828.0869,-551.9939 1833.6789,-551.4804 1839.5519,-551.0091 1845.6848,-550.5811 1852.0549,-550.1977 1858.6378,-549.8599 1865.408,-549.5685 1872.3388,-549.3246 1879.4024,-549.1286 1886.5701,-548.9811 1893.8128,-548.8826 1901.1005,-548.8332 1908.4034,-548.8332 1915.6911,-548.8826\"/>\n<text text-anchor=\"middle\" x=\"1904.7519\" y=\"-563.1332\" font-family=\"Times,serif\" font-size=\"14.00\" fill=\"#000000\">6:오징어:PROPN:NNP</text>\n</g>\n<!-- 6&#45;&gt;2 -->\n<g id=\"edge4\" class=\"edge\">\n<title>6&#45;&gt;2</title>\n<path fill=\"none\" stroke=\"#000000\" d=\"M1843.8263,-550.6731C1786.5581,-535.483 1701.09,-512.8131 1642.3478,-497.2321\"/>\n<polygon fill=\"#000000\" stroke=\"#000000\" points=\"1642.995,-493.7828 1632.4318,-494.602 1641.2003,-500.5488 1642.995,-493.7828\"/>\n<text text-anchor=\"middle\" x=\"1782.2519\" y=\"-519.6332\" font-family=\"Times,serif\" font-size=\"14.00\" fill=\"#000000\">appos</text>\n</g>\n<!-- 7 -->\n<g id=\"node6\" class=\"node\">\n<title>7</title>\n<polygon fill=\"none\" stroke=\"#000000\" points=\"1914.8231,-635.8826 1921.4911,-635.9811 1928.0901,-636.1286 1934.5931,-636.3246 1940.974,-636.5685 1947.207,-636.8599 1953.2676,-637.1977 1959.1322,-637.5811 1964.7785,-638.0091 1970.1855,-638.4804 1975.3338,-638.9939 1980.2054,-639.548 1984.7841,-640.1412 1989.0555,-640.772 1993.0068,-641.4386 1996.6272,-642.1391 1999.9078,-642.8718 2002.8414,-643.6344 2005.423,-644.425 2007.6493,-645.2414 2009.5189,-646.0814 2011.032,-646.9426 2012.1907,-647.8226 2012.999,-648.7192 2013.462,-649.6298 2013.5865,-650.5519 2013.3809,-651.4829 2012.8544,-652.4205 2012.0176,-653.3619 2010.8823,-654.3046 2009.4606,-655.246 2007.7659,-656.1835 2005.812,-657.1146 2003.6129,-658.0367 2001.1834,-658.9472 1998.538,-659.8438 1995.6917,-660.7239 1992.6592,-661.5851 1989.4549,-662.425 1986.0932,-663.2414 1982.588,-664.032 1978.9526,-664.7947 1975.1999,-665.5273 1971.3422,-666.2278 1967.3909,-666.8944 1963.3569,-667.5252 1959.2503,-668.1185 1955.0804,-668.6726 1950.8557,-669.186 1946.5841,-669.6573 1942.2725,-670.0853 1937.9274,-670.4687 1933.5543,-670.8066 1929.1584,-671.0979 1924.7441,-671.3419 1920.3155,-671.5379 1915.8761,-671.6853 1911.4294,-671.7839 1906.9782,-671.8332 1902.5256,-671.8332 1898.0745,-671.7839 1893.6277,-671.6853 1889.1884,-671.5379 1884.7598,-671.3419 1880.3455,-671.0979 1875.9496,-670.8066 1871.5765,-670.4687 1867.2314,-670.0853 1862.9198,-669.6573 1858.6482,-669.186 1854.4235,-668.6726 1850.2536,-668.1185 1846.147,-667.5252 1842.113,-666.8944 1838.1617,-666.2278 1834.304,-665.5273 1830.5513,-664.7947 1826.9159,-664.032 1823.4107,-663.2414 1820.049,-662.425 1816.8447,-661.5851 1813.8122,-660.7239 1810.9658,-659.8438 1808.3205,-658.9472 1805.891,-658.0367 1803.6919,-657.1146 1801.7379,-656.1835 1800.0432,-655.246 1798.6216,-654.3046 1797.4862,-653.3619 1796.6495,-652.4205 1796.123,-651.4829 1795.9173,-650.5519 1796.0419,-649.6298 1796.5049,-648.7192 1797.3131,-647.8226 1798.4719,-646.9426 1799.985,-646.0814 1801.8545,-645.2414 1804.0808,-644.425 1806.6624,-643.6344 1809.5961,-642.8718 1812.8767,-642.1391 1816.4971,-641.4386 1820.4484,-640.772 1824.7197,-640.1412 1829.2985,-639.548 1834.1701,-638.9939 1839.3184,-638.4804 1844.7254,-638.0091 1850.3717,-637.5811 1856.2363,-637.1977 1862.2968,-636.8599 1868.5299,-636.5685 1874.9107,-636.3246 1881.4138,-636.1286 1888.0128,-635.9811 1894.6808,-635.8826 1901.3903,-635.8332 1908.1136,-635.8332 1914.8231,-635.8826\"/>\n<text text-anchor=\"middle\" x=\"1904.7519\" y=\"-650.1332\" font-family=\"Times,serif\" font-size=\"14.00\" fill=\"#000000\">7:게임:PROPN:NNP</text>\n</g>\n<!-- 7&#45;&gt;6 -->\n<g id=\"edge5\" class=\"edge\">\n<title>7&#45;&gt;6</title>\n<path fill=\"none\" stroke=\"#000000\" d=\"M1904.7519,-635.8068C1904.7519,-624.025 1904.7519,-608.3939 1904.7519,-594.9913\"/>\n<polygon fill=\"#000000\" stroke=\"#000000\" points=\"1908.252,-594.8365 1904.7519,-584.8366 1901.252,-594.8366 1908.252,-594.8365\"/>\n<text text-anchor=\"middle\" x=\"1917.2519\" y=\"-606.6332\" font-family=\"Times,serif\" font-size=\"14.00\" fill=\"#000000\">flat</text>\n</g>\n<!-- 9 -->\n<g id=\"node7\" class=\"node\">\n<title>9</title>\n<polygon fill=\"none\" stroke=\"#000000\" points=\"2144.3073,-635.8826 2150.6337,-635.9811 2156.8947,-636.1286 2163.0647,-636.3246 2169.1187,-636.5685 2175.0325,-636.8599 2180.7827,-637.1977 2186.3469,-637.5811 2191.704,-638.0091 2196.834,-638.4804 2201.7186,-638.9939 2206.3407,-639.548 2210.6849,-640.1412 2214.7375,-640.772 2218.4864,-641.4386 2221.9214,-642.1391 2225.0339,-642.8718 2227.8173,-643.6344 2230.2667,-644.425 2232.379,-645.2414 2234.1527,-646.0814 2235.5883,-646.9426 2236.6878,-647.8226 2237.4546,-648.7192 2237.8939,-649.6298 2238.0121,-650.5519 2237.8169,-651.4829 2237.3174,-652.4205 2236.5235,-653.3619 2235.4463,-654.3046 2234.0975,-655.246 2232.4896,-656.1835 2230.6357,-657.1146 2228.5493,-658.0367 2226.2442,-658.9472 2223.7344,-659.8438 2221.0338,-660.7239 2218.1566,-661.5851 2215.1165,-662.425 2211.927,-663.2414 2208.6013,-664.032 2205.1521,-664.7947 2201.5916,-665.5273 2197.9314,-666.2278 2194.1825,-666.8944 2190.3552,-667.5252 2186.4589,-668.1185 2182.5026,-668.6726 2178.4943,-669.186 2174.4414,-669.6573 2170.3507,-670.0853 2166.2281,-670.4687 2162.0791,-670.8066 2157.9083,-671.0979 2153.7201,-671.3419 2149.5183,-671.5379 2145.3064,-671.6853 2141.0873,-671.7839 2136.8642,-671.8332 2132.6397,-671.8332 2128.4165,-671.7839 2124.1975,-671.6853 2119.9855,-671.5379 2115.7837,-671.3419 2111.5956,-671.0979 2107.4248,-670.8066 2103.2757,-670.4687 2099.1531,-670.0853 2095.0624,-669.6573 2091.0096,-669.186 2087.0013,-668.6726 2083.045,-668.1185 2079.1487,-667.5252 2075.3213,-666.8944 2071.5724,-666.2278 2067.9123,-665.5273 2064.3518,-664.7947 2060.9026,-664.032 2057.5769,-663.2414 2054.3874,-662.425 2051.3473,-661.5851 2048.47,-660.7239 2045.7695,-659.8438 2043.2597,-658.9472 2040.9546,-658.0367 2038.8682,-657.1146 2037.0143,-656.1835 2035.4064,-655.246 2034.0576,-654.3046 2032.9803,-653.3619 2032.1865,-652.4205 2031.6869,-651.4829 2031.4918,-650.5519 2031.61,-649.6298 2032.0493,-648.7192 2032.8161,-647.8226 2033.9155,-646.9426 2035.3511,-646.0814 2037.1249,-645.2414 2039.2372,-644.425 2041.6865,-643.6344 2044.47,-642.8718 2047.5825,-642.1391 2051.0175,-641.4386 2054.7664,-640.772 2058.8189,-640.1412 2063.1632,-639.548 2067.7852,-638.9939 2072.6698,-638.4804 2077.7999,-638.0091 2083.157,-637.5811 2088.7212,-637.1977 2094.4714,-636.8599 2100.3852,-636.5685 2106.4392,-636.3246 2112.6092,-636.1286 2118.8702,-635.9811 2125.1966,-635.8826 2131.5624,-635.8332 2137.9414,-635.8332 2144.3073,-635.8826\"/>\n<text text-anchor=\"middle\" x=\"2134.7519\" y=\"-650.1332\" font-family=\"Times,serif\" font-size=\"14.00\" fill=\"#000000\">9:RR:PROPN:NNP</text>\n</g>\n<!-- 9&#45;&gt;6 -->\n<g id=\"edge6\" class=\"edge\">\n<title>9&#45;&gt;6</title>\n<path fill=\"none\" stroke=\"#000000\" d=\"M2090.4056,-637.0587C2052.2172,-622.6136 1997.0576,-601.7488 1956.7884,-586.5166\"/>\n<polygon fill=\"#000000\" stroke=\"#000000\" points=\"1957.9985,-583.2323 1947.4069,-582.9679 1955.5219,-589.7796 1957.9985,-583.2323\"/>\n<text text-anchor=\"middle\" x=\"2049.2519\" y=\"-606.6332\" font-family=\"Times,serif\" font-size=\"14.00\" fill=\"#000000\">conj</text>\n</g>\n<!-- 11 -->\n<g id=\"node8\" class=\"node\">\n<title>11</title>\n<polygon fill=\"none\" stroke=\"#000000\" points=\"2146.0077,-722.8826 2153.46,-722.9811 2160.8352,-723.1286 2168.1032,-723.3246 2175.2346,-723.5685 2182.2008,-723.8599 2188.9742,-724.1977 2195.5287,-724.5811 2201.8391,-725.0091 2207.8821,-725.4804 2213.636,-725.9939 2219.0806,-726.548 2224.1979,-727.1412 2228.9717,-727.772 2233.3877,-728.4386 2237.434,-729.1391 2241.1004,-729.8718 2244.3792,-730.6344 2247.2644,-731.425 2249.7526,-732.2414 2251.842,-733.0814 2253.5331,-733.9426 2254.8282,-734.8226 2255.7315,-735.7192 2256.2489,-736.6298 2256.3881,-737.5519 2256.1583,-738.4829 2255.5699,-739.4205 2254.6347,-740.3619 2253.3658,-741.3046 2251.7769,-742.246 2249.8829,-743.1835 2247.6991,-744.1146 2245.2414,-745.0367 2242.5261,-745.9472 2239.5696,-746.8438 2236.3885,-747.7239 2232.9992,-748.5851 2229.4181,-749.425 2225.661,-750.2414 2221.7434,-751.032 2217.6804,-751.7947 2213.4863,-752.5273 2209.1748,-753.2278 2204.7587,-753.8944 2200.2502,-754.5252 2195.6606,-755.1185 2191.0002,-755.6726 2186.2786,-756.186 2181.5046,-756.6573 2176.6859,-757.0853 2171.8296,-757.4687 2166.9422,-757.8066 2162.0292,-758.0979 2157.0957,-758.3419 2152.1461,-758.5379 2147.1846,-758.6853 2142.2148,-758.7839 2137.2401,-758.8332 2132.2638,-758.8332 2127.2891,-758.7839 2122.3193,-758.6853 2117.3577,-758.5379 2112.4082,-758.3419 2107.4747,-758.0979 2102.5617,-757.8066 2097.6742,-757.4687 2092.818,-757.0853 2087.9993,-756.6573 2083.2252,-756.186 2078.5037,-755.6726 2073.8433,-755.1185 2069.2536,-754.5252 2064.7451,-753.8944 2060.3291,-753.2278 2056.0175,-752.5273 2051.8234,-751.7947 2047.7605,-751.032 2043.8429,-750.2414 2040.0858,-749.425 2036.5047,-748.5851 2033.1154,-747.7239 2029.9343,-746.8438 2026.9778,-745.9472 2024.2625,-745.0367 2021.8048,-744.1146 2019.621,-743.1835 2017.7269,-742.246 2016.1381,-741.3046 2014.8691,-740.3619 2013.934,-739.4205 2013.3456,-738.4829 2013.1157,-737.5519 2013.2549,-736.6298 2013.7724,-735.7192 2014.6757,-734.8226 2015.9708,-733.9426 2017.6619,-733.0814 2019.7513,-732.2414 2022.2394,-731.425 2025.1247,-730.6344 2028.4035,-729.8718 2032.0699,-729.1391 2036.1161,-728.4386 2040.5322,-727.772 2045.306,-727.1412 2050.4233,-726.548 2055.8679,-725.9939 2061.6218,-725.4804 2067.6648,-725.0091 2073.9752,-724.5811 2080.5296,-724.1977 2087.3031,-723.8599 2094.2693,-723.5685 2101.4007,-723.3246 2108.6687,-723.1286 2116.0439,-722.9811 2123.4961,-722.8826 2130.9948,-722.8332 2138.509,-722.8332 2146.0077,-722.8826\"/>\n<text text-anchor=\"middle\" x=\"2134.7519\" y=\"-737.1332\" font-family=\"Times,serif\" font-size=\"14.00\" fill=\"#000000\">11:Ojing:PROPN:NNP</text>\n</g>\n<!-- 11&#45;&gt;9 -->\n<g id=\"edge7\" class=\"edge\">\n<title>11&#45;&gt;9</title>\n<path fill=\"none\" stroke=\"#000000\" d=\"M2134.7519,-722.8068C2134.7519,-711.025 2134.7519,-695.3939 2134.7519,-681.9913\"/>\n<polygon fill=\"#000000\" stroke=\"#000000\" points=\"2138.252,-681.8365 2134.7519,-671.8366 2131.252,-681.8366 2138.252,-681.8365\"/>\n<text text-anchor=\"middle\" x=\"2168.2519\" y=\"-693.6332\" font-family=\"Times,serif\" font-size=\"14.00\" fill=\"#000000\">parataxis</text>\n</g>\n<!-- 12 -->\n<g id=\"node9\" class=\"node\">\n<title>12</title>\n<polygon fill=\"none\" stroke=\"#000000\" points=\"2072.8587,-809.8826 2079.5501,-809.9811 2086.1724,-810.1286 2092.6985,-810.3246 2099.1019,-810.5685 2105.3569,-810.8599 2111.4389,-811.1977 2117.3242,-811.5811 2122.9904,-812.0091 2128.4165,-812.4804 2133.583,-812.9939 2138.4718,-813.548 2143.0667,-814.1412 2147.3531,-814.772 2151.3184,-815.4386 2154.9515,-816.1391 2158.2437,-816.8718 2161.1877,-817.6344 2163.7784,-818.425 2166.0126,-819.2414 2167.8887,-820.0814 2169.4072,-820.9426 2170.57,-821.8226 2171.3811,-822.7192 2171.8457,-823.6298 2171.9707,-824.5519 2171.7643,-825.4829 2171.236,-826.4205 2170.3963,-827.3619 2169.2569,-828.3046 2167.8303,-829.246 2166.1296,-830.1835 2164.1687,-831.1146 2161.9619,-832.0367 2159.5238,-832.9472 2156.8691,-833.8438 2154.0128,-834.7239 2150.9695,-835.5851 2147.7539,-836.425 2144.3804,-837.2414 2140.8628,-838.032 2137.2146,-838.7947 2133.4486,-839.5273 2129.5772,-840.2278 2125.612,-840.8944 2121.5638,-841.5252 2117.4427,-842.1185 2113.258,-842.6726 2109.0185,-843.186 2104.7317,-843.6573 2100.405,-844.0853 2096.0445,-844.4687 2091.656,-844.8066 2087.2446,-845.0979 2082.8147,-845.3419 2078.3704,-845.5379 2073.9154,-845.6853 2069.4529,-845.7839 2064.9861,-845.8332 2060.5178,-845.8332 2056.0509,-845.7839 2051.5885,-845.6853 2047.1334,-845.5379 2042.6892,-845.3419 2038.2593,-845.0979 2033.8479,-844.8066 2029.4594,-844.4687 2025.0989,-844.0853 2020.7721,-843.6573 2016.4854,-843.186 2012.2458,-842.6726 2008.0612,-842.1185 2003.9401,-841.5252 1999.8919,-840.8944 1995.9266,-840.2278 1992.0553,-839.5273 1988.2893,-838.7947 1984.6411,-838.032 1981.1235,-837.2414 1977.7499,-836.425 1974.5344,-835.5851 1971.4911,-834.7239 1968.6347,-833.8438 1965.9801,-832.9472 1963.5419,-832.0367 1961.3351,-831.1146 1959.3743,-830.1835 1957.6736,-829.246 1956.247,-828.3046 1955.1075,-827.3619 1954.2679,-826.4205 1953.7395,-825.4829 1953.5331,-824.5519 1953.6581,-823.6298 1954.1228,-822.7192 1954.9338,-821.8226 1956.0967,-820.9426 1957.6152,-820.0814 1959.4913,-819.2414 1961.7254,-818.425 1964.3162,-817.6344 1967.2602,-816.8718 1970.5523,-816.1391 1974.1855,-815.4386 1978.1508,-814.772 1982.4372,-814.1412 1987.0321,-813.548 1991.9209,-812.9939 1997.0874,-812.4804 2002.5135,-812.0091 2008.1797,-811.5811 2014.065,-811.1977 2020.147,-810.8599 2026.402,-810.5685 2032.8054,-810.3246 2039.3314,-810.1286 2045.9537,-809.9811 2052.6452,-809.8826 2059.3784,-809.8332 2066.1255,-809.8332 2072.8587,-809.8826\"/>\n<text text-anchor=\"middle\" x=\"2062.7519\" y=\"-824.1332\" font-family=\"Times,serif\" font-size=\"14.00\" fill=\"#000000\">12:&#45;eo:PROPN:NNP</text>\n</g>\n<!-- 12&#45;&gt;11 -->\n<g id=\"edge8\" class=\"edge\">\n<title>12&#45;&gt;11</title>\n<path fill=\"none\" stroke=\"#000000\" d=\"M2077.6704,-809.8068C2088,-797.3251 2101.9051,-780.5231 2113.4049,-766.6276\"/>\n<polygon fill=\"#000000\" stroke=\"#000000\" points=\"2116.1733,-768.772 2119.8526,-758.8366 2110.7805,-764.309 2116.1733,-768.772\"/>\n<text text-anchor=\"middle\" x=\"2115.2519\" y=\"-780.6332\" font-family=\"Times,serif\" font-size=\"14.00\" fill=\"#000000\">flat</text>\n</g>\n<!-- 13 -->\n<g id=\"node10\" class=\"node\">\n<title>13</title>\n<polygon fill=\"none\" stroke=\"#000000\" points=\"2218.9722,-882.8826 2226.4009,-882.9811 2233.7528,-883.1286 2240.9978,-883.3246 2248.1067,-883.5685 2255.0508,-883.8599 2261.8029,-884.1977 2268.3366,-884.5811 2274.6271,-885.0091 2280.651,-885.4804 2286.3866,-885.9939 2291.8141,-886.548 2296.9152,-887.1412 2301.6739,-887.772 2306.076,-888.4386 2310.1094,-889.1391 2313.7643,-889.8718 2317.0327,-890.6344 2319.9088,-891.425 2322.3891,-892.2414 2324.4719,-893.0814 2326.1577,-893.9426 2327.4487,-894.8226 2328.3491,-895.7192 2328.8649,-896.6298 2329.0037,-897.5519 2328.7746,-898.4829 2328.188,-899.4205 2327.2558,-900.3619 2325.9909,-901.3046 2324.4071,-902.246 2322.519,-903.1835 2320.3421,-904.1146 2317.8922,-905.0367 2315.1854,-905.9472 2312.2383,-906.8438 2309.0672,-907.7239 2305.6887,-908.5851 2302.1189,-909.425 2298.3736,-910.2414 2294.4685,-911.032 2290.4183,-911.7947 2286.2375,-912.5273 2281.9396,-913.2278 2277.5375,-913.8944 2273.0432,-914.5252 2268.4681,-915.1185 2263.8224,-915.6726 2259.1158,-916.186 2254.3568,-916.6573 2249.5533,-917.0853 2244.7124,-917.4687 2239.8404,-917.8066 2234.943,-918.0979 2230.0251,-918.3419 2225.0912,-918.5379 2220.1453,-918.6853 2215.1912,-918.7839 2210.2322,-918.8332 2205.2716,-918.8332 2200.3127,-918.7839 2195.3585,-918.6853 2190.4127,-918.5379 2185.4788,-918.3419 2180.5609,-918.0979 2175.6634,-917.8066 2170.7914,-917.4687 2165.9505,-917.0853 2161.1471,-916.6573 2156.3881,-916.186 2151.6814,-915.6726 2147.0358,-915.1185 2142.4606,-914.5252 2137.9664,-913.8944 2133.5643,-913.2278 2129.2664,-912.5273 2125.0855,-911.7947 2121.0354,-911.032 2117.1302,-910.2414 2113.385,-909.425 2109.8152,-908.5851 2106.4366,-907.7239 2103.2656,-906.8438 2100.3184,-905.9472 2097.6117,-905.0367 2095.1617,-904.1146 2092.9848,-903.1835 2091.0968,-902.246 2089.513,-901.3046 2088.248,-900.3619 2087.3159,-899.4205 2086.7293,-898.4829 2086.5002,-897.5519 2086.6389,-896.6298 2087.1548,-895.7192 2088.0552,-894.8226 2089.3462,-893.9426 2091.0319,-893.0814 2093.1147,-892.2414 2095.595,-891.425 2098.4712,-890.6344 2101.7396,-889.8718 2105.3944,-889.1391 2109.4279,-888.4386 2113.83,-887.772 2118.5887,-887.1412 2123.6898,-886.548 2129.1172,-885.9939 2134.8529,-885.4804 2140.8768,-885.0091 2147.1673,-884.5811 2153.701,-884.1977 2160.453,-883.8599 2167.3972,-883.5685 2174.5061,-883.3246 2181.7511,-883.1286 2189.103,-882.9811 2196.5317,-882.8826 2204.0067,-882.8332 2211.4972,-882.8332 2218.9722,-882.8826\"/>\n<text text-anchor=\"middle\" x=\"2207.7519\" y=\"-897.1332\" font-family=\"Times,serif\" font-size=\"14.00\" fill=\"#000000\">13:Geim:PROPN:NNP</text>\n</g>\n<!-- 13&#45;&gt;11 -->\n<g id=\"edge9\" class=\"edge\">\n<title>13&#45;&gt;11</title>\n<path fill=\"none\" stroke=\"#000000\" d=\"M2204.0863,-882.8136C2199.8831,-864.0271 2192.0799,-834.0072 2180.7519,-809.8332 2173.7036,-794.792 2163.6651,-779.2935 2154.7633,-766.8049\"/>\n<polygon fill=\"#000000\" stroke=\"#000000\" points=\"2157.5564,-764.695 2148.8328,-758.6825 2151.9029,-768.8228 2157.5564,-764.695\"/>\n<text text-anchor=\"middle\" x=\"2206.2519\" y=\"-824.1332\" font-family=\"Times,serif\" font-size=\"14.00\" fill=\"#000000\">flat</text>\n</g>\n<!-- 15 -->\n<g id=\"node11\" class=\"node\">\n<title>15</title>\n<polygon fill=\"none\" stroke=\"#000000\" points=\"275.678,-461.8826 280.9256,-461.9811 286.1191,-462.1286 291.237,-462.3246 296.2587,-462.5685 301.1641,-462.8599 305.9338,-463.1977 310.5493,-463.5811 314.9929,-464.0091 319.2482,-464.4804 323.2999,-464.9939 327.1339,-465.548 330.7374,-466.1412 334.0989,-466.772 337.2086,-467.4386 340.0579,-468.1391 342.6397,-468.8718 344.9485,-469.6344 346.9802,-470.425 348.7323,-471.2414 350.2036,-472.0814 351.3944,-472.9426 352.3064,-473.8226 352.9425,-474.7192 353.3068,-475.6298 353.4049,-476.5519 353.243,-477.4829 352.8287,-478.4205 352.1702,-479.3619 351.2766,-480.3046 350.1578,-481.246 348.8241,-482.1835 347.2863,-483.1146 345.5556,-484.0367 343.6436,-484.9472 341.5617,-485.8438 339.3216,-486.7239 336.935,-487.5851 334.4133,-488.425 331.7676,-489.2414 329.009,-490.032 326.1479,-490.7947 323.1946,-491.5273 320.1585,-492.2278 317.0488,-492.8944 313.8741,-493.5252 310.6422,-494.1185 307.3605,-494.6726 304.0356,-495.186 300.6739,-495.6573 297.2807,-496.0853 293.861,-496.4687 290.4194,-496.8066 286.9598,-497.0979 283.4858,-497.3419 280.0005,-497.5379 276.5067,-497.6853 273.0071,-497.7839 269.504,-497.8332 265.9998,-497.8332 262.4968,-497.7839 258.9972,-497.6853 255.5034,-497.5379 252.0181,-497.3419 248.544,-497.0979 245.0844,-496.8066 241.6428,-496.4687 238.2232,-496.0853 234.83,-495.6573 231.4682,-495.186 228.1434,-494.6726 224.8617,-494.1185 221.6298,-493.5252 218.455,-492.8944 215.3454,-492.2278 212.3093,-491.5273 209.3559,-490.7947 206.4949,-490.032 203.7363,-489.2414 201.0906,-488.425 198.5689,-487.5851 196.1822,-486.7239 193.9422,-485.8438 191.8603,-484.9472 189.9482,-484.0367 188.2176,-483.1146 186.6798,-482.1835 185.3461,-481.246 184.2273,-480.3046 183.3337,-479.3619 182.6752,-478.4205 182.2609,-477.4829 182.099,-476.5519 182.197,-475.6298 182.5614,-474.7192 183.1975,-473.8226 184.1094,-472.9426 185.3003,-472.0814 186.7716,-471.2414 188.5237,-470.425 190.5554,-469.6344 192.8642,-468.8718 195.446,-468.1391 198.2953,-467.4386 201.4049,-466.772 204.7665,-466.1412 208.37,-465.548 212.2039,-464.9939 216.2556,-464.4804 220.511,-464.0091 224.9546,-463.5811 229.57,-463.1977 234.3397,-462.8599 239.2451,-462.5685 244.2669,-462.3246 249.3848,-462.1286 254.5782,-461.9811 259.8259,-461.8826 265.1063,-461.8332 270.3976,-461.8332 275.678,-461.8826\"/>\n<text text-anchor=\"middle\" x=\"267.7519\" y=\"-476.1332\" font-family=\"Times,serif\" font-size=\"14.00\" fill=\"#000000\">15:is:AUX:VBZ</text>\n</g>\n<!-- 15&#45;&gt;22 -->\n<g id=\"edge10\" class=\"edge\">\n<title>15&#45;&gt;22</title>\n<path fill=\"none\" stroke=\"#000000\" d=\"M292.7415,-462.2498C349.7204,-422.1576 491.2051,-322.6043 580.3511,-259.8784\"/>\n<polygon fill=\"#000000\" stroke=\"#000000\" points=\"582.3786,-262.7313 588.5429,-254.1143 578.3504,-257.0065 582.3786,-262.7313\"/>\n<text text-anchor=\"middle\" x=\"346.7519\" y=\"-432.6332\" font-family=\"Times,serif\" font-size=\"14.00\" fill=\"#000000\">cop</text>\n</g>\n<!-- 16 -->\n<g id=\"node12\" class=\"node\">\n<title>16</title>\n<polygon fill=\"none\" stroke=\"#000000\" points=\"81.6463,-548.8826 86.211,-548.9811 90.7285,-549.1286 95.1803,-549.3246 99.5484,-549.5685 103.8153,-549.8599 107.9642,-550.1977 111.9789,-550.5811 115.8442,-551.0091 119.5457,-551.4804 123.07,-551.9939 126.405,-552.548 129.5394,-553.1412 132.4635,-553.772 135.1684,-554.4386 137.6468,-555.1391 139.8926,-555.8718 141.9009,-556.6344 143.6682,-557.425 145.1922,-558.2414 146.472,-559.0814 147.5079,-559.9426 148.3011,-560.8226 148.8544,-561.7192 149.1714,-562.6298 149.2566,-563.5519 149.1158,-564.4829 148.7554,-565.4205 148.1826,-566.3619 147.4054,-567.3046 146.4322,-568.246 145.272,-569.1835 143.9344,-570.1146 142.429,-571.0367 140.7658,-571.9472 138.9549,-572.8438 137.0064,-573.7239 134.9304,-574.5851 132.7369,-575.425 130.4356,-576.2414 128.036,-577.032 125.5473,-577.7947 122.9784,-578.5273 120.3375,-579.2278 117.6325,-579.8944 114.871,-580.5252 112.0598,-581.1185 109.2052,-581.6726 106.3131,-582.186 103.3889,-582.6573 100.4373,-583.0853 97.4628,-583.4687 94.4691,-583.8066 91.4598,-584.0979 88.4379,-584.3419 85.4062,-584.5379 82.3672,-584.6853 79.3231,-584.7839 76.276,-584.8332 73.2279,-584.8332 70.1808,-584.7839 67.1367,-584.6853 64.0976,-584.5379 61.0659,-584.3419 58.0441,-584.0979 55.0347,-583.8066 52.0411,-583.4687 49.0665,-583.0853 46.115,-582.6573 43.1908,-582.186 40.2987,-581.6726 37.4441,-581.1185 34.6329,-580.5252 31.8713,-579.8944 29.1664,-579.2278 26.5255,-578.5273 23.9565,-577.7947 21.4679,-577.032 19.0683,-576.2414 16.767,-575.425 14.5735,-574.5851 12.4975,-573.7239 10.549,-572.8438 8.7381,-571.9472 7.0749,-571.0367 5.5695,-570.1146 4.2318,-569.1835 3.0717,-568.246 2.0985,-567.3046 1.3212,-566.3619 .7485,-565.4205 .388,-564.4829 .2472,-563.5519 .3325,-562.6298 .6495,-561.7192 1.2028,-560.8226 1.996,-559.9426 3.0318,-559.0814 4.3117,-558.2414 5.8357,-557.425 7.603,-556.6344 9.6113,-555.8718 11.8571,-555.1391 14.3355,-554.4386 17.0404,-553.772 19.9644,-553.1412 23.0989,-552.548 26.4338,-551.9939 29.9582,-551.4804 33.6597,-551.0091 37.5249,-550.5811 41.5397,-550.1977 45.6885,-549.8599 49.9555,-549.5685 54.3236,-549.3246 58.7754,-549.1286 63.2929,-548.9811 67.8575,-548.8826 72.4506,-548.8332 77.0532,-548.8332 81.6463,-548.8826\"/>\n<text text-anchor=\"middle\" x=\"74.7519\" y=\"-563.1332\" font-family=\"Times,serif\" font-size=\"14.00\" fill=\"#000000\">16:a:DET:DT</text>\n</g>\n<!-- 16&#45;&gt;22 -->\n<g id=\"edge11\" class=\"edge\">\n<title>16&#45;&gt;22</title>\n<path fill=\"none\" stroke=\"#000000\" d=\"M83.8313,-548.8252C96.014,-526.1255 119.5377,-487.0336 148.7519,-461.8332 255.4981,-369.7531 401.0809,-300.7445 509.2102,-257.6473\"/>\n<polygon fill=\"#000000\" stroke=\"#000000\" points=\"510.5564,-260.8787 518.5673,-253.9451 507.981,-254.3696 510.5564,-260.8787\"/>\n<text text-anchor=\"middle\" x=\"160.7519\" y=\"-476.1332\" font-family=\"Times,serif\" font-size=\"14.00\" fill=\"#000000\">det</text>\n</g>\n<!-- 17 -->\n<g id=\"node13\" class=\"node\">\n<title>17</title>\n<polygon fill=\"none\" stroke=\"#000000\" points=\"303.2069,-548.8826 310.7911,-548.9811 318.2968,-549.1286 325.6935,-549.3246 332.9511,-549.5685 340.0405,-549.8599 346.9339,-550.1977 353.6043,-550.5811 360.0264,-551.0091 366.1764,-551.4804 372.032,-551.9939 377.573,-552.548 382.7809,-553.1412 387.6392,-553.772 392.1334,-554.4386 396.2512,-555.1391 399.9826,-555.8718 403.3193,-556.6344 406.2557,-557.425 408.7879,-558.2414 410.9143,-559.0814 412.6353,-559.9426 413.9533,-560.8226 414.8726,-561.7192 415.3992,-562.6298 415.5409,-563.5519 415.3069,-564.4829 414.7081,-565.4205 413.7564,-566.3619 412.465,-567.3046 410.848,-568.246 408.9205,-569.1835 406.698,-570.1146 404.1968,-571.0367 401.4334,-571.9472 398.4246,-572.8438 395.1872,-573.7239 391.738,-574.5851 388.0934,-575.425 384.2699,-576.2414 380.283,-577.032 376.1481,-577.7947 371.8798,-578.5273 367.4919,-579.2278 362.9977,-579.8944 358.4094,-580.5252 353.7386,-581.1185 348.9957,-581.6726 344.1905,-582.186 339.332,-582.6573 334.428,-583.0853 329.4858,-583.4687 324.5119,-583.8066 319.5119,-584.0979 314.4911,-584.3419 309.454,-584.5379 304.4046,-584.6853 299.3469,-584.7839 294.2841,-584.8332 289.2197,-584.8332 284.157,-584.7839 279.0992,-584.6853 274.0499,-584.5379 269.0128,-584.3419 263.9919,-584.0979 258.992,-583.8066 254.0181,-583.4687 249.0759,-583.0853 244.1719,-582.6573 239.3133,-582.186 234.5082,-581.6726 229.7653,-581.1185 225.0944,-580.5252 220.5062,-579.8944 216.0119,-579.2278 211.6241,-578.5273 207.3558,-577.7947 203.2209,-577.032 199.234,-576.2414 195.4104,-575.425 191.7659,-574.5851 188.3166,-573.7239 185.0792,-572.8438 182.0704,-571.9472 179.307,-571.0367 176.8058,-570.1146 174.5834,-569.1835 172.6558,-568.246 171.0389,-567.3046 169.7475,-566.3619 168.7958,-565.4205 168.197,-564.4829 167.963,-563.5519 168.1047,-562.6298 168.6313,-561.7192 169.5506,-560.8226 170.8686,-559.9426 172.5896,-559.0814 174.716,-558.2414 177.2482,-557.425 180.1845,-556.6344 183.5213,-555.8718 187.2526,-555.1391 191.3705,-554.4386 195.8647,-553.772 200.723,-553.1412 205.9308,-552.548 211.4718,-551.9939 217.3275,-551.4804 223.4775,-551.0091 229.8996,-550.5811 236.57,-550.1977 243.4633,-549.8599 250.5528,-549.5685 257.8104,-549.3246 265.2071,-549.1286 272.7128,-548.9811 280.2969,-548.8826 287.9283,-548.8332 295.5755,-548.8332 303.2069,-548.8826\"/>\n<text text-anchor=\"middle\" x=\"291.7519\" y=\"-563.1332\" font-family=\"Times,serif\" font-size=\"14.00\" fill=\"#000000\">17:South:PROPN:NNP</text>\n</g>\n<!-- 20 -->\n<g id=\"node14\" class=\"node\">\n<title>20</title>\n<polygon fill=\"none\" stroke=\"#000000\" points=\"498.4919,-461.8826 505.6027,-461.9811 512.6399,-462.1286 519.5748,-462.3246 526.3794,-462.5685 533.0264,-462.8599 539.4894,-463.1977 545.7434,-463.5811 551.7647,-464.0091 557.5308,-464.4804 563.0209,-464.9939 568.2161,-465.548 573.0989,-466.1412 577.6539,-466.772 581.8675,-467.4386 585.7284,-468.1391 589.2268,-468.8718 592.3553,-469.6344 595.1083,-470.425 597.4825,-471.2414 599.4761,-472.0814 601.0897,-472.9426 602.3255,-473.8226 603.1873,-474.7192 603.6811,-475.6298 603.8139,-476.5519 603.5946,-477.4829 603.0332,-478.4205 602.1409,-479.3619 600.9301,-480.3046 599.414,-481.246 597.6068,-482.1835 595.5231,-483.1146 593.178,-484.0367 590.5871,-484.9472 587.7661,-485.8438 584.7308,-486.7239 581.4968,-487.5851 578.0798,-488.425 574.4949,-489.2414 570.7569,-490.032 566.8801,-490.7947 562.8782,-491.5273 558.7642,-492.2278 554.5505,-492.8944 550.2487,-493.5252 545.8693,-494.1185 541.4225,-494.6726 536.9173,-495.186 532.362,-495.6573 527.7642,-496.0853 523.1305,-496.4687 518.467,-496.8066 513.7792,-497.0979 509.0717,-497.3419 504.349,-497.5379 499.6149,-497.6853 494.8728,-497.7839 490.1261,-497.8332 485.3778,-497.8332 480.6311,-497.7839 475.889,-497.6853 471.1549,-497.5379 466.4321,-497.3419 461.7247,-497.0979 457.0369,-496.8066 452.3734,-496.4687 447.7397,-496.0853 443.1419,-495.6573 438.5866,-495.186 434.0813,-494.6726 429.6345,-494.1185 425.2552,-493.5252 420.9533,-492.8944 416.7397,-492.2278 412.6257,-491.5273 408.6238,-490.7947 404.747,-490.032 401.009,-489.2414 397.4241,-488.425 394.007,-487.5851 390.7731,-486.7239 387.7378,-485.8438 384.9168,-484.9472 382.3259,-484.0367 379.9808,-483.1146 377.8971,-482.1835 376.0898,-481.246 374.5738,-480.3046 373.363,-479.3619 372.4707,-478.4205 371.9093,-477.4829 371.6899,-476.5519 371.8228,-475.6298 372.3165,-474.7192 373.1784,-473.8226 374.4142,-472.9426 376.0277,-472.0814 378.0214,-471.2414 380.3955,-470.425 383.1486,-469.6344 386.2771,-468.8718 389.7755,-468.1391 393.6363,-467.4386 397.85,-466.772 402.405,-466.1412 407.2878,-465.548 412.4829,-464.9939 417.9731,-464.4804 423.7392,-464.0091 429.7604,-463.5811 436.0145,-463.1977 442.4775,-462.8599 449.1245,-462.5685 455.9291,-462.3246 462.864,-462.1286 469.9012,-461.9811 477.012,-461.8826 484.167,-461.8332 491.3369,-461.8332 498.4919,-461.8826\"/>\n<text text-anchor=\"middle\" x=\"487.7519\" y=\"-476.1332\" font-family=\"Times,serif\" font-size=\"14.00\" fill=\"#000000\">20:drama:NOUN:NN</text>\n</g>\n<!-- 17&#45;&gt;20 -->\n<g id=\"edge12\" class=\"edge\">\n<title>17&#45;&gt;20</title>\n<path fill=\"none\" stroke=\"#000000\" d=\"M312.5954,-548.928C326.1365,-538.0646 344.5908,-524.6432 362.7519,-515.8332 379.0388,-507.9324 397.3812,-501.4499 414.8953,-496.272\"/>\n<polygon fill=\"#000000\" stroke=\"#000000\" points=\"415.8638,-499.6355 424.5218,-493.529 413.9454,-492.9034 415.8638,-499.6355\"/>\n<text text-anchor=\"middle\" x=\"400.2519\" y=\"-519.6332\" font-family=\"Times,serif\" font-size=\"14.00\" fill=\"#000000\">compound</text>\n</g>\n<!-- 20&#45;&gt;22 -->\n<g id=\"edge15\" class=\"edge\">\n<title>20&#45;&gt;22</title>\n<path fill=\"none\" stroke=\"#000000\" d=\"M498.9061,-461.828C520.8118,-426.4675 570.6307,-346.049 608.6792,-284.6305\"/>\n<polygon fill=\"#000000\" stroke=\"#000000\" points=\"611.6748,-286.441 613.9658,-276.0968 605.7241,-282.7546 611.6748,-286.441\"/>\n<text text-anchor=\"middle\" x=\"554.2519\" y=\"-432.6332\" font-family=\"Times,serif\" font-size=\"14.00\" fill=\"#000000\">compound</text>\n</g>\n<!-- 18 -->\n<g id=\"node15\" class=\"node\">\n<title>18</title>\n<polygon fill=\"none\" stroke=\"#000000\" points=\"854.5104,-461.8826 860.3092,-461.9811 866.0481,-462.1286 871.7036,-462.3246 877.2527,-462.5685 882.6733,-462.8599 887.9439,-463.1977 893.0441,-463.5811 897.9544,-464.0091 902.6567,-464.4804 907.1339,-464.9939 911.3706,-465.548 915.3525,-466.1412 919.0671,-466.772 922.5034,-467.4386 925.6519,-468.1391 928.5049,-468.8718 931.0561,-469.6344 933.3013,-470.425 935.2374,-471.2414 936.8632,-472.0814 938.1791,-472.9426 939.1868,-473.8226 939.8897,-474.7192 940.2924,-475.6298 940.4007,-476.5519 940.2218,-477.4829 939.764,-478.4205 939.0363,-479.3619 938.0489,-480.3046 936.8126,-481.246 935.3388,-482.1835 933.6395,-483.1146 931.7271,-484.0367 929.6142,-484.9472 927.3137,-485.8438 924.8383,-486.7239 922.2011,-487.5851 919.4145,-488.425 916.4909,-489.2414 913.4426,-490.032 910.2811,-490.7947 907.0175,-491.5273 903.6626,-492.2278 900.2263,-492.8944 896.7181,-493.5252 893.1468,-494.1185 889.5204,-494.6726 885.8464,-495.186 882.1315,-495.6573 878.382,-496.0853 874.6032,-496.4687 870.8001,-496.8066 866.9772,-497.0979 863.1383,-497.3419 859.2869,-497.5379 855.4262,-497.6853 851.559,-497.7839 847.688,-497.8332 843.8158,-497.8332 839.9449,-497.7839 836.0777,-497.6853 832.217,-497.5379 828.3656,-497.3419 824.5267,-497.0979 820.7037,-496.8066 816.9007,-496.4687 813.1219,-496.0853 809.3723,-495.6573 805.6575,-495.186 801.9835,-494.6726 798.3571,-494.1185 794.7858,-493.5252 791.2776,-492.8944 787.8413,-492.2278 784.4864,-491.5273 781.2228,-490.7947 778.0613,-490.032 775.0129,-489.2414 772.0894,-488.425 769.3028,-487.5851 766.6655,-486.7239 764.1902,-485.8438 761.8897,-484.9472 759.7768,-484.0367 757.8644,-483.1146 756.1651,-482.1835 754.6913,-481.246 753.455,-480.3046 752.4676,-479.3619 751.7399,-478.4205 751.282,-477.4829 751.1032,-476.5519 751.2115,-475.6298 751.6142,-474.7192 752.317,-473.8226 753.3248,-472.9426 754.6407,-472.0814 756.2665,-471.2414 758.2026,-470.425 760.4477,-469.6344 762.999,-468.8718 765.852,-468.1391 769.0005,-467.4386 772.4368,-466.772 776.1514,-466.1412 780.1333,-465.548 784.3699,-464.9939 788.8472,-464.4804 793.5494,-464.0091 798.4598,-463.5811 803.5599,-463.1977 808.8306,-462.8599 814.2512,-462.5685 819.8003,-462.3246 825.4558,-462.1286 831.1946,-461.9811 836.9935,-461.8826 842.8284,-461.8332 848.6754,-461.8332 854.5104,-461.8826\"/>\n<text text-anchor=\"middle\" x=\"845.7519\" y=\"-476.1332\" font-family=\"Times,serif\" font-size=\"14.00\" fill=\"#000000\">18:Korean:ADJ:JJ</text>\n</g>\n<!-- 18&#45;&gt;22 -->\n<g id=\"edge13\" class=\"edge\">\n<title>18&#45;&gt;22</title>\n<path fill=\"none\" stroke=\"#000000\" d=\"M833.4167,-461.828C808.6065,-425.6133 751.4182,-342.1377 708.9949,-280.214\"/>\n<polygon fill=\"#000000\" stroke=\"#000000\" points=\"711.6509,-277.8981 703.1117,-271.6265 705.8761,-281.8544 711.6509,-277.8981\"/>\n<text text-anchor=\"middle\" x=\"838.7519\" y=\"-432.6332\" font-family=\"Times,serif\" font-size=\"14.00\" fill=\"#000000\">amod</text>\n</g>\n<!-- 19 -->\n<g id=\"node16\" class=\"node\">\n<title>19</title>\n<polygon fill=\"none\" stroke=\"#000000\" points=\"463.2069,-635.8826 470.7911,-635.9811 478.2968,-636.1286 485.6935,-636.3246 492.9511,-636.5685 500.0405,-636.8599 506.9339,-637.1977 513.6043,-637.5811 520.0264,-638.0091 526.1764,-638.4804 532.032,-638.9939 537.573,-639.548 542.7809,-640.1412 547.6392,-640.772 552.1334,-641.4386 556.2512,-642.1391 559.9826,-642.8718 563.3193,-643.6344 566.2557,-644.425 568.7879,-645.2414 570.9143,-646.0814 572.6353,-646.9426 573.9533,-647.8226 574.8726,-648.7192 575.3992,-649.6298 575.5409,-650.5519 575.3069,-651.4829 574.7081,-652.4205 573.7564,-653.3619 572.465,-654.3046 570.848,-655.246 568.9205,-656.1835 566.698,-657.1146 564.1968,-658.0367 561.4334,-658.9472 558.4246,-659.8438 555.1872,-660.7239 551.738,-661.5851 548.0934,-662.425 544.2699,-663.2414 540.283,-664.032 536.1481,-664.7947 531.8798,-665.5273 527.4919,-666.2278 522.9977,-666.8944 518.4094,-667.5252 513.7386,-668.1185 508.9957,-668.6726 504.1905,-669.186 499.332,-669.6573 494.428,-670.0853 489.4858,-670.4687 484.5119,-670.8066 479.5119,-671.0979 474.4911,-671.3419 469.454,-671.5379 464.4046,-671.6853 459.3469,-671.7839 454.2841,-671.8332 449.2197,-671.8332 444.157,-671.7839 439.0992,-671.6853 434.0499,-671.5379 429.0128,-671.3419 423.9919,-671.0979 418.992,-670.8066 414.0181,-670.4687 409.0759,-670.0853 404.1719,-669.6573 399.3133,-669.186 394.5082,-668.6726 389.7653,-668.1185 385.0944,-667.5252 380.5062,-666.8944 376.0119,-666.2278 371.6241,-665.5273 367.3558,-664.7947 363.2209,-664.032 359.234,-663.2414 355.4104,-662.425 351.7659,-661.5851 348.3166,-660.7239 345.0792,-659.8438 342.0704,-658.9472 339.307,-658.0367 336.8058,-657.1146 334.5834,-656.1835 332.6558,-655.246 331.0389,-654.3046 329.7475,-653.3619 328.7958,-652.4205 328.197,-651.4829 327.963,-650.5519 328.1047,-649.6298 328.6313,-648.7192 329.5506,-647.8226 330.8686,-646.9426 332.5896,-646.0814 334.716,-645.2414 337.2482,-644.425 340.1845,-643.6344 343.5213,-642.8718 347.2526,-642.1391 351.3705,-641.4386 355.8647,-640.772 360.723,-640.1412 365.9308,-639.548 371.4718,-638.9939 377.3275,-638.4804 383.4775,-638.0091 389.8996,-637.5811 396.57,-637.1977 403.4633,-636.8599 410.5528,-636.5685 417.8104,-636.3246 425.2071,-636.1286 432.7128,-635.9811 440.2969,-635.8826 447.9283,-635.8332 455.5755,-635.8332 463.2069,-635.8826\"/>\n<text text-anchor=\"middle\" x=\"451.7519\" y=\"-650.1332\" font-family=\"Times,serif\" font-size=\"14.00\" fill=\"#000000\">19:survival:NOUN:NN</text>\n</g>\n<!-- 19&#45;&gt;20 -->\n<g id=\"edge14\" class=\"edge\">\n<title>19&#45;&gt;20</title>\n<path fill=\"none\" stroke=\"#000000\" d=\"M451.7351,-635.7526C452.0739,-614.632 453.7671,-578.7664 460.7519,-548.8332 464.0503,-534.6982 469.6865,-519.6187 474.9588,-507.1734\"/>\n<polygon fill=\"#000000\" stroke=\"#000000\" points=\"478.2472,-508.3894 479.0575,-497.8256 471.8364,-505.5785 478.2472,-508.3894\"/>\n<text text-anchor=\"middle\" x=\"498.2519\" y=\"-563.1332\" font-family=\"Times,serif\" font-size=\"14.00\" fill=\"#000000\">compound</text>\n</g>\n<!-- 21 -->\n<g id=\"node17\" class=\"node\">\n<title>21</title>\n<polygon fill=\"none\" stroke=\"#000000\" points=\"689.0038,-548.8826 697.1156,-548.9811 705.1435,-549.1286 713.0547,-549.3246 720.8172,-549.5685 728.3999,-549.8599 735.7728,-550.1977 742.9072,-550.5811 749.7761,-551.0091 756.3539,-551.4804 762.617,-551.9939 768.5434,-552.548 774.1136,-553.1412 779.3098,-553.772 784.1167,-554.4386 788.521,-555.1391 792.512,-555.8718 796.0809,-556.6344 799.2215,-557.425 801.9298,-558.2414 804.2042,-559.0814 806.0449,-559.9426 807.4546,-560.8226 808.4378,-561.7192 809.0011,-562.6298 809.1526,-563.5519 808.9024,-564.4829 808.2619,-565.4205 807.244,-566.3619 805.8628,-567.3046 804.1333,-568.246 802.0717,-569.1835 799.6946,-570.1146 797.0194,-571.0367 794.0638,-571.9472 790.8456,-572.8438 787.383,-573.7239 783.6938,-574.5851 779.7957,-575.425 775.7061,-576.2414 771.4419,-577.032 767.0194,-577.7947 762.4541,-578.5273 757.761,-579.2278 752.9541,-579.8944 748.0467,-580.5252 743.0508,-581.1185 737.978,-581.6726 732.8386,-582.186 727.642,-582.6573 722.3969,-583.0853 717.1109,-583.4687 711.7909,-583.8066 706.4432,-584.0979 701.073,-584.3419 695.6855,-584.5379 690.2849,-584.6853 684.8752,-584.7839 679.4603,-584.8332 674.0436,-584.8332 668.6286,-584.7839 663.219,-584.6853 657.8184,-584.5379 652.4308,-584.3419 647.0607,-584.0979 641.7129,-583.8066 636.393,-583.4687 631.107,-583.0853 625.8618,-582.6573 620.6653,-582.186 615.5258,-581.6726 610.453,-581.1185 605.4572,-580.5252 600.5497,-579.8944 595.7429,-579.2278 591.0498,-578.5273 586.4845,-577.7947 582.062,-577.032 577.7977,-576.2414 573.7081,-575.425 569.8101,-574.5851 566.1209,-573.7239 562.6582,-572.8438 559.4401,-571.9472 556.4845,-571.0367 553.8093,-570.1146 551.4322,-569.1835 549.3706,-568.246 547.6411,-567.3046 546.2599,-566.3619 545.242,-565.4205 544.6015,-564.4829 544.3513,-563.5519 544.5028,-562.6298 545.0661,-561.7192 546.0493,-560.8226 547.459,-559.9426 549.2997,-559.0814 551.574,-558.2414 554.2824,-557.425 557.423,-556.6344 560.9919,-555.8718 564.9828,-555.1391 569.3872,-554.4386 574.194,-553.772 579.3903,-553.1412 584.9604,-552.548 590.8869,-551.9939 597.1499,-551.4804 603.7278,-551.0091 610.5966,-550.5811 617.7311,-550.1977 625.104,-549.8599 632.6867,-549.5685 640.4492,-549.3246 648.3604,-549.1286 656.3883,-548.9811 664.5,-548.8826 672.6623,-548.8332 680.8415,-548.8332 689.0038,-548.8826\"/>\n<text text-anchor=\"middle\" x=\"676.7519\" y=\"-563.1332\" font-family=\"Times,serif\" font-size=\"14.00\" fill=\"#000000\">21:television:NOUN:NN</text>\n</g>\n<!-- 21&#45;&gt;22 -->\n<g id=\"edge16\" class=\"edge\">\n<title>21&#45;&gt;22</title>\n<path fill=\"none\" stroke=\"#000000\" d=\"M673.5577,-548.7389C671.2465,-534.8585 668.2725,-515.197 666.7519,-497.8332 664.3243,-470.111 662.5236,-440.8607 661.1926,-412.0064\"/>\n<polygon fill=\"#000000\" stroke=\"#000000\" points=\"664.6805,-411.6551 660.7411,-401.8199 657.6874,-411.9651 664.6805,-411.6551\"/>\n<text text-anchor=\"middle\" x=\"704.2519\" y=\"-476.1332\" font-family=\"Times,serif\" font-size=\"14.00\" fill=\"#000000\">compound</text>\n</g>\n<!-- 23 -->\n<g id=\"node18\" class=\"node\">\n<title>23</title>\n<polygon fill=\"none\" stroke=\"#000000\" points=\"1094.2069,-461.8826 1101.7911,-461.9811 1109.2968,-462.1286 1116.6935,-462.3246 1123.9511,-462.5685 1131.0405,-462.8599 1137.9339,-463.1977 1144.6043,-463.5811 1151.0264,-464.0091 1157.1764,-464.4804 1163.032,-464.9939 1168.573,-465.548 1173.7809,-466.1412 1178.6392,-466.772 1183.1334,-467.4386 1187.2512,-468.1391 1190.9826,-468.8718 1194.3193,-469.6344 1197.2557,-470.425 1199.7879,-471.2414 1201.9143,-472.0814 1203.6353,-472.9426 1204.9533,-473.8226 1205.8726,-474.7192 1206.3992,-475.6298 1206.5409,-476.5519 1206.3069,-477.4829 1205.7081,-478.4205 1204.7564,-479.3619 1203.465,-480.3046 1201.848,-481.246 1199.9205,-482.1835 1197.698,-483.1146 1195.1968,-484.0367 1192.4334,-484.9472 1189.4246,-485.8438 1186.1872,-486.7239 1182.738,-487.5851 1179.0934,-488.425 1175.2699,-489.2414 1171.283,-490.032 1167.1481,-490.7947 1162.8798,-491.5273 1158.4919,-492.2278 1153.9977,-492.8944 1149.4094,-493.5252 1144.7386,-494.1185 1139.9957,-494.6726 1135.1905,-495.186 1130.332,-495.6573 1125.428,-496.0853 1120.4858,-496.4687 1115.5119,-496.8066 1110.5119,-497.0979 1105.4911,-497.3419 1100.454,-497.5379 1095.4046,-497.6853 1090.3469,-497.7839 1085.2841,-497.8332 1080.2197,-497.8332 1075.157,-497.7839 1070.0992,-497.6853 1065.0499,-497.5379 1060.0128,-497.3419 1054.9919,-497.0979 1049.992,-496.8066 1045.0181,-496.4687 1040.0759,-496.0853 1035.1719,-495.6573 1030.3133,-495.186 1025.5082,-494.6726 1020.7653,-494.1185 1016.0944,-493.5252 1011.5062,-492.8944 1007.0119,-492.2278 1002.6241,-491.5273 998.3558,-490.7947 994.2209,-490.032 990.234,-489.2414 986.4104,-488.425 982.7659,-487.5851 979.3166,-486.7239 976.0792,-485.8438 973.0704,-484.9472 970.307,-484.0367 967.8058,-483.1146 965.5834,-482.1835 963.6558,-481.246 962.0389,-480.3046 960.7475,-479.3619 959.7958,-478.4205 959.197,-477.4829 958.963,-476.5519 959.1047,-475.6298 959.6313,-474.7192 960.5506,-473.8226 961.8686,-472.9426 963.5896,-472.0814 965.716,-471.2414 968.2482,-470.425 971.1845,-469.6344 974.5213,-468.8718 978.2526,-468.1391 982.3705,-467.4386 986.8647,-466.772 991.723,-466.1412 996.9308,-465.548 1002.4718,-464.9939 1008.3275,-464.4804 1014.4775,-464.0091 1020.8996,-463.5811 1027.57,-463.1977 1034.4633,-462.8599 1041.5528,-462.5685 1048.8104,-462.3246 1056.2071,-462.1286 1063.7128,-461.9811 1071.2969,-461.8826 1078.9283,-461.8332 1086.5755,-461.8332 1094.2069,-461.8826\"/>\n<text text-anchor=\"middle\" x=\"1082.7519\" y=\"-476.1332\" font-family=\"Times,serif\" font-size=\"14.00\" fill=\"#000000\">23:created:VERB:VBN</text>\n</g>\n<!-- 23&#45;&gt;22 -->\n<g id=\"edge17\" class=\"edge\">\n<title>23&#45;&gt;22</title>\n<path fill=\"none\" stroke=\"#000000\" d=\"M1055.194,-462.0394C992.79,-421.7461 838.5838,-322.1773 741.6345,-259.5784\"/>\n<polygon fill=\"#000000\" stroke=\"#000000\" points=\"743.3164,-256.4982 733.0169,-254.0142 739.5193,-262.3789 743.3164,-256.4982\"/>\n<text text-anchor=\"middle\" x=\"1032.7519\" y=\"-432.6332\" font-family=\"Times,serif\" font-size=\"14.00\" fill=\"#000000\">acl</text>\n</g>\n<!-- 24 -->\n<g id=\"node19\" class=\"node\">\n<title>24</title>\n<polygon fill=\"none\" stroke=\"#000000\" points=\"964.1265,-635.8826 969.0091,-635.9811 973.8413,-636.1286 978.6031,-636.3246 983.2755,-636.5685 987.8396,-636.8599 992.2775,-637.1977 996.5719,-637.5811 1000.7063,-638.0091 1004.6656,-638.4804 1008.4355,-638.9939 1012.0027,-639.548 1015.3555,-640.1412 1018.4832,-640.772 1021.3765,-641.4386 1024.0275,-642.1391 1026.4297,-642.8718 1028.5779,-643.6344 1030.4683,-644.425 1032.0985,-645.2414 1033.4674,-646.0814 1034.5754,-646.9426 1035.4239,-647.8226 1036.0158,-648.7192 1036.3548,-649.6298 1036.446,-650.5519 1036.2954,-651.4829 1035.9099,-652.4205 1035.2972,-653.3619 1034.4658,-654.3046 1033.4248,-655.246 1032.1839,-656.1835 1030.7531,-657.1146 1029.1428,-658.0367 1027.3638,-658.9472 1025.4267,-659.8438 1023.3425,-660.7239 1021.1219,-661.5851 1018.7756,-662.425 1016.314,-663.2414 1013.7473,-664.032 1011.0853,-664.7947 1008.3374,-665.5273 1005.5126,-666.2278 1002.6192,-666.8944 999.6654,-667.5252 996.6583,-668.1185 993.6049,-668.6726 990.5114,-669.186 987.3835,-669.6573 984.2264,-670.0853 981.0446,-670.4687 977.8425,-670.8066 974.6236,-671.0979 971.3912,-671.3419 968.1483,-671.5379 964.8976,-671.6853 961.6415,-671.7839 958.3821,-671.8332 955.1217,-671.8332 951.8624,-671.7839 948.6062,-671.6853 945.3555,-671.5379 942.1127,-671.3419 938.8803,-671.0979 935.6614,-670.8066 932.4592,-670.4687 929.2775,-670.0853 926.1204,-669.6573 922.9925,-669.186 919.899,-668.6726 916.8456,-668.1185 913.8385,-667.5252 910.8846,-666.8944 907.9913,-666.2278 905.1665,-665.5273 902.4185,-664.7947 899.7565,-664.032 897.1898,-663.2414 894.7282,-662.425 892.3819,-661.5851 890.1613,-660.7239 888.0771,-659.8438 886.1401,-658.9472 884.361,-658.0367 882.7508,-657.1146 881.32,-656.1835 880.0791,-655.246 879.0381,-654.3046 878.2067,-653.3619 877.594,-652.4205 877.2085,-651.4829 877.0579,-650.5519 877.1491,-649.6298 877.4881,-648.7192 878.0799,-647.8226 878.9285,-646.9426 880.0364,-646.0814 881.4054,-645.2414 883.0356,-644.425 884.926,-643.6344 887.0742,-642.8718 889.4763,-642.1391 892.1274,-641.4386 895.0207,-640.772 898.1484,-640.1412 901.5012,-639.548 905.0684,-638.9939 908.8382,-638.4804 912.7975,-638.0091 916.932,-637.5811 921.2264,-637.1977 925.6642,-636.8599 930.2284,-636.5685 934.9007,-636.3246 939.6626,-636.1286 944.4947,-635.9811 949.3773,-635.8826 954.2903,-635.8332 959.2135,-635.8332 964.1265,-635.8826\"/>\n<text text-anchor=\"middle\" x=\"956.7519\" y=\"-650.1332\" font-family=\"Times,serif\" font-size=\"14.00\" fill=\"#000000\">24:by:ADP:IN</text>\n</g>\n<!-- 25 -->\n<g id=\"node20\" class=\"node\">\n<title>25</title>\n<polygon fill=\"none\" stroke=\"#000000\" points=\"968.8046,-548.8826 976.7844,-548.9811 984.6818,-549.1286 992.4644,-549.3246 1000.1006,-549.5685 1007.56,-549.8599 1014.813,-550.1977 1021.8314,-550.5811 1028.5886,-551.0091 1035.0595,-551.4804 1041.2206,-551.9939 1047.0507,-552.548 1052.5303,-553.1412 1057.6421,-553.772 1062.3708,-554.4386 1066.7035,-555.1391 1070.6295,-555.8718 1074.1404,-556.6344 1077.2299,-557.425 1079.8942,-558.2414 1082.1316,-559.0814 1083.9424,-559.9426 1085.3291,-560.8226 1086.2964,-561.7192 1086.8505,-562.6298 1086.9995,-563.5519 1086.7534,-564.4829 1086.1233,-565.4205 1085.122,-566.3619 1083.7632,-567.3046 1082.0619,-568.246 1080.0338,-569.1835 1077.6953,-570.1146 1075.0636,-571.0367 1072.1561,-571.9472 1068.9903,-572.8438 1065.584,-573.7239 1061.9547,-574.5851 1058.1201,-575.425 1054.097,-576.2414 1049.9021,-577.032 1045.5514,-577.7947 1041.0604,-578.5273 1036.4437,-579.2278 1031.715,-579.8944 1026.8873,-580.5252 1021.9727,-581.1185 1016.9824,-581.6726 1011.9265,-582.186 1006.8145,-582.6573 1001.6546,-583.0853 996.4546,-583.4687 991.2211,-583.8066 985.9603,-584.0979 980.6775,-584.3419 975.3776,-584.5379 970.0648,-584.6853 964.7431,-584.7839 959.4162,-584.8332 954.0876,-584.8332 948.7607,-584.7839 943.4391,-584.6853 938.1263,-584.5379 932.8263,-584.3419 927.5435,-584.0979 922.2827,-583.8066 917.0493,-583.4687 911.8493,-583.0853 906.6894,-582.6573 901.5773,-582.186 896.5215,-581.6726 891.5312,-581.1185 886.6166,-580.5252 881.7889,-579.8944 877.0602,-579.2278 872.4434,-578.5273 867.9524,-577.7947 863.6018,-577.032 859.4069,-576.2414 855.3838,-575.425 851.5491,-574.5851 847.9199,-573.7239 844.5136,-572.8438 841.3478,-571.9472 838.4402,-571.0367 835.8085,-570.1146 833.4701,-569.1835 831.442,-568.246 829.7407,-567.3046 828.3819,-566.3619 827.3805,-565.4205 826.7505,-564.4829 826.5043,-563.5519 826.6534,-562.6298 827.2075,-561.7192 828.1747,-560.8226 829.5615,-559.9426 831.3723,-559.0814 833.6097,-558.2414 836.274,-557.425 839.3635,-556.6344 842.8744,-555.8718 846.8004,-555.1391 851.1331,-554.4386 855.8618,-553.772 860.9735,-553.1412 866.4531,-552.548 872.2832,-551.9939 878.4444,-551.4804 884.9153,-551.0091 891.6724,-550.5811 898.6909,-550.1977 905.9439,-549.8599 913.4033,-549.5685 921.0395,-549.3246 928.8221,-549.1286 936.7194,-548.9811 944.6993,-548.8826 952.7288,-548.8332 960.775,-548.8332 968.8046,-548.8826\"/>\n<text text-anchor=\"middle\" x=\"956.7519\" y=\"-563.1332\" font-family=\"Times,serif\" font-size=\"14.00\" fill=\"#000000\">25:Hwang:PROPN:NNP</text>\n</g>\n<!-- 24&#45;&gt;25 -->\n<g id=\"edge18\" class=\"edge\">\n<title>24&#45;&gt;25</title>\n<path fill=\"none\" stroke=\"#000000\" d=\"M956.7519,-635.8068C956.7519,-624.025 956.7519,-608.3939 956.7519,-594.9913\"/>\n<polygon fill=\"#000000\" stroke=\"#000000\" points=\"960.252,-594.8365 956.7519,-584.8366 953.252,-594.8366 960.252,-594.8365\"/>\n<text text-anchor=\"middle\" x=\"973.2519\" y=\"-606.6332\" font-family=\"Times,serif\" font-size=\"14.00\" fill=\"#000000\">case</text>\n</g>\n<!-- 25&#45;&gt;23 -->\n<g id=\"edge19\" class=\"edge\">\n<title>25&#45;&gt;23</title>\n<path fill=\"none\" stroke=\"#000000\" d=\"M982.554,-549.0175C1001.7909,-535.7349 1028.237,-517.4745 1049.1292,-503.0489\"/>\n<polygon fill=\"#000000\" stroke=\"#000000\" points=\"1051.1747,-505.8899 1057.415,-497.3278 1047.1973,-500.1296 1051.1747,-505.8899\"/>\n<text text-anchor=\"middle\" x=\"1038.7519\" y=\"-519.6332\" font-family=\"Times,serif\" font-size=\"14.00\" fill=\"#000000\">obl</text>\n</g>\n<!-- 26 -->\n<g id=\"node21\" class=\"node\">\n<title>26</title>\n<polygon fill=\"none\" stroke=\"#000000\" points=\"1084.2069,-722.8826 1091.7911,-722.9811 1099.2968,-723.1286 1106.6935,-723.3246 1113.9511,-723.5685 1121.0405,-723.8599 1127.9339,-724.1977 1134.6043,-724.5811 1141.0264,-725.0091 1147.1764,-725.4804 1153.032,-725.9939 1158.573,-726.548 1163.7809,-727.1412 1168.6392,-727.772 1173.1334,-728.4386 1177.2512,-729.1391 1180.9826,-729.8718 1184.3193,-730.6344 1187.2557,-731.425 1189.7879,-732.2414 1191.9143,-733.0814 1193.6353,-733.9426 1194.9533,-734.8226 1195.8726,-735.7192 1196.3992,-736.6298 1196.5409,-737.5519 1196.3069,-738.4829 1195.7081,-739.4205 1194.7564,-740.3619 1193.465,-741.3046 1191.848,-742.246 1189.9205,-743.1835 1187.698,-744.1146 1185.1968,-745.0367 1182.4334,-745.9472 1179.4246,-746.8438 1176.1872,-747.7239 1172.738,-748.5851 1169.0934,-749.425 1165.2699,-750.2414 1161.283,-751.032 1157.1481,-751.7947 1152.8798,-752.5273 1148.4919,-753.2278 1143.9977,-753.8944 1139.4094,-754.5252 1134.7386,-755.1185 1129.9957,-755.6726 1125.1905,-756.186 1120.332,-756.6573 1115.428,-757.0853 1110.4858,-757.4687 1105.5119,-757.8066 1100.5119,-758.0979 1095.4911,-758.3419 1090.454,-758.5379 1085.4046,-758.6853 1080.3469,-758.7839 1075.2841,-758.8332 1070.2197,-758.8332 1065.157,-758.7839 1060.0992,-758.6853 1055.0499,-758.5379 1050.0128,-758.3419 1044.9919,-758.0979 1039.992,-757.8066 1035.0181,-757.4687 1030.0759,-757.0853 1025.1719,-756.6573 1020.3133,-756.186 1015.5082,-755.6726 1010.7653,-755.1185 1006.0944,-754.5252 1001.5062,-753.8944 997.0119,-753.2278 992.6241,-752.5273 988.3558,-751.7947 984.2209,-751.032 980.234,-750.2414 976.4104,-749.425 972.7659,-748.5851 969.3166,-747.7239 966.0792,-746.8438 963.0704,-745.9472 960.307,-745.0367 957.8058,-744.1146 955.5834,-743.1835 953.6558,-742.246 952.0389,-741.3046 950.7475,-740.3619 949.7958,-739.4205 949.197,-738.4829 948.963,-737.5519 949.1047,-736.6298 949.6313,-735.7192 950.5506,-734.8226 951.8686,-733.9426 953.5896,-733.0814 955.716,-732.2414 958.2482,-731.425 961.1845,-730.6344 964.5213,-729.8718 968.2526,-729.1391 972.3705,-728.4386 976.8647,-727.772 981.723,-727.1412 986.9308,-726.548 992.4718,-725.9939 998.3275,-725.4804 1004.4775,-725.0091 1010.8996,-724.5811 1017.57,-724.1977 1024.4633,-723.8599 1031.5528,-723.5685 1038.8104,-723.3246 1046.2071,-723.1286 1053.7128,-722.9811 1061.2969,-722.8826 1068.9283,-722.8332 1076.5755,-722.8332 1084.2069,-722.8826\"/>\n<text text-anchor=\"middle\" x=\"1072.7519\" y=\"-737.1332\" font-family=\"Times,serif\" font-size=\"14.00\" fill=\"#000000\">26:Dong&#45;:PROPN:NNP</text>\n</g>\n<!-- 26&#45;&gt;25 -->\n<g id=\"edge20\" class=\"edge\">\n<title>26&#45;&gt;25</title>\n<path fill=\"none\" stroke=\"#000000\" d=\"M1071.6458,-722.6885C1069.5389,-700.5429 1063.431,-662.7291 1045.7519,-635.8332 1033.4977,-617.1904 1014.485,-601.4581 997.1736,-589.7456\"/>\n<polygon fill=\"#000000\" stroke=\"#000000\" points=\"998.613,-586.507 988.3207,-583.9931 994.7989,-592.3766 998.613,-586.507\"/>\n<text text-anchor=\"middle\" x=\"1075.2519\" y=\"-650.1332\" font-family=\"Times,serif\" font-size=\"14.00\" fill=\"#000000\">flat</text>\n</g>\n<!-- 27 -->\n<g id=\"node22\" class=\"node\">\n<title>27</title>\n<polygon fill=\"none\" stroke=\"#000000\" points=\"750.8548,-635.8826 758.2058,-635.9811 765.4808,-636.1286 772.6501,-636.3246 779.6846,-636.5685 786.5561,-636.8599 793.2375,-637.1977 799.7029,-637.5811 805.9276,-638.0091 811.8885,-638.4804 817.5642,-638.9939 822.9348,-639.548 827.9826,-640.1412 832.6915,-640.772 837.0476,-641.4386 841.0388,-642.1391 844.6555,-642.8718 847.8897,-643.6344 850.7357,-644.425 853.1901,-645.2414 855.2511,-646.0814 856.9192,-646.9426 858.1967,-647.8226 859.0877,-648.7192 859.5981,-649.6298 859.7355,-650.5519 859.5087,-651.4829 858.9283,-652.4205 858.0059,-653.3619 856.7542,-654.3046 855.1869,-655.246 853.3186,-656.1835 851.1645,-657.1146 848.7402,-658.0367 846.0617,-658.9472 843.1454,-659.8438 840.0075,-660.7239 836.6643,-661.5851 833.1318,-662.425 829.4258,-663.2414 825.5615,-664.032 821.5537,-664.7947 817.4166,-665.5273 813.1636,-666.2278 808.8076,-666.8944 804.3603,-667.5252 799.833,-668.1185 795.236,-668.6726 790.5785,-669.186 785.8693,-669.6573 781.1161,-670.0853 776.3258,-670.4687 771.5048,-670.8066 766.6586,-671.0979 761.7921,-671.3419 756.9098,-671.5379 752.0157,-671.6853 747.1134,-671.7839 742.2063,-671.8332 737.2976,-671.8332 732.3905,-671.7839 727.4882,-671.6853 722.5941,-671.5379 717.7118,-671.3419 712.8453,-671.0979 707.9991,-670.8066 703.178,-670.4687 698.3878,-670.0853 693.6345,-669.6573 688.9253,-669.186 684.2679,-668.6726 679.6708,-668.1185 675.1435,-667.5252 670.6963,-666.8944 666.3403,-666.2278 662.0873,-665.5273 657.9502,-664.7947 653.9424,-664.032 650.0781,-663.2414 646.372,-662.425 642.8395,-661.5851 639.4963,-660.7239 636.3584,-659.8438 633.4421,-658.9472 630.7637,-658.0367 628.3394,-657.1146 626.1852,-656.1835 624.317,-655.246 622.7497,-654.3046 621.498,-653.3619 620.5756,-652.4205 619.9951,-651.4829 619.7684,-650.5519 619.9057,-649.6298 620.4161,-648.7192 621.3072,-647.8226 622.5847,-646.9426 624.2528,-646.0814 626.3138,-645.2414 628.7681,-644.425 631.6142,-643.6344 634.8484,-642.8718 638.465,-642.1391 642.4563,-641.4386 646.8124,-640.772 651.5213,-640.1412 656.569,-639.548 661.9397,-638.9939 667.6154,-638.4804 673.5763,-638.0091 679.801,-637.5811 686.2663,-637.1977 692.9478,-636.8599 699.8193,-636.5685 706.8538,-636.3246 714.0231,-636.1286 721.2981,-635.9811 728.6491,-635.8826 736.0459,-635.8332 743.458,-635.8332 750.8548,-635.8826\"/>\n<text text-anchor=\"middle\" x=\"739.7519\" y=\"-650.1332\" font-family=\"Times,serif\" font-size=\"14.00\" fill=\"#000000\">27:hyuk:PROPN:NNP</text>\n</g>\n<!-- 27&#45;&gt;25 -->\n<g id=\"edge21\" class=\"edge\">\n<title>27&#45;&gt;25</title>\n<path fill=\"none\" stroke=\"#000000\" d=\"M782.6242,-636.6448C818,-622.4619 868.2853,-602.3014 905.7301,-587.289\"/>\n<polygon fill=\"#000000\" stroke=\"#000000\" points=\"907.4618,-590.3656 915.4411,-583.3956 904.8568,-583.8683 907.4618,-590.3656\"/>\n<text text-anchor=\"middle\" x=\"874.2519\" y=\"-606.6332\" font-family=\"Times,serif\" font-size=\"14.00\" fill=\"#000000\">flat</text>\n</g>\n<!-- 28 -->\n<g id=\"node23\" class=\"node\">\n<title>28</title>\n<polygon fill=\"none\" stroke=\"#000000\" points=\"1242.3258,-635.8826 1247.3403,-635.9811 1252.303,-636.1286 1257.1935,-636.3246 1261.9921,-636.5685 1266.6796,-636.8599 1271.2373,-637.1977 1275.6477,-637.5811 1279.8939,-638.0091 1283.9601,-638.4804 1287.8318,-638.9939 1291.4954,-639.548 1294.9388,-640.1412 1298.151,-640.772 1301.1225,-641.4386 1303.8452,-642.1391 1306.3122,-642.8718 1308.5185,-643.6344 1310.4599,-644.425 1312.1342,-645.2414 1313.5401,-646.0814 1314.678,-646.9426 1315.5495,-647.8226 1316.1573,-648.7192 1316.5054,-649.6298 1316.5991,-650.5519 1316.4445,-651.4829 1316.0485,-652.4205 1315.4193,-653.3619 1314.5654,-654.3046 1313.4963,-655.246 1312.2219,-656.1835 1310.7524,-657.1146 1309.0986,-658.0367 1307.2715,-658.9472 1305.2822,-659.8438 1303.1416,-660.7239 1300.8611,-661.5851 1298.4514,-662.425 1295.9233,-663.2414 1293.2872,-664.032 1290.5533,-664.7947 1287.7311,-665.5273 1284.83,-666.2278 1281.8585,-666.8944 1278.8248,-667.5252 1275.7365,-668.1185 1272.6006,-668.6726 1269.4235,-669.186 1266.2111,-669.6573 1262.9686,-670.0853 1259.701,-670.4687 1256.4123,-670.8066 1253.1064,-671.0979 1249.7867,-671.3419 1246.4562,-671.5379 1243.1177,-671.6853 1239.7736,-671.7839 1236.4262,-671.8332 1233.0777,-671.8332 1229.7303,-671.7839 1226.3862,-671.6853 1223.0476,-671.5379 1219.7172,-671.3419 1216.3975,-671.0979 1213.0916,-670.8066 1209.8029,-670.4687 1206.5352,-670.0853 1203.2928,-669.6573 1200.0804,-669.186 1196.9033,-668.6726 1193.7674,-668.1185 1190.6791,-667.5252 1187.6454,-666.8944 1184.6739,-666.2278 1181.7727,-665.5273 1178.9506,-664.7947 1176.2167,-664.032 1173.5806,-663.2414 1171.0525,-662.425 1168.6428,-661.5851 1166.3622,-660.7239 1164.2217,-659.8438 1162.2323,-658.9472 1160.4052,-658.0367 1158.7515,-657.1146 1157.282,-656.1835 1156.0076,-655.246 1154.9384,-654.3046 1154.0846,-653.3619 1153.4553,-652.4205 1153.0594,-651.4829 1152.9047,-650.5519 1152.9984,-649.6298 1153.3466,-648.7192 1153.9544,-647.8226 1154.8259,-646.9426 1155.9638,-646.0814 1157.3697,-645.2414 1159.044,-644.425 1160.9854,-643.6344 1163.1916,-642.8718 1165.6587,-642.1391 1168.3814,-641.4386 1171.3529,-640.772 1174.5651,-640.1412 1178.0084,-639.548 1181.6721,-638.9939 1185.5437,-638.4804 1189.61,-638.0091 1193.8562,-637.5811 1198.2666,-637.1977 1202.8243,-636.8599 1207.5118,-636.5685 1212.3104,-636.3246 1217.2009,-636.1286 1222.1636,-635.9811 1227.1781,-635.8826 1232.2238,-635.8332 1237.28,-635.8332 1242.3258,-635.8826\"/>\n<text text-anchor=\"middle\" x=\"1234.7519\" y=\"-650.1332\" font-family=\"Times,serif\" font-size=\"14.00\" fill=\"#000000\">28:for:ADP:IN</text>\n</g>\n<!-- 29 -->\n<g id=\"node24\" class=\"node\">\n<title>29</title>\n<polygon fill=\"none\" stroke=\"#000000\" points=\"1246.7228,-548.8826 1254.6484,-548.9811 1262.4921,-549.1286 1270.2219,-549.3246 1277.8063,-549.5685 1285.215,-549.8599 1292.4188,-550.1977 1299.3895,-550.5811 1306.1008,-551.0091 1312.5278,-551.4804 1318.6471,-551.9939 1324.4376,-552.548 1329.88,-553.1412 1334.957,-553.772 1339.6536,-554.4386 1343.9569,-555.1391 1347.8563,-555.8718 1351.3433,-556.6344 1354.4119,-557.425 1357.0581,-558.2414 1359.2802,-559.0814 1361.0787,-559.9426 1362.4561,-560.8226 1363.4168,-561.7192 1363.9671,-562.6298 1364.1152,-563.5519 1363.8707,-564.4829 1363.2449,-565.4205 1362.2504,-566.3619 1360.9008,-567.3046 1359.211,-568.246 1357.1967,-569.1835 1354.8741,-570.1146 1352.2603,-571.0367 1349.3725,-571.9472 1346.2282,-572.8438 1342.845,-573.7239 1339.2404,-574.5851 1335.4318,-575.425 1331.436,-576.2414 1327.2696,-577.032 1322.9485,-577.7947 1318.488,-578.5273 1313.9026,-579.2278 1309.206,-579.8944 1304.4111,-580.5252 1299.5299,-581.1185 1294.5734,-581.6726 1289.5519,-582.186 1284.4745,-582.6573 1279.3497,-583.0853 1274.185,-583.4687 1268.9871,-583.8066 1263.762,-584.0979 1258.5151,-584.3419 1253.2511,-584.5379 1247.9744,-584.6853 1242.6889,-584.7839 1237.3982,-584.8332 1232.1057,-584.8332 1226.815,-584.7839 1221.5295,-584.6853 1216.2528,-584.5379 1210.9888,-584.3419 1205.7419,-584.0979 1200.5168,-583.8066 1195.3189,-583.4687 1190.1541,-583.0853 1185.0293,-582.6573 1179.952,-582.186 1174.9305,-581.6726 1169.974,-581.1185 1165.0928,-580.5252 1160.2979,-579.8944 1155.6013,-579.2278 1151.0159,-578.5273 1146.5554,-577.7947 1142.2343,-577.032 1138.0679,-576.2414 1134.0721,-575.425 1130.2635,-574.5851 1126.6589,-573.7239 1123.2757,-572.8438 1120.1314,-571.9472 1117.2436,-571.0367 1114.6297,-570.1146 1112.3072,-569.1835 1110.2929,-568.246 1108.6031,-567.3046 1107.2535,-566.3619 1106.259,-565.4205 1105.6332,-564.4829 1105.3887,-563.5519 1105.5368,-562.6298 1106.0871,-561.7192 1107.0478,-560.8226 1108.4251,-559.9426 1110.2236,-559.0814 1112.4458,-558.2414 1115.092,-557.425 1118.1606,-556.6344 1121.6476,-555.8718 1125.547,-555.1391 1129.8502,-554.4386 1134.5468,-553.772 1139.6239,-553.1412 1145.0663,-552.548 1150.8568,-551.9939 1156.9761,-551.4804 1163.403,-551.0091 1170.1143,-550.5811 1177.0851,-550.1977 1184.2889,-549.8599 1191.6976,-549.5685 1199.282,-549.3246 1207.0117,-549.1286 1214.8554,-548.9811 1222.7811,-548.8826 1230.7562,-548.8332 1238.7477,-548.8332 1246.7228,-548.8826\"/>\n<text text-anchor=\"middle\" x=\"1234.7519\" y=\"-563.1332\" font-family=\"Times,serif\" font-size=\"14.00\" fill=\"#000000\">29:Netflix:PROPN:NNP</text>\n</g>\n<!-- 28&#45;&gt;29 -->\n<g id=\"edge22\" class=\"edge\">\n<title>28&#45;&gt;29</title>\n<path fill=\"none\" stroke=\"#000000\" d=\"M1234.7519,-635.8068C1234.7519,-624.025 1234.7519,-608.3939 1234.7519,-594.9913\"/>\n<polygon fill=\"#000000\" stroke=\"#000000\" points=\"1238.252,-594.8365 1234.7519,-584.8366 1231.252,-594.8366 1238.252,-594.8365\"/>\n<text text-anchor=\"middle\" x=\"1251.2519\" y=\"-606.6332\" font-family=\"Times,serif\" font-size=\"14.00\" fill=\"#000000\">case</text>\n</g>\n<!-- 29&#45;&gt;23 -->\n<g id=\"edge23\" class=\"edge\">\n<title>29&#45;&gt;23</title>\n<path fill=\"none\" stroke=\"#000000\" d=\"M1203.6257,-549.0175C1179.9551,-535.4692 1147.2364,-516.7421 1121.8087,-502.1881\"/>\n<polygon fill=\"#000000\" stroke=\"#000000\" points=\"1123.2183,-498.9621 1112.8007,-497.0322 1119.741,-505.0374 1123.2183,-498.9621\"/>\n<text text-anchor=\"middle\" x=\"1179.7519\" y=\"-519.6332\" font-family=\"Times,serif\" font-size=\"14.00\" fill=\"#000000\">obl</text>\n</g>\n</g>\n</svg>\n",
      "text/plain": "<graphviz.sources.Source at 0x7fc5c3164fd0>"
     },
     "metadata": {}
    }
   ]
  },
  {
   "cell_type": "code",
   "metadata": {
    "cell_id": "0e9e10a5-7014-4c4e-8c8b-a2f962588f24",
    "tags": [],
    "deepnote_to_be_reexecuted": false,
    "source_hash": "58d38476",
    "execution_start": 1650681275354,
    "execution_millis": 222,
    "deepnote_cell_type": "code",
    "deepnote_cell_height": 297
   },
   "source": "def get_categories_from_wiki_article(article):\n    # use pywikibot because it can filter hidden 'meta' categories that aren't needed\n    # https://stackoverflow.com/questions/54526821/how-to-identify-wikipedia-categories-in-python\n    site = pw.Site(\"en\", \"wikipedia\")\n    non_hidden = [\n        cat.title()[:]\n        for cat in pw.Page(site, article).categories()\n        if 'hidden' not in cat.categoryinfo\n    ]\n    \n    return(non_hidden)\n\n#get_categories_from_wiki_article('The Avengers')",
   "outputs": [],
   "execution_count": null
  },
  {
   "cell_type": "code",
   "metadata": {
    "cell_id": "0345c1b6-4d3a-496a-888f-7d7868396dfe",
    "tags": [],
    "deepnote_to_be_reexecuted": false,
    "source_hash": "a05c856a",
    "execution_start": 1650592267545,
    "execution_millis": 60,
    "deepnote_cell_type": "code",
    "deepnote_cell_height": 1089
   },
   "source": "def get_best_categories_for_term(wiki_term, wiki_cats, nlp_cat_phrase):\n    # remove parens and anyting inside them\n    wiki_term = re.sub(r'\\([^)]*\\)', '', wiki_term)\n    print('wiki_cats:', wiki_cats)\n    print('')\n\n    # https://stackoverflow.com/questions/65199011/is-there-a-way-to-check-similarity-between-two-full-sentences-in-python\n    rem_term_cats = [' '.join([wiki_term])] + wiki_cats\n    rem_first = model.encode(rem_term_cats)\n\n    print(\"Remove wiki-cats too close to actual term(first term)\")\n    print(rem_term_cats)\n    cos_remove = util.pytorch_cos_sim(rem_first, rem_first)[0].numpy()\n    print(cos_remove)\n    rem_idx = np.where(cos_remove > .7)[0]\n    #because first item is our search term here, but we need to remove items from wiki_cats, so subtract 1\n    rem_idx_from_wiki_cats = rem_idx[1:]-1\n    print(rem_idx_from_wiki_cats)\n    rem_too_close_wiki_cats = [j for i, j in enumerate(wiki_cats) if i not in rem_idx_from_wiki_cats]\n    \n    if len(rem_too_close_wiki_cats) != 0:\n        print('could remove categories too close and have something left.')\n        wiki_cats = rem_too_close_wiki_cats\n    else:\n        print('left removed cats or else none would be left')\n    print('after rem:', wiki_cats)\n\n\n    keep_cat_cats = [' '.join(nlp_cat_phrase)] + wiki_cats\n    keep_first = model.encode(keep_cat_cats)\n\n    print(\"Keep wiki-cats not too far to found category(first term)\")\n    print(keep_cat_cats)\n    keep_cos = util.pytorch_cos_sim(keep_first, keep_first)[0].numpy()\n    print(keep_cos)\n    keep_idx = np.where(keep_cos > .7)[0]\n\n    keep_idx_from_wiki_cats = keep_idx[1:]-1\n\n    print('keep idx:', keep_idx_from_wiki_cats)\n    print('pre-last-filt:', wiki_cats)\n\n    # if we got anything with a decent score, keep those, otherwise everything\n    \n    if len(keep_idx_from_wiki_cats) >= 2:\n        wiki_cats = [j for i, j in enumerate(wiki_cats) if i in keep_idx_from_wiki_cats]\n    else:\n        # keep Top 5 categories if filtering doesn't return much\n        cats_cos = list(zip(keep_cat_cats, keep_cos))\n        top_cats_cos = sorted(cats_cos, key=lambda x: x[1], reverse=True)[1:6]\n        wiki_cats = [i[0] for i in top_cats_cos]\n\n\n\n    print('post-last-filt:', wiki_cats)\n\n    return wiki_cats",
   "execution_count": null,
   "outputs": []
  },
  {
   "cell_type": "code",
   "metadata": {
    "cell_id": "506c43c6944a4e21aca5fd8fed4dbffb",
    "tags": [],
    "deepnote_to_be_reexecuted": false,
    "source_hash": "a880090d",
    "execution_start": 1650592267652,
    "execution_millis": 44,
    "deepnote_cell_type": "code",
    "deepnote_cell_height": 315
   },
   "source": "def get_first_unambiguous_wiki_term_and_page(search_term):\n    search_results = wikipedia.search(search_term)\n\n    first_wiki_term = search_results[0]    \n    #https://github.com/goldsmith/Wikipedia/issues/295\n    try:\n        page = wikipedia.page(first_wiki_term, auto_suggest=False)    \n    except wikipedia.DisambiguationError:\n        print(\"Oops! DisambiguationError, trying next result\")\n        first_wiki_term = search_results[1]\n        page = wikipedia.page(first_wiki_term, auto_suggest=False)\n\n    print('first_wiki_term:', first_wiki_term)\n    return first_wiki_term, page",
   "execution_count": null,
   "outputs": []
  },
  {
   "cell_type": "code",
   "metadata": {
    "cell_id": "79157f5e58544eccb0e3beffdf0c921b",
    "tags": [],
    "deepnote_to_be_reexecuted": false,
    "source_hash": "b5e4c19b",
    "execution_start": 1650592267697,
    "execution_millis": 43,
    "deepnote_cell_type": "code",
    "deepnote_cell_height": 153
   },
   "source": "def get_stanza_dict_of_first_sentence(wiki_summary_text):\n    # Using stanza instead of nltk to save memory\n    doc = nlp(wiki_summary_text)\n    return doc.sentences[0].to_dict()\n    #first_sentence.text",
   "execution_count": null,
   "outputs": []
  },
  {
   "cell_type": "code",
   "metadata": {
    "cell_id": "a95664ab78ad42149f1a97d86eaad459",
    "tags": [],
    "deepnote_to_be_reexecuted": false,
    "source_hash": "be0c4ea5",
    "execution_start": 1650592267741,
    "execution_millis": 35,
    "deepnote_cell_type": "code",
    "deepnote_cell_height": 99
   },
   "source": "#first_wiki_term, wiki_page = get_first_unambiguous_wiki_term_and_page('Gamestop short squeeze')\n#graph_sent(get_stanza_dict_of_first_sentence(wiki_page.summary))",
   "execution_count": null,
   "outputs": []
  },
  {
   "cell_type": "code",
   "metadata": {
    "cell_id": "ca7f6bde2617453a883dfdf42d3bfe6c",
    "tags": [],
    "deepnote_to_be_reexecuted": false,
    "source_hash": "f33b6a45",
    "execution_start": 1650592267783,
    "execution_millis": 55,
    "deepnote_cell_type": "code",
    "deepnote_cell_height": 1341
   },
   "source": "def get_nlp_category_phrase(wiki_page):\n    \n    wiki_page_text = wiki_page.summary\n    # # Using stanza instead of nltk to save memory\n    # doc = nlp(wiki_page_text)\n    # first_sentence = doc.sentences[0]\n    # #first_sentence.text\n    sent_dict = get_stanza_dict_of_first_sentence(wiki_page_text)\n\n    # Look for the ROOT word of the dependency tree\n    # hopefully not the first word\n    root_id = 0\n    root_word = ''\n    for word in sent_dict:\n        if word['head'] == 0:\n            root_id = word['id']\n            root_word = word['text']\n            break    \n\n    # print(\"first root id:\", root_id)\n    # print(\"first root word:\", root_word)            \n\n    # Lost TV series for some reason has ROOT as first word\n    if root_id in [1]:\n        for word in sent_dict:\n            if (word['head'] == 1) & (word['deprel'] in ['nsubj:pass', 'parataxis']):\n                root_id = word['id']                \n                root_word = word['text']\n                break\n\n    # print(\"new root id:\", root_id)\n    # print(\"new root word:\", root_word)\n\n    # Get all modifiers of ROOT word, loop up to 3 times to get enough words\n    all_dep_ids = []\n\n    for i in range(3):  # at most 3 loops\n        cur_dep_ids = []\n        for word in sent_dict:\n            if ((word['head'] in all_dep_ids + [root_id]) & (word['deprel'] in ['obl', 'compound','amod','nmod','conj','appos'])):\n                cur_dep_ids.append(word['id'])\n\n        all_dep_ids.extend(cur_dep_ids)\n        #print(i, all_dep_ids)\n        if len(all_dep_ids) > 2:    # bring back at least 4 words, if we have more, then they're too far away\n            break\n    #print(all_dep_ids)\n    all_dep_ids.append(root_id)\n\n    category_phrase_dict = dict()\n    for word in sent_dict:\n        if (word['id'] in all_dep_ids):\n            category_phrase_dict[word['id']] = word['text']\n\n    #print(category_phrase_dict)\n\n    nlp_category_phrase = []\n    for k,v in category_phrase_dict.items():\n        nlp_category_phrase.append(v)\n    #print('**', search_term, '**', first_wiki_term, '**', nlp_category_phrase)\n    #print(wiki_page.categories)\n\n    # print(nlp_category_phrase)\n    index_root_word = nlp_category_phrase.index(root_word)\n    \n    # this was an attempt to cut off the phrases at the root word, but some continue past it, iPhone for example\n    #nlp_category_phrase = nlp_category_phrase[:index_root_word+1]\n\n    print('nlp phrase:', nlp_category_phrase)\n    return nlp_category_phrase\n",
   "execution_count": null,
   "outputs": []
  },
  {
   "cell_type": "code",
   "metadata": {
    "cell_id": "f8d4a36d-74c3-4c6a-b98a-4fc5f90944dc",
    "tags": [],
    "deepnote_to_be_reexecuted": false,
    "source_hash": "a6156eb2",
    "execution_start": 1650592267840,
    "execution_millis": 53,
    "deepnote_cell_type": "code",
    "deepnote_cell_height": 333
   },
   "source": "def get_category_from_search_term(search_term, mvp_flag):   \n    \n    first_wiki_term, wiki_page = get_first_unambiguous_wiki_term_and_page(search_term)\n\n    nlp_category_phrase = get_nlp_category_phrase(wiki_page)\n\n    raw_wiki_cats = get_categories_from_wiki_article(first_wiki_term)\n\n    best_wiki_cats = get_best_categories_for_term(first_wiki_term, raw_wiki_cats, nlp_category_phrase)\n\n    expanded_year_wiki_cats = get_all_combined_wiki_cats(best_wiki_cats)\n\n    make_white_list_cat_content_files(expanded_year_wiki_cats, first_wiki_term, mvp_flag)\n\n    return nlp_category_phrase, expanded_year_wiki_cats, best_wiki_cats, first_wiki_term",
   "execution_count": null,
   "outputs": []
  },
  {
   "cell_type": "code",
   "metadata": {
    "cell_id": "0556ab71-2a7f-4b7e-a29c-9f0025b162b5",
    "tags": [],
    "deepnote_to_be_reexecuted": false,
    "source_hash": "b623e53d",
    "execution_start": 1650592267897,
    "execution_millis": 1,
    "deepnote_cell_type": "code",
    "deepnote_cell_height": 81
   },
   "source": "",
   "execution_count": null,
   "outputs": []
  },
  {
   "cell_type": "code",
   "metadata": {
    "cell_id": "3e50ee7188af4e538211787b2021583e",
    "tags": [],
    "deepnote_to_be_reexecuted": false,
    "source_hash": "b623e53d",
    "execution_start": 1650592267910,
    "execution_millis": 0,
    "deepnote_cell_type": "code",
    "deepnote_cell_height": 81
   },
   "source": "",
   "execution_count": null,
   "outputs": []
  },
  {
   "cell_type": "code",
   "metadata": {
    "cell_id": "e9e03895-64b9-4cbe-8a35-933cbb247596",
    "tags": [],
    "deepnote_to_be_reexecuted": false,
    "source_hash": "b623e53d",
    "execution_start": 1650592267910,
    "execution_millis": 42,
    "deepnote_cell_type": "code",
    "deepnote_cell_height": 81
   },
   "source": "",
   "execution_count": null,
   "outputs": []
  },
  {
   "cell_type": "code",
   "metadata": {
    "cell_id": "970109d2-d932-4b3d-a78b-0617a6f8722d",
    "tags": [],
    "deepnote_to_be_reexecuted": false,
    "source_hash": "f49348e0",
    "execution_start": 1650592267953,
    "execution_millis": 7,
    "deepnote_cell_type": "code",
    "deepnote_cell_height": 225
   },
   "source": "def get_wiki_wiki_pages_for_cat_members(category):\n    wiki_cat = ''\n    try:\n        wiki_cat = wiki_wiki.page(category)        \n    except requests.exceptions.SSLError:\n        print(\"SSLError exception caught!!!!!!!!!!!!!!!\")\n        time.sleep(5)\n        wiki_cat = wiki_wiki.page(category)\n    return wiki_cat",
   "execution_count": null,
   "outputs": []
  },
  {
   "cell_type": "code",
   "metadata": {
    "cell_id": "183082e5-f014-423e-9e88-aae9818bbbb8",
    "tags": [],
    "deepnote_to_be_reexecuted": false,
    "source_hash": "84893082",
    "execution_start": 1650592268008,
    "execution_millis": 772,
    "owner_user_id": "9187ece3-39a6-4bea-aed6-9a68f93aaf4f",
    "deepnote_cell_type": "code",
    "deepnote_cell_height": 886.75,
    "deepnote_output_heights": [
     null,
     59.5625
    ]
   },
   "source": "test_wiki_cat = \"Category:Board games introduced in 1995\"\ndef return_new_year_cats(wiki_cat):\n    year_pattern = re.compile('(19|20)\\d{2}s?')\n    check_for_year = re.search(year_pattern, wiki_cat)\n\n    curr_year = dt.datetime.now().year\n\n    new_cat_list = []\n\n    if check_for_year != None:\n        #print('found', check_for_year.group(0), 'in category:', wiki_cat)        \n        found_year = check_for_year.group(0)\n\n        if 's' in found_year:\n            new_category = wiki_cat.replace(found_year, '2020s')\n            print(new_category)\n            #check category exists\n            pages_in_new_cat = len(get_wiki_wiki_pages_for_cat_members(new_category).categorymembers.keys())\n            if pages_in_new_cat > 0:\n                # add cat to existing list\n                #print(pages_in_new_cat, 'exists!')\n                new_cat_list.append(new_category)\n        else:\n            for pot_year in [str(x) for x in [curr_year - i for i in range(5)]]:\n                \n                #print(pot_year)\n                new_category = wiki_cat.replace(found_year, pot_year)\n                #check category exists\n                pages_in_new_cat = len(get_wiki_wiki_pages_for_cat_members(new_category).categorymembers.keys())\n                if pages_in_new_cat > 0:\n                    # add cat to existing list\n                    #print(pages_in_new_cat, 'exists!')\n                    new_cat_list.append(new_category)\n                \n\n    return new_cat_list\n\nreturn_new_year_cats(test_wiki_cat)\n",
   "execution_count": null,
   "outputs": [
    {
     "name": "stdout",
     "text": "found 1995 in category: Category:Board games introduced in 1995\n",
     "output_type": "stream"
    },
    {
     "output_type": "execute_result",
     "execution_count": 19,
     "data": {
      "text/plain": "['Category:Board games introduced in 2020',\n 'Category:Board games introduced in 2019',\n 'Category:Board games introduced in 2018']"
     },
     "metadata": {}
    }
   ]
  },
  {
   "cell_type": "code",
   "metadata": {
    "cell_id": "c2c0aad1-6879-496e-bb71-e2241f487e3e",
    "tags": [],
    "deepnote_to_be_reexecuted": false,
    "source_hash": "a60b50ed",
    "execution_start": 1650592268469,
    "execution_millis": 52,
    "deepnote_cell_type": "code",
    "deepnote_cell_height": 369
   },
   "source": "def expand_years_in_cats_to_modern(list_wiki_cats):\n    new_year_cats_to_add = []\n    # SSLError: HTTPSConnectionPool(host='en.wikipedia.org', port=443)\n\n    for cat in list_wiki_cats:    \n        #print(\"****\", cat)\n        try:\n            new_year_cats_to_add.append(return_new_year_cats(cat))\n\n        except requests.exceptions.SSLError:\n            print(\"SSLError exception caught!!!!!!!!!!!!!!!\")\n            time.sleep(5)\n            new_year_cats_to_add.append(return_new_year_cats(cat))   \n\n    return new_year_cats_to_add\n\n",
   "execution_count": null,
   "outputs": []
  },
  {
   "cell_type": "code",
   "metadata": {
    "cell_id": "bab81a13-9a7d-4201-98e5-eaf506d70108",
    "tags": [],
    "deepnote_to_be_reexecuted": false,
    "source_hash": "6c692466",
    "execution_start": 1650592268523,
    "execution_millis": 51,
    "deepnote_cell_type": "code",
    "deepnote_cell_height": 189
   },
   "source": "def get_all_combined_wiki_cats(list_wiki_cats):\n    combined_wiki_cats = list_wiki_cats\n    for year_cats in expand_years_in_cats_to_modern(list_wiki_cats):\n        combined_wiki_cats = list(set(combined_wiki_cats + year_cats))\n    return combined_wiki_cats\n\n",
   "execution_count": null,
   "outputs": []
  },
  {
   "cell_type": "code",
   "metadata": {
    "cell_id": "3c0d01a7-48b8-4f70-b0c1-29d19a6ae0c7",
    "tags": [],
    "deepnote_to_be_reexecuted": false,
    "source_hash": "e472789e",
    "execution_start": 1650592268585,
    "execution_millis": 45,
    "deepnote_cell_type": "code",
    "deepnote_cell_height": 927
   },
   "source": "def make_cat_content_dict_from_cats(wiki_cats, wiki_term, mvp_flag, max_num_wiki_articles_per_cat = 200):\n    # given the filtered cats, try getting the summaries for all the pages mentioned into a dict, to pass to Kim\n       \n    page_cat_content_dict = dict()\n    \n    pkl_file_name = './output_step1/wiki_200_cat_content_' + wiki_term.replace(' ', '_') + '.pickle'\n\n    if mvp_flag and file_exists(pkl_file_name):\n        print('mvp! wikipedia cat content already exists.')\n        with open(pkl_file_name, 'rb') as handle:\n            page_cat_content_dict = pickle.load(handle)\n    else:\n\n        for idx, cat in enumerate(wiki_cats):\n                \n            page_content_dict = dict()\n\n            try:       \n                cat_page_member_keys = get_wiki_wiki_pages_for_cat_members(cat).categorymembers.keys()\n            except requests.exceptions.SSLError:\n                print(\"SSLError exception caught!!!!!!!!!!!!!!!\")\n                time.sleep(5)\n                cat_page_member_keys = get_wiki_wiki_pages_for_cat_members(cat).categorymembers.keys()\n\n            print(cat, idx+1, 'of', len(wiki_cats), ':', len(cat_page_member_keys))\n            remove_from_pages = ['Category:', 'List of', 'Comparison of'] + [wiki_term]\n\n            # list_of_filt_pages = [page for page in list(cat_page_member_keys)[:100] if not any(x.lower() in page.lower() for x in remove_from_pages)]\n            list_of_filt_pages = [page for page in list(cat_page_member_keys) if not any(x.lower() in page.lower() for x in remove_from_pages)][:max_num_wiki_articles_per_cat]\n\n            for filt_page in list_of_filt_pages:            \n                try:                \n                    page_content_dict[filt_page] = wikipedia.page(filt_page, auto_suggest=False).content                \n                except wikipedia.DisambiguationError:\n                    print(\"Oops! DisambiguationError, trying next result\")                \n                    continue\n            \n            page_cat_content_dict[cat] = page_content_dict\n\n        print('Dumping wikipedia cat content file')\n        with open(pkl_file_name, 'wb') as handle:\n            pickle.dump(page_cat_content_dict, handle, protocol=pickle.HIGHEST_PROTOCOL)\n    \n    return page_cat_content_dict\n\n    # need to catch timeout here, for hitting API too often\n\n",
   "execution_count": null,
   "outputs": []
  },
  {
   "cell_type": "code",
   "metadata": {
    "cell_id": "63d5a7739ea24ba1bac72020535c458c",
    "tags": [],
    "deepnote_to_be_reexecuted": false,
    "source_hash": "b623e53d",
    "execution_start": 1650592268681,
    "execution_millis": 0,
    "deepnote_cell_type": "code",
    "deepnote_cell_height": 81
   },
   "source": "",
   "execution_count": null,
   "outputs": []
  },
  {
   "cell_type": "code",
   "metadata": {
    "cell_id": "01f7352ce1474621b61b799754ee7e93",
    "tags": [],
    "deepnote_to_be_reexecuted": false,
    "source_hash": "77f66f77",
    "execution_start": 1650592268683,
    "execution_millis": 42,
    "deepnote_cell_type": "code",
    "deepnote_cell_height": 81
   },
   "source": "#wiki_cats",
   "execution_count": null,
   "outputs": []
  },
  {
   "cell_type": "code",
   "metadata": {
    "cell_id": "faa5e9a1-4b87-4872-84ed-a4a4901eaa58",
    "tags": [],
    "deepnote_to_be_reexecuted": false,
    "source_hash": "faef2f6",
    "execution_start": 1650592268725,
    "execution_millis": 48,
    "deepnote_cell_type": "code",
    "deepnote_cell_height": 549
   },
   "source": "def get_whitelist_dicts_by_cat(wiki_cats, wiki_term):\n    #print(wiki_cats)\n    # to get whitelist of all terms to search for in sentences from Kim deemed to be related to our category\n    white_list_dict = dict()\n    for cat in wiki_cats:\n        cat_page = get_wiki_wiki_pages_for_cat_members(cat)\n        print(cat)#, len(cat_page.categorymembers.keys()))\n        remove_from_pages = ['Category:', 'List of', 'Comparison of'] + [wiki_term]\n\n        list_of_filt_pages = [page for page in cat_page.categorymembers.keys() if not any(x.lower() in page.lower() for x in remove_from_pages)]\n\n        # get rid of everything between parens like this: 'Chimera (South Korean TV series)',\n        # https://stackoverflow.com/questions/29570771/re-sub-on-lists-python-3\n        # https://stackoverflow.com/questions/640001/how-can-i-remove-text-within-parentheses-with-a-regex\n        # https://stackoverflow.com/questions/71023854/how-to-find-subcategories-and-subpages-on-wikipedia-using-pywikibot\n        \n        list_of_filt_pages_nothing_in_parens = [re.sub(r'\\([^)]*\\)', '', i) for i in list_of_filt_pages]\n\n        list_of_filt_pages_no_parens = [i.replace('(', '').replace(')', '') for i in list_of_filt_pages]\n\n        list_of_filt_pages_no_parens_strip = list(set([i.strip() for i in list_of_filt_pages_no_parens]))\n\n        white_list_dict[cat] = list_of_filt_pages_no_parens_strip\n\n    return white_list_dict\n\n",
   "execution_count": null,
   "outputs": []
  },
  {
   "cell_type": "code",
   "metadata": {
    "cell_id": "e4eb500305a542b4ae842b07fd0f971c",
    "tags": [],
    "deepnote_to_be_reexecuted": false,
    "source_hash": "3f1b10ba",
    "execution_start": 1650592268774,
    "execution_millis": 47,
    "deepnote_cell_type": "code",
    "deepnote_cell_height": 531
   },
   "source": "def filter_whitelist_dict_for_common_words(white_list_dict, wiki_term):\n    filt_white_list = dict()\n    # remove words that are too common in each category\n    # rule: appear at least 10 times, and be in greater than 20% of all entries\n\n    for k, v in white_list_dict.items(): # {category:list of titles}\n        print(len(v), k, v)\n        words = Counter()\n        for phrase in v:\n            words.update(phrase.split())\n        print(words)\n        \n        words_to_remove = []\n        for word, count in words.most_common():\n            if (count < 10):\n                break\n            if (count/len(v) > .2):\n                words_to_remove.append(word)\n\n        print(\"remove:\", words_to_remove)\n\n        p = re.compile('|'.join(map(re.escape, words_to_remove))) # escape to handle metachars\n        filt_white_list[k] = [' '.join(p.sub('', s).split()) for s in v]\n\n    return filt_white_list\n",
   "execution_count": null,
   "outputs": []
  },
  {
   "cell_type": "code",
   "metadata": {
    "cell_id": "d7e6d2c2a0ec4a9b874b481b34ab6239",
    "tags": [],
    "deepnote_to_be_reexecuted": false,
    "source_hash": "fb62b46c",
    "execution_start": 1650592268822,
    "execution_millis": 43,
    "deepnote_cell_type": "code",
    "deepnote_cell_height": 351
   },
   "source": "def make_white_list_cat_content_files(wiki_cats, wiki_term, mvp_flag):\n    make_cat_content_dict_from_cats(wiki_cats, wiki_term, mvp_flag)\n    \n    white_list_dict = get_whitelist_dicts_by_cat(wiki_cats, wiki_term)\n    white_list_dict\n\n    filt_white_list = filter_whitelist_dict_for_common_words(white_list_dict, wiki_term)\n\n    filt_white_list\n\n    \n\n    with open('./output_step1/white_list_200_' + wiki_term.replace(' ', '_') + '.pickle', 'wb') as handle:\n        pickle.dump(filt_white_list, handle, protocol=pickle.HIGHEST_PROTOCOL)\n    \n    print(wiki_term)",
   "execution_count": null,
   "outputs": []
  },
  {
   "cell_type": "code",
   "metadata": {
    "cell_id": "7f6a58c7074845b9b135223e84c4fc04",
    "tags": [],
    "deepnote_to_be_reexecuted": false,
    "source_hash": "3b3dae2b",
    "execution_start": 1650592292036,
    "execution_millis": 73930,
    "deepnote_cell_type": "code",
    "deepnote_cell_height": 991.4375
   },
   "source": "test_terms = ['model t', 'squid game', 'lost tv', 'apple iphone', \\\n                'obama', 'trump', 'subway tile', 'sport', 'mandalorian',\\\n                'gamestop', 'ps5', 'bitcoin', 'ketogenic diet',\\\n                'dogecoin', 'ford bronco', 'ted lasso', 'pickle ball',\\\n                'data science', 'crocs', 'terraforming mars', 'final fantasy',\\\n                'catan', 'steve jobs', 'batman', 'tesla motors', 'cronut', 'cryptocurrency',\\\n                'elon musk', 'beastie boys', 'birkin bag', 'Game Stop Short Squeeze', 'oxycontin', 'Virtual reality']\n\n#term = 'Mother 3'\n#mvp_flag = True\n\n#nlp_cat_phrase, wiki_cats, init_wiki_cats, wiki_term = get_category_from_search_term(term, mvp_flag)\n# # # Try search for all categories that are cosine close to search category\n\n# make_white_list_cat_content_files(wiki_cats, wiki_term, mvp_flag)",
   "execution_count": null,
   "outputs": [
    {
     "name": "stdout",
     "text": "first_wiki_term: Mother 3\nnlp phrase: ['2006', 'role-playing', 'video', 'game']\nwiki_cats: ['Category:2006 video games', 'Category:Brownie Brown games', 'Category:Cancelled 64DD games', 'Category:Cancelled Nintendo 64 games', 'Category:Cancelled Super Nintendo Entertainment System games', 'Category:Dinosaurs in video games', 'Category:Fiction about mind control', 'Category:Game Boy Advance games', 'Category:HAL Laboratory games', 'Category:Japan-exclusive video games', 'Category:Japanese role-playing video games', 'Category:Media containing Gymnopedies', 'Category:Mother (video game series)', 'Category:Nintendo games', 'Category:Science fantasy video games', 'Category:Science fiction comedy', 'Category:Single-player video games', 'Category:Suicide in fiction', 'Category:Vaporware video games', 'Category:Video game sequels', 'Category:Video games about psychic powers', 'Category:Video games developed in Japan', 'Category:Video games scored by Shogo Sakai', 'Category:Video games set on fictional islands', 'Category:Video games with oblique graphics', 'Category:Virtual Console games for Wii U', 'Category:Works about twin brothers']\n\nRemove wiki-cats too close to actual term(first term)\n['Mother 3', 'Category:2006 video games', 'Category:Brownie Brown games', 'Category:Cancelled 64DD games', 'Category:Cancelled Nintendo 64 games', 'Category:Cancelled Super Nintendo Entertainment System games', 'Category:Dinosaurs in video games', 'Category:Fiction about mind control', 'Category:Game Boy Advance games', 'Category:HAL Laboratory games', 'Category:Japan-exclusive video games', 'Category:Japanese role-playing video games', 'Category:Media containing Gymnopedies', 'Category:Mother (video game series)', 'Category:Nintendo games', 'Category:Science fantasy video games', 'Category:Science fiction comedy', 'Category:Single-player video games', 'Category:Suicide in fiction', 'Category:Vaporware video games', 'Category:Video game sequels', 'Category:Video games about psychic powers', 'Category:Video games developed in Japan', 'Category:Video games scored by Shogo Sakai', 'Category:Video games set on fictional islands', 'Category:Video games with oblique graphics', 'Category:Virtual Console games for Wii U', 'Category:Works about twin brothers']\n[1.0000001  0.17153281 0.16137926 0.1626468  0.1854989  0.1815439\n 0.14026144 0.09337018 0.24522595 0.08325648 0.11740737 0.12213674\n 0.09579008 0.5926278  0.22187085 0.1362668  0.12012753 0.13617006\n 0.1384219  0.14150462 0.22271976 0.17854764 0.06603663 0.09719418\n 0.08955178 0.13065107 0.11617889 0.23232335]\n[]\ncould remove categories too close and have something left.\nafter rem: ['Category:2006 video games', 'Category:Brownie Brown games', 'Category:Cancelled 64DD games', 'Category:Cancelled Nintendo 64 games', 'Category:Cancelled Super Nintendo Entertainment System games', 'Category:Dinosaurs in video games', 'Category:Fiction about mind control', 'Category:Game Boy Advance games', 'Category:HAL Laboratory games', 'Category:Japan-exclusive video games', 'Category:Japanese role-playing video games', 'Category:Media containing Gymnopedies', 'Category:Mother (video game series)', 'Category:Nintendo games', 'Category:Science fantasy video games', 'Category:Science fiction comedy', 'Category:Single-player video games', 'Category:Suicide in fiction', 'Category:Vaporware video games', 'Category:Video game sequels', 'Category:Video games about psychic powers', 'Category:Video games developed in Japan', 'Category:Video games scored by Shogo Sakai', 'Category:Video games set on fictional islands', 'Category:Video games with oblique graphics', 'Category:Virtual Console games for Wii U', 'Category:Works about twin brothers']\nKeep wiki-cats not too far to found category(first term)\n['2006 role-playing video game', 'Category:2006 video games', 'Category:Brownie Brown games', 'Category:Cancelled 64DD games', 'Category:Cancelled Nintendo 64 games', 'Category:Cancelled Super Nintendo Entertainment System games', 'Category:Dinosaurs in video games', 'Category:Fiction about mind control', 'Category:Game Boy Advance games', 'Category:HAL Laboratory games', 'Category:Japan-exclusive video games', 'Category:Japanese role-playing video games', 'Category:Media containing Gymnopedies', 'Category:Mother (video game series)', 'Category:Nintendo games', 'Category:Science fantasy video games', 'Category:Science fiction comedy', 'Category:Single-player video games', 'Category:Suicide in fiction', 'Category:Vaporware video games', 'Category:Video game sequels', 'Category:Video games about psychic powers', 'Category:Video games developed in Japan', 'Category:Video games scored by Shogo Sakai', 'Category:Video games set on fictional islands', 'Category:Video games with oblique graphics', 'Category:Virtual Console games for Wii U', 'Category:Works about twin brothers']\n[1.         0.69070894 0.26865914 0.2826099  0.27937022 0.3146136\n 0.44859776 0.15849654 0.48202366 0.38197666 0.46327206 0.6764268\n 0.11965141 0.42000872 0.4163032  0.4810283  0.20195659 0.54589117\n 0.13659339 0.4862818  0.478755   0.45040393 0.4557313  0.41551337\n 0.44263518 0.49431378 0.41792762 0.06421155]\nkeep idx: []\npre-last-filt: ['Category:2006 video games', 'Category:Brownie Brown games', 'Category:Cancelled 64DD games', 'Category:Cancelled Nintendo 64 games', 'Category:Cancelled Super Nintendo Entertainment System games', 'Category:Dinosaurs in video games', 'Category:Fiction about mind control', 'Category:Game Boy Advance games', 'Category:HAL Laboratory games', 'Category:Japan-exclusive video games', 'Category:Japanese role-playing video games', 'Category:Media containing Gymnopedies', 'Category:Mother (video game series)', 'Category:Nintendo games', 'Category:Science fantasy video games', 'Category:Science fiction comedy', 'Category:Single-player video games', 'Category:Suicide in fiction', 'Category:Vaporware video games', 'Category:Video game sequels', 'Category:Video games about psychic powers', 'Category:Video games developed in Japan', 'Category:Video games scored by Shogo Sakai', 'Category:Video games set on fictional islands', 'Category:Video games with oblique graphics', 'Category:Virtual Console games for Wii U', 'Category:Works about twin brothers']\npost-last-filt: ['Category:2006 video games', 'Category:Japanese role-playing video games', 'Category:Single-player video games', 'Category:Video games with oblique graphics', 'Category:Vaporware video games']\nfound 2006 in category: Category:2006 video games\nCategory:Vaporware video games 1 of 10 : 56\nCategory:2022 video games 2 of 10 : 60\nCategory:2006 video games 3 of 10 : 876\n",
     "output_type": "stream"
    },
    {
     "output_type": "error",
     "ename": "KeyboardInterrupt",
     "evalue": "",
     "traceback": [
      "\u001b[0;31m---------------------------------------------------------------------------\u001b[0m",
      "\u001b[0;31mKeyboardInterrupt\u001b[0m                         Traceback (most recent call last)",
      "\u001b[0;32m<ipython-input-28-2f716ee5e879>\u001b[0m in \u001b[0;36m<module>\u001b[0;34m\u001b[0m\n\u001b[1;32m     10\u001b[0m \u001b[0mmvp_flag\u001b[0m \u001b[0;34m=\u001b[0m \u001b[0;32mTrue\u001b[0m\u001b[0;34m\u001b[0m\u001b[0;34m\u001b[0m\u001b[0m\n\u001b[1;32m     11\u001b[0m \u001b[0;34m\u001b[0m\u001b[0m\n\u001b[0;32m---> 12\u001b[0;31m \u001b[0mnlp_cat_phrase\u001b[0m\u001b[0;34m,\u001b[0m \u001b[0mwiki_cats\u001b[0m\u001b[0;34m,\u001b[0m \u001b[0minit_wiki_cats\u001b[0m\u001b[0;34m,\u001b[0m \u001b[0mwiki_term\u001b[0m \u001b[0;34m=\u001b[0m \u001b[0mget_category_from_search_term\u001b[0m\u001b[0;34m(\u001b[0m\u001b[0mterm\u001b[0m\u001b[0;34m,\u001b[0m \u001b[0mmvp_flag\u001b[0m\u001b[0;34m)\u001b[0m\u001b[0;34m\u001b[0m\u001b[0;34m\u001b[0m\u001b[0m\n\u001b[0m\u001b[1;32m     13\u001b[0m \u001b[0;31m# # # Try search for all categories that are cosine close to search category\u001b[0m\u001b[0;34m\u001b[0m\u001b[0;34m\u001b[0m\u001b[0;34m\u001b[0m\u001b[0m\n\u001b[1;32m     14\u001b[0m \u001b[0;34m\u001b[0m\u001b[0m\n",
      "\u001b[0;32m<ipython-input-17-d142bf46cd86>\u001b[0m in \u001b[0;36mget_category_from_search_term\u001b[0;34m(search_term, mvp_flag)\u001b[0m\n\u001b[1;32m     11\u001b[0m     \u001b[0mexpanded_year_wiki_cats\u001b[0m \u001b[0;34m=\u001b[0m \u001b[0mget_all_combined_wiki_cats\u001b[0m\u001b[0;34m(\u001b[0m\u001b[0mbest_wiki_cats\u001b[0m\u001b[0;34m)\u001b[0m\u001b[0;34m\u001b[0m\u001b[0;34m\u001b[0m\u001b[0m\n\u001b[1;32m     12\u001b[0m \u001b[0;34m\u001b[0m\u001b[0m\n\u001b[0;32m---> 13\u001b[0;31m     \u001b[0mmake_white_list_cat_content_files\u001b[0m\u001b[0;34m(\u001b[0m\u001b[0mexpanded_year_wiki_cats\u001b[0m\u001b[0;34m,\u001b[0m \u001b[0mfirst_wiki_term\u001b[0m\u001b[0;34m,\u001b[0m \u001b[0mmvp_flag\u001b[0m\u001b[0;34m)\u001b[0m\u001b[0;34m\u001b[0m\u001b[0;34m\u001b[0m\u001b[0m\n\u001b[0m\u001b[1;32m     14\u001b[0m \u001b[0;34m\u001b[0m\u001b[0m\n\u001b[1;32m     15\u001b[0m     \u001b[0;32mreturn\u001b[0m \u001b[0mnlp_category_phrase\u001b[0m\u001b[0;34m,\u001b[0m \u001b[0mexpanded_year_wiki_cats\u001b[0m\u001b[0;34m,\u001b[0m \u001b[0mbest_wiki_cats\u001b[0m\u001b[0;34m,\u001b[0m \u001b[0mfirst_wiki_term\u001b[0m\u001b[0;34m\u001b[0m\u001b[0;34m\u001b[0m\u001b[0m\n",
      "\u001b[0;32m<ipython-input-26-b7a020fe7a09>\u001b[0m in \u001b[0;36mmake_white_list_cat_content_files\u001b[0;34m(wiki_cats, wiki_term, mvp_flag)\u001b[0m\n\u001b[1;32m      1\u001b[0m \u001b[0;32mdef\u001b[0m \u001b[0mmake_white_list_cat_content_files\u001b[0m\u001b[0;34m(\u001b[0m\u001b[0mwiki_cats\u001b[0m\u001b[0;34m,\u001b[0m \u001b[0mwiki_term\u001b[0m\u001b[0;34m,\u001b[0m \u001b[0mmvp_flag\u001b[0m\u001b[0;34m)\u001b[0m\u001b[0;34m:\u001b[0m\u001b[0;34m\u001b[0m\u001b[0;34m\u001b[0m\u001b[0m\n\u001b[0;32m----> 2\u001b[0;31m     \u001b[0mmake_cat_content_dict_from_cats\u001b[0m\u001b[0;34m(\u001b[0m\u001b[0mwiki_cats\u001b[0m\u001b[0;34m,\u001b[0m \u001b[0mwiki_term\u001b[0m\u001b[0;34m,\u001b[0m \u001b[0mmvp_flag\u001b[0m\u001b[0;34m)\u001b[0m\u001b[0;34m\u001b[0m\u001b[0;34m\u001b[0m\u001b[0m\n\u001b[0m\u001b[1;32m      3\u001b[0m \u001b[0;34m\u001b[0m\u001b[0m\n\u001b[1;32m      4\u001b[0m     \u001b[0mwhite_list_dict\u001b[0m \u001b[0;34m=\u001b[0m \u001b[0mget_whitelist_dicts_by_cat\u001b[0m\u001b[0;34m(\u001b[0m\u001b[0mwiki_cats\u001b[0m\u001b[0;34m,\u001b[0m \u001b[0mwiki_term\u001b[0m\u001b[0;34m)\u001b[0m\u001b[0;34m\u001b[0m\u001b[0;34m\u001b[0m\u001b[0m\n\u001b[1;32m      5\u001b[0m     \u001b[0mwhite_list_dict\u001b[0m\u001b[0;34m\u001b[0m\u001b[0;34m\u001b[0m\u001b[0m\n",
      "\u001b[0;32m<ipython-input-22-21b6620e9d4d>\u001b[0m in \u001b[0;36mmake_cat_content_dict_from_cats\u001b[0;34m(wiki_cats, wiki_term, mvp_flag, max_num_wiki_articles_per_cat)\u001b[0m\n\u001b[1;32m     31\u001b[0m             \u001b[0;32mfor\u001b[0m \u001b[0mfilt_page\u001b[0m \u001b[0;32min\u001b[0m \u001b[0mlist_of_filt_pages\u001b[0m\u001b[0;34m:\u001b[0m\u001b[0;34m\u001b[0m\u001b[0;34m\u001b[0m\u001b[0m\n\u001b[1;32m     32\u001b[0m                 \u001b[0;32mtry\u001b[0m\u001b[0;34m:\u001b[0m\u001b[0;34m\u001b[0m\u001b[0;34m\u001b[0m\u001b[0m\n\u001b[0;32m---> 33\u001b[0;31m                     \u001b[0mpage_content_dict\u001b[0m\u001b[0;34m[\u001b[0m\u001b[0mfilt_page\u001b[0m\u001b[0;34m]\u001b[0m \u001b[0;34m=\u001b[0m \u001b[0mwikipedia\u001b[0m\u001b[0;34m.\u001b[0m\u001b[0mpage\u001b[0m\u001b[0;34m(\u001b[0m\u001b[0mfilt_page\u001b[0m\u001b[0;34m,\u001b[0m \u001b[0mauto_suggest\u001b[0m\u001b[0;34m=\u001b[0m\u001b[0;32mFalse\u001b[0m\u001b[0;34m)\u001b[0m\u001b[0;34m.\u001b[0m\u001b[0mcontent\u001b[0m\u001b[0;34m\u001b[0m\u001b[0;34m\u001b[0m\u001b[0m\n\u001b[0m\u001b[1;32m     34\u001b[0m                 \u001b[0;32mexcept\u001b[0m \u001b[0mwikipedia\u001b[0m\u001b[0;34m.\u001b[0m\u001b[0mDisambiguationError\u001b[0m\u001b[0;34m:\u001b[0m\u001b[0;34m\u001b[0m\u001b[0;34m\u001b[0m\u001b[0m\n\u001b[1;32m     35\u001b[0m                     \u001b[0mprint\u001b[0m\u001b[0;34m(\u001b[0m\u001b[0;34m\"Oops! DisambiguationError, trying next result\"\u001b[0m\u001b[0;34m)\u001b[0m\u001b[0;34m\u001b[0m\u001b[0;34m\u001b[0m\u001b[0m\n",
      "\u001b[0;32m~/venv/lib/python3.7/site-packages/wikipedia/wikipedia.py\u001b[0m in \u001b[0;36mpage\u001b[0;34m(title, pageid, auto_suggest, redirect, preload)\u001b[0m\n\u001b[1;32m    274\u001b[0m         \u001b[0;31m# if there is no suggestion or search results, the page doesn't exist\u001b[0m\u001b[0;34m\u001b[0m\u001b[0;34m\u001b[0m\u001b[0;34m\u001b[0m\u001b[0m\n\u001b[1;32m    275\u001b[0m         \u001b[0;32mraise\u001b[0m \u001b[0mPageError\u001b[0m\u001b[0;34m(\u001b[0m\u001b[0mtitle\u001b[0m\u001b[0;34m)\u001b[0m\u001b[0;34m\u001b[0m\u001b[0;34m\u001b[0m\u001b[0m\n\u001b[0;32m--> 276\u001b[0;31m     \u001b[0;32mreturn\u001b[0m \u001b[0mWikipediaPage\u001b[0m\u001b[0;34m(\u001b[0m\u001b[0mtitle\u001b[0m\u001b[0;34m,\u001b[0m \u001b[0mredirect\u001b[0m\u001b[0;34m=\u001b[0m\u001b[0mredirect\u001b[0m\u001b[0;34m,\u001b[0m \u001b[0mpreload\u001b[0m\u001b[0;34m=\u001b[0m\u001b[0mpreload\u001b[0m\u001b[0;34m)\u001b[0m\u001b[0;34m\u001b[0m\u001b[0;34m\u001b[0m\u001b[0m\n\u001b[0m\u001b[1;32m    277\u001b[0m   \u001b[0;32melif\u001b[0m \u001b[0mpageid\u001b[0m \u001b[0;32mis\u001b[0m \u001b[0;32mnot\u001b[0m \u001b[0;32mNone\u001b[0m\u001b[0;34m:\u001b[0m\u001b[0;34m\u001b[0m\u001b[0;34m\u001b[0m\u001b[0m\n\u001b[1;32m    278\u001b[0m     \u001b[0;32mreturn\u001b[0m \u001b[0mWikipediaPage\u001b[0m\u001b[0;34m(\u001b[0m\u001b[0mpageid\u001b[0m\u001b[0;34m=\u001b[0m\u001b[0mpageid\u001b[0m\u001b[0;34m,\u001b[0m \u001b[0mpreload\u001b[0m\u001b[0;34m=\u001b[0m\u001b[0mpreload\u001b[0m\u001b[0;34m)\u001b[0m\u001b[0;34m\u001b[0m\u001b[0;34m\u001b[0m\u001b[0m\n",
      "\u001b[0;32m~/venv/lib/python3.7/site-packages/wikipedia/wikipedia.py\u001b[0m in \u001b[0;36m__init__\u001b[0;34m(self, title, pageid, redirect, preload, original_title)\u001b[0m\n\u001b[1;32m    297\u001b[0m       \u001b[0;32mraise\u001b[0m \u001b[0mValueError\u001b[0m\u001b[0;34m(\u001b[0m\u001b[0;34m\"Either a title or a pageid must be specified\"\u001b[0m\u001b[0;34m)\u001b[0m\u001b[0;34m\u001b[0m\u001b[0;34m\u001b[0m\u001b[0m\n\u001b[1;32m    298\u001b[0m \u001b[0;34m\u001b[0m\u001b[0m\n\u001b[0;32m--> 299\u001b[0;31m     \u001b[0mself\u001b[0m\u001b[0;34m.\u001b[0m\u001b[0m__load\u001b[0m\u001b[0;34m(\u001b[0m\u001b[0mredirect\u001b[0m\u001b[0;34m=\u001b[0m\u001b[0mredirect\u001b[0m\u001b[0;34m,\u001b[0m \u001b[0mpreload\u001b[0m\u001b[0;34m=\u001b[0m\u001b[0mpreload\u001b[0m\u001b[0;34m)\u001b[0m\u001b[0;34m\u001b[0m\u001b[0;34m\u001b[0m\u001b[0m\n\u001b[0m\u001b[1;32m    300\u001b[0m \u001b[0;34m\u001b[0m\u001b[0m\n\u001b[1;32m    301\u001b[0m     \u001b[0;32mif\u001b[0m \u001b[0mpreload\u001b[0m\u001b[0;34m:\u001b[0m\u001b[0;34m\u001b[0m\u001b[0;34m\u001b[0m\u001b[0m\n",
      "\u001b[0;32m~/venv/lib/python3.7/site-packages/wikipedia/wikipedia.py\u001b[0m in \u001b[0;36m__load\u001b[0;34m(self, redirect, preload)\u001b[0m\n\u001b[1;32m    334\u001b[0m       \u001b[0mquery_params\u001b[0m\u001b[0;34m[\u001b[0m\u001b[0;34m'pageids'\u001b[0m\u001b[0;34m]\u001b[0m \u001b[0;34m=\u001b[0m \u001b[0mself\u001b[0m\u001b[0;34m.\u001b[0m\u001b[0mpageid\u001b[0m\u001b[0;34m\u001b[0m\u001b[0;34m\u001b[0m\u001b[0m\n\u001b[1;32m    335\u001b[0m \u001b[0;34m\u001b[0m\u001b[0m\n\u001b[0;32m--> 336\u001b[0;31m     \u001b[0mrequest\u001b[0m \u001b[0;34m=\u001b[0m \u001b[0m_wiki_request\u001b[0m\u001b[0;34m(\u001b[0m\u001b[0mquery_params\u001b[0m\u001b[0;34m)\u001b[0m\u001b[0;34m\u001b[0m\u001b[0;34m\u001b[0m\u001b[0m\n\u001b[0m\u001b[1;32m    337\u001b[0m \u001b[0;34m\u001b[0m\u001b[0m\n\u001b[1;32m    338\u001b[0m     \u001b[0mquery\u001b[0m \u001b[0;34m=\u001b[0m \u001b[0mrequest\u001b[0m\u001b[0;34m[\u001b[0m\u001b[0;34m'query'\u001b[0m\u001b[0;34m]\u001b[0m\u001b[0;34m\u001b[0m\u001b[0;34m\u001b[0m\u001b[0m\n",
      "\u001b[0;32m~/venv/lib/python3.7/site-packages/wikipedia/wikipedia.py\u001b[0m in \u001b[0;36m_wiki_request\u001b[0;34m(params)\u001b[0m\n\u001b[1;32m    735\u001b[0m     \u001b[0mtime\u001b[0m\u001b[0;34m.\u001b[0m\u001b[0msleep\u001b[0m\u001b[0;34m(\u001b[0m\u001b[0mint\u001b[0m\u001b[0;34m(\u001b[0m\u001b[0mwait_time\u001b[0m\u001b[0;34m.\u001b[0m\u001b[0mtotal_seconds\u001b[0m\u001b[0;34m(\u001b[0m\u001b[0;34m)\u001b[0m\u001b[0;34m)\u001b[0m\u001b[0;34m)\u001b[0m\u001b[0;34m\u001b[0m\u001b[0;34m\u001b[0m\u001b[0m\n\u001b[1;32m    736\u001b[0m \u001b[0;34m\u001b[0m\u001b[0m\n\u001b[0;32m--> 737\u001b[0;31m   \u001b[0mr\u001b[0m \u001b[0;34m=\u001b[0m \u001b[0mrequests\u001b[0m\u001b[0;34m.\u001b[0m\u001b[0mget\u001b[0m\u001b[0;34m(\u001b[0m\u001b[0mAPI_URL\u001b[0m\u001b[0;34m,\u001b[0m \u001b[0mparams\u001b[0m\u001b[0;34m=\u001b[0m\u001b[0mparams\u001b[0m\u001b[0;34m,\u001b[0m \u001b[0mheaders\u001b[0m\u001b[0;34m=\u001b[0m\u001b[0mheaders\u001b[0m\u001b[0;34m)\u001b[0m\u001b[0;34m\u001b[0m\u001b[0;34m\u001b[0m\u001b[0m\n\u001b[0m\u001b[1;32m    738\u001b[0m \u001b[0;34m\u001b[0m\u001b[0m\n\u001b[1;32m    739\u001b[0m   \u001b[0;32mif\u001b[0m \u001b[0mRATE_LIMIT\u001b[0m\u001b[0;34m:\u001b[0m\u001b[0;34m\u001b[0m\u001b[0;34m\u001b[0m\u001b[0m\n",
      "\u001b[0;32m/shared-libs/python3.7/py/lib/python3.7/site-packages/requests/api.py\u001b[0m in \u001b[0;36mget\u001b[0;34m(url, params, **kwargs)\u001b[0m\n\u001b[1;32m     73\u001b[0m     \"\"\"\n\u001b[1;32m     74\u001b[0m \u001b[0;34m\u001b[0m\u001b[0m\n\u001b[0;32m---> 75\u001b[0;31m     \u001b[0;32mreturn\u001b[0m \u001b[0mrequest\u001b[0m\u001b[0;34m(\u001b[0m\u001b[0;34m'get'\u001b[0m\u001b[0;34m,\u001b[0m \u001b[0murl\u001b[0m\u001b[0;34m,\u001b[0m \u001b[0mparams\u001b[0m\u001b[0;34m=\u001b[0m\u001b[0mparams\u001b[0m\u001b[0;34m,\u001b[0m \u001b[0;34m**\u001b[0m\u001b[0mkwargs\u001b[0m\u001b[0;34m)\u001b[0m\u001b[0;34m\u001b[0m\u001b[0;34m\u001b[0m\u001b[0m\n\u001b[0m\u001b[1;32m     76\u001b[0m \u001b[0;34m\u001b[0m\u001b[0m\n\u001b[1;32m     77\u001b[0m \u001b[0;34m\u001b[0m\u001b[0m\n",
      "\u001b[0;32m/shared-libs/python3.7/py/lib/python3.7/site-packages/requests/api.py\u001b[0m in \u001b[0;36mrequest\u001b[0;34m(method, url, **kwargs)\u001b[0m\n\u001b[1;32m     59\u001b[0m     \u001b[0;31m# cases, and look like a memory leak in others.\u001b[0m\u001b[0;34m\u001b[0m\u001b[0;34m\u001b[0m\u001b[0;34m\u001b[0m\u001b[0m\n\u001b[1;32m     60\u001b[0m     \u001b[0;32mwith\u001b[0m \u001b[0msessions\u001b[0m\u001b[0;34m.\u001b[0m\u001b[0mSession\u001b[0m\u001b[0;34m(\u001b[0m\u001b[0;34m)\u001b[0m \u001b[0;32mas\u001b[0m \u001b[0msession\u001b[0m\u001b[0;34m:\u001b[0m\u001b[0;34m\u001b[0m\u001b[0;34m\u001b[0m\u001b[0m\n\u001b[0;32m---> 61\u001b[0;31m         \u001b[0;32mreturn\u001b[0m \u001b[0msession\u001b[0m\u001b[0;34m.\u001b[0m\u001b[0mrequest\u001b[0m\u001b[0;34m(\u001b[0m\u001b[0mmethod\u001b[0m\u001b[0;34m=\u001b[0m\u001b[0mmethod\u001b[0m\u001b[0;34m,\u001b[0m \u001b[0murl\u001b[0m\u001b[0;34m=\u001b[0m\u001b[0murl\u001b[0m\u001b[0;34m,\u001b[0m \u001b[0;34m**\u001b[0m\u001b[0mkwargs\u001b[0m\u001b[0;34m)\u001b[0m\u001b[0;34m\u001b[0m\u001b[0;34m\u001b[0m\u001b[0m\n\u001b[0m\u001b[1;32m     62\u001b[0m \u001b[0;34m\u001b[0m\u001b[0m\n\u001b[1;32m     63\u001b[0m \u001b[0;34m\u001b[0m\u001b[0m\n",
      "\u001b[0;32m/shared-libs/python3.7/py/lib/python3.7/site-packages/requests/sessions.py\u001b[0m in \u001b[0;36mrequest\u001b[0;34m(self, method, url, params, data, headers, cookies, files, auth, timeout, allow_redirects, proxies, hooks, stream, verify, cert, json)\u001b[0m\n\u001b[1;32m    527\u001b[0m         }\n\u001b[1;32m    528\u001b[0m         \u001b[0msend_kwargs\u001b[0m\u001b[0;34m.\u001b[0m\u001b[0mupdate\u001b[0m\u001b[0;34m(\u001b[0m\u001b[0msettings\u001b[0m\u001b[0;34m)\u001b[0m\u001b[0;34m\u001b[0m\u001b[0;34m\u001b[0m\u001b[0m\n\u001b[0;32m--> 529\u001b[0;31m         \u001b[0mresp\u001b[0m \u001b[0;34m=\u001b[0m \u001b[0mself\u001b[0m\u001b[0;34m.\u001b[0m\u001b[0msend\u001b[0m\u001b[0;34m(\u001b[0m\u001b[0mprep\u001b[0m\u001b[0;34m,\u001b[0m \u001b[0;34m**\u001b[0m\u001b[0msend_kwargs\u001b[0m\u001b[0;34m)\u001b[0m\u001b[0;34m\u001b[0m\u001b[0;34m\u001b[0m\u001b[0m\n\u001b[0m\u001b[1;32m    530\u001b[0m \u001b[0;34m\u001b[0m\u001b[0m\n\u001b[1;32m    531\u001b[0m         \u001b[0;32mreturn\u001b[0m \u001b[0mresp\u001b[0m\u001b[0;34m\u001b[0m\u001b[0;34m\u001b[0m\u001b[0m\n",
      "\u001b[0;32m/shared-libs/python3.7/py/lib/python3.7/site-packages/requests/sessions.py\u001b[0m in \u001b[0;36msend\u001b[0;34m(self, request, **kwargs)\u001b[0m\n\u001b[1;32m    643\u001b[0m \u001b[0;34m\u001b[0m\u001b[0m\n\u001b[1;32m    644\u001b[0m         \u001b[0;31m# Send the request\u001b[0m\u001b[0;34m\u001b[0m\u001b[0;34m\u001b[0m\u001b[0;34m\u001b[0m\u001b[0m\n\u001b[0;32m--> 645\u001b[0;31m         \u001b[0mr\u001b[0m \u001b[0;34m=\u001b[0m \u001b[0madapter\u001b[0m\u001b[0;34m.\u001b[0m\u001b[0msend\u001b[0m\u001b[0;34m(\u001b[0m\u001b[0mrequest\u001b[0m\u001b[0;34m,\u001b[0m \u001b[0;34m**\u001b[0m\u001b[0mkwargs\u001b[0m\u001b[0;34m)\u001b[0m\u001b[0;34m\u001b[0m\u001b[0;34m\u001b[0m\u001b[0m\n\u001b[0m\u001b[1;32m    646\u001b[0m \u001b[0;34m\u001b[0m\u001b[0m\n\u001b[1;32m    647\u001b[0m         \u001b[0;31m# Total elapsed time of the request (approximately)\u001b[0m\u001b[0;34m\u001b[0m\u001b[0;34m\u001b[0m\u001b[0;34m\u001b[0m\u001b[0m\n",
      "\u001b[0;32m/shared-libs/python3.7/py/lib/python3.7/site-packages/requests/adapters.py\u001b[0m in \u001b[0;36msend\u001b[0;34m(self, request, stream, timeout, verify, cert, proxies)\u001b[0m\n\u001b[1;32m    448\u001b[0m                     \u001b[0mdecode_content\u001b[0m\u001b[0;34m=\u001b[0m\u001b[0;32mFalse\u001b[0m\u001b[0;34m,\u001b[0m\u001b[0;34m\u001b[0m\u001b[0;34m\u001b[0m\u001b[0m\n\u001b[1;32m    449\u001b[0m                     \u001b[0mretries\u001b[0m\u001b[0;34m=\u001b[0m\u001b[0mself\u001b[0m\u001b[0;34m.\u001b[0m\u001b[0mmax_retries\u001b[0m\u001b[0;34m,\u001b[0m\u001b[0;34m\u001b[0m\u001b[0;34m\u001b[0m\u001b[0m\n\u001b[0;32m--> 450\u001b[0;31m                     \u001b[0mtimeout\u001b[0m\u001b[0;34m=\u001b[0m\u001b[0mtimeout\u001b[0m\u001b[0;34m\u001b[0m\u001b[0;34m\u001b[0m\u001b[0m\n\u001b[0m\u001b[1;32m    451\u001b[0m                 )\n\u001b[1;32m    452\u001b[0m \u001b[0;34m\u001b[0m\u001b[0m\n",
      "\u001b[0;32m/shared-libs/python3.7/py/lib/python3.7/site-packages/urllib3/connectionpool.py\u001b[0m in \u001b[0;36murlopen\u001b[0;34m(self, method, url, body, headers, retries, redirect, assert_same_host, timeout, pool_timeout, release_conn, chunked, body_pos, **response_kw)\u001b[0m\n\u001b[1;32m    708\u001b[0m                 \u001b[0mbody\u001b[0m\u001b[0;34m=\u001b[0m\u001b[0mbody\u001b[0m\u001b[0;34m,\u001b[0m\u001b[0;34m\u001b[0m\u001b[0;34m\u001b[0m\u001b[0m\n\u001b[1;32m    709\u001b[0m                 \u001b[0mheaders\u001b[0m\u001b[0;34m=\u001b[0m\u001b[0mheaders\u001b[0m\u001b[0;34m,\u001b[0m\u001b[0;34m\u001b[0m\u001b[0;34m\u001b[0m\u001b[0m\n\u001b[0;32m--> 710\u001b[0;31m                 \u001b[0mchunked\u001b[0m\u001b[0;34m=\u001b[0m\u001b[0mchunked\u001b[0m\u001b[0;34m,\u001b[0m\u001b[0;34m\u001b[0m\u001b[0;34m\u001b[0m\u001b[0m\n\u001b[0m\u001b[1;32m    711\u001b[0m             )\n\u001b[1;32m    712\u001b[0m \u001b[0;34m\u001b[0m\u001b[0m\n",
      "\u001b[0;32m/shared-libs/python3.7/py/lib/python3.7/site-packages/urllib3/connectionpool.py\u001b[0m in \u001b[0;36m_make_request\u001b[0;34m(self, conn, method, url, timeout, chunked, **httplib_request_kw)\u001b[0m\n\u001b[1;32m    396\u001b[0m                 \u001b[0mconn\u001b[0m\u001b[0;34m.\u001b[0m\u001b[0mrequest_chunked\u001b[0m\u001b[0;34m(\u001b[0m\u001b[0mmethod\u001b[0m\u001b[0;34m,\u001b[0m \u001b[0murl\u001b[0m\u001b[0;34m,\u001b[0m \u001b[0;34m**\u001b[0m\u001b[0mhttplib_request_kw\u001b[0m\u001b[0;34m)\u001b[0m\u001b[0;34m\u001b[0m\u001b[0;34m\u001b[0m\u001b[0m\n\u001b[1;32m    397\u001b[0m             \u001b[0;32melse\u001b[0m\u001b[0;34m:\u001b[0m\u001b[0;34m\u001b[0m\u001b[0;34m\u001b[0m\u001b[0m\n\u001b[0;32m--> 398\u001b[0;31m                 \u001b[0mconn\u001b[0m\u001b[0;34m.\u001b[0m\u001b[0mrequest\u001b[0m\u001b[0;34m(\u001b[0m\u001b[0mmethod\u001b[0m\u001b[0;34m,\u001b[0m \u001b[0murl\u001b[0m\u001b[0;34m,\u001b[0m \u001b[0;34m**\u001b[0m\u001b[0mhttplib_request_kw\u001b[0m\u001b[0;34m)\u001b[0m\u001b[0;34m\u001b[0m\u001b[0;34m\u001b[0m\u001b[0m\n\u001b[0m\u001b[1;32m    399\u001b[0m \u001b[0;34m\u001b[0m\u001b[0m\n\u001b[1;32m    400\u001b[0m         \u001b[0;31m# We are swallowing BrokenPipeError (errno.EPIPE) since the server is\u001b[0m\u001b[0;34m\u001b[0m\u001b[0;34m\u001b[0m\u001b[0;34m\u001b[0m\u001b[0m\n",
      "\u001b[0;32m/shared-libs/python3.7/py/lib/python3.7/site-packages/urllib3/connection.py\u001b[0m in \u001b[0;36mrequest\u001b[0;34m(self, method, url, body, headers)\u001b[0m\n\u001b[1;32m    237\u001b[0m         \u001b[0;32mif\u001b[0m \u001b[0;34m\"user-agent\"\u001b[0m \u001b[0;32mnot\u001b[0m \u001b[0;32min\u001b[0m \u001b[0;34m(\u001b[0m\u001b[0msix\u001b[0m\u001b[0;34m.\u001b[0m\u001b[0mensure_str\u001b[0m\u001b[0;34m(\u001b[0m\u001b[0mk\u001b[0m\u001b[0;34m.\u001b[0m\u001b[0mlower\u001b[0m\u001b[0;34m(\u001b[0m\u001b[0;34m)\u001b[0m\u001b[0;34m)\u001b[0m \u001b[0;32mfor\u001b[0m \u001b[0mk\u001b[0m \u001b[0;32min\u001b[0m \u001b[0mheaders\u001b[0m\u001b[0;34m)\u001b[0m\u001b[0;34m:\u001b[0m\u001b[0;34m\u001b[0m\u001b[0;34m\u001b[0m\u001b[0m\n\u001b[1;32m    238\u001b[0m             \u001b[0mheaders\u001b[0m\u001b[0;34m[\u001b[0m\u001b[0;34m\"User-Agent\"\u001b[0m\u001b[0;34m]\u001b[0m \u001b[0;34m=\u001b[0m \u001b[0m_get_default_user_agent\u001b[0m\u001b[0;34m(\u001b[0m\u001b[0;34m)\u001b[0m\u001b[0;34m\u001b[0m\u001b[0;34m\u001b[0m\u001b[0m\n\u001b[0;32m--> 239\u001b[0;31m         \u001b[0msuper\u001b[0m\u001b[0;34m(\u001b[0m\u001b[0mHTTPConnection\u001b[0m\u001b[0;34m,\u001b[0m \u001b[0mself\u001b[0m\u001b[0;34m)\u001b[0m\u001b[0;34m.\u001b[0m\u001b[0mrequest\u001b[0m\u001b[0;34m(\u001b[0m\u001b[0mmethod\u001b[0m\u001b[0;34m,\u001b[0m \u001b[0murl\u001b[0m\u001b[0;34m,\u001b[0m \u001b[0mbody\u001b[0m\u001b[0;34m=\u001b[0m\u001b[0mbody\u001b[0m\u001b[0;34m,\u001b[0m \u001b[0mheaders\u001b[0m\u001b[0;34m=\u001b[0m\u001b[0mheaders\u001b[0m\u001b[0;34m)\u001b[0m\u001b[0;34m\u001b[0m\u001b[0;34m\u001b[0m\u001b[0m\n\u001b[0m\u001b[1;32m    240\u001b[0m \u001b[0;34m\u001b[0m\u001b[0m\n\u001b[1;32m    241\u001b[0m     \u001b[0;32mdef\u001b[0m \u001b[0mrequest_chunked\u001b[0m\u001b[0;34m(\u001b[0m\u001b[0mself\u001b[0m\u001b[0;34m,\u001b[0m \u001b[0mmethod\u001b[0m\u001b[0;34m,\u001b[0m \u001b[0murl\u001b[0m\u001b[0;34m,\u001b[0m \u001b[0mbody\u001b[0m\u001b[0;34m=\u001b[0m\u001b[0;32mNone\u001b[0m\u001b[0;34m,\u001b[0m \u001b[0mheaders\u001b[0m\u001b[0;34m=\u001b[0m\u001b[0;32mNone\u001b[0m\u001b[0;34m)\u001b[0m\u001b[0;34m:\u001b[0m\u001b[0;34m\u001b[0m\u001b[0;34m\u001b[0m\u001b[0m\n",
      "\u001b[0;32m/usr/local/lib/python3.7/http/client.py\u001b[0m in \u001b[0;36mrequest\u001b[0;34m(self, method, url, body, headers, encode_chunked)\u001b[0m\n\u001b[1;32m   1279\u001b[0m                 encode_chunked=False):\n\u001b[1;32m   1280\u001b[0m         \u001b[0;34m\"\"\"Send a complete request to the server.\"\"\"\u001b[0m\u001b[0;34m\u001b[0m\u001b[0;34m\u001b[0m\u001b[0m\n\u001b[0;32m-> 1281\u001b[0;31m         \u001b[0mself\u001b[0m\u001b[0;34m.\u001b[0m\u001b[0m_send_request\u001b[0m\u001b[0;34m(\u001b[0m\u001b[0mmethod\u001b[0m\u001b[0;34m,\u001b[0m \u001b[0murl\u001b[0m\u001b[0;34m,\u001b[0m \u001b[0mbody\u001b[0m\u001b[0;34m,\u001b[0m \u001b[0mheaders\u001b[0m\u001b[0;34m,\u001b[0m \u001b[0mencode_chunked\u001b[0m\u001b[0;34m)\u001b[0m\u001b[0;34m\u001b[0m\u001b[0;34m\u001b[0m\u001b[0m\n\u001b[0m\u001b[1;32m   1282\u001b[0m \u001b[0;34m\u001b[0m\u001b[0m\n\u001b[1;32m   1283\u001b[0m     \u001b[0;32mdef\u001b[0m \u001b[0m_send_request\u001b[0m\u001b[0;34m(\u001b[0m\u001b[0mself\u001b[0m\u001b[0;34m,\u001b[0m \u001b[0mmethod\u001b[0m\u001b[0;34m,\u001b[0m \u001b[0murl\u001b[0m\u001b[0;34m,\u001b[0m \u001b[0mbody\u001b[0m\u001b[0;34m,\u001b[0m \u001b[0mheaders\u001b[0m\u001b[0;34m,\u001b[0m \u001b[0mencode_chunked\u001b[0m\u001b[0;34m)\u001b[0m\u001b[0;34m:\u001b[0m\u001b[0;34m\u001b[0m\u001b[0;34m\u001b[0m\u001b[0m\n",
      "\u001b[0;32m/usr/local/lib/python3.7/http/client.py\u001b[0m in \u001b[0;36m_send_request\u001b[0;34m(self, method, url, body, headers, encode_chunked)\u001b[0m\n\u001b[1;32m   1325\u001b[0m             \u001b[0;31m# default charset of iso-8859-1.\u001b[0m\u001b[0;34m\u001b[0m\u001b[0;34m\u001b[0m\u001b[0;34m\u001b[0m\u001b[0m\n\u001b[1;32m   1326\u001b[0m             \u001b[0mbody\u001b[0m \u001b[0;34m=\u001b[0m \u001b[0m_encode\u001b[0m\u001b[0;34m(\u001b[0m\u001b[0mbody\u001b[0m\u001b[0;34m,\u001b[0m \u001b[0;34m'body'\u001b[0m\u001b[0;34m)\u001b[0m\u001b[0;34m\u001b[0m\u001b[0;34m\u001b[0m\u001b[0m\n\u001b[0;32m-> 1327\u001b[0;31m         \u001b[0mself\u001b[0m\u001b[0;34m.\u001b[0m\u001b[0mendheaders\u001b[0m\u001b[0;34m(\u001b[0m\u001b[0mbody\u001b[0m\u001b[0;34m,\u001b[0m \u001b[0mencode_chunked\u001b[0m\u001b[0;34m=\u001b[0m\u001b[0mencode_chunked\u001b[0m\u001b[0;34m)\u001b[0m\u001b[0;34m\u001b[0m\u001b[0;34m\u001b[0m\u001b[0m\n\u001b[0m\u001b[1;32m   1328\u001b[0m \u001b[0;34m\u001b[0m\u001b[0m\n\u001b[1;32m   1329\u001b[0m     \u001b[0;32mdef\u001b[0m \u001b[0mgetresponse\u001b[0m\u001b[0;34m(\u001b[0m\u001b[0mself\u001b[0m\u001b[0;34m)\u001b[0m\u001b[0;34m:\u001b[0m\u001b[0;34m\u001b[0m\u001b[0;34m\u001b[0m\u001b[0m\n",
      "\u001b[0;32m/usr/local/lib/python3.7/http/client.py\u001b[0m in \u001b[0;36mendheaders\u001b[0;34m(self, message_body, encode_chunked)\u001b[0m\n\u001b[1;32m   1274\u001b[0m         \u001b[0;32melse\u001b[0m\u001b[0;34m:\u001b[0m\u001b[0;34m\u001b[0m\u001b[0;34m\u001b[0m\u001b[0m\n\u001b[1;32m   1275\u001b[0m             \u001b[0;32mraise\u001b[0m \u001b[0mCannotSendHeader\u001b[0m\u001b[0;34m(\u001b[0m\u001b[0;34m)\u001b[0m\u001b[0;34m\u001b[0m\u001b[0;34m\u001b[0m\u001b[0m\n\u001b[0;32m-> 1276\u001b[0;31m         \u001b[0mself\u001b[0m\u001b[0;34m.\u001b[0m\u001b[0m_send_output\u001b[0m\u001b[0;34m(\u001b[0m\u001b[0mmessage_body\u001b[0m\u001b[0;34m,\u001b[0m \u001b[0mencode_chunked\u001b[0m\u001b[0;34m=\u001b[0m\u001b[0mencode_chunked\u001b[0m\u001b[0;34m)\u001b[0m\u001b[0;34m\u001b[0m\u001b[0;34m\u001b[0m\u001b[0m\n\u001b[0m\u001b[1;32m   1277\u001b[0m \u001b[0;34m\u001b[0m\u001b[0m\n\u001b[1;32m   1278\u001b[0m     def request(self, method, url, body=None, headers={}, *,\n",
      "\u001b[0;32m/usr/local/lib/python3.7/http/client.py\u001b[0m in \u001b[0;36m_send_output\u001b[0;34m(self, message_body, encode_chunked)\u001b[0m\n\u001b[1;32m   1034\u001b[0m         \u001b[0mmsg\u001b[0m \u001b[0;34m=\u001b[0m \u001b[0;34mb\"\\r\\n\"\u001b[0m\u001b[0;34m.\u001b[0m\u001b[0mjoin\u001b[0m\u001b[0;34m(\u001b[0m\u001b[0mself\u001b[0m\u001b[0;34m.\u001b[0m\u001b[0m_buffer\u001b[0m\u001b[0;34m)\u001b[0m\u001b[0;34m\u001b[0m\u001b[0;34m\u001b[0m\u001b[0m\n\u001b[1;32m   1035\u001b[0m         \u001b[0;32mdel\u001b[0m \u001b[0mself\u001b[0m\u001b[0;34m.\u001b[0m\u001b[0m_buffer\u001b[0m\u001b[0;34m[\u001b[0m\u001b[0;34m:\u001b[0m\u001b[0;34m]\u001b[0m\u001b[0;34m\u001b[0m\u001b[0;34m\u001b[0m\u001b[0m\n\u001b[0;32m-> 1036\u001b[0;31m         \u001b[0mself\u001b[0m\u001b[0;34m.\u001b[0m\u001b[0msend\u001b[0m\u001b[0;34m(\u001b[0m\u001b[0mmsg\u001b[0m\u001b[0;34m)\u001b[0m\u001b[0;34m\u001b[0m\u001b[0;34m\u001b[0m\u001b[0m\n\u001b[0m\u001b[1;32m   1037\u001b[0m \u001b[0;34m\u001b[0m\u001b[0m\n\u001b[1;32m   1038\u001b[0m         \u001b[0;32mif\u001b[0m \u001b[0mmessage_body\u001b[0m \u001b[0;32mis\u001b[0m \u001b[0;32mnot\u001b[0m \u001b[0;32mNone\u001b[0m\u001b[0;34m:\u001b[0m\u001b[0;34m\u001b[0m\u001b[0;34m\u001b[0m\u001b[0m\n",
      "\u001b[0;32m/usr/local/lib/python3.7/http/client.py\u001b[0m in \u001b[0;36msend\u001b[0;34m(self, data)\u001b[0m\n\u001b[1;32m    974\u001b[0m         \u001b[0;32mif\u001b[0m \u001b[0mself\u001b[0m\u001b[0;34m.\u001b[0m\u001b[0msock\u001b[0m \u001b[0;32mis\u001b[0m \u001b[0;32mNone\u001b[0m\u001b[0;34m:\u001b[0m\u001b[0;34m\u001b[0m\u001b[0;34m\u001b[0m\u001b[0m\n\u001b[1;32m    975\u001b[0m             \u001b[0;32mif\u001b[0m \u001b[0mself\u001b[0m\u001b[0;34m.\u001b[0m\u001b[0mauto_open\u001b[0m\u001b[0;34m:\u001b[0m\u001b[0;34m\u001b[0m\u001b[0;34m\u001b[0m\u001b[0m\n\u001b[0;32m--> 976\u001b[0;31m                 \u001b[0mself\u001b[0m\u001b[0;34m.\u001b[0m\u001b[0mconnect\u001b[0m\u001b[0;34m(\u001b[0m\u001b[0;34m)\u001b[0m\u001b[0;34m\u001b[0m\u001b[0;34m\u001b[0m\u001b[0m\n\u001b[0m\u001b[1;32m    977\u001b[0m             \u001b[0;32melse\u001b[0m\u001b[0;34m:\u001b[0m\u001b[0;34m\u001b[0m\u001b[0;34m\u001b[0m\u001b[0m\n\u001b[1;32m    978\u001b[0m                 \u001b[0;32mraise\u001b[0m \u001b[0mNotConnected\u001b[0m\u001b[0;34m(\u001b[0m\u001b[0;34m)\u001b[0m\u001b[0;34m\u001b[0m\u001b[0;34m\u001b[0m\u001b[0m\n",
      "\u001b[0;32m/shared-libs/python3.7/py/lib/python3.7/site-packages/urllib3/connection.py\u001b[0m in \u001b[0;36mconnect\u001b[0;34m(self)\u001b[0m\n\u001b[1;32m    203\u001b[0m \u001b[0;34m\u001b[0m\u001b[0m\n\u001b[1;32m    204\u001b[0m     \u001b[0;32mdef\u001b[0m \u001b[0mconnect\u001b[0m\u001b[0;34m(\u001b[0m\u001b[0mself\u001b[0m\u001b[0;34m)\u001b[0m\u001b[0;34m:\u001b[0m\u001b[0;34m\u001b[0m\u001b[0;34m\u001b[0m\u001b[0m\n\u001b[0;32m--> 205\u001b[0;31m         \u001b[0mconn\u001b[0m \u001b[0;34m=\u001b[0m \u001b[0mself\u001b[0m\u001b[0;34m.\u001b[0m\u001b[0m_new_conn\u001b[0m\u001b[0;34m(\u001b[0m\u001b[0;34m)\u001b[0m\u001b[0;34m\u001b[0m\u001b[0;34m\u001b[0m\u001b[0m\n\u001b[0m\u001b[1;32m    206\u001b[0m         \u001b[0mself\u001b[0m\u001b[0;34m.\u001b[0m\u001b[0m_prepare_conn\u001b[0m\u001b[0;34m(\u001b[0m\u001b[0mconn\u001b[0m\u001b[0;34m)\u001b[0m\u001b[0;34m\u001b[0m\u001b[0;34m\u001b[0m\u001b[0m\n\u001b[1;32m    207\u001b[0m \u001b[0;34m\u001b[0m\u001b[0m\n",
      "\u001b[0;32m/shared-libs/python3.7/py/lib/python3.7/site-packages/urllib3/connection.py\u001b[0m in \u001b[0;36m_new_conn\u001b[0;34m(self)\u001b[0m\n\u001b[1;32m    173\u001b[0m         \u001b[0;32mtry\u001b[0m\u001b[0;34m:\u001b[0m\u001b[0;34m\u001b[0m\u001b[0;34m\u001b[0m\u001b[0m\n\u001b[1;32m    174\u001b[0m             conn = connection.create_connection(\n\u001b[0;32m--> 175\u001b[0;31m                 \u001b[0;34m(\u001b[0m\u001b[0mself\u001b[0m\u001b[0;34m.\u001b[0m\u001b[0m_dns_host\u001b[0m\u001b[0;34m,\u001b[0m \u001b[0mself\u001b[0m\u001b[0;34m.\u001b[0m\u001b[0mport\u001b[0m\u001b[0;34m)\u001b[0m\u001b[0;34m,\u001b[0m \u001b[0mself\u001b[0m\u001b[0;34m.\u001b[0m\u001b[0mtimeout\u001b[0m\u001b[0;34m,\u001b[0m \u001b[0;34m**\u001b[0m\u001b[0mextra_kw\u001b[0m\u001b[0;34m\u001b[0m\u001b[0;34m\u001b[0m\u001b[0m\n\u001b[0m\u001b[1;32m    176\u001b[0m             )\n\u001b[1;32m    177\u001b[0m \u001b[0;34m\u001b[0m\u001b[0m\n",
      "\u001b[0;32m/shared-libs/python3.7/py/lib/python3.7/site-packages/urllib3/util/connection.py\u001b[0m in \u001b[0;36mcreate_connection\u001b[0;34m(address, timeout, source_address, socket_options)\u001b[0m\n\u001b[1;32m     83\u001b[0m             \u001b[0;32mif\u001b[0m \u001b[0msource_address\u001b[0m\u001b[0;34m:\u001b[0m\u001b[0;34m\u001b[0m\u001b[0;34m\u001b[0m\u001b[0m\n\u001b[1;32m     84\u001b[0m                 \u001b[0msock\u001b[0m\u001b[0;34m.\u001b[0m\u001b[0mbind\u001b[0m\u001b[0;34m(\u001b[0m\u001b[0msource_address\u001b[0m\u001b[0;34m)\u001b[0m\u001b[0;34m\u001b[0m\u001b[0;34m\u001b[0m\u001b[0m\n\u001b[0;32m---> 85\u001b[0;31m             \u001b[0msock\u001b[0m\u001b[0;34m.\u001b[0m\u001b[0mconnect\u001b[0m\u001b[0;34m(\u001b[0m\u001b[0msa\u001b[0m\u001b[0;34m)\u001b[0m\u001b[0;34m\u001b[0m\u001b[0;34m\u001b[0m\u001b[0m\n\u001b[0m\u001b[1;32m     86\u001b[0m             \u001b[0;32mreturn\u001b[0m \u001b[0msock\u001b[0m\u001b[0;34m\u001b[0m\u001b[0;34m\u001b[0m\u001b[0m\n\u001b[1;32m     87\u001b[0m \u001b[0;34m\u001b[0m\u001b[0m\n",
      "\u001b[0;31mKeyboardInterrupt\u001b[0m: "
     ]
    }
   ]
  },
  {
   "cell_type": "code",
   "metadata": {
    "cell_id": "686bea5b231640a9bad70dd351059bd4",
    "tags": [],
    "deepnote_to_be_reexecuted": true,
    "source_hash": "9294afce",
    "execution_start": 1650577226062,
    "execution_millis": 51,
    "deepnote_cell_type": "code",
    "deepnote_cell_height": 117
   },
   "source": "# for term in test_terms:\n#     first_wiki_term, wiki_page = get_first_unambiguous_wiki_term_and_page(term)\n#     print(term, ':', first_wiki_term, ':', get_nlp_category_phrase(wiki_page))",
   "execution_count": null,
   "outputs": []
  },
  {
   "cell_type": "code",
   "metadata": {
    "cell_id": "e8dc11e71c34452fb9367d4499281662",
    "tags": [],
    "deepnote_to_be_reexecuted": true,
    "source_hash": "8c12abcd",
    "execution_start": 1650577226116,
    "execution_millis": 49,
    "deepnote_cell_type": "code",
    "deepnote_cell_height": 99
   },
   "source": "# expanded_wiki_cats = \n# print(wiki_cats)",
   "execution_count": null,
   "outputs": []
  },
  {
   "cell_type": "code",
   "metadata": {
    "cell_id": "01951f9cdd56477abe7ef2de1f899326",
    "tags": [],
    "deepnote_to_be_reexecuted": true,
    "source_hash": "356eaf3f",
    "execution_start": 1650577226212,
    "execution_millis": 44,
    "deepnote_cell_type": "code",
    "deepnote_cell_height": 81
   },
   "source": "##expand_years_in_cats_to_modern(wiki_cats)",
   "execution_count": null,
   "outputs": []
  },
  {
   "cell_type": "code",
   "metadata": {
    "cell_id": "48311d4657b641b28a00b71e6cd089c2",
    "tags": [],
    "deepnote_to_be_reexecuted": true,
    "source_hash": "b5aa4f56",
    "execution_start": 1650577226257,
    "execution_millis": 425,
    "deepnote_cell_type": "code",
    "deepnote_cell_height": 222.375
   },
   "source": "#%%time\n\n\n\n\n",
   "execution_count": null,
   "outputs": [
    {
     "name": "stdout",
     "text": "CPU times: user 4 µs, sys: 0 ns, total: 4 µs\nWall time: 8.11 µs\n",
     "output_type": "stream"
    }
   ]
  },
  {
   "cell_type": "code",
   "metadata": {
    "cell_id": "6094baef766a487b9262b8e4f7792821",
    "tags": [],
    "deepnote_to_be_reexecuted": true,
    "source_hash": "cb4ea6e1",
    "execution_start": 1650577226306,
    "execution_millis": 38,
    "deepnote_cell_type": "code",
    "deepnote_cell_height": 99
   },
   "source": "# for k,v in page_cat_content_dict.items():\n#     print(k, len(v))",
   "execution_count": null,
   "outputs": []
  },
  {
   "cell_type": "code",
   "metadata": {
    "cell_id": "a866d8ab593844b68118e482eb604d6a",
    "tags": [],
    "deepnote_to_be_reexecuted": true,
    "source_hash": "77f66f77",
    "execution_start": 1650577226345,
    "execution_millis": 46,
    "deepnote_cell_type": "code",
    "deepnote_cell_height": 81
   },
   "source": "#wiki_cats",
   "execution_count": null,
   "outputs": []
  },
  {
   "cell_type": "code",
   "metadata": {
    "cell_id": "48e9de0c51214766acb9dd0d01b96295",
    "tags": [],
    "deepnote_to_be_reexecuted": true,
    "source_hash": "b31fd813",
    "execution_start": 1650577226436,
    "execution_millis": 16931472,
    "deepnote_cell_type": "code",
    "deepnote_cell_height": 99
   },
   "source": "\n",
   "execution_count": null,
   "outputs": []
  },
  {
   "cell_type": "code",
   "metadata": {
    "cell_id": "790cf476a4c94d7d908965f86167d627",
    "tags": [],
    "deepnote_to_be_reexecuted": true,
    "source_hash": "681f4679",
    "execution_start": 1650577226437,
    "execution_millis": 44,
    "deepnote_cell_type": "code",
    "deepnote_cell_height": 81
   },
   "source": "#white_list_dict.keys()",
   "execution_count": null,
   "outputs": []
  },
  {
   "cell_type": "code",
   "metadata": {
    "cell_id": "a20242ab9c734fd78c97cc1f9b330180",
    "tags": [],
    "deepnote_to_be_reexecuted": true,
    "source_hash": "b623e53d",
    "execution_start": 1650577226481,
    "execution_millis": 0,
    "deepnote_cell_type": "code",
    "deepnote_cell_height": 81
   },
   "source": "",
   "execution_count": null,
   "outputs": []
  },
  {
   "cell_type": "code",
   "metadata": {
    "cell_id": "ae299f11-76fe-443e-94af-94fedcbe782e",
    "tags": [],
    "deepnote_to_be_reexecuted": true,
    "source_hash": "9c1555b4",
    "execution_start": 1650577226482,
    "execution_millis": 42,
    "deepnote_cell_type": "code",
    "deepnote_cell_height": 99
   },
   "source": "# with open('./output_step1/wiki_100summaries_' + wiki_term.replace(' ', '') + '.pickle', 'wb') as handle:\n#     pickle.dump(page_summary_dict, handle, protocol=pickle.HIGHEST_PROTOCOL)",
   "execution_count": null,
   "outputs": []
  },
  {
   "cell_type": "code",
   "metadata": {
    "cell_id": "1370b674-a678-455f-9a73-805949b4cd88",
    "tags": [],
    "deepnote_to_be_reexecuted": true,
    "source_hash": "b623e53d",
    "execution_start": 1650577226525,
    "execution_millis": 1,
    "deepnote_cell_type": "code",
    "deepnote_cell_height": 81
   },
   "source": "",
   "execution_count": null,
   "outputs": []
  },
  {
   "cell_type": "code",
   "metadata": {
    "cell_id": "8eda2ea9-9ace-4be2-8098-a66d83257e8e",
    "tags": [],
    "deepnote_to_be_reexecuted": true,
    "source_hash": "9b9dbcce",
    "execution_start": 1650577226526,
    "execution_millis": 54,
    "deepnote_cell_type": "code",
    "deepnote_cell_height": 153
   },
   "source": "# test_model = model.encode(['catan', 'wingspan', 'Bananagrams', 'missle'])\n\n# cos_test = util.pytorch_cos_sim(test_model, test_model)[0].numpy()\n# print(cos_test)\n# #rem_idx = np.where(cos_remove > .7)[0]",
   "execution_count": null,
   "outputs": []
  },
  {
   "cell_type": "code",
   "metadata": {
    "cell_id": "fb254207-ec77-41f1-9e37-65616c87bd3e",
    "tags": [],
    "deepnote_to_be_reexecuted": true,
    "source_hash": "eea86363",
    "execution_start": 1650577226624,
    "execution_millis": 46,
    "deepnote_cell_type": "code",
    "deepnote_cell_height": 117
   },
   "source": "# # attempt at searching for more categories, if what we found above isn't enough\n# search_results = wikipedia.search('Category:dietary therapy', results=100, suggestion=False)\n# print(search_results)",
   "execution_count": null,
   "outputs": []
  },
  {
   "cell_type": "code",
   "metadata": {
    "cell_id": "8defb22e-7e7f-49dd-9cc3-3c6d9bd59280",
    "tags": [],
    "deepnote_to_be_reexecuted": true,
    "source_hash": "36b441b2",
    "execution_start": 1650577226671,
    "execution_millis": 46,
    "deepnote_cell_type": "code",
    "deepnote_cell_height": 81
   },
   "source": "# wikipedia.page('List of board games', auto_suggest=False).summary",
   "execution_count": null,
   "outputs": []
  },
  {
   "cell_type": "code",
   "metadata": {
    "cell_id": "6de77bd0-d457-44fe-a236-93a471448d74",
    "tags": [],
    "deepnote_to_be_reexecuted": true,
    "source_hash": "bbc4525",
    "execution_start": 1650577226718,
    "execution_millis": 43,
    "deepnote_cell_type": "code",
    "deepnote_cell_height": 369
   },
   "source": "\n\n# site = pw.Site(\"en\", \"wikipedia\")\n# print([\n#     cat.title()\n#     for cat in pw.Page(site, 'support-vector machine').categories()\n#     if 'hidden' not in cat.categoryinfo\n# ])\n\n# p = pw.Page(site, 'support-vector machine')\n# list(p.categories())\n\n# for cat in p.categories():\n#     print(cat)\n#     print(cat.categoryinfo)\n#     print()\n",
   "execution_count": null,
   "outputs": []
  },
  {
   "cell_type": "code",
   "metadata": {
    "cell_id": "7c8c1d84-5076-400b-a753-408e8bacf748",
    "tags": [],
    "deepnote_to_be_reexecuted": true,
    "source_hash": "b623e53d",
    "execution_start": 1650577226762,
    "execution_millis": 1,
    "deepnote_cell_type": "code",
    "deepnote_cell_height": 81
   },
   "source": "",
   "execution_count": null,
   "outputs": []
  },
  {
   "cell_type": "markdown",
   "source": "<a style='text-decoration:none;line-height:16px;display:flex;color:#5B5B62;padding:10px;justify-content:end;' href='https://deepnote.com?utm_source=created-in-deepnote-cell&projectId=90b052a7-f47d-474e-888f-9345355cfd9a' target=\"_blank\">\n<img alt='Created in deepnote.com' style='display:inline;max-height:16px;margin:0px;margin-right:7.5px;' src='data:image/svg+xml;base64,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' > </img>\nCreated in <span style='font-weight:600;margin-left:4px;'>Deepnote</span></a>",
   "metadata": {
    "tags": [],
    "created_in_deepnote_cell": true,
    "deepnote_cell_type": "markdown"
   }
  }
 ],
 "nbformat": 4,
 "nbformat_minor": 2,
 "metadata": {
  "orig_nbformat": 2,
  "deepnote": {
   "is_reactive": false
  },
  "deepnote_notebook_id": "66542857-f646-490d-b341-dadf1760bc19",
  "deepnote_execution_queue": []
 }
}